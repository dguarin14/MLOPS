{
 "cells": [
  {
   "cell_type": "code",
   "execution_count": 6,
   "id": "83ae2a01-29da-423b-8b20-50bf95289e46",
   "metadata": {},
   "outputs": [],
   "source": [
    "import mlflow\n",
    "\n",
    "from sklearn.model_selection import train_test_split\n",
    "from sklearn.datasets import load_wine\n",
    "from sklearn.ensemble import RandomForestRegressor\n",
    "from sklearn.metrics import mean_squared_error, explained_variance_score\n",
    "logger.info(\n",
    "import logging\n",
    "logger = logging.getLogger(__name__)\n",
    "import warnings"
   ]
  },
  {
   "cell_type": "code",
   "execution_count": 7,
   "id": "38d0fc17-4748-41eb-80bf-746c58106346",
   "metadata": {},
   "outputs": [
    {
     "name": "stdout",
     "output_type": "stream",
     "text": [
      "The kedro.ipython extension is already loaded. To reload it, use:\n",
      "  %reload_ext kedro.ipython\n"
     ]
    }
   ],
   "source": [
    "%load_ext kedro.ipython"
   ]
  },
  {
   "cell_type": "code",
   "execution_count": 8,
   "id": "c31387dc-f977-407d-a46c-9f4707477cd6",
   "metadata": {},
   "outputs": [
    {
     "data": {
      "text/html": [
       "<pre style=\"white-space:pre;overflow-x:auto;line-height:normal;font-family:Menlo,'DejaVu Sans Mono',consolas,'Courier New',monospace\"><span style=\"color: #7fbfbf; text-decoration-color: #7fbfbf\">[06/29/24 18:03:38] </span><span style=\"color: #000080; text-decoration-color: #000080\">INFO    </span> Loading data from <span style=\"color: #ff8700; text-decoration-color: #ff8700\">X_train_data</span> <span style=\"font-weight: bold\">(</span>CSVDataset<span style=\"font-weight: bold\">)</span><span style=\"color: #808000; text-decoration-color: #808000\">...</span>                     <a href=\"file://C:\\Users\\dggua\\anaconda3\\envs\\test_env\\lib\\site-packages\\kedro\\io\\data_catalog.py\" target=\"_blank\"><span style=\"color: #7f7f7f; text-decoration-color: #7f7f7f\">data_catalog.py</span></a><span style=\"color: #7f7f7f; text-decoration-color: #7f7f7f\">:</span><a href=\"file://C:\\Users\\dggua\\anaconda3\\envs\\test_env\\lib\\site-packages\\kedro\\io\\data_catalog.py#508\" target=\"_blank\"><span style=\"color: #7f7f7f; text-decoration-color: #7f7f7f\">508</span></a>\n",
       "</pre>\n"
      ],
      "text/plain": [
       "\u001b[2;36m[06/29/24 18:03:38]\u001b[0m\u001b[2;36m \u001b[0m\u001b[34mINFO    \u001b[0m Loading data from \u001b[38;5;208mX_train_data\u001b[0m \u001b[1m(\u001b[0mCSVDataset\u001b[1m)\u001b[0m\u001b[33m...\u001b[0m                     \u001b]8;id=722438;file://C:\\Users\\dggua\\anaconda3\\envs\\test_env\\lib\\site-packages\\kedro\\io\\data_catalog.py\u001b\\\u001b[2mdata_catalog.py\u001b[0m\u001b]8;;\u001b\\\u001b[2m:\u001b[0m\u001b]8;id=412541;file://C:\\Users\\dggua\\anaconda3\\envs\\test_env\\lib\\site-packages\\kedro\\io\\data_catalog.py#508\u001b\\\u001b[2m508\u001b[0m\u001b]8;;\u001b\\\n"
      ]
     },
     "metadata": {},
     "output_type": "display_data"
    },
    {
     "data": {
      "text/html": [
       "<pre style=\"white-space:pre;overflow-x:auto;line-height:normal;font-family:Menlo,'DejaVu Sans Mono',consolas,'Courier New',monospace\"><span style=\"color: #7fbfbf; text-decoration-color: #7fbfbf\">                    </span><span style=\"color: #000080; text-decoration-color: #000080\">INFO    </span> Loading data from <span style=\"color: #ff8700; text-decoration-color: #ff8700\">X_test_data</span> <span style=\"font-weight: bold\">(</span>CSVDataset<span style=\"font-weight: bold\">)</span><span style=\"color: #808000; text-decoration-color: #808000\">...</span>                      <a href=\"file://C:\\Users\\dggua\\anaconda3\\envs\\test_env\\lib\\site-packages\\kedro\\io\\data_catalog.py\" target=\"_blank\"><span style=\"color: #7f7f7f; text-decoration-color: #7f7f7f\">data_catalog.py</span></a><span style=\"color: #7f7f7f; text-decoration-color: #7f7f7f\">:</span><a href=\"file://C:\\Users\\dggua\\anaconda3\\envs\\test_env\\lib\\site-packages\\kedro\\io\\data_catalog.py#508\" target=\"_blank\"><span style=\"color: #7f7f7f; text-decoration-color: #7f7f7f\">508</span></a>\n",
       "</pre>\n"
      ],
      "text/plain": [
       "\u001b[2;36m                   \u001b[0m\u001b[2;36m \u001b[0m\u001b[34mINFO    \u001b[0m Loading data from \u001b[38;5;208mX_test_data\u001b[0m \u001b[1m(\u001b[0mCSVDataset\u001b[1m)\u001b[0m\u001b[33m...\u001b[0m                      \u001b]8;id=2272;file://C:\\Users\\dggua\\anaconda3\\envs\\test_env\\lib\\site-packages\\kedro\\io\\data_catalog.py\u001b\\\u001b[2mdata_catalog.py\u001b[0m\u001b]8;;\u001b\\\u001b[2m:\u001b[0m\u001b]8;id=696289;file://C:\\Users\\dggua\\anaconda3\\envs\\test_env\\lib\\site-packages\\kedro\\io\\data_catalog.py#508\u001b\\\u001b[2m508\u001b[0m\u001b]8;;\u001b\\\n"
      ]
     },
     "metadata": {},
     "output_type": "display_data"
    },
    {
     "data": {
      "text/html": [
       "<pre style=\"white-space:pre;overflow-x:auto;line-height:normal;font-family:Menlo,'DejaVu Sans Mono',consolas,'Courier New',monospace\"><span style=\"color: #7fbfbf; text-decoration-color: #7fbfbf\">                    </span><span style=\"color: #000080; text-decoration-color: #000080\">INFO    </span> Loading data from <span style=\"color: #ff8700; text-decoration-color: #ff8700\">y_train_data</span> <span style=\"font-weight: bold\">(</span>CSVDataset<span style=\"font-weight: bold\">)</span><span style=\"color: #808000; text-decoration-color: #808000\">...</span>                     <a href=\"file://C:\\Users\\dggua\\anaconda3\\envs\\test_env\\lib\\site-packages\\kedro\\io\\data_catalog.py\" target=\"_blank\"><span style=\"color: #7f7f7f; text-decoration-color: #7f7f7f\">data_catalog.py</span></a><span style=\"color: #7f7f7f; text-decoration-color: #7f7f7f\">:</span><a href=\"file://C:\\Users\\dggua\\anaconda3\\envs\\test_env\\lib\\site-packages\\kedro\\io\\data_catalog.py#508\" target=\"_blank\"><span style=\"color: #7f7f7f; text-decoration-color: #7f7f7f\">508</span></a>\n",
       "</pre>\n"
      ],
      "text/plain": [
       "\u001b[2;36m                   \u001b[0m\u001b[2;36m \u001b[0m\u001b[34mINFO    \u001b[0m Loading data from \u001b[38;5;208my_train_data\u001b[0m \u001b[1m(\u001b[0mCSVDataset\u001b[1m)\u001b[0m\u001b[33m...\u001b[0m                     \u001b]8;id=919652;file://C:\\Users\\dggua\\anaconda3\\envs\\test_env\\lib\\site-packages\\kedro\\io\\data_catalog.py\u001b\\\u001b[2mdata_catalog.py\u001b[0m\u001b]8;;\u001b\\\u001b[2m:\u001b[0m\u001b]8;id=247996;file://C:\\Users\\dggua\\anaconda3\\envs\\test_env\\lib\\site-packages\\kedro\\io\\data_catalog.py#508\u001b\\\u001b[2m508\u001b[0m\u001b]8;;\u001b\\\n"
      ]
     },
     "metadata": {},
     "output_type": "display_data"
    },
    {
     "data": {
      "text/html": [
       "<pre style=\"white-space:pre;overflow-x:auto;line-height:normal;font-family:Menlo,'DejaVu Sans Mono',consolas,'Courier New',monospace\"><span style=\"color: #7fbfbf; text-decoration-color: #7fbfbf\">                    </span><span style=\"color: #000080; text-decoration-color: #000080\">INFO    </span> Loading data from <span style=\"color: #ff8700; text-decoration-color: #ff8700\">y_test_data</span> <span style=\"font-weight: bold\">(</span>CSVDataset<span style=\"font-weight: bold\">)</span><span style=\"color: #808000; text-decoration-color: #808000\">...</span>                      <a href=\"file://C:\\Users\\dggua\\anaconda3\\envs\\test_env\\lib\\site-packages\\kedro\\io\\data_catalog.py\" target=\"_blank\"><span style=\"color: #7f7f7f; text-decoration-color: #7f7f7f\">data_catalog.py</span></a><span style=\"color: #7f7f7f; text-decoration-color: #7f7f7f\">:</span><a href=\"file://C:\\Users\\dggua\\anaconda3\\envs\\test_env\\lib\\site-packages\\kedro\\io\\data_catalog.py#508\" target=\"_blank\"><span style=\"color: #7f7f7f; text-decoration-color: #7f7f7f\">508</span></a>\n",
       "</pre>\n"
      ],
      "text/plain": [
       "\u001b[2;36m                   \u001b[0m\u001b[2;36m \u001b[0m\u001b[34mINFO    \u001b[0m Loading data from \u001b[38;5;208my_test_data\u001b[0m \u001b[1m(\u001b[0mCSVDataset\u001b[1m)\u001b[0m\u001b[33m...\u001b[0m                      \u001b]8;id=138347;file://C:\\Users\\dggua\\anaconda3\\envs\\test_env\\lib\\site-packages\\kedro\\io\\data_catalog.py\u001b\\\u001b[2mdata_catalog.py\u001b[0m\u001b]8;;\u001b\\\u001b[2m:\u001b[0m\u001b]8;id=277066;file://C:\\Users\\dggua\\anaconda3\\envs\\test_env\\lib\\site-packages\\kedro\\io\\data_catalog.py#508\u001b\\\u001b[2m508\u001b[0m\u001b]8;;\u001b\\\n"
      ]
     },
     "metadata": {},
     "output_type": "display_data"
    }
   ],
   "source": [
    "X_train = df = catalog.load(\"X_train_data\")\n",
    "X_test = df = catalog.load(\"X_test_data\")\n",
    "y_train = df = catalog.load(\"y_train_data\")\n",
    "y_test = df = catalog.load(\"y_test_data\")"
   ]
  },
  {
   "cell_type": "code",
   "execution_count": 12,
   "id": "b15e2611-f7c1-44be-b720-99b611743d0f",
   "metadata": {},
   "outputs": [],
   "source": [
    "# descrition that will be used as metadata\n",
    "description = \"model_best\"\n",
    "\n",
    "# Mlflow tracking server\n",
    "mlflow.set_tracking_uri(\"http://127.0.0.1:5000/\")"
   ]
  },
  {
   "cell_type": "code",
   "execution_count": 40,
   "id": "8011966e-97aa-44fe-98f3-517864e1572e",
   "metadata": {},
   "outputs": [],
   "source": [
    "from sklearn.metrics import f1_score # type: ignore\n",
    "from sklearn.linear_model import LogisticRegression # type: ignore\n",
    "    from sklearn.ensemble import RandomForestClassifier \n",
    "from sklearn.tree import DecisionTreeClassifier\n",
    "\n",
    "import mlflow\n",
    "\n",
    "from sklearn.model_selection import train_test_split\n",
    "from sklearn.datasets import load_wine\n",
    "from sklearn.ensemble import RandomForestRegressor\n",
    "from sklearn.metrics import mean_squared_error, explained_variance_score\n",
    "from sklearn.model_selection import GridSearchCV\n",
    "from mlflow import MlflowClient\n",
    "from sklearn.metrics import f1_score # type: ignore"
   ]
  },
  {
   "cell_type": "code",
   "execution_count": 49,
   "id": "0aadb463-0b3f-464b-90e5-958635fb8231",
   "metadata": {},
   "outputs": [
    {
     "name": "stderr",
     "output_type": "stream",
     "text": [
      "2024/06/29 19:12:38 INFO mlflow.tracking.fluent: Experiment with name 'mlflow_project_credit_5' does not exist. Creating a new experiment.\n"
     ]
    },
    {
     "data": {
      "text/html": [
       "<pre style=\"white-space:pre;overflow-x:auto;line-height:normal;font-family:Menlo,'DejaVu Sans Mono',consolas,'Courier New',monospace\"></pre>\n"
      ],
      "text/plain": []
     },
     "metadata": {},
     "output_type": "display_data"
    },
    {
     "data": {
      "text/plain": [
       "\u001b[1m<\u001b[0m\u001b[1;95mExperiment:\u001b[0m\u001b[39m \u001b[0m\u001b[33martifact_location\u001b[0m\u001b[39m=\u001b[0m\u001b[32m'mlflow-artifacts:/910196856458750247'\u001b[0m\u001b[39m, \u001b[0m\u001b[33mcreation_time\u001b[0m\u001b[39m=\u001b[0m\u001b[1;36m1719684758822\u001b[0m\u001b[39m, \u001b[0m\u001b[33mexperiment_id\u001b[0m\u001b[39m=\u001b[0m\u001b[32m'910196856458750247'\u001b[0m\u001b[39m, \u001b[0m\u001b[33mlast_update_time\u001b[0m\u001b[39m=\u001b[0m\u001b[1;36m1719684758822\u001b[0m\u001b[39m, \u001b[0m\u001b[33mlifecycle_stage\u001b[0m\u001b[39m=\u001b[0m\u001b[32m'active'\u001b[0m\u001b[39m, \u001b[0m\u001b[33mname\u001b[0m\u001b[39m=\u001b[0m\u001b[32m'mlflow_project_credit_5'\u001b[0m\u001b[39m, \u001b[0m\u001b[33mtags\u001b[0m\u001b[39m=\u001b[0m\u001b[1;39m{\u001b[0m\u001b[1;39m}\u001b[0m\u001b[1m>\u001b[0m"
      ]
     },
     "execution_count": 49,
     "metadata": {},
     "output_type": "execute_result"
    }
   ],
   "source": [
    "mlflow.set_experiment(\"mlflow_project_credit_5\")"
   ]
  },
  {
   "cell_type": "code",
   "execution_count": 48,
   "id": "a50e453d-1424-4908-8142-cc92ad45c0a3",
   "metadata": {},
   "outputs": [
    {
     "data": {
      "text/html": [
       "<pre style=\"white-space:pre;overflow-x:auto;line-height:normal;font-family:Menlo,'DejaVu Sans Mono',consolas,'Courier New',monospace\"><span style=\"color: #800000; text-decoration-color: #800000\">╭─────────────────────────────── </span><span style=\"color: #800000; text-decoration-color: #800000; font-weight: bold\">Traceback </span><span style=\"color: #bf7f7f; text-decoration-color: #bf7f7f; font-weight: bold\">(most recent call last)</span><span style=\"color: #800000; text-decoration-color: #800000\"> ────────────────────────────────╮</span>\n",
       "<span style=\"color: #800000; text-decoration-color: #800000\">│</span> in <span style=\"color: #00ff00; text-decoration-color: #00ff00\">&lt;module&gt;</span>:<span style=\"color: #0000ff; text-decoration-color: #0000ff\">1</span>                                                                                    <span style=\"color: #800000; text-decoration-color: #800000\">│</span>\n",
       "<span style=\"color: #800000; text-decoration-color: #800000\">│</span>                                                                                                  <span style=\"color: #800000; text-decoration-color: #800000\">│</span>\n",
       "<span style=\"color: #800000; text-decoration-color: #800000\">│</span> <span style=\"color: #800000; text-decoration-color: #800000\">❱ </span>1 <span style=\"color: #0000ff; text-decoration-color: #0000ff\">with</span> <span style=\"color: #00ffff; text-decoration-color: #00ffff\">open</span>(<span style=\"color: #808000; text-decoration-color: #808000\">'conf/local/mlflow.yml'</span>) <span style=\"color: #0000ff; text-decoration-color: #0000ff\">as</span> f:                                                     <span style=\"color: #800000; text-decoration-color: #800000\">│</span>\n",
       "<span style=\"color: #800000; text-decoration-color: #800000\">│</span>   <span style=\"color: #7f7f7f; text-decoration-color: #7f7f7f\">2 </span><span style=\"color: #7f7f7f; text-decoration-color: #7f7f7f\">│   │   </span>experiment_name = yaml.load(f, Loader=yaml.loader.SafeLoader)[<span style=\"color: #808000; text-decoration-color: #808000\">'tracking'</span>][<span style=\"color: #808000; text-decoration-color: #808000\">'exper</span>     <span style=\"color: #800000; text-decoration-color: #800000\">│</span>\n",
       "<span style=\"color: #800000; text-decoration-color: #800000\">│</span>   <span style=\"color: #7f7f7f; text-decoration-color: #7f7f7f\">3 </span><span style=\"color: #7f7f7f; text-decoration-color: #7f7f7f\">│   │   </span>experiment_id = mlflow.get_experiment_by_name(experiment_name).experiment_id         <span style=\"color: #800000; text-decoration-color: #800000\">│</span>\n",
       "<span style=\"color: #800000; text-decoration-color: #800000\">│</span>   <span style=\"color: #7f7f7f; text-decoration-color: #7f7f7f\">4 </span><span style=\"color: #7f7f7f; text-decoration-color: #7f7f7f\">│   │   </span>logger.info(experiment_id)                                                           <span style=\"color: #800000; text-decoration-color: #800000\">│</span>\n",
       "<span style=\"color: #800000; text-decoration-color: #800000\">│</span>                                                                                                  <span style=\"color: #800000; text-decoration-color: #800000\">│</span>\n",
       "<span style=\"color: #800000; text-decoration-color: #800000\">│</span> <span style=\"color: #808000; text-decoration-color: #808000\">C:\\Users\\dggua\\anaconda3\\envs\\test_env\\lib\\site-packages\\IPython\\core\\interactiveshell.py</span>:<span style=\"color: #0000ff; text-decoration-color: #0000ff\">310</span> in <span style=\"color: #800000; text-decoration-color: #800000\">│</span>\n",
       "<span style=\"color: #800000; text-decoration-color: #800000\">│</span> <span style=\"color: #00ff00; text-decoration-color: #00ff00\">_modified_open</span>                                                                                   <span style=\"color: #800000; text-decoration-color: #800000\">│</span>\n",
       "<span style=\"color: #800000; text-decoration-color: #800000\">╰──────────────────────────────────────────────────────────────────────────────────────────────────╯</span>\n",
       "<span style=\"color: #ff0000; text-decoration-color: #ff0000; font-weight: bold\">FileNotFoundError: </span><span style=\"font-weight: bold\">[</span>Errno <span style=\"color: #008080; text-decoration-color: #008080; font-weight: bold\">2</span><span style=\"font-weight: bold\">]</span> No such file or directory: <span style=\"color: #008000; text-decoration-color: #008000\">'conf/local/mlflow.yml'</span>\n",
       "</pre>\n"
      ],
      "text/plain": [
       "\u001b[31m╭─\u001b[0m\u001b[31m──────────────────────────────\u001b[0m\u001b[31m \u001b[0m\u001b[1;31mTraceback \u001b[0m\u001b[1;2;31m(most recent call last)\u001b[0m\u001b[31m \u001b[0m\u001b[31m───────────────────────────────\u001b[0m\u001b[31m─╮\u001b[0m\n",
       "\u001b[31m│\u001b[0m in \u001b[92m<module>\u001b[0m:\u001b[94m1\u001b[0m                                                                                    \u001b[31m│\u001b[0m\n",
       "\u001b[31m│\u001b[0m                                                                                                  \u001b[31m│\u001b[0m\n",
       "\u001b[31m│\u001b[0m \u001b[31m❱ \u001b[0m1 \u001b[94mwith\u001b[0m \u001b[96mopen\u001b[0m(\u001b[33m'\u001b[0m\u001b[33mconf/local/mlflow.yml\u001b[0m\u001b[33m'\u001b[0m) \u001b[94mas\u001b[0m f:                                                     \u001b[31m│\u001b[0m\n",
       "\u001b[31m│\u001b[0m   \u001b[2m2 \u001b[0m\u001b[2m│   │   \u001b[0mexperiment_name = yaml.load(f, Loader=yaml.loader.SafeLoader)[\u001b[33m'\u001b[0m\u001b[33mtracking\u001b[0m\u001b[33m'\u001b[0m][\u001b[33m'\u001b[0m\u001b[33mexper\u001b[0m     \u001b[31m│\u001b[0m\n",
       "\u001b[31m│\u001b[0m   \u001b[2m3 \u001b[0m\u001b[2m│   │   \u001b[0mexperiment_id = mlflow.get_experiment_by_name(experiment_name).experiment_id         \u001b[31m│\u001b[0m\n",
       "\u001b[31m│\u001b[0m   \u001b[2m4 \u001b[0m\u001b[2m│   │   \u001b[0mlogger.info(experiment_id)                                                           \u001b[31m│\u001b[0m\n",
       "\u001b[31m│\u001b[0m                                                                                                  \u001b[31m│\u001b[0m\n",
       "\u001b[31m│\u001b[0m \u001b[33mC:\\Users\\dggua\\anaconda3\\envs\\test_env\\lib\\site-packages\\IPython\\core\\interactiveshell.py\u001b[0m:\u001b[94m310\u001b[0m in \u001b[31m│\u001b[0m\n",
       "\u001b[31m│\u001b[0m \u001b[92m_modified_open\u001b[0m                                                                                   \u001b[31m│\u001b[0m\n",
       "\u001b[31m╰──────────────────────────────────────────────────────────────────────────────────────────────────╯\u001b[0m\n",
       "\u001b[1;91mFileNotFoundError: \u001b[0m\u001b[1m[\u001b[0mErrno \u001b[1;36m2\u001b[0m\u001b[1m]\u001b[0m No such file or directory: \u001b[32m'conf/local/mlflow.yml'\u001b[0m\n"
      ]
     },
     "metadata": {},
     "output_type": "display_data"
    }
   ],
   "source": [
    "with open('conf/local/mlflow.yml') as f:\n",
    "        experiment_name = yaml.load(f, Loader=yaml.loader.SafeLoader)['tracking']['experiment']['name']\n",
    "        experiment_id = mlflow.get_experiment_by_name(experiment_name).experiment_id\n",
    "        logger.info(experiment_id)"
   ]
  },
  {
   "cell_type": "code",
   "execution_count": 63,
   "id": "1a3f7ce9-2b7e-4ea3-8814-3038f5248116",
   "metadata": {},
   "outputs": [
    {
     "data": {
      "text/html": [
       "<pre style=\"white-space:pre;overflow-x:auto;line-height:normal;font-family:Menlo,'DejaVu Sans Mono',consolas,'Courier New',monospace\"><span style=\"color: #ff0000; text-decoration-color: #ff0000; font-weight: bold\">ResponseError: </span>too many <span style=\"color: #008080; text-decoration-color: #008080; font-weight: bold\">500</span> error responses\n",
       "\n",
       "<span style=\"font-style: italic\">The above exception was the direct cause of the following exception:</span>\n",
       "\n",
       "<span style=\"color: #800000; text-decoration-color: #800000\">╭─────────────────────────────── </span><span style=\"color: #800000; text-decoration-color: #800000; font-weight: bold\">Traceback </span><span style=\"color: #bf7f7f; text-decoration-color: #bf7f7f; font-weight: bold\">(most recent call last)</span><span style=\"color: #800000; text-decoration-color: #800000\"> ────────────────────────────────╮</span>\n",
       "<span style=\"color: #800000; text-decoration-color: #800000\">│</span> <span style=\"color: #808000; text-decoration-color: #808000\">C:\\Users\\dggua\\anaconda3\\envs\\test_env\\lib\\site-packages\\requests\\adapters.py</span>:<span style=\"color: #0000ff; text-decoration-color: #0000ff\">486</span> in <span style=\"color: #00ff00; text-decoration-color: #00ff00\">send</span>        <span style=\"color: #800000; text-decoration-color: #800000\">│</span>\n",
       "<span style=\"color: #800000; text-decoration-color: #800000\">│</span>                                                                                                  <span style=\"color: #800000; text-decoration-color: #800000\">│</span>\n",
       "<span style=\"color: #800000; text-decoration-color: #800000\">│</span> <span style=\"color: #808000; text-decoration-color: #808000\">C:\\Users\\dggua\\anaconda3\\envs\\test_env\\lib\\site-packages\\urllib3\\connectionpool.py</span>:<span style=\"color: #0000ff; text-decoration-color: #0000ff\">948</span> in        <span style=\"color: #800000; text-decoration-color: #800000\">│</span>\n",
       "<span style=\"color: #800000; text-decoration-color: #800000\">│</span> <span style=\"color: #00ff00; text-decoration-color: #00ff00\">urlopen</span>                                                                                          <span style=\"color: #800000; text-decoration-color: #800000\">│</span>\n",
       "<span style=\"color: #800000; text-decoration-color: #800000\">│</span>                                                                                                  <span style=\"color: #800000; text-decoration-color: #800000\">│</span>\n",
       "<span style=\"color: #800000; text-decoration-color: #800000\">│</span> <span style=\"color: #808000; text-decoration-color: #808000\">C:\\Users\\dggua\\anaconda3\\envs\\test_env\\lib\\site-packages\\urllib3\\connectionpool.py</span>:<span style=\"color: #0000ff; text-decoration-color: #0000ff\">948</span> in        <span style=\"color: #800000; text-decoration-color: #800000\">│</span>\n",
       "<span style=\"color: #800000; text-decoration-color: #800000\">│</span> <span style=\"color: #00ff00; text-decoration-color: #00ff00\">urlopen</span>                                                                                          <span style=\"color: #800000; text-decoration-color: #800000\">│</span>\n",
       "<span style=\"color: #800000; text-decoration-color: #800000\">│</span>                                                                                                  <span style=\"color: #800000; text-decoration-color: #800000\">│</span>\n",
       "<span style=\"color: #800000; text-decoration-color: #800000\">│</span> <span style=\"color: #808000; text-decoration-color: #808000\">C:\\Users\\dggua\\anaconda3\\envs\\test_env\\lib\\site-packages\\urllib3\\connectionpool.py</span>:<span style=\"color: #0000ff; text-decoration-color: #0000ff\">948</span> in        <span style=\"color: #800000; text-decoration-color: #800000\">│</span>\n",
       "<span style=\"color: #800000; text-decoration-color: #800000\">│</span> <span style=\"color: #00ff00; text-decoration-color: #00ff00\">urlopen</span>                                                                                          <span style=\"color: #800000; text-decoration-color: #800000\">│</span>\n",
       "<span style=\"color: #800000; text-decoration-color: #800000\">│</span>                                                                                                  <span style=\"color: #800000; text-decoration-color: #800000\">│</span>\n",
       "<span style=\"color: #800000; text-decoration-color: #800000\">│</span> <span style=\"color: #808000; text-decoration-color: #808000\">C:\\Users\\dggua\\anaconda3\\envs\\test_env\\lib\\site-packages\\urllib3\\connectionpool.py</span>:<span style=\"color: #0000ff; text-decoration-color: #0000ff\">948</span> in        <span style=\"color: #800000; text-decoration-color: #800000\">│</span>\n",
       "<span style=\"color: #800000; text-decoration-color: #800000\">│</span> <span style=\"color: #00ff00; text-decoration-color: #00ff00\">urlopen</span>                                                                                          <span style=\"color: #800000; text-decoration-color: #800000\">│</span>\n",
       "<span style=\"color: #800000; text-decoration-color: #800000\">│</span>                                                                                                  <span style=\"color: #800000; text-decoration-color: #800000\">│</span>\n",
       "<span style=\"color: #800000; text-decoration-color: #800000\">│</span> <span style=\"color: #808000; text-decoration-color: #808000\">C:\\Users\\dggua\\anaconda3\\envs\\test_env\\lib\\site-packages\\urllib3\\connectionpool.py</span>:<span style=\"color: #0000ff; text-decoration-color: #0000ff\">948</span> in        <span style=\"color: #800000; text-decoration-color: #800000\">│</span>\n",
       "<span style=\"color: #800000; text-decoration-color: #800000\">│</span> <span style=\"color: #00ff00; text-decoration-color: #00ff00\">urlopen</span>                                                                                          <span style=\"color: #800000; text-decoration-color: #800000\">│</span>\n",
       "<span style=\"color: #800000; text-decoration-color: #800000\">│</span>                                                                                                  <span style=\"color: #800000; text-decoration-color: #800000\">│</span>\n",
       "<span style=\"color: #800000; text-decoration-color: #800000\">│</span> <span style=\"color: #808000; text-decoration-color: #808000\">C:\\Users\\dggua\\anaconda3\\envs\\test_env\\lib\\site-packages\\urllib3\\connectionpool.py</span>:<span style=\"color: #0000ff; text-decoration-color: #0000ff\">938</span> in        <span style=\"color: #800000; text-decoration-color: #800000\">│</span>\n",
       "<span style=\"color: #800000; text-decoration-color: #800000\">│</span> <span style=\"color: #00ff00; text-decoration-color: #00ff00\">urlopen</span>                                                                                          <span style=\"color: #800000; text-decoration-color: #800000\">│</span>\n",
       "<span style=\"color: #800000; text-decoration-color: #800000\">│</span>                                                                                                  <span style=\"color: #800000; text-decoration-color: #800000\">│</span>\n",
       "<span style=\"color: #800000; text-decoration-color: #800000\">│</span> <span style=\"color: #808000; text-decoration-color: #808000\">C:\\Users\\dggua\\anaconda3\\envs\\test_env\\lib\\site-packages\\urllib3\\util\\retry.py</span>:<span style=\"color: #0000ff; text-decoration-color: #0000ff\">515</span> in <span style=\"color: #00ff00; text-decoration-color: #00ff00\">increment</span>  <span style=\"color: #800000; text-decoration-color: #800000\">│</span>\n",
       "<span style=\"color: #800000; text-decoration-color: #800000\">╰──────────────────────────────────────────────────────────────────────────────────────────────────╯</span>\n",
       "<span style=\"color: #ff0000; text-decoration-color: #ff0000; font-weight: bold\">MaxRetryError: </span><span style=\"color: #800080; text-decoration-color: #800080; font-weight: bold\">HTTPConnectionPool</span><span style=\"font-weight: bold\">(</span><span style=\"color: #808000; text-decoration-color: #808000\">host</span>=<span style=\"color: #008000; text-decoration-color: #008000\">'127.0.0.1'</span>, <span style=\"color: #808000; text-decoration-color: #808000\">port</span>=<span style=\"color: #008080; text-decoration-color: #008080; font-weight: bold\">5000</span><span style=\"font-weight: bold\">)</span>: Max retries exceeded with url: \n",
       "<span style=\"color: #800080; text-decoration-color: #800080\">/api/2.0/mlflow/runs/</span><span style=\"color: #ff00ff; text-decoration-color: #ff00ff\">create</span> <span style=\"font-weight: bold\">(</span>Caused by <span style=\"color: #800080; text-decoration-color: #800080; font-weight: bold\">ResponseError</span><span style=\"font-weight: bold\">(</span><span style=\"color: #008000; text-decoration-color: #008000\">'too many 500 error responses'</span><span style=\"font-weight: bold\">))</span>\n",
       "\n",
       "<span style=\"font-style: italic\">During handling of the above exception, another exception occurred:</span>\n",
       "\n",
       "<span style=\"color: #800000; text-decoration-color: #800000\">╭─────────────────────────────── </span><span style=\"color: #800000; text-decoration-color: #800000; font-weight: bold\">Traceback </span><span style=\"color: #bf7f7f; text-decoration-color: #bf7f7f; font-weight: bold\">(most recent call last)</span><span style=\"color: #800000; text-decoration-color: #800000\"> ────────────────────────────────╮</span>\n",
       "<span style=\"color: #800000; text-decoration-color: #800000\">│</span> <span style=\"color: #808000; text-decoration-color: #808000\">C:\\Users\\dggua\\anaconda3\\envs\\test_env\\lib\\site-packages\\mlflow\\utils\\rest_utils.py</span>:<span style=\"color: #0000ff; text-decoration-color: #0000ff\">108</span> in       <span style=\"color: #800000; text-decoration-color: #800000\">│</span>\n",
       "<span style=\"color: #800000; text-decoration-color: #800000\">│</span> <span style=\"color: #00ff00; text-decoration-color: #00ff00\">http_request</span>                                                                                     <span style=\"color: #800000; text-decoration-color: #800000\">│</span>\n",
       "<span style=\"color: #800000; text-decoration-color: #800000\">│</span>                                                                                                  <span style=\"color: #800000; text-decoration-color: #800000\">│</span>\n",
       "<span style=\"color: #800000; text-decoration-color: #800000\">│</span> <span style=\"color: #808000; text-decoration-color: #808000\">C:\\Users\\dggua\\anaconda3\\envs\\test_env\\lib\\site-packages\\mlflow\\utils\\request_utils.py</span>:<span style=\"color: #0000ff; text-decoration-color: #0000ff\">212</span> in    <span style=\"color: #800000; text-decoration-color: #800000\">│</span>\n",
       "<span style=\"color: #800000; text-decoration-color: #800000\">│</span> <span style=\"color: #00ff00; text-decoration-color: #00ff00\">_get_http_response_with_retries</span>                                                                  <span style=\"color: #800000; text-decoration-color: #800000\">│</span>\n",
       "<span style=\"color: #800000; text-decoration-color: #800000\">│</span>                                                                                                  <span style=\"color: #800000; text-decoration-color: #800000\">│</span>\n",
       "<span style=\"color: #800000; text-decoration-color: #800000\">│</span> <span style=\"color: #808000; text-decoration-color: #808000\">C:\\Users\\dggua\\anaconda3\\envs\\test_env\\lib\\site-packages\\requests\\sessions.py</span>:<span style=\"color: #0000ff; text-decoration-color: #0000ff\">589</span> in <span style=\"color: #00ff00; text-decoration-color: #00ff00\">request</span>     <span style=\"color: #800000; text-decoration-color: #800000\">│</span>\n",
       "<span style=\"color: #800000; text-decoration-color: #800000\">│</span>                                                                                                  <span style=\"color: #800000; text-decoration-color: #800000\">│</span>\n",
       "<span style=\"color: #800000; text-decoration-color: #800000\">│</span> <span style=\"color: #808000; text-decoration-color: #808000\">C:\\Users\\dggua\\anaconda3\\envs\\test_env\\lib\\site-packages\\requests\\sessions.py</span>:<span style=\"color: #0000ff; text-decoration-color: #0000ff\">703</span> in <span style=\"color: #00ff00; text-decoration-color: #00ff00\">send</span>        <span style=\"color: #800000; text-decoration-color: #800000\">│</span>\n",
       "<span style=\"color: #800000; text-decoration-color: #800000\">│</span>                                                                                                  <span style=\"color: #800000; text-decoration-color: #800000\">│</span>\n",
       "<span style=\"color: #800000; text-decoration-color: #800000\">│</span> <span style=\"color: #808000; text-decoration-color: #808000\">C:\\Users\\dggua\\anaconda3\\envs\\test_env\\lib\\site-packages\\requests\\adapters.py</span>:<span style=\"color: #0000ff; text-decoration-color: #0000ff\">510</span> in <span style=\"color: #00ff00; text-decoration-color: #00ff00\">send</span>        <span style=\"color: #800000; text-decoration-color: #800000\">│</span>\n",
       "<span style=\"color: #800000; text-decoration-color: #800000\">╰──────────────────────────────────────────────────────────────────────────────────────────────────╯</span>\n",
       "<span style=\"color: #ff0000; text-decoration-color: #ff0000; font-weight: bold\">RetryError: </span><span style=\"color: #800080; text-decoration-color: #800080; font-weight: bold\">HTTPConnectionPool</span><span style=\"font-weight: bold\">(</span><span style=\"color: #808000; text-decoration-color: #808000\">host</span>=<span style=\"color: #008000; text-decoration-color: #008000\">'127.0.0.1'</span>, <span style=\"color: #808000; text-decoration-color: #808000\">port</span>=<span style=\"color: #008080; text-decoration-color: #008080; font-weight: bold\">5000</span><span style=\"font-weight: bold\">)</span>: Max retries exceeded with url: \n",
       "<span style=\"color: #800080; text-decoration-color: #800080\">/api/2.0/mlflow/runs/</span><span style=\"color: #ff00ff; text-decoration-color: #ff00ff\">create</span> <span style=\"font-weight: bold\">(</span>Caused by <span style=\"color: #800080; text-decoration-color: #800080; font-weight: bold\">ResponseError</span><span style=\"font-weight: bold\">(</span><span style=\"color: #008000; text-decoration-color: #008000\">'too many 500 error responses'</span><span style=\"font-weight: bold\">))</span>\n",
       "\n",
       "<span style=\"font-style: italic\">During handling of the above exception, another exception occurred:</span>\n",
       "\n",
       "<span style=\"color: #800000; text-decoration-color: #800000\">╭─────────────────────────────── </span><span style=\"color: #800000; text-decoration-color: #800000; font-weight: bold\">Traceback </span><span style=\"color: #bf7f7f; text-decoration-color: #bf7f7f; font-weight: bold\">(most recent call last)</span><span style=\"color: #800000; text-decoration-color: #800000\"> ────────────────────────────────╮</span>\n",
       "<span style=\"color: #800000; text-decoration-color: #800000\">│</span> in <span style=\"color: #00ff00; text-decoration-color: #00ff00\">&lt;module&gt;</span>:<span style=\"color: #0000ff; text-decoration-color: #0000ff\">24</span>                                                                                   <span style=\"color: #800000; text-decoration-color: #800000\">│</span>\n",
       "<span style=\"color: #800000; text-decoration-color: #800000\">│</span>                                                                                                  <span style=\"color: #800000; text-decoration-color: #800000\">│</span>\n",
       "<span style=\"color: #800000; text-decoration-color: #800000\">│</span>   <span style=\"color: #7f7f7f; text-decoration-color: #7f7f7f\">21 </span><span style=\"color: #7f7f7f; text-decoration-color: #7f7f7f\">│   │   </span><span style=\"color: #0000ff; text-decoration-color: #0000ff\">for</span> p_1 <span style=\"color: #ff00ff; text-decoration-color: #ff00ff\">in</span> params[<span style=\"color: #808000; text-decoration-color: #808000\">\"RandomForestClassifier\"</span>][<span style=\"color: #808000; text-decoration-color: #808000\">\"n_estimators\"</span>]:                        <span style=\"color: #800000; text-decoration-color: #800000\">│</span>\n",
       "<span style=\"color: #800000; text-decoration-color: #800000\">│</span>   <span style=\"color: #7f7f7f; text-decoration-color: #7f7f7f\">22 </span><span style=\"color: #7f7f7f; text-decoration-color: #7f7f7f\">│   │   │   </span><span style=\"color: #0000ff; text-decoration-color: #0000ff\">for</span> p_2 <span style=\"color: #ff00ff; text-decoration-color: #ff00ff\">in</span> params[<span style=\"color: #808000; text-decoration-color: #808000\">\"RandomForestClassifier\"</span>][<span style=\"color: #808000; text-decoration-color: #808000\">\"max_depth\"</span>]:                       <span style=\"color: #800000; text-decoration-color: #800000\">│</span>\n",
       "<span style=\"color: #800000; text-decoration-color: #800000\">│</span>   <span style=\"color: #7f7f7f; text-decoration-color: #7f7f7f\">23 </span><span style=\"color: #7f7f7f; text-decoration-color: #7f7f7f\">│   │   │   │   </span>run_name = model_name + <span style=\"color: #808000; text-decoration-color: #808000\">\"_\"</span>+ <span style=\"color: #00ffff; text-decoration-color: #00ffff\">str</span>(i)+<span style=\"color: #808000; text-decoration-color: #808000\">\"_\"</span>+ <span style=\"color: #00ffff; text-decoration-color: #00ffff\">str</span>(p_1)+<span style=\"color: #808000; text-decoration-color: #808000\">\"_\"</span>+<span style=\"color: #00ffff; text-decoration-color: #00ffff\">str</span>(p_2)              <span style=\"color: #800000; text-decoration-color: #800000\">│</span>\n",
       "<span style=\"color: #800000; text-decoration-color: #800000\">│</span> <span style=\"color: #800000; text-decoration-color: #800000\">❱ </span>24 <span style=\"color: #7f7f7f; text-decoration-color: #7f7f7f\">│   │   │   │   </span><span style=\"color: #0000ff; text-decoration-color: #0000ff\">with</span> mlflow.start_run(run_name=run_name) <span style=\"color: #0000ff; text-decoration-color: #0000ff\">as</span> run:                            <span style=\"color: #800000; text-decoration-color: #800000\">│</span>\n",
       "<span style=\"color: #800000; text-decoration-color: #800000\">│</span>   <span style=\"color: #7f7f7f; text-decoration-color: #7f7f7f\">25 </span><span style=\"color: #7f7f7f; text-decoration-color: #7f7f7f\">│   │   │   │   │   </span><span style=\"color: #00ffff; text-decoration-color: #00ffff\">print</span>(p_1,p_2)                                                          <span style=\"color: #800000; text-decoration-color: #800000\">│</span>\n",
       "<span style=\"color: #800000; text-decoration-color: #800000\">│</span>   <span style=\"color: #7f7f7f; text-decoration-color: #7f7f7f\">26 </span><span style=\"color: #7f7f7f; text-decoration-color: #7f7f7f\">│   │   │   │   │   </span><span style=\"color: #00ffff; text-decoration-color: #00ffff\">print</span>(model)                                                            <span style=\"color: #800000; text-decoration-color: #800000\">│</span>\n",
       "<span style=\"color: #800000; text-decoration-color: #800000\">│</span>   <span style=\"color: #7f7f7f; text-decoration-color: #7f7f7f\">27 </span><span style=\"color: #7f7f7f; text-decoration-color: #7f7f7f\">│   │   │   │   │   </span>model = RandomForestClassifier(n_estimators = p_1, max_depth = p_2,     <span style=\"color: #800000; text-decoration-color: #800000\">│</span>\n",
       "<span style=\"color: #800000; text-decoration-color: #800000\">│</span>                                                                                                  <span style=\"color: #800000; text-decoration-color: #800000\">│</span>\n",
       "<span style=\"color: #800000; text-decoration-color: #800000\">│</span> <span style=\"color: #808000; text-decoration-color: #808000\">C:\\Users\\dggua\\anaconda3\\envs\\test_env\\lib\\site-packages\\mlflow\\tracking\\fluent.py</span>:<span style=\"color: #0000ff; text-decoration-color: #0000ff\">381</span> in        <span style=\"color: #800000; text-decoration-color: #800000\">│</span>\n",
       "<span style=\"color: #800000; text-decoration-color: #800000\">│</span> <span style=\"color: #00ff00; text-decoration-color: #00ff00\">start_run</span>                                                                                        <span style=\"color: #800000; text-decoration-color: #800000\">│</span>\n",
       "<span style=\"color: #800000; text-decoration-color: #800000\">│</span>                                                                                                  <span style=\"color: #800000; text-decoration-color: #800000\">│</span>\n",
       "<span style=\"color: #800000; text-decoration-color: #800000\">│</span> <span style=\"color: #808000; text-decoration-color: #808000\">C:\\Users\\dggua\\anaconda3\\envs\\test_env\\lib\\site-packages\\mlflow\\tracking\\client.py</span>:<span style=\"color: #0000ff; text-decoration-color: #0000ff\">353</span> in        <span style=\"color: #800000; text-decoration-color: #800000\">│</span>\n",
       "<span style=\"color: #800000; text-decoration-color: #800000\">│</span> <span style=\"color: #00ff00; text-decoration-color: #00ff00\">create_run</span>                                                                                       <span style=\"color: #800000; text-decoration-color: #800000\">│</span>\n",
       "<span style=\"color: #800000; text-decoration-color: #800000\">│</span>                                                                                                  <span style=\"color: #800000; text-decoration-color: #800000\">│</span>\n",
       "<span style=\"color: #800000; text-decoration-color: #800000\">│</span> <span style=\"color: #808000; text-decoration-color: #808000\">C:\\Users\\dggua\\anaconda3\\envs\\test_env\\lib\\site-packages\\mlflow\\tracking\\_tracking_service\\clien</span> <span style=\"color: #800000; text-decoration-color: #800000\">│</span>\n",
       "<span style=\"color: #800000; text-decoration-color: #800000\">│</span> <span style=\"color: #808000; text-decoration-color: #808000\">t.py</span>:<span style=\"color: #0000ff; text-decoration-color: #0000ff\">139</span> in <span style=\"color: #00ff00; text-decoration-color: #00ff00\">create_run</span>                                                                           <span style=\"color: #800000; text-decoration-color: #800000\">│</span>\n",
       "<span style=\"color: #800000; text-decoration-color: #800000\">│</span>                                                                                                  <span style=\"color: #800000; text-decoration-color: #800000\">│</span>\n",
       "<span style=\"color: #800000; text-decoration-color: #800000\">│</span> <span style=\"color: #808000; text-decoration-color: #808000\">C:\\Users\\dggua\\anaconda3\\envs\\test_env\\lib\\site-packages\\mlflow\\store\\tracking\\rest_store.py</span>:<span style=\"color: #0000ff; text-decoration-color: #0000ff\">187</span> <span style=\"color: #800000; text-decoration-color: #800000\">│</span>\n",
       "<span style=\"color: #800000; text-decoration-color: #800000\">│</span> in <span style=\"color: #00ff00; text-decoration-color: #00ff00\">create_run</span>                                                                                    <span style=\"color: #800000; text-decoration-color: #800000\">│</span>\n",
       "<span style=\"color: #800000; text-decoration-color: #800000\">│</span>                                                                                                  <span style=\"color: #800000; text-decoration-color: #800000\">│</span>\n",
       "<span style=\"color: #800000; text-decoration-color: #800000\">│</span> <span style=\"color: #808000; text-decoration-color: #808000\">C:\\Users\\dggua\\anaconda3\\envs\\test_env\\lib\\site-packages\\mlflow\\store\\tracking\\rest_store.py</span>:<span style=\"color: #0000ff; text-decoration-color: #0000ff\">60</span>  <span style=\"color: #800000; text-decoration-color: #800000\">│</span>\n",
       "<span style=\"color: #800000; text-decoration-color: #800000\">│</span> in <span style=\"color: #00ff00; text-decoration-color: #00ff00\">_call_endpoint</span>                                                                                <span style=\"color: #800000; text-decoration-color: #800000\">│</span>\n",
       "<span style=\"color: #800000; text-decoration-color: #800000\">│</span>                                                                                                  <span style=\"color: #800000; text-decoration-color: #800000\">│</span>\n",
       "<span style=\"color: #800000; text-decoration-color: #800000\">│</span> <span style=\"color: #808000; text-decoration-color: #808000\">C:\\Users\\dggua\\anaconda3\\envs\\test_env\\lib\\site-packages\\mlflow\\utils\\rest_utils.py</span>:<span style=\"color: #0000ff; text-decoration-color: #0000ff\">219</span> in       <span style=\"color: #800000; text-decoration-color: #800000\">│</span>\n",
       "<span style=\"color: #800000; text-decoration-color: #800000\">│</span> <span style=\"color: #00ff00; text-decoration-color: #00ff00\">call_endpoint</span>                                                                                    <span style=\"color: #800000; text-decoration-color: #800000\">│</span>\n",
       "<span style=\"color: #800000; text-decoration-color: #800000\">│</span>                                                                                                  <span style=\"color: #800000; text-decoration-color: #800000\">│</span>\n",
       "<span style=\"color: #800000; text-decoration-color: #800000\">│</span> <span style=\"color: #808000; text-decoration-color: #808000\">C:\\Users\\dggua\\anaconda3\\envs\\test_env\\lib\\site-packages\\mlflow\\utils\\rest_utils.py</span>:<span style=\"color: #0000ff; text-decoration-color: #0000ff\">130</span> in       <span style=\"color: #800000; text-decoration-color: #800000\">│</span>\n",
       "<span style=\"color: #800000; text-decoration-color: #800000\">│</span> <span style=\"color: #00ff00; text-decoration-color: #00ff00\">http_request</span>                                                                                     <span style=\"color: #800000; text-decoration-color: #800000\">│</span>\n",
       "<span style=\"color: #800000; text-decoration-color: #800000\">╰──────────────────────────────────────────────────────────────────────────────────────────────────╯</span>\n",
       "<span style=\"color: #ff0000; text-decoration-color: #ff0000; font-weight: bold\">MlflowException: </span>API request to <span style=\"color: #0000ff; text-decoration-color: #0000ff; text-decoration: underline\">http://127.0.0.1:5000/api/2.0/mlflow/runs/create</span> failed with exception \n",
       "<span style=\"color: #800080; text-decoration-color: #800080; font-weight: bold\">HTTPConnectionPool</span><span style=\"font-weight: bold\">(</span><span style=\"color: #808000; text-decoration-color: #808000\">host</span>=<span style=\"color: #008000; text-decoration-color: #008000\">'127.0.0.1'</span>, <span style=\"color: #808000; text-decoration-color: #808000\">port</span>=<span style=\"color: #008080; text-decoration-color: #008080; font-weight: bold\">5000</span><span style=\"font-weight: bold\">)</span>: Max retries exceeded with url: <span style=\"color: #800080; text-decoration-color: #800080\">/api/2.0/mlflow/runs/</span><span style=\"color: #ff00ff; text-decoration-color: #ff00ff\">create</span> <span style=\"font-weight: bold\">(</span>Caused\n",
       "by <span style=\"color: #800080; text-decoration-color: #800080; font-weight: bold\">ResponseError</span><span style=\"font-weight: bold\">(</span><span style=\"color: #008000; text-decoration-color: #008000\">'too many 500 error responses'</span><span style=\"font-weight: bold\">))</span>\n",
       "</pre>\n"
      ],
      "text/plain": [
       "\u001b[1;91mResponseError: \u001b[0mtoo many \u001b[1;36m500\u001b[0m error responses\n",
       "\n",
       "\u001b[3mThe above exception was the direct cause of the following exception:\u001b[0m\n",
       "\n",
       "\u001b[31m╭─\u001b[0m\u001b[31m──────────────────────────────\u001b[0m\u001b[31m \u001b[0m\u001b[1;31mTraceback \u001b[0m\u001b[1;2;31m(most recent call last)\u001b[0m\u001b[31m \u001b[0m\u001b[31m───────────────────────────────\u001b[0m\u001b[31m─╮\u001b[0m\n",
       "\u001b[31m│\u001b[0m \u001b[33mC:\\Users\\dggua\\anaconda3\\envs\\test_env\\lib\\site-packages\\requests\\adapters.py\u001b[0m:\u001b[94m486\u001b[0m in \u001b[92msend\u001b[0m        \u001b[31m│\u001b[0m\n",
       "\u001b[31m│\u001b[0m                                                                                                  \u001b[31m│\u001b[0m\n",
       "\u001b[31m│\u001b[0m \u001b[33mC:\\Users\\dggua\\anaconda3\\envs\\test_env\\lib\\site-packages\\urllib3\\connectionpool.py\u001b[0m:\u001b[94m948\u001b[0m in        \u001b[31m│\u001b[0m\n",
       "\u001b[31m│\u001b[0m \u001b[92murlopen\u001b[0m                                                                                          \u001b[31m│\u001b[0m\n",
       "\u001b[31m│\u001b[0m                                                                                                  \u001b[31m│\u001b[0m\n",
       "\u001b[31m│\u001b[0m \u001b[33mC:\\Users\\dggua\\anaconda3\\envs\\test_env\\lib\\site-packages\\urllib3\\connectionpool.py\u001b[0m:\u001b[94m948\u001b[0m in        \u001b[31m│\u001b[0m\n",
       "\u001b[31m│\u001b[0m \u001b[92murlopen\u001b[0m                                                                                          \u001b[31m│\u001b[0m\n",
       "\u001b[31m│\u001b[0m                                                                                                  \u001b[31m│\u001b[0m\n",
       "\u001b[31m│\u001b[0m \u001b[33mC:\\Users\\dggua\\anaconda3\\envs\\test_env\\lib\\site-packages\\urllib3\\connectionpool.py\u001b[0m:\u001b[94m948\u001b[0m in        \u001b[31m│\u001b[0m\n",
       "\u001b[31m│\u001b[0m \u001b[92murlopen\u001b[0m                                                                                          \u001b[31m│\u001b[0m\n",
       "\u001b[31m│\u001b[0m                                                                                                  \u001b[31m│\u001b[0m\n",
       "\u001b[31m│\u001b[0m \u001b[33mC:\\Users\\dggua\\anaconda3\\envs\\test_env\\lib\\site-packages\\urllib3\\connectionpool.py\u001b[0m:\u001b[94m948\u001b[0m in        \u001b[31m│\u001b[0m\n",
       "\u001b[31m│\u001b[0m \u001b[92murlopen\u001b[0m                                                                                          \u001b[31m│\u001b[0m\n",
       "\u001b[31m│\u001b[0m                                                                                                  \u001b[31m│\u001b[0m\n",
       "\u001b[31m│\u001b[0m \u001b[33mC:\\Users\\dggua\\anaconda3\\envs\\test_env\\lib\\site-packages\\urllib3\\connectionpool.py\u001b[0m:\u001b[94m948\u001b[0m in        \u001b[31m│\u001b[0m\n",
       "\u001b[31m│\u001b[0m \u001b[92murlopen\u001b[0m                                                                                          \u001b[31m│\u001b[0m\n",
       "\u001b[31m│\u001b[0m                                                                                                  \u001b[31m│\u001b[0m\n",
       "\u001b[31m│\u001b[0m \u001b[33mC:\\Users\\dggua\\anaconda3\\envs\\test_env\\lib\\site-packages\\urllib3\\connectionpool.py\u001b[0m:\u001b[94m938\u001b[0m in        \u001b[31m│\u001b[0m\n",
       "\u001b[31m│\u001b[0m \u001b[92murlopen\u001b[0m                                                                                          \u001b[31m│\u001b[0m\n",
       "\u001b[31m│\u001b[0m                                                                                                  \u001b[31m│\u001b[0m\n",
       "\u001b[31m│\u001b[0m \u001b[33mC:\\Users\\dggua\\anaconda3\\envs\\test_env\\lib\\site-packages\\urllib3\\util\\retry.py\u001b[0m:\u001b[94m515\u001b[0m in \u001b[92mincrement\u001b[0m  \u001b[31m│\u001b[0m\n",
       "\u001b[31m╰──────────────────────────────────────────────────────────────────────────────────────────────────╯\u001b[0m\n",
       "\u001b[1;91mMaxRetryError: \u001b[0m\u001b[1;35mHTTPConnectionPool\u001b[0m\u001b[1m(\u001b[0m\u001b[33mhost\u001b[0m=\u001b[32m'127.0.0.1'\u001b[0m, \u001b[33mport\u001b[0m=\u001b[1;36m5000\u001b[0m\u001b[1m)\u001b[0m: Max retries exceeded with url: \n",
       "\u001b[35m/api/2.0/mlflow/runs/\u001b[0m\u001b[95mcreate\u001b[0m \u001b[1m(\u001b[0mCaused by \u001b[1;35mResponseError\u001b[0m\u001b[1m(\u001b[0m\u001b[32m'too many 500 error responses'\u001b[0m\u001b[1m)\u001b[0m\u001b[1m)\u001b[0m\n",
       "\n",
       "\u001b[3mDuring handling of the above exception, another exception occurred:\u001b[0m\n",
       "\n",
       "\u001b[31m╭─\u001b[0m\u001b[31m──────────────────────────────\u001b[0m\u001b[31m \u001b[0m\u001b[1;31mTraceback \u001b[0m\u001b[1;2;31m(most recent call last)\u001b[0m\u001b[31m \u001b[0m\u001b[31m───────────────────────────────\u001b[0m\u001b[31m─╮\u001b[0m\n",
       "\u001b[31m│\u001b[0m \u001b[33mC:\\Users\\dggua\\anaconda3\\envs\\test_env\\lib\\site-packages\\mlflow\\utils\\rest_utils.py\u001b[0m:\u001b[94m108\u001b[0m in       \u001b[31m│\u001b[0m\n",
       "\u001b[31m│\u001b[0m \u001b[92mhttp_request\u001b[0m                                                                                     \u001b[31m│\u001b[0m\n",
       "\u001b[31m│\u001b[0m                                                                                                  \u001b[31m│\u001b[0m\n",
       "\u001b[31m│\u001b[0m \u001b[33mC:\\Users\\dggua\\anaconda3\\envs\\test_env\\lib\\site-packages\\mlflow\\utils\\request_utils.py\u001b[0m:\u001b[94m212\u001b[0m in    \u001b[31m│\u001b[0m\n",
       "\u001b[31m│\u001b[0m \u001b[92m_get_http_response_with_retries\u001b[0m                                                                  \u001b[31m│\u001b[0m\n",
       "\u001b[31m│\u001b[0m                                                                                                  \u001b[31m│\u001b[0m\n",
       "\u001b[31m│\u001b[0m \u001b[33mC:\\Users\\dggua\\anaconda3\\envs\\test_env\\lib\\site-packages\\requests\\sessions.py\u001b[0m:\u001b[94m589\u001b[0m in \u001b[92mrequest\u001b[0m     \u001b[31m│\u001b[0m\n",
       "\u001b[31m│\u001b[0m                                                                                                  \u001b[31m│\u001b[0m\n",
       "\u001b[31m│\u001b[0m \u001b[33mC:\\Users\\dggua\\anaconda3\\envs\\test_env\\lib\\site-packages\\requests\\sessions.py\u001b[0m:\u001b[94m703\u001b[0m in \u001b[92msend\u001b[0m        \u001b[31m│\u001b[0m\n",
       "\u001b[31m│\u001b[0m                                                                                                  \u001b[31m│\u001b[0m\n",
       "\u001b[31m│\u001b[0m \u001b[33mC:\\Users\\dggua\\anaconda3\\envs\\test_env\\lib\\site-packages\\requests\\adapters.py\u001b[0m:\u001b[94m510\u001b[0m in \u001b[92msend\u001b[0m        \u001b[31m│\u001b[0m\n",
       "\u001b[31m╰──────────────────────────────────────────────────────────────────────────────────────────────────╯\u001b[0m\n",
       "\u001b[1;91mRetryError: \u001b[0m\u001b[1;35mHTTPConnectionPool\u001b[0m\u001b[1m(\u001b[0m\u001b[33mhost\u001b[0m=\u001b[32m'127.0.0.1'\u001b[0m, \u001b[33mport\u001b[0m=\u001b[1;36m5000\u001b[0m\u001b[1m)\u001b[0m: Max retries exceeded with url: \n",
       "\u001b[35m/api/2.0/mlflow/runs/\u001b[0m\u001b[95mcreate\u001b[0m \u001b[1m(\u001b[0mCaused by \u001b[1;35mResponseError\u001b[0m\u001b[1m(\u001b[0m\u001b[32m'too many 500 error responses'\u001b[0m\u001b[1m)\u001b[0m\u001b[1m)\u001b[0m\n",
       "\n",
       "\u001b[3mDuring handling of the above exception, another exception occurred:\u001b[0m\n",
       "\n",
       "\u001b[31m╭─\u001b[0m\u001b[31m──────────────────────────────\u001b[0m\u001b[31m \u001b[0m\u001b[1;31mTraceback \u001b[0m\u001b[1;2;31m(most recent call last)\u001b[0m\u001b[31m \u001b[0m\u001b[31m───────────────────────────────\u001b[0m\u001b[31m─╮\u001b[0m\n",
       "\u001b[31m│\u001b[0m in \u001b[92m<module>\u001b[0m:\u001b[94m24\u001b[0m                                                                                   \u001b[31m│\u001b[0m\n",
       "\u001b[31m│\u001b[0m                                                                                                  \u001b[31m│\u001b[0m\n",
       "\u001b[31m│\u001b[0m   \u001b[2m21 \u001b[0m\u001b[2m│   │   \u001b[0m\u001b[94mfor\u001b[0m p_1 \u001b[95min\u001b[0m params[\u001b[33m\"\u001b[0m\u001b[33mRandomForestClassifier\u001b[0m\u001b[33m\"\u001b[0m][\u001b[33m\"\u001b[0m\u001b[33mn_estimators\u001b[0m\u001b[33m\"\u001b[0m]:                        \u001b[31m│\u001b[0m\n",
       "\u001b[31m│\u001b[0m   \u001b[2m22 \u001b[0m\u001b[2m│   │   │   \u001b[0m\u001b[94mfor\u001b[0m p_2 \u001b[95min\u001b[0m params[\u001b[33m\"\u001b[0m\u001b[33mRandomForestClassifier\u001b[0m\u001b[33m\"\u001b[0m][\u001b[33m\"\u001b[0m\u001b[33mmax_depth\u001b[0m\u001b[33m\"\u001b[0m]:                       \u001b[31m│\u001b[0m\n",
       "\u001b[31m│\u001b[0m   \u001b[2m23 \u001b[0m\u001b[2m│   │   │   │   \u001b[0mrun_name = model_name + \u001b[33m\"\u001b[0m\u001b[33m_\u001b[0m\u001b[33m\"\u001b[0m+ \u001b[96mstr\u001b[0m(i)+\u001b[33m\"\u001b[0m\u001b[33m_\u001b[0m\u001b[33m\"\u001b[0m+ \u001b[96mstr\u001b[0m(p_1)+\u001b[33m\"\u001b[0m\u001b[33m_\u001b[0m\u001b[33m\"\u001b[0m+\u001b[96mstr\u001b[0m(p_2)              \u001b[31m│\u001b[0m\n",
       "\u001b[31m│\u001b[0m \u001b[31m❱ \u001b[0m24 \u001b[2m│   │   │   │   \u001b[0m\u001b[94mwith\u001b[0m mlflow.start_run(run_name=run_name) \u001b[94mas\u001b[0m run:                            \u001b[31m│\u001b[0m\n",
       "\u001b[31m│\u001b[0m   \u001b[2m25 \u001b[0m\u001b[2m│   │   │   │   │   \u001b[0m\u001b[96mprint\u001b[0m(p_1,p_2)                                                          \u001b[31m│\u001b[0m\n",
       "\u001b[31m│\u001b[0m   \u001b[2m26 \u001b[0m\u001b[2m│   │   │   │   │   \u001b[0m\u001b[96mprint\u001b[0m(model)                                                            \u001b[31m│\u001b[0m\n",
       "\u001b[31m│\u001b[0m   \u001b[2m27 \u001b[0m\u001b[2m│   │   │   │   │   \u001b[0mmodel = RandomForestClassifier(n_estimators = p_1, max_depth = p_2,     \u001b[31m│\u001b[0m\n",
       "\u001b[31m│\u001b[0m                                                                                                  \u001b[31m│\u001b[0m\n",
       "\u001b[31m│\u001b[0m \u001b[33mC:\\Users\\dggua\\anaconda3\\envs\\test_env\\lib\\site-packages\\mlflow\\tracking\\fluent.py\u001b[0m:\u001b[94m381\u001b[0m in        \u001b[31m│\u001b[0m\n",
       "\u001b[31m│\u001b[0m \u001b[92mstart_run\u001b[0m                                                                                        \u001b[31m│\u001b[0m\n",
       "\u001b[31m│\u001b[0m                                                                                                  \u001b[31m│\u001b[0m\n",
       "\u001b[31m│\u001b[0m \u001b[33mC:\\Users\\dggua\\anaconda3\\envs\\test_env\\lib\\site-packages\\mlflow\\tracking\\client.py\u001b[0m:\u001b[94m353\u001b[0m in        \u001b[31m│\u001b[0m\n",
       "\u001b[31m│\u001b[0m \u001b[92mcreate_run\u001b[0m                                                                                       \u001b[31m│\u001b[0m\n",
       "\u001b[31m│\u001b[0m                                                                                                  \u001b[31m│\u001b[0m\n",
       "\u001b[31m│\u001b[0m \u001b[33mC:\\Users\\dggua\\anaconda3\\envs\\test_env\\lib\\site-packages\\mlflow\\tracking\\_tracking_service\\clien\u001b[0m \u001b[31m│\u001b[0m\n",
       "\u001b[31m│\u001b[0m \u001b[33mt.py\u001b[0m:\u001b[94m139\u001b[0m in \u001b[92mcreate_run\u001b[0m                                                                           \u001b[31m│\u001b[0m\n",
       "\u001b[31m│\u001b[0m                                                                                                  \u001b[31m│\u001b[0m\n",
       "\u001b[31m│\u001b[0m \u001b[33mC:\\Users\\dggua\\anaconda3\\envs\\test_env\\lib\\site-packages\\mlflow\\store\\tracking\\rest_store.py\u001b[0m:\u001b[94m187\u001b[0m \u001b[31m│\u001b[0m\n",
       "\u001b[31m│\u001b[0m in \u001b[92mcreate_run\u001b[0m                                                                                    \u001b[31m│\u001b[0m\n",
       "\u001b[31m│\u001b[0m                                                                                                  \u001b[31m│\u001b[0m\n",
       "\u001b[31m│\u001b[0m \u001b[33mC:\\Users\\dggua\\anaconda3\\envs\\test_env\\lib\\site-packages\\mlflow\\store\\tracking\\rest_store.py\u001b[0m:\u001b[94m60\u001b[0m  \u001b[31m│\u001b[0m\n",
       "\u001b[31m│\u001b[0m in \u001b[92m_call_endpoint\u001b[0m                                                                                \u001b[31m│\u001b[0m\n",
       "\u001b[31m│\u001b[0m                                                                                                  \u001b[31m│\u001b[0m\n",
       "\u001b[31m│\u001b[0m \u001b[33mC:\\Users\\dggua\\anaconda3\\envs\\test_env\\lib\\site-packages\\mlflow\\utils\\rest_utils.py\u001b[0m:\u001b[94m219\u001b[0m in       \u001b[31m│\u001b[0m\n",
       "\u001b[31m│\u001b[0m \u001b[92mcall_endpoint\u001b[0m                                                                                    \u001b[31m│\u001b[0m\n",
       "\u001b[31m│\u001b[0m                                                                                                  \u001b[31m│\u001b[0m\n",
       "\u001b[31m│\u001b[0m \u001b[33mC:\\Users\\dggua\\anaconda3\\envs\\test_env\\lib\\site-packages\\mlflow\\utils\\rest_utils.py\u001b[0m:\u001b[94m130\u001b[0m in       \u001b[31m│\u001b[0m\n",
       "\u001b[31m│\u001b[0m \u001b[92mhttp_request\u001b[0m                                                                                     \u001b[31m│\u001b[0m\n",
       "\u001b[31m╰──────────────────────────────────────────────────────────────────────────────────────────────────╯\u001b[0m\n",
       "\u001b[1;91mMlflowException: \u001b[0mAPI request to \u001b[4;94mhttp://127.0.0.1:5000/api/2.0/mlflow/runs/create\u001b[0m failed with exception \n",
       "\u001b[1;35mHTTPConnectionPool\u001b[0m\u001b[1m(\u001b[0m\u001b[33mhost\u001b[0m=\u001b[32m'127.0.0.1'\u001b[0m, \u001b[33mport\u001b[0m=\u001b[1;36m5000\u001b[0m\u001b[1m)\u001b[0m: Max retries exceeded with url: \u001b[35m/api/2.0/mlflow/runs/\u001b[0m\u001b[95mcreate\u001b[0m \u001b[1m(\u001b[0mCaused\n",
       "by \u001b[1;35mResponseError\u001b[0m\u001b[1m(\u001b[0m\u001b[32m'too many 500 error responses'\u001b[0m\u001b[1m)\u001b[0m\u001b[1m)\u001b[0m\n"
      ]
     },
     "metadata": {},
     "output_type": "display_data"
    }
   ],
   "source": [
    "\n",
    "models_dict = {\n",
    "        'RandomForestClassifier': RandomForestClassifier(),\n",
    "        'DecisionTreeClassifier': DecisionTreeClassifier(),\n",
    "        'LogisticRegression':  LogisticRegression()\n",
    "    }\n",
    "solvers = ['lbfgs', 'liblinear', 'newton-cg', 'newton-cholesky', 'sag', 'saga']\n",
    "\n",
    "params = {\n",
    "            'RandomForestClassifier': {'n_estimators': [100,50,20],\n",
    "                                      'max_depth': [None, 10, 5, 20]},\n",
    "             'DecisionTreeClassifier': {'criterion' : [\"gini\", \"entropy\", 'log_loss'],\n",
    "                                      'max_depth': [None, 10, 5, 20]},\n",
    "            'LogisticRegression': solvers\n",
    "}\n",
    "\n",
    "results = {}\n",
    "\n",
    "for model_name, model in models_dict.items():\n",
    "    if model_name == 'RandomForestClassifier':\n",
    "\n",
    "        for p_1 in params[\"RandomForestClassifier\"][\"n_estimators\"]:\n",
    "            for p_2 in params[\"RandomForestClassifier\"][\"max_depth\"]:\n",
    "                run_name = model_name + \"_\"+ str(i)+\"_\"+ str(p_1)+\"_\"+str(p_2)\n",
    "                with mlflow.start_run(run_name=run_name) as run:\n",
    "                    print(p_1,p_2)\n",
    "                    print(model)\n",
    "                    model = RandomForestClassifier(n_estimators = p_1, max_depth = p_2, random_state = 42)\n",
    "                    model.fit(X_train, y_train)\n",
    "                    y_pred = model.predict(X_test)\n",
    "                    train_score = f1_score(y_test, y_pred)\n",
    "                    results[run_name] = train_score\n",
    "    elif model_name == 'DecisionTreeClassifier':\n",
    "        for p_1 in params[\"DecisionTreeClassifier\"][\"criterion\"]:\n",
    "            for p_2 in params[\"DecisionTreeClassifier\"][\"max_depth\"]:\n",
    "                run_name = model_name + \"_\"+ str(i)+\"_\"+ str(p_1)+\"_\"+str(p_2)\n",
    "                with mlflow.start_run(run_name=run_name) as run:\n",
    "                    model = DecisionTreeClassifier(criterion = p_1, max_depth = p_2, random_state = 42)\n",
    "                    model.fit(X_train, y_train)\n",
    "                    y_pred = model.predict(X_test)\n",
    "                    train_score = f1_score(y_test, y_pred)\n",
    "                    results[run_name] = train_score\n",
    "    else:\n",
    "        for i in params['LogisticRegression']:\n",
    "            with mlflow.start_run(run_name=run_name) as run:\n",
    "                model = LogisticRegression(solver= i,random_state=42)\n",
    "                model.fit(X_train, y_train)\n",
    "                y_pred = model.predict(X_test)\n",
    "                train_score = f1_score(y_test, y_pred)\n",
    "                results[run_name] = train_score\n",
    "    best_model_name = max(results, key=results.get)\n",
    "    print(best_model_name, results[best_model_name])\n",
    "mlflow.end_run()"
   ]
  },
  {
   "cell_type": "code",
   "execution_count": 37,
   "id": "417418eb-1f41-485c-8510-9e91f460b0e6",
   "metadata": {},
   "outputs": [
    {
     "name": "stdout",
     "output_type": "stream",
     "text": [
      "Loading model from: runs:/57db8597d39e48df8b163ee9cd269e60/model\n"
     ]
    }
   ],
   "source": [
    "run_id = run.info.run_id\n",
    "model_path = f\"runs:/{run_id}/model\"\n",
    "print(f\"Loading model from: {model_path}\")"
   ]
  },
  {
   "cell_type": "code",
   "execution_count": 39,
   "id": "ab2d60af-9a9b-404d-80b5-e2d4c1d9d920",
   "metadata": {},
   "outputs": [
    {
     "name": "stderr",
     "output_type": "stream",
     "text": [
      "Successfully registered model 'sk_leanr_test'.\n",
      "2024/06/29 18:39:26 INFO mlflow.store.model_registry.abstract_store: Waiting up to 300 seconds for model version to finish creation. Model name: sk_leanr_test, version 1\n",
      "Created version '1' of model 'sk_leanr_test'.\n"
     ]
    }
   ],
   "source": [
    "client = MlflowClient()\n",
    "model_name = \"sk_leanr_test\"\n",
    "result = mlflow.register_model(\n",
    "    model_path, model_name\n",
    ")"
   ]
  },
  {
   "cell_type": "code",
   "execution_count": 23,
   "id": "c07cd896-c2e6-42a1-8daa-196904ebcc7b",
   "metadata": {},
   "outputs": [],
   "source": [
    "\n",
    "\n",
    "client = MlflowClient()"
   ]
  },
  {
   "cell_type": "code",
   "execution_count": 25,
   "id": "d7c83981-869c-437a-a1eb-3c7d4c2503e1",
   "metadata": {},
   "outputs": [],
   "source": [
    "client.set_registered_model_tag(\"sk-learn_test\", \"task\", \"classification\")\n",
    "# Set model version tag\n",
    "client.set_model_version_tag(\"sk-learn_test\", \"1\", \"validation_status\", \"approved\")\n",
    "#create \"champion\" alias for version 1 of model \n",
    "client.set_registered_model_alias(\"sk-learn_test\", \"Champion\", \"1\")\n",
    "# get a model version by alias\n",
    "model_champion = client.get_model_version_by_alias(\"sk-learn_test\", \"Champion\")\n",
    "# delete the alias\n",
    "client.delete_registered_model_alias(\"sk-learn_test\", \"Champion\")"
   ]
  },
  {
   "cell_type": "code",
   "execution_count": 33,
   "id": "c6a93062-66fa-4752-a8cb-7c8869a27b5c",
   "metadata": {},
   "outputs": [
    {
     "name": "stdout",
     "output_type": "stream",
     "text": [
      "Loading model from: models:/sk-learn_test/1\n"
     ]
    }
   ],
   "source": [
    "# get model path from run id\n",
    "model_name = \"sk-learn_test\"\n",
    "model_path = f\"models:/{model_name}/1\"\n",
    "print(f\"Loading model from: {model_path}\")"
   ]
  },
  {
   "cell_type": "code",
   "execution_count": null,
   "id": "9326db6e-145b-4e17-a46e-872cf13d85a3",
   "metadata": {},
   "outputs": [],
   "source": []
  },
  {
   "cell_type": "code",
   "execution_count": 34,
   "id": "126b4812-3475-4397-9f1c-36919f831924",
   "metadata": {},
   "outputs": [
    {
     "data": {
      "application/vnd.jupyter.widget-view+json": {
       "model_id": "6621bad198704421ab35ec9e55a9d012",
       "version_major": 2,
       "version_minor": 0
      },
      "text/plain": [
       "Downloading artifacts:   0%|          | 0/11 [00:00<?, ?it/s]"
      ]
     },
     "metadata": {},
     "output_type": "display_data"
    },
    {
     "name": "stderr",
     "output_type": "stream",
     "text": [
      "2024/06/29 18:29:33 INFO mlflow.store.artifact.artifact_repo: The progress bar can be disabled by setting the environment variable MLFLOW_ENABLE_ARTIFACTS_PROGRESS_BAR to false\n"
     ]
    },
    {
     "data": {
      "text/html": [
       "<pre style=\"white-space:pre;overflow-x:auto;line-height:normal;font-family:Menlo,'DejaVu Sans Mono',consolas,'Courier New',monospace\"><span style=\"color: #800000; text-decoration-color: #800000\">╭─────────────────────────────── </span><span style=\"color: #800000; text-decoration-color: #800000; font-weight: bold\">Traceback </span><span style=\"color: #bf7f7f; text-decoration-color: #bf7f7f; font-weight: bold\">(most recent call last)</span><span style=\"color: #800000; text-decoration-color: #800000\"> ────────────────────────────────╮</span>\n",
       "<span style=\"color: #800000; text-decoration-color: #800000\">│</span> in <span style=\"color: #00ff00; text-decoration-color: #00ff00\">&lt;module&gt;</span>:<span style=\"color: #0000ff; text-decoration-color: #0000ff\">2</span>                                                                                    <span style=\"color: #800000; text-decoration-color: #800000\">│</span>\n",
       "<span style=\"color: #800000; text-decoration-color: #800000\">│</span>                                                                                                  <span style=\"color: #800000; text-decoration-color: #800000\">│</span>\n",
       "<span style=\"color: #800000; text-decoration-color: #800000\">│</span>   <span style=\"color: #7f7f7f; text-decoration-color: #7f7f7f\">1 # load using sklearn flavor</span>                                                                  <span style=\"color: #800000; text-decoration-color: #800000\">│</span>\n",
       "<span style=\"color: #800000; text-decoration-color: #800000\">│</span> <span style=\"color: #800000; text-decoration-color: #800000\">❱ </span>2 loaded_model = mlflow.sklearn.load_model(model_path)                                         <span style=\"color: #800000; text-decoration-color: #800000\">│</span>\n",
       "<span style=\"color: #800000; text-decoration-color: #800000\">│</span>   <span style=\"color: #7f7f7f; text-decoration-color: #7f7f7f\">3 </span>                                                                                             <span style=\"color: #800000; text-decoration-color: #800000\">│</span>\n",
       "<span style=\"color: #800000; text-decoration-color: #800000\">│</span>                                                                                                  <span style=\"color: #800000; text-decoration-color: #800000\">│</span>\n",
       "<span style=\"color: #800000; text-decoration-color: #800000\">│</span> <span style=\"color: #808000; text-decoration-color: #808000\">C:\\Users\\dggua\\anaconda3\\envs\\test_env\\lib\\site-packages\\mlflow\\sklearn\\__init__.py</span>:<span style=\"color: #0000ff; text-decoration-color: #0000ff\">631</span> in       <span style=\"color: #800000; text-decoration-color: #800000\">│</span>\n",
       "<span style=\"color: #800000; text-decoration-color: #800000\">│</span> <span style=\"color: #00ff00; text-decoration-color: #00ff00\">load_model</span>                                                                                       <span style=\"color: #800000; text-decoration-color: #800000\">│</span>\n",
       "<span style=\"color: #800000; text-decoration-color: #800000\">│</span>                                                                                                  <span style=\"color: #800000; text-decoration-color: #800000\">│</span>\n",
       "<span style=\"color: #800000; text-decoration-color: #800000\">│</span> <span style=\"color: #808000; text-decoration-color: #808000\">C:\\Users\\dggua\\anaconda3\\envs\\test_env\\lib\\site-packages\\mlflow\\tracking\\artifact_utils.py</span>:<span style=\"color: #0000ff; text-decoration-color: #0000ff\">105</span>   <span style=\"color: #800000; text-decoration-color: #800000\">│</span>\n",
       "<span style=\"color: #800000; text-decoration-color: #800000\">│</span> in <span style=\"color: #00ff00; text-decoration-color: #00ff00\">_download_artifact_from_uri</span>                                                                   <span style=\"color: #800000; text-decoration-color: #800000\">│</span>\n",
       "<span style=\"color: #800000; text-decoration-color: #800000\">│</span>                                                                                                  <span style=\"color: #800000; text-decoration-color: #800000\">│</span>\n",
       "<span style=\"color: #800000; text-decoration-color: #800000\">│</span> <span style=\"color: #808000; text-decoration-color: #808000\">C:\\Users\\dggua\\anaconda3\\envs\\test_env\\lib\\site-packages\\mlflow\\store\\artifact\\models_artifact_r</span> <span style=\"color: #800000; text-decoration-color: #800000\">│</span>\n",
       "<span style=\"color: #800000; text-decoration-color: #800000\">│</span> <span style=\"color: #808000; text-decoration-color: #808000\">epo.py</span>:<span style=\"color: #0000ff; text-decoration-color: #0000ff\">184</span> in <span style=\"color: #00ff00; text-decoration-color: #00ff00\">download_artifacts</span>                                                                 <span style=\"color: #800000; text-decoration-color: #800000\">│</span>\n",
       "<span style=\"color: #800000; text-decoration-color: #800000\">│</span>                                                                                                  <span style=\"color: #800000; text-decoration-color: #800000\">│</span>\n",
       "<span style=\"color: #800000; text-decoration-color: #800000\">│</span> <span style=\"color: #808000; text-decoration-color: #808000\">C:\\Users\\dggua\\anaconda3\\envs\\test_env\\lib\\site-packages\\mlflow\\store\\artifact\\artifact_repo.py</span>: <span style=\"color: #800000; text-decoration-color: #800000\">│</span>\n",
       "<span style=\"color: #800000; text-decoration-color: #800000\">│</span> <span style=\"color: #0000ff; text-decoration-color: #0000ff\">230</span> in <span style=\"color: #00ff00; text-decoration-color: #00ff00\">download_artifacts</span>                                                                        <span style=\"color: #800000; text-decoration-color: #800000\">│</span>\n",
       "<span style=\"color: #800000; text-decoration-color: #800000\">╰──────────────────────────────────────────────────────────────────────────────────────────────────╯</span>\n",
       "<span style=\"color: #ff0000; text-decoration-color: #ff0000; font-weight: bold\">MlflowException: </span>The following failures occurred while downloading one or more artifacts from \n",
       "<span style=\"color: #0000ff; text-decoration-color: #0000ff; text-decoration: underline\">http://127.0.0.1:5000/api/2.0/mlflow-artifacts/artifacts/870436518149162304/cc6297cbf717446a9f8f5bde183d6da7/artifa</span>\n",
       "<span style=\"color: #0000ff; text-decoration-color: #0000ff; text-decoration: underline\">cts/model:</span>\n",
       "##### File metadata/conda.yaml #####\n",
       "API request to \n",
       "<span style=\"color: #0000ff; text-decoration-color: #0000ff; text-decoration: underline\">http://127.0.0.1:5000/api/2.0/mlflow-artifacts/artifacts/870436518149162304/cc6297cbf717446a9f8f5bde183d6da7/artifa</span>\n",
       "<span style=\"color: #0000ff; text-decoration-color: #0000ff; text-decoration: underline\">cts/model/metadata/conda.yaml</span> failed with exception <span style=\"color: #800080; text-decoration-color: #800080; font-weight: bold\">HTTPConnectionPool</span><span style=\"font-weight: bold\">(</span><span style=\"color: #808000; text-decoration-color: #808000\">host</span>=<span style=\"color: #008000; text-decoration-color: #008000\">'127.0.0.1'</span>, <span style=\"color: #808000; text-decoration-color: #808000\">port</span>=<span style=\"color: #008080; text-decoration-color: #008080; font-weight: bold\">5000</span><span style=\"font-weight: bold\">)</span>: Max retries \n",
       "exceeded with url: \n",
       "<span style=\"color: #800080; text-decoration-color: #800080\">/api/2.0/mlflow-artifacts/artifacts/870436518149162304/cc6297cbf717446a9f8f5bde183d6da7/artifacts/model/metadata/</span><span style=\"color: #ff00ff; text-decoration-color: #ff00ff\">co</span>\n",
       "<span style=\"color: #ff00ff; text-decoration-color: #ff00ff\">nda.yaml</span> <span style=\"font-weight: bold\">(</span>Caused by <span style=\"color: #800080; text-decoration-color: #800080; font-weight: bold\">ResponseError</span><span style=\"font-weight: bold\">(</span><span style=\"color: #008000; text-decoration-color: #008000\">'too many 500 error responses'</span><span style=\"font-weight: bold\">))</span>\n",
       "##### File conda.yaml #####\n",
       "API request to \n",
       "<span style=\"color: #0000ff; text-decoration-color: #0000ff; text-decoration: underline\">http://127.0.0.1:5000/api/2.0/mlflow-artifacts/artifacts/870436518149162304/cc6297cbf717446a9f8f5bde183d6da7/artifa</span>\n",
       "<span style=\"color: #0000ff; text-decoration-color: #0000ff; text-decoration: underline\">cts/model/conda.yaml</span> failed with exception <span style=\"color: #800080; text-decoration-color: #800080; font-weight: bold\">HTTPConnectionPool</span><span style=\"font-weight: bold\">(</span><span style=\"color: #808000; text-decoration-color: #808000\">host</span>=<span style=\"color: #008000; text-decoration-color: #008000\">'127.0.0.1'</span>, <span style=\"color: #808000; text-decoration-color: #808000\">port</span>=<span style=\"color: #008080; text-decoration-color: #008080; font-weight: bold\">5000</span><span style=\"font-weight: bold\">)</span>: Max retries exceeded \n",
       "with url: \n",
       "<span style=\"color: #800080; text-decoration-color: #800080\">/api/2.0/mlflow-artifacts/artifacts/870436518149162304/cc6297cbf717446a9f8f5bde183d6da7/artifacts/model/</span><span style=\"color: #ff00ff; text-decoration-color: #ff00ff\">conda.yaml</span> \n",
       "<span style=\"font-weight: bold\">(</span>Caused by <span style=\"color: #800080; text-decoration-color: #800080; font-weight: bold\">ResponseError</span><span style=\"font-weight: bold\">(</span><span style=\"color: #008000; text-decoration-color: #008000\">'too many 500 error responses'</span><span style=\"font-weight: bold\">))</span>\n",
       "##### File python_env.yaml #####\n",
       "API request to \n",
       "<span style=\"color: #0000ff; text-decoration-color: #0000ff; text-decoration: underline\">http://127.0.0.1:5000/api/2.0/mlflow-artifacts/artifacts/870436518149162304/cc6297cbf717446a9f8f5bde183d6da7/artifa</span>\n",
       "<span style=\"color: #0000ff; text-decoration-color: #0000ff; text-decoration: underline\">cts/model/python_env.yaml</span> failed with exception <span style=\"color: #800080; text-decoration-color: #800080; font-weight: bold\">HTTPConnectionPool</span><span style=\"font-weight: bold\">(</span><span style=\"color: #808000; text-decoration-color: #808000\">host</span>=<span style=\"color: #008000; text-decoration-color: #008000\">'127.0.0.1'</span>, <span style=\"color: #808000; text-decoration-color: #808000\">port</span>=<span style=\"color: #008080; text-decoration-color: #008080; font-weight: bold\">5000</span><span style=\"font-weight: bold\">)</span>: Max retries \n",
       "exceeded with url: \n",
       "<span style=\"color: #800080; text-decoration-color: #800080\">/api/2.0/mlflow-artifacts/artifacts/870436518149162304/cc6297cbf717446a9f8f5bde183d6da7/artifacts/model/</span><span style=\"color: #ff00ff; text-decoration-color: #ff00ff\">python_env.</span>\n",
       "<span style=\"color: #ff00ff; text-decoration-color: #ff00ff\">yaml</span> <span style=\"font-weight: bold\">(</span>Caused by <span style=\"color: #800080; text-decoration-color: #800080; font-weight: bold\">ResponseError</span><span style=\"font-weight: bold\">(</span><span style=\"color: #008000; text-decoration-color: #008000\">'too many 500 error responses'</span><span style=\"font-weight: bold\">))</span>\n",
       "##### File model.pkl #####\n",
       "API request to \n",
       "<span style=\"color: #0000ff; text-decoration-color: #0000ff; text-decoration: underline\">http://127.0.0.1:5000/api/2.0/mlflow-artifacts/artifacts/870436518149162304/cc6297cbf717446a9f8f5bde183d6da7/artifa</span>\n",
       "<span style=\"color: #0000ff; text-decoration-color: #0000ff; text-decoration: underline\">cts/model/model.pkl</span> failed with exception <span style=\"color: #800080; text-decoration-color: #800080; font-weight: bold\">HTTPConnectionPool</span><span style=\"font-weight: bold\">(</span><span style=\"color: #808000; text-decoration-color: #808000\">host</span>=<span style=\"color: #008000; text-decoration-color: #008000\">'127.0.0.1'</span>, <span style=\"color: #808000; text-decoration-color: #808000\">port</span>=<span style=\"color: #008080; text-decoration-color: #008080; font-weight: bold\">5000</span><span style=\"font-weight: bold\">)</span>: Max retries exceeded \n",
       "with url: \n",
       "<span style=\"color: #800080; text-decoration-color: #800080\">/api/2.0/mlflow-artifacts/artifacts/870436518149162304/cc6297cbf717446a9f8f5bde183d6da7/artifacts/model/</span><span style=\"color: #ff00ff; text-decoration-color: #ff00ff\">model.pkl</span> \n",
       "<span style=\"font-weight: bold\">(</span>Caused by <span style=\"color: #800080; text-decoration-color: #800080; font-weight: bold\">ResponseError</span><span style=\"font-weight: bold\">(</span><span style=\"color: #008000; text-decoration-color: #008000\">'too many 500 error responses'</span><span style=\"font-weight: bold\">))</span>\n",
       "##### File input_example.json #####\n",
       "API request to \n",
       "<span style=\"color: #0000ff; text-decoration-color: #0000ff; text-decoration: underline\">http://127.0.0.1:5000/api/2.0/mlflow-artifacts/artifacts/870436518149162304/cc6297cbf717446a9f8f5bde183d6da7/artifa</span>\n",
       "<span style=\"color: #0000ff; text-decoration-color: #0000ff; text-decoration: underline\">cts/model/input_example.json</span> failed with exception <span style=\"color: #800080; text-decoration-color: #800080; font-weight: bold\">HTTPConnectionPool</span><span style=\"font-weight: bold\">(</span><span style=\"color: #808000; text-decoration-color: #808000\">host</span>=<span style=\"color: #008000; text-decoration-color: #008000\">'127.0.0.1'</span>, <span style=\"color: #808000; text-decoration-color: #808000\">port</span>=<span style=\"color: #008080; text-decoration-color: #008080; font-weight: bold\">5000</span><span style=\"font-weight: bold\">)</span>: Max retries \n",
       "exceeded with url: \n",
       "<span style=\"color: #800080; text-decoration-color: #800080\">/api/2.0/mlflow-artifacts/artifacts/870436518149162304/cc6297cbf717446a9f8f5bde183d6da7/artifacts/model/</span><span style=\"color: #ff00ff; text-decoration-color: #ff00ff\">input_examp</span>\n",
       "<span style=\"color: #ff00ff; text-decoration-color: #ff00ff\">le.json</span> <span style=\"font-weight: bold\">(</span>Caused by <span style=\"color: #800080; text-decoration-color: #800080; font-weight: bold\">ResponseError</span><span style=\"font-weight: bold\">(</span><span style=\"color: #008000; text-decoration-color: #008000\">'too many 500 error responses'</span><span style=\"font-weight: bold\">))</span>\n",
       "##### File metadata/requirements.txt #####\n",
       "API request to \n",
       "<span style=\"color: #0000ff; text-decoration-color: #0000ff; text-decoration: underline\">http://127.0.0.1:5000/api/2.0/mlflow-artifacts/artifacts/870436518149162304/cc6297cbf717446a9f8f5bde183d6da7/artifa</span>\n",
       "<span style=\"color: #0000ff; text-decoration-color: #0000ff; text-decoration: underline\">cts/model/metadata/requirements.txt</span> failed with exception <span style=\"color: #800080; text-decoration-color: #800080; font-weight: bold\">HTTPConnectionPool</span><span style=\"font-weight: bold\">(</span><span style=\"color: #808000; text-decoration-color: #808000\">host</span>=<span style=\"color: #008000; text-decoration-color: #008000\">'127.0.0.1'</span>, <span style=\"color: #808000; text-decoration-color: #808000\">port</span>=<span style=\"color: #008080; text-decoration-color: #008080; font-weight: bold\">5000</span><span style=\"font-weight: bold\">)</span>: Max \n",
       "retries exceeded with url: \n",
       "<span style=\"color: #800080; text-decoration-color: #800080\">/api/2.0/mlflow-artifacts/artifacts/870436518149162304/cc6297cbf717446a9f8f5bde183d6da7/artifacts/model/metadata/</span><span style=\"color: #ff00ff; text-decoration-color: #ff00ff\">re</span>\n",
       "<span style=\"color: #ff00ff; text-decoration-color: #ff00ff\">quirements.txt</span> <span style=\"font-weight: bold\">(</span>Caused by <span style=\"color: #800080; text-decoration-color: #800080; font-weight: bold\">ResponseError</span><span style=\"font-weight: bold\">(</span><span style=\"color: #008000; text-decoration-color: #008000\">'too many 500 error responses'</span><span style=\"font-weight: bold\">))</span>\n",
       "##### File metadata/input_example.json #####\n",
       "API request to \n",
       "<span style=\"color: #0000ff; text-decoration-color: #0000ff; text-decoration: underline\">http://127.0.0.1:5000/api/2.0/mlflow-artifacts/artifacts/870436518149162304/cc6297cbf717446a9f8f5bde183d6da7/artifa</span>\n",
       "<span style=\"color: #0000ff; text-decoration-color: #0000ff; text-decoration: underline\">cts/model/metadata/input_example.json</span> failed with exception <span style=\"color: #800080; text-decoration-color: #800080; font-weight: bold\">HTTPConnectionPool</span><span style=\"font-weight: bold\">(</span><span style=\"color: #808000; text-decoration-color: #808000\">host</span>=<span style=\"color: #008000; text-decoration-color: #008000\">'127.0.0.1'</span>, <span style=\"color: #808000; text-decoration-color: #808000\">port</span>=<span style=\"color: #008080; text-decoration-color: #008080; font-weight: bold\">5000</span><span style=\"font-weight: bold\">)</span>: Max \n",
       "retries exceeded with url: \n",
       "<span style=\"color: #800080; text-decoration-color: #800080\">/api/2.0/mlflow-artifacts/artifacts/870436518149162304/cc6297cbf717446a9f8f5bde183d6da7/artifacts/model/metadata/</span><span style=\"color: #ff00ff; text-decoration-color: #ff00ff\">in</span>\n",
       "<span style=\"color: #ff00ff; text-decoration-color: #ff00ff\">put_example.json</span> <span style=\"font-weight: bold\">(</span>Caused by <span style=\"color: #800080; text-decoration-color: #800080; font-weight: bold\">ResponseError</span><span style=\"font-weight: bold\">(</span><span style=\"color: #008000; text-decoration-color: #008000\">'too many 500 error responses'</span><span style=\"font-weight: bold\">))</span>\n",
       "##### File MLmodel #####\n",
       "API request to \n",
       "<span style=\"color: #0000ff; text-decoration-color: #0000ff; text-decoration: underline\">http://127.0.0.1:5000/api/2.0/mlflow-artifacts/artifacts/870436518149162304/cc6297cbf717446a9f8f5bde183d6da7/artifa</span>\n",
       "<span style=\"color: #0000ff; text-decoration-color: #0000ff; text-decoration: underline\">cts/model/MLmodel</span> failed with exception <span style=\"color: #800080; text-decoration-color: #800080; font-weight: bold\">HTTPConnectionPool</span><span style=\"font-weight: bold\">(</span><span style=\"color: #808000; text-decoration-color: #808000\">host</span>=<span style=\"color: #008000; text-decoration-color: #008000\">'127.0.0.1'</span>, <span style=\"color: #808000; text-decoration-color: #808000\">port</span>=<span style=\"color: #008080; text-decoration-color: #008080; font-weight: bold\">5000</span><span style=\"font-weight: bold\">)</span>: Max retries exceeded with \n",
       "url: \n",
       "<span style=\"color: #800080; text-decoration-color: #800080\">/api/2.0/mlflow-artifacts/artifacts/870436518149162304/cc6297cbf717446a9f8f5bde183d6da7/artifacts/model/</span><span style=\"color: #ff00ff; text-decoration-color: #ff00ff\">MLmodel</span> \n",
       "<span style=\"font-weight: bold\">(</span>Caused by <span style=\"color: #800080; text-decoration-color: #800080; font-weight: bold\">ResponseError</span><span style=\"font-weight: bold\">(</span><span style=\"color: #008000; text-decoration-color: #008000\">'too many 500 error responses'</span><span style=\"font-weight: bold\">))</span>\n",
       "##### File requirements.txt #####\n",
       "API request to \n",
       "<span style=\"color: #0000ff; text-decoration-color: #0000ff; text-decoration: underline\">http://127.0.0.1:5000/api/2.0/mlflow-artifacts/artifacts/870436518149162304/cc6297cbf717446a9f8f5bde183d6da7/artifa</span>\n",
       "<span style=\"color: #0000ff; text-decoration-color: #0000ff; text-decoration: underline\">cts/model/requirements.txt</span> failed with exception <span style=\"color: #800080; text-decoration-color: #800080; font-weight: bold\">HTTPConnectionPool</span><span style=\"font-weight: bold\">(</span><span style=\"color: #808000; text-decoration-color: #808000\">host</span>=<span style=\"color: #008000; text-decoration-color: #008000\">'127.0.0.1'</span>, <span style=\"color: #808000; text-decoration-color: #808000\">port</span>=<span style=\"color: #008080; text-decoration-color: #008080; font-weight: bold\">5000</span><span style=\"font-weight: bold\">)</span>: Max retries \n",
       "exceeded with url: \n",
       "<span style=\"color: #800080; text-decoration-color: #800080\">/api/2.0/mlflow-artifacts/artifacts/870436518149162304/cc6297cbf717446a9f8f5bde183d6da7/artifacts/model/</span><span style=\"color: #ff00ff; text-decoration-color: #ff00ff\">requirement</span>\n",
       "<span style=\"color: #ff00ff; text-decoration-color: #ff00ff\">s.txt</span> <span style=\"font-weight: bold\">(</span>Caused by <span style=\"color: #800080; text-decoration-color: #800080; font-weight: bold\">ResponseError</span><span style=\"font-weight: bold\">(</span><span style=\"color: #008000; text-decoration-color: #008000\">'too many 500 error responses'</span><span style=\"font-weight: bold\">))</span>\n",
       "##### File metadata/MLmodel #####\n",
       "API request to \n",
       "<span style=\"color: #0000ff; text-decoration-color: #0000ff; text-decoration: underline\">http://127.0.0.1:5000/api/2.0/mlflow-artifacts/artifacts/870436518149162304/cc6297cbf717446a9f8f5bde183d6da7/artifa</span>\n",
       "<span style=\"color: #0000ff; text-decoration-color: #0000ff; text-decoration: underline\">cts/model/metadata/MLmodel</span> failed with exception <span style=\"color: #800080; text-decoration-color: #800080; font-weight: bold\">HTTPConnectionPool</span><span style=\"font-weight: bold\">(</span><span style=\"color: #808000; text-decoration-color: #808000\">host</span>=<span style=\"color: #008000; text-decoration-color: #008000\">'127.0.0.1'</span>, <span style=\"color: #808000; text-decoration-color: #808000\">port</span>=<span style=\"color: #008080; text-decoration-color: #008080; font-weight: bold\">5000</span><span style=\"font-weight: bold\">)</span>: Max retries \n",
       "exceeded with url: \n",
       "<span style=\"color: #800080; text-decoration-color: #800080\">/api/2.0/mlflow-artifacts/artifacts/870436518149162304/cc6297cbf717446a9f8f5bde183d6da7/artifacts/model/metadata/</span><span style=\"color: #ff00ff; text-decoration-color: #ff00ff\">ML</span>\n",
       "<span style=\"color: #ff00ff; text-decoration-color: #ff00ff\">model</span> <span style=\"font-weight: bold\">(</span>Caused by <span style=\"color: #800080; text-decoration-color: #800080; font-weight: bold\">ResponseError</span><span style=\"font-weight: bold\">(</span><span style=\"color: #008000; text-decoration-color: #008000\">'too many 500 error responses'</span><span style=\"font-weight: bold\">))</span>\n",
       "##### File metadata/python_env.yaml #####\n",
       "API request to \n",
       "<span style=\"color: #0000ff; text-decoration-color: #0000ff; text-decoration: underline\">http://127.0.0.1:5000/api/2.0/mlflow-artifacts/artifacts/870436518149162304/cc6297cbf717446a9f8f5bde183d6da7/artifa</span>\n",
       "<span style=\"color: #0000ff; text-decoration-color: #0000ff; text-decoration: underline\">cts/model/metadata/python_env.yaml</span> failed with exception <span style=\"color: #800080; text-decoration-color: #800080; font-weight: bold\">HTTPConnectionPool</span><span style=\"font-weight: bold\">(</span><span style=\"color: #808000; text-decoration-color: #808000\">host</span>=<span style=\"color: #008000; text-decoration-color: #008000\">'127.0.0.1'</span>, <span style=\"color: #808000; text-decoration-color: #808000\">port</span>=<span style=\"color: #008080; text-decoration-color: #008080; font-weight: bold\">5000</span><span style=\"font-weight: bold\">)</span>: Max \n",
       "retries exceeded with url: \n",
       "<span style=\"color: #800080; text-decoration-color: #800080\">/api/2.0/mlflow-artifacts/artifacts/870436518149162304/cc6297cbf717446a9f8f5bde183d6da7/artifacts/model/metadata/</span><span style=\"color: #ff00ff; text-decoration-color: #ff00ff\">py</span>\n",
       "<span style=\"color: #ff00ff; text-decoration-color: #ff00ff\">thon_env.yaml</span> <span style=\"font-weight: bold\">(</span>Caused by <span style=\"color: #800080; text-decoration-color: #800080; font-weight: bold\">ResponseError</span><span style=\"font-weight: bold\">(</span><span style=\"color: #008000; text-decoration-color: #008000\">'too many 500 error responses'</span><span style=\"font-weight: bold\">))</span>\n",
       "</pre>\n"
      ],
      "text/plain": [
       "\u001b[31m╭─\u001b[0m\u001b[31m──────────────────────────────\u001b[0m\u001b[31m \u001b[0m\u001b[1;31mTraceback \u001b[0m\u001b[1;2;31m(most recent call last)\u001b[0m\u001b[31m \u001b[0m\u001b[31m───────────────────────────────\u001b[0m\u001b[31m─╮\u001b[0m\n",
       "\u001b[31m│\u001b[0m in \u001b[92m<module>\u001b[0m:\u001b[94m2\u001b[0m                                                                                    \u001b[31m│\u001b[0m\n",
       "\u001b[31m│\u001b[0m                                                                                                  \u001b[31m│\u001b[0m\n",
       "\u001b[31m│\u001b[0m   \u001b[2m1 \u001b[0m\u001b[2m# load using sklearn flavor\u001b[0m                                                                  \u001b[31m│\u001b[0m\n",
       "\u001b[31m│\u001b[0m \u001b[31m❱ \u001b[0m2 loaded_model = mlflow.sklearn.load_model(model_path)                                         \u001b[31m│\u001b[0m\n",
       "\u001b[31m│\u001b[0m   \u001b[2m3 \u001b[0m                                                                                             \u001b[31m│\u001b[0m\n",
       "\u001b[31m│\u001b[0m                                                                                                  \u001b[31m│\u001b[0m\n",
       "\u001b[31m│\u001b[0m \u001b[33mC:\\Users\\dggua\\anaconda3\\envs\\test_env\\lib\\site-packages\\mlflow\\sklearn\\__init__.py\u001b[0m:\u001b[94m631\u001b[0m in       \u001b[31m│\u001b[0m\n",
       "\u001b[31m│\u001b[0m \u001b[92mload_model\u001b[0m                                                                                       \u001b[31m│\u001b[0m\n",
       "\u001b[31m│\u001b[0m                                                                                                  \u001b[31m│\u001b[0m\n",
       "\u001b[31m│\u001b[0m \u001b[33mC:\\Users\\dggua\\anaconda3\\envs\\test_env\\lib\\site-packages\\mlflow\\tracking\\artifact_utils.py\u001b[0m:\u001b[94m105\u001b[0m   \u001b[31m│\u001b[0m\n",
       "\u001b[31m│\u001b[0m in \u001b[92m_download_artifact_from_uri\u001b[0m                                                                   \u001b[31m│\u001b[0m\n",
       "\u001b[31m│\u001b[0m                                                                                                  \u001b[31m│\u001b[0m\n",
       "\u001b[31m│\u001b[0m \u001b[33mC:\\Users\\dggua\\anaconda3\\envs\\test_env\\lib\\site-packages\\mlflow\\store\\artifact\\models_artifact_r\u001b[0m \u001b[31m│\u001b[0m\n",
       "\u001b[31m│\u001b[0m \u001b[33mepo.py\u001b[0m:\u001b[94m184\u001b[0m in \u001b[92mdownload_artifacts\u001b[0m                                                                 \u001b[31m│\u001b[0m\n",
       "\u001b[31m│\u001b[0m                                                                                                  \u001b[31m│\u001b[0m\n",
       "\u001b[31m│\u001b[0m \u001b[33mC:\\Users\\dggua\\anaconda3\\envs\\test_env\\lib\\site-packages\\mlflow\\store\\artifact\\artifact_repo.py\u001b[0m: \u001b[31m│\u001b[0m\n",
       "\u001b[31m│\u001b[0m \u001b[94m230\u001b[0m in \u001b[92mdownload_artifacts\u001b[0m                                                                        \u001b[31m│\u001b[0m\n",
       "\u001b[31m╰──────────────────────────────────────────────────────────────────────────────────────────────────╯\u001b[0m\n",
       "\u001b[1;91mMlflowException: \u001b[0mThe following failures occurred while downloading one or more artifacts from \n",
       "\u001b[4;94mhttp://127.0.0.1:5000/api/2.0/mlflow-artifacts/artifacts/870436518149162304/cc6297cbf717446a9f8f5bde183d6da7/artifa\u001b[0m\n",
       "\u001b[4;94mcts/model:\u001b[0m\n",
       "##### File metadata/conda.yaml #####\n",
       "API request to \n",
       "\u001b[4;94mhttp://127.0.0.1:5000/api/2.0/mlflow-artifacts/artifacts/870436518149162304/cc6297cbf717446a9f8f5bde183d6da7/artifa\u001b[0m\n",
       "\u001b[4;94mcts/model/metadata/conda.yaml\u001b[0m failed with exception \u001b[1;35mHTTPConnectionPool\u001b[0m\u001b[1m(\u001b[0m\u001b[33mhost\u001b[0m=\u001b[32m'127.0.0.1'\u001b[0m, \u001b[33mport\u001b[0m=\u001b[1;36m5000\u001b[0m\u001b[1m)\u001b[0m: Max retries \n",
       "exceeded with url: \n",
       "\u001b[35m/api/2.0/mlflow-artifacts/artifacts/870436518149162304/cc6297cbf717446a9f8f5bde183d6da7/artifacts/model/metadata/\u001b[0m\u001b[95mco\u001b[0m\n",
       "\u001b[95mnda.yaml\u001b[0m \u001b[1m(\u001b[0mCaused by \u001b[1;35mResponseError\u001b[0m\u001b[1m(\u001b[0m\u001b[32m'too many 500 error responses'\u001b[0m\u001b[1m)\u001b[0m\u001b[1m)\u001b[0m\n",
       "##### File conda.yaml #####\n",
       "API request to \n",
       "\u001b[4;94mhttp://127.0.0.1:5000/api/2.0/mlflow-artifacts/artifacts/870436518149162304/cc6297cbf717446a9f8f5bde183d6da7/artifa\u001b[0m\n",
       "\u001b[4;94mcts/model/conda.yaml\u001b[0m failed with exception \u001b[1;35mHTTPConnectionPool\u001b[0m\u001b[1m(\u001b[0m\u001b[33mhost\u001b[0m=\u001b[32m'127.0.0.1'\u001b[0m, \u001b[33mport\u001b[0m=\u001b[1;36m5000\u001b[0m\u001b[1m)\u001b[0m: Max retries exceeded \n",
       "with url: \n",
       "\u001b[35m/api/2.0/mlflow-artifacts/artifacts/870436518149162304/cc6297cbf717446a9f8f5bde183d6da7/artifacts/model/\u001b[0m\u001b[95mconda.yaml\u001b[0m \n",
       "\u001b[1m(\u001b[0mCaused by \u001b[1;35mResponseError\u001b[0m\u001b[1m(\u001b[0m\u001b[32m'too many 500 error responses'\u001b[0m\u001b[1m)\u001b[0m\u001b[1m)\u001b[0m\n",
       "##### File python_env.yaml #####\n",
       "API request to \n",
       "\u001b[4;94mhttp://127.0.0.1:5000/api/2.0/mlflow-artifacts/artifacts/870436518149162304/cc6297cbf717446a9f8f5bde183d6da7/artifa\u001b[0m\n",
       "\u001b[4;94mcts/model/python_env.yaml\u001b[0m failed with exception \u001b[1;35mHTTPConnectionPool\u001b[0m\u001b[1m(\u001b[0m\u001b[33mhost\u001b[0m=\u001b[32m'127.0.0.1'\u001b[0m, \u001b[33mport\u001b[0m=\u001b[1;36m5000\u001b[0m\u001b[1m)\u001b[0m: Max retries \n",
       "exceeded with url: \n",
       "\u001b[35m/api/2.0/mlflow-artifacts/artifacts/870436518149162304/cc6297cbf717446a9f8f5bde183d6da7/artifacts/model/\u001b[0m\u001b[95mpython_env.\u001b[0m\n",
       "\u001b[95myaml\u001b[0m \u001b[1m(\u001b[0mCaused by \u001b[1;35mResponseError\u001b[0m\u001b[1m(\u001b[0m\u001b[32m'too many 500 error responses'\u001b[0m\u001b[1m)\u001b[0m\u001b[1m)\u001b[0m\n",
       "##### File model.pkl #####\n",
       "API request to \n",
       "\u001b[4;94mhttp://127.0.0.1:5000/api/2.0/mlflow-artifacts/artifacts/870436518149162304/cc6297cbf717446a9f8f5bde183d6da7/artifa\u001b[0m\n",
       "\u001b[4;94mcts/model/model.pkl\u001b[0m failed with exception \u001b[1;35mHTTPConnectionPool\u001b[0m\u001b[1m(\u001b[0m\u001b[33mhost\u001b[0m=\u001b[32m'127.0.0.1'\u001b[0m, \u001b[33mport\u001b[0m=\u001b[1;36m5000\u001b[0m\u001b[1m)\u001b[0m: Max retries exceeded \n",
       "with url: \n",
       "\u001b[35m/api/2.0/mlflow-artifacts/artifacts/870436518149162304/cc6297cbf717446a9f8f5bde183d6da7/artifacts/model/\u001b[0m\u001b[95mmodel.pkl\u001b[0m \n",
       "\u001b[1m(\u001b[0mCaused by \u001b[1;35mResponseError\u001b[0m\u001b[1m(\u001b[0m\u001b[32m'too many 500 error responses'\u001b[0m\u001b[1m)\u001b[0m\u001b[1m)\u001b[0m\n",
       "##### File input_example.json #####\n",
       "API request to \n",
       "\u001b[4;94mhttp://127.0.0.1:5000/api/2.0/mlflow-artifacts/artifacts/870436518149162304/cc6297cbf717446a9f8f5bde183d6da7/artifa\u001b[0m\n",
       "\u001b[4;94mcts/model/input_example.json\u001b[0m failed with exception \u001b[1;35mHTTPConnectionPool\u001b[0m\u001b[1m(\u001b[0m\u001b[33mhost\u001b[0m=\u001b[32m'127.0.0.1'\u001b[0m, \u001b[33mport\u001b[0m=\u001b[1;36m5000\u001b[0m\u001b[1m)\u001b[0m: Max retries \n",
       "exceeded with url: \n",
       "\u001b[35m/api/2.0/mlflow-artifacts/artifacts/870436518149162304/cc6297cbf717446a9f8f5bde183d6da7/artifacts/model/\u001b[0m\u001b[95minput_examp\u001b[0m\n",
       "\u001b[95mle.json\u001b[0m \u001b[1m(\u001b[0mCaused by \u001b[1;35mResponseError\u001b[0m\u001b[1m(\u001b[0m\u001b[32m'too many 500 error responses'\u001b[0m\u001b[1m)\u001b[0m\u001b[1m)\u001b[0m\n",
       "##### File metadata/requirements.txt #####\n",
       "API request to \n",
       "\u001b[4;94mhttp://127.0.0.1:5000/api/2.0/mlflow-artifacts/artifacts/870436518149162304/cc6297cbf717446a9f8f5bde183d6da7/artifa\u001b[0m\n",
       "\u001b[4;94mcts/model/metadata/requirements.txt\u001b[0m failed with exception \u001b[1;35mHTTPConnectionPool\u001b[0m\u001b[1m(\u001b[0m\u001b[33mhost\u001b[0m=\u001b[32m'127.0.0.1'\u001b[0m, \u001b[33mport\u001b[0m=\u001b[1;36m5000\u001b[0m\u001b[1m)\u001b[0m: Max \n",
       "retries exceeded with url: \n",
       "\u001b[35m/api/2.0/mlflow-artifacts/artifacts/870436518149162304/cc6297cbf717446a9f8f5bde183d6da7/artifacts/model/metadata/\u001b[0m\u001b[95mre\u001b[0m\n",
       "\u001b[95mquirements.txt\u001b[0m \u001b[1m(\u001b[0mCaused by \u001b[1;35mResponseError\u001b[0m\u001b[1m(\u001b[0m\u001b[32m'too many 500 error responses'\u001b[0m\u001b[1m)\u001b[0m\u001b[1m)\u001b[0m\n",
       "##### File metadata/input_example.json #####\n",
       "API request to \n",
       "\u001b[4;94mhttp://127.0.0.1:5000/api/2.0/mlflow-artifacts/artifacts/870436518149162304/cc6297cbf717446a9f8f5bde183d6da7/artifa\u001b[0m\n",
       "\u001b[4;94mcts/model/metadata/input_example.json\u001b[0m failed with exception \u001b[1;35mHTTPConnectionPool\u001b[0m\u001b[1m(\u001b[0m\u001b[33mhost\u001b[0m=\u001b[32m'127.0.0.1'\u001b[0m, \u001b[33mport\u001b[0m=\u001b[1;36m5000\u001b[0m\u001b[1m)\u001b[0m: Max \n",
       "retries exceeded with url: \n",
       "\u001b[35m/api/2.0/mlflow-artifacts/artifacts/870436518149162304/cc6297cbf717446a9f8f5bde183d6da7/artifacts/model/metadata/\u001b[0m\u001b[95min\u001b[0m\n",
       "\u001b[95mput_example.json\u001b[0m \u001b[1m(\u001b[0mCaused by \u001b[1;35mResponseError\u001b[0m\u001b[1m(\u001b[0m\u001b[32m'too many 500 error responses'\u001b[0m\u001b[1m)\u001b[0m\u001b[1m)\u001b[0m\n",
       "##### File MLmodel #####\n",
       "API request to \n",
       "\u001b[4;94mhttp://127.0.0.1:5000/api/2.0/mlflow-artifacts/artifacts/870436518149162304/cc6297cbf717446a9f8f5bde183d6da7/artifa\u001b[0m\n",
       "\u001b[4;94mcts/model/MLmodel\u001b[0m failed with exception \u001b[1;35mHTTPConnectionPool\u001b[0m\u001b[1m(\u001b[0m\u001b[33mhost\u001b[0m=\u001b[32m'127.0.0.1'\u001b[0m, \u001b[33mport\u001b[0m=\u001b[1;36m5000\u001b[0m\u001b[1m)\u001b[0m: Max retries exceeded with \n",
       "url: \n",
       "\u001b[35m/api/2.0/mlflow-artifacts/artifacts/870436518149162304/cc6297cbf717446a9f8f5bde183d6da7/artifacts/model/\u001b[0m\u001b[95mMLmodel\u001b[0m \n",
       "\u001b[1m(\u001b[0mCaused by \u001b[1;35mResponseError\u001b[0m\u001b[1m(\u001b[0m\u001b[32m'too many 500 error responses'\u001b[0m\u001b[1m)\u001b[0m\u001b[1m)\u001b[0m\n",
       "##### File requirements.txt #####\n",
       "API request to \n",
       "\u001b[4;94mhttp://127.0.0.1:5000/api/2.0/mlflow-artifacts/artifacts/870436518149162304/cc6297cbf717446a9f8f5bde183d6da7/artifa\u001b[0m\n",
       "\u001b[4;94mcts/model/requirements.txt\u001b[0m failed with exception \u001b[1;35mHTTPConnectionPool\u001b[0m\u001b[1m(\u001b[0m\u001b[33mhost\u001b[0m=\u001b[32m'127.0.0.1'\u001b[0m, \u001b[33mport\u001b[0m=\u001b[1;36m5000\u001b[0m\u001b[1m)\u001b[0m: Max retries \n",
       "exceeded with url: \n",
       "\u001b[35m/api/2.0/mlflow-artifacts/artifacts/870436518149162304/cc6297cbf717446a9f8f5bde183d6da7/artifacts/model/\u001b[0m\u001b[95mrequirement\u001b[0m\n",
       "\u001b[95ms.txt\u001b[0m \u001b[1m(\u001b[0mCaused by \u001b[1;35mResponseError\u001b[0m\u001b[1m(\u001b[0m\u001b[32m'too many 500 error responses'\u001b[0m\u001b[1m)\u001b[0m\u001b[1m)\u001b[0m\n",
       "##### File metadata/MLmodel #####\n",
       "API request to \n",
       "\u001b[4;94mhttp://127.0.0.1:5000/api/2.0/mlflow-artifacts/artifacts/870436518149162304/cc6297cbf717446a9f8f5bde183d6da7/artifa\u001b[0m\n",
       "\u001b[4;94mcts/model/metadata/MLmodel\u001b[0m failed with exception \u001b[1;35mHTTPConnectionPool\u001b[0m\u001b[1m(\u001b[0m\u001b[33mhost\u001b[0m=\u001b[32m'127.0.0.1'\u001b[0m, \u001b[33mport\u001b[0m=\u001b[1;36m5000\u001b[0m\u001b[1m)\u001b[0m: Max retries \n",
       "exceeded with url: \n",
       "\u001b[35m/api/2.0/mlflow-artifacts/artifacts/870436518149162304/cc6297cbf717446a9f8f5bde183d6da7/artifacts/model/metadata/\u001b[0m\u001b[95mML\u001b[0m\n",
       "\u001b[95mmodel\u001b[0m \u001b[1m(\u001b[0mCaused by \u001b[1;35mResponseError\u001b[0m\u001b[1m(\u001b[0m\u001b[32m'too many 500 error responses'\u001b[0m\u001b[1m)\u001b[0m\u001b[1m)\u001b[0m\n",
       "##### File metadata/python_env.yaml #####\n",
       "API request to \n",
       "\u001b[4;94mhttp://127.0.0.1:5000/api/2.0/mlflow-artifacts/artifacts/870436518149162304/cc6297cbf717446a9f8f5bde183d6da7/artifa\u001b[0m\n",
       "\u001b[4;94mcts/model/metadata/python_env.yaml\u001b[0m failed with exception \u001b[1;35mHTTPConnectionPool\u001b[0m\u001b[1m(\u001b[0m\u001b[33mhost\u001b[0m=\u001b[32m'127.0.0.1'\u001b[0m, \u001b[33mport\u001b[0m=\u001b[1;36m5000\u001b[0m\u001b[1m)\u001b[0m: Max \n",
       "retries exceeded with url: \n",
       "\u001b[35m/api/2.0/mlflow-artifacts/artifacts/870436518149162304/cc6297cbf717446a9f8f5bde183d6da7/artifacts/model/metadata/\u001b[0m\u001b[95mpy\u001b[0m\n",
       "\u001b[95mthon_env.yaml\u001b[0m \u001b[1m(\u001b[0mCaused by \u001b[1;35mResponseError\u001b[0m\u001b[1m(\u001b[0m\u001b[32m'too many 500 error responses'\u001b[0m\u001b[1m)\u001b[0m\u001b[1m)\u001b[0m\n"
      ]
     },
     "metadata": {},
     "output_type": "display_data"
    }
   ],
   "source": [
    "# load using sklearn flavor\n",
    "loaded_model = mlflow.sklearn.load_model(model_path)"
   ]
  },
  {
   "cell_type": "code",
   "execution_count": 28,
   "id": "ab3e5b08-384f-402c-9ab1-4915aef52d1c",
   "metadata": {},
   "outputs": [
    {
     "data": {
      "application/vnd.jupyter.widget-view+json": {
       "model_id": "7a4c3ecb28634f1d9d3155f326c54bfa",
       "version_major": 2,
       "version_minor": 0
      },
      "text/plain": [
       "Downloading artifacts:   0%|          | 0/11 [00:00<?, ?it/s]"
      ]
     },
     "metadata": {},
     "output_type": "display_data"
    },
    {
     "name": "stderr",
     "output_type": "stream",
     "text": [
      "2024/06/29 18:22:26 INFO mlflow.store.artifact.artifact_repo: The progress bar can be disabled by setting the environment variable MLFLOW_ENABLE_ARTIFACTS_PROGRESS_BAR to false\n"
     ]
    },
    {
     "data": {
      "text/html": [
       "<pre style=\"white-space:pre;overflow-x:auto;line-height:normal;font-family:Menlo,'DejaVu Sans Mono',consolas,'Courier New',monospace\"><span style=\"color: #800000; text-decoration-color: #800000\">╭─────────────────────────────── </span><span style=\"color: #800000; text-decoration-color: #800000; font-weight: bold\">Traceback </span><span style=\"color: #bf7f7f; text-decoration-color: #bf7f7f; font-weight: bold\">(most recent call last)</span><span style=\"color: #800000; text-decoration-color: #800000\"> ────────────────────────────────╮</span>\n",
       "<span style=\"color: #800000; text-decoration-color: #800000\">│</span> in <span style=\"color: #00ff00; text-decoration-color: #00ff00\">&lt;module&gt;</span>:<span style=\"color: #0000ff; text-decoration-color: #0000ff\">1</span>                                                                                    <span style=\"color: #800000; text-decoration-color: #800000\">│</span>\n",
       "<span style=\"color: #800000; text-decoration-color: #800000\">│</span>                                                                                                  <span style=\"color: #800000; text-decoration-color: #800000\">│</span>\n",
       "<span style=\"color: #800000; text-decoration-color: #800000\">│</span> <span style=\"color: #800000; text-decoration-color: #800000\">❱ </span>1 loaded_model = mlflow.sklearn.load_model(model_path)                                         <span style=\"color: #800000; text-decoration-color: #800000\">│</span>\n",
       "<span style=\"color: #800000; text-decoration-color: #800000\">│</span>   <span style=\"color: #7f7f7f; text-decoration-color: #7f7f7f\">2 </span>                                                                                             <span style=\"color: #800000; text-decoration-color: #800000\">│</span>\n",
       "<span style=\"color: #800000; text-decoration-color: #800000\">│</span>   <span style=\"color: #7f7f7f; text-decoration-color: #7f7f7f\">3 </span><span style=\"color: #00ffff; text-decoration-color: #00ffff\">print</span>(<span style=\"color: #808000; text-decoration-color: #808000\">\"Showing predictions\"</span>)                                                                 <span style=\"color: #800000; text-decoration-color: #800000\">│</span>\n",
       "<span style=\"color: #800000; text-decoration-color: #800000\">│</span>   <span style=\"color: #7f7f7f; text-decoration-color: #7f7f7f\">4 </span><span style=\"color: #00ffff; text-decoration-color: #00ffff\">print</span>(loaded_model.predict(X_test))                                                          <span style=\"color: #800000; text-decoration-color: #800000\">│</span>\n",
       "<span style=\"color: #800000; text-decoration-color: #800000\">│</span>                                                                                                  <span style=\"color: #800000; text-decoration-color: #800000\">│</span>\n",
       "<span style=\"color: #800000; text-decoration-color: #800000\">│</span> <span style=\"color: #808000; text-decoration-color: #808000\">C:\\Users\\dggua\\anaconda3\\envs\\test_env\\lib\\site-packages\\mlflow\\sklearn\\__init__.py</span>:<span style=\"color: #0000ff; text-decoration-color: #0000ff\">631</span> in       <span style=\"color: #800000; text-decoration-color: #800000\">│</span>\n",
       "<span style=\"color: #800000; text-decoration-color: #800000\">│</span> <span style=\"color: #00ff00; text-decoration-color: #00ff00\">load_model</span>                                                                                       <span style=\"color: #800000; text-decoration-color: #800000\">│</span>\n",
       "<span style=\"color: #800000; text-decoration-color: #800000\">│</span>                                                                                                  <span style=\"color: #800000; text-decoration-color: #800000\">│</span>\n",
       "<span style=\"color: #800000; text-decoration-color: #800000\">│</span> <span style=\"color: #808000; text-decoration-color: #808000\">C:\\Users\\dggua\\anaconda3\\envs\\test_env\\lib\\site-packages\\mlflow\\tracking\\artifact_utils.py</span>:<span style=\"color: #0000ff; text-decoration-color: #0000ff\">105</span>   <span style=\"color: #800000; text-decoration-color: #800000\">│</span>\n",
       "<span style=\"color: #800000; text-decoration-color: #800000\">│</span> in <span style=\"color: #00ff00; text-decoration-color: #00ff00\">_download_artifact_from_uri</span>                                                                   <span style=\"color: #800000; text-decoration-color: #800000\">│</span>\n",
       "<span style=\"color: #800000; text-decoration-color: #800000\">│</span>                                                                                                  <span style=\"color: #800000; text-decoration-color: #800000\">│</span>\n",
       "<span style=\"color: #800000; text-decoration-color: #800000\">│</span> <span style=\"color: #808000; text-decoration-color: #808000\">C:\\Users\\dggua\\anaconda3\\envs\\test_env\\lib\\site-packages\\mlflow\\store\\artifact\\runs_artifact_rep</span> <span style=\"color: #800000; text-decoration-color: #800000\">│</span>\n",
       "<span style=\"color: #800000; text-decoration-color: #800000\">│</span> <span style=\"color: #808000; text-decoration-color: #808000\">o.py</span>:<span style=\"color: #0000ff; text-decoration-color: #0000ff\">131</span> in <span style=\"color: #00ff00; text-decoration-color: #00ff00\">download_artifacts</span>                                                                   <span style=\"color: #800000; text-decoration-color: #800000\">│</span>\n",
       "<span style=\"color: #800000; text-decoration-color: #800000\">│</span>                                                                                                  <span style=\"color: #800000; text-decoration-color: #800000\">│</span>\n",
       "<span style=\"color: #800000; text-decoration-color: #800000\">│</span> <span style=\"color: #808000; text-decoration-color: #808000\">C:\\Users\\dggua\\anaconda3\\envs\\test_env\\lib\\site-packages\\mlflow\\store\\artifact\\artifact_repo.py</span>: <span style=\"color: #800000; text-decoration-color: #800000\">│</span>\n",
       "<span style=\"color: #800000; text-decoration-color: #800000\">│</span> <span style=\"color: #0000ff; text-decoration-color: #0000ff\">230</span> in <span style=\"color: #00ff00; text-decoration-color: #00ff00\">download_artifacts</span>                                                                        <span style=\"color: #800000; text-decoration-color: #800000\">│</span>\n",
       "<span style=\"color: #800000; text-decoration-color: #800000\">╰──────────────────────────────────────────────────────────────────────────────────────────────────╯</span>\n",
       "<span style=\"color: #ff0000; text-decoration-color: #ff0000; font-weight: bold\">MlflowException: </span>The following failures occurred while downloading one or more artifacts from \n",
       "<span style=\"color: #0000ff; text-decoration-color: #0000ff; text-decoration: underline\">http://127.0.0.1:5000/api/2.0/mlflow-artifacts/artifacts/870436518149162304/cc6297cbf717446a9f8f5bde183d6da7/artifa</span>\n",
       "<span style=\"color: #0000ff; text-decoration-color: #0000ff; text-decoration: underline\">cts:</span>\n",
       "##### File model/model.pkl #####\n",
       "API request to \n",
       "<span style=\"color: #0000ff; text-decoration-color: #0000ff; text-decoration: underline\">http://127.0.0.1:5000/api/2.0/mlflow-artifacts/artifacts/870436518149162304/cc6297cbf717446a9f8f5bde183d6da7/artifa</span>\n",
       "<span style=\"color: #0000ff; text-decoration-color: #0000ff; text-decoration: underline\">cts/model/model.pkl</span> failed with exception <span style=\"color: #800080; text-decoration-color: #800080; font-weight: bold\">HTTPConnectionPool</span><span style=\"font-weight: bold\">(</span><span style=\"color: #808000; text-decoration-color: #808000\">host</span>=<span style=\"color: #008000; text-decoration-color: #008000\">'127.0.0.1'</span>, <span style=\"color: #808000; text-decoration-color: #808000\">port</span>=<span style=\"color: #008080; text-decoration-color: #008080; font-weight: bold\">5000</span><span style=\"font-weight: bold\">)</span>: Max retries exceeded \n",
       "with url: \n",
       "<span style=\"color: #800080; text-decoration-color: #800080\">/api/2.0/mlflow-artifacts/artifacts/870436518149162304/cc6297cbf717446a9f8f5bde183d6da7/artifacts/model/</span><span style=\"color: #ff00ff; text-decoration-color: #ff00ff\">model.pkl</span> \n",
       "<span style=\"font-weight: bold\">(</span>Caused by <span style=\"color: #800080; text-decoration-color: #800080; font-weight: bold\">ResponseError</span><span style=\"font-weight: bold\">(</span><span style=\"color: #008000; text-decoration-color: #008000\">'too many 500 error responses'</span><span style=\"font-weight: bold\">))</span>\n",
       "##### File model/conda.yaml #####\n",
       "API request to \n",
       "<span style=\"color: #0000ff; text-decoration-color: #0000ff; text-decoration: underline\">http://127.0.0.1:5000/api/2.0/mlflow-artifacts/artifacts/870436518149162304/cc6297cbf717446a9f8f5bde183d6da7/artifa</span>\n",
       "<span style=\"color: #0000ff; text-decoration-color: #0000ff; text-decoration: underline\">cts/model/conda.yaml</span> failed with exception <span style=\"color: #800080; text-decoration-color: #800080; font-weight: bold\">HTTPConnectionPool</span><span style=\"font-weight: bold\">(</span><span style=\"color: #808000; text-decoration-color: #808000\">host</span>=<span style=\"color: #008000; text-decoration-color: #008000\">'127.0.0.1'</span>, <span style=\"color: #808000; text-decoration-color: #808000\">port</span>=<span style=\"color: #008080; text-decoration-color: #008080; font-weight: bold\">5000</span><span style=\"font-weight: bold\">)</span>: Max retries exceeded \n",
       "with url: \n",
       "<span style=\"color: #800080; text-decoration-color: #800080\">/api/2.0/mlflow-artifacts/artifacts/870436518149162304/cc6297cbf717446a9f8f5bde183d6da7/artifacts/model/</span><span style=\"color: #ff00ff; text-decoration-color: #ff00ff\">conda.yaml</span> \n",
       "<span style=\"font-weight: bold\">(</span>Caused by <span style=\"color: #800080; text-decoration-color: #800080; font-weight: bold\">ResponseError</span><span style=\"font-weight: bold\">(</span><span style=\"color: #008000; text-decoration-color: #008000\">'too many 500 error responses'</span><span style=\"font-weight: bold\">))</span>\n",
       "##### File model/metadata/python_env.yaml #####\n",
       "API request to \n",
       "<span style=\"color: #0000ff; text-decoration-color: #0000ff; text-decoration: underline\">http://127.0.0.1:5000/api/2.0/mlflow-artifacts/artifacts/870436518149162304/cc6297cbf717446a9f8f5bde183d6da7/artifa</span>\n",
       "<span style=\"color: #0000ff; text-decoration-color: #0000ff; text-decoration: underline\">cts/model/metadata/python_env.yaml</span> failed with exception <span style=\"color: #800080; text-decoration-color: #800080; font-weight: bold\">HTTPConnectionPool</span><span style=\"font-weight: bold\">(</span><span style=\"color: #808000; text-decoration-color: #808000\">host</span>=<span style=\"color: #008000; text-decoration-color: #008000\">'127.0.0.1'</span>, <span style=\"color: #808000; text-decoration-color: #808000\">port</span>=<span style=\"color: #008080; text-decoration-color: #008080; font-weight: bold\">5000</span><span style=\"font-weight: bold\">)</span>: Max \n",
       "retries exceeded with url: \n",
       "<span style=\"color: #800080; text-decoration-color: #800080\">/api/2.0/mlflow-artifacts/artifacts/870436518149162304/cc6297cbf717446a9f8f5bde183d6da7/artifacts/model/metadata/</span><span style=\"color: #ff00ff; text-decoration-color: #ff00ff\">py</span>\n",
       "<span style=\"color: #ff00ff; text-decoration-color: #ff00ff\">thon_env.yaml</span> <span style=\"font-weight: bold\">(</span>Caused by <span style=\"color: #800080; text-decoration-color: #800080; font-weight: bold\">ResponseError</span><span style=\"font-weight: bold\">(</span><span style=\"color: #008000; text-decoration-color: #008000\">'too many 500 error responses'</span><span style=\"font-weight: bold\">))</span>\n",
       "##### File model/input_example.json #####\n",
       "API request to \n",
       "<span style=\"color: #0000ff; text-decoration-color: #0000ff; text-decoration: underline\">http://127.0.0.1:5000/api/2.0/mlflow-artifacts/artifacts/870436518149162304/cc6297cbf717446a9f8f5bde183d6da7/artifa</span>\n",
       "<span style=\"color: #0000ff; text-decoration-color: #0000ff; text-decoration: underline\">cts/model/input_example.json</span> failed with exception <span style=\"color: #800080; text-decoration-color: #800080; font-weight: bold\">HTTPConnectionPool</span><span style=\"font-weight: bold\">(</span><span style=\"color: #808000; text-decoration-color: #808000\">host</span>=<span style=\"color: #008000; text-decoration-color: #008000\">'127.0.0.1'</span>, <span style=\"color: #808000; text-decoration-color: #808000\">port</span>=<span style=\"color: #008080; text-decoration-color: #008080; font-weight: bold\">5000</span><span style=\"font-weight: bold\">)</span>: Max retries \n",
       "exceeded with url: \n",
       "<span style=\"color: #800080; text-decoration-color: #800080\">/api/2.0/mlflow-artifacts/artifacts/870436518149162304/cc6297cbf717446a9f8f5bde183d6da7/artifacts/model/</span><span style=\"color: #ff00ff; text-decoration-color: #ff00ff\">input_examp</span>\n",
       "<span style=\"color: #ff00ff; text-decoration-color: #ff00ff\">le.json</span> <span style=\"font-weight: bold\">(</span>Caused by <span style=\"color: #800080; text-decoration-color: #800080; font-weight: bold\">ResponseError</span><span style=\"font-weight: bold\">(</span><span style=\"color: #008000; text-decoration-color: #008000\">'too many 500 error responses'</span><span style=\"font-weight: bold\">))</span>\n",
       "##### File model/MLmodel #####\n",
       "API request to \n",
       "<span style=\"color: #0000ff; text-decoration-color: #0000ff; text-decoration: underline\">http://127.0.0.1:5000/api/2.0/mlflow-artifacts/artifacts/870436518149162304/cc6297cbf717446a9f8f5bde183d6da7/artifa</span>\n",
       "<span style=\"color: #0000ff; text-decoration-color: #0000ff; text-decoration: underline\">cts/model/MLmodel</span> failed with exception <span style=\"color: #800080; text-decoration-color: #800080; font-weight: bold\">HTTPConnectionPool</span><span style=\"font-weight: bold\">(</span><span style=\"color: #808000; text-decoration-color: #808000\">host</span>=<span style=\"color: #008000; text-decoration-color: #008000\">'127.0.0.1'</span>, <span style=\"color: #808000; text-decoration-color: #808000\">port</span>=<span style=\"color: #008080; text-decoration-color: #008080; font-weight: bold\">5000</span><span style=\"font-weight: bold\">)</span>: Max retries exceeded with \n",
       "url: \n",
       "<span style=\"color: #800080; text-decoration-color: #800080\">/api/2.0/mlflow-artifacts/artifacts/870436518149162304/cc6297cbf717446a9f8f5bde183d6da7/artifacts/model/</span><span style=\"color: #ff00ff; text-decoration-color: #ff00ff\">MLmodel</span> \n",
       "<span style=\"font-weight: bold\">(</span>Caused by <span style=\"color: #800080; text-decoration-color: #800080; font-weight: bold\">ResponseError</span><span style=\"font-weight: bold\">(</span><span style=\"color: #008000; text-decoration-color: #008000\">'too many 500 error responses'</span><span style=\"font-weight: bold\">))</span>\n",
       "##### File model/requirements.txt #####\n",
       "API request to \n",
       "<span style=\"color: #0000ff; text-decoration-color: #0000ff; text-decoration: underline\">http://127.0.0.1:5000/api/2.0/mlflow-artifacts/artifacts/870436518149162304/cc6297cbf717446a9f8f5bde183d6da7/artifa</span>\n",
       "<span style=\"color: #0000ff; text-decoration-color: #0000ff; text-decoration: underline\">cts/model/requirements.txt</span> failed with exception <span style=\"color: #800080; text-decoration-color: #800080; font-weight: bold\">HTTPConnectionPool</span><span style=\"font-weight: bold\">(</span><span style=\"color: #808000; text-decoration-color: #808000\">host</span>=<span style=\"color: #008000; text-decoration-color: #008000\">'127.0.0.1'</span>, <span style=\"color: #808000; text-decoration-color: #808000\">port</span>=<span style=\"color: #008080; text-decoration-color: #008080; font-weight: bold\">5000</span><span style=\"font-weight: bold\">)</span>: Max retries \n",
       "exceeded with url: \n",
       "<span style=\"color: #800080; text-decoration-color: #800080\">/api/2.0/mlflow-artifacts/artifacts/870436518149162304/cc6297cbf717446a9f8f5bde183d6da7/artifacts/model/</span><span style=\"color: #ff00ff; text-decoration-color: #ff00ff\">requirement</span>\n",
       "<span style=\"color: #ff00ff; text-decoration-color: #ff00ff\">s.txt</span> <span style=\"font-weight: bold\">(</span>Caused by <span style=\"color: #800080; text-decoration-color: #800080; font-weight: bold\">ResponseError</span><span style=\"font-weight: bold\">(</span><span style=\"color: #008000; text-decoration-color: #008000\">'too many 500 error responses'</span><span style=\"font-weight: bold\">))</span>\n",
       "##### File model/metadata/conda.yaml #####\n",
       "API request to \n",
       "<span style=\"color: #0000ff; text-decoration-color: #0000ff; text-decoration: underline\">http://127.0.0.1:5000/api/2.0/mlflow-artifacts/artifacts/870436518149162304/cc6297cbf717446a9f8f5bde183d6da7/artifa</span>\n",
       "<span style=\"color: #0000ff; text-decoration-color: #0000ff; text-decoration: underline\">cts/model/metadata/conda.yaml</span> failed with exception <span style=\"color: #800080; text-decoration-color: #800080; font-weight: bold\">HTTPConnectionPool</span><span style=\"font-weight: bold\">(</span><span style=\"color: #808000; text-decoration-color: #808000\">host</span>=<span style=\"color: #008000; text-decoration-color: #008000\">'127.0.0.1'</span>, <span style=\"color: #808000; text-decoration-color: #808000\">port</span>=<span style=\"color: #008080; text-decoration-color: #008080; font-weight: bold\">5000</span><span style=\"font-weight: bold\">)</span>: Max retries \n",
       "exceeded with url: \n",
       "<span style=\"color: #800080; text-decoration-color: #800080\">/api/2.0/mlflow-artifacts/artifacts/870436518149162304/cc6297cbf717446a9f8f5bde183d6da7/artifacts/model/metadata/</span><span style=\"color: #ff00ff; text-decoration-color: #ff00ff\">co</span>\n",
       "<span style=\"color: #ff00ff; text-decoration-color: #ff00ff\">nda.yaml</span> <span style=\"font-weight: bold\">(</span>Caused by <span style=\"color: #800080; text-decoration-color: #800080; font-weight: bold\">ResponseError</span><span style=\"font-weight: bold\">(</span><span style=\"color: #008000; text-decoration-color: #008000\">'too many 500 error responses'</span><span style=\"font-weight: bold\">))</span>\n",
       "##### File model/metadata/MLmodel #####\n",
       "API request to \n",
       "<span style=\"color: #0000ff; text-decoration-color: #0000ff; text-decoration: underline\">http://127.0.0.1:5000/api/2.0/mlflow-artifacts/artifacts/870436518149162304/cc6297cbf717446a9f8f5bde183d6da7/artifa</span>\n",
       "<span style=\"color: #0000ff; text-decoration-color: #0000ff; text-decoration: underline\">cts/model/metadata/MLmodel</span> failed with exception <span style=\"color: #800080; text-decoration-color: #800080; font-weight: bold\">HTTPConnectionPool</span><span style=\"font-weight: bold\">(</span><span style=\"color: #808000; text-decoration-color: #808000\">host</span>=<span style=\"color: #008000; text-decoration-color: #008000\">'127.0.0.1'</span>, <span style=\"color: #808000; text-decoration-color: #808000\">port</span>=<span style=\"color: #008080; text-decoration-color: #008080; font-weight: bold\">5000</span><span style=\"font-weight: bold\">)</span>: Max retries \n",
       "exceeded with url: \n",
       "<span style=\"color: #800080; text-decoration-color: #800080\">/api/2.0/mlflow-artifacts/artifacts/870436518149162304/cc6297cbf717446a9f8f5bde183d6da7/artifacts/model/metadata/</span><span style=\"color: #ff00ff; text-decoration-color: #ff00ff\">ML</span>\n",
       "<span style=\"color: #ff00ff; text-decoration-color: #ff00ff\">model</span> <span style=\"font-weight: bold\">(</span>Caused by <span style=\"color: #800080; text-decoration-color: #800080; font-weight: bold\">ResponseError</span><span style=\"font-weight: bold\">(</span><span style=\"color: #008000; text-decoration-color: #008000\">'too many 500 error responses'</span><span style=\"font-weight: bold\">))</span>\n",
       "##### File model/metadata/input_example.json #####\n",
       "API request to \n",
       "<span style=\"color: #0000ff; text-decoration-color: #0000ff; text-decoration: underline\">http://127.0.0.1:5000/api/2.0/mlflow-artifacts/artifacts/870436518149162304/cc6297cbf717446a9f8f5bde183d6da7/artifa</span>\n",
       "<span style=\"color: #0000ff; text-decoration-color: #0000ff; text-decoration: underline\">cts/model/metadata/input_example.json</span> failed with exception <span style=\"color: #800080; text-decoration-color: #800080; font-weight: bold\">HTTPConnectionPool</span><span style=\"font-weight: bold\">(</span><span style=\"color: #808000; text-decoration-color: #808000\">host</span>=<span style=\"color: #008000; text-decoration-color: #008000\">'127.0.0.1'</span>, <span style=\"color: #808000; text-decoration-color: #808000\">port</span>=<span style=\"color: #008080; text-decoration-color: #008080; font-weight: bold\">5000</span><span style=\"font-weight: bold\">)</span>: Max \n",
       "retries exceeded with url: \n",
       "<span style=\"color: #800080; text-decoration-color: #800080\">/api/2.0/mlflow-artifacts/artifacts/870436518149162304/cc6297cbf717446a9f8f5bde183d6da7/artifacts/model/metadata/</span><span style=\"color: #ff00ff; text-decoration-color: #ff00ff\">in</span>\n",
       "<span style=\"color: #ff00ff; text-decoration-color: #ff00ff\">put_example.json</span> <span style=\"font-weight: bold\">(</span>Caused by <span style=\"color: #800080; text-decoration-color: #800080; font-weight: bold\">ResponseError</span><span style=\"font-weight: bold\">(</span><span style=\"color: #008000; text-decoration-color: #008000\">'too many 500 error responses'</span><span style=\"font-weight: bold\">))</span>\n",
       "##### File model/metadata/requirements.txt #####\n",
       "API request to \n",
       "<span style=\"color: #0000ff; text-decoration-color: #0000ff; text-decoration: underline\">http://127.0.0.1:5000/api/2.0/mlflow-artifacts/artifacts/870436518149162304/cc6297cbf717446a9f8f5bde183d6da7/artifa</span>\n",
       "<span style=\"color: #0000ff; text-decoration-color: #0000ff; text-decoration: underline\">cts/model/metadata/requirements.txt</span> failed with exception <span style=\"color: #800080; text-decoration-color: #800080; font-weight: bold\">HTTPConnectionPool</span><span style=\"font-weight: bold\">(</span><span style=\"color: #808000; text-decoration-color: #808000\">host</span>=<span style=\"color: #008000; text-decoration-color: #008000\">'127.0.0.1'</span>, <span style=\"color: #808000; text-decoration-color: #808000\">port</span>=<span style=\"color: #008080; text-decoration-color: #008080; font-weight: bold\">5000</span><span style=\"font-weight: bold\">)</span>: Max \n",
       "retries exceeded with url: \n",
       "<span style=\"color: #800080; text-decoration-color: #800080\">/api/2.0/mlflow-artifacts/artifacts/870436518149162304/cc6297cbf717446a9f8f5bde183d6da7/artifacts/model/metadata/</span><span style=\"color: #ff00ff; text-decoration-color: #ff00ff\">re</span>\n",
       "<span style=\"color: #ff00ff; text-decoration-color: #ff00ff\">quirements.txt</span> <span style=\"font-weight: bold\">(</span>Caused by <span style=\"color: #800080; text-decoration-color: #800080; font-weight: bold\">ResponseError</span><span style=\"font-weight: bold\">(</span><span style=\"color: #008000; text-decoration-color: #008000\">'too many 500 error responses'</span><span style=\"font-weight: bold\">))</span>\n",
       "##### File model/python_env.yaml #####\n",
       "API request to \n",
       "<span style=\"color: #0000ff; text-decoration-color: #0000ff; text-decoration: underline\">http://127.0.0.1:5000/api/2.0/mlflow-artifacts/artifacts/870436518149162304/cc6297cbf717446a9f8f5bde183d6da7/artifa</span>\n",
       "<span style=\"color: #0000ff; text-decoration-color: #0000ff; text-decoration: underline\">cts/model/python_env.yaml</span> failed with exception <span style=\"color: #800080; text-decoration-color: #800080; font-weight: bold\">HTTPConnectionPool</span><span style=\"font-weight: bold\">(</span><span style=\"color: #808000; text-decoration-color: #808000\">host</span>=<span style=\"color: #008000; text-decoration-color: #008000\">'127.0.0.1'</span>, <span style=\"color: #808000; text-decoration-color: #808000\">port</span>=<span style=\"color: #008080; text-decoration-color: #008080; font-weight: bold\">5000</span><span style=\"font-weight: bold\">)</span>: Max retries \n",
       "exceeded with url: \n",
       "<span style=\"color: #800080; text-decoration-color: #800080\">/api/2.0/mlflow-artifacts/artifacts/870436518149162304/cc6297cbf717446a9f8f5bde183d6da7/artifacts/model/</span><span style=\"color: #ff00ff; text-decoration-color: #ff00ff\">python_env.</span>\n",
       "<span style=\"color: #ff00ff; text-decoration-color: #ff00ff\">yaml</span> <span style=\"font-weight: bold\">(</span>Caused by <span style=\"color: #800080; text-decoration-color: #800080; font-weight: bold\">ResponseError</span><span style=\"font-weight: bold\">(</span><span style=\"color: #008000; text-decoration-color: #008000\">'too many 500 error responses'</span><span style=\"font-weight: bold\">))</span>\n",
       "</pre>\n"
      ],
      "text/plain": [
       "\u001b[31m╭─\u001b[0m\u001b[31m──────────────────────────────\u001b[0m\u001b[31m \u001b[0m\u001b[1;31mTraceback \u001b[0m\u001b[1;2;31m(most recent call last)\u001b[0m\u001b[31m \u001b[0m\u001b[31m───────────────────────────────\u001b[0m\u001b[31m─╮\u001b[0m\n",
       "\u001b[31m│\u001b[0m in \u001b[92m<module>\u001b[0m:\u001b[94m1\u001b[0m                                                                                    \u001b[31m│\u001b[0m\n",
       "\u001b[31m│\u001b[0m                                                                                                  \u001b[31m│\u001b[0m\n",
       "\u001b[31m│\u001b[0m \u001b[31m❱ \u001b[0m1 loaded_model = mlflow.sklearn.load_model(model_path)                                         \u001b[31m│\u001b[0m\n",
       "\u001b[31m│\u001b[0m   \u001b[2m2 \u001b[0m                                                                                             \u001b[31m│\u001b[0m\n",
       "\u001b[31m│\u001b[0m   \u001b[2m3 \u001b[0m\u001b[96mprint\u001b[0m(\u001b[33m\"\u001b[0m\u001b[33mShowing predictions\u001b[0m\u001b[33m\"\u001b[0m)                                                                 \u001b[31m│\u001b[0m\n",
       "\u001b[31m│\u001b[0m   \u001b[2m4 \u001b[0m\u001b[96mprint\u001b[0m(loaded_model.predict(X_test))                                                          \u001b[31m│\u001b[0m\n",
       "\u001b[31m│\u001b[0m                                                                                                  \u001b[31m│\u001b[0m\n",
       "\u001b[31m│\u001b[0m \u001b[33mC:\\Users\\dggua\\anaconda3\\envs\\test_env\\lib\\site-packages\\mlflow\\sklearn\\__init__.py\u001b[0m:\u001b[94m631\u001b[0m in       \u001b[31m│\u001b[0m\n",
       "\u001b[31m│\u001b[0m \u001b[92mload_model\u001b[0m                                                                                       \u001b[31m│\u001b[0m\n",
       "\u001b[31m│\u001b[0m                                                                                                  \u001b[31m│\u001b[0m\n",
       "\u001b[31m│\u001b[0m \u001b[33mC:\\Users\\dggua\\anaconda3\\envs\\test_env\\lib\\site-packages\\mlflow\\tracking\\artifact_utils.py\u001b[0m:\u001b[94m105\u001b[0m   \u001b[31m│\u001b[0m\n",
       "\u001b[31m│\u001b[0m in \u001b[92m_download_artifact_from_uri\u001b[0m                                                                   \u001b[31m│\u001b[0m\n",
       "\u001b[31m│\u001b[0m                                                                                                  \u001b[31m│\u001b[0m\n",
       "\u001b[31m│\u001b[0m \u001b[33mC:\\Users\\dggua\\anaconda3\\envs\\test_env\\lib\\site-packages\\mlflow\\store\\artifact\\runs_artifact_rep\u001b[0m \u001b[31m│\u001b[0m\n",
       "\u001b[31m│\u001b[0m \u001b[33mo.py\u001b[0m:\u001b[94m131\u001b[0m in \u001b[92mdownload_artifacts\u001b[0m                                                                   \u001b[31m│\u001b[0m\n",
       "\u001b[31m│\u001b[0m                                                                                                  \u001b[31m│\u001b[0m\n",
       "\u001b[31m│\u001b[0m \u001b[33mC:\\Users\\dggua\\anaconda3\\envs\\test_env\\lib\\site-packages\\mlflow\\store\\artifact\\artifact_repo.py\u001b[0m: \u001b[31m│\u001b[0m\n",
       "\u001b[31m│\u001b[0m \u001b[94m230\u001b[0m in \u001b[92mdownload_artifacts\u001b[0m                                                                        \u001b[31m│\u001b[0m\n",
       "\u001b[31m╰──────────────────────────────────────────────────────────────────────────────────────────────────╯\u001b[0m\n",
       "\u001b[1;91mMlflowException: \u001b[0mThe following failures occurred while downloading one or more artifacts from \n",
       "\u001b[4;94mhttp://127.0.0.1:5000/api/2.0/mlflow-artifacts/artifacts/870436518149162304/cc6297cbf717446a9f8f5bde183d6da7/artifa\u001b[0m\n",
       "\u001b[4;94mcts:\u001b[0m\n",
       "##### File model/model.pkl #####\n",
       "API request to \n",
       "\u001b[4;94mhttp://127.0.0.1:5000/api/2.0/mlflow-artifacts/artifacts/870436518149162304/cc6297cbf717446a9f8f5bde183d6da7/artifa\u001b[0m\n",
       "\u001b[4;94mcts/model/model.pkl\u001b[0m failed with exception \u001b[1;35mHTTPConnectionPool\u001b[0m\u001b[1m(\u001b[0m\u001b[33mhost\u001b[0m=\u001b[32m'127.0.0.1'\u001b[0m, \u001b[33mport\u001b[0m=\u001b[1;36m5000\u001b[0m\u001b[1m)\u001b[0m: Max retries exceeded \n",
       "with url: \n",
       "\u001b[35m/api/2.0/mlflow-artifacts/artifacts/870436518149162304/cc6297cbf717446a9f8f5bde183d6da7/artifacts/model/\u001b[0m\u001b[95mmodel.pkl\u001b[0m \n",
       "\u001b[1m(\u001b[0mCaused by \u001b[1;35mResponseError\u001b[0m\u001b[1m(\u001b[0m\u001b[32m'too many 500 error responses'\u001b[0m\u001b[1m)\u001b[0m\u001b[1m)\u001b[0m\n",
       "##### File model/conda.yaml #####\n",
       "API request to \n",
       "\u001b[4;94mhttp://127.0.0.1:5000/api/2.0/mlflow-artifacts/artifacts/870436518149162304/cc6297cbf717446a9f8f5bde183d6da7/artifa\u001b[0m\n",
       "\u001b[4;94mcts/model/conda.yaml\u001b[0m failed with exception \u001b[1;35mHTTPConnectionPool\u001b[0m\u001b[1m(\u001b[0m\u001b[33mhost\u001b[0m=\u001b[32m'127.0.0.1'\u001b[0m, \u001b[33mport\u001b[0m=\u001b[1;36m5000\u001b[0m\u001b[1m)\u001b[0m: Max retries exceeded \n",
       "with url: \n",
       "\u001b[35m/api/2.0/mlflow-artifacts/artifacts/870436518149162304/cc6297cbf717446a9f8f5bde183d6da7/artifacts/model/\u001b[0m\u001b[95mconda.yaml\u001b[0m \n",
       "\u001b[1m(\u001b[0mCaused by \u001b[1;35mResponseError\u001b[0m\u001b[1m(\u001b[0m\u001b[32m'too many 500 error responses'\u001b[0m\u001b[1m)\u001b[0m\u001b[1m)\u001b[0m\n",
       "##### File model/metadata/python_env.yaml #####\n",
       "API request to \n",
       "\u001b[4;94mhttp://127.0.0.1:5000/api/2.0/mlflow-artifacts/artifacts/870436518149162304/cc6297cbf717446a9f8f5bde183d6da7/artifa\u001b[0m\n",
       "\u001b[4;94mcts/model/metadata/python_env.yaml\u001b[0m failed with exception \u001b[1;35mHTTPConnectionPool\u001b[0m\u001b[1m(\u001b[0m\u001b[33mhost\u001b[0m=\u001b[32m'127.0.0.1'\u001b[0m, \u001b[33mport\u001b[0m=\u001b[1;36m5000\u001b[0m\u001b[1m)\u001b[0m: Max \n",
       "retries exceeded with url: \n",
       "\u001b[35m/api/2.0/mlflow-artifacts/artifacts/870436518149162304/cc6297cbf717446a9f8f5bde183d6da7/artifacts/model/metadata/\u001b[0m\u001b[95mpy\u001b[0m\n",
       "\u001b[95mthon_env.yaml\u001b[0m \u001b[1m(\u001b[0mCaused by \u001b[1;35mResponseError\u001b[0m\u001b[1m(\u001b[0m\u001b[32m'too many 500 error responses'\u001b[0m\u001b[1m)\u001b[0m\u001b[1m)\u001b[0m\n",
       "##### File model/input_example.json #####\n",
       "API request to \n",
       "\u001b[4;94mhttp://127.0.0.1:5000/api/2.0/mlflow-artifacts/artifacts/870436518149162304/cc6297cbf717446a9f8f5bde183d6da7/artifa\u001b[0m\n",
       "\u001b[4;94mcts/model/input_example.json\u001b[0m failed with exception \u001b[1;35mHTTPConnectionPool\u001b[0m\u001b[1m(\u001b[0m\u001b[33mhost\u001b[0m=\u001b[32m'127.0.0.1'\u001b[0m, \u001b[33mport\u001b[0m=\u001b[1;36m5000\u001b[0m\u001b[1m)\u001b[0m: Max retries \n",
       "exceeded with url: \n",
       "\u001b[35m/api/2.0/mlflow-artifacts/artifacts/870436518149162304/cc6297cbf717446a9f8f5bde183d6da7/artifacts/model/\u001b[0m\u001b[95minput_examp\u001b[0m\n",
       "\u001b[95mle.json\u001b[0m \u001b[1m(\u001b[0mCaused by \u001b[1;35mResponseError\u001b[0m\u001b[1m(\u001b[0m\u001b[32m'too many 500 error responses'\u001b[0m\u001b[1m)\u001b[0m\u001b[1m)\u001b[0m\n",
       "##### File model/MLmodel #####\n",
       "API request to \n",
       "\u001b[4;94mhttp://127.0.0.1:5000/api/2.0/mlflow-artifacts/artifacts/870436518149162304/cc6297cbf717446a9f8f5bde183d6da7/artifa\u001b[0m\n",
       "\u001b[4;94mcts/model/MLmodel\u001b[0m failed with exception \u001b[1;35mHTTPConnectionPool\u001b[0m\u001b[1m(\u001b[0m\u001b[33mhost\u001b[0m=\u001b[32m'127.0.0.1'\u001b[0m, \u001b[33mport\u001b[0m=\u001b[1;36m5000\u001b[0m\u001b[1m)\u001b[0m: Max retries exceeded with \n",
       "url: \n",
       "\u001b[35m/api/2.0/mlflow-artifacts/artifacts/870436518149162304/cc6297cbf717446a9f8f5bde183d6da7/artifacts/model/\u001b[0m\u001b[95mMLmodel\u001b[0m \n",
       "\u001b[1m(\u001b[0mCaused by \u001b[1;35mResponseError\u001b[0m\u001b[1m(\u001b[0m\u001b[32m'too many 500 error responses'\u001b[0m\u001b[1m)\u001b[0m\u001b[1m)\u001b[0m\n",
       "##### File model/requirements.txt #####\n",
       "API request to \n",
       "\u001b[4;94mhttp://127.0.0.1:5000/api/2.0/mlflow-artifacts/artifacts/870436518149162304/cc6297cbf717446a9f8f5bde183d6da7/artifa\u001b[0m\n",
       "\u001b[4;94mcts/model/requirements.txt\u001b[0m failed with exception \u001b[1;35mHTTPConnectionPool\u001b[0m\u001b[1m(\u001b[0m\u001b[33mhost\u001b[0m=\u001b[32m'127.0.0.1'\u001b[0m, \u001b[33mport\u001b[0m=\u001b[1;36m5000\u001b[0m\u001b[1m)\u001b[0m: Max retries \n",
       "exceeded with url: \n",
       "\u001b[35m/api/2.0/mlflow-artifacts/artifacts/870436518149162304/cc6297cbf717446a9f8f5bde183d6da7/artifacts/model/\u001b[0m\u001b[95mrequirement\u001b[0m\n",
       "\u001b[95ms.txt\u001b[0m \u001b[1m(\u001b[0mCaused by \u001b[1;35mResponseError\u001b[0m\u001b[1m(\u001b[0m\u001b[32m'too many 500 error responses'\u001b[0m\u001b[1m)\u001b[0m\u001b[1m)\u001b[0m\n",
       "##### File model/metadata/conda.yaml #####\n",
       "API request to \n",
       "\u001b[4;94mhttp://127.0.0.1:5000/api/2.0/mlflow-artifacts/artifacts/870436518149162304/cc6297cbf717446a9f8f5bde183d6da7/artifa\u001b[0m\n",
       "\u001b[4;94mcts/model/metadata/conda.yaml\u001b[0m failed with exception \u001b[1;35mHTTPConnectionPool\u001b[0m\u001b[1m(\u001b[0m\u001b[33mhost\u001b[0m=\u001b[32m'127.0.0.1'\u001b[0m, \u001b[33mport\u001b[0m=\u001b[1;36m5000\u001b[0m\u001b[1m)\u001b[0m: Max retries \n",
       "exceeded with url: \n",
       "\u001b[35m/api/2.0/mlflow-artifacts/artifacts/870436518149162304/cc6297cbf717446a9f8f5bde183d6da7/artifacts/model/metadata/\u001b[0m\u001b[95mco\u001b[0m\n",
       "\u001b[95mnda.yaml\u001b[0m \u001b[1m(\u001b[0mCaused by \u001b[1;35mResponseError\u001b[0m\u001b[1m(\u001b[0m\u001b[32m'too many 500 error responses'\u001b[0m\u001b[1m)\u001b[0m\u001b[1m)\u001b[0m\n",
       "##### File model/metadata/MLmodel #####\n",
       "API request to \n",
       "\u001b[4;94mhttp://127.0.0.1:5000/api/2.0/mlflow-artifacts/artifacts/870436518149162304/cc6297cbf717446a9f8f5bde183d6da7/artifa\u001b[0m\n",
       "\u001b[4;94mcts/model/metadata/MLmodel\u001b[0m failed with exception \u001b[1;35mHTTPConnectionPool\u001b[0m\u001b[1m(\u001b[0m\u001b[33mhost\u001b[0m=\u001b[32m'127.0.0.1'\u001b[0m, \u001b[33mport\u001b[0m=\u001b[1;36m5000\u001b[0m\u001b[1m)\u001b[0m: Max retries \n",
       "exceeded with url: \n",
       "\u001b[35m/api/2.0/mlflow-artifacts/artifacts/870436518149162304/cc6297cbf717446a9f8f5bde183d6da7/artifacts/model/metadata/\u001b[0m\u001b[95mML\u001b[0m\n",
       "\u001b[95mmodel\u001b[0m \u001b[1m(\u001b[0mCaused by \u001b[1;35mResponseError\u001b[0m\u001b[1m(\u001b[0m\u001b[32m'too many 500 error responses'\u001b[0m\u001b[1m)\u001b[0m\u001b[1m)\u001b[0m\n",
       "##### File model/metadata/input_example.json #####\n",
       "API request to \n",
       "\u001b[4;94mhttp://127.0.0.1:5000/api/2.0/mlflow-artifacts/artifacts/870436518149162304/cc6297cbf717446a9f8f5bde183d6da7/artifa\u001b[0m\n",
       "\u001b[4;94mcts/model/metadata/input_example.json\u001b[0m failed with exception \u001b[1;35mHTTPConnectionPool\u001b[0m\u001b[1m(\u001b[0m\u001b[33mhost\u001b[0m=\u001b[32m'127.0.0.1'\u001b[0m, \u001b[33mport\u001b[0m=\u001b[1;36m5000\u001b[0m\u001b[1m)\u001b[0m: Max \n",
       "retries exceeded with url: \n",
       "\u001b[35m/api/2.0/mlflow-artifacts/artifacts/870436518149162304/cc6297cbf717446a9f8f5bde183d6da7/artifacts/model/metadata/\u001b[0m\u001b[95min\u001b[0m\n",
       "\u001b[95mput_example.json\u001b[0m \u001b[1m(\u001b[0mCaused by \u001b[1;35mResponseError\u001b[0m\u001b[1m(\u001b[0m\u001b[32m'too many 500 error responses'\u001b[0m\u001b[1m)\u001b[0m\u001b[1m)\u001b[0m\n",
       "##### File model/metadata/requirements.txt #####\n",
       "API request to \n",
       "\u001b[4;94mhttp://127.0.0.1:5000/api/2.0/mlflow-artifacts/artifacts/870436518149162304/cc6297cbf717446a9f8f5bde183d6da7/artifa\u001b[0m\n",
       "\u001b[4;94mcts/model/metadata/requirements.txt\u001b[0m failed with exception \u001b[1;35mHTTPConnectionPool\u001b[0m\u001b[1m(\u001b[0m\u001b[33mhost\u001b[0m=\u001b[32m'127.0.0.1'\u001b[0m, \u001b[33mport\u001b[0m=\u001b[1;36m5000\u001b[0m\u001b[1m)\u001b[0m: Max \n",
       "retries exceeded with url: \n",
       "\u001b[35m/api/2.0/mlflow-artifacts/artifacts/870436518149162304/cc6297cbf717446a9f8f5bde183d6da7/artifacts/model/metadata/\u001b[0m\u001b[95mre\u001b[0m\n",
       "\u001b[95mquirements.txt\u001b[0m \u001b[1m(\u001b[0mCaused by \u001b[1;35mResponseError\u001b[0m\u001b[1m(\u001b[0m\u001b[32m'too many 500 error responses'\u001b[0m\u001b[1m)\u001b[0m\u001b[1m)\u001b[0m\n",
       "##### File model/python_env.yaml #####\n",
       "API request to \n",
       "\u001b[4;94mhttp://127.0.0.1:5000/api/2.0/mlflow-artifacts/artifacts/870436518149162304/cc6297cbf717446a9f8f5bde183d6da7/artifa\u001b[0m\n",
       "\u001b[4;94mcts/model/python_env.yaml\u001b[0m failed with exception \u001b[1;35mHTTPConnectionPool\u001b[0m\u001b[1m(\u001b[0m\u001b[33mhost\u001b[0m=\u001b[32m'127.0.0.1'\u001b[0m, \u001b[33mport\u001b[0m=\u001b[1;36m5000\u001b[0m\u001b[1m)\u001b[0m: Max retries \n",
       "exceeded with url: \n",
       "\u001b[35m/api/2.0/mlflow-artifacts/artifacts/870436518149162304/cc6297cbf717446a9f8f5bde183d6da7/artifacts/model/\u001b[0m\u001b[95mpython_env.\u001b[0m\n",
       "\u001b[95myaml\u001b[0m \u001b[1m(\u001b[0mCaused by \u001b[1;35mResponseError\u001b[0m\u001b[1m(\u001b[0m\u001b[32m'too many 500 error responses'\u001b[0m\u001b[1m)\u001b[0m\u001b[1m)\u001b[0m\n"
      ]
     },
     "metadata": {},
     "output_type": "display_data"
    }
   ],
   "source": [
    "loaded_model = mlflow.sklearn.load_model(model_path)\n",
    "\n",
    "print(\"Showing predictions\")\n",
    "print(loaded_model.predict(X_test))"
   ]
  },
  {
   "cell_type": "code",
   "execution_count": null,
   "id": "cb2586fa-5d8d-41b3-960f-8e306dff36e3",
   "metadata": {},
   "outputs": [],
   "source": []
  },
  {
   "cell_type": "code",
   "execution_count": null,
   "id": "33957a37-0f82-4a46-80d1-2540e1fac8a4",
   "metadata": {},
   "outputs": [],
   "source": []
  },
  {
   "cell_type": "code",
   "execution_count": 13,
   "id": "5cf2d6b3-9d75-46de-8f98-abeba4f8e6f7",
   "metadata": {},
   "outputs": [
    {
     "data": {
      "text/html": [
       "<pre style=\"white-space:pre;overflow-x:auto;line-height:normal;font-family:Menlo,'DejaVu Sans Mono',consolas,'Courier New',monospace\"><span style=\"color: #7fbfbf; text-decoration-color: #7fbfbf\">[06/22/24 16:15:32] </span><span style=\"color: #800000; text-decoration-color: #800000\">WARNING </span> C:\\Users\\dggua\\anaconda3\\envs\\test_env\\lib\\site-packages\\sklearn\\base. <a href=\"file://C:\\Users\\dggua\\anaconda3\\envs\\test_env\\lib\\warnings.py\" target=\"_blank\"><span style=\"color: #7f7f7f; text-decoration-color: #7f7f7f\">warnings.py</span></a><span style=\"color: #7f7f7f; text-decoration-color: #7f7f7f\">:</span><a href=\"file://C:\\Users\\dggua\\anaconda3\\envs\\test_env\\lib\\warnings.py#109\" target=\"_blank\"><span style=\"color: #7f7f7f; text-decoration-color: #7f7f7f\">109</span></a>\n",
       "<span style=\"color: #7fbfbf; text-decoration-color: #7fbfbf\">                    </span>         py:<span style=\"color: #008080; text-decoration-color: #008080; font-weight: bold\">1351</span>: DataConversionWarning: A column-vector y was passed when a 1d <span style=\"color: #7f7f7f; text-decoration-color: #7f7f7f\">               </span>\n",
       "<span style=\"color: #7fbfbf; text-decoration-color: #7fbfbf\">                    </span>         array was expected. Please change the shape of y to <span style=\"font-weight: bold\">(</span>n_samples,<span style=\"font-weight: bold\">)</span>, for  <span style=\"color: #7f7f7f; text-decoration-color: #7f7f7f\">               </span>\n",
       "<span style=\"color: #7fbfbf; text-decoration-color: #7fbfbf\">                    </span>         example using <span style=\"color: #800080; text-decoration-color: #800080; font-weight: bold\">ravel</span><span style=\"font-weight: bold\">()</span>.                                                 <span style=\"color: #7f7f7f; text-decoration-color: #7f7f7f\">               </span>\n",
       "<span style=\"color: #7fbfbf; text-decoration-color: #7fbfbf\">                    </span>           return <span style=\"color: #800080; text-decoration-color: #800080; font-weight: bold\">fit_method</span><span style=\"font-weight: bold\">(</span>estimator, *args, **kwargs<span style=\"font-weight: bold\">)</span>                        <span style=\"color: #7f7f7f; text-decoration-color: #7f7f7f\">               </span>\n",
       "<span style=\"color: #7fbfbf; text-decoration-color: #7fbfbf\">                    </span>                                                                                <span style=\"color: #7f7f7f; text-decoration-color: #7f7f7f\">               </span>\n",
       "</pre>\n"
      ],
      "text/plain": [
       "\u001b[2;36m[06/22/24 16:15:32]\u001b[0m\u001b[2;36m \u001b[0m\u001b[31mWARNING \u001b[0m C:\\Users\\dggua\\anaconda3\\envs\\test_env\\lib\\site-packages\\sklearn\\base. \u001b]8;id=815037;file://C:\\Users\\dggua\\anaconda3\\envs\\test_env\\lib\\warnings.py\u001b\\\u001b[2mwarnings.py\u001b[0m\u001b]8;;\u001b\\\u001b[2m:\u001b[0m\u001b]8;id=725499;file://C:\\Users\\dggua\\anaconda3\\envs\\test_env\\lib\\warnings.py#109\u001b\\\u001b[2m109\u001b[0m\u001b]8;;\u001b\\\n",
       "\u001b[2;36m                    \u001b[0m         py:\u001b[1;36m1351\u001b[0m: DataConversionWarning: A column-vector y was passed when a 1d \u001b[2m               \u001b[0m\n",
       "\u001b[2;36m                    \u001b[0m         array was expected. Please change the shape of y to \u001b[1m(\u001b[0mn_samples,\u001b[1m)\u001b[0m, for  \u001b[2m               \u001b[0m\n",
       "\u001b[2;36m                    \u001b[0m         example using \u001b[1;35mravel\u001b[0m\u001b[1m(\u001b[0m\u001b[1m)\u001b[0m.                                                 \u001b[2m               \u001b[0m\n",
       "\u001b[2;36m                    \u001b[0m           return \u001b[1;35mfit_method\u001b[0m\u001b[1m(\u001b[0mestimator, *args, **kwargs\u001b[1m)\u001b[0m                        \u001b[2m               \u001b[0m\n",
       "\u001b[2;36m                    \u001b[0m                                                                                \u001b[2m               \u001b[0m\n"
      ]
     },
     "metadata": {},
     "output_type": "display_data"
    }
   ],
   "source": [
    "with mlflow.start_run(run_name=\"tracking experiment_2\", description=description) as run:\n",
    "    rf = RandomForestRegressor(n_estimators=100, max_depth=6, max_features=3)\n",
    "    rf.fit(X_train, y_train)\n",
    "mlflow.end_run()"
   ]
  },
  {
   "cell_type": "code",
   "execution_count": 14,
   "id": "efe361cf-2f20-4a94-976f-86c6b4f92e85",
   "metadata": {},
   "outputs": [
    {
     "data": {
      "text/html": [
       "<pre style=\"white-space:pre;overflow-x:auto;line-height:normal;font-family:Menlo,'DejaVu Sans Mono',consolas,'Courier New',monospace\"><span style=\"color: #7fbfbf; text-decoration-color: #7fbfbf\">[06/22/24 16:16:22] </span><span style=\"color: #800000; text-decoration-color: #800000\">WARNING </span> C:\\Users\\dggua\\anaconda3\\envs\\test_env\\lib\\site-packages\\sklearn\\base. <a href=\"file://C:\\Users\\dggua\\anaconda3\\envs\\test_env\\lib\\warnings.py\" target=\"_blank\"><span style=\"color: #7f7f7f; text-decoration-color: #7f7f7f\">warnings.py</span></a><span style=\"color: #7f7f7f; text-decoration-color: #7f7f7f\">:</span><a href=\"file://C:\\Users\\dggua\\anaconda3\\envs\\test_env\\lib\\warnings.py#109\" target=\"_blank\"><span style=\"color: #7f7f7f; text-decoration-color: #7f7f7f\">109</span></a>\n",
       "<span style=\"color: #7fbfbf; text-decoration-color: #7fbfbf\">                    </span>         py:<span style=\"color: #008080; text-decoration-color: #008080; font-weight: bold\">1351</span>: DataConversionWarning: A column-vector y was passed when a 1d <span style=\"color: #7f7f7f; text-decoration-color: #7f7f7f\">               </span>\n",
       "<span style=\"color: #7fbfbf; text-decoration-color: #7fbfbf\">                    </span>         array was expected. Please change the shape of y to <span style=\"font-weight: bold\">(</span>n_samples,<span style=\"font-weight: bold\">)</span>, for  <span style=\"color: #7f7f7f; text-decoration-color: #7f7f7f\">               </span>\n",
       "<span style=\"color: #7fbfbf; text-decoration-color: #7fbfbf\">                    </span>         example using <span style=\"color: #800080; text-decoration-color: #800080; font-weight: bold\">ravel</span><span style=\"font-weight: bold\">()</span>.                                                 <span style=\"color: #7f7f7f; text-decoration-color: #7f7f7f\">               </span>\n",
       "<span style=\"color: #7fbfbf; text-decoration-color: #7fbfbf\">                    </span>           return <span style=\"color: #800080; text-decoration-color: #800080; font-weight: bold\">fit_method</span><span style=\"font-weight: bold\">(</span>estimator, *args, **kwargs<span style=\"font-weight: bold\">)</span>                        <span style=\"color: #7f7f7f; text-decoration-color: #7f7f7f\">               </span>\n",
       "<span style=\"color: #7fbfbf; text-decoration-color: #7fbfbf\">                    </span>                                                                                <span style=\"color: #7f7f7f; text-decoration-color: #7f7f7f\">               </span>\n",
       "</pre>\n"
      ],
      "text/plain": [
       "\u001b[2;36m[06/22/24 16:16:22]\u001b[0m\u001b[2;36m \u001b[0m\u001b[31mWARNING \u001b[0m C:\\Users\\dggua\\anaconda3\\envs\\test_env\\lib\\site-packages\\sklearn\\base. \u001b]8;id=804084;file://C:\\Users\\dggua\\anaconda3\\envs\\test_env\\lib\\warnings.py\u001b\\\u001b[2mwarnings.py\u001b[0m\u001b]8;;\u001b\\\u001b[2m:\u001b[0m\u001b]8;id=226576;file://C:\\Users\\dggua\\anaconda3\\envs\\test_env\\lib\\warnings.py#109\u001b\\\u001b[2m109\u001b[0m\u001b]8;;\u001b\\\n",
       "\u001b[2;36m                    \u001b[0m         py:\u001b[1;36m1351\u001b[0m: DataConversionWarning: A column-vector y was passed when a 1d \u001b[2m               \u001b[0m\n",
       "\u001b[2;36m                    \u001b[0m         array was expected. Please change the shape of y to \u001b[1m(\u001b[0mn_samples,\u001b[1m)\u001b[0m, for  \u001b[2m               \u001b[0m\n",
       "\u001b[2;36m                    \u001b[0m         example using \u001b[1;35mravel\u001b[0m\u001b[1m(\u001b[0m\u001b[1m)\u001b[0m.                                                 \u001b[2m               \u001b[0m\n",
       "\u001b[2;36m                    \u001b[0m           return \u001b[1;35mfit_method\u001b[0m\u001b[1m(\u001b[0mestimator, *args, **kwargs\u001b[1m)\u001b[0m                        \u001b[2m               \u001b[0m\n",
       "\u001b[2;36m                    \u001b[0m                                                                                \u001b[2m               \u001b[0m\n"
      ]
     },
     "metadata": {},
     "output_type": "display_data"
    }
   ],
   "source": [
    "mlflow.set_experiment(\"mlflow_first_example\")\n",
    "\n",
    "with mlflow.start_run(run_name=\"params_artifacts_logged\") as run:\n",
    "\n",
    "    params = {\"n_estimators\":100, \"max_depth\":6, \"max_features\":3}\n",
    "\n",
    "    rf = RandomForestRegressor(**params)\n",
    "    rf.fit(X_train, y_train)\n",
    "    y_pred = rf.predict(X_test)\n",
    "\n",
    "    \n",
    "    #metrics\n",
    "    explained_variance = explained_variance_score(y_test, y_pred)\n",
    "    mse = mean_squared_error(y_test, y_pred)\n",
    "    \n",
    "    #log the relevant objects\n",
    "    mlflow.log_params(params)\n",
    "    mlflow.log_param(\"test\", \"test\")\n",
    "    mlflow.log_metric(\"explained_variance\", explained_variance)\n",
    "    mlflow.log_metric(\"mse\", mse)\n",
    "    mlflow.set_tag(\"tag\", \"logged run\")\n",
    "    \n",
    "    # save the model as an artifact\n",
    "    mlflow.sklearn.log_model(\n",
    "    sk_model=rf,\n",
    "    artifact_path=\"random_forest_regressor\")\n",
    "    \n",
    "mlflow.end_run()"
   ]
  },
  {
   "cell_type": "code",
   "execution_count": 15,
   "id": "c5592537-215d-40f8-8215-c01282f977a8",
   "metadata": {},
   "outputs": [
    {
     "name": "stderr",
     "output_type": "stream",
     "text": [
      "2024/06/22 16:17:20 WARNING mlflow.utils.autologging_utils: MLflow autologging encountered a warning: \"C:\\Users\\dggua\\anaconda3\\envs\\test_env\\lib\\site-packages\\_distutils_hack\\__init__.py:18: UserWarning: Distutils was imported before Setuptools, but importing Setuptools also replaces the `distutils` module in `sys.modules`. This may lead to undesirable behaviors or errors. To avoid these issues, avoid using distutils directly, ensure that setuptools is installed in the traditional way (e.g. not an editable install), and/or make sure that setuptools is always imported before distutils.\"\n",
      "2024/06/22 16:17:20 WARNING mlflow.utils.autologging_utils: MLflow autologging encountered a warning: \"C:\\Users\\dggua\\anaconda3\\envs\\test_env\\lib\\site-packages\\_distutils_hack\\__init__.py:33: UserWarning: Setuptools is replacing distutils.\"\n",
      "2024/06/22 16:17:20 WARNING mlflow.tracking.fluent: Exception raised while enabling autologging for sklearn: C:\\Users\\dggua\\anaconda3\\envs\\test_env\\lib\\distutils\\core.py\n",
      "2024/06/22 16:17:20 WARNING mlflow.spark: With Pyspark >= 3.2, PYSPARK_PIN_THREAD environment variable must be set to false for Spark datasource autologging to work.\n",
      "2024/06/22 16:17:20 INFO mlflow.tracking.fluent: Autologging successfully enabled for pyspark.\n"
     ]
    },
    {
     "data": {
      "text/html": [
       "<pre style=\"white-space:pre;overflow-x:auto;line-height:normal;font-family:Menlo,'DejaVu Sans Mono',consolas,'Courier New',monospace\"><span style=\"color: #7fbfbf; text-decoration-color: #7fbfbf\">[06/22/24 16:17:20] </span><span style=\"color: #800000; text-decoration-color: #800000\">WARNING </span> C:\\Users\\dggua\\anaconda3\\envs\\test_env\\lib\\site-packages\\sklearn\\base. <a href=\"file://C:\\Users\\dggua\\anaconda3\\envs\\test_env\\lib\\warnings.py\" target=\"_blank\"><span style=\"color: #7f7f7f; text-decoration-color: #7f7f7f\">warnings.py</span></a><span style=\"color: #7f7f7f; text-decoration-color: #7f7f7f\">:</span><a href=\"file://C:\\Users\\dggua\\anaconda3\\envs\\test_env\\lib\\warnings.py#109\" target=\"_blank\"><span style=\"color: #7f7f7f; text-decoration-color: #7f7f7f\">109</span></a>\n",
       "<span style=\"color: #7fbfbf; text-decoration-color: #7fbfbf\">                    </span>         py:<span style=\"color: #008080; text-decoration-color: #008080; font-weight: bold\">1351</span>: DataConversionWarning: A column-vector y was passed when a 1d <span style=\"color: #7f7f7f; text-decoration-color: #7f7f7f\">               </span>\n",
       "<span style=\"color: #7fbfbf; text-decoration-color: #7fbfbf\">                    </span>         array was expected. Please change the shape of y to <span style=\"font-weight: bold\">(</span>n_samples,<span style=\"font-weight: bold\">)</span>, for  <span style=\"color: #7f7f7f; text-decoration-color: #7f7f7f\">               </span>\n",
       "<span style=\"color: #7fbfbf; text-decoration-color: #7fbfbf\">                    </span>         example using <span style=\"color: #800080; text-decoration-color: #800080; font-weight: bold\">ravel</span><span style=\"font-weight: bold\">()</span>.                                                 <span style=\"color: #7f7f7f; text-decoration-color: #7f7f7f\">               </span>\n",
       "<span style=\"color: #7fbfbf; text-decoration-color: #7fbfbf\">                    </span>           return <span style=\"color: #800080; text-decoration-color: #800080; font-weight: bold\">fit_method</span><span style=\"font-weight: bold\">(</span>estimator, *args, **kwargs<span style=\"font-weight: bold\">)</span>                        <span style=\"color: #7f7f7f; text-decoration-color: #7f7f7f\">               </span>\n",
       "<span style=\"color: #7fbfbf; text-decoration-color: #7fbfbf\">                    </span>                                                                                <span style=\"color: #7f7f7f; text-decoration-color: #7f7f7f\">               </span>\n",
       "</pre>\n"
      ],
      "text/plain": [
       "\u001b[2;36m[06/22/24 16:17:20]\u001b[0m\u001b[2;36m \u001b[0m\u001b[31mWARNING \u001b[0m C:\\Users\\dggua\\anaconda3\\envs\\test_env\\lib\\site-packages\\sklearn\\base. \u001b]8;id=416298;file://C:\\Users\\dggua\\anaconda3\\envs\\test_env\\lib\\warnings.py\u001b\\\u001b[2mwarnings.py\u001b[0m\u001b]8;;\u001b\\\u001b[2m:\u001b[0m\u001b]8;id=547633;file://C:\\Users\\dggua\\anaconda3\\envs\\test_env\\lib\\warnings.py#109\u001b\\\u001b[2m109\u001b[0m\u001b]8;;\u001b\\\n",
       "\u001b[2;36m                    \u001b[0m         py:\u001b[1;36m1351\u001b[0m: DataConversionWarning: A column-vector y was passed when a 1d \u001b[2m               \u001b[0m\n",
       "\u001b[2;36m                    \u001b[0m         array was expected. Please change the shape of y to \u001b[1m(\u001b[0mn_samples,\u001b[1m)\u001b[0m, for  \u001b[2m               \u001b[0m\n",
       "\u001b[2;36m                    \u001b[0m         example using \u001b[1;35mravel\u001b[0m\u001b[1m(\u001b[0m\u001b[1m)\u001b[0m.                                                 \u001b[2m               \u001b[0m\n",
       "\u001b[2;36m                    \u001b[0m           return \u001b[1;35mfit_method\u001b[0m\u001b[1m(\u001b[0mestimator, *args, **kwargs\u001b[1m)\u001b[0m                        \u001b[2m               \u001b[0m\n",
       "\u001b[2;36m                    \u001b[0m                                                                                \u001b[2m               \u001b[0m\n"
      ]
     },
     "metadata": {},
     "output_type": "display_data"
    }
   ],
   "source": [
    "# use autolog\n",
    "mlflow.autolog(log_model_signatures=False, log_input_examples=False)\n",
    "\n",
    "with mlflow.start_run(run_name=\"run_2\") as run:\n",
    "    rf = RandomForestRegressor(n_estimators=100, max_depth=6, max_features=3)\n",
    "    rf.fit(X_train, y_train)\n",
    "mlflow.end_run()  "
   ]
  },
  {
   "cell_type": "code",
   "execution_count": 16,
   "id": "3f8163b4-e739-4bea-b5cc-661c2ca72fab",
   "metadata": {},
   "outputs": [
    {
     "name": "stderr",
     "output_type": "stream",
     "text": [
      "2024/06/22 16:17:47 INFO mlflow.tracking.fluent: Experiment with name 'mlflow_parameters_search' does not exist. Creating a new experiment.\n"
     ]
    },
    {
     "data": {
      "text/html": [
       "<pre style=\"white-space:pre;overflow-x:auto;line-height:normal;font-family:Menlo,'DejaVu Sans Mono',consolas,'Courier New',monospace\"></pre>\n"
      ],
      "text/plain": []
     },
     "metadata": {},
     "output_type": "display_data"
    },
    {
     "data": {
      "text/plain": [
       "\u001b[1m<\u001b[0m\u001b[1;95mExperiment:\u001b[0m\u001b[39m \u001b[0m\u001b[33martifact_location\u001b[0m\u001b[39m=\u001b[0m\u001b[32m'mlflow-artifacts:/861406686854474306'\u001b[0m\u001b[39m, \u001b[0m\u001b[33mcreation_time\u001b[0m\u001b[39m=\u001b[0m\u001b[1;36m1719069467355\u001b[0m\u001b[39m, \u001b[0m\u001b[33mexperiment_id\u001b[0m\u001b[39m=\u001b[0m\u001b[32m'861406686854474306'\u001b[0m\u001b[39m, \u001b[0m\u001b[33mlast_update_time\u001b[0m\u001b[39m=\u001b[0m\u001b[1;36m1719069467355\u001b[0m\u001b[39m, \u001b[0m\u001b[33mlifecycle_stage\u001b[0m\u001b[39m=\u001b[0m\u001b[32m'active'\u001b[0m\u001b[39m, \u001b[0m\u001b[33mname\u001b[0m\u001b[39m=\u001b[0m\u001b[32m'mlflow_parameters_search'\u001b[0m\u001b[39m, \u001b[0m\u001b[33mtags\u001b[0m\u001b[39m=\u001b[0m\u001b[1;39m{\u001b[0m\u001b[1;39m}\u001b[0m\u001b[1m>\u001b[0m"
      ]
     },
     "execution_count": 16,
     "metadata": {},
     "output_type": "execute_result"
    }
   ],
   "source": [
    "mlflow.set_experiment(\"mlflow_parameters_search\")"
   ]
  },
  {
   "cell_type": "code",
   "execution_count": 17,
   "id": "723885dc-283b-4e10-97bf-befc38f43125",
   "metadata": {},
   "outputs": [
    {
     "name": "stderr",
     "output_type": "stream",
     "text": [
      "2024/06/22 16:18:01 WARNING mlflow.spark: With Pyspark >= 3.2, PYSPARK_PIN_THREAD environment variable must be set to false for Spark datasource autologging to work.\n",
      "2024/06/22 16:18:01 INFO mlflow.tracking.fluent: Autologging successfully enabled for pyspark.\n"
     ]
    },
    {
     "data": {
      "text/html": [
       "<pre style=\"white-space:pre;overflow-x:auto;line-height:normal;font-family:Menlo,'DejaVu Sans Mono',consolas,'Courier New',monospace\"><span style=\"color: #7fbfbf; text-decoration-color: #7fbfbf\">[06/22/24 16:18:01] </span><span style=\"color: #800000; text-decoration-color: #800000\">WARNING </span> C:\\Users\\dggua\\anaconda3\\envs\\test_env\\lib\\site-packages\\sklearn\\base. <a href=\"file://C:\\Users\\dggua\\anaconda3\\envs\\test_env\\lib\\warnings.py\" target=\"_blank\"><span style=\"color: #7f7f7f; text-decoration-color: #7f7f7f\">warnings.py</span></a><span style=\"color: #7f7f7f; text-decoration-color: #7f7f7f\">:</span><a href=\"file://C:\\Users\\dggua\\anaconda3\\envs\\test_env\\lib\\warnings.py#109\" target=\"_blank\"><span style=\"color: #7f7f7f; text-decoration-color: #7f7f7f\">109</span></a>\n",
       "<span style=\"color: #7fbfbf; text-decoration-color: #7fbfbf\">                    </span>         py:<span style=\"color: #008080; text-decoration-color: #008080; font-weight: bold\">1351</span>: DataConversionWarning: A column-vector y was passed when a 1d <span style=\"color: #7f7f7f; text-decoration-color: #7f7f7f\">               </span>\n",
       "<span style=\"color: #7fbfbf; text-decoration-color: #7fbfbf\">                    </span>         array was expected. Please change the shape of y to <span style=\"font-weight: bold\">(</span>n_samples,<span style=\"font-weight: bold\">)</span>, for  <span style=\"color: #7f7f7f; text-decoration-color: #7f7f7f\">               </span>\n",
       "<span style=\"color: #7fbfbf; text-decoration-color: #7fbfbf\">                    </span>         example using <span style=\"color: #800080; text-decoration-color: #800080; font-weight: bold\">ravel</span><span style=\"font-weight: bold\">()</span>.                                                 <span style=\"color: #7f7f7f; text-decoration-color: #7f7f7f\">               </span>\n",
       "<span style=\"color: #7fbfbf; text-decoration-color: #7fbfbf\">                    </span>           return <span style=\"color: #800080; text-decoration-color: #800080; font-weight: bold\">fit_method</span><span style=\"font-weight: bold\">(</span>estimator, *args, **kwargs<span style=\"font-weight: bold\">)</span>                        <span style=\"color: #7f7f7f; text-decoration-color: #7f7f7f\">               </span>\n",
       "<span style=\"color: #7fbfbf; text-decoration-color: #7fbfbf\">                    </span>                                                                                <span style=\"color: #7f7f7f; text-decoration-color: #7f7f7f\">               </span>\n",
       "</pre>\n"
      ],
      "text/plain": [
       "\u001b[2;36m[06/22/24 16:18:01]\u001b[0m\u001b[2;36m \u001b[0m\u001b[31mWARNING \u001b[0m C:\\Users\\dggua\\anaconda3\\envs\\test_env\\lib\\site-packages\\sklearn\\base. \u001b]8;id=65627;file://C:\\Users\\dggua\\anaconda3\\envs\\test_env\\lib\\warnings.py\u001b\\\u001b[2mwarnings.py\u001b[0m\u001b]8;;\u001b\\\u001b[2m:\u001b[0m\u001b]8;id=34776;file://C:\\Users\\dggua\\anaconda3\\envs\\test_env\\lib\\warnings.py#109\u001b\\\u001b[2m109\u001b[0m\u001b]8;;\u001b\\\n",
       "\u001b[2;36m                    \u001b[0m         py:\u001b[1;36m1351\u001b[0m: DataConversionWarning: A column-vector y was passed when a 1d \u001b[2m               \u001b[0m\n",
       "\u001b[2;36m                    \u001b[0m         array was expected. Please change the shape of y to \u001b[1m(\u001b[0mn_samples,\u001b[1m)\u001b[0m, for  \u001b[2m               \u001b[0m\n",
       "\u001b[2;36m                    \u001b[0m         example using \u001b[1;35mravel\u001b[0m\u001b[1m(\u001b[0m\u001b[1m)\u001b[0m.                                                 \u001b[2m               \u001b[0m\n",
       "\u001b[2;36m                    \u001b[0m           return \u001b[1;35mfit_method\u001b[0m\u001b[1m(\u001b[0mestimator, *args, **kwargs\u001b[1m)\u001b[0m                        \u001b[2m               \u001b[0m\n",
       "\u001b[2;36m                    \u001b[0m                                                                                \u001b[2m               \u001b[0m\n"
      ]
     },
     "metadata": {},
     "output_type": "display_data"
    },
    {
     "data": {
      "text/html": [
       "<pre style=\"white-space:pre;overflow-x:auto;line-height:normal;font-family:Menlo,'DejaVu Sans Mono',consolas,'Courier New',monospace\"><span style=\"color: #7fbfbf; text-decoration-color: #7fbfbf\">                    </span><span style=\"color: #800000; text-decoration-color: #800000\">WARNING </span> C:\\Users\\dggua\\anaconda3\\envs\\test_env\\lib\\site-packages\\sklearn\\base. <a href=\"file://C:\\Users\\dggua\\anaconda3\\envs\\test_env\\lib\\warnings.py\" target=\"_blank\"><span style=\"color: #7f7f7f; text-decoration-color: #7f7f7f\">warnings.py</span></a><span style=\"color: #7f7f7f; text-decoration-color: #7f7f7f\">:</span><a href=\"file://C:\\Users\\dggua\\anaconda3\\envs\\test_env\\lib\\warnings.py#109\" target=\"_blank\"><span style=\"color: #7f7f7f; text-decoration-color: #7f7f7f\">109</span></a>\n",
       "<span style=\"color: #7fbfbf; text-decoration-color: #7fbfbf\">                    </span>         py:<span style=\"color: #008080; text-decoration-color: #008080; font-weight: bold\">1351</span>: DataConversionWarning: A column-vector y was passed when a 1d <span style=\"color: #7f7f7f; text-decoration-color: #7f7f7f\">               </span>\n",
       "<span style=\"color: #7fbfbf; text-decoration-color: #7fbfbf\">                    </span>         array was expected. Please change the shape of y to <span style=\"font-weight: bold\">(</span>n_samples,<span style=\"font-weight: bold\">)</span>, for  <span style=\"color: #7f7f7f; text-decoration-color: #7f7f7f\">               </span>\n",
       "<span style=\"color: #7fbfbf; text-decoration-color: #7fbfbf\">                    </span>         example using <span style=\"color: #800080; text-decoration-color: #800080; font-weight: bold\">ravel</span><span style=\"font-weight: bold\">()</span>.                                                 <span style=\"color: #7f7f7f; text-decoration-color: #7f7f7f\">               </span>\n",
       "<span style=\"color: #7fbfbf; text-decoration-color: #7fbfbf\">                    </span>           return <span style=\"color: #800080; text-decoration-color: #800080; font-weight: bold\">fit_method</span><span style=\"font-weight: bold\">(</span>estimator, *args, **kwargs<span style=\"font-weight: bold\">)</span>                        <span style=\"color: #7f7f7f; text-decoration-color: #7f7f7f\">               </span>\n",
       "<span style=\"color: #7fbfbf; text-decoration-color: #7fbfbf\">                    </span>                                                                                <span style=\"color: #7f7f7f; text-decoration-color: #7f7f7f\">               </span>\n",
       "</pre>\n"
      ],
      "text/plain": [
       "\u001b[2;36m                   \u001b[0m\u001b[2;36m \u001b[0m\u001b[31mWARNING \u001b[0m C:\\Users\\dggua\\anaconda3\\envs\\test_env\\lib\\site-packages\\sklearn\\base. \u001b]8;id=197185;file://C:\\Users\\dggua\\anaconda3\\envs\\test_env\\lib\\warnings.py\u001b\\\u001b[2mwarnings.py\u001b[0m\u001b]8;;\u001b\\\u001b[2m:\u001b[0m\u001b]8;id=567867;file://C:\\Users\\dggua\\anaconda3\\envs\\test_env\\lib\\warnings.py#109\u001b\\\u001b[2m109\u001b[0m\u001b]8;;\u001b\\\n",
       "\u001b[2;36m                    \u001b[0m         py:\u001b[1;36m1351\u001b[0m: DataConversionWarning: A column-vector y was passed when a 1d \u001b[2m               \u001b[0m\n",
       "\u001b[2;36m                    \u001b[0m         array was expected. Please change the shape of y to \u001b[1m(\u001b[0mn_samples,\u001b[1m)\u001b[0m, for  \u001b[2m               \u001b[0m\n",
       "\u001b[2;36m                    \u001b[0m         example using \u001b[1;35mravel\u001b[0m\u001b[1m(\u001b[0m\u001b[1m)\u001b[0m.                                                 \u001b[2m               \u001b[0m\n",
       "\u001b[2;36m                    \u001b[0m           return \u001b[1;35mfit_method\u001b[0m\u001b[1m(\u001b[0mestimator, *args, **kwargs\u001b[1m)\u001b[0m                        \u001b[2m               \u001b[0m\n",
       "\u001b[2;36m                    \u001b[0m                                                                                \u001b[2m               \u001b[0m\n"
      ]
     },
     "metadata": {},
     "output_type": "display_data"
    },
    {
     "data": {
      "text/html": [
       "<pre style=\"white-space:pre;overflow-x:auto;line-height:normal;font-family:Menlo,'DejaVu Sans Mono',consolas,'Courier New',monospace\"><span style=\"color: #7fbfbf; text-decoration-color: #7fbfbf\">                    </span><span style=\"color: #800000; text-decoration-color: #800000\">WARNING </span> C:\\Users\\dggua\\anaconda3\\envs\\test_env\\lib\\site-packages\\sklearn\\base. <a href=\"file://C:\\Users\\dggua\\anaconda3\\envs\\test_env\\lib\\warnings.py\" target=\"_blank\"><span style=\"color: #7f7f7f; text-decoration-color: #7f7f7f\">warnings.py</span></a><span style=\"color: #7f7f7f; text-decoration-color: #7f7f7f\">:</span><a href=\"file://C:\\Users\\dggua\\anaconda3\\envs\\test_env\\lib\\warnings.py#109\" target=\"_blank\"><span style=\"color: #7f7f7f; text-decoration-color: #7f7f7f\">109</span></a>\n",
       "<span style=\"color: #7fbfbf; text-decoration-color: #7fbfbf\">                    </span>         py:<span style=\"color: #008080; text-decoration-color: #008080; font-weight: bold\">1351</span>: DataConversionWarning: A column-vector y was passed when a 1d <span style=\"color: #7f7f7f; text-decoration-color: #7f7f7f\">               </span>\n",
       "<span style=\"color: #7fbfbf; text-decoration-color: #7fbfbf\">                    </span>         array was expected. Please change the shape of y to <span style=\"font-weight: bold\">(</span>n_samples,<span style=\"font-weight: bold\">)</span>, for  <span style=\"color: #7f7f7f; text-decoration-color: #7f7f7f\">               </span>\n",
       "<span style=\"color: #7fbfbf; text-decoration-color: #7fbfbf\">                    </span>         example using <span style=\"color: #800080; text-decoration-color: #800080; font-weight: bold\">ravel</span><span style=\"font-weight: bold\">()</span>.                                                 <span style=\"color: #7f7f7f; text-decoration-color: #7f7f7f\">               </span>\n",
       "<span style=\"color: #7fbfbf; text-decoration-color: #7fbfbf\">                    </span>           return <span style=\"color: #800080; text-decoration-color: #800080; font-weight: bold\">fit_method</span><span style=\"font-weight: bold\">(</span>estimator, *args, **kwargs<span style=\"font-weight: bold\">)</span>                        <span style=\"color: #7f7f7f; text-decoration-color: #7f7f7f\">               </span>\n",
       "<span style=\"color: #7fbfbf; text-decoration-color: #7fbfbf\">                    </span>                                                                                <span style=\"color: #7f7f7f; text-decoration-color: #7f7f7f\">               </span>\n",
       "</pre>\n"
      ],
      "text/plain": [
       "\u001b[2;36m                   \u001b[0m\u001b[2;36m \u001b[0m\u001b[31mWARNING \u001b[0m C:\\Users\\dggua\\anaconda3\\envs\\test_env\\lib\\site-packages\\sklearn\\base. \u001b]8;id=526612;file://C:\\Users\\dggua\\anaconda3\\envs\\test_env\\lib\\warnings.py\u001b\\\u001b[2mwarnings.py\u001b[0m\u001b]8;;\u001b\\\u001b[2m:\u001b[0m\u001b]8;id=148080;file://C:\\Users\\dggua\\anaconda3\\envs\\test_env\\lib\\warnings.py#109\u001b\\\u001b[2m109\u001b[0m\u001b]8;;\u001b\\\n",
       "\u001b[2;36m                    \u001b[0m         py:\u001b[1;36m1351\u001b[0m: DataConversionWarning: A column-vector y was passed when a 1d \u001b[2m               \u001b[0m\n",
       "\u001b[2;36m                    \u001b[0m         array was expected. Please change the shape of y to \u001b[1m(\u001b[0mn_samples,\u001b[1m)\u001b[0m, for  \u001b[2m               \u001b[0m\n",
       "\u001b[2;36m                    \u001b[0m         example using \u001b[1;35mravel\u001b[0m\u001b[1m(\u001b[0m\u001b[1m)\u001b[0m.                                                 \u001b[2m               \u001b[0m\n",
       "\u001b[2;36m                    \u001b[0m           return \u001b[1;35mfit_method\u001b[0m\u001b[1m(\u001b[0mestimator, *args, **kwargs\u001b[1m)\u001b[0m                        \u001b[2m               \u001b[0m\n",
       "\u001b[2;36m                    \u001b[0m                                                                                \u001b[2m               \u001b[0m\n"
      ]
     },
     "metadata": {},
     "output_type": "display_data"
    },
    {
     "data": {
      "text/html": [
       "<pre style=\"white-space:pre;overflow-x:auto;line-height:normal;font-family:Menlo,'DejaVu Sans Mono',consolas,'Courier New',monospace\"><span style=\"color: #7fbfbf; text-decoration-color: #7fbfbf\">                    </span><span style=\"color: #800000; text-decoration-color: #800000\">WARNING </span> C:\\Users\\dggua\\anaconda3\\envs\\test_env\\lib\\site-packages\\sklearn\\base. <a href=\"file://C:\\Users\\dggua\\anaconda3\\envs\\test_env\\lib\\warnings.py\" target=\"_blank\"><span style=\"color: #7f7f7f; text-decoration-color: #7f7f7f\">warnings.py</span></a><span style=\"color: #7f7f7f; text-decoration-color: #7f7f7f\">:</span><a href=\"file://C:\\Users\\dggua\\anaconda3\\envs\\test_env\\lib\\warnings.py#109\" target=\"_blank\"><span style=\"color: #7f7f7f; text-decoration-color: #7f7f7f\">109</span></a>\n",
       "<span style=\"color: #7fbfbf; text-decoration-color: #7fbfbf\">                    </span>         py:<span style=\"color: #008080; text-decoration-color: #008080; font-weight: bold\">1351</span>: DataConversionWarning: A column-vector y was passed when a 1d <span style=\"color: #7f7f7f; text-decoration-color: #7f7f7f\">               </span>\n",
       "<span style=\"color: #7fbfbf; text-decoration-color: #7fbfbf\">                    </span>         array was expected. Please change the shape of y to <span style=\"font-weight: bold\">(</span>n_samples,<span style=\"font-weight: bold\">)</span>, for  <span style=\"color: #7f7f7f; text-decoration-color: #7f7f7f\">               </span>\n",
       "<span style=\"color: #7fbfbf; text-decoration-color: #7fbfbf\">                    </span>         example using <span style=\"color: #800080; text-decoration-color: #800080; font-weight: bold\">ravel</span><span style=\"font-weight: bold\">()</span>.                                                 <span style=\"color: #7f7f7f; text-decoration-color: #7f7f7f\">               </span>\n",
       "<span style=\"color: #7fbfbf; text-decoration-color: #7fbfbf\">                    </span>           return <span style=\"color: #800080; text-decoration-color: #800080; font-weight: bold\">fit_method</span><span style=\"font-weight: bold\">(</span>estimator, *args, **kwargs<span style=\"font-weight: bold\">)</span>                        <span style=\"color: #7f7f7f; text-decoration-color: #7f7f7f\">               </span>\n",
       "<span style=\"color: #7fbfbf; text-decoration-color: #7fbfbf\">                    </span>                                                                                <span style=\"color: #7f7f7f; text-decoration-color: #7f7f7f\">               </span>\n",
       "</pre>\n"
      ],
      "text/plain": [
       "\u001b[2;36m                   \u001b[0m\u001b[2;36m \u001b[0m\u001b[31mWARNING \u001b[0m C:\\Users\\dggua\\anaconda3\\envs\\test_env\\lib\\site-packages\\sklearn\\base. \u001b]8;id=155522;file://C:\\Users\\dggua\\anaconda3\\envs\\test_env\\lib\\warnings.py\u001b\\\u001b[2mwarnings.py\u001b[0m\u001b]8;;\u001b\\\u001b[2m:\u001b[0m\u001b]8;id=823133;file://C:\\Users\\dggua\\anaconda3\\envs\\test_env\\lib\\warnings.py#109\u001b\\\u001b[2m109\u001b[0m\u001b]8;;\u001b\\\n",
       "\u001b[2;36m                    \u001b[0m         py:\u001b[1;36m1351\u001b[0m: DataConversionWarning: A column-vector y was passed when a 1d \u001b[2m               \u001b[0m\n",
       "\u001b[2;36m                    \u001b[0m         array was expected. Please change the shape of y to \u001b[1m(\u001b[0mn_samples,\u001b[1m)\u001b[0m, for  \u001b[2m               \u001b[0m\n",
       "\u001b[2;36m                    \u001b[0m         example using \u001b[1;35mravel\u001b[0m\u001b[1m(\u001b[0m\u001b[1m)\u001b[0m.                                                 \u001b[2m               \u001b[0m\n",
       "\u001b[2;36m                    \u001b[0m           return \u001b[1;35mfit_method\u001b[0m\u001b[1m(\u001b[0mestimator, *args, **kwargs\u001b[1m)\u001b[0m                        \u001b[2m               \u001b[0m\n",
       "\u001b[2;36m                    \u001b[0m                                                                                \u001b[2m               \u001b[0m\n"
      ]
     },
     "metadata": {},
     "output_type": "display_data"
    },
    {
     "data": {
      "text/html": [
       "<pre style=\"white-space:pre;overflow-x:auto;line-height:normal;font-family:Menlo,'DejaVu Sans Mono',consolas,'Courier New',monospace\"><span style=\"color: #7fbfbf; text-decoration-color: #7fbfbf\">                    </span><span style=\"color: #800000; text-decoration-color: #800000\">WARNING </span> C:\\Users\\dggua\\anaconda3\\envs\\test_env\\lib\\site-packages\\sklearn\\base. <a href=\"file://C:\\Users\\dggua\\anaconda3\\envs\\test_env\\lib\\warnings.py\" target=\"_blank\"><span style=\"color: #7f7f7f; text-decoration-color: #7f7f7f\">warnings.py</span></a><span style=\"color: #7f7f7f; text-decoration-color: #7f7f7f\">:</span><a href=\"file://C:\\Users\\dggua\\anaconda3\\envs\\test_env\\lib\\warnings.py#109\" target=\"_blank\"><span style=\"color: #7f7f7f; text-decoration-color: #7f7f7f\">109</span></a>\n",
       "<span style=\"color: #7fbfbf; text-decoration-color: #7fbfbf\">                    </span>         py:<span style=\"color: #008080; text-decoration-color: #008080; font-weight: bold\">1351</span>: DataConversionWarning: A column-vector y was passed when a 1d <span style=\"color: #7f7f7f; text-decoration-color: #7f7f7f\">               </span>\n",
       "<span style=\"color: #7fbfbf; text-decoration-color: #7fbfbf\">                    </span>         array was expected. Please change the shape of y to <span style=\"font-weight: bold\">(</span>n_samples,<span style=\"font-weight: bold\">)</span>, for  <span style=\"color: #7f7f7f; text-decoration-color: #7f7f7f\">               </span>\n",
       "<span style=\"color: #7fbfbf; text-decoration-color: #7fbfbf\">                    </span>         example using <span style=\"color: #800080; text-decoration-color: #800080; font-weight: bold\">ravel</span><span style=\"font-weight: bold\">()</span>.                                                 <span style=\"color: #7f7f7f; text-decoration-color: #7f7f7f\">               </span>\n",
       "<span style=\"color: #7fbfbf; text-decoration-color: #7fbfbf\">                    </span>           return <span style=\"color: #800080; text-decoration-color: #800080; font-weight: bold\">fit_method</span><span style=\"font-weight: bold\">(</span>estimator, *args, **kwargs<span style=\"font-weight: bold\">)</span>                        <span style=\"color: #7f7f7f; text-decoration-color: #7f7f7f\">               </span>\n",
       "<span style=\"color: #7fbfbf; text-decoration-color: #7fbfbf\">                    </span>                                                                                <span style=\"color: #7f7f7f; text-decoration-color: #7f7f7f\">               </span>\n",
       "</pre>\n"
      ],
      "text/plain": [
       "\u001b[2;36m                   \u001b[0m\u001b[2;36m \u001b[0m\u001b[31mWARNING \u001b[0m C:\\Users\\dggua\\anaconda3\\envs\\test_env\\lib\\site-packages\\sklearn\\base. \u001b]8;id=991711;file://C:\\Users\\dggua\\anaconda3\\envs\\test_env\\lib\\warnings.py\u001b\\\u001b[2mwarnings.py\u001b[0m\u001b]8;;\u001b\\\u001b[2m:\u001b[0m\u001b]8;id=462852;file://C:\\Users\\dggua\\anaconda3\\envs\\test_env\\lib\\warnings.py#109\u001b\\\u001b[2m109\u001b[0m\u001b]8;;\u001b\\\n",
       "\u001b[2;36m                    \u001b[0m         py:\u001b[1;36m1351\u001b[0m: DataConversionWarning: A column-vector y was passed when a 1d \u001b[2m               \u001b[0m\n",
       "\u001b[2;36m                    \u001b[0m         array was expected. Please change the shape of y to \u001b[1m(\u001b[0mn_samples,\u001b[1m)\u001b[0m, for  \u001b[2m               \u001b[0m\n",
       "\u001b[2;36m                    \u001b[0m         example using \u001b[1;35mravel\u001b[0m\u001b[1m(\u001b[0m\u001b[1m)\u001b[0m.                                                 \u001b[2m               \u001b[0m\n",
       "\u001b[2;36m                    \u001b[0m           return \u001b[1;35mfit_method\u001b[0m\u001b[1m(\u001b[0mestimator, *args, **kwargs\u001b[1m)\u001b[0m                        \u001b[2m               \u001b[0m\n",
       "\u001b[2;36m                    \u001b[0m                                                                                \u001b[2m               \u001b[0m\n"
      ]
     },
     "metadata": {},
     "output_type": "display_data"
    },
    {
     "data": {
      "text/html": [
       "<pre style=\"white-space:pre;overflow-x:auto;line-height:normal;font-family:Menlo,'DejaVu Sans Mono',consolas,'Courier New',monospace\"><span style=\"color: #7fbfbf; text-decoration-color: #7fbfbf\">                    </span><span style=\"color: #800000; text-decoration-color: #800000\">WARNING </span> C:\\Users\\dggua\\anaconda3\\envs\\test_env\\lib\\site-packages\\sklearn\\base. <a href=\"file://C:\\Users\\dggua\\anaconda3\\envs\\test_env\\lib\\warnings.py\" target=\"_blank\"><span style=\"color: #7f7f7f; text-decoration-color: #7f7f7f\">warnings.py</span></a><span style=\"color: #7f7f7f; text-decoration-color: #7f7f7f\">:</span><a href=\"file://C:\\Users\\dggua\\anaconda3\\envs\\test_env\\lib\\warnings.py#109\" target=\"_blank\"><span style=\"color: #7f7f7f; text-decoration-color: #7f7f7f\">109</span></a>\n",
       "<span style=\"color: #7fbfbf; text-decoration-color: #7fbfbf\">                    </span>         py:<span style=\"color: #008080; text-decoration-color: #008080; font-weight: bold\">1351</span>: DataConversionWarning: A column-vector y was passed when a 1d <span style=\"color: #7f7f7f; text-decoration-color: #7f7f7f\">               </span>\n",
       "<span style=\"color: #7fbfbf; text-decoration-color: #7fbfbf\">                    </span>         array was expected. Please change the shape of y to <span style=\"font-weight: bold\">(</span>n_samples,<span style=\"font-weight: bold\">)</span>, for  <span style=\"color: #7f7f7f; text-decoration-color: #7f7f7f\">               </span>\n",
       "<span style=\"color: #7fbfbf; text-decoration-color: #7fbfbf\">                    </span>         example using <span style=\"color: #800080; text-decoration-color: #800080; font-weight: bold\">ravel</span><span style=\"font-weight: bold\">()</span>.                                                 <span style=\"color: #7f7f7f; text-decoration-color: #7f7f7f\">               </span>\n",
       "<span style=\"color: #7fbfbf; text-decoration-color: #7fbfbf\">                    </span>           return <span style=\"color: #800080; text-decoration-color: #800080; font-weight: bold\">fit_method</span><span style=\"font-weight: bold\">(</span>estimator, *args, **kwargs<span style=\"font-weight: bold\">)</span>                        <span style=\"color: #7f7f7f; text-decoration-color: #7f7f7f\">               </span>\n",
       "<span style=\"color: #7fbfbf; text-decoration-color: #7fbfbf\">                    </span>                                                                                <span style=\"color: #7f7f7f; text-decoration-color: #7f7f7f\">               </span>\n",
       "</pre>\n"
      ],
      "text/plain": [
       "\u001b[2;36m                   \u001b[0m\u001b[2;36m \u001b[0m\u001b[31mWARNING \u001b[0m C:\\Users\\dggua\\anaconda3\\envs\\test_env\\lib\\site-packages\\sklearn\\base. \u001b]8;id=366649;file://C:\\Users\\dggua\\anaconda3\\envs\\test_env\\lib\\warnings.py\u001b\\\u001b[2mwarnings.py\u001b[0m\u001b]8;;\u001b\\\u001b[2m:\u001b[0m\u001b]8;id=647015;file://C:\\Users\\dggua\\anaconda3\\envs\\test_env\\lib\\warnings.py#109\u001b\\\u001b[2m109\u001b[0m\u001b]8;;\u001b\\\n",
       "\u001b[2;36m                    \u001b[0m         py:\u001b[1;36m1351\u001b[0m: DataConversionWarning: A column-vector y was passed when a 1d \u001b[2m               \u001b[0m\n",
       "\u001b[2;36m                    \u001b[0m         array was expected. Please change the shape of y to \u001b[1m(\u001b[0mn_samples,\u001b[1m)\u001b[0m, for  \u001b[2m               \u001b[0m\n",
       "\u001b[2;36m                    \u001b[0m         example using \u001b[1;35mravel\u001b[0m\u001b[1m(\u001b[0m\u001b[1m)\u001b[0m.                                                 \u001b[2m               \u001b[0m\n",
       "\u001b[2;36m                    \u001b[0m           return \u001b[1;35mfit_method\u001b[0m\u001b[1m(\u001b[0mestimator, *args, **kwargs\u001b[1m)\u001b[0m                        \u001b[2m               \u001b[0m\n",
       "\u001b[2;36m                    \u001b[0m                                                                                \u001b[2m               \u001b[0m\n"
      ]
     },
     "metadata": {},
     "output_type": "display_data"
    },
    {
     "data": {
      "text/html": [
       "<pre style=\"white-space:pre;overflow-x:auto;line-height:normal;font-family:Menlo,'DejaVu Sans Mono',consolas,'Courier New',monospace\"><span style=\"color: #7fbfbf; text-decoration-color: #7fbfbf\">                    </span><span style=\"color: #800000; text-decoration-color: #800000\">WARNING </span> C:\\Users\\dggua\\anaconda3\\envs\\test_env\\lib\\site-packages\\sklearn\\base. <a href=\"file://C:\\Users\\dggua\\anaconda3\\envs\\test_env\\lib\\warnings.py\" target=\"_blank\"><span style=\"color: #7f7f7f; text-decoration-color: #7f7f7f\">warnings.py</span></a><span style=\"color: #7f7f7f; text-decoration-color: #7f7f7f\">:</span><a href=\"file://C:\\Users\\dggua\\anaconda3\\envs\\test_env\\lib\\warnings.py#109\" target=\"_blank\"><span style=\"color: #7f7f7f; text-decoration-color: #7f7f7f\">109</span></a>\n",
       "<span style=\"color: #7fbfbf; text-decoration-color: #7fbfbf\">                    </span>         py:<span style=\"color: #008080; text-decoration-color: #008080; font-weight: bold\">1351</span>: DataConversionWarning: A column-vector y was passed when a 1d <span style=\"color: #7f7f7f; text-decoration-color: #7f7f7f\">               </span>\n",
       "<span style=\"color: #7fbfbf; text-decoration-color: #7fbfbf\">                    </span>         array was expected. Please change the shape of y to <span style=\"font-weight: bold\">(</span>n_samples,<span style=\"font-weight: bold\">)</span>, for  <span style=\"color: #7f7f7f; text-decoration-color: #7f7f7f\">               </span>\n",
       "<span style=\"color: #7fbfbf; text-decoration-color: #7fbfbf\">                    </span>         example using <span style=\"color: #800080; text-decoration-color: #800080; font-weight: bold\">ravel</span><span style=\"font-weight: bold\">()</span>.                                                 <span style=\"color: #7f7f7f; text-decoration-color: #7f7f7f\">               </span>\n",
       "<span style=\"color: #7fbfbf; text-decoration-color: #7fbfbf\">                    </span>           return <span style=\"color: #800080; text-decoration-color: #800080; font-weight: bold\">fit_method</span><span style=\"font-weight: bold\">(</span>estimator, *args, **kwargs<span style=\"font-weight: bold\">)</span>                        <span style=\"color: #7f7f7f; text-decoration-color: #7f7f7f\">               </span>\n",
       "<span style=\"color: #7fbfbf; text-decoration-color: #7fbfbf\">                    </span>                                                                                <span style=\"color: #7f7f7f; text-decoration-color: #7f7f7f\">               </span>\n",
       "</pre>\n"
      ],
      "text/plain": [
       "\u001b[2;36m                   \u001b[0m\u001b[2;36m \u001b[0m\u001b[31mWARNING \u001b[0m C:\\Users\\dggua\\anaconda3\\envs\\test_env\\lib\\site-packages\\sklearn\\base. \u001b]8;id=342088;file://C:\\Users\\dggua\\anaconda3\\envs\\test_env\\lib\\warnings.py\u001b\\\u001b[2mwarnings.py\u001b[0m\u001b]8;;\u001b\\\u001b[2m:\u001b[0m\u001b]8;id=5808;file://C:\\Users\\dggua\\anaconda3\\envs\\test_env\\lib\\warnings.py#109\u001b\\\u001b[2m109\u001b[0m\u001b]8;;\u001b\\\n",
       "\u001b[2;36m                    \u001b[0m         py:\u001b[1;36m1351\u001b[0m: DataConversionWarning: A column-vector y was passed when a 1d \u001b[2m               \u001b[0m\n",
       "\u001b[2;36m                    \u001b[0m         array was expected. Please change the shape of y to \u001b[1m(\u001b[0mn_samples,\u001b[1m)\u001b[0m, for  \u001b[2m               \u001b[0m\n",
       "\u001b[2;36m                    \u001b[0m         example using \u001b[1;35mravel\u001b[0m\u001b[1m(\u001b[0m\u001b[1m)\u001b[0m.                                                 \u001b[2m               \u001b[0m\n",
       "\u001b[2;36m                    \u001b[0m           return \u001b[1;35mfit_method\u001b[0m\u001b[1m(\u001b[0mestimator, *args, **kwargs\u001b[1m)\u001b[0m                        \u001b[2m               \u001b[0m\n",
       "\u001b[2;36m                    \u001b[0m                                                                                \u001b[2m               \u001b[0m\n"
      ]
     },
     "metadata": {},
     "output_type": "display_data"
    },
    {
     "data": {
      "text/html": [
       "<pre style=\"white-space:pre;overflow-x:auto;line-height:normal;font-family:Menlo,'DejaVu Sans Mono',consolas,'Courier New',monospace\"><span style=\"color: #7fbfbf; text-decoration-color: #7fbfbf\">                    </span><span style=\"color: #800000; text-decoration-color: #800000\">WARNING </span> C:\\Users\\dggua\\anaconda3\\envs\\test_env\\lib\\site-packages\\sklearn\\base. <a href=\"file://C:\\Users\\dggua\\anaconda3\\envs\\test_env\\lib\\warnings.py\" target=\"_blank\"><span style=\"color: #7f7f7f; text-decoration-color: #7f7f7f\">warnings.py</span></a><span style=\"color: #7f7f7f; text-decoration-color: #7f7f7f\">:</span><a href=\"file://C:\\Users\\dggua\\anaconda3\\envs\\test_env\\lib\\warnings.py#109\" target=\"_blank\"><span style=\"color: #7f7f7f; text-decoration-color: #7f7f7f\">109</span></a>\n",
       "<span style=\"color: #7fbfbf; text-decoration-color: #7fbfbf\">                    </span>         py:<span style=\"color: #008080; text-decoration-color: #008080; font-weight: bold\">1351</span>: DataConversionWarning: A column-vector y was passed when a 1d <span style=\"color: #7f7f7f; text-decoration-color: #7f7f7f\">               </span>\n",
       "<span style=\"color: #7fbfbf; text-decoration-color: #7fbfbf\">                    </span>         array was expected. Please change the shape of y to <span style=\"font-weight: bold\">(</span>n_samples,<span style=\"font-weight: bold\">)</span>, for  <span style=\"color: #7f7f7f; text-decoration-color: #7f7f7f\">               </span>\n",
       "<span style=\"color: #7fbfbf; text-decoration-color: #7fbfbf\">                    </span>         example using <span style=\"color: #800080; text-decoration-color: #800080; font-weight: bold\">ravel</span><span style=\"font-weight: bold\">()</span>.                                                 <span style=\"color: #7f7f7f; text-decoration-color: #7f7f7f\">               </span>\n",
       "<span style=\"color: #7fbfbf; text-decoration-color: #7fbfbf\">                    </span>           return <span style=\"color: #800080; text-decoration-color: #800080; font-weight: bold\">fit_method</span><span style=\"font-weight: bold\">(</span>estimator, *args, **kwargs<span style=\"font-weight: bold\">)</span>                        <span style=\"color: #7f7f7f; text-decoration-color: #7f7f7f\">               </span>\n",
       "<span style=\"color: #7fbfbf; text-decoration-color: #7fbfbf\">                    </span>                                                                                <span style=\"color: #7f7f7f; text-decoration-color: #7f7f7f\">               </span>\n",
       "</pre>\n"
      ],
      "text/plain": [
       "\u001b[2;36m                   \u001b[0m\u001b[2;36m \u001b[0m\u001b[31mWARNING \u001b[0m C:\\Users\\dggua\\anaconda3\\envs\\test_env\\lib\\site-packages\\sklearn\\base. \u001b]8;id=624625;file://C:\\Users\\dggua\\anaconda3\\envs\\test_env\\lib\\warnings.py\u001b\\\u001b[2mwarnings.py\u001b[0m\u001b]8;;\u001b\\\u001b[2m:\u001b[0m\u001b]8;id=562882;file://C:\\Users\\dggua\\anaconda3\\envs\\test_env\\lib\\warnings.py#109\u001b\\\u001b[2m109\u001b[0m\u001b]8;;\u001b\\\n",
       "\u001b[2;36m                    \u001b[0m         py:\u001b[1;36m1351\u001b[0m: DataConversionWarning: A column-vector y was passed when a 1d \u001b[2m               \u001b[0m\n",
       "\u001b[2;36m                    \u001b[0m         array was expected. Please change the shape of y to \u001b[1m(\u001b[0mn_samples,\u001b[1m)\u001b[0m, for  \u001b[2m               \u001b[0m\n",
       "\u001b[2;36m                    \u001b[0m         example using \u001b[1;35mravel\u001b[0m\u001b[1m(\u001b[0m\u001b[1m)\u001b[0m.                                                 \u001b[2m               \u001b[0m\n",
       "\u001b[2;36m                    \u001b[0m           return \u001b[1;35mfit_method\u001b[0m\u001b[1m(\u001b[0mestimator, *args, **kwargs\u001b[1m)\u001b[0m                        \u001b[2m               \u001b[0m\n",
       "\u001b[2;36m                    \u001b[0m                                                                                \u001b[2m               \u001b[0m\n"
      ]
     },
     "metadata": {},
     "output_type": "display_data"
    },
    {
     "data": {
      "text/html": [
       "<pre style=\"white-space:pre;overflow-x:auto;line-height:normal;font-family:Menlo,'DejaVu Sans Mono',consolas,'Courier New',monospace\"><span style=\"color: #7fbfbf; text-decoration-color: #7fbfbf\">                    </span><span style=\"color: #800000; text-decoration-color: #800000\">WARNING </span> C:\\Users\\dggua\\anaconda3\\envs\\test_env\\lib\\site-packages\\sklearn\\base. <a href=\"file://C:\\Users\\dggua\\anaconda3\\envs\\test_env\\lib\\warnings.py\" target=\"_blank\"><span style=\"color: #7f7f7f; text-decoration-color: #7f7f7f\">warnings.py</span></a><span style=\"color: #7f7f7f; text-decoration-color: #7f7f7f\">:</span><a href=\"file://C:\\Users\\dggua\\anaconda3\\envs\\test_env\\lib\\warnings.py#109\" target=\"_blank\"><span style=\"color: #7f7f7f; text-decoration-color: #7f7f7f\">109</span></a>\n",
       "<span style=\"color: #7fbfbf; text-decoration-color: #7fbfbf\">                    </span>         py:<span style=\"color: #008080; text-decoration-color: #008080; font-weight: bold\">1351</span>: DataConversionWarning: A column-vector y was passed when a 1d <span style=\"color: #7f7f7f; text-decoration-color: #7f7f7f\">               </span>\n",
       "<span style=\"color: #7fbfbf; text-decoration-color: #7fbfbf\">                    </span>         array was expected. Please change the shape of y to <span style=\"font-weight: bold\">(</span>n_samples,<span style=\"font-weight: bold\">)</span>, for  <span style=\"color: #7f7f7f; text-decoration-color: #7f7f7f\">               </span>\n",
       "<span style=\"color: #7fbfbf; text-decoration-color: #7fbfbf\">                    </span>         example using <span style=\"color: #800080; text-decoration-color: #800080; font-weight: bold\">ravel</span><span style=\"font-weight: bold\">()</span>.                                                 <span style=\"color: #7f7f7f; text-decoration-color: #7f7f7f\">               </span>\n",
       "<span style=\"color: #7fbfbf; text-decoration-color: #7fbfbf\">                    </span>           return <span style=\"color: #800080; text-decoration-color: #800080; font-weight: bold\">fit_method</span><span style=\"font-weight: bold\">(</span>estimator, *args, **kwargs<span style=\"font-weight: bold\">)</span>                        <span style=\"color: #7f7f7f; text-decoration-color: #7f7f7f\">               </span>\n",
       "<span style=\"color: #7fbfbf; text-decoration-color: #7fbfbf\">                    </span>                                                                                <span style=\"color: #7f7f7f; text-decoration-color: #7f7f7f\">               </span>\n",
       "</pre>\n"
      ],
      "text/plain": [
       "\u001b[2;36m                   \u001b[0m\u001b[2;36m \u001b[0m\u001b[31mWARNING \u001b[0m C:\\Users\\dggua\\anaconda3\\envs\\test_env\\lib\\site-packages\\sklearn\\base. \u001b]8;id=461178;file://C:\\Users\\dggua\\anaconda3\\envs\\test_env\\lib\\warnings.py\u001b\\\u001b[2mwarnings.py\u001b[0m\u001b]8;;\u001b\\\u001b[2m:\u001b[0m\u001b]8;id=691908;file://C:\\Users\\dggua\\anaconda3\\envs\\test_env\\lib\\warnings.py#109\u001b\\\u001b[2m109\u001b[0m\u001b]8;;\u001b\\\n",
       "\u001b[2;36m                    \u001b[0m         py:\u001b[1;36m1351\u001b[0m: DataConversionWarning: A column-vector y was passed when a 1d \u001b[2m               \u001b[0m\n",
       "\u001b[2;36m                    \u001b[0m         array was expected. Please change the shape of y to \u001b[1m(\u001b[0mn_samples,\u001b[1m)\u001b[0m, for  \u001b[2m               \u001b[0m\n",
       "\u001b[2;36m                    \u001b[0m         example using \u001b[1;35mravel\u001b[0m\u001b[1m(\u001b[0m\u001b[1m)\u001b[0m.                                                 \u001b[2m               \u001b[0m\n",
       "\u001b[2;36m                    \u001b[0m           return \u001b[1;35mfit_method\u001b[0m\u001b[1m(\u001b[0mestimator, *args, **kwargs\u001b[1m)\u001b[0m                        \u001b[2m               \u001b[0m\n",
       "\u001b[2;36m                    \u001b[0m                                                                                \u001b[2m               \u001b[0m\n"
      ]
     },
     "metadata": {},
     "output_type": "display_data"
    },
    {
     "data": {
      "text/html": [
       "<pre style=\"white-space:pre;overflow-x:auto;line-height:normal;font-family:Menlo,'DejaVu Sans Mono',consolas,'Courier New',monospace\"><span style=\"color: #7fbfbf; text-decoration-color: #7fbfbf\">                    </span><span style=\"color: #800000; text-decoration-color: #800000\">WARNING </span> C:\\Users\\dggua\\anaconda3\\envs\\test_env\\lib\\site-packages\\sklearn\\base. <a href=\"file://C:\\Users\\dggua\\anaconda3\\envs\\test_env\\lib\\warnings.py\" target=\"_blank\"><span style=\"color: #7f7f7f; text-decoration-color: #7f7f7f\">warnings.py</span></a><span style=\"color: #7f7f7f; text-decoration-color: #7f7f7f\">:</span><a href=\"file://C:\\Users\\dggua\\anaconda3\\envs\\test_env\\lib\\warnings.py#109\" target=\"_blank\"><span style=\"color: #7f7f7f; text-decoration-color: #7f7f7f\">109</span></a>\n",
       "<span style=\"color: #7fbfbf; text-decoration-color: #7fbfbf\">                    </span>         py:<span style=\"color: #008080; text-decoration-color: #008080; font-weight: bold\">1351</span>: DataConversionWarning: A column-vector y was passed when a 1d <span style=\"color: #7f7f7f; text-decoration-color: #7f7f7f\">               </span>\n",
       "<span style=\"color: #7fbfbf; text-decoration-color: #7fbfbf\">                    </span>         array was expected. Please change the shape of y to <span style=\"font-weight: bold\">(</span>n_samples,<span style=\"font-weight: bold\">)</span>, for  <span style=\"color: #7f7f7f; text-decoration-color: #7f7f7f\">               </span>\n",
       "<span style=\"color: #7fbfbf; text-decoration-color: #7fbfbf\">                    </span>         example using <span style=\"color: #800080; text-decoration-color: #800080; font-weight: bold\">ravel</span><span style=\"font-weight: bold\">()</span>.                                                 <span style=\"color: #7f7f7f; text-decoration-color: #7f7f7f\">               </span>\n",
       "<span style=\"color: #7fbfbf; text-decoration-color: #7fbfbf\">                    </span>           return <span style=\"color: #800080; text-decoration-color: #800080; font-weight: bold\">fit_method</span><span style=\"font-weight: bold\">(</span>estimator, *args, **kwargs<span style=\"font-weight: bold\">)</span>                        <span style=\"color: #7f7f7f; text-decoration-color: #7f7f7f\">               </span>\n",
       "<span style=\"color: #7fbfbf; text-decoration-color: #7fbfbf\">                    </span>                                                                                <span style=\"color: #7f7f7f; text-decoration-color: #7f7f7f\">               </span>\n",
       "</pre>\n"
      ],
      "text/plain": [
       "\u001b[2;36m                   \u001b[0m\u001b[2;36m \u001b[0m\u001b[31mWARNING \u001b[0m C:\\Users\\dggua\\anaconda3\\envs\\test_env\\lib\\site-packages\\sklearn\\base. \u001b]8;id=434928;file://C:\\Users\\dggua\\anaconda3\\envs\\test_env\\lib\\warnings.py\u001b\\\u001b[2mwarnings.py\u001b[0m\u001b]8;;\u001b\\\u001b[2m:\u001b[0m\u001b]8;id=4983;file://C:\\Users\\dggua\\anaconda3\\envs\\test_env\\lib\\warnings.py#109\u001b\\\u001b[2m109\u001b[0m\u001b]8;;\u001b\\\n",
       "\u001b[2;36m                    \u001b[0m         py:\u001b[1;36m1351\u001b[0m: DataConversionWarning: A column-vector y was passed when a 1d \u001b[2m               \u001b[0m\n",
       "\u001b[2;36m                    \u001b[0m         array was expected. Please change the shape of y to \u001b[1m(\u001b[0mn_samples,\u001b[1m)\u001b[0m, for  \u001b[2m               \u001b[0m\n",
       "\u001b[2;36m                    \u001b[0m         example using \u001b[1;35mravel\u001b[0m\u001b[1m(\u001b[0m\u001b[1m)\u001b[0m.                                                 \u001b[2m               \u001b[0m\n",
       "\u001b[2;36m                    \u001b[0m           return \u001b[1;35mfit_method\u001b[0m\u001b[1m(\u001b[0mestimator, *args, **kwargs\u001b[1m)\u001b[0m                        \u001b[2m               \u001b[0m\n",
       "\u001b[2;36m                    \u001b[0m                                                                                \u001b[2m               \u001b[0m\n"
      ]
     },
     "metadata": {},
     "output_type": "display_data"
    },
    {
     "data": {
      "text/html": [
       "<pre style=\"white-space:pre;overflow-x:auto;line-height:normal;font-family:Menlo,'DejaVu Sans Mono',consolas,'Courier New',monospace\"><span style=\"color: #7fbfbf; text-decoration-color: #7fbfbf\">                    </span><span style=\"color: #800000; text-decoration-color: #800000\">WARNING </span> C:\\Users\\dggua\\anaconda3\\envs\\test_env\\lib\\site-packages\\sklearn\\base. <a href=\"file://C:\\Users\\dggua\\anaconda3\\envs\\test_env\\lib\\warnings.py\" target=\"_blank\"><span style=\"color: #7f7f7f; text-decoration-color: #7f7f7f\">warnings.py</span></a><span style=\"color: #7f7f7f; text-decoration-color: #7f7f7f\">:</span><a href=\"file://C:\\Users\\dggua\\anaconda3\\envs\\test_env\\lib\\warnings.py#109\" target=\"_blank\"><span style=\"color: #7f7f7f; text-decoration-color: #7f7f7f\">109</span></a>\n",
       "<span style=\"color: #7fbfbf; text-decoration-color: #7fbfbf\">                    </span>         py:<span style=\"color: #008080; text-decoration-color: #008080; font-weight: bold\">1351</span>: DataConversionWarning: A column-vector y was passed when a 1d <span style=\"color: #7f7f7f; text-decoration-color: #7f7f7f\">               </span>\n",
       "<span style=\"color: #7fbfbf; text-decoration-color: #7fbfbf\">                    </span>         array was expected. Please change the shape of y to <span style=\"font-weight: bold\">(</span>n_samples,<span style=\"font-weight: bold\">)</span>, for  <span style=\"color: #7f7f7f; text-decoration-color: #7f7f7f\">               </span>\n",
       "<span style=\"color: #7fbfbf; text-decoration-color: #7fbfbf\">                    </span>         example using <span style=\"color: #800080; text-decoration-color: #800080; font-weight: bold\">ravel</span><span style=\"font-weight: bold\">()</span>.                                                 <span style=\"color: #7f7f7f; text-decoration-color: #7f7f7f\">               </span>\n",
       "<span style=\"color: #7fbfbf; text-decoration-color: #7fbfbf\">                    </span>           return <span style=\"color: #800080; text-decoration-color: #800080; font-weight: bold\">fit_method</span><span style=\"font-weight: bold\">(</span>estimator, *args, **kwargs<span style=\"font-weight: bold\">)</span>                        <span style=\"color: #7f7f7f; text-decoration-color: #7f7f7f\">               </span>\n",
       "<span style=\"color: #7fbfbf; text-decoration-color: #7fbfbf\">                    </span>                                                                                <span style=\"color: #7f7f7f; text-decoration-color: #7f7f7f\">               </span>\n",
       "</pre>\n"
      ],
      "text/plain": [
       "\u001b[2;36m                   \u001b[0m\u001b[2;36m \u001b[0m\u001b[31mWARNING \u001b[0m C:\\Users\\dggua\\anaconda3\\envs\\test_env\\lib\\site-packages\\sklearn\\base. \u001b]8;id=13259;file://C:\\Users\\dggua\\anaconda3\\envs\\test_env\\lib\\warnings.py\u001b\\\u001b[2mwarnings.py\u001b[0m\u001b]8;;\u001b\\\u001b[2m:\u001b[0m\u001b]8;id=593129;file://C:\\Users\\dggua\\anaconda3\\envs\\test_env\\lib\\warnings.py#109\u001b\\\u001b[2m109\u001b[0m\u001b]8;;\u001b\\\n",
       "\u001b[2;36m                    \u001b[0m         py:\u001b[1;36m1351\u001b[0m: DataConversionWarning: A column-vector y was passed when a 1d \u001b[2m               \u001b[0m\n",
       "\u001b[2;36m                    \u001b[0m         array was expected. Please change the shape of y to \u001b[1m(\u001b[0mn_samples,\u001b[1m)\u001b[0m, for  \u001b[2m               \u001b[0m\n",
       "\u001b[2;36m                    \u001b[0m         example using \u001b[1;35mravel\u001b[0m\u001b[1m(\u001b[0m\u001b[1m)\u001b[0m.                                                 \u001b[2m               \u001b[0m\n",
       "\u001b[2;36m                    \u001b[0m           return \u001b[1;35mfit_method\u001b[0m\u001b[1m(\u001b[0mestimator, *args, **kwargs\u001b[1m)\u001b[0m                        \u001b[2m               \u001b[0m\n",
       "\u001b[2;36m                    \u001b[0m                                                                                \u001b[2m               \u001b[0m\n"
      ]
     },
     "metadata": {},
     "output_type": "display_data"
    },
    {
     "data": {
      "text/html": [
       "<pre style=\"white-space:pre;overflow-x:auto;line-height:normal;font-family:Menlo,'DejaVu Sans Mono',consolas,'Courier New',monospace\"><span style=\"color: #7fbfbf; text-decoration-color: #7fbfbf\">                    </span><span style=\"color: #800000; text-decoration-color: #800000\">WARNING </span> C:\\Users\\dggua\\anaconda3\\envs\\test_env\\lib\\site-packages\\sklearn\\base. <a href=\"file://C:\\Users\\dggua\\anaconda3\\envs\\test_env\\lib\\warnings.py\" target=\"_blank\"><span style=\"color: #7f7f7f; text-decoration-color: #7f7f7f\">warnings.py</span></a><span style=\"color: #7f7f7f; text-decoration-color: #7f7f7f\">:</span><a href=\"file://C:\\Users\\dggua\\anaconda3\\envs\\test_env\\lib\\warnings.py#109\" target=\"_blank\"><span style=\"color: #7f7f7f; text-decoration-color: #7f7f7f\">109</span></a>\n",
       "<span style=\"color: #7fbfbf; text-decoration-color: #7fbfbf\">                    </span>         py:<span style=\"color: #008080; text-decoration-color: #008080; font-weight: bold\">1351</span>: DataConversionWarning: A column-vector y was passed when a 1d <span style=\"color: #7f7f7f; text-decoration-color: #7f7f7f\">               </span>\n",
       "<span style=\"color: #7fbfbf; text-decoration-color: #7fbfbf\">                    </span>         array was expected. Please change the shape of y to <span style=\"font-weight: bold\">(</span>n_samples,<span style=\"font-weight: bold\">)</span>, for  <span style=\"color: #7f7f7f; text-decoration-color: #7f7f7f\">               </span>\n",
       "<span style=\"color: #7fbfbf; text-decoration-color: #7fbfbf\">                    </span>         example using <span style=\"color: #800080; text-decoration-color: #800080; font-weight: bold\">ravel</span><span style=\"font-weight: bold\">()</span>.                                                 <span style=\"color: #7f7f7f; text-decoration-color: #7f7f7f\">               </span>\n",
       "<span style=\"color: #7fbfbf; text-decoration-color: #7fbfbf\">                    </span>           return <span style=\"color: #800080; text-decoration-color: #800080; font-weight: bold\">fit_method</span><span style=\"font-weight: bold\">(</span>estimator, *args, **kwargs<span style=\"font-weight: bold\">)</span>                        <span style=\"color: #7f7f7f; text-decoration-color: #7f7f7f\">               </span>\n",
       "<span style=\"color: #7fbfbf; text-decoration-color: #7fbfbf\">                    </span>                                                                                <span style=\"color: #7f7f7f; text-decoration-color: #7f7f7f\">               </span>\n",
       "</pre>\n"
      ],
      "text/plain": [
       "\u001b[2;36m                   \u001b[0m\u001b[2;36m \u001b[0m\u001b[31mWARNING \u001b[0m C:\\Users\\dggua\\anaconda3\\envs\\test_env\\lib\\site-packages\\sklearn\\base. \u001b]8;id=35132;file://C:\\Users\\dggua\\anaconda3\\envs\\test_env\\lib\\warnings.py\u001b\\\u001b[2mwarnings.py\u001b[0m\u001b]8;;\u001b\\\u001b[2m:\u001b[0m\u001b]8;id=879488;file://C:\\Users\\dggua\\anaconda3\\envs\\test_env\\lib\\warnings.py#109\u001b\\\u001b[2m109\u001b[0m\u001b]8;;\u001b\\\n",
       "\u001b[2;36m                    \u001b[0m         py:\u001b[1;36m1351\u001b[0m: DataConversionWarning: A column-vector y was passed when a 1d \u001b[2m               \u001b[0m\n",
       "\u001b[2;36m                    \u001b[0m         array was expected. Please change the shape of y to \u001b[1m(\u001b[0mn_samples,\u001b[1m)\u001b[0m, for  \u001b[2m               \u001b[0m\n",
       "\u001b[2;36m                    \u001b[0m         example using \u001b[1;35mravel\u001b[0m\u001b[1m(\u001b[0m\u001b[1m)\u001b[0m.                                                 \u001b[2m               \u001b[0m\n",
       "\u001b[2;36m                    \u001b[0m           return \u001b[1;35mfit_method\u001b[0m\u001b[1m(\u001b[0mestimator, *args, **kwargs\u001b[1m)\u001b[0m                        \u001b[2m               \u001b[0m\n",
       "\u001b[2;36m                    \u001b[0m                                                                                \u001b[2m               \u001b[0m\n"
      ]
     },
     "metadata": {},
     "output_type": "display_data"
    },
    {
     "data": {
      "text/html": [
       "<pre style=\"white-space:pre;overflow-x:auto;line-height:normal;font-family:Menlo,'DejaVu Sans Mono',consolas,'Courier New',monospace\"><span style=\"color: #7fbfbf; text-decoration-color: #7fbfbf\">                    </span><span style=\"color: #800000; text-decoration-color: #800000\">WARNING </span> C:\\Users\\dggua\\anaconda3\\envs\\test_env\\lib\\site-packages\\sklearn\\base. <a href=\"file://C:\\Users\\dggua\\anaconda3\\envs\\test_env\\lib\\warnings.py\" target=\"_blank\"><span style=\"color: #7f7f7f; text-decoration-color: #7f7f7f\">warnings.py</span></a><span style=\"color: #7f7f7f; text-decoration-color: #7f7f7f\">:</span><a href=\"file://C:\\Users\\dggua\\anaconda3\\envs\\test_env\\lib\\warnings.py#109\" target=\"_blank\"><span style=\"color: #7f7f7f; text-decoration-color: #7f7f7f\">109</span></a>\n",
       "<span style=\"color: #7fbfbf; text-decoration-color: #7fbfbf\">                    </span>         py:<span style=\"color: #008080; text-decoration-color: #008080; font-weight: bold\">1351</span>: DataConversionWarning: A column-vector y was passed when a 1d <span style=\"color: #7f7f7f; text-decoration-color: #7f7f7f\">               </span>\n",
       "<span style=\"color: #7fbfbf; text-decoration-color: #7fbfbf\">                    </span>         array was expected. Please change the shape of y to <span style=\"font-weight: bold\">(</span>n_samples,<span style=\"font-weight: bold\">)</span>, for  <span style=\"color: #7f7f7f; text-decoration-color: #7f7f7f\">               </span>\n",
       "<span style=\"color: #7fbfbf; text-decoration-color: #7fbfbf\">                    </span>         example using <span style=\"color: #800080; text-decoration-color: #800080; font-weight: bold\">ravel</span><span style=\"font-weight: bold\">()</span>.                                                 <span style=\"color: #7f7f7f; text-decoration-color: #7f7f7f\">               </span>\n",
       "<span style=\"color: #7fbfbf; text-decoration-color: #7fbfbf\">                    </span>           return <span style=\"color: #800080; text-decoration-color: #800080; font-weight: bold\">fit_method</span><span style=\"font-weight: bold\">(</span>estimator, *args, **kwargs<span style=\"font-weight: bold\">)</span>                        <span style=\"color: #7f7f7f; text-decoration-color: #7f7f7f\">               </span>\n",
       "<span style=\"color: #7fbfbf; text-decoration-color: #7fbfbf\">                    </span>                                                                                <span style=\"color: #7f7f7f; text-decoration-color: #7f7f7f\">               </span>\n",
       "</pre>\n"
      ],
      "text/plain": [
       "\u001b[2;36m                   \u001b[0m\u001b[2;36m \u001b[0m\u001b[31mWARNING \u001b[0m C:\\Users\\dggua\\anaconda3\\envs\\test_env\\lib\\site-packages\\sklearn\\base. \u001b]8;id=624255;file://C:\\Users\\dggua\\anaconda3\\envs\\test_env\\lib\\warnings.py\u001b\\\u001b[2mwarnings.py\u001b[0m\u001b]8;;\u001b\\\u001b[2m:\u001b[0m\u001b]8;id=249065;file://C:\\Users\\dggua\\anaconda3\\envs\\test_env\\lib\\warnings.py#109\u001b\\\u001b[2m109\u001b[0m\u001b]8;;\u001b\\\n",
       "\u001b[2;36m                    \u001b[0m         py:\u001b[1;36m1351\u001b[0m: DataConversionWarning: A column-vector y was passed when a 1d \u001b[2m               \u001b[0m\n",
       "\u001b[2;36m                    \u001b[0m         array was expected. Please change the shape of y to \u001b[1m(\u001b[0mn_samples,\u001b[1m)\u001b[0m, for  \u001b[2m               \u001b[0m\n",
       "\u001b[2;36m                    \u001b[0m         example using \u001b[1;35mravel\u001b[0m\u001b[1m(\u001b[0m\u001b[1m)\u001b[0m.                                                 \u001b[2m               \u001b[0m\n",
       "\u001b[2;36m                    \u001b[0m           return \u001b[1;35mfit_method\u001b[0m\u001b[1m(\u001b[0mestimator, *args, **kwargs\u001b[1m)\u001b[0m                        \u001b[2m               \u001b[0m\n",
       "\u001b[2;36m                    \u001b[0m                                                                                \u001b[2m               \u001b[0m\n"
      ]
     },
     "metadata": {},
     "output_type": "display_data"
    },
    {
     "data": {
      "text/html": [
       "<pre style=\"white-space:pre;overflow-x:auto;line-height:normal;font-family:Menlo,'DejaVu Sans Mono',consolas,'Courier New',monospace\"><span style=\"color: #7fbfbf; text-decoration-color: #7fbfbf\">[06/22/24 16:18:02] </span><span style=\"color: #800000; text-decoration-color: #800000\">WARNING </span> C:\\Users\\dggua\\anaconda3\\envs\\test_env\\lib\\site-packages\\sklearn\\base. <a href=\"file://C:\\Users\\dggua\\anaconda3\\envs\\test_env\\lib\\warnings.py\" target=\"_blank\"><span style=\"color: #7f7f7f; text-decoration-color: #7f7f7f\">warnings.py</span></a><span style=\"color: #7f7f7f; text-decoration-color: #7f7f7f\">:</span><a href=\"file://C:\\Users\\dggua\\anaconda3\\envs\\test_env\\lib\\warnings.py#109\" target=\"_blank\"><span style=\"color: #7f7f7f; text-decoration-color: #7f7f7f\">109</span></a>\n",
       "<span style=\"color: #7fbfbf; text-decoration-color: #7fbfbf\">                    </span>         py:<span style=\"color: #008080; text-decoration-color: #008080; font-weight: bold\">1351</span>: DataConversionWarning: A column-vector y was passed when a 1d <span style=\"color: #7f7f7f; text-decoration-color: #7f7f7f\">               </span>\n",
       "<span style=\"color: #7fbfbf; text-decoration-color: #7fbfbf\">                    </span>         array was expected. Please change the shape of y to <span style=\"font-weight: bold\">(</span>n_samples,<span style=\"font-weight: bold\">)</span>, for  <span style=\"color: #7f7f7f; text-decoration-color: #7f7f7f\">               </span>\n",
       "<span style=\"color: #7fbfbf; text-decoration-color: #7fbfbf\">                    </span>         example using <span style=\"color: #800080; text-decoration-color: #800080; font-weight: bold\">ravel</span><span style=\"font-weight: bold\">()</span>.                                                 <span style=\"color: #7f7f7f; text-decoration-color: #7f7f7f\">               </span>\n",
       "<span style=\"color: #7fbfbf; text-decoration-color: #7fbfbf\">                    </span>           return <span style=\"color: #800080; text-decoration-color: #800080; font-weight: bold\">fit_method</span><span style=\"font-weight: bold\">(</span>estimator, *args, **kwargs<span style=\"font-weight: bold\">)</span>                        <span style=\"color: #7f7f7f; text-decoration-color: #7f7f7f\">               </span>\n",
       "<span style=\"color: #7fbfbf; text-decoration-color: #7fbfbf\">                    </span>                                                                                <span style=\"color: #7f7f7f; text-decoration-color: #7f7f7f\">               </span>\n",
       "</pre>\n"
      ],
      "text/plain": [
       "\u001b[2;36m[06/22/24 16:18:02]\u001b[0m\u001b[2;36m \u001b[0m\u001b[31mWARNING \u001b[0m C:\\Users\\dggua\\anaconda3\\envs\\test_env\\lib\\site-packages\\sklearn\\base. \u001b]8;id=778156;file://C:\\Users\\dggua\\anaconda3\\envs\\test_env\\lib\\warnings.py\u001b\\\u001b[2mwarnings.py\u001b[0m\u001b]8;;\u001b\\\u001b[2m:\u001b[0m\u001b]8;id=93818;file://C:\\Users\\dggua\\anaconda3\\envs\\test_env\\lib\\warnings.py#109\u001b\\\u001b[2m109\u001b[0m\u001b]8;;\u001b\\\n",
       "\u001b[2;36m                    \u001b[0m         py:\u001b[1;36m1351\u001b[0m: DataConversionWarning: A column-vector y was passed when a 1d \u001b[2m               \u001b[0m\n",
       "\u001b[2;36m                    \u001b[0m         array was expected. Please change the shape of y to \u001b[1m(\u001b[0mn_samples,\u001b[1m)\u001b[0m, for  \u001b[2m               \u001b[0m\n",
       "\u001b[2;36m                    \u001b[0m         example using \u001b[1;35mravel\u001b[0m\u001b[1m(\u001b[0m\u001b[1m)\u001b[0m.                                                 \u001b[2m               \u001b[0m\n",
       "\u001b[2;36m                    \u001b[0m           return \u001b[1;35mfit_method\u001b[0m\u001b[1m(\u001b[0mestimator, *args, **kwargs\u001b[1m)\u001b[0m                        \u001b[2m               \u001b[0m\n",
       "\u001b[2;36m                    \u001b[0m                                                                                \u001b[2m               \u001b[0m\n"
      ]
     },
     "metadata": {},
     "output_type": "display_data"
    },
    {
     "data": {
      "text/html": [
       "<pre style=\"white-space:pre;overflow-x:auto;line-height:normal;font-family:Menlo,'DejaVu Sans Mono',consolas,'Courier New',monospace\"><span style=\"color: #7fbfbf; text-decoration-color: #7fbfbf\">                    </span><span style=\"color: #800000; text-decoration-color: #800000\">WARNING </span> C:\\Users\\dggua\\anaconda3\\envs\\test_env\\lib\\site-packages\\sklearn\\base. <a href=\"file://C:\\Users\\dggua\\anaconda3\\envs\\test_env\\lib\\warnings.py\" target=\"_blank\"><span style=\"color: #7f7f7f; text-decoration-color: #7f7f7f\">warnings.py</span></a><span style=\"color: #7f7f7f; text-decoration-color: #7f7f7f\">:</span><a href=\"file://C:\\Users\\dggua\\anaconda3\\envs\\test_env\\lib\\warnings.py#109\" target=\"_blank\"><span style=\"color: #7f7f7f; text-decoration-color: #7f7f7f\">109</span></a>\n",
       "<span style=\"color: #7fbfbf; text-decoration-color: #7fbfbf\">                    </span>         py:<span style=\"color: #008080; text-decoration-color: #008080; font-weight: bold\">1351</span>: DataConversionWarning: A column-vector y was passed when a 1d <span style=\"color: #7f7f7f; text-decoration-color: #7f7f7f\">               </span>\n",
       "<span style=\"color: #7fbfbf; text-decoration-color: #7fbfbf\">                    </span>         array was expected. Please change the shape of y to <span style=\"font-weight: bold\">(</span>n_samples,<span style=\"font-weight: bold\">)</span>, for  <span style=\"color: #7f7f7f; text-decoration-color: #7f7f7f\">               </span>\n",
       "<span style=\"color: #7fbfbf; text-decoration-color: #7fbfbf\">                    </span>         example using <span style=\"color: #800080; text-decoration-color: #800080; font-weight: bold\">ravel</span><span style=\"font-weight: bold\">()</span>.                                                 <span style=\"color: #7f7f7f; text-decoration-color: #7f7f7f\">               </span>\n",
       "<span style=\"color: #7fbfbf; text-decoration-color: #7fbfbf\">                    </span>           return <span style=\"color: #800080; text-decoration-color: #800080; font-weight: bold\">fit_method</span><span style=\"font-weight: bold\">(</span>estimator, *args, **kwargs<span style=\"font-weight: bold\">)</span>                        <span style=\"color: #7f7f7f; text-decoration-color: #7f7f7f\">               </span>\n",
       "<span style=\"color: #7fbfbf; text-decoration-color: #7fbfbf\">                    </span>                                                                                <span style=\"color: #7f7f7f; text-decoration-color: #7f7f7f\">               </span>\n",
       "</pre>\n"
      ],
      "text/plain": [
       "\u001b[2;36m                   \u001b[0m\u001b[2;36m \u001b[0m\u001b[31mWARNING \u001b[0m C:\\Users\\dggua\\anaconda3\\envs\\test_env\\lib\\site-packages\\sklearn\\base. \u001b]8;id=378526;file://C:\\Users\\dggua\\anaconda3\\envs\\test_env\\lib\\warnings.py\u001b\\\u001b[2mwarnings.py\u001b[0m\u001b]8;;\u001b\\\u001b[2m:\u001b[0m\u001b]8;id=923689;file://C:\\Users\\dggua\\anaconda3\\envs\\test_env\\lib\\warnings.py#109\u001b\\\u001b[2m109\u001b[0m\u001b]8;;\u001b\\\n",
       "\u001b[2;36m                    \u001b[0m         py:\u001b[1;36m1351\u001b[0m: DataConversionWarning: A column-vector y was passed when a 1d \u001b[2m               \u001b[0m\n",
       "\u001b[2;36m                    \u001b[0m         array was expected. Please change the shape of y to \u001b[1m(\u001b[0mn_samples,\u001b[1m)\u001b[0m, for  \u001b[2m               \u001b[0m\n",
       "\u001b[2;36m                    \u001b[0m         example using \u001b[1;35mravel\u001b[0m\u001b[1m(\u001b[0m\u001b[1m)\u001b[0m.                                                 \u001b[2m               \u001b[0m\n",
       "\u001b[2;36m                    \u001b[0m           return \u001b[1;35mfit_method\u001b[0m\u001b[1m(\u001b[0mestimator, *args, **kwargs\u001b[1m)\u001b[0m                        \u001b[2m               \u001b[0m\n",
       "\u001b[2;36m                    \u001b[0m                                                                                \u001b[2m               \u001b[0m\n"
      ]
     },
     "metadata": {},
     "output_type": "display_data"
    },
    {
     "data": {
      "text/html": [
       "<pre style=\"white-space:pre;overflow-x:auto;line-height:normal;font-family:Menlo,'DejaVu Sans Mono',consolas,'Courier New',monospace\"><span style=\"color: #7fbfbf; text-decoration-color: #7fbfbf\">                    </span><span style=\"color: #800000; text-decoration-color: #800000\">WARNING </span> C:\\Users\\dggua\\anaconda3\\envs\\test_env\\lib\\site-packages\\sklearn\\base. <a href=\"file://C:\\Users\\dggua\\anaconda3\\envs\\test_env\\lib\\warnings.py\" target=\"_blank\"><span style=\"color: #7f7f7f; text-decoration-color: #7f7f7f\">warnings.py</span></a><span style=\"color: #7f7f7f; text-decoration-color: #7f7f7f\">:</span><a href=\"file://C:\\Users\\dggua\\anaconda3\\envs\\test_env\\lib\\warnings.py#109\" target=\"_blank\"><span style=\"color: #7f7f7f; text-decoration-color: #7f7f7f\">109</span></a>\n",
       "<span style=\"color: #7fbfbf; text-decoration-color: #7fbfbf\">                    </span>         py:<span style=\"color: #008080; text-decoration-color: #008080; font-weight: bold\">1351</span>: DataConversionWarning: A column-vector y was passed when a 1d <span style=\"color: #7f7f7f; text-decoration-color: #7f7f7f\">               </span>\n",
       "<span style=\"color: #7fbfbf; text-decoration-color: #7fbfbf\">                    </span>         array was expected. Please change the shape of y to <span style=\"font-weight: bold\">(</span>n_samples,<span style=\"font-weight: bold\">)</span>, for  <span style=\"color: #7f7f7f; text-decoration-color: #7f7f7f\">               </span>\n",
       "<span style=\"color: #7fbfbf; text-decoration-color: #7fbfbf\">                    </span>         example using <span style=\"color: #800080; text-decoration-color: #800080; font-weight: bold\">ravel</span><span style=\"font-weight: bold\">()</span>.                                                 <span style=\"color: #7f7f7f; text-decoration-color: #7f7f7f\">               </span>\n",
       "<span style=\"color: #7fbfbf; text-decoration-color: #7fbfbf\">                    </span>           return <span style=\"color: #800080; text-decoration-color: #800080; font-weight: bold\">fit_method</span><span style=\"font-weight: bold\">(</span>estimator, *args, **kwargs<span style=\"font-weight: bold\">)</span>                        <span style=\"color: #7f7f7f; text-decoration-color: #7f7f7f\">               </span>\n",
       "<span style=\"color: #7fbfbf; text-decoration-color: #7fbfbf\">                    </span>                                                                                <span style=\"color: #7f7f7f; text-decoration-color: #7f7f7f\">               </span>\n",
       "</pre>\n"
      ],
      "text/plain": [
       "\u001b[2;36m                   \u001b[0m\u001b[2;36m \u001b[0m\u001b[31mWARNING \u001b[0m C:\\Users\\dggua\\anaconda3\\envs\\test_env\\lib\\site-packages\\sklearn\\base. \u001b]8;id=864467;file://C:\\Users\\dggua\\anaconda3\\envs\\test_env\\lib\\warnings.py\u001b\\\u001b[2mwarnings.py\u001b[0m\u001b]8;;\u001b\\\u001b[2m:\u001b[0m\u001b]8;id=417587;file://C:\\Users\\dggua\\anaconda3\\envs\\test_env\\lib\\warnings.py#109\u001b\\\u001b[2m109\u001b[0m\u001b]8;;\u001b\\\n",
       "\u001b[2;36m                    \u001b[0m         py:\u001b[1;36m1351\u001b[0m: DataConversionWarning: A column-vector y was passed when a 1d \u001b[2m               \u001b[0m\n",
       "\u001b[2;36m                    \u001b[0m         array was expected. Please change the shape of y to \u001b[1m(\u001b[0mn_samples,\u001b[1m)\u001b[0m, for  \u001b[2m               \u001b[0m\n",
       "\u001b[2;36m                    \u001b[0m         example using \u001b[1;35mravel\u001b[0m\u001b[1m(\u001b[0m\u001b[1m)\u001b[0m.                                                 \u001b[2m               \u001b[0m\n",
       "\u001b[2;36m                    \u001b[0m           return \u001b[1;35mfit_method\u001b[0m\u001b[1m(\u001b[0mestimator, *args, **kwargs\u001b[1m)\u001b[0m                        \u001b[2m               \u001b[0m\n",
       "\u001b[2;36m                    \u001b[0m                                                                                \u001b[2m               \u001b[0m\n"
      ]
     },
     "metadata": {},
     "output_type": "display_data"
    },
    {
     "data": {
      "text/html": [
       "<pre style=\"white-space:pre;overflow-x:auto;line-height:normal;font-family:Menlo,'DejaVu Sans Mono',consolas,'Courier New',monospace\"><span style=\"color: #7fbfbf; text-decoration-color: #7fbfbf\">                    </span><span style=\"color: #800000; text-decoration-color: #800000\">WARNING </span> C:\\Users\\dggua\\anaconda3\\envs\\test_env\\lib\\site-packages\\sklearn\\base. <a href=\"file://C:\\Users\\dggua\\anaconda3\\envs\\test_env\\lib\\warnings.py\" target=\"_blank\"><span style=\"color: #7f7f7f; text-decoration-color: #7f7f7f\">warnings.py</span></a><span style=\"color: #7f7f7f; text-decoration-color: #7f7f7f\">:</span><a href=\"file://C:\\Users\\dggua\\anaconda3\\envs\\test_env\\lib\\warnings.py#109\" target=\"_blank\"><span style=\"color: #7f7f7f; text-decoration-color: #7f7f7f\">109</span></a>\n",
       "<span style=\"color: #7fbfbf; text-decoration-color: #7fbfbf\">                    </span>         py:<span style=\"color: #008080; text-decoration-color: #008080; font-weight: bold\">1351</span>: DataConversionWarning: A column-vector y was passed when a 1d <span style=\"color: #7f7f7f; text-decoration-color: #7f7f7f\">               </span>\n",
       "<span style=\"color: #7fbfbf; text-decoration-color: #7fbfbf\">                    </span>         array was expected. Please change the shape of y to <span style=\"font-weight: bold\">(</span>n_samples,<span style=\"font-weight: bold\">)</span>, for  <span style=\"color: #7f7f7f; text-decoration-color: #7f7f7f\">               </span>\n",
       "<span style=\"color: #7fbfbf; text-decoration-color: #7fbfbf\">                    </span>         example using <span style=\"color: #800080; text-decoration-color: #800080; font-weight: bold\">ravel</span><span style=\"font-weight: bold\">()</span>.                                                 <span style=\"color: #7f7f7f; text-decoration-color: #7f7f7f\">               </span>\n",
       "<span style=\"color: #7fbfbf; text-decoration-color: #7fbfbf\">                    </span>           return <span style=\"color: #800080; text-decoration-color: #800080; font-weight: bold\">fit_method</span><span style=\"font-weight: bold\">(</span>estimator, *args, **kwargs<span style=\"font-weight: bold\">)</span>                        <span style=\"color: #7f7f7f; text-decoration-color: #7f7f7f\">               </span>\n",
       "<span style=\"color: #7fbfbf; text-decoration-color: #7fbfbf\">                    </span>                                                                                <span style=\"color: #7f7f7f; text-decoration-color: #7f7f7f\">               </span>\n",
       "</pre>\n"
      ],
      "text/plain": [
       "\u001b[2;36m                   \u001b[0m\u001b[2;36m \u001b[0m\u001b[31mWARNING \u001b[0m C:\\Users\\dggua\\anaconda3\\envs\\test_env\\lib\\site-packages\\sklearn\\base. \u001b]8;id=168881;file://C:\\Users\\dggua\\anaconda3\\envs\\test_env\\lib\\warnings.py\u001b\\\u001b[2mwarnings.py\u001b[0m\u001b]8;;\u001b\\\u001b[2m:\u001b[0m\u001b]8;id=280536;file://C:\\Users\\dggua\\anaconda3\\envs\\test_env\\lib\\warnings.py#109\u001b\\\u001b[2m109\u001b[0m\u001b]8;;\u001b\\\n",
       "\u001b[2;36m                    \u001b[0m         py:\u001b[1;36m1351\u001b[0m: DataConversionWarning: A column-vector y was passed when a 1d \u001b[2m               \u001b[0m\n",
       "\u001b[2;36m                    \u001b[0m         array was expected. Please change the shape of y to \u001b[1m(\u001b[0mn_samples,\u001b[1m)\u001b[0m, for  \u001b[2m               \u001b[0m\n",
       "\u001b[2;36m                    \u001b[0m         example using \u001b[1;35mravel\u001b[0m\u001b[1m(\u001b[0m\u001b[1m)\u001b[0m.                                                 \u001b[2m               \u001b[0m\n",
       "\u001b[2;36m                    \u001b[0m           return \u001b[1;35mfit_method\u001b[0m\u001b[1m(\u001b[0mestimator, *args, **kwargs\u001b[1m)\u001b[0m                        \u001b[2m               \u001b[0m\n",
       "\u001b[2;36m                    \u001b[0m                                                                                \u001b[2m               \u001b[0m\n"
      ]
     },
     "metadata": {},
     "output_type": "display_data"
    },
    {
     "data": {
      "text/html": [
       "<pre style=\"white-space:pre;overflow-x:auto;line-height:normal;font-family:Menlo,'DejaVu Sans Mono',consolas,'Courier New',monospace\"><span style=\"color: #7fbfbf; text-decoration-color: #7fbfbf\">                    </span><span style=\"color: #800000; text-decoration-color: #800000\">WARNING </span> C:\\Users\\dggua\\anaconda3\\envs\\test_env\\lib\\site-packages\\sklearn\\base. <a href=\"file://C:\\Users\\dggua\\anaconda3\\envs\\test_env\\lib\\warnings.py\" target=\"_blank\"><span style=\"color: #7f7f7f; text-decoration-color: #7f7f7f\">warnings.py</span></a><span style=\"color: #7f7f7f; text-decoration-color: #7f7f7f\">:</span><a href=\"file://C:\\Users\\dggua\\anaconda3\\envs\\test_env\\lib\\warnings.py#109\" target=\"_blank\"><span style=\"color: #7f7f7f; text-decoration-color: #7f7f7f\">109</span></a>\n",
       "<span style=\"color: #7fbfbf; text-decoration-color: #7fbfbf\">                    </span>         py:<span style=\"color: #008080; text-decoration-color: #008080; font-weight: bold\">1351</span>: DataConversionWarning: A column-vector y was passed when a 1d <span style=\"color: #7f7f7f; text-decoration-color: #7f7f7f\">               </span>\n",
       "<span style=\"color: #7fbfbf; text-decoration-color: #7fbfbf\">                    </span>         array was expected. Please change the shape of y to <span style=\"font-weight: bold\">(</span>n_samples,<span style=\"font-weight: bold\">)</span>, for  <span style=\"color: #7f7f7f; text-decoration-color: #7f7f7f\">               </span>\n",
       "<span style=\"color: #7fbfbf; text-decoration-color: #7fbfbf\">                    </span>         example using <span style=\"color: #800080; text-decoration-color: #800080; font-weight: bold\">ravel</span><span style=\"font-weight: bold\">()</span>.                                                 <span style=\"color: #7f7f7f; text-decoration-color: #7f7f7f\">               </span>\n",
       "<span style=\"color: #7fbfbf; text-decoration-color: #7fbfbf\">                    </span>           return <span style=\"color: #800080; text-decoration-color: #800080; font-weight: bold\">fit_method</span><span style=\"font-weight: bold\">(</span>estimator, *args, **kwargs<span style=\"font-weight: bold\">)</span>                        <span style=\"color: #7f7f7f; text-decoration-color: #7f7f7f\">               </span>\n",
       "<span style=\"color: #7fbfbf; text-decoration-color: #7fbfbf\">                    </span>                                                                                <span style=\"color: #7f7f7f; text-decoration-color: #7f7f7f\">               </span>\n",
       "</pre>\n"
      ],
      "text/plain": [
       "\u001b[2;36m                   \u001b[0m\u001b[2;36m \u001b[0m\u001b[31mWARNING \u001b[0m C:\\Users\\dggua\\anaconda3\\envs\\test_env\\lib\\site-packages\\sklearn\\base. \u001b]8;id=894536;file://C:\\Users\\dggua\\anaconda3\\envs\\test_env\\lib\\warnings.py\u001b\\\u001b[2mwarnings.py\u001b[0m\u001b]8;;\u001b\\\u001b[2m:\u001b[0m\u001b]8;id=264147;file://C:\\Users\\dggua\\anaconda3\\envs\\test_env\\lib\\warnings.py#109\u001b\\\u001b[2m109\u001b[0m\u001b]8;;\u001b\\\n",
       "\u001b[2;36m                    \u001b[0m         py:\u001b[1;36m1351\u001b[0m: DataConversionWarning: A column-vector y was passed when a 1d \u001b[2m               \u001b[0m\n",
       "\u001b[2;36m                    \u001b[0m         array was expected. Please change the shape of y to \u001b[1m(\u001b[0mn_samples,\u001b[1m)\u001b[0m, for  \u001b[2m               \u001b[0m\n",
       "\u001b[2;36m                    \u001b[0m         example using \u001b[1;35mravel\u001b[0m\u001b[1m(\u001b[0m\u001b[1m)\u001b[0m.                                                 \u001b[2m               \u001b[0m\n",
       "\u001b[2;36m                    \u001b[0m           return \u001b[1;35mfit_method\u001b[0m\u001b[1m(\u001b[0mestimator, *args, **kwargs\u001b[1m)\u001b[0m                        \u001b[2m               \u001b[0m\n",
       "\u001b[2;36m                    \u001b[0m                                                                                \u001b[2m               \u001b[0m\n"
      ]
     },
     "metadata": {},
     "output_type": "display_data"
    },
    {
     "data": {
      "text/html": [
       "<pre style=\"white-space:pre;overflow-x:auto;line-height:normal;font-family:Menlo,'DejaVu Sans Mono',consolas,'Courier New',monospace\"><span style=\"color: #7fbfbf; text-decoration-color: #7fbfbf\">                    </span><span style=\"color: #800000; text-decoration-color: #800000\">WARNING </span> C:\\Users\\dggua\\anaconda3\\envs\\test_env\\lib\\site-packages\\sklearn\\base. <a href=\"file://C:\\Users\\dggua\\anaconda3\\envs\\test_env\\lib\\warnings.py\" target=\"_blank\"><span style=\"color: #7f7f7f; text-decoration-color: #7f7f7f\">warnings.py</span></a><span style=\"color: #7f7f7f; text-decoration-color: #7f7f7f\">:</span><a href=\"file://C:\\Users\\dggua\\anaconda3\\envs\\test_env\\lib\\warnings.py#109\" target=\"_blank\"><span style=\"color: #7f7f7f; text-decoration-color: #7f7f7f\">109</span></a>\n",
       "<span style=\"color: #7fbfbf; text-decoration-color: #7fbfbf\">                    </span>         py:<span style=\"color: #008080; text-decoration-color: #008080; font-weight: bold\">1351</span>: DataConversionWarning: A column-vector y was passed when a 1d <span style=\"color: #7f7f7f; text-decoration-color: #7f7f7f\">               </span>\n",
       "<span style=\"color: #7fbfbf; text-decoration-color: #7fbfbf\">                    </span>         array was expected. Please change the shape of y to <span style=\"font-weight: bold\">(</span>n_samples,<span style=\"font-weight: bold\">)</span>, for  <span style=\"color: #7f7f7f; text-decoration-color: #7f7f7f\">               </span>\n",
       "<span style=\"color: #7fbfbf; text-decoration-color: #7fbfbf\">                    </span>         example using <span style=\"color: #800080; text-decoration-color: #800080; font-weight: bold\">ravel</span><span style=\"font-weight: bold\">()</span>.                                                 <span style=\"color: #7f7f7f; text-decoration-color: #7f7f7f\">               </span>\n",
       "<span style=\"color: #7fbfbf; text-decoration-color: #7fbfbf\">                    </span>           return <span style=\"color: #800080; text-decoration-color: #800080; font-weight: bold\">fit_method</span><span style=\"font-weight: bold\">(</span>estimator, *args, **kwargs<span style=\"font-weight: bold\">)</span>                        <span style=\"color: #7f7f7f; text-decoration-color: #7f7f7f\">               </span>\n",
       "<span style=\"color: #7fbfbf; text-decoration-color: #7fbfbf\">                    </span>                                                                                <span style=\"color: #7f7f7f; text-decoration-color: #7f7f7f\">               </span>\n",
       "</pre>\n"
      ],
      "text/plain": [
       "\u001b[2;36m                   \u001b[0m\u001b[2;36m \u001b[0m\u001b[31mWARNING \u001b[0m C:\\Users\\dggua\\anaconda3\\envs\\test_env\\lib\\site-packages\\sklearn\\base. \u001b]8;id=177437;file://C:\\Users\\dggua\\anaconda3\\envs\\test_env\\lib\\warnings.py\u001b\\\u001b[2mwarnings.py\u001b[0m\u001b]8;;\u001b\\\u001b[2m:\u001b[0m\u001b]8;id=423654;file://C:\\Users\\dggua\\anaconda3\\envs\\test_env\\lib\\warnings.py#109\u001b\\\u001b[2m109\u001b[0m\u001b]8;;\u001b\\\n",
       "\u001b[2;36m                    \u001b[0m         py:\u001b[1;36m1351\u001b[0m: DataConversionWarning: A column-vector y was passed when a 1d \u001b[2m               \u001b[0m\n",
       "\u001b[2;36m                    \u001b[0m         array was expected. Please change the shape of y to \u001b[1m(\u001b[0mn_samples,\u001b[1m)\u001b[0m, for  \u001b[2m               \u001b[0m\n",
       "\u001b[2;36m                    \u001b[0m         example using \u001b[1;35mravel\u001b[0m\u001b[1m(\u001b[0m\u001b[1m)\u001b[0m.                                                 \u001b[2m               \u001b[0m\n",
       "\u001b[2;36m                    \u001b[0m           return \u001b[1;35mfit_method\u001b[0m\u001b[1m(\u001b[0mestimator, *args, **kwargs\u001b[1m)\u001b[0m                        \u001b[2m               \u001b[0m\n",
       "\u001b[2;36m                    \u001b[0m                                                                                \u001b[2m               \u001b[0m\n"
      ]
     },
     "metadata": {},
     "output_type": "display_data"
    },
    {
     "data": {
      "text/html": [
       "<pre style=\"white-space:pre;overflow-x:auto;line-height:normal;font-family:Menlo,'DejaVu Sans Mono',consolas,'Courier New',monospace\"><span style=\"color: #7fbfbf; text-decoration-color: #7fbfbf\">                    </span><span style=\"color: #800000; text-decoration-color: #800000\">WARNING </span> C:\\Users\\dggua\\anaconda3\\envs\\test_env\\lib\\site-packages\\sklearn\\base. <a href=\"file://C:\\Users\\dggua\\anaconda3\\envs\\test_env\\lib\\warnings.py\" target=\"_blank\"><span style=\"color: #7f7f7f; text-decoration-color: #7f7f7f\">warnings.py</span></a><span style=\"color: #7f7f7f; text-decoration-color: #7f7f7f\">:</span><a href=\"file://C:\\Users\\dggua\\anaconda3\\envs\\test_env\\lib\\warnings.py#109\" target=\"_blank\"><span style=\"color: #7f7f7f; text-decoration-color: #7f7f7f\">109</span></a>\n",
       "<span style=\"color: #7fbfbf; text-decoration-color: #7fbfbf\">                    </span>         py:<span style=\"color: #008080; text-decoration-color: #008080; font-weight: bold\">1351</span>: DataConversionWarning: A column-vector y was passed when a 1d <span style=\"color: #7f7f7f; text-decoration-color: #7f7f7f\">               </span>\n",
       "<span style=\"color: #7fbfbf; text-decoration-color: #7fbfbf\">                    </span>         array was expected. Please change the shape of y to <span style=\"font-weight: bold\">(</span>n_samples,<span style=\"font-weight: bold\">)</span>, for  <span style=\"color: #7f7f7f; text-decoration-color: #7f7f7f\">               </span>\n",
       "<span style=\"color: #7fbfbf; text-decoration-color: #7fbfbf\">                    </span>         example using <span style=\"color: #800080; text-decoration-color: #800080; font-weight: bold\">ravel</span><span style=\"font-weight: bold\">()</span>.                                                 <span style=\"color: #7f7f7f; text-decoration-color: #7f7f7f\">               </span>\n",
       "<span style=\"color: #7fbfbf; text-decoration-color: #7fbfbf\">                    </span>           return <span style=\"color: #800080; text-decoration-color: #800080; font-weight: bold\">fit_method</span><span style=\"font-weight: bold\">(</span>estimator, *args, **kwargs<span style=\"font-weight: bold\">)</span>                        <span style=\"color: #7f7f7f; text-decoration-color: #7f7f7f\">               </span>\n",
       "<span style=\"color: #7fbfbf; text-decoration-color: #7fbfbf\">                    </span>                                                                                <span style=\"color: #7f7f7f; text-decoration-color: #7f7f7f\">               </span>\n",
       "</pre>\n"
      ],
      "text/plain": [
       "\u001b[2;36m                   \u001b[0m\u001b[2;36m \u001b[0m\u001b[31mWARNING \u001b[0m C:\\Users\\dggua\\anaconda3\\envs\\test_env\\lib\\site-packages\\sklearn\\base. \u001b]8;id=441114;file://C:\\Users\\dggua\\anaconda3\\envs\\test_env\\lib\\warnings.py\u001b\\\u001b[2mwarnings.py\u001b[0m\u001b]8;;\u001b\\\u001b[2m:\u001b[0m\u001b]8;id=826397;file://C:\\Users\\dggua\\anaconda3\\envs\\test_env\\lib\\warnings.py#109\u001b\\\u001b[2m109\u001b[0m\u001b]8;;\u001b\\\n",
       "\u001b[2;36m                    \u001b[0m         py:\u001b[1;36m1351\u001b[0m: DataConversionWarning: A column-vector y was passed when a 1d \u001b[2m               \u001b[0m\n",
       "\u001b[2;36m                    \u001b[0m         array was expected. Please change the shape of y to \u001b[1m(\u001b[0mn_samples,\u001b[1m)\u001b[0m, for  \u001b[2m               \u001b[0m\n",
       "\u001b[2;36m                    \u001b[0m         example using \u001b[1;35mravel\u001b[0m\u001b[1m(\u001b[0m\u001b[1m)\u001b[0m.                                                 \u001b[2m               \u001b[0m\n",
       "\u001b[2;36m                    \u001b[0m           return \u001b[1;35mfit_method\u001b[0m\u001b[1m(\u001b[0mestimator, *args, **kwargs\u001b[1m)\u001b[0m                        \u001b[2m               \u001b[0m\n",
       "\u001b[2;36m                    \u001b[0m                                                                                \u001b[2m               \u001b[0m\n"
      ]
     },
     "metadata": {},
     "output_type": "display_data"
    },
    {
     "data": {
      "text/html": [
       "<pre style=\"white-space:pre;overflow-x:auto;line-height:normal;font-family:Menlo,'DejaVu Sans Mono',consolas,'Courier New',monospace\"><span style=\"color: #7fbfbf; text-decoration-color: #7fbfbf\">                    </span><span style=\"color: #800000; text-decoration-color: #800000\">WARNING </span> C:\\Users\\dggua\\anaconda3\\envs\\test_env\\lib\\site-packages\\sklearn\\base. <a href=\"file://C:\\Users\\dggua\\anaconda3\\envs\\test_env\\lib\\warnings.py\" target=\"_blank\"><span style=\"color: #7f7f7f; text-decoration-color: #7f7f7f\">warnings.py</span></a><span style=\"color: #7f7f7f; text-decoration-color: #7f7f7f\">:</span><a href=\"file://C:\\Users\\dggua\\anaconda3\\envs\\test_env\\lib\\warnings.py#109\" target=\"_blank\"><span style=\"color: #7f7f7f; text-decoration-color: #7f7f7f\">109</span></a>\n",
       "<span style=\"color: #7fbfbf; text-decoration-color: #7fbfbf\">                    </span>         py:<span style=\"color: #008080; text-decoration-color: #008080; font-weight: bold\">1351</span>: DataConversionWarning: A column-vector y was passed when a 1d <span style=\"color: #7f7f7f; text-decoration-color: #7f7f7f\">               </span>\n",
       "<span style=\"color: #7fbfbf; text-decoration-color: #7fbfbf\">                    </span>         array was expected. Please change the shape of y to <span style=\"font-weight: bold\">(</span>n_samples,<span style=\"font-weight: bold\">)</span>, for  <span style=\"color: #7f7f7f; text-decoration-color: #7f7f7f\">               </span>\n",
       "<span style=\"color: #7fbfbf; text-decoration-color: #7fbfbf\">                    </span>         example using <span style=\"color: #800080; text-decoration-color: #800080; font-weight: bold\">ravel</span><span style=\"font-weight: bold\">()</span>.                                                 <span style=\"color: #7f7f7f; text-decoration-color: #7f7f7f\">               </span>\n",
       "<span style=\"color: #7fbfbf; text-decoration-color: #7fbfbf\">                    </span>           return <span style=\"color: #800080; text-decoration-color: #800080; font-weight: bold\">fit_method</span><span style=\"font-weight: bold\">(</span>estimator, *args, **kwargs<span style=\"font-weight: bold\">)</span>                        <span style=\"color: #7f7f7f; text-decoration-color: #7f7f7f\">               </span>\n",
       "<span style=\"color: #7fbfbf; text-decoration-color: #7fbfbf\">                    </span>                                                                                <span style=\"color: #7f7f7f; text-decoration-color: #7f7f7f\">               </span>\n",
       "</pre>\n"
      ],
      "text/plain": [
       "\u001b[2;36m                   \u001b[0m\u001b[2;36m \u001b[0m\u001b[31mWARNING \u001b[0m C:\\Users\\dggua\\anaconda3\\envs\\test_env\\lib\\site-packages\\sklearn\\base. \u001b]8;id=253226;file://C:\\Users\\dggua\\anaconda3\\envs\\test_env\\lib\\warnings.py\u001b\\\u001b[2mwarnings.py\u001b[0m\u001b]8;;\u001b\\\u001b[2m:\u001b[0m\u001b]8;id=310306;file://C:\\Users\\dggua\\anaconda3\\envs\\test_env\\lib\\warnings.py#109\u001b\\\u001b[2m109\u001b[0m\u001b]8;;\u001b\\\n",
       "\u001b[2;36m                    \u001b[0m         py:\u001b[1;36m1351\u001b[0m: DataConversionWarning: A column-vector y was passed when a 1d \u001b[2m               \u001b[0m\n",
       "\u001b[2;36m                    \u001b[0m         array was expected. Please change the shape of y to \u001b[1m(\u001b[0mn_samples,\u001b[1m)\u001b[0m, for  \u001b[2m               \u001b[0m\n",
       "\u001b[2;36m                    \u001b[0m         example using \u001b[1;35mravel\u001b[0m\u001b[1m(\u001b[0m\u001b[1m)\u001b[0m.                                                 \u001b[2m               \u001b[0m\n",
       "\u001b[2;36m                    \u001b[0m           return \u001b[1;35mfit_method\u001b[0m\u001b[1m(\u001b[0mestimator, *args, **kwargs\u001b[1m)\u001b[0m                        \u001b[2m               \u001b[0m\n",
       "\u001b[2;36m                    \u001b[0m                                                                                \u001b[2m               \u001b[0m\n"
      ]
     },
     "metadata": {},
     "output_type": "display_data"
    },
    {
     "data": {
      "text/html": [
       "<pre style=\"white-space:pre;overflow-x:auto;line-height:normal;font-family:Menlo,'DejaVu Sans Mono',consolas,'Courier New',monospace\"><span style=\"color: #7fbfbf; text-decoration-color: #7fbfbf\">                    </span><span style=\"color: #800000; text-decoration-color: #800000\">WARNING </span> C:\\Users\\dggua\\anaconda3\\envs\\test_env\\lib\\site-packages\\sklearn\\base. <a href=\"file://C:\\Users\\dggua\\anaconda3\\envs\\test_env\\lib\\warnings.py\" target=\"_blank\"><span style=\"color: #7f7f7f; text-decoration-color: #7f7f7f\">warnings.py</span></a><span style=\"color: #7f7f7f; text-decoration-color: #7f7f7f\">:</span><a href=\"file://C:\\Users\\dggua\\anaconda3\\envs\\test_env\\lib\\warnings.py#109\" target=\"_blank\"><span style=\"color: #7f7f7f; text-decoration-color: #7f7f7f\">109</span></a>\n",
       "<span style=\"color: #7fbfbf; text-decoration-color: #7fbfbf\">                    </span>         py:<span style=\"color: #008080; text-decoration-color: #008080; font-weight: bold\">1351</span>: DataConversionWarning: A column-vector y was passed when a 1d <span style=\"color: #7f7f7f; text-decoration-color: #7f7f7f\">               </span>\n",
       "<span style=\"color: #7fbfbf; text-decoration-color: #7fbfbf\">                    </span>         array was expected. Please change the shape of y to <span style=\"font-weight: bold\">(</span>n_samples,<span style=\"font-weight: bold\">)</span>, for  <span style=\"color: #7f7f7f; text-decoration-color: #7f7f7f\">               </span>\n",
       "<span style=\"color: #7fbfbf; text-decoration-color: #7fbfbf\">                    </span>         example using <span style=\"color: #800080; text-decoration-color: #800080; font-weight: bold\">ravel</span><span style=\"font-weight: bold\">()</span>.                                                 <span style=\"color: #7f7f7f; text-decoration-color: #7f7f7f\">               </span>\n",
       "<span style=\"color: #7fbfbf; text-decoration-color: #7fbfbf\">                    </span>           return <span style=\"color: #800080; text-decoration-color: #800080; font-weight: bold\">fit_method</span><span style=\"font-weight: bold\">(</span>estimator, *args, **kwargs<span style=\"font-weight: bold\">)</span>                        <span style=\"color: #7f7f7f; text-decoration-color: #7f7f7f\">               </span>\n",
       "<span style=\"color: #7fbfbf; text-decoration-color: #7fbfbf\">                    </span>                                                                                <span style=\"color: #7f7f7f; text-decoration-color: #7f7f7f\">               </span>\n",
       "</pre>\n"
      ],
      "text/plain": [
       "\u001b[2;36m                   \u001b[0m\u001b[2;36m \u001b[0m\u001b[31mWARNING \u001b[0m C:\\Users\\dggua\\anaconda3\\envs\\test_env\\lib\\site-packages\\sklearn\\base. \u001b]8;id=706912;file://C:\\Users\\dggua\\anaconda3\\envs\\test_env\\lib\\warnings.py\u001b\\\u001b[2mwarnings.py\u001b[0m\u001b]8;;\u001b\\\u001b[2m:\u001b[0m\u001b]8;id=313443;file://C:\\Users\\dggua\\anaconda3\\envs\\test_env\\lib\\warnings.py#109\u001b\\\u001b[2m109\u001b[0m\u001b]8;;\u001b\\\n",
       "\u001b[2;36m                    \u001b[0m         py:\u001b[1;36m1351\u001b[0m: DataConversionWarning: A column-vector y was passed when a 1d \u001b[2m               \u001b[0m\n",
       "\u001b[2;36m                    \u001b[0m         array was expected. Please change the shape of y to \u001b[1m(\u001b[0mn_samples,\u001b[1m)\u001b[0m, for  \u001b[2m               \u001b[0m\n",
       "\u001b[2;36m                    \u001b[0m         example using \u001b[1;35mravel\u001b[0m\u001b[1m(\u001b[0m\u001b[1m)\u001b[0m.                                                 \u001b[2m               \u001b[0m\n",
       "\u001b[2;36m                    \u001b[0m           return \u001b[1;35mfit_method\u001b[0m\u001b[1m(\u001b[0mestimator, *args, **kwargs\u001b[1m)\u001b[0m                        \u001b[2m               \u001b[0m\n",
       "\u001b[2;36m                    \u001b[0m                                                                                \u001b[2m               \u001b[0m\n"
      ]
     },
     "metadata": {},
     "output_type": "display_data"
    },
    {
     "data": {
      "text/html": [
       "<pre style=\"white-space:pre;overflow-x:auto;line-height:normal;font-family:Menlo,'DejaVu Sans Mono',consolas,'Courier New',monospace\"><span style=\"color: #7fbfbf; text-decoration-color: #7fbfbf\">                    </span><span style=\"color: #800000; text-decoration-color: #800000\">WARNING </span> C:\\Users\\dggua\\anaconda3\\envs\\test_env\\lib\\site-packages\\sklearn\\base. <a href=\"file://C:\\Users\\dggua\\anaconda3\\envs\\test_env\\lib\\warnings.py\" target=\"_blank\"><span style=\"color: #7f7f7f; text-decoration-color: #7f7f7f\">warnings.py</span></a><span style=\"color: #7f7f7f; text-decoration-color: #7f7f7f\">:</span><a href=\"file://C:\\Users\\dggua\\anaconda3\\envs\\test_env\\lib\\warnings.py#109\" target=\"_blank\"><span style=\"color: #7f7f7f; text-decoration-color: #7f7f7f\">109</span></a>\n",
       "<span style=\"color: #7fbfbf; text-decoration-color: #7fbfbf\">                    </span>         py:<span style=\"color: #008080; text-decoration-color: #008080; font-weight: bold\">1351</span>: DataConversionWarning: A column-vector y was passed when a 1d <span style=\"color: #7f7f7f; text-decoration-color: #7f7f7f\">               </span>\n",
       "<span style=\"color: #7fbfbf; text-decoration-color: #7fbfbf\">                    </span>         array was expected. Please change the shape of y to <span style=\"font-weight: bold\">(</span>n_samples,<span style=\"font-weight: bold\">)</span>, for  <span style=\"color: #7f7f7f; text-decoration-color: #7f7f7f\">               </span>\n",
       "<span style=\"color: #7fbfbf; text-decoration-color: #7fbfbf\">                    </span>         example using <span style=\"color: #800080; text-decoration-color: #800080; font-weight: bold\">ravel</span><span style=\"font-weight: bold\">()</span>.                                                 <span style=\"color: #7f7f7f; text-decoration-color: #7f7f7f\">               </span>\n",
       "<span style=\"color: #7fbfbf; text-decoration-color: #7fbfbf\">                    </span>           return <span style=\"color: #800080; text-decoration-color: #800080; font-weight: bold\">fit_method</span><span style=\"font-weight: bold\">(</span>estimator, *args, **kwargs<span style=\"font-weight: bold\">)</span>                        <span style=\"color: #7f7f7f; text-decoration-color: #7f7f7f\">               </span>\n",
       "<span style=\"color: #7fbfbf; text-decoration-color: #7fbfbf\">                    </span>                                                                                <span style=\"color: #7f7f7f; text-decoration-color: #7f7f7f\">               </span>\n",
       "</pre>\n"
      ],
      "text/plain": [
       "\u001b[2;36m                   \u001b[0m\u001b[2;36m \u001b[0m\u001b[31mWARNING \u001b[0m C:\\Users\\dggua\\anaconda3\\envs\\test_env\\lib\\site-packages\\sklearn\\base. \u001b]8;id=650664;file://C:\\Users\\dggua\\anaconda3\\envs\\test_env\\lib\\warnings.py\u001b\\\u001b[2mwarnings.py\u001b[0m\u001b]8;;\u001b\\\u001b[2m:\u001b[0m\u001b]8;id=33370;file://C:\\Users\\dggua\\anaconda3\\envs\\test_env\\lib\\warnings.py#109\u001b\\\u001b[2m109\u001b[0m\u001b]8;;\u001b\\\n",
       "\u001b[2;36m                    \u001b[0m         py:\u001b[1;36m1351\u001b[0m: DataConversionWarning: A column-vector y was passed when a 1d \u001b[2m               \u001b[0m\n",
       "\u001b[2;36m                    \u001b[0m         array was expected. Please change the shape of y to \u001b[1m(\u001b[0mn_samples,\u001b[1m)\u001b[0m, for  \u001b[2m               \u001b[0m\n",
       "\u001b[2;36m                    \u001b[0m         example using \u001b[1;35mravel\u001b[0m\u001b[1m(\u001b[0m\u001b[1m)\u001b[0m.                                                 \u001b[2m               \u001b[0m\n",
       "\u001b[2;36m                    \u001b[0m           return \u001b[1;35mfit_method\u001b[0m\u001b[1m(\u001b[0mestimator, *args, **kwargs\u001b[1m)\u001b[0m                        \u001b[2m               \u001b[0m\n",
       "\u001b[2;36m                    \u001b[0m                                                                                \u001b[2m               \u001b[0m\n"
      ]
     },
     "metadata": {},
     "output_type": "display_data"
    },
    {
     "data": {
      "text/html": [
       "<pre style=\"white-space:pre;overflow-x:auto;line-height:normal;font-family:Menlo,'DejaVu Sans Mono',consolas,'Courier New',monospace\"><span style=\"color: #7fbfbf; text-decoration-color: #7fbfbf\">                    </span><span style=\"color: #800000; text-decoration-color: #800000\">WARNING </span> C:\\Users\\dggua\\anaconda3\\envs\\test_env\\lib\\site-packages\\sklearn\\base. <a href=\"file://C:\\Users\\dggua\\anaconda3\\envs\\test_env\\lib\\warnings.py\" target=\"_blank\"><span style=\"color: #7f7f7f; text-decoration-color: #7f7f7f\">warnings.py</span></a><span style=\"color: #7f7f7f; text-decoration-color: #7f7f7f\">:</span><a href=\"file://C:\\Users\\dggua\\anaconda3\\envs\\test_env\\lib\\warnings.py#109\" target=\"_blank\"><span style=\"color: #7f7f7f; text-decoration-color: #7f7f7f\">109</span></a>\n",
       "<span style=\"color: #7fbfbf; text-decoration-color: #7fbfbf\">                    </span>         py:<span style=\"color: #008080; text-decoration-color: #008080; font-weight: bold\">1351</span>: DataConversionWarning: A column-vector y was passed when a 1d <span style=\"color: #7f7f7f; text-decoration-color: #7f7f7f\">               </span>\n",
       "<span style=\"color: #7fbfbf; text-decoration-color: #7fbfbf\">                    </span>         array was expected. Please change the shape of y to <span style=\"font-weight: bold\">(</span>n_samples,<span style=\"font-weight: bold\">)</span>, for  <span style=\"color: #7f7f7f; text-decoration-color: #7f7f7f\">               </span>\n",
       "<span style=\"color: #7fbfbf; text-decoration-color: #7fbfbf\">                    </span>         example using <span style=\"color: #800080; text-decoration-color: #800080; font-weight: bold\">ravel</span><span style=\"font-weight: bold\">()</span>.                                                 <span style=\"color: #7f7f7f; text-decoration-color: #7f7f7f\">               </span>\n",
       "<span style=\"color: #7fbfbf; text-decoration-color: #7fbfbf\">                    </span>           return <span style=\"color: #800080; text-decoration-color: #800080; font-weight: bold\">fit_method</span><span style=\"font-weight: bold\">(</span>estimator, *args, **kwargs<span style=\"font-weight: bold\">)</span>                        <span style=\"color: #7f7f7f; text-decoration-color: #7f7f7f\">               </span>\n",
       "<span style=\"color: #7fbfbf; text-decoration-color: #7fbfbf\">                    </span>                                                                                <span style=\"color: #7f7f7f; text-decoration-color: #7f7f7f\">               </span>\n",
       "</pre>\n"
      ],
      "text/plain": [
       "\u001b[2;36m                   \u001b[0m\u001b[2;36m \u001b[0m\u001b[31mWARNING \u001b[0m C:\\Users\\dggua\\anaconda3\\envs\\test_env\\lib\\site-packages\\sklearn\\base. \u001b]8;id=850372;file://C:\\Users\\dggua\\anaconda3\\envs\\test_env\\lib\\warnings.py\u001b\\\u001b[2mwarnings.py\u001b[0m\u001b]8;;\u001b\\\u001b[2m:\u001b[0m\u001b]8;id=873482;file://C:\\Users\\dggua\\anaconda3\\envs\\test_env\\lib\\warnings.py#109\u001b\\\u001b[2m109\u001b[0m\u001b]8;;\u001b\\\n",
       "\u001b[2;36m                    \u001b[0m         py:\u001b[1;36m1351\u001b[0m: DataConversionWarning: A column-vector y was passed when a 1d \u001b[2m               \u001b[0m\n",
       "\u001b[2;36m                    \u001b[0m         array was expected. Please change the shape of y to \u001b[1m(\u001b[0mn_samples,\u001b[1m)\u001b[0m, for  \u001b[2m               \u001b[0m\n",
       "\u001b[2;36m                    \u001b[0m         example using \u001b[1;35mravel\u001b[0m\u001b[1m(\u001b[0m\u001b[1m)\u001b[0m.                                                 \u001b[2m               \u001b[0m\n",
       "\u001b[2;36m                    \u001b[0m           return \u001b[1;35mfit_method\u001b[0m\u001b[1m(\u001b[0mestimator, *args, **kwargs\u001b[1m)\u001b[0m                        \u001b[2m               \u001b[0m\n",
       "\u001b[2;36m                    \u001b[0m                                                                                \u001b[2m               \u001b[0m\n"
      ]
     },
     "metadata": {},
     "output_type": "display_data"
    },
    {
     "data": {
      "text/html": [
       "<pre style=\"white-space:pre;overflow-x:auto;line-height:normal;font-family:Menlo,'DejaVu Sans Mono',consolas,'Courier New',monospace\"><span style=\"color: #7fbfbf; text-decoration-color: #7fbfbf\">                    </span><span style=\"color: #800000; text-decoration-color: #800000\">WARNING </span> C:\\Users\\dggua\\anaconda3\\envs\\test_env\\lib\\site-packages\\sklearn\\base. <a href=\"file://C:\\Users\\dggua\\anaconda3\\envs\\test_env\\lib\\warnings.py\" target=\"_blank\"><span style=\"color: #7f7f7f; text-decoration-color: #7f7f7f\">warnings.py</span></a><span style=\"color: #7f7f7f; text-decoration-color: #7f7f7f\">:</span><a href=\"file://C:\\Users\\dggua\\anaconda3\\envs\\test_env\\lib\\warnings.py#109\" target=\"_blank\"><span style=\"color: #7f7f7f; text-decoration-color: #7f7f7f\">109</span></a>\n",
       "<span style=\"color: #7fbfbf; text-decoration-color: #7fbfbf\">                    </span>         py:<span style=\"color: #008080; text-decoration-color: #008080; font-weight: bold\">1351</span>: DataConversionWarning: A column-vector y was passed when a 1d <span style=\"color: #7f7f7f; text-decoration-color: #7f7f7f\">               </span>\n",
       "<span style=\"color: #7fbfbf; text-decoration-color: #7fbfbf\">                    </span>         array was expected. Please change the shape of y to <span style=\"font-weight: bold\">(</span>n_samples,<span style=\"font-weight: bold\">)</span>, for  <span style=\"color: #7f7f7f; text-decoration-color: #7f7f7f\">               </span>\n",
       "<span style=\"color: #7fbfbf; text-decoration-color: #7fbfbf\">                    </span>         example using <span style=\"color: #800080; text-decoration-color: #800080; font-weight: bold\">ravel</span><span style=\"font-weight: bold\">()</span>.                                                 <span style=\"color: #7f7f7f; text-decoration-color: #7f7f7f\">               </span>\n",
       "<span style=\"color: #7fbfbf; text-decoration-color: #7fbfbf\">                    </span>           return <span style=\"color: #800080; text-decoration-color: #800080; font-weight: bold\">fit_method</span><span style=\"font-weight: bold\">(</span>estimator, *args, **kwargs<span style=\"font-weight: bold\">)</span>                        <span style=\"color: #7f7f7f; text-decoration-color: #7f7f7f\">               </span>\n",
       "<span style=\"color: #7fbfbf; text-decoration-color: #7fbfbf\">                    </span>                                                                                <span style=\"color: #7f7f7f; text-decoration-color: #7f7f7f\">               </span>\n",
       "</pre>\n"
      ],
      "text/plain": [
       "\u001b[2;36m                   \u001b[0m\u001b[2;36m \u001b[0m\u001b[31mWARNING \u001b[0m C:\\Users\\dggua\\anaconda3\\envs\\test_env\\lib\\site-packages\\sklearn\\base. \u001b]8;id=913866;file://C:\\Users\\dggua\\anaconda3\\envs\\test_env\\lib\\warnings.py\u001b\\\u001b[2mwarnings.py\u001b[0m\u001b]8;;\u001b\\\u001b[2m:\u001b[0m\u001b]8;id=897344;file://C:\\Users\\dggua\\anaconda3\\envs\\test_env\\lib\\warnings.py#109\u001b\\\u001b[2m109\u001b[0m\u001b]8;;\u001b\\\n",
       "\u001b[2;36m                    \u001b[0m         py:\u001b[1;36m1351\u001b[0m: DataConversionWarning: A column-vector y was passed when a 1d \u001b[2m               \u001b[0m\n",
       "\u001b[2;36m                    \u001b[0m         array was expected. Please change the shape of y to \u001b[1m(\u001b[0mn_samples,\u001b[1m)\u001b[0m, for  \u001b[2m               \u001b[0m\n",
       "\u001b[2;36m                    \u001b[0m         example using \u001b[1;35mravel\u001b[0m\u001b[1m(\u001b[0m\u001b[1m)\u001b[0m.                                                 \u001b[2m               \u001b[0m\n",
       "\u001b[2;36m                    \u001b[0m           return \u001b[1;35mfit_method\u001b[0m\u001b[1m(\u001b[0mestimator, *args, **kwargs\u001b[1m)\u001b[0m                        \u001b[2m               \u001b[0m\n",
       "\u001b[2;36m                    \u001b[0m                                                                                \u001b[2m               \u001b[0m\n"
      ]
     },
     "metadata": {},
     "output_type": "display_data"
    },
    {
     "data": {
      "text/html": [
       "<pre style=\"white-space:pre;overflow-x:auto;line-height:normal;font-family:Menlo,'DejaVu Sans Mono',consolas,'Courier New',monospace\"><span style=\"color: #7fbfbf; text-decoration-color: #7fbfbf\">                    </span><span style=\"color: #800000; text-decoration-color: #800000\">WARNING </span> C:\\Users\\dggua\\anaconda3\\envs\\test_env\\lib\\site-packages\\sklearn\\base. <a href=\"file://C:\\Users\\dggua\\anaconda3\\envs\\test_env\\lib\\warnings.py\" target=\"_blank\"><span style=\"color: #7f7f7f; text-decoration-color: #7f7f7f\">warnings.py</span></a><span style=\"color: #7f7f7f; text-decoration-color: #7f7f7f\">:</span><a href=\"file://C:\\Users\\dggua\\anaconda3\\envs\\test_env\\lib\\warnings.py#109\" target=\"_blank\"><span style=\"color: #7f7f7f; text-decoration-color: #7f7f7f\">109</span></a>\n",
       "<span style=\"color: #7fbfbf; text-decoration-color: #7fbfbf\">                    </span>         py:<span style=\"color: #008080; text-decoration-color: #008080; font-weight: bold\">1351</span>: DataConversionWarning: A column-vector y was passed when a 1d <span style=\"color: #7f7f7f; text-decoration-color: #7f7f7f\">               </span>\n",
       "<span style=\"color: #7fbfbf; text-decoration-color: #7fbfbf\">                    </span>         array was expected. Please change the shape of y to <span style=\"font-weight: bold\">(</span>n_samples,<span style=\"font-weight: bold\">)</span>, for  <span style=\"color: #7f7f7f; text-decoration-color: #7f7f7f\">               </span>\n",
       "<span style=\"color: #7fbfbf; text-decoration-color: #7fbfbf\">                    </span>         example using <span style=\"color: #800080; text-decoration-color: #800080; font-weight: bold\">ravel</span><span style=\"font-weight: bold\">()</span>.                                                 <span style=\"color: #7f7f7f; text-decoration-color: #7f7f7f\">               </span>\n",
       "<span style=\"color: #7fbfbf; text-decoration-color: #7fbfbf\">                    </span>           return <span style=\"color: #800080; text-decoration-color: #800080; font-weight: bold\">fit_method</span><span style=\"font-weight: bold\">(</span>estimator, *args, **kwargs<span style=\"font-weight: bold\">)</span>                        <span style=\"color: #7f7f7f; text-decoration-color: #7f7f7f\">               </span>\n",
       "<span style=\"color: #7fbfbf; text-decoration-color: #7fbfbf\">                    </span>                                                                                <span style=\"color: #7f7f7f; text-decoration-color: #7f7f7f\">               </span>\n",
       "</pre>\n"
      ],
      "text/plain": [
       "\u001b[2;36m                   \u001b[0m\u001b[2;36m \u001b[0m\u001b[31mWARNING \u001b[0m C:\\Users\\dggua\\anaconda3\\envs\\test_env\\lib\\site-packages\\sklearn\\base. \u001b]8;id=836914;file://C:\\Users\\dggua\\anaconda3\\envs\\test_env\\lib\\warnings.py\u001b\\\u001b[2mwarnings.py\u001b[0m\u001b]8;;\u001b\\\u001b[2m:\u001b[0m\u001b]8;id=826071;file://C:\\Users\\dggua\\anaconda3\\envs\\test_env\\lib\\warnings.py#109\u001b\\\u001b[2m109\u001b[0m\u001b]8;;\u001b\\\n",
       "\u001b[2;36m                    \u001b[0m         py:\u001b[1;36m1351\u001b[0m: DataConversionWarning: A column-vector y was passed when a 1d \u001b[2m               \u001b[0m\n",
       "\u001b[2;36m                    \u001b[0m         array was expected. Please change the shape of y to \u001b[1m(\u001b[0mn_samples,\u001b[1m)\u001b[0m, for  \u001b[2m               \u001b[0m\n",
       "\u001b[2;36m                    \u001b[0m         example using \u001b[1;35mravel\u001b[0m\u001b[1m(\u001b[0m\u001b[1m)\u001b[0m.                                                 \u001b[2m               \u001b[0m\n",
       "\u001b[2;36m                    \u001b[0m           return \u001b[1;35mfit_method\u001b[0m\u001b[1m(\u001b[0mestimator, *args, **kwargs\u001b[1m)\u001b[0m                        \u001b[2m               \u001b[0m\n",
       "\u001b[2;36m                    \u001b[0m                                                                                \u001b[2m               \u001b[0m\n"
      ]
     },
     "metadata": {},
     "output_type": "display_data"
    },
    {
     "data": {
      "text/html": [
       "<pre style=\"white-space:pre;overflow-x:auto;line-height:normal;font-family:Menlo,'DejaVu Sans Mono',consolas,'Courier New',monospace\"><span style=\"color: #7fbfbf; text-decoration-color: #7fbfbf\">[06/22/24 16:18:03] </span><span style=\"color: #800000; text-decoration-color: #800000\">WARNING </span> C:\\Users\\dggua\\anaconda3\\envs\\test_env\\lib\\site-packages\\sklearn\\base. <a href=\"file://C:\\Users\\dggua\\anaconda3\\envs\\test_env\\lib\\warnings.py\" target=\"_blank\"><span style=\"color: #7f7f7f; text-decoration-color: #7f7f7f\">warnings.py</span></a><span style=\"color: #7f7f7f; text-decoration-color: #7f7f7f\">:</span><a href=\"file://C:\\Users\\dggua\\anaconda3\\envs\\test_env\\lib\\warnings.py#109\" target=\"_blank\"><span style=\"color: #7f7f7f; text-decoration-color: #7f7f7f\">109</span></a>\n",
       "<span style=\"color: #7fbfbf; text-decoration-color: #7fbfbf\">                    </span>         py:<span style=\"color: #008080; text-decoration-color: #008080; font-weight: bold\">1351</span>: DataConversionWarning: A column-vector y was passed when a 1d <span style=\"color: #7f7f7f; text-decoration-color: #7f7f7f\">               </span>\n",
       "<span style=\"color: #7fbfbf; text-decoration-color: #7fbfbf\">                    </span>         array was expected. Please change the shape of y to <span style=\"font-weight: bold\">(</span>n_samples,<span style=\"font-weight: bold\">)</span>, for  <span style=\"color: #7f7f7f; text-decoration-color: #7f7f7f\">               </span>\n",
       "<span style=\"color: #7fbfbf; text-decoration-color: #7fbfbf\">                    </span>         example using <span style=\"color: #800080; text-decoration-color: #800080; font-weight: bold\">ravel</span><span style=\"font-weight: bold\">()</span>.                                                 <span style=\"color: #7f7f7f; text-decoration-color: #7f7f7f\">               </span>\n",
       "<span style=\"color: #7fbfbf; text-decoration-color: #7fbfbf\">                    </span>           return <span style=\"color: #800080; text-decoration-color: #800080; font-weight: bold\">fit_method</span><span style=\"font-weight: bold\">(</span>estimator, *args, **kwargs<span style=\"font-weight: bold\">)</span>                        <span style=\"color: #7f7f7f; text-decoration-color: #7f7f7f\">               </span>\n",
       "<span style=\"color: #7fbfbf; text-decoration-color: #7fbfbf\">                    </span>                                                                                <span style=\"color: #7f7f7f; text-decoration-color: #7f7f7f\">               </span>\n",
       "</pre>\n"
      ],
      "text/plain": [
       "\u001b[2;36m[06/22/24 16:18:03]\u001b[0m\u001b[2;36m \u001b[0m\u001b[31mWARNING \u001b[0m C:\\Users\\dggua\\anaconda3\\envs\\test_env\\lib\\site-packages\\sklearn\\base. \u001b]8;id=555793;file://C:\\Users\\dggua\\anaconda3\\envs\\test_env\\lib\\warnings.py\u001b\\\u001b[2mwarnings.py\u001b[0m\u001b]8;;\u001b\\\u001b[2m:\u001b[0m\u001b]8;id=15407;file://C:\\Users\\dggua\\anaconda3\\envs\\test_env\\lib\\warnings.py#109\u001b\\\u001b[2m109\u001b[0m\u001b]8;;\u001b\\\n",
       "\u001b[2;36m                    \u001b[0m         py:\u001b[1;36m1351\u001b[0m: DataConversionWarning: A column-vector y was passed when a 1d \u001b[2m               \u001b[0m\n",
       "\u001b[2;36m                    \u001b[0m         array was expected. Please change the shape of y to \u001b[1m(\u001b[0mn_samples,\u001b[1m)\u001b[0m, for  \u001b[2m               \u001b[0m\n",
       "\u001b[2;36m                    \u001b[0m         example using \u001b[1;35mravel\u001b[0m\u001b[1m(\u001b[0m\u001b[1m)\u001b[0m.                                                 \u001b[2m               \u001b[0m\n",
       "\u001b[2;36m                    \u001b[0m           return \u001b[1;35mfit_method\u001b[0m\u001b[1m(\u001b[0mestimator, *args, **kwargs\u001b[1m)\u001b[0m                        \u001b[2m               \u001b[0m\n",
       "\u001b[2;36m                    \u001b[0m                                                                                \u001b[2m               \u001b[0m\n"
      ]
     },
     "metadata": {},
     "output_type": "display_data"
    },
    {
     "data": {
      "text/html": [
       "<pre style=\"white-space:pre;overflow-x:auto;line-height:normal;font-family:Menlo,'DejaVu Sans Mono',consolas,'Courier New',monospace\"><span style=\"color: #7fbfbf; text-decoration-color: #7fbfbf\">                    </span><span style=\"color: #800000; text-decoration-color: #800000\">WARNING </span> C:\\Users\\dggua\\anaconda3\\envs\\test_env\\lib\\site-packages\\sklearn\\base. <a href=\"file://C:\\Users\\dggua\\anaconda3\\envs\\test_env\\lib\\warnings.py\" target=\"_blank\"><span style=\"color: #7f7f7f; text-decoration-color: #7f7f7f\">warnings.py</span></a><span style=\"color: #7f7f7f; text-decoration-color: #7f7f7f\">:</span><a href=\"file://C:\\Users\\dggua\\anaconda3\\envs\\test_env\\lib\\warnings.py#109\" target=\"_blank\"><span style=\"color: #7f7f7f; text-decoration-color: #7f7f7f\">109</span></a>\n",
       "<span style=\"color: #7fbfbf; text-decoration-color: #7fbfbf\">                    </span>         py:<span style=\"color: #008080; text-decoration-color: #008080; font-weight: bold\">1351</span>: DataConversionWarning: A column-vector y was passed when a 1d <span style=\"color: #7f7f7f; text-decoration-color: #7f7f7f\">               </span>\n",
       "<span style=\"color: #7fbfbf; text-decoration-color: #7fbfbf\">                    </span>         array was expected. Please change the shape of y to <span style=\"font-weight: bold\">(</span>n_samples,<span style=\"font-weight: bold\">)</span>, for  <span style=\"color: #7f7f7f; text-decoration-color: #7f7f7f\">               </span>\n",
       "<span style=\"color: #7fbfbf; text-decoration-color: #7fbfbf\">                    </span>         example using <span style=\"color: #800080; text-decoration-color: #800080; font-weight: bold\">ravel</span><span style=\"font-weight: bold\">()</span>.                                                 <span style=\"color: #7f7f7f; text-decoration-color: #7f7f7f\">               </span>\n",
       "<span style=\"color: #7fbfbf; text-decoration-color: #7fbfbf\">                    </span>           return <span style=\"color: #800080; text-decoration-color: #800080; font-weight: bold\">fit_method</span><span style=\"font-weight: bold\">(</span>estimator, *args, **kwargs<span style=\"font-weight: bold\">)</span>                        <span style=\"color: #7f7f7f; text-decoration-color: #7f7f7f\">               </span>\n",
       "<span style=\"color: #7fbfbf; text-decoration-color: #7fbfbf\">                    </span>                                                                                <span style=\"color: #7f7f7f; text-decoration-color: #7f7f7f\">               </span>\n",
       "</pre>\n"
      ],
      "text/plain": [
       "\u001b[2;36m                   \u001b[0m\u001b[2;36m \u001b[0m\u001b[31mWARNING \u001b[0m C:\\Users\\dggua\\anaconda3\\envs\\test_env\\lib\\site-packages\\sklearn\\base. \u001b]8;id=466634;file://C:\\Users\\dggua\\anaconda3\\envs\\test_env\\lib\\warnings.py\u001b\\\u001b[2mwarnings.py\u001b[0m\u001b]8;;\u001b\\\u001b[2m:\u001b[0m\u001b]8;id=387672;file://C:\\Users\\dggua\\anaconda3\\envs\\test_env\\lib\\warnings.py#109\u001b\\\u001b[2m109\u001b[0m\u001b]8;;\u001b\\\n",
       "\u001b[2;36m                    \u001b[0m         py:\u001b[1;36m1351\u001b[0m: DataConversionWarning: A column-vector y was passed when a 1d \u001b[2m               \u001b[0m\n",
       "\u001b[2;36m                    \u001b[0m         array was expected. Please change the shape of y to \u001b[1m(\u001b[0mn_samples,\u001b[1m)\u001b[0m, for  \u001b[2m               \u001b[0m\n",
       "\u001b[2;36m                    \u001b[0m         example using \u001b[1;35mravel\u001b[0m\u001b[1m(\u001b[0m\u001b[1m)\u001b[0m.                                                 \u001b[2m               \u001b[0m\n",
       "\u001b[2;36m                    \u001b[0m           return \u001b[1;35mfit_method\u001b[0m\u001b[1m(\u001b[0mestimator, *args, **kwargs\u001b[1m)\u001b[0m                        \u001b[2m               \u001b[0m\n",
       "\u001b[2;36m                    \u001b[0m                                                                                \u001b[2m               \u001b[0m\n"
      ]
     },
     "metadata": {},
     "output_type": "display_data"
    },
    {
     "data": {
      "text/html": [
       "<pre style=\"white-space:pre;overflow-x:auto;line-height:normal;font-family:Menlo,'DejaVu Sans Mono',consolas,'Courier New',monospace\"><span style=\"color: #7fbfbf; text-decoration-color: #7fbfbf\">                    </span><span style=\"color: #800000; text-decoration-color: #800000\">WARNING </span> C:\\Users\\dggua\\anaconda3\\envs\\test_env\\lib\\site-packages\\sklearn\\base. <a href=\"file://C:\\Users\\dggua\\anaconda3\\envs\\test_env\\lib\\warnings.py\" target=\"_blank\"><span style=\"color: #7f7f7f; text-decoration-color: #7f7f7f\">warnings.py</span></a><span style=\"color: #7f7f7f; text-decoration-color: #7f7f7f\">:</span><a href=\"file://C:\\Users\\dggua\\anaconda3\\envs\\test_env\\lib\\warnings.py#109\" target=\"_blank\"><span style=\"color: #7f7f7f; text-decoration-color: #7f7f7f\">109</span></a>\n",
       "<span style=\"color: #7fbfbf; text-decoration-color: #7fbfbf\">                    </span>         py:<span style=\"color: #008080; text-decoration-color: #008080; font-weight: bold\">1351</span>: DataConversionWarning: A column-vector y was passed when a 1d <span style=\"color: #7f7f7f; text-decoration-color: #7f7f7f\">               </span>\n",
       "<span style=\"color: #7fbfbf; text-decoration-color: #7fbfbf\">                    </span>         array was expected. Please change the shape of y to <span style=\"font-weight: bold\">(</span>n_samples,<span style=\"font-weight: bold\">)</span>, for  <span style=\"color: #7f7f7f; text-decoration-color: #7f7f7f\">               </span>\n",
       "<span style=\"color: #7fbfbf; text-decoration-color: #7fbfbf\">                    </span>         example using <span style=\"color: #800080; text-decoration-color: #800080; font-weight: bold\">ravel</span><span style=\"font-weight: bold\">()</span>.                                                 <span style=\"color: #7f7f7f; text-decoration-color: #7f7f7f\">               </span>\n",
       "<span style=\"color: #7fbfbf; text-decoration-color: #7fbfbf\">                    </span>           return <span style=\"color: #800080; text-decoration-color: #800080; font-weight: bold\">fit_method</span><span style=\"font-weight: bold\">(</span>estimator, *args, **kwargs<span style=\"font-weight: bold\">)</span>                        <span style=\"color: #7f7f7f; text-decoration-color: #7f7f7f\">               </span>\n",
       "<span style=\"color: #7fbfbf; text-decoration-color: #7fbfbf\">                    </span>                                                                                <span style=\"color: #7f7f7f; text-decoration-color: #7f7f7f\">               </span>\n",
       "</pre>\n"
      ],
      "text/plain": [
       "\u001b[2;36m                   \u001b[0m\u001b[2;36m \u001b[0m\u001b[31mWARNING \u001b[0m C:\\Users\\dggua\\anaconda3\\envs\\test_env\\lib\\site-packages\\sklearn\\base. \u001b]8;id=237682;file://C:\\Users\\dggua\\anaconda3\\envs\\test_env\\lib\\warnings.py\u001b\\\u001b[2mwarnings.py\u001b[0m\u001b]8;;\u001b\\\u001b[2m:\u001b[0m\u001b]8;id=852090;file://C:\\Users\\dggua\\anaconda3\\envs\\test_env\\lib\\warnings.py#109\u001b\\\u001b[2m109\u001b[0m\u001b]8;;\u001b\\\n",
       "\u001b[2;36m                    \u001b[0m         py:\u001b[1;36m1351\u001b[0m: DataConversionWarning: A column-vector y was passed when a 1d \u001b[2m               \u001b[0m\n",
       "\u001b[2;36m                    \u001b[0m         array was expected. Please change the shape of y to \u001b[1m(\u001b[0mn_samples,\u001b[1m)\u001b[0m, for  \u001b[2m               \u001b[0m\n",
       "\u001b[2;36m                    \u001b[0m         example using \u001b[1;35mravel\u001b[0m\u001b[1m(\u001b[0m\u001b[1m)\u001b[0m.                                                 \u001b[2m               \u001b[0m\n",
       "\u001b[2;36m                    \u001b[0m           return \u001b[1;35mfit_method\u001b[0m\u001b[1m(\u001b[0mestimator, *args, **kwargs\u001b[1m)\u001b[0m                        \u001b[2m               \u001b[0m\n",
       "\u001b[2;36m                    \u001b[0m                                                                                \u001b[2m               \u001b[0m\n"
      ]
     },
     "metadata": {},
     "output_type": "display_data"
    },
    {
     "data": {
      "text/html": [
       "<pre style=\"white-space:pre;overflow-x:auto;line-height:normal;font-family:Menlo,'DejaVu Sans Mono',consolas,'Courier New',monospace\"><span style=\"color: #7fbfbf; text-decoration-color: #7fbfbf\">                    </span><span style=\"color: #800000; text-decoration-color: #800000\">WARNING </span> C:\\Users\\dggua\\anaconda3\\envs\\test_env\\lib\\site-packages\\sklearn\\base. <a href=\"file://C:\\Users\\dggua\\anaconda3\\envs\\test_env\\lib\\warnings.py\" target=\"_blank\"><span style=\"color: #7f7f7f; text-decoration-color: #7f7f7f\">warnings.py</span></a><span style=\"color: #7f7f7f; text-decoration-color: #7f7f7f\">:</span><a href=\"file://C:\\Users\\dggua\\anaconda3\\envs\\test_env\\lib\\warnings.py#109\" target=\"_blank\"><span style=\"color: #7f7f7f; text-decoration-color: #7f7f7f\">109</span></a>\n",
       "<span style=\"color: #7fbfbf; text-decoration-color: #7fbfbf\">                    </span>         py:<span style=\"color: #008080; text-decoration-color: #008080; font-weight: bold\">1351</span>: DataConversionWarning: A column-vector y was passed when a 1d <span style=\"color: #7f7f7f; text-decoration-color: #7f7f7f\">               </span>\n",
       "<span style=\"color: #7fbfbf; text-decoration-color: #7fbfbf\">                    </span>         array was expected. Please change the shape of y to <span style=\"font-weight: bold\">(</span>n_samples,<span style=\"font-weight: bold\">)</span>, for  <span style=\"color: #7f7f7f; text-decoration-color: #7f7f7f\">               </span>\n",
       "<span style=\"color: #7fbfbf; text-decoration-color: #7fbfbf\">                    </span>         example using <span style=\"color: #800080; text-decoration-color: #800080; font-weight: bold\">ravel</span><span style=\"font-weight: bold\">()</span>.                                                 <span style=\"color: #7f7f7f; text-decoration-color: #7f7f7f\">               </span>\n",
       "<span style=\"color: #7fbfbf; text-decoration-color: #7fbfbf\">                    </span>           return <span style=\"color: #800080; text-decoration-color: #800080; font-weight: bold\">fit_method</span><span style=\"font-weight: bold\">(</span>estimator, *args, **kwargs<span style=\"font-weight: bold\">)</span>                        <span style=\"color: #7f7f7f; text-decoration-color: #7f7f7f\">               </span>\n",
       "<span style=\"color: #7fbfbf; text-decoration-color: #7fbfbf\">                    </span>                                                                                <span style=\"color: #7f7f7f; text-decoration-color: #7f7f7f\">               </span>\n",
       "</pre>\n"
      ],
      "text/plain": [
       "\u001b[2;36m                   \u001b[0m\u001b[2;36m \u001b[0m\u001b[31mWARNING \u001b[0m C:\\Users\\dggua\\anaconda3\\envs\\test_env\\lib\\site-packages\\sklearn\\base. \u001b]8;id=369686;file://C:\\Users\\dggua\\anaconda3\\envs\\test_env\\lib\\warnings.py\u001b\\\u001b[2mwarnings.py\u001b[0m\u001b]8;;\u001b\\\u001b[2m:\u001b[0m\u001b]8;id=359317;file://C:\\Users\\dggua\\anaconda3\\envs\\test_env\\lib\\warnings.py#109\u001b\\\u001b[2m109\u001b[0m\u001b]8;;\u001b\\\n",
       "\u001b[2;36m                    \u001b[0m         py:\u001b[1;36m1351\u001b[0m: DataConversionWarning: A column-vector y was passed when a 1d \u001b[2m               \u001b[0m\n",
       "\u001b[2;36m                    \u001b[0m         array was expected. Please change the shape of y to \u001b[1m(\u001b[0mn_samples,\u001b[1m)\u001b[0m, for  \u001b[2m               \u001b[0m\n",
       "\u001b[2;36m                    \u001b[0m         example using \u001b[1;35mravel\u001b[0m\u001b[1m(\u001b[0m\u001b[1m)\u001b[0m.                                                 \u001b[2m               \u001b[0m\n",
       "\u001b[2;36m                    \u001b[0m           return \u001b[1;35mfit_method\u001b[0m\u001b[1m(\u001b[0mestimator, *args, **kwargs\u001b[1m)\u001b[0m                        \u001b[2m               \u001b[0m\n",
       "\u001b[2;36m                    \u001b[0m                                                                                \u001b[2m               \u001b[0m\n"
      ]
     },
     "metadata": {},
     "output_type": "display_data"
    },
    {
     "data": {
      "text/html": [
       "<pre style=\"white-space:pre;overflow-x:auto;line-height:normal;font-family:Menlo,'DejaVu Sans Mono',consolas,'Courier New',monospace\"><span style=\"color: #7fbfbf; text-decoration-color: #7fbfbf\">                    </span><span style=\"color: #800000; text-decoration-color: #800000\">WARNING </span> C:\\Users\\dggua\\anaconda3\\envs\\test_env\\lib\\site-packages\\sklearn\\base. <a href=\"file://C:\\Users\\dggua\\anaconda3\\envs\\test_env\\lib\\warnings.py\" target=\"_blank\"><span style=\"color: #7f7f7f; text-decoration-color: #7f7f7f\">warnings.py</span></a><span style=\"color: #7f7f7f; text-decoration-color: #7f7f7f\">:</span><a href=\"file://C:\\Users\\dggua\\anaconda3\\envs\\test_env\\lib\\warnings.py#109\" target=\"_blank\"><span style=\"color: #7f7f7f; text-decoration-color: #7f7f7f\">109</span></a>\n",
       "<span style=\"color: #7fbfbf; text-decoration-color: #7fbfbf\">                    </span>         py:<span style=\"color: #008080; text-decoration-color: #008080; font-weight: bold\">1351</span>: DataConversionWarning: A column-vector y was passed when a 1d <span style=\"color: #7f7f7f; text-decoration-color: #7f7f7f\">               </span>\n",
       "<span style=\"color: #7fbfbf; text-decoration-color: #7fbfbf\">                    </span>         array was expected. Please change the shape of y to <span style=\"font-weight: bold\">(</span>n_samples,<span style=\"font-weight: bold\">)</span>, for  <span style=\"color: #7f7f7f; text-decoration-color: #7f7f7f\">               </span>\n",
       "<span style=\"color: #7fbfbf; text-decoration-color: #7fbfbf\">                    </span>         example using <span style=\"color: #800080; text-decoration-color: #800080; font-weight: bold\">ravel</span><span style=\"font-weight: bold\">()</span>.                                                 <span style=\"color: #7f7f7f; text-decoration-color: #7f7f7f\">               </span>\n",
       "<span style=\"color: #7fbfbf; text-decoration-color: #7fbfbf\">                    </span>           return <span style=\"color: #800080; text-decoration-color: #800080; font-weight: bold\">fit_method</span><span style=\"font-weight: bold\">(</span>estimator, *args, **kwargs<span style=\"font-weight: bold\">)</span>                        <span style=\"color: #7f7f7f; text-decoration-color: #7f7f7f\">               </span>\n",
       "<span style=\"color: #7fbfbf; text-decoration-color: #7fbfbf\">                    </span>                                                                                <span style=\"color: #7f7f7f; text-decoration-color: #7f7f7f\">               </span>\n",
       "</pre>\n"
      ],
      "text/plain": [
       "\u001b[2;36m                   \u001b[0m\u001b[2;36m \u001b[0m\u001b[31mWARNING \u001b[0m C:\\Users\\dggua\\anaconda3\\envs\\test_env\\lib\\site-packages\\sklearn\\base. \u001b]8;id=180007;file://C:\\Users\\dggua\\anaconda3\\envs\\test_env\\lib\\warnings.py\u001b\\\u001b[2mwarnings.py\u001b[0m\u001b]8;;\u001b\\\u001b[2m:\u001b[0m\u001b]8;id=198336;file://C:\\Users\\dggua\\anaconda3\\envs\\test_env\\lib\\warnings.py#109\u001b\\\u001b[2m109\u001b[0m\u001b]8;;\u001b\\\n",
       "\u001b[2;36m                    \u001b[0m         py:\u001b[1;36m1351\u001b[0m: DataConversionWarning: A column-vector y was passed when a 1d \u001b[2m               \u001b[0m\n",
       "\u001b[2;36m                    \u001b[0m         array was expected. Please change the shape of y to \u001b[1m(\u001b[0mn_samples,\u001b[1m)\u001b[0m, for  \u001b[2m               \u001b[0m\n",
       "\u001b[2;36m                    \u001b[0m         example using \u001b[1;35mravel\u001b[0m\u001b[1m(\u001b[0m\u001b[1m)\u001b[0m.                                                 \u001b[2m               \u001b[0m\n",
       "\u001b[2;36m                    \u001b[0m           return \u001b[1;35mfit_method\u001b[0m\u001b[1m(\u001b[0mestimator, *args, **kwargs\u001b[1m)\u001b[0m                        \u001b[2m               \u001b[0m\n",
       "\u001b[2;36m                    \u001b[0m                                                                                \u001b[2m               \u001b[0m\n"
      ]
     },
     "metadata": {},
     "output_type": "display_data"
    },
    {
     "data": {
      "text/html": [
       "<pre style=\"white-space:pre;overflow-x:auto;line-height:normal;font-family:Menlo,'DejaVu Sans Mono',consolas,'Courier New',monospace\"><span style=\"color: #7fbfbf; text-decoration-color: #7fbfbf\">                    </span><span style=\"color: #800000; text-decoration-color: #800000\">WARNING </span> C:\\Users\\dggua\\anaconda3\\envs\\test_env\\lib\\site-packages\\sklearn\\base. <a href=\"file://C:\\Users\\dggua\\anaconda3\\envs\\test_env\\lib\\warnings.py\" target=\"_blank\"><span style=\"color: #7f7f7f; text-decoration-color: #7f7f7f\">warnings.py</span></a><span style=\"color: #7f7f7f; text-decoration-color: #7f7f7f\">:</span><a href=\"file://C:\\Users\\dggua\\anaconda3\\envs\\test_env\\lib\\warnings.py#109\" target=\"_blank\"><span style=\"color: #7f7f7f; text-decoration-color: #7f7f7f\">109</span></a>\n",
       "<span style=\"color: #7fbfbf; text-decoration-color: #7fbfbf\">                    </span>         py:<span style=\"color: #008080; text-decoration-color: #008080; font-weight: bold\">1351</span>: DataConversionWarning: A column-vector y was passed when a 1d <span style=\"color: #7f7f7f; text-decoration-color: #7f7f7f\">               </span>\n",
       "<span style=\"color: #7fbfbf; text-decoration-color: #7fbfbf\">                    </span>         array was expected. Please change the shape of y to <span style=\"font-weight: bold\">(</span>n_samples,<span style=\"font-weight: bold\">)</span>, for  <span style=\"color: #7f7f7f; text-decoration-color: #7f7f7f\">               </span>\n",
       "<span style=\"color: #7fbfbf; text-decoration-color: #7fbfbf\">                    </span>         example using <span style=\"color: #800080; text-decoration-color: #800080; font-weight: bold\">ravel</span><span style=\"font-weight: bold\">()</span>.                                                 <span style=\"color: #7f7f7f; text-decoration-color: #7f7f7f\">               </span>\n",
       "<span style=\"color: #7fbfbf; text-decoration-color: #7fbfbf\">                    </span>           return <span style=\"color: #800080; text-decoration-color: #800080; font-weight: bold\">fit_method</span><span style=\"font-weight: bold\">(</span>estimator, *args, **kwargs<span style=\"font-weight: bold\">)</span>                        <span style=\"color: #7f7f7f; text-decoration-color: #7f7f7f\">               </span>\n",
       "<span style=\"color: #7fbfbf; text-decoration-color: #7fbfbf\">                    </span>                                                                                <span style=\"color: #7f7f7f; text-decoration-color: #7f7f7f\">               </span>\n",
       "</pre>\n"
      ],
      "text/plain": [
       "\u001b[2;36m                   \u001b[0m\u001b[2;36m \u001b[0m\u001b[31mWARNING \u001b[0m C:\\Users\\dggua\\anaconda3\\envs\\test_env\\lib\\site-packages\\sklearn\\base. \u001b]8;id=693507;file://C:\\Users\\dggua\\anaconda3\\envs\\test_env\\lib\\warnings.py\u001b\\\u001b[2mwarnings.py\u001b[0m\u001b]8;;\u001b\\\u001b[2m:\u001b[0m\u001b]8;id=868500;file://C:\\Users\\dggua\\anaconda3\\envs\\test_env\\lib\\warnings.py#109\u001b\\\u001b[2m109\u001b[0m\u001b]8;;\u001b\\\n",
       "\u001b[2;36m                    \u001b[0m         py:\u001b[1;36m1351\u001b[0m: DataConversionWarning: A column-vector y was passed when a 1d \u001b[2m               \u001b[0m\n",
       "\u001b[2;36m                    \u001b[0m         array was expected. Please change the shape of y to \u001b[1m(\u001b[0mn_samples,\u001b[1m)\u001b[0m, for  \u001b[2m               \u001b[0m\n",
       "\u001b[2;36m                    \u001b[0m         example using \u001b[1;35mravel\u001b[0m\u001b[1m(\u001b[0m\u001b[1m)\u001b[0m.                                                 \u001b[2m               \u001b[0m\n",
       "\u001b[2;36m                    \u001b[0m           return \u001b[1;35mfit_method\u001b[0m\u001b[1m(\u001b[0mestimator, *args, **kwargs\u001b[1m)\u001b[0m                        \u001b[2m               \u001b[0m\n",
       "\u001b[2;36m                    \u001b[0m                                                                                \u001b[2m               \u001b[0m\n"
      ]
     },
     "metadata": {},
     "output_type": "display_data"
    },
    {
     "data": {
      "text/html": [
       "<pre style=\"white-space:pre;overflow-x:auto;line-height:normal;font-family:Menlo,'DejaVu Sans Mono',consolas,'Courier New',monospace\"><span style=\"color: #7fbfbf; text-decoration-color: #7fbfbf\">                    </span><span style=\"color: #800000; text-decoration-color: #800000\">WARNING </span> C:\\Users\\dggua\\anaconda3\\envs\\test_env\\lib\\site-packages\\sklearn\\base. <a href=\"file://C:\\Users\\dggua\\anaconda3\\envs\\test_env\\lib\\warnings.py\" target=\"_blank\"><span style=\"color: #7f7f7f; text-decoration-color: #7f7f7f\">warnings.py</span></a><span style=\"color: #7f7f7f; text-decoration-color: #7f7f7f\">:</span><a href=\"file://C:\\Users\\dggua\\anaconda3\\envs\\test_env\\lib\\warnings.py#109\" target=\"_blank\"><span style=\"color: #7f7f7f; text-decoration-color: #7f7f7f\">109</span></a>\n",
       "<span style=\"color: #7fbfbf; text-decoration-color: #7fbfbf\">                    </span>         py:<span style=\"color: #008080; text-decoration-color: #008080; font-weight: bold\">1351</span>: DataConversionWarning: A column-vector y was passed when a 1d <span style=\"color: #7f7f7f; text-decoration-color: #7f7f7f\">               </span>\n",
       "<span style=\"color: #7fbfbf; text-decoration-color: #7fbfbf\">                    </span>         array was expected. Please change the shape of y to <span style=\"font-weight: bold\">(</span>n_samples,<span style=\"font-weight: bold\">)</span>, for  <span style=\"color: #7f7f7f; text-decoration-color: #7f7f7f\">               </span>\n",
       "<span style=\"color: #7fbfbf; text-decoration-color: #7fbfbf\">                    </span>         example using <span style=\"color: #800080; text-decoration-color: #800080; font-weight: bold\">ravel</span><span style=\"font-weight: bold\">()</span>.                                                 <span style=\"color: #7f7f7f; text-decoration-color: #7f7f7f\">               </span>\n",
       "<span style=\"color: #7fbfbf; text-decoration-color: #7fbfbf\">                    </span>           return <span style=\"color: #800080; text-decoration-color: #800080; font-weight: bold\">fit_method</span><span style=\"font-weight: bold\">(</span>estimator, *args, **kwargs<span style=\"font-weight: bold\">)</span>                        <span style=\"color: #7f7f7f; text-decoration-color: #7f7f7f\">               </span>\n",
       "<span style=\"color: #7fbfbf; text-decoration-color: #7fbfbf\">                    </span>                                                                                <span style=\"color: #7f7f7f; text-decoration-color: #7f7f7f\">               </span>\n",
       "</pre>\n"
      ],
      "text/plain": [
       "\u001b[2;36m                   \u001b[0m\u001b[2;36m \u001b[0m\u001b[31mWARNING \u001b[0m C:\\Users\\dggua\\anaconda3\\envs\\test_env\\lib\\site-packages\\sklearn\\base. \u001b]8;id=59226;file://C:\\Users\\dggua\\anaconda3\\envs\\test_env\\lib\\warnings.py\u001b\\\u001b[2mwarnings.py\u001b[0m\u001b]8;;\u001b\\\u001b[2m:\u001b[0m\u001b]8;id=371411;file://C:\\Users\\dggua\\anaconda3\\envs\\test_env\\lib\\warnings.py#109\u001b\\\u001b[2m109\u001b[0m\u001b]8;;\u001b\\\n",
       "\u001b[2;36m                    \u001b[0m         py:\u001b[1;36m1351\u001b[0m: DataConversionWarning: A column-vector y was passed when a 1d \u001b[2m               \u001b[0m\n",
       "\u001b[2;36m                    \u001b[0m         array was expected. Please change the shape of y to \u001b[1m(\u001b[0mn_samples,\u001b[1m)\u001b[0m, for  \u001b[2m               \u001b[0m\n",
       "\u001b[2;36m                    \u001b[0m         example using \u001b[1;35mravel\u001b[0m\u001b[1m(\u001b[0m\u001b[1m)\u001b[0m.                                                 \u001b[2m               \u001b[0m\n",
       "\u001b[2;36m                    \u001b[0m           return \u001b[1;35mfit_method\u001b[0m\u001b[1m(\u001b[0mestimator, *args, **kwargs\u001b[1m)\u001b[0m                        \u001b[2m               \u001b[0m\n",
       "\u001b[2;36m                    \u001b[0m                                                                                \u001b[2m               \u001b[0m\n"
      ]
     },
     "metadata": {},
     "output_type": "display_data"
    },
    {
     "data": {
      "text/html": [
       "<pre style=\"white-space:pre;overflow-x:auto;line-height:normal;font-family:Menlo,'DejaVu Sans Mono',consolas,'Courier New',monospace\"><span style=\"color: #7fbfbf; text-decoration-color: #7fbfbf\">[06/22/24 16:18:04] </span><span style=\"color: #800000; text-decoration-color: #800000\">WARNING </span> C:\\Users\\dggua\\anaconda3\\envs\\test_env\\lib\\site-packages\\sklearn\\base. <a href=\"file://C:\\Users\\dggua\\anaconda3\\envs\\test_env\\lib\\warnings.py\" target=\"_blank\"><span style=\"color: #7f7f7f; text-decoration-color: #7f7f7f\">warnings.py</span></a><span style=\"color: #7f7f7f; text-decoration-color: #7f7f7f\">:</span><a href=\"file://C:\\Users\\dggua\\anaconda3\\envs\\test_env\\lib\\warnings.py#109\" target=\"_blank\"><span style=\"color: #7f7f7f; text-decoration-color: #7f7f7f\">109</span></a>\n",
       "<span style=\"color: #7fbfbf; text-decoration-color: #7fbfbf\">                    </span>         py:<span style=\"color: #008080; text-decoration-color: #008080; font-weight: bold\">1351</span>: DataConversionWarning: A column-vector y was passed when a 1d <span style=\"color: #7f7f7f; text-decoration-color: #7f7f7f\">               </span>\n",
       "<span style=\"color: #7fbfbf; text-decoration-color: #7fbfbf\">                    </span>         array was expected. Please change the shape of y to <span style=\"font-weight: bold\">(</span>n_samples,<span style=\"font-weight: bold\">)</span>, for  <span style=\"color: #7f7f7f; text-decoration-color: #7f7f7f\">               </span>\n",
       "<span style=\"color: #7fbfbf; text-decoration-color: #7fbfbf\">                    </span>         example using <span style=\"color: #800080; text-decoration-color: #800080; font-weight: bold\">ravel</span><span style=\"font-weight: bold\">()</span>.                                                 <span style=\"color: #7f7f7f; text-decoration-color: #7f7f7f\">               </span>\n",
       "<span style=\"color: #7fbfbf; text-decoration-color: #7fbfbf\">                    </span>           return <span style=\"color: #800080; text-decoration-color: #800080; font-weight: bold\">fit_method</span><span style=\"font-weight: bold\">(</span>estimator, *args, **kwargs<span style=\"font-weight: bold\">)</span>                        <span style=\"color: #7f7f7f; text-decoration-color: #7f7f7f\">               </span>\n",
       "<span style=\"color: #7fbfbf; text-decoration-color: #7fbfbf\">                    </span>                                                                                <span style=\"color: #7f7f7f; text-decoration-color: #7f7f7f\">               </span>\n",
       "</pre>\n"
      ],
      "text/plain": [
       "\u001b[2;36m[06/22/24 16:18:04]\u001b[0m\u001b[2;36m \u001b[0m\u001b[31mWARNING \u001b[0m C:\\Users\\dggua\\anaconda3\\envs\\test_env\\lib\\site-packages\\sklearn\\base. \u001b]8;id=867155;file://C:\\Users\\dggua\\anaconda3\\envs\\test_env\\lib\\warnings.py\u001b\\\u001b[2mwarnings.py\u001b[0m\u001b]8;;\u001b\\\u001b[2m:\u001b[0m\u001b]8;id=948124;file://C:\\Users\\dggua\\anaconda3\\envs\\test_env\\lib\\warnings.py#109\u001b\\\u001b[2m109\u001b[0m\u001b]8;;\u001b\\\n",
       "\u001b[2;36m                    \u001b[0m         py:\u001b[1;36m1351\u001b[0m: DataConversionWarning: A column-vector y was passed when a 1d \u001b[2m               \u001b[0m\n",
       "\u001b[2;36m                    \u001b[0m         array was expected. Please change the shape of y to \u001b[1m(\u001b[0mn_samples,\u001b[1m)\u001b[0m, for  \u001b[2m               \u001b[0m\n",
       "\u001b[2;36m                    \u001b[0m         example using \u001b[1;35mravel\u001b[0m\u001b[1m(\u001b[0m\u001b[1m)\u001b[0m.                                                 \u001b[2m               \u001b[0m\n",
       "\u001b[2;36m                    \u001b[0m           return \u001b[1;35mfit_method\u001b[0m\u001b[1m(\u001b[0mestimator, *args, **kwargs\u001b[1m)\u001b[0m                        \u001b[2m               \u001b[0m\n",
       "\u001b[2;36m                    \u001b[0m                                                                                \u001b[2m               \u001b[0m\n"
      ]
     },
     "metadata": {},
     "output_type": "display_data"
    },
    {
     "data": {
      "text/html": [
       "<pre style=\"white-space:pre;overflow-x:auto;line-height:normal;font-family:Menlo,'DejaVu Sans Mono',consolas,'Courier New',monospace\"><span style=\"color: #7fbfbf; text-decoration-color: #7fbfbf\">                    </span><span style=\"color: #800000; text-decoration-color: #800000\">WARNING </span> C:\\Users\\dggua\\anaconda3\\envs\\test_env\\lib\\site-packages\\sklearn\\base. <a href=\"file://C:\\Users\\dggua\\anaconda3\\envs\\test_env\\lib\\warnings.py\" target=\"_blank\"><span style=\"color: #7f7f7f; text-decoration-color: #7f7f7f\">warnings.py</span></a><span style=\"color: #7f7f7f; text-decoration-color: #7f7f7f\">:</span><a href=\"file://C:\\Users\\dggua\\anaconda3\\envs\\test_env\\lib\\warnings.py#109\" target=\"_blank\"><span style=\"color: #7f7f7f; text-decoration-color: #7f7f7f\">109</span></a>\n",
       "<span style=\"color: #7fbfbf; text-decoration-color: #7fbfbf\">                    </span>         py:<span style=\"color: #008080; text-decoration-color: #008080; font-weight: bold\">1351</span>: DataConversionWarning: A column-vector y was passed when a 1d <span style=\"color: #7f7f7f; text-decoration-color: #7f7f7f\">               </span>\n",
       "<span style=\"color: #7fbfbf; text-decoration-color: #7fbfbf\">                    </span>         array was expected. Please change the shape of y to <span style=\"font-weight: bold\">(</span>n_samples,<span style=\"font-weight: bold\">)</span>, for  <span style=\"color: #7f7f7f; text-decoration-color: #7f7f7f\">               </span>\n",
       "<span style=\"color: #7fbfbf; text-decoration-color: #7fbfbf\">                    </span>         example using <span style=\"color: #800080; text-decoration-color: #800080; font-weight: bold\">ravel</span><span style=\"font-weight: bold\">()</span>.                                                 <span style=\"color: #7f7f7f; text-decoration-color: #7f7f7f\">               </span>\n",
       "<span style=\"color: #7fbfbf; text-decoration-color: #7fbfbf\">                    </span>           return <span style=\"color: #800080; text-decoration-color: #800080; font-weight: bold\">fit_method</span><span style=\"font-weight: bold\">(</span>estimator, *args, **kwargs<span style=\"font-weight: bold\">)</span>                        <span style=\"color: #7f7f7f; text-decoration-color: #7f7f7f\">               </span>\n",
       "<span style=\"color: #7fbfbf; text-decoration-color: #7fbfbf\">                    </span>                                                                                <span style=\"color: #7f7f7f; text-decoration-color: #7f7f7f\">               </span>\n",
       "</pre>\n"
      ],
      "text/plain": [
       "\u001b[2;36m                   \u001b[0m\u001b[2;36m \u001b[0m\u001b[31mWARNING \u001b[0m C:\\Users\\dggua\\anaconda3\\envs\\test_env\\lib\\site-packages\\sklearn\\base. \u001b]8;id=837312;file://C:\\Users\\dggua\\anaconda3\\envs\\test_env\\lib\\warnings.py\u001b\\\u001b[2mwarnings.py\u001b[0m\u001b]8;;\u001b\\\u001b[2m:\u001b[0m\u001b]8;id=314155;file://C:\\Users\\dggua\\anaconda3\\envs\\test_env\\lib\\warnings.py#109\u001b\\\u001b[2m109\u001b[0m\u001b]8;;\u001b\\\n",
       "\u001b[2;36m                    \u001b[0m         py:\u001b[1;36m1351\u001b[0m: DataConversionWarning: A column-vector y was passed when a 1d \u001b[2m               \u001b[0m\n",
       "\u001b[2;36m                    \u001b[0m         array was expected. Please change the shape of y to \u001b[1m(\u001b[0mn_samples,\u001b[1m)\u001b[0m, for  \u001b[2m               \u001b[0m\n",
       "\u001b[2;36m                    \u001b[0m         example using \u001b[1;35mravel\u001b[0m\u001b[1m(\u001b[0m\u001b[1m)\u001b[0m.                                                 \u001b[2m               \u001b[0m\n",
       "\u001b[2;36m                    \u001b[0m           return \u001b[1;35mfit_method\u001b[0m\u001b[1m(\u001b[0mestimator, *args, **kwargs\u001b[1m)\u001b[0m                        \u001b[2m               \u001b[0m\n",
       "\u001b[2;36m                    \u001b[0m                                                                                \u001b[2m               \u001b[0m\n"
      ]
     },
     "metadata": {},
     "output_type": "display_data"
    },
    {
     "data": {
      "text/html": [
       "<pre style=\"white-space:pre;overflow-x:auto;line-height:normal;font-family:Menlo,'DejaVu Sans Mono',consolas,'Courier New',monospace\"><span style=\"color: #7fbfbf; text-decoration-color: #7fbfbf\">                    </span><span style=\"color: #800000; text-decoration-color: #800000\">WARNING </span> C:\\Users\\dggua\\anaconda3\\envs\\test_env\\lib\\site-packages\\sklearn\\base. <a href=\"file://C:\\Users\\dggua\\anaconda3\\envs\\test_env\\lib\\warnings.py\" target=\"_blank\"><span style=\"color: #7f7f7f; text-decoration-color: #7f7f7f\">warnings.py</span></a><span style=\"color: #7f7f7f; text-decoration-color: #7f7f7f\">:</span><a href=\"file://C:\\Users\\dggua\\anaconda3\\envs\\test_env\\lib\\warnings.py#109\" target=\"_blank\"><span style=\"color: #7f7f7f; text-decoration-color: #7f7f7f\">109</span></a>\n",
       "<span style=\"color: #7fbfbf; text-decoration-color: #7fbfbf\">                    </span>         py:<span style=\"color: #008080; text-decoration-color: #008080; font-weight: bold\">1351</span>: DataConversionWarning: A column-vector y was passed when a 1d <span style=\"color: #7f7f7f; text-decoration-color: #7f7f7f\">               </span>\n",
       "<span style=\"color: #7fbfbf; text-decoration-color: #7fbfbf\">                    </span>         array was expected. Please change the shape of y to <span style=\"font-weight: bold\">(</span>n_samples,<span style=\"font-weight: bold\">)</span>, for  <span style=\"color: #7f7f7f; text-decoration-color: #7f7f7f\">               </span>\n",
       "<span style=\"color: #7fbfbf; text-decoration-color: #7fbfbf\">                    </span>         example using <span style=\"color: #800080; text-decoration-color: #800080; font-weight: bold\">ravel</span><span style=\"font-weight: bold\">()</span>.                                                 <span style=\"color: #7f7f7f; text-decoration-color: #7f7f7f\">               </span>\n",
       "<span style=\"color: #7fbfbf; text-decoration-color: #7fbfbf\">                    </span>           return <span style=\"color: #800080; text-decoration-color: #800080; font-weight: bold\">fit_method</span><span style=\"font-weight: bold\">(</span>estimator, *args, **kwargs<span style=\"font-weight: bold\">)</span>                        <span style=\"color: #7f7f7f; text-decoration-color: #7f7f7f\">               </span>\n",
       "<span style=\"color: #7fbfbf; text-decoration-color: #7fbfbf\">                    </span>                                                                                <span style=\"color: #7f7f7f; text-decoration-color: #7f7f7f\">               </span>\n",
       "</pre>\n"
      ],
      "text/plain": [
       "\u001b[2;36m                   \u001b[0m\u001b[2;36m \u001b[0m\u001b[31mWARNING \u001b[0m C:\\Users\\dggua\\anaconda3\\envs\\test_env\\lib\\site-packages\\sklearn\\base. \u001b]8;id=950955;file://C:\\Users\\dggua\\anaconda3\\envs\\test_env\\lib\\warnings.py\u001b\\\u001b[2mwarnings.py\u001b[0m\u001b]8;;\u001b\\\u001b[2m:\u001b[0m\u001b]8;id=420464;file://C:\\Users\\dggua\\anaconda3\\envs\\test_env\\lib\\warnings.py#109\u001b\\\u001b[2m109\u001b[0m\u001b]8;;\u001b\\\n",
       "\u001b[2;36m                    \u001b[0m         py:\u001b[1;36m1351\u001b[0m: DataConversionWarning: A column-vector y was passed when a 1d \u001b[2m               \u001b[0m\n",
       "\u001b[2;36m                    \u001b[0m         array was expected. Please change the shape of y to \u001b[1m(\u001b[0mn_samples,\u001b[1m)\u001b[0m, for  \u001b[2m               \u001b[0m\n",
       "\u001b[2;36m                    \u001b[0m         example using \u001b[1;35mravel\u001b[0m\u001b[1m(\u001b[0m\u001b[1m)\u001b[0m.                                                 \u001b[2m               \u001b[0m\n",
       "\u001b[2;36m                    \u001b[0m           return \u001b[1;35mfit_method\u001b[0m\u001b[1m(\u001b[0mestimator, *args, **kwargs\u001b[1m)\u001b[0m                        \u001b[2m               \u001b[0m\n",
       "\u001b[2;36m                    \u001b[0m                                                                                \u001b[2m               \u001b[0m\n"
      ]
     },
     "metadata": {},
     "output_type": "display_data"
    },
    {
     "data": {
      "text/html": [
       "<pre style=\"white-space:pre;overflow-x:auto;line-height:normal;font-family:Menlo,'DejaVu Sans Mono',consolas,'Courier New',monospace\"><span style=\"color: #7fbfbf; text-decoration-color: #7fbfbf\">                    </span><span style=\"color: #800000; text-decoration-color: #800000\">WARNING </span> C:\\Users\\dggua\\anaconda3\\envs\\test_env\\lib\\site-packages\\sklearn\\base. <a href=\"file://C:\\Users\\dggua\\anaconda3\\envs\\test_env\\lib\\warnings.py\" target=\"_blank\"><span style=\"color: #7f7f7f; text-decoration-color: #7f7f7f\">warnings.py</span></a><span style=\"color: #7f7f7f; text-decoration-color: #7f7f7f\">:</span><a href=\"file://C:\\Users\\dggua\\anaconda3\\envs\\test_env\\lib\\warnings.py#109\" target=\"_blank\"><span style=\"color: #7f7f7f; text-decoration-color: #7f7f7f\">109</span></a>\n",
       "<span style=\"color: #7fbfbf; text-decoration-color: #7fbfbf\">                    </span>         py:<span style=\"color: #008080; text-decoration-color: #008080; font-weight: bold\">1351</span>: DataConversionWarning: A column-vector y was passed when a 1d <span style=\"color: #7f7f7f; text-decoration-color: #7f7f7f\">               </span>\n",
       "<span style=\"color: #7fbfbf; text-decoration-color: #7fbfbf\">                    </span>         array was expected. Please change the shape of y to <span style=\"font-weight: bold\">(</span>n_samples,<span style=\"font-weight: bold\">)</span>, for  <span style=\"color: #7f7f7f; text-decoration-color: #7f7f7f\">               </span>\n",
       "<span style=\"color: #7fbfbf; text-decoration-color: #7fbfbf\">                    </span>         example using <span style=\"color: #800080; text-decoration-color: #800080; font-weight: bold\">ravel</span><span style=\"font-weight: bold\">()</span>.                                                 <span style=\"color: #7f7f7f; text-decoration-color: #7f7f7f\">               </span>\n",
       "<span style=\"color: #7fbfbf; text-decoration-color: #7fbfbf\">                    </span>           return <span style=\"color: #800080; text-decoration-color: #800080; font-weight: bold\">fit_method</span><span style=\"font-weight: bold\">(</span>estimator, *args, **kwargs<span style=\"font-weight: bold\">)</span>                        <span style=\"color: #7f7f7f; text-decoration-color: #7f7f7f\">               </span>\n",
       "<span style=\"color: #7fbfbf; text-decoration-color: #7fbfbf\">                    </span>                                                                                <span style=\"color: #7f7f7f; text-decoration-color: #7f7f7f\">               </span>\n",
       "</pre>\n"
      ],
      "text/plain": [
       "\u001b[2;36m                   \u001b[0m\u001b[2;36m \u001b[0m\u001b[31mWARNING \u001b[0m C:\\Users\\dggua\\anaconda3\\envs\\test_env\\lib\\site-packages\\sklearn\\base. \u001b]8;id=838975;file://C:\\Users\\dggua\\anaconda3\\envs\\test_env\\lib\\warnings.py\u001b\\\u001b[2mwarnings.py\u001b[0m\u001b]8;;\u001b\\\u001b[2m:\u001b[0m\u001b]8;id=2915;file://C:\\Users\\dggua\\anaconda3\\envs\\test_env\\lib\\warnings.py#109\u001b\\\u001b[2m109\u001b[0m\u001b]8;;\u001b\\\n",
       "\u001b[2;36m                    \u001b[0m         py:\u001b[1;36m1351\u001b[0m: DataConversionWarning: A column-vector y was passed when a 1d \u001b[2m               \u001b[0m\n",
       "\u001b[2;36m                    \u001b[0m         array was expected. Please change the shape of y to \u001b[1m(\u001b[0mn_samples,\u001b[1m)\u001b[0m, for  \u001b[2m               \u001b[0m\n",
       "\u001b[2;36m                    \u001b[0m         example using \u001b[1;35mravel\u001b[0m\u001b[1m(\u001b[0m\u001b[1m)\u001b[0m.                                                 \u001b[2m               \u001b[0m\n",
       "\u001b[2;36m                    \u001b[0m           return \u001b[1;35mfit_method\u001b[0m\u001b[1m(\u001b[0mestimator, *args, **kwargs\u001b[1m)\u001b[0m                        \u001b[2m               \u001b[0m\n",
       "\u001b[2;36m                    \u001b[0m                                                                                \u001b[2m               \u001b[0m\n"
      ]
     },
     "metadata": {},
     "output_type": "display_data"
    },
    {
     "data": {
      "text/html": [
       "<pre style=\"white-space:pre;overflow-x:auto;line-height:normal;font-family:Menlo,'DejaVu Sans Mono',consolas,'Courier New',monospace\"><span style=\"color: #7fbfbf; text-decoration-color: #7fbfbf\">                    </span><span style=\"color: #800000; text-decoration-color: #800000\">WARNING </span> C:\\Users\\dggua\\anaconda3\\envs\\test_env\\lib\\site-packages\\sklearn\\base. <a href=\"file://C:\\Users\\dggua\\anaconda3\\envs\\test_env\\lib\\warnings.py\" target=\"_blank\"><span style=\"color: #7f7f7f; text-decoration-color: #7f7f7f\">warnings.py</span></a><span style=\"color: #7f7f7f; text-decoration-color: #7f7f7f\">:</span><a href=\"file://C:\\Users\\dggua\\anaconda3\\envs\\test_env\\lib\\warnings.py#109\" target=\"_blank\"><span style=\"color: #7f7f7f; text-decoration-color: #7f7f7f\">109</span></a>\n",
       "<span style=\"color: #7fbfbf; text-decoration-color: #7fbfbf\">                    </span>         py:<span style=\"color: #008080; text-decoration-color: #008080; font-weight: bold\">1351</span>: DataConversionWarning: A column-vector y was passed when a 1d <span style=\"color: #7f7f7f; text-decoration-color: #7f7f7f\">               </span>\n",
       "<span style=\"color: #7fbfbf; text-decoration-color: #7fbfbf\">                    </span>         array was expected. Please change the shape of y to <span style=\"font-weight: bold\">(</span>n_samples,<span style=\"font-weight: bold\">)</span>, for  <span style=\"color: #7f7f7f; text-decoration-color: #7f7f7f\">               </span>\n",
       "<span style=\"color: #7fbfbf; text-decoration-color: #7fbfbf\">                    </span>         example using <span style=\"color: #800080; text-decoration-color: #800080; font-weight: bold\">ravel</span><span style=\"font-weight: bold\">()</span>.                                                 <span style=\"color: #7f7f7f; text-decoration-color: #7f7f7f\">               </span>\n",
       "<span style=\"color: #7fbfbf; text-decoration-color: #7fbfbf\">                    </span>           return <span style=\"color: #800080; text-decoration-color: #800080; font-weight: bold\">fit_method</span><span style=\"font-weight: bold\">(</span>estimator, *args, **kwargs<span style=\"font-weight: bold\">)</span>                        <span style=\"color: #7f7f7f; text-decoration-color: #7f7f7f\">               </span>\n",
       "<span style=\"color: #7fbfbf; text-decoration-color: #7fbfbf\">                    </span>                                                                                <span style=\"color: #7f7f7f; text-decoration-color: #7f7f7f\">               </span>\n",
       "</pre>\n"
      ],
      "text/plain": [
       "\u001b[2;36m                   \u001b[0m\u001b[2;36m \u001b[0m\u001b[31mWARNING \u001b[0m C:\\Users\\dggua\\anaconda3\\envs\\test_env\\lib\\site-packages\\sklearn\\base. \u001b]8;id=212777;file://C:\\Users\\dggua\\anaconda3\\envs\\test_env\\lib\\warnings.py\u001b\\\u001b[2mwarnings.py\u001b[0m\u001b]8;;\u001b\\\u001b[2m:\u001b[0m\u001b]8;id=137783;file://C:\\Users\\dggua\\anaconda3\\envs\\test_env\\lib\\warnings.py#109\u001b\\\u001b[2m109\u001b[0m\u001b]8;;\u001b\\\n",
       "\u001b[2;36m                    \u001b[0m         py:\u001b[1;36m1351\u001b[0m: DataConversionWarning: A column-vector y was passed when a 1d \u001b[2m               \u001b[0m\n",
       "\u001b[2;36m                    \u001b[0m         array was expected. Please change the shape of y to \u001b[1m(\u001b[0mn_samples,\u001b[1m)\u001b[0m, for  \u001b[2m               \u001b[0m\n",
       "\u001b[2;36m                    \u001b[0m         example using \u001b[1;35mravel\u001b[0m\u001b[1m(\u001b[0m\u001b[1m)\u001b[0m.                                                 \u001b[2m               \u001b[0m\n",
       "\u001b[2;36m                    \u001b[0m           return \u001b[1;35mfit_method\u001b[0m\u001b[1m(\u001b[0mestimator, *args, **kwargs\u001b[1m)\u001b[0m                        \u001b[2m               \u001b[0m\n",
       "\u001b[2;36m                    \u001b[0m                                                                                \u001b[2m               \u001b[0m\n"
      ]
     },
     "metadata": {},
     "output_type": "display_data"
    },
    {
     "data": {
      "text/html": [
       "<pre style=\"white-space:pre;overflow-x:auto;line-height:normal;font-family:Menlo,'DejaVu Sans Mono',consolas,'Courier New',monospace\"><span style=\"color: #7fbfbf; text-decoration-color: #7fbfbf\">                    </span><span style=\"color: #800000; text-decoration-color: #800000\">WARNING </span> C:\\Users\\dggua\\anaconda3\\envs\\test_env\\lib\\site-packages\\sklearn\\base. <a href=\"file://C:\\Users\\dggua\\anaconda3\\envs\\test_env\\lib\\warnings.py\" target=\"_blank\"><span style=\"color: #7f7f7f; text-decoration-color: #7f7f7f\">warnings.py</span></a><span style=\"color: #7f7f7f; text-decoration-color: #7f7f7f\">:</span><a href=\"file://C:\\Users\\dggua\\anaconda3\\envs\\test_env\\lib\\warnings.py#109\" target=\"_blank\"><span style=\"color: #7f7f7f; text-decoration-color: #7f7f7f\">109</span></a>\n",
       "<span style=\"color: #7fbfbf; text-decoration-color: #7fbfbf\">                    </span>         py:<span style=\"color: #008080; text-decoration-color: #008080; font-weight: bold\">1351</span>: DataConversionWarning: A column-vector y was passed when a 1d <span style=\"color: #7f7f7f; text-decoration-color: #7f7f7f\">               </span>\n",
       "<span style=\"color: #7fbfbf; text-decoration-color: #7fbfbf\">                    </span>         array was expected. Please change the shape of y to <span style=\"font-weight: bold\">(</span>n_samples,<span style=\"font-weight: bold\">)</span>, for  <span style=\"color: #7f7f7f; text-decoration-color: #7f7f7f\">               </span>\n",
       "<span style=\"color: #7fbfbf; text-decoration-color: #7fbfbf\">                    </span>         example using <span style=\"color: #800080; text-decoration-color: #800080; font-weight: bold\">ravel</span><span style=\"font-weight: bold\">()</span>.                                                 <span style=\"color: #7f7f7f; text-decoration-color: #7f7f7f\">               </span>\n",
       "<span style=\"color: #7fbfbf; text-decoration-color: #7fbfbf\">                    </span>           return <span style=\"color: #800080; text-decoration-color: #800080; font-weight: bold\">fit_method</span><span style=\"font-weight: bold\">(</span>estimator, *args, **kwargs<span style=\"font-weight: bold\">)</span>                        <span style=\"color: #7f7f7f; text-decoration-color: #7f7f7f\">               </span>\n",
       "<span style=\"color: #7fbfbf; text-decoration-color: #7fbfbf\">                    </span>                                                                                <span style=\"color: #7f7f7f; text-decoration-color: #7f7f7f\">               </span>\n",
       "</pre>\n"
      ],
      "text/plain": [
       "\u001b[2;36m                   \u001b[0m\u001b[2;36m \u001b[0m\u001b[31mWARNING \u001b[0m C:\\Users\\dggua\\anaconda3\\envs\\test_env\\lib\\site-packages\\sklearn\\base. \u001b]8;id=721489;file://C:\\Users\\dggua\\anaconda3\\envs\\test_env\\lib\\warnings.py\u001b\\\u001b[2mwarnings.py\u001b[0m\u001b]8;;\u001b\\\u001b[2m:\u001b[0m\u001b]8;id=201041;file://C:\\Users\\dggua\\anaconda3\\envs\\test_env\\lib\\warnings.py#109\u001b\\\u001b[2m109\u001b[0m\u001b]8;;\u001b\\\n",
       "\u001b[2;36m                    \u001b[0m         py:\u001b[1;36m1351\u001b[0m: DataConversionWarning: A column-vector y was passed when a 1d \u001b[2m               \u001b[0m\n",
       "\u001b[2;36m                    \u001b[0m         array was expected. Please change the shape of y to \u001b[1m(\u001b[0mn_samples,\u001b[1m)\u001b[0m, for  \u001b[2m               \u001b[0m\n",
       "\u001b[2;36m                    \u001b[0m         example using \u001b[1;35mravel\u001b[0m\u001b[1m(\u001b[0m\u001b[1m)\u001b[0m.                                                 \u001b[2m               \u001b[0m\n",
       "\u001b[2;36m                    \u001b[0m           return \u001b[1;35mfit_method\u001b[0m\u001b[1m(\u001b[0mestimator, *args, **kwargs\u001b[1m)\u001b[0m                        \u001b[2m               \u001b[0m\n",
       "\u001b[2;36m                    \u001b[0m                                                                                \u001b[2m               \u001b[0m\n"
      ]
     },
     "metadata": {},
     "output_type": "display_data"
    },
    {
     "data": {
      "text/html": [
       "<pre style=\"white-space:pre;overflow-x:auto;line-height:normal;font-family:Menlo,'DejaVu Sans Mono',consolas,'Courier New',monospace\"><span style=\"color: #7fbfbf; text-decoration-color: #7fbfbf\">                    </span><span style=\"color: #800000; text-decoration-color: #800000\">WARNING </span> C:\\Users\\dggua\\anaconda3\\envs\\test_env\\lib\\site-packages\\sklearn\\base. <a href=\"file://C:\\Users\\dggua\\anaconda3\\envs\\test_env\\lib\\warnings.py\" target=\"_blank\"><span style=\"color: #7f7f7f; text-decoration-color: #7f7f7f\">warnings.py</span></a><span style=\"color: #7f7f7f; text-decoration-color: #7f7f7f\">:</span><a href=\"file://C:\\Users\\dggua\\anaconda3\\envs\\test_env\\lib\\warnings.py#109\" target=\"_blank\"><span style=\"color: #7f7f7f; text-decoration-color: #7f7f7f\">109</span></a>\n",
       "<span style=\"color: #7fbfbf; text-decoration-color: #7fbfbf\">                    </span>         py:<span style=\"color: #008080; text-decoration-color: #008080; font-weight: bold\">1351</span>: DataConversionWarning: A column-vector y was passed when a 1d <span style=\"color: #7f7f7f; text-decoration-color: #7f7f7f\">               </span>\n",
       "<span style=\"color: #7fbfbf; text-decoration-color: #7fbfbf\">                    </span>         array was expected. Please change the shape of y to <span style=\"font-weight: bold\">(</span>n_samples,<span style=\"font-weight: bold\">)</span>, for  <span style=\"color: #7f7f7f; text-decoration-color: #7f7f7f\">               </span>\n",
       "<span style=\"color: #7fbfbf; text-decoration-color: #7fbfbf\">                    </span>         example using <span style=\"color: #800080; text-decoration-color: #800080; font-weight: bold\">ravel</span><span style=\"font-weight: bold\">()</span>.                                                 <span style=\"color: #7f7f7f; text-decoration-color: #7f7f7f\">               </span>\n",
       "<span style=\"color: #7fbfbf; text-decoration-color: #7fbfbf\">                    </span>           return <span style=\"color: #800080; text-decoration-color: #800080; font-weight: bold\">fit_method</span><span style=\"font-weight: bold\">(</span>estimator, *args, **kwargs<span style=\"font-weight: bold\">)</span>                        <span style=\"color: #7f7f7f; text-decoration-color: #7f7f7f\">               </span>\n",
       "<span style=\"color: #7fbfbf; text-decoration-color: #7fbfbf\">                    </span>                                                                                <span style=\"color: #7f7f7f; text-decoration-color: #7f7f7f\">               </span>\n",
       "</pre>\n"
      ],
      "text/plain": [
       "\u001b[2;36m                   \u001b[0m\u001b[2;36m \u001b[0m\u001b[31mWARNING \u001b[0m C:\\Users\\dggua\\anaconda3\\envs\\test_env\\lib\\site-packages\\sklearn\\base. \u001b]8;id=134415;file://C:\\Users\\dggua\\anaconda3\\envs\\test_env\\lib\\warnings.py\u001b\\\u001b[2mwarnings.py\u001b[0m\u001b]8;;\u001b\\\u001b[2m:\u001b[0m\u001b]8;id=397615;file://C:\\Users\\dggua\\anaconda3\\envs\\test_env\\lib\\warnings.py#109\u001b\\\u001b[2m109\u001b[0m\u001b]8;;\u001b\\\n",
       "\u001b[2;36m                    \u001b[0m         py:\u001b[1;36m1351\u001b[0m: DataConversionWarning: A column-vector y was passed when a 1d \u001b[2m               \u001b[0m\n",
       "\u001b[2;36m                    \u001b[0m         array was expected. Please change the shape of y to \u001b[1m(\u001b[0mn_samples,\u001b[1m)\u001b[0m, for  \u001b[2m               \u001b[0m\n",
       "\u001b[2;36m                    \u001b[0m         example using \u001b[1;35mravel\u001b[0m\u001b[1m(\u001b[0m\u001b[1m)\u001b[0m.                                                 \u001b[2m               \u001b[0m\n",
       "\u001b[2;36m                    \u001b[0m           return \u001b[1;35mfit_method\u001b[0m\u001b[1m(\u001b[0mestimator, *args, **kwargs\u001b[1m)\u001b[0m                        \u001b[2m               \u001b[0m\n",
       "\u001b[2;36m                    \u001b[0m                                                                                \u001b[2m               \u001b[0m\n"
      ]
     },
     "metadata": {},
     "output_type": "display_data"
    },
    {
     "data": {
      "text/html": [
       "<pre style=\"white-space:pre;overflow-x:auto;line-height:normal;font-family:Menlo,'DejaVu Sans Mono',consolas,'Courier New',monospace\"><span style=\"color: #7fbfbf; text-decoration-color: #7fbfbf\">                    </span><span style=\"color: #800000; text-decoration-color: #800000\">WARNING </span> C:\\Users\\dggua\\anaconda3\\envs\\test_env\\lib\\site-packages\\sklearn\\base. <a href=\"file://C:\\Users\\dggua\\anaconda3\\envs\\test_env\\lib\\warnings.py\" target=\"_blank\"><span style=\"color: #7f7f7f; text-decoration-color: #7f7f7f\">warnings.py</span></a><span style=\"color: #7f7f7f; text-decoration-color: #7f7f7f\">:</span><a href=\"file://C:\\Users\\dggua\\anaconda3\\envs\\test_env\\lib\\warnings.py#109\" target=\"_blank\"><span style=\"color: #7f7f7f; text-decoration-color: #7f7f7f\">109</span></a>\n",
       "<span style=\"color: #7fbfbf; text-decoration-color: #7fbfbf\">                    </span>         py:<span style=\"color: #008080; text-decoration-color: #008080; font-weight: bold\">1351</span>: DataConversionWarning: A column-vector y was passed when a 1d <span style=\"color: #7f7f7f; text-decoration-color: #7f7f7f\">               </span>\n",
       "<span style=\"color: #7fbfbf; text-decoration-color: #7fbfbf\">                    </span>         array was expected. Please change the shape of y to <span style=\"font-weight: bold\">(</span>n_samples,<span style=\"font-weight: bold\">)</span>, for  <span style=\"color: #7f7f7f; text-decoration-color: #7f7f7f\">               </span>\n",
       "<span style=\"color: #7fbfbf; text-decoration-color: #7fbfbf\">                    </span>         example using <span style=\"color: #800080; text-decoration-color: #800080; font-weight: bold\">ravel</span><span style=\"font-weight: bold\">()</span>.                                                 <span style=\"color: #7f7f7f; text-decoration-color: #7f7f7f\">               </span>\n",
       "<span style=\"color: #7fbfbf; text-decoration-color: #7fbfbf\">                    </span>           return <span style=\"color: #800080; text-decoration-color: #800080; font-weight: bold\">fit_method</span><span style=\"font-weight: bold\">(</span>estimator, *args, **kwargs<span style=\"font-weight: bold\">)</span>                        <span style=\"color: #7f7f7f; text-decoration-color: #7f7f7f\">               </span>\n",
       "<span style=\"color: #7fbfbf; text-decoration-color: #7fbfbf\">                    </span>                                                                                <span style=\"color: #7f7f7f; text-decoration-color: #7f7f7f\">               </span>\n",
       "</pre>\n"
      ],
      "text/plain": [
       "\u001b[2;36m                   \u001b[0m\u001b[2;36m \u001b[0m\u001b[31mWARNING \u001b[0m C:\\Users\\dggua\\anaconda3\\envs\\test_env\\lib\\site-packages\\sklearn\\base. \u001b]8;id=132457;file://C:\\Users\\dggua\\anaconda3\\envs\\test_env\\lib\\warnings.py\u001b\\\u001b[2mwarnings.py\u001b[0m\u001b]8;;\u001b\\\u001b[2m:\u001b[0m\u001b]8;id=186422;file://C:\\Users\\dggua\\anaconda3\\envs\\test_env\\lib\\warnings.py#109\u001b\\\u001b[2m109\u001b[0m\u001b]8;;\u001b\\\n",
       "\u001b[2;36m                    \u001b[0m         py:\u001b[1;36m1351\u001b[0m: DataConversionWarning: A column-vector y was passed when a 1d \u001b[2m               \u001b[0m\n",
       "\u001b[2;36m                    \u001b[0m         array was expected. Please change the shape of y to \u001b[1m(\u001b[0mn_samples,\u001b[1m)\u001b[0m, for  \u001b[2m               \u001b[0m\n",
       "\u001b[2;36m                    \u001b[0m         example using \u001b[1;35mravel\u001b[0m\u001b[1m(\u001b[0m\u001b[1m)\u001b[0m.                                                 \u001b[2m               \u001b[0m\n",
       "\u001b[2;36m                    \u001b[0m           return \u001b[1;35mfit_method\u001b[0m\u001b[1m(\u001b[0mestimator, *args, **kwargs\u001b[1m)\u001b[0m                        \u001b[2m               \u001b[0m\n",
       "\u001b[2;36m                    \u001b[0m                                                                                \u001b[2m               \u001b[0m\n"
      ]
     },
     "metadata": {},
     "output_type": "display_data"
    },
    {
     "data": {
      "text/html": [
       "<pre style=\"white-space:pre;overflow-x:auto;line-height:normal;font-family:Menlo,'DejaVu Sans Mono',consolas,'Courier New',monospace\"><span style=\"color: #7fbfbf; text-decoration-color: #7fbfbf\">                    </span><span style=\"color: #800000; text-decoration-color: #800000\">WARNING </span> C:\\Users\\dggua\\anaconda3\\envs\\test_env\\lib\\site-packages\\sklearn\\base. <a href=\"file://C:\\Users\\dggua\\anaconda3\\envs\\test_env\\lib\\warnings.py\" target=\"_blank\"><span style=\"color: #7f7f7f; text-decoration-color: #7f7f7f\">warnings.py</span></a><span style=\"color: #7f7f7f; text-decoration-color: #7f7f7f\">:</span><a href=\"file://C:\\Users\\dggua\\anaconda3\\envs\\test_env\\lib\\warnings.py#109\" target=\"_blank\"><span style=\"color: #7f7f7f; text-decoration-color: #7f7f7f\">109</span></a>\n",
       "<span style=\"color: #7fbfbf; text-decoration-color: #7fbfbf\">                    </span>         py:<span style=\"color: #008080; text-decoration-color: #008080; font-weight: bold\">1351</span>: DataConversionWarning: A column-vector y was passed when a 1d <span style=\"color: #7f7f7f; text-decoration-color: #7f7f7f\">               </span>\n",
       "<span style=\"color: #7fbfbf; text-decoration-color: #7fbfbf\">                    </span>         array was expected. Please change the shape of y to <span style=\"font-weight: bold\">(</span>n_samples,<span style=\"font-weight: bold\">)</span>, for  <span style=\"color: #7f7f7f; text-decoration-color: #7f7f7f\">               </span>\n",
       "<span style=\"color: #7fbfbf; text-decoration-color: #7fbfbf\">                    </span>         example using <span style=\"color: #800080; text-decoration-color: #800080; font-weight: bold\">ravel</span><span style=\"font-weight: bold\">()</span>.                                                 <span style=\"color: #7f7f7f; text-decoration-color: #7f7f7f\">               </span>\n",
       "<span style=\"color: #7fbfbf; text-decoration-color: #7fbfbf\">                    </span>           return <span style=\"color: #800080; text-decoration-color: #800080; font-weight: bold\">fit_method</span><span style=\"font-weight: bold\">(</span>estimator, *args, **kwargs<span style=\"font-weight: bold\">)</span>                        <span style=\"color: #7f7f7f; text-decoration-color: #7f7f7f\">               </span>\n",
       "<span style=\"color: #7fbfbf; text-decoration-color: #7fbfbf\">                    </span>                                                                                <span style=\"color: #7f7f7f; text-decoration-color: #7f7f7f\">               </span>\n",
       "</pre>\n"
      ],
      "text/plain": [
       "\u001b[2;36m                   \u001b[0m\u001b[2;36m \u001b[0m\u001b[31mWARNING \u001b[0m C:\\Users\\dggua\\anaconda3\\envs\\test_env\\lib\\site-packages\\sklearn\\base. \u001b]8;id=625792;file://C:\\Users\\dggua\\anaconda3\\envs\\test_env\\lib\\warnings.py\u001b\\\u001b[2mwarnings.py\u001b[0m\u001b]8;;\u001b\\\u001b[2m:\u001b[0m\u001b]8;id=525656;file://C:\\Users\\dggua\\anaconda3\\envs\\test_env\\lib\\warnings.py#109\u001b\\\u001b[2m109\u001b[0m\u001b]8;;\u001b\\\n",
       "\u001b[2;36m                    \u001b[0m         py:\u001b[1;36m1351\u001b[0m: DataConversionWarning: A column-vector y was passed when a 1d \u001b[2m               \u001b[0m\n",
       "\u001b[2;36m                    \u001b[0m         array was expected. Please change the shape of y to \u001b[1m(\u001b[0mn_samples,\u001b[1m)\u001b[0m, for  \u001b[2m               \u001b[0m\n",
       "\u001b[2;36m                    \u001b[0m         example using \u001b[1;35mravel\u001b[0m\u001b[1m(\u001b[0m\u001b[1m)\u001b[0m.                                                 \u001b[2m               \u001b[0m\n",
       "\u001b[2;36m                    \u001b[0m           return \u001b[1;35mfit_method\u001b[0m\u001b[1m(\u001b[0mestimator, *args, **kwargs\u001b[1m)\u001b[0m                        \u001b[2m               \u001b[0m\n",
       "\u001b[2;36m                    \u001b[0m                                                                                \u001b[2m               \u001b[0m\n"
      ]
     },
     "metadata": {},
     "output_type": "display_data"
    },
    {
     "data": {
      "text/html": [
       "<pre style=\"white-space:pre;overflow-x:auto;line-height:normal;font-family:Menlo,'DejaVu Sans Mono',consolas,'Courier New',monospace\"><span style=\"color: #7fbfbf; text-decoration-color: #7fbfbf\">[06/22/24 16:18:05] </span><span style=\"color: #800000; text-decoration-color: #800000\">WARNING </span> C:\\Users\\dggua\\anaconda3\\envs\\test_env\\lib\\site-packages\\sklearn\\base. <a href=\"file://C:\\Users\\dggua\\anaconda3\\envs\\test_env\\lib\\warnings.py\" target=\"_blank\"><span style=\"color: #7f7f7f; text-decoration-color: #7f7f7f\">warnings.py</span></a><span style=\"color: #7f7f7f; text-decoration-color: #7f7f7f\">:</span><a href=\"file://C:\\Users\\dggua\\anaconda3\\envs\\test_env\\lib\\warnings.py#109\" target=\"_blank\"><span style=\"color: #7f7f7f; text-decoration-color: #7f7f7f\">109</span></a>\n",
       "<span style=\"color: #7fbfbf; text-decoration-color: #7fbfbf\">                    </span>         py:<span style=\"color: #008080; text-decoration-color: #008080; font-weight: bold\">1351</span>: DataConversionWarning: A column-vector y was passed when a 1d <span style=\"color: #7f7f7f; text-decoration-color: #7f7f7f\">               </span>\n",
       "<span style=\"color: #7fbfbf; text-decoration-color: #7fbfbf\">                    </span>         array was expected. Please change the shape of y to <span style=\"font-weight: bold\">(</span>n_samples,<span style=\"font-weight: bold\">)</span>, for  <span style=\"color: #7f7f7f; text-decoration-color: #7f7f7f\">               </span>\n",
       "<span style=\"color: #7fbfbf; text-decoration-color: #7fbfbf\">                    </span>         example using <span style=\"color: #800080; text-decoration-color: #800080; font-weight: bold\">ravel</span><span style=\"font-weight: bold\">()</span>.                                                 <span style=\"color: #7f7f7f; text-decoration-color: #7f7f7f\">               </span>\n",
       "<span style=\"color: #7fbfbf; text-decoration-color: #7fbfbf\">                    </span>           return <span style=\"color: #800080; text-decoration-color: #800080; font-weight: bold\">fit_method</span><span style=\"font-weight: bold\">(</span>estimator, *args, **kwargs<span style=\"font-weight: bold\">)</span>                        <span style=\"color: #7f7f7f; text-decoration-color: #7f7f7f\">               </span>\n",
       "<span style=\"color: #7fbfbf; text-decoration-color: #7fbfbf\">                    </span>                                                                                <span style=\"color: #7f7f7f; text-decoration-color: #7f7f7f\">               </span>\n",
       "</pre>\n"
      ],
      "text/plain": [
       "\u001b[2;36m[06/22/24 16:18:05]\u001b[0m\u001b[2;36m \u001b[0m\u001b[31mWARNING \u001b[0m C:\\Users\\dggua\\anaconda3\\envs\\test_env\\lib\\site-packages\\sklearn\\base. \u001b]8;id=141635;file://C:\\Users\\dggua\\anaconda3\\envs\\test_env\\lib\\warnings.py\u001b\\\u001b[2mwarnings.py\u001b[0m\u001b]8;;\u001b\\\u001b[2m:\u001b[0m\u001b]8;id=622741;file://C:\\Users\\dggua\\anaconda3\\envs\\test_env\\lib\\warnings.py#109\u001b\\\u001b[2m109\u001b[0m\u001b]8;;\u001b\\\n",
       "\u001b[2;36m                    \u001b[0m         py:\u001b[1;36m1351\u001b[0m: DataConversionWarning: A column-vector y was passed when a 1d \u001b[2m               \u001b[0m\n",
       "\u001b[2;36m                    \u001b[0m         array was expected. Please change the shape of y to \u001b[1m(\u001b[0mn_samples,\u001b[1m)\u001b[0m, for  \u001b[2m               \u001b[0m\n",
       "\u001b[2;36m                    \u001b[0m         example using \u001b[1;35mravel\u001b[0m\u001b[1m(\u001b[0m\u001b[1m)\u001b[0m.                                                 \u001b[2m               \u001b[0m\n",
       "\u001b[2;36m                    \u001b[0m           return \u001b[1;35mfit_method\u001b[0m\u001b[1m(\u001b[0mestimator, *args, **kwargs\u001b[1m)\u001b[0m                        \u001b[2m               \u001b[0m\n",
       "\u001b[2;36m                    \u001b[0m                                                                                \u001b[2m               \u001b[0m\n"
      ]
     },
     "metadata": {},
     "output_type": "display_data"
    },
    {
     "data": {
      "text/html": [
       "<pre style=\"white-space:pre;overflow-x:auto;line-height:normal;font-family:Menlo,'DejaVu Sans Mono',consolas,'Courier New',monospace\"><span style=\"color: #7fbfbf; text-decoration-color: #7fbfbf\">                    </span><span style=\"color: #800000; text-decoration-color: #800000\">WARNING </span> C:\\Users\\dggua\\anaconda3\\envs\\test_env\\lib\\site-packages\\sklearn\\base. <a href=\"file://C:\\Users\\dggua\\anaconda3\\envs\\test_env\\lib\\warnings.py\" target=\"_blank\"><span style=\"color: #7f7f7f; text-decoration-color: #7f7f7f\">warnings.py</span></a><span style=\"color: #7f7f7f; text-decoration-color: #7f7f7f\">:</span><a href=\"file://C:\\Users\\dggua\\anaconda3\\envs\\test_env\\lib\\warnings.py#109\" target=\"_blank\"><span style=\"color: #7f7f7f; text-decoration-color: #7f7f7f\">109</span></a>\n",
       "<span style=\"color: #7fbfbf; text-decoration-color: #7fbfbf\">                    </span>         py:<span style=\"color: #008080; text-decoration-color: #008080; font-weight: bold\">1351</span>: DataConversionWarning: A column-vector y was passed when a 1d <span style=\"color: #7f7f7f; text-decoration-color: #7f7f7f\">               </span>\n",
       "<span style=\"color: #7fbfbf; text-decoration-color: #7fbfbf\">                    </span>         array was expected. Please change the shape of y to <span style=\"font-weight: bold\">(</span>n_samples,<span style=\"font-weight: bold\">)</span>, for  <span style=\"color: #7f7f7f; text-decoration-color: #7f7f7f\">               </span>\n",
       "<span style=\"color: #7fbfbf; text-decoration-color: #7fbfbf\">                    </span>         example using <span style=\"color: #800080; text-decoration-color: #800080; font-weight: bold\">ravel</span><span style=\"font-weight: bold\">()</span>.                                                 <span style=\"color: #7f7f7f; text-decoration-color: #7f7f7f\">               </span>\n",
       "<span style=\"color: #7fbfbf; text-decoration-color: #7fbfbf\">                    </span>           return <span style=\"color: #800080; text-decoration-color: #800080; font-weight: bold\">fit_method</span><span style=\"font-weight: bold\">(</span>estimator, *args, **kwargs<span style=\"font-weight: bold\">)</span>                        <span style=\"color: #7f7f7f; text-decoration-color: #7f7f7f\">               </span>\n",
       "<span style=\"color: #7fbfbf; text-decoration-color: #7fbfbf\">                    </span>                                                                                <span style=\"color: #7f7f7f; text-decoration-color: #7f7f7f\">               </span>\n",
       "</pre>\n"
      ],
      "text/plain": [
       "\u001b[2;36m                   \u001b[0m\u001b[2;36m \u001b[0m\u001b[31mWARNING \u001b[0m C:\\Users\\dggua\\anaconda3\\envs\\test_env\\lib\\site-packages\\sklearn\\base. \u001b]8;id=295262;file://C:\\Users\\dggua\\anaconda3\\envs\\test_env\\lib\\warnings.py\u001b\\\u001b[2mwarnings.py\u001b[0m\u001b]8;;\u001b\\\u001b[2m:\u001b[0m\u001b]8;id=68378;file://C:\\Users\\dggua\\anaconda3\\envs\\test_env\\lib\\warnings.py#109\u001b\\\u001b[2m109\u001b[0m\u001b]8;;\u001b\\\n",
       "\u001b[2;36m                    \u001b[0m         py:\u001b[1;36m1351\u001b[0m: DataConversionWarning: A column-vector y was passed when a 1d \u001b[2m               \u001b[0m\n",
       "\u001b[2;36m                    \u001b[0m         array was expected. Please change the shape of y to \u001b[1m(\u001b[0mn_samples,\u001b[1m)\u001b[0m, for  \u001b[2m               \u001b[0m\n",
       "\u001b[2;36m                    \u001b[0m         example using \u001b[1;35mravel\u001b[0m\u001b[1m(\u001b[0m\u001b[1m)\u001b[0m.                                                 \u001b[2m               \u001b[0m\n",
       "\u001b[2;36m                    \u001b[0m           return \u001b[1;35mfit_method\u001b[0m\u001b[1m(\u001b[0mestimator, *args, **kwargs\u001b[1m)\u001b[0m                        \u001b[2m               \u001b[0m\n",
       "\u001b[2;36m                    \u001b[0m                                                                                \u001b[2m               \u001b[0m\n"
      ]
     },
     "metadata": {},
     "output_type": "display_data"
    },
    {
     "data": {
      "text/html": [
       "<pre style=\"white-space:pre;overflow-x:auto;line-height:normal;font-family:Menlo,'DejaVu Sans Mono',consolas,'Courier New',monospace\"><span style=\"color: #7fbfbf; text-decoration-color: #7fbfbf\">                    </span><span style=\"color: #800000; text-decoration-color: #800000\">WARNING </span> C:\\Users\\dggua\\anaconda3\\envs\\test_env\\lib\\site-packages\\sklearn\\base. <a href=\"file://C:\\Users\\dggua\\anaconda3\\envs\\test_env\\lib\\warnings.py\" target=\"_blank\"><span style=\"color: #7f7f7f; text-decoration-color: #7f7f7f\">warnings.py</span></a><span style=\"color: #7f7f7f; text-decoration-color: #7f7f7f\">:</span><a href=\"file://C:\\Users\\dggua\\anaconda3\\envs\\test_env\\lib\\warnings.py#109\" target=\"_blank\"><span style=\"color: #7f7f7f; text-decoration-color: #7f7f7f\">109</span></a>\n",
       "<span style=\"color: #7fbfbf; text-decoration-color: #7fbfbf\">                    </span>         py:<span style=\"color: #008080; text-decoration-color: #008080; font-weight: bold\">1351</span>: DataConversionWarning: A column-vector y was passed when a 1d <span style=\"color: #7f7f7f; text-decoration-color: #7f7f7f\">               </span>\n",
       "<span style=\"color: #7fbfbf; text-decoration-color: #7fbfbf\">                    </span>         array was expected. Please change the shape of y to <span style=\"font-weight: bold\">(</span>n_samples,<span style=\"font-weight: bold\">)</span>, for  <span style=\"color: #7f7f7f; text-decoration-color: #7f7f7f\">               </span>\n",
       "<span style=\"color: #7fbfbf; text-decoration-color: #7fbfbf\">                    </span>         example using <span style=\"color: #800080; text-decoration-color: #800080; font-weight: bold\">ravel</span><span style=\"font-weight: bold\">()</span>.                                                 <span style=\"color: #7f7f7f; text-decoration-color: #7f7f7f\">               </span>\n",
       "<span style=\"color: #7fbfbf; text-decoration-color: #7fbfbf\">                    </span>           return <span style=\"color: #800080; text-decoration-color: #800080; font-weight: bold\">fit_method</span><span style=\"font-weight: bold\">(</span>estimator, *args, **kwargs<span style=\"font-weight: bold\">)</span>                        <span style=\"color: #7f7f7f; text-decoration-color: #7f7f7f\">               </span>\n",
       "<span style=\"color: #7fbfbf; text-decoration-color: #7fbfbf\">                    </span>                                                                                <span style=\"color: #7f7f7f; text-decoration-color: #7f7f7f\">               </span>\n",
       "</pre>\n"
      ],
      "text/plain": [
       "\u001b[2;36m                   \u001b[0m\u001b[2;36m \u001b[0m\u001b[31mWARNING \u001b[0m C:\\Users\\dggua\\anaconda3\\envs\\test_env\\lib\\site-packages\\sklearn\\base. \u001b]8;id=314554;file://C:\\Users\\dggua\\anaconda3\\envs\\test_env\\lib\\warnings.py\u001b\\\u001b[2mwarnings.py\u001b[0m\u001b]8;;\u001b\\\u001b[2m:\u001b[0m\u001b]8;id=568592;file://C:\\Users\\dggua\\anaconda3\\envs\\test_env\\lib\\warnings.py#109\u001b\\\u001b[2m109\u001b[0m\u001b]8;;\u001b\\\n",
       "\u001b[2;36m                    \u001b[0m         py:\u001b[1;36m1351\u001b[0m: DataConversionWarning: A column-vector y was passed when a 1d \u001b[2m               \u001b[0m\n",
       "\u001b[2;36m                    \u001b[0m         array was expected. Please change the shape of y to \u001b[1m(\u001b[0mn_samples,\u001b[1m)\u001b[0m, for  \u001b[2m               \u001b[0m\n",
       "\u001b[2;36m                    \u001b[0m         example using \u001b[1;35mravel\u001b[0m\u001b[1m(\u001b[0m\u001b[1m)\u001b[0m.                                                 \u001b[2m               \u001b[0m\n",
       "\u001b[2;36m                    \u001b[0m           return \u001b[1;35mfit_method\u001b[0m\u001b[1m(\u001b[0mestimator, *args, **kwargs\u001b[1m)\u001b[0m                        \u001b[2m               \u001b[0m\n",
       "\u001b[2;36m                    \u001b[0m                                                                                \u001b[2m               \u001b[0m\n"
      ]
     },
     "metadata": {},
     "output_type": "display_data"
    },
    {
     "data": {
      "text/html": [
       "<pre style=\"white-space:pre;overflow-x:auto;line-height:normal;font-family:Menlo,'DejaVu Sans Mono',consolas,'Courier New',monospace\"><span style=\"color: #7fbfbf; text-decoration-color: #7fbfbf\">                    </span><span style=\"color: #800000; text-decoration-color: #800000\">WARNING </span> C:\\Users\\dggua\\anaconda3\\envs\\test_env\\lib\\site-packages\\sklearn\\base. <a href=\"file://C:\\Users\\dggua\\anaconda3\\envs\\test_env\\lib\\warnings.py\" target=\"_blank\"><span style=\"color: #7f7f7f; text-decoration-color: #7f7f7f\">warnings.py</span></a><span style=\"color: #7f7f7f; text-decoration-color: #7f7f7f\">:</span><a href=\"file://C:\\Users\\dggua\\anaconda3\\envs\\test_env\\lib\\warnings.py#109\" target=\"_blank\"><span style=\"color: #7f7f7f; text-decoration-color: #7f7f7f\">109</span></a>\n",
       "<span style=\"color: #7fbfbf; text-decoration-color: #7fbfbf\">                    </span>         py:<span style=\"color: #008080; text-decoration-color: #008080; font-weight: bold\">1351</span>: DataConversionWarning: A column-vector y was passed when a 1d <span style=\"color: #7f7f7f; text-decoration-color: #7f7f7f\">               </span>\n",
       "<span style=\"color: #7fbfbf; text-decoration-color: #7fbfbf\">                    </span>         array was expected. Please change the shape of y to <span style=\"font-weight: bold\">(</span>n_samples,<span style=\"font-weight: bold\">)</span>, for  <span style=\"color: #7f7f7f; text-decoration-color: #7f7f7f\">               </span>\n",
       "<span style=\"color: #7fbfbf; text-decoration-color: #7fbfbf\">                    </span>         example using <span style=\"color: #800080; text-decoration-color: #800080; font-weight: bold\">ravel</span><span style=\"font-weight: bold\">()</span>.                                                 <span style=\"color: #7f7f7f; text-decoration-color: #7f7f7f\">               </span>\n",
       "<span style=\"color: #7fbfbf; text-decoration-color: #7fbfbf\">                    </span>           return <span style=\"color: #800080; text-decoration-color: #800080; font-weight: bold\">fit_method</span><span style=\"font-weight: bold\">(</span>estimator, *args, **kwargs<span style=\"font-weight: bold\">)</span>                        <span style=\"color: #7f7f7f; text-decoration-color: #7f7f7f\">               </span>\n",
       "<span style=\"color: #7fbfbf; text-decoration-color: #7fbfbf\">                    </span>                                                                                <span style=\"color: #7f7f7f; text-decoration-color: #7f7f7f\">               </span>\n",
       "</pre>\n"
      ],
      "text/plain": [
       "\u001b[2;36m                   \u001b[0m\u001b[2;36m \u001b[0m\u001b[31mWARNING \u001b[0m C:\\Users\\dggua\\anaconda3\\envs\\test_env\\lib\\site-packages\\sklearn\\base. \u001b]8;id=410130;file://C:\\Users\\dggua\\anaconda3\\envs\\test_env\\lib\\warnings.py\u001b\\\u001b[2mwarnings.py\u001b[0m\u001b]8;;\u001b\\\u001b[2m:\u001b[0m\u001b]8;id=594568;file://C:\\Users\\dggua\\anaconda3\\envs\\test_env\\lib\\warnings.py#109\u001b\\\u001b[2m109\u001b[0m\u001b]8;;\u001b\\\n",
       "\u001b[2;36m                    \u001b[0m         py:\u001b[1;36m1351\u001b[0m: DataConversionWarning: A column-vector y was passed when a 1d \u001b[2m               \u001b[0m\n",
       "\u001b[2;36m                    \u001b[0m         array was expected. Please change the shape of y to \u001b[1m(\u001b[0mn_samples,\u001b[1m)\u001b[0m, for  \u001b[2m               \u001b[0m\n",
       "\u001b[2;36m                    \u001b[0m         example using \u001b[1;35mravel\u001b[0m\u001b[1m(\u001b[0m\u001b[1m)\u001b[0m.                                                 \u001b[2m               \u001b[0m\n",
       "\u001b[2;36m                    \u001b[0m           return \u001b[1;35mfit_method\u001b[0m\u001b[1m(\u001b[0mestimator, *args, **kwargs\u001b[1m)\u001b[0m                        \u001b[2m               \u001b[0m\n",
       "\u001b[2;36m                    \u001b[0m                                                                                \u001b[2m               \u001b[0m\n"
      ]
     },
     "metadata": {},
     "output_type": "display_data"
    },
    {
     "data": {
      "text/html": [
       "<pre style=\"white-space:pre;overflow-x:auto;line-height:normal;font-family:Menlo,'DejaVu Sans Mono',consolas,'Courier New',monospace\"><span style=\"color: #7fbfbf; text-decoration-color: #7fbfbf\">                    </span><span style=\"color: #800000; text-decoration-color: #800000\">WARNING </span> C:\\Users\\dggua\\anaconda3\\envs\\test_env\\lib\\site-packages\\sklearn\\base. <a href=\"file://C:\\Users\\dggua\\anaconda3\\envs\\test_env\\lib\\warnings.py\" target=\"_blank\"><span style=\"color: #7f7f7f; text-decoration-color: #7f7f7f\">warnings.py</span></a><span style=\"color: #7f7f7f; text-decoration-color: #7f7f7f\">:</span><a href=\"file://C:\\Users\\dggua\\anaconda3\\envs\\test_env\\lib\\warnings.py#109\" target=\"_blank\"><span style=\"color: #7f7f7f; text-decoration-color: #7f7f7f\">109</span></a>\n",
       "<span style=\"color: #7fbfbf; text-decoration-color: #7fbfbf\">                    </span>         py:<span style=\"color: #008080; text-decoration-color: #008080; font-weight: bold\">1351</span>: DataConversionWarning: A column-vector y was passed when a 1d <span style=\"color: #7f7f7f; text-decoration-color: #7f7f7f\">               </span>\n",
       "<span style=\"color: #7fbfbf; text-decoration-color: #7fbfbf\">                    </span>         array was expected. Please change the shape of y to <span style=\"font-weight: bold\">(</span>n_samples,<span style=\"font-weight: bold\">)</span>, for  <span style=\"color: #7f7f7f; text-decoration-color: #7f7f7f\">               </span>\n",
       "<span style=\"color: #7fbfbf; text-decoration-color: #7fbfbf\">                    </span>         example using <span style=\"color: #800080; text-decoration-color: #800080; font-weight: bold\">ravel</span><span style=\"font-weight: bold\">()</span>.                                                 <span style=\"color: #7f7f7f; text-decoration-color: #7f7f7f\">               </span>\n",
       "<span style=\"color: #7fbfbf; text-decoration-color: #7fbfbf\">                    </span>           return <span style=\"color: #800080; text-decoration-color: #800080; font-weight: bold\">fit_method</span><span style=\"font-weight: bold\">(</span>estimator, *args, **kwargs<span style=\"font-weight: bold\">)</span>                        <span style=\"color: #7f7f7f; text-decoration-color: #7f7f7f\">               </span>\n",
       "<span style=\"color: #7fbfbf; text-decoration-color: #7fbfbf\">                    </span>                                                                                <span style=\"color: #7f7f7f; text-decoration-color: #7f7f7f\">               </span>\n",
       "</pre>\n"
      ],
      "text/plain": [
       "\u001b[2;36m                   \u001b[0m\u001b[2;36m \u001b[0m\u001b[31mWARNING \u001b[0m C:\\Users\\dggua\\anaconda3\\envs\\test_env\\lib\\site-packages\\sklearn\\base. \u001b]8;id=596089;file://C:\\Users\\dggua\\anaconda3\\envs\\test_env\\lib\\warnings.py\u001b\\\u001b[2mwarnings.py\u001b[0m\u001b]8;;\u001b\\\u001b[2m:\u001b[0m\u001b]8;id=84092;file://C:\\Users\\dggua\\anaconda3\\envs\\test_env\\lib\\warnings.py#109\u001b\\\u001b[2m109\u001b[0m\u001b]8;;\u001b\\\n",
       "\u001b[2;36m                    \u001b[0m         py:\u001b[1;36m1351\u001b[0m: DataConversionWarning: A column-vector y was passed when a 1d \u001b[2m               \u001b[0m\n",
       "\u001b[2;36m                    \u001b[0m         array was expected. Please change the shape of y to \u001b[1m(\u001b[0mn_samples,\u001b[1m)\u001b[0m, for  \u001b[2m               \u001b[0m\n",
       "\u001b[2;36m                    \u001b[0m         example using \u001b[1;35mravel\u001b[0m\u001b[1m(\u001b[0m\u001b[1m)\u001b[0m.                                                 \u001b[2m               \u001b[0m\n",
       "\u001b[2;36m                    \u001b[0m           return \u001b[1;35mfit_method\u001b[0m\u001b[1m(\u001b[0mestimator, *args, **kwargs\u001b[1m)\u001b[0m                        \u001b[2m               \u001b[0m\n",
       "\u001b[2;36m                    \u001b[0m                                                                                \u001b[2m               \u001b[0m\n"
      ]
     },
     "metadata": {},
     "output_type": "display_data"
    },
    {
     "data": {
      "text/html": [
       "<pre style=\"white-space:pre;overflow-x:auto;line-height:normal;font-family:Menlo,'DejaVu Sans Mono',consolas,'Courier New',monospace\"><span style=\"color: #7fbfbf; text-decoration-color: #7fbfbf\">                    </span><span style=\"color: #800000; text-decoration-color: #800000\">WARNING </span> C:\\Users\\dggua\\anaconda3\\envs\\test_env\\lib\\site-packages\\sklearn\\base. <a href=\"file://C:\\Users\\dggua\\anaconda3\\envs\\test_env\\lib\\warnings.py\" target=\"_blank\"><span style=\"color: #7f7f7f; text-decoration-color: #7f7f7f\">warnings.py</span></a><span style=\"color: #7f7f7f; text-decoration-color: #7f7f7f\">:</span><a href=\"file://C:\\Users\\dggua\\anaconda3\\envs\\test_env\\lib\\warnings.py#109\" target=\"_blank\"><span style=\"color: #7f7f7f; text-decoration-color: #7f7f7f\">109</span></a>\n",
       "<span style=\"color: #7fbfbf; text-decoration-color: #7fbfbf\">                    </span>         py:<span style=\"color: #008080; text-decoration-color: #008080; font-weight: bold\">1351</span>: DataConversionWarning: A column-vector y was passed when a 1d <span style=\"color: #7f7f7f; text-decoration-color: #7f7f7f\">               </span>\n",
       "<span style=\"color: #7fbfbf; text-decoration-color: #7fbfbf\">                    </span>         array was expected. Please change the shape of y to <span style=\"font-weight: bold\">(</span>n_samples,<span style=\"font-weight: bold\">)</span>, for  <span style=\"color: #7f7f7f; text-decoration-color: #7f7f7f\">               </span>\n",
       "<span style=\"color: #7fbfbf; text-decoration-color: #7fbfbf\">                    </span>         example using <span style=\"color: #800080; text-decoration-color: #800080; font-weight: bold\">ravel</span><span style=\"font-weight: bold\">()</span>.                                                 <span style=\"color: #7f7f7f; text-decoration-color: #7f7f7f\">               </span>\n",
       "<span style=\"color: #7fbfbf; text-decoration-color: #7fbfbf\">                    </span>           return <span style=\"color: #800080; text-decoration-color: #800080; font-weight: bold\">fit_method</span><span style=\"font-weight: bold\">(</span>estimator, *args, **kwargs<span style=\"font-weight: bold\">)</span>                        <span style=\"color: #7f7f7f; text-decoration-color: #7f7f7f\">               </span>\n",
       "<span style=\"color: #7fbfbf; text-decoration-color: #7fbfbf\">                    </span>                                                                                <span style=\"color: #7f7f7f; text-decoration-color: #7f7f7f\">               </span>\n",
       "</pre>\n"
      ],
      "text/plain": [
       "\u001b[2;36m                   \u001b[0m\u001b[2;36m \u001b[0m\u001b[31mWARNING \u001b[0m C:\\Users\\dggua\\anaconda3\\envs\\test_env\\lib\\site-packages\\sklearn\\base. \u001b]8;id=997751;file://C:\\Users\\dggua\\anaconda3\\envs\\test_env\\lib\\warnings.py\u001b\\\u001b[2mwarnings.py\u001b[0m\u001b]8;;\u001b\\\u001b[2m:\u001b[0m\u001b]8;id=390459;file://C:\\Users\\dggua\\anaconda3\\envs\\test_env\\lib\\warnings.py#109\u001b\\\u001b[2m109\u001b[0m\u001b]8;;\u001b\\\n",
       "\u001b[2;36m                    \u001b[0m         py:\u001b[1;36m1351\u001b[0m: DataConversionWarning: A column-vector y was passed when a 1d \u001b[2m               \u001b[0m\n",
       "\u001b[2;36m                    \u001b[0m         array was expected. Please change the shape of y to \u001b[1m(\u001b[0mn_samples,\u001b[1m)\u001b[0m, for  \u001b[2m               \u001b[0m\n",
       "\u001b[2;36m                    \u001b[0m         example using \u001b[1;35mravel\u001b[0m\u001b[1m(\u001b[0m\u001b[1m)\u001b[0m.                                                 \u001b[2m               \u001b[0m\n",
       "\u001b[2;36m                    \u001b[0m           return \u001b[1;35mfit_method\u001b[0m\u001b[1m(\u001b[0mestimator, *args, **kwargs\u001b[1m)\u001b[0m                        \u001b[2m               \u001b[0m\n",
       "\u001b[2;36m                    \u001b[0m                                                                                \u001b[2m               \u001b[0m\n"
      ]
     },
     "metadata": {},
     "output_type": "display_data"
    },
    {
     "data": {
      "text/html": [
       "<pre style=\"white-space:pre;overflow-x:auto;line-height:normal;font-family:Menlo,'DejaVu Sans Mono',consolas,'Courier New',monospace\"><span style=\"color: #7fbfbf; text-decoration-color: #7fbfbf\">                    </span><span style=\"color: #800000; text-decoration-color: #800000\">WARNING </span> C:\\Users\\dggua\\anaconda3\\envs\\test_env\\lib\\site-packages\\sklearn\\base. <a href=\"file://C:\\Users\\dggua\\anaconda3\\envs\\test_env\\lib\\warnings.py\" target=\"_blank\"><span style=\"color: #7f7f7f; text-decoration-color: #7f7f7f\">warnings.py</span></a><span style=\"color: #7f7f7f; text-decoration-color: #7f7f7f\">:</span><a href=\"file://C:\\Users\\dggua\\anaconda3\\envs\\test_env\\lib\\warnings.py#109\" target=\"_blank\"><span style=\"color: #7f7f7f; text-decoration-color: #7f7f7f\">109</span></a>\n",
       "<span style=\"color: #7fbfbf; text-decoration-color: #7fbfbf\">                    </span>         py:<span style=\"color: #008080; text-decoration-color: #008080; font-weight: bold\">1351</span>: DataConversionWarning: A column-vector y was passed when a 1d <span style=\"color: #7f7f7f; text-decoration-color: #7f7f7f\">               </span>\n",
       "<span style=\"color: #7fbfbf; text-decoration-color: #7fbfbf\">                    </span>         array was expected. Please change the shape of y to <span style=\"font-weight: bold\">(</span>n_samples,<span style=\"font-weight: bold\">)</span>, for  <span style=\"color: #7f7f7f; text-decoration-color: #7f7f7f\">               </span>\n",
       "<span style=\"color: #7fbfbf; text-decoration-color: #7fbfbf\">                    </span>         example using <span style=\"color: #800080; text-decoration-color: #800080; font-weight: bold\">ravel</span><span style=\"font-weight: bold\">()</span>.                                                 <span style=\"color: #7f7f7f; text-decoration-color: #7f7f7f\">               </span>\n",
       "<span style=\"color: #7fbfbf; text-decoration-color: #7fbfbf\">                    </span>           return <span style=\"color: #800080; text-decoration-color: #800080; font-weight: bold\">fit_method</span><span style=\"font-weight: bold\">(</span>estimator, *args, **kwargs<span style=\"font-weight: bold\">)</span>                        <span style=\"color: #7f7f7f; text-decoration-color: #7f7f7f\">               </span>\n",
       "<span style=\"color: #7fbfbf; text-decoration-color: #7fbfbf\">                    </span>                                                                                <span style=\"color: #7f7f7f; text-decoration-color: #7f7f7f\">               </span>\n",
       "</pre>\n"
      ],
      "text/plain": [
       "\u001b[2;36m                   \u001b[0m\u001b[2;36m \u001b[0m\u001b[31mWARNING \u001b[0m C:\\Users\\dggua\\anaconda3\\envs\\test_env\\lib\\site-packages\\sklearn\\base. \u001b]8;id=196163;file://C:\\Users\\dggua\\anaconda3\\envs\\test_env\\lib\\warnings.py\u001b\\\u001b[2mwarnings.py\u001b[0m\u001b]8;;\u001b\\\u001b[2m:\u001b[0m\u001b]8;id=930535;file://C:\\Users\\dggua\\anaconda3\\envs\\test_env\\lib\\warnings.py#109\u001b\\\u001b[2m109\u001b[0m\u001b]8;;\u001b\\\n",
       "\u001b[2;36m                    \u001b[0m         py:\u001b[1;36m1351\u001b[0m: DataConversionWarning: A column-vector y was passed when a 1d \u001b[2m               \u001b[0m\n",
       "\u001b[2;36m                    \u001b[0m         array was expected. Please change the shape of y to \u001b[1m(\u001b[0mn_samples,\u001b[1m)\u001b[0m, for  \u001b[2m               \u001b[0m\n",
       "\u001b[2;36m                    \u001b[0m         example using \u001b[1;35mravel\u001b[0m\u001b[1m(\u001b[0m\u001b[1m)\u001b[0m.                                                 \u001b[2m               \u001b[0m\n",
       "\u001b[2;36m                    \u001b[0m           return \u001b[1;35mfit_method\u001b[0m\u001b[1m(\u001b[0mestimator, *args, **kwargs\u001b[1m)\u001b[0m                        \u001b[2m               \u001b[0m\n",
       "\u001b[2;36m                    \u001b[0m                                                                                \u001b[2m               \u001b[0m\n"
      ]
     },
     "metadata": {},
     "output_type": "display_data"
    },
    {
     "data": {
      "text/html": [
       "<pre style=\"white-space:pre;overflow-x:auto;line-height:normal;font-family:Menlo,'DejaVu Sans Mono',consolas,'Courier New',monospace\"><span style=\"color: #7fbfbf; text-decoration-color: #7fbfbf\">[06/22/24 16:18:06] </span><span style=\"color: #800000; text-decoration-color: #800000\">WARNING </span> C:\\Users\\dggua\\anaconda3\\envs\\test_env\\lib\\site-packages\\sklearn\\base. <a href=\"file://C:\\Users\\dggua\\anaconda3\\envs\\test_env\\lib\\warnings.py\" target=\"_blank\"><span style=\"color: #7f7f7f; text-decoration-color: #7f7f7f\">warnings.py</span></a><span style=\"color: #7f7f7f; text-decoration-color: #7f7f7f\">:</span><a href=\"file://C:\\Users\\dggua\\anaconda3\\envs\\test_env\\lib\\warnings.py#109\" target=\"_blank\"><span style=\"color: #7f7f7f; text-decoration-color: #7f7f7f\">109</span></a>\n",
       "<span style=\"color: #7fbfbf; text-decoration-color: #7fbfbf\">                    </span>         py:<span style=\"color: #008080; text-decoration-color: #008080; font-weight: bold\">1351</span>: DataConversionWarning: A column-vector y was passed when a 1d <span style=\"color: #7f7f7f; text-decoration-color: #7f7f7f\">               </span>\n",
       "<span style=\"color: #7fbfbf; text-decoration-color: #7fbfbf\">                    </span>         array was expected. Please change the shape of y to <span style=\"font-weight: bold\">(</span>n_samples,<span style=\"font-weight: bold\">)</span>, for  <span style=\"color: #7f7f7f; text-decoration-color: #7f7f7f\">               </span>\n",
       "<span style=\"color: #7fbfbf; text-decoration-color: #7fbfbf\">                    </span>         example using <span style=\"color: #800080; text-decoration-color: #800080; font-weight: bold\">ravel</span><span style=\"font-weight: bold\">()</span>.                                                 <span style=\"color: #7f7f7f; text-decoration-color: #7f7f7f\">               </span>\n",
       "<span style=\"color: #7fbfbf; text-decoration-color: #7fbfbf\">                    </span>           return <span style=\"color: #800080; text-decoration-color: #800080; font-weight: bold\">fit_method</span><span style=\"font-weight: bold\">(</span>estimator, *args, **kwargs<span style=\"font-weight: bold\">)</span>                        <span style=\"color: #7f7f7f; text-decoration-color: #7f7f7f\">               </span>\n",
       "<span style=\"color: #7fbfbf; text-decoration-color: #7fbfbf\">                    </span>                                                                                <span style=\"color: #7f7f7f; text-decoration-color: #7f7f7f\">               </span>\n",
       "</pre>\n"
      ],
      "text/plain": [
       "\u001b[2;36m[06/22/24 16:18:06]\u001b[0m\u001b[2;36m \u001b[0m\u001b[31mWARNING \u001b[0m C:\\Users\\dggua\\anaconda3\\envs\\test_env\\lib\\site-packages\\sklearn\\base. \u001b]8;id=720954;file://C:\\Users\\dggua\\anaconda3\\envs\\test_env\\lib\\warnings.py\u001b\\\u001b[2mwarnings.py\u001b[0m\u001b]8;;\u001b\\\u001b[2m:\u001b[0m\u001b]8;id=656058;file://C:\\Users\\dggua\\anaconda3\\envs\\test_env\\lib\\warnings.py#109\u001b\\\u001b[2m109\u001b[0m\u001b]8;;\u001b\\\n",
       "\u001b[2;36m                    \u001b[0m         py:\u001b[1;36m1351\u001b[0m: DataConversionWarning: A column-vector y was passed when a 1d \u001b[2m               \u001b[0m\n",
       "\u001b[2;36m                    \u001b[0m         array was expected. Please change the shape of y to \u001b[1m(\u001b[0mn_samples,\u001b[1m)\u001b[0m, for  \u001b[2m               \u001b[0m\n",
       "\u001b[2;36m                    \u001b[0m         example using \u001b[1;35mravel\u001b[0m\u001b[1m(\u001b[0m\u001b[1m)\u001b[0m.                                                 \u001b[2m               \u001b[0m\n",
       "\u001b[2;36m                    \u001b[0m           return \u001b[1;35mfit_method\u001b[0m\u001b[1m(\u001b[0mestimator, *args, **kwargs\u001b[1m)\u001b[0m                        \u001b[2m               \u001b[0m\n",
       "\u001b[2;36m                    \u001b[0m                                                                                \u001b[2m               \u001b[0m\n"
      ]
     },
     "metadata": {},
     "output_type": "display_data"
    },
    {
     "data": {
      "text/html": [
       "<pre style=\"white-space:pre;overflow-x:auto;line-height:normal;font-family:Menlo,'DejaVu Sans Mono',consolas,'Courier New',monospace\"><span style=\"color: #7fbfbf; text-decoration-color: #7fbfbf\">                    </span><span style=\"color: #800000; text-decoration-color: #800000\">WARNING </span> C:\\Users\\dggua\\anaconda3\\envs\\test_env\\lib\\site-packages\\sklearn\\base. <a href=\"file://C:\\Users\\dggua\\anaconda3\\envs\\test_env\\lib\\warnings.py\" target=\"_blank\"><span style=\"color: #7f7f7f; text-decoration-color: #7f7f7f\">warnings.py</span></a><span style=\"color: #7f7f7f; text-decoration-color: #7f7f7f\">:</span><a href=\"file://C:\\Users\\dggua\\anaconda3\\envs\\test_env\\lib\\warnings.py#109\" target=\"_blank\"><span style=\"color: #7f7f7f; text-decoration-color: #7f7f7f\">109</span></a>\n",
       "<span style=\"color: #7fbfbf; text-decoration-color: #7fbfbf\">                    </span>         py:<span style=\"color: #008080; text-decoration-color: #008080; font-weight: bold\">1351</span>: DataConversionWarning: A column-vector y was passed when a 1d <span style=\"color: #7f7f7f; text-decoration-color: #7f7f7f\">               </span>\n",
       "<span style=\"color: #7fbfbf; text-decoration-color: #7fbfbf\">                    </span>         array was expected. Please change the shape of y to <span style=\"font-weight: bold\">(</span>n_samples,<span style=\"font-weight: bold\">)</span>, for  <span style=\"color: #7f7f7f; text-decoration-color: #7f7f7f\">               </span>\n",
       "<span style=\"color: #7fbfbf; text-decoration-color: #7fbfbf\">                    </span>         example using <span style=\"color: #800080; text-decoration-color: #800080; font-weight: bold\">ravel</span><span style=\"font-weight: bold\">()</span>.                                                 <span style=\"color: #7f7f7f; text-decoration-color: #7f7f7f\">               </span>\n",
       "<span style=\"color: #7fbfbf; text-decoration-color: #7fbfbf\">                    </span>           return <span style=\"color: #800080; text-decoration-color: #800080; font-weight: bold\">fit_method</span><span style=\"font-weight: bold\">(</span>estimator, *args, **kwargs<span style=\"font-weight: bold\">)</span>                        <span style=\"color: #7f7f7f; text-decoration-color: #7f7f7f\">               </span>\n",
       "<span style=\"color: #7fbfbf; text-decoration-color: #7fbfbf\">                    </span>                                                                                <span style=\"color: #7f7f7f; text-decoration-color: #7f7f7f\">               </span>\n",
       "</pre>\n"
      ],
      "text/plain": [
       "\u001b[2;36m                   \u001b[0m\u001b[2;36m \u001b[0m\u001b[31mWARNING \u001b[0m C:\\Users\\dggua\\anaconda3\\envs\\test_env\\lib\\site-packages\\sklearn\\base. \u001b]8;id=67706;file://C:\\Users\\dggua\\anaconda3\\envs\\test_env\\lib\\warnings.py\u001b\\\u001b[2mwarnings.py\u001b[0m\u001b]8;;\u001b\\\u001b[2m:\u001b[0m\u001b]8;id=296149;file://C:\\Users\\dggua\\anaconda3\\envs\\test_env\\lib\\warnings.py#109\u001b\\\u001b[2m109\u001b[0m\u001b]8;;\u001b\\\n",
       "\u001b[2;36m                    \u001b[0m         py:\u001b[1;36m1351\u001b[0m: DataConversionWarning: A column-vector y was passed when a 1d \u001b[2m               \u001b[0m\n",
       "\u001b[2;36m                    \u001b[0m         array was expected. Please change the shape of y to \u001b[1m(\u001b[0mn_samples,\u001b[1m)\u001b[0m, for  \u001b[2m               \u001b[0m\n",
       "\u001b[2;36m                    \u001b[0m         example using \u001b[1;35mravel\u001b[0m\u001b[1m(\u001b[0m\u001b[1m)\u001b[0m.                                                 \u001b[2m               \u001b[0m\n",
       "\u001b[2;36m                    \u001b[0m           return \u001b[1;35mfit_method\u001b[0m\u001b[1m(\u001b[0mestimator, *args, **kwargs\u001b[1m)\u001b[0m                        \u001b[2m               \u001b[0m\n",
       "\u001b[2;36m                    \u001b[0m                                                                                \u001b[2m               \u001b[0m\n"
      ]
     },
     "metadata": {},
     "output_type": "display_data"
    },
    {
     "data": {
      "text/html": [
       "<pre style=\"white-space:pre;overflow-x:auto;line-height:normal;font-family:Menlo,'DejaVu Sans Mono',consolas,'Courier New',monospace\"><span style=\"color: #7fbfbf; text-decoration-color: #7fbfbf\">                    </span><span style=\"color: #800000; text-decoration-color: #800000\">WARNING </span> C:\\Users\\dggua\\anaconda3\\envs\\test_env\\lib\\site-packages\\sklearn\\base. <a href=\"file://C:\\Users\\dggua\\anaconda3\\envs\\test_env\\lib\\warnings.py\" target=\"_blank\"><span style=\"color: #7f7f7f; text-decoration-color: #7f7f7f\">warnings.py</span></a><span style=\"color: #7f7f7f; text-decoration-color: #7f7f7f\">:</span><a href=\"file://C:\\Users\\dggua\\anaconda3\\envs\\test_env\\lib\\warnings.py#109\" target=\"_blank\"><span style=\"color: #7f7f7f; text-decoration-color: #7f7f7f\">109</span></a>\n",
       "<span style=\"color: #7fbfbf; text-decoration-color: #7fbfbf\">                    </span>         py:<span style=\"color: #008080; text-decoration-color: #008080; font-weight: bold\">1351</span>: DataConversionWarning: A column-vector y was passed when a 1d <span style=\"color: #7f7f7f; text-decoration-color: #7f7f7f\">               </span>\n",
       "<span style=\"color: #7fbfbf; text-decoration-color: #7fbfbf\">                    </span>         array was expected. Please change the shape of y to <span style=\"font-weight: bold\">(</span>n_samples,<span style=\"font-weight: bold\">)</span>, for  <span style=\"color: #7f7f7f; text-decoration-color: #7f7f7f\">               </span>\n",
       "<span style=\"color: #7fbfbf; text-decoration-color: #7fbfbf\">                    </span>         example using <span style=\"color: #800080; text-decoration-color: #800080; font-weight: bold\">ravel</span><span style=\"font-weight: bold\">()</span>.                                                 <span style=\"color: #7f7f7f; text-decoration-color: #7f7f7f\">               </span>\n",
       "<span style=\"color: #7fbfbf; text-decoration-color: #7fbfbf\">                    </span>           return <span style=\"color: #800080; text-decoration-color: #800080; font-weight: bold\">fit_method</span><span style=\"font-weight: bold\">(</span>estimator, *args, **kwargs<span style=\"font-weight: bold\">)</span>                        <span style=\"color: #7f7f7f; text-decoration-color: #7f7f7f\">               </span>\n",
       "<span style=\"color: #7fbfbf; text-decoration-color: #7fbfbf\">                    </span>                                                                                <span style=\"color: #7f7f7f; text-decoration-color: #7f7f7f\">               </span>\n",
       "</pre>\n"
      ],
      "text/plain": [
       "\u001b[2;36m                   \u001b[0m\u001b[2;36m \u001b[0m\u001b[31mWARNING \u001b[0m C:\\Users\\dggua\\anaconda3\\envs\\test_env\\lib\\site-packages\\sklearn\\base. \u001b]8;id=250664;file://C:\\Users\\dggua\\anaconda3\\envs\\test_env\\lib\\warnings.py\u001b\\\u001b[2mwarnings.py\u001b[0m\u001b]8;;\u001b\\\u001b[2m:\u001b[0m\u001b]8;id=981020;file://C:\\Users\\dggua\\anaconda3\\envs\\test_env\\lib\\warnings.py#109\u001b\\\u001b[2m109\u001b[0m\u001b]8;;\u001b\\\n",
       "\u001b[2;36m                    \u001b[0m         py:\u001b[1;36m1351\u001b[0m: DataConversionWarning: A column-vector y was passed when a 1d \u001b[2m               \u001b[0m\n",
       "\u001b[2;36m                    \u001b[0m         array was expected. Please change the shape of y to \u001b[1m(\u001b[0mn_samples,\u001b[1m)\u001b[0m, for  \u001b[2m               \u001b[0m\n",
       "\u001b[2;36m                    \u001b[0m         example using \u001b[1;35mravel\u001b[0m\u001b[1m(\u001b[0m\u001b[1m)\u001b[0m.                                                 \u001b[2m               \u001b[0m\n",
       "\u001b[2;36m                    \u001b[0m           return \u001b[1;35mfit_method\u001b[0m\u001b[1m(\u001b[0mestimator, *args, **kwargs\u001b[1m)\u001b[0m                        \u001b[2m               \u001b[0m\n",
       "\u001b[2;36m                    \u001b[0m                                                                                \u001b[2m               \u001b[0m\n"
      ]
     },
     "metadata": {},
     "output_type": "display_data"
    },
    {
     "data": {
      "text/html": [
       "<pre style=\"white-space:pre;overflow-x:auto;line-height:normal;font-family:Menlo,'DejaVu Sans Mono',consolas,'Courier New',monospace\"><span style=\"color: #7fbfbf; text-decoration-color: #7fbfbf\">                    </span><span style=\"color: #800000; text-decoration-color: #800000\">WARNING </span> C:\\Users\\dggua\\anaconda3\\envs\\test_env\\lib\\site-packages\\sklearn\\base. <a href=\"file://C:\\Users\\dggua\\anaconda3\\envs\\test_env\\lib\\warnings.py\" target=\"_blank\"><span style=\"color: #7f7f7f; text-decoration-color: #7f7f7f\">warnings.py</span></a><span style=\"color: #7f7f7f; text-decoration-color: #7f7f7f\">:</span><a href=\"file://C:\\Users\\dggua\\anaconda3\\envs\\test_env\\lib\\warnings.py#109\" target=\"_blank\"><span style=\"color: #7f7f7f; text-decoration-color: #7f7f7f\">109</span></a>\n",
       "<span style=\"color: #7fbfbf; text-decoration-color: #7fbfbf\">                    </span>         py:<span style=\"color: #008080; text-decoration-color: #008080; font-weight: bold\">1351</span>: DataConversionWarning: A column-vector y was passed when a 1d <span style=\"color: #7f7f7f; text-decoration-color: #7f7f7f\">               </span>\n",
       "<span style=\"color: #7fbfbf; text-decoration-color: #7fbfbf\">                    </span>         array was expected. Please change the shape of y to <span style=\"font-weight: bold\">(</span>n_samples,<span style=\"font-weight: bold\">)</span>, for  <span style=\"color: #7f7f7f; text-decoration-color: #7f7f7f\">               </span>\n",
       "<span style=\"color: #7fbfbf; text-decoration-color: #7fbfbf\">                    </span>         example using <span style=\"color: #800080; text-decoration-color: #800080; font-weight: bold\">ravel</span><span style=\"font-weight: bold\">()</span>.                                                 <span style=\"color: #7f7f7f; text-decoration-color: #7f7f7f\">               </span>\n",
       "<span style=\"color: #7fbfbf; text-decoration-color: #7fbfbf\">                    </span>           return <span style=\"color: #800080; text-decoration-color: #800080; font-weight: bold\">fit_method</span><span style=\"font-weight: bold\">(</span>estimator, *args, **kwargs<span style=\"font-weight: bold\">)</span>                        <span style=\"color: #7f7f7f; text-decoration-color: #7f7f7f\">               </span>\n",
       "<span style=\"color: #7fbfbf; text-decoration-color: #7fbfbf\">                    </span>                                                                                <span style=\"color: #7f7f7f; text-decoration-color: #7f7f7f\">               </span>\n",
       "</pre>\n"
      ],
      "text/plain": [
       "\u001b[2;36m                   \u001b[0m\u001b[2;36m \u001b[0m\u001b[31mWARNING \u001b[0m C:\\Users\\dggua\\anaconda3\\envs\\test_env\\lib\\site-packages\\sklearn\\base. \u001b]8;id=937002;file://C:\\Users\\dggua\\anaconda3\\envs\\test_env\\lib\\warnings.py\u001b\\\u001b[2mwarnings.py\u001b[0m\u001b]8;;\u001b\\\u001b[2m:\u001b[0m\u001b]8;id=326155;file://C:\\Users\\dggua\\anaconda3\\envs\\test_env\\lib\\warnings.py#109\u001b\\\u001b[2m109\u001b[0m\u001b]8;;\u001b\\\n",
       "\u001b[2;36m                    \u001b[0m         py:\u001b[1;36m1351\u001b[0m: DataConversionWarning: A column-vector y was passed when a 1d \u001b[2m               \u001b[0m\n",
       "\u001b[2;36m                    \u001b[0m         array was expected. Please change the shape of y to \u001b[1m(\u001b[0mn_samples,\u001b[1m)\u001b[0m, for  \u001b[2m               \u001b[0m\n",
       "\u001b[2;36m                    \u001b[0m         example using \u001b[1;35mravel\u001b[0m\u001b[1m(\u001b[0m\u001b[1m)\u001b[0m.                                                 \u001b[2m               \u001b[0m\n",
       "\u001b[2;36m                    \u001b[0m           return \u001b[1;35mfit_method\u001b[0m\u001b[1m(\u001b[0mestimator, *args, **kwargs\u001b[1m)\u001b[0m                        \u001b[2m               \u001b[0m\n",
       "\u001b[2;36m                    \u001b[0m                                                                                \u001b[2m               \u001b[0m\n"
      ]
     },
     "metadata": {},
     "output_type": "display_data"
    },
    {
     "data": {
      "text/html": [
       "<pre style=\"white-space:pre;overflow-x:auto;line-height:normal;font-family:Menlo,'DejaVu Sans Mono',consolas,'Courier New',monospace\"><span style=\"color: #7fbfbf; text-decoration-color: #7fbfbf\">                    </span><span style=\"color: #800000; text-decoration-color: #800000\">WARNING </span> C:\\Users\\dggua\\anaconda3\\envs\\test_env\\lib\\site-packages\\sklearn\\base. <a href=\"file://C:\\Users\\dggua\\anaconda3\\envs\\test_env\\lib\\warnings.py\" target=\"_blank\"><span style=\"color: #7f7f7f; text-decoration-color: #7f7f7f\">warnings.py</span></a><span style=\"color: #7f7f7f; text-decoration-color: #7f7f7f\">:</span><a href=\"file://C:\\Users\\dggua\\anaconda3\\envs\\test_env\\lib\\warnings.py#109\" target=\"_blank\"><span style=\"color: #7f7f7f; text-decoration-color: #7f7f7f\">109</span></a>\n",
       "<span style=\"color: #7fbfbf; text-decoration-color: #7fbfbf\">                    </span>         py:<span style=\"color: #008080; text-decoration-color: #008080; font-weight: bold\">1351</span>: DataConversionWarning: A column-vector y was passed when a 1d <span style=\"color: #7f7f7f; text-decoration-color: #7f7f7f\">               </span>\n",
       "<span style=\"color: #7fbfbf; text-decoration-color: #7fbfbf\">                    </span>         array was expected. Please change the shape of y to <span style=\"font-weight: bold\">(</span>n_samples,<span style=\"font-weight: bold\">)</span>, for  <span style=\"color: #7f7f7f; text-decoration-color: #7f7f7f\">               </span>\n",
       "<span style=\"color: #7fbfbf; text-decoration-color: #7fbfbf\">                    </span>         example using <span style=\"color: #800080; text-decoration-color: #800080; font-weight: bold\">ravel</span><span style=\"font-weight: bold\">()</span>.                                                 <span style=\"color: #7f7f7f; text-decoration-color: #7f7f7f\">               </span>\n",
       "<span style=\"color: #7fbfbf; text-decoration-color: #7fbfbf\">                    </span>           return <span style=\"color: #800080; text-decoration-color: #800080; font-weight: bold\">fit_method</span><span style=\"font-weight: bold\">(</span>estimator, *args, **kwargs<span style=\"font-weight: bold\">)</span>                        <span style=\"color: #7f7f7f; text-decoration-color: #7f7f7f\">               </span>\n",
       "<span style=\"color: #7fbfbf; text-decoration-color: #7fbfbf\">                    </span>                                                                                <span style=\"color: #7f7f7f; text-decoration-color: #7f7f7f\">               </span>\n",
       "</pre>\n"
      ],
      "text/plain": [
       "\u001b[2;36m                   \u001b[0m\u001b[2;36m \u001b[0m\u001b[31mWARNING \u001b[0m C:\\Users\\dggua\\anaconda3\\envs\\test_env\\lib\\site-packages\\sklearn\\base. \u001b]8;id=14012;file://C:\\Users\\dggua\\anaconda3\\envs\\test_env\\lib\\warnings.py\u001b\\\u001b[2mwarnings.py\u001b[0m\u001b]8;;\u001b\\\u001b[2m:\u001b[0m\u001b]8;id=570817;file://C:\\Users\\dggua\\anaconda3\\envs\\test_env\\lib\\warnings.py#109\u001b\\\u001b[2m109\u001b[0m\u001b]8;;\u001b\\\n",
       "\u001b[2;36m                    \u001b[0m         py:\u001b[1;36m1351\u001b[0m: DataConversionWarning: A column-vector y was passed when a 1d \u001b[2m               \u001b[0m\n",
       "\u001b[2;36m                    \u001b[0m         array was expected. Please change the shape of y to \u001b[1m(\u001b[0mn_samples,\u001b[1m)\u001b[0m, for  \u001b[2m               \u001b[0m\n",
       "\u001b[2;36m                    \u001b[0m         example using \u001b[1;35mravel\u001b[0m\u001b[1m(\u001b[0m\u001b[1m)\u001b[0m.                                                 \u001b[2m               \u001b[0m\n",
       "\u001b[2;36m                    \u001b[0m           return \u001b[1;35mfit_method\u001b[0m\u001b[1m(\u001b[0mestimator, *args, **kwargs\u001b[1m)\u001b[0m                        \u001b[2m               \u001b[0m\n",
       "\u001b[2;36m                    \u001b[0m                                                                                \u001b[2m               \u001b[0m\n"
      ]
     },
     "metadata": {},
     "output_type": "display_data"
    },
    {
     "data": {
      "text/html": [
       "<pre style=\"white-space:pre;overflow-x:auto;line-height:normal;font-family:Menlo,'DejaVu Sans Mono',consolas,'Courier New',monospace\"><span style=\"color: #7fbfbf; text-decoration-color: #7fbfbf\">                    </span><span style=\"color: #800000; text-decoration-color: #800000\">WARNING </span> C:\\Users\\dggua\\anaconda3\\envs\\test_env\\lib\\site-packages\\sklearn\\base. <a href=\"file://C:\\Users\\dggua\\anaconda3\\envs\\test_env\\lib\\warnings.py\" target=\"_blank\"><span style=\"color: #7f7f7f; text-decoration-color: #7f7f7f\">warnings.py</span></a><span style=\"color: #7f7f7f; text-decoration-color: #7f7f7f\">:</span><a href=\"file://C:\\Users\\dggua\\anaconda3\\envs\\test_env\\lib\\warnings.py#109\" target=\"_blank\"><span style=\"color: #7f7f7f; text-decoration-color: #7f7f7f\">109</span></a>\n",
       "<span style=\"color: #7fbfbf; text-decoration-color: #7fbfbf\">                    </span>         py:<span style=\"color: #008080; text-decoration-color: #008080; font-weight: bold\">1351</span>: DataConversionWarning: A column-vector y was passed when a 1d <span style=\"color: #7f7f7f; text-decoration-color: #7f7f7f\">               </span>\n",
       "<span style=\"color: #7fbfbf; text-decoration-color: #7fbfbf\">                    </span>         array was expected. Please change the shape of y to <span style=\"font-weight: bold\">(</span>n_samples,<span style=\"font-weight: bold\">)</span>, for  <span style=\"color: #7f7f7f; text-decoration-color: #7f7f7f\">               </span>\n",
       "<span style=\"color: #7fbfbf; text-decoration-color: #7fbfbf\">                    </span>         example using <span style=\"color: #800080; text-decoration-color: #800080; font-weight: bold\">ravel</span><span style=\"font-weight: bold\">()</span>.                                                 <span style=\"color: #7f7f7f; text-decoration-color: #7f7f7f\">               </span>\n",
       "<span style=\"color: #7fbfbf; text-decoration-color: #7fbfbf\">                    </span>           return <span style=\"color: #800080; text-decoration-color: #800080; font-weight: bold\">fit_method</span><span style=\"font-weight: bold\">(</span>estimator, *args, **kwargs<span style=\"font-weight: bold\">)</span>                        <span style=\"color: #7f7f7f; text-decoration-color: #7f7f7f\">               </span>\n",
       "<span style=\"color: #7fbfbf; text-decoration-color: #7fbfbf\">                    </span>                                                                                <span style=\"color: #7f7f7f; text-decoration-color: #7f7f7f\">               </span>\n",
       "</pre>\n"
      ],
      "text/plain": [
       "\u001b[2;36m                   \u001b[0m\u001b[2;36m \u001b[0m\u001b[31mWARNING \u001b[0m C:\\Users\\dggua\\anaconda3\\envs\\test_env\\lib\\site-packages\\sklearn\\base. \u001b]8;id=289111;file://C:\\Users\\dggua\\anaconda3\\envs\\test_env\\lib\\warnings.py\u001b\\\u001b[2mwarnings.py\u001b[0m\u001b]8;;\u001b\\\u001b[2m:\u001b[0m\u001b]8;id=41777;file://C:\\Users\\dggua\\anaconda3\\envs\\test_env\\lib\\warnings.py#109\u001b\\\u001b[2m109\u001b[0m\u001b]8;;\u001b\\\n",
       "\u001b[2;36m                    \u001b[0m         py:\u001b[1;36m1351\u001b[0m: DataConversionWarning: A column-vector y was passed when a 1d \u001b[2m               \u001b[0m\n",
       "\u001b[2;36m                    \u001b[0m         array was expected. Please change the shape of y to \u001b[1m(\u001b[0mn_samples,\u001b[1m)\u001b[0m, for  \u001b[2m               \u001b[0m\n",
       "\u001b[2;36m                    \u001b[0m         example using \u001b[1;35mravel\u001b[0m\u001b[1m(\u001b[0m\u001b[1m)\u001b[0m.                                                 \u001b[2m               \u001b[0m\n",
       "\u001b[2;36m                    \u001b[0m           return \u001b[1;35mfit_method\u001b[0m\u001b[1m(\u001b[0mestimator, *args, **kwargs\u001b[1m)\u001b[0m                        \u001b[2m               \u001b[0m\n",
       "\u001b[2;36m                    \u001b[0m                                                                                \u001b[2m               \u001b[0m\n"
      ]
     },
     "metadata": {},
     "output_type": "display_data"
    },
    {
     "data": {
      "text/html": [
       "<pre style=\"white-space:pre;overflow-x:auto;line-height:normal;font-family:Menlo,'DejaVu Sans Mono',consolas,'Courier New',monospace\"><span style=\"color: #7fbfbf; text-decoration-color: #7fbfbf\">                    </span><span style=\"color: #800000; text-decoration-color: #800000\">WARNING </span> C:\\Users\\dggua\\anaconda3\\envs\\test_env\\lib\\site-packages\\sklearn\\base. <a href=\"file://C:\\Users\\dggua\\anaconda3\\envs\\test_env\\lib\\warnings.py\" target=\"_blank\"><span style=\"color: #7f7f7f; text-decoration-color: #7f7f7f\">warnings.py</span></a><span style=\"color: #7f7f7f; text-decoration-color: #7f7f7f\">:</span><a href=\"file://C:\\Users\\dggua\\anaconda3\\envs\\test_env\\lib\\warnings.py#109\" target=\"_blank\"><span style=\"color: #7f7f7f; text-decoration-color: #7f7f7f\">109</span></a>\n",
       "<span style=\"color: #7fbfbf; text-decoration-color: #7fbfbf\">                    </span>         py:<span style=\"color: #008080; text-decoration-color: #008080; font-weight: bold\">1351</span>: DataConversionWarning: A column-vector y was passed when a 1d <span style=\"color: #7f7f7f; text-decoration-color: #7f7f7f\">               </span>\n",
       "<span style=\"color: #7fbfbf; text-decoration-color: #7fbfbf\">                    </span>         array was expected. Please change the shape of y to <span style=\"font-weight: bold\">(</span>n_samples,<span style=\"font-weight: bold\">)</span>, for  <span style=\"color: #7f7f7f; text-decoration-color: #7f7f7f\">               </span>\n",
       "<span style=\"color: #7fbfbf; text-decoration-color: #7fbfbf\">                    </span>         example using <span style=\"color: #800080; text-decoration-color: #800080; font-weight: bold\">ravel</span><span style=\"font-weight: bold\">()</span>.                                                 <span style=\"color: #7f7f7f; text-decoration-color: #7f7f7f\">               </span>\n",
       "<span style=\"color: #7fbfbf; text-decoration-color: #7fbfbf\">                    </span>           return <span style=\"color: #800080; text-decoration-color: #800080; font-weight: bold\">fit_method</span><span style=\"font-weight: bold\">(</span>estimator, *args, **kwargs<span style=\"font-weight: bold\">)</span>                        <span style=\"color: #7f7f7f; text-decoration-color: #7f7f7f\">               </span>\n",
       "<span style=\"color: #7fbfbf; text-decoration-color: #7fbfbf\">                    </span>                                                                                <span style=\"color: #7f7f7f; text-decoration-color: #7f7f7f\">               </span>\n",
       "</pre>\n"
      ],
      "text/plain": [
       "\u001b[2;36m                   \u001b[0m\u001b[2;36m \u001b[0m\u001b[31mWARNING \u001b[0m C:\\Users\\dggua\\anaconda3\\envs\\test_env\\lib\\site-packages\\sklearn\\base. \u001b]8;id=236222;file://C:\\Users\\dggua\\anaconda3\\envs\\test_env\\lib\\warnings.py\u001b\\\u001b[2mwarnings.py\u001b[0m\u001b]8;;\u001b\\\u001b[2m:\u001b[0m\u001b]8;id=953862;file://C:\\Users\\dggua\\anaconda3\\envs\\test_env\\lib\\warnings.py#109\u001b\\\u001b[2m109\u001b[0m\u001b]8;;\u001b\\\n",
       "\u001b[2;36m                    \u001b[0m         py:\u001b[1;36m1351\u001b[0m: DataConversionWarning: A column-vector y was passed when a 1d \u001b[2m               \u001b[0m\n",
       "\u001b[2;36m                    \u001b[0m         array was expected. Please change the shape of y to \u001b[1m(\u001b[0mn_samples,\u001b[1m)\u001b[0m, for  \u001b[2m               \u001b[0m\n",
       "\u001b[2;36m                    \u001b[0m         example using \u001b[1;35mravel\u001b[0m\u001b[1m(\u001b[0m\u001b[1m)\u001b[0m.                                                 \u001b[2m               \u001b[0m\n",
       "\u001b[2;36m                    \u001b[0m           return \u001b[1;35mfit_method\u001b[0m\u001b[1m(\u001b[0mestimator, *args, **kwargs\u001b[1m)\u001b[0m                        \u001b[2m               \u001b[0m\n",
       "\u001b[2;36m                    \u001b[0m                                                                                \u001b[2m               \u001b[0m\n"
      ]
     },
     "metadata": {},
     "output_type": "display_data"
    },
    {
     "data": {
      "text/html": [
       "<pre style=\"white-space:pre;overflow-x:auto;line-height:normal;font-family:Menlo,'DejaVu Sans Mono',consolas,'Courier New',monospace\"><span style=\"color: #7fbfbf; text-decoration-color: #7fbfbf\">                    </span><span style=\"color: #800000; text-decoration-color: #800000\">WARNING </span> C:\\Users\\dggua\\anaconda3\\envs\\test_env\\lib\\site-packages\\sklearn\\base. <a href=\"file://C:\\Users\\dggua\\anaconda3\\envs\\test_env\\lib\\warnings.py\" target=\"_blank\"><span style=\"color: #7f7f7f; text-decoration-color: #7f7f7f\">warnings.py</span></a><span style=\"color: #7f7f7f; text-decoration-color: #7f7f7f\">:</span><a href=\"file://C:\\Users\\dggua\\anaconda3\\envs\\test_env\\lib\\warnings.py#109\" target=\"_blank\"><span style=\"color: #7f7f7f; text-decoration-color: #7f7f7f\">109</span></a>\n",
       "<span style=\"color: #7fbfbf; text-decoration-color: #7fbfbf\">                    </span>         py:<span style=\"color: #008080; text-decoration-color: #008080; font-weight: bold\">1351</span>: DataConversionWarning: A column-vector y was passed when a 1d <span style=\"color: #7f7f7f; text-decoration-color: #7f7f7f\">               </span>\n",
       "<span style=\"color: #7fbfbf; text-decoration-color: #7fbfbf\">                    </span>         array was expected. Please change the shape of y to <span style=\"font-weight: bold\">(</span>n_samples,<span style=\"font-weight: bold\">)</span>, for  <span style=\"color: #7f7f7f; text-decoration-color: #7f7f7f\">               </span>\n",
       "<span style=\"color: #7fbfbf; text-decoration-color: #7fbfbf\">                    </span>         example using <span style=\"color: #800080; text-decoration-color: #800080; font-weight: bold\">ravel</span><span style=\"font-weight: bold\">()</span>.                                                 <span style=\"color: #7f7f7f; text-decoration-color: #7f7f7f\">               </span>\n",
       "<span style=\"color: #7fbfbf; text-decoration-color: #7fbfbf\">                    </span>           return <span style=\"color: #800080; text-decoration-color: #800080; font-weight: bold\">fit_method</span><span style=\"font-weight: bold\">(</span>estimator, *args, **kwargs<span style=\"font-weight: bold\">)</span>                        <span style=\"color: #7f7f7f; text-decoration-color: #7f7f7f\">               </span>\n",
       "<span style=\"color: #7fbfbf; text-decoration-color: #7fbfbf\">                    </span>                                                                                <span style=\"color: #7f7f7f; text-decoration-color: #7f7f7f\">               </span>\n",
       "</pre>\n"
      ],
      "text/plain": [
       "\u001b[2;36m                   \u001b[0m\u001b[2;36m \u001b[0m\u001b[31mWARNING \u001b[0m C:\\Users\\dggua\\anaconda3\\envs\\test_env\\lib\\site-packages\\sklearn\\base. \u001b]8;id=707017;file://C:\\Users\\dggua\\anaconda3\\envs\\test_env\\lib\\warnings.py\u001b\\\u001b[2mwarnings.py\u001b[0m\u001b]8;;\u001b\\\u001b[2m:\u001b[0m\u001b]8;id=166579;file://C:\\Users\\dggua\\anaconda3\\envs\\test_env\\lib\\warnings.py#109\u001b\\\u001b[2m109\u001b[0m\u001b]8;;\u001b\\\n",
       "\u001b[2;36m                    \u001b[0m         py:\u001b[1;36m1351\u001b[0m: DataConversionWarning: A column-vector y was passed when a 1d \u001b[2m               \u001b[0m\n",
       "\u001b[2;36m                    \u001b[0m         array was expected. Please change the shape of y to \u001b[1m(\u001b[0mn_samples,\u001b[1m)\u001b[0m, for  \u001b[2m               \u001b[0m\n",
       "\u001b[2;36m                    \u001b[0m         example using \u001b[1;35mravel\u001b[0m\u001b[1m(\u001b[0m\u001b[1m)\u001b[0m.                                                 \u001b[2m               \u001b[0m\n",
       "\u001b[2;36m                    \u001b[0m           return \u001b[1;35mfit_method\u001b[0m\u001b[1m(\u001b[0mestimator, *args, **kwargs\u001b[1m)\u001b[0m                        \u001b[2m               \u001b[0m\n",
       "\u001b[2;36m                    \u001b[0m                                                                                \u001b[2m               \u001b[0m\n"
      ]
     },
     "metadata": {},
     "output_type": "display_data"
    },
    {
     "data": {
      "text/html": [
       "<pre style=\"white-space:pre;overflow-x:auto;line-height:normal;font-family:Menlo,'DejaVu Sans Mono',consolas,'Courier New',monospace\"><span style=\"color: #7fbfbf; text-decoration-color: #7fbfbf\">                    </span><span style=\"color: #800000; text-decoration-color: #800000\">WARNING </span> C:\\Users\\dggua\\anaconda3\\envs\\test_env\\lib\\site-packages\\sklearn\\base. <a href=\"file://C:\\Users\\dggua\\anaconda3\\envs\\test_env\\lib\\warnings.py\" target=\"_blank\"><span style=\"color: #7f7f7f; text-decoration-color: #7f7f7f\">warnings.py</span></a><span style=\"color: #7f7f7f; text-decoration-color: #7f7f7f\">:</span><a href=\"file://C:\\Users\\dggua\\anaconda3\\envs\\test_env\\lib\\warnings.py#109\" target=\"_blank\"><span style=\"color: #7f7f7f; text-decoration-color: #7f7f7f\">109</span></a>\n",
       "<span style=\"color: #7fbfbf; text-decoration-color: #7fbfbf\">                    </span>         py:<span style=\"color: #008080; text-decoration-color: #008080; font-weight: bold\">1351</span>: DataConversionWarning: A column-vector y was passed when a 1d <span style=\"color: #7f7f7f; text-decoration-color: #7f7f7f\">               </span>\n",
       "<span style=\"color: #7fbfbf; text-decoration-color: #7fbfbf\">                    </span>         array was expected. Please change the shape of y to <span style=\"font-weight: bold\">(</span>n_samples,<span style=\"font-weight: bold\">)</span>, for  <span style=\"color: #7f7f7f; text-decoration-color: #7f7f7f\">               </span>\n",
       "<span style=\"color: #7fbfbf; text-decoration-color: #7fbfbf\">                    </span>         example using <span style=\"color: #800080; text-decoration-color: #800080; font-weight: bold\">ravel</span><span style=\"font-weight: bold\">()</span>.                                                 <span style=\"color: #7f7f7f; text-decoration-color: #7f7f7f\">               </span>\n",
       "<span style=\"color: #7fbfbf; text-decoration-color: #7fbfbf\">                    </span>           return <span style=\"color: #800080; text-decoration-color: #800080; font-weight: bold\">fit_method</span><span style=\"font-weight: bold\">(</span>estimator, *args, **kwargs<span style=\"font-weight: bold\">)</span>                        <span style=\"color: #7f7f7f; text-decoration-color: #7f7f7f\">               </span>\n",
       "<span style=\"color: #7fbfbf; text-decoration-color: #7fbfbf\">                    </span>                                                                                <span style=\"color: #7f7f7f; text-decoration-color: #7f7f7f\">               </span>\n",
       "</pre>\n"
      ],
      "text/plain": [
       "\u001b[2;36m                   \u001b[0m\u001b[2;36m \u001b[0m\u001b[31mWARNING \u001b[0m C:\\Users\\dggua\\anaconda3\\envs\\test_env\\lib\\site-packages\\sklearn\\base. \u001b]8;id=575377;file://C:\\Users\\dggua\\anaconda3\\envs\\test_env\\lib\\warnings.py\u001b\\\u001b[2mwarnings.py\u001b[0m\u001b]8;;\u001b\\\u001b[2m:\u001b[0m\u001b]8;id=386506;file://C:\\Users\\dggua\\anaconda3\\envs\\test_env\\lib\\warnings.py#109\u001b\\\u001b[2m109\u001b[0m\u001b]8;;\u001b\\\n",
       "\u001b[2;36m                    \u001b[0m         py:\u001b[1;36m1351\u001b[0m: DataConversionWarning: A column-vector y was passed when a 1d \u001b[2m               \u001b[0m\n",
       "\u001b[2;36m                    \u001b[0m         array was expected. Please change the shape of y to \u001b[1m(\u001b[0mn_samples,\u001b[1m)\u001b[0m, for  \u001b[2m               \u001b[0m\n",
       "\u001b[2;36m                    \u001b[0m         example using \u001b[1;35mravel\u001b[0m\u001b[1m(\u001b[0m\u001b[1m)\u001b[0m.                                                 \u001b[2m               \u001b[0m\n",
       "\u001b[2;36m                    \u001b[0m           return \u001b[1;35mfit_method\u001b[0m\u001b[1m(\u001b[0mestimator, *args, **kwargs\u001b[1m)\u001b[0m                        \u001b[2m               \u001b[0m\n",
       "\u001b[2;36m                    \u001b[0m                                                                                \u001b[2m               \u001b[0m\n"
      ]
     },
     "metadata": {},
     "output_type": "display_data"
    },
    {
     "data": {
      "text/html": [
       "<pre style=\"white-space:pre;overflow-x:auto;line-height:normal;font-family:Menlo,'DejaVu Sans Mono',consolas,'Courier New',monospace\"><span style=\"color: #7fbfbf; text-decoration-color: #7fbfbf\">[06/22/24 16:18:07] </span><span style=\"color: #800000; text-decoration-color: #800000\">WARNING </span> C:\\Users\\dggua\\anaconda3\\envs\\test_env\\lib\\site-packages\\sklearn\\base. <a href=\"file://C:\\Users\\dggua\\anaconda3\\envs\\test_env\\lib\\warnings.py\" target=\"_blank\"><span style=\"color: #7f7f7f; text-decoration-color: #7f7f7f\">warnings.py</span></a><span style=\"color: #7f7f7f; text-decoration-color: #7f7f7f\">:</span><a href=\"file://C:\\Users\\dggua\\anaconda3\\envs\\test_env\\lib\\warnings.py#109\" target=\"_blank\"><span style=\"color: #7f7f7f; text-decoration-color: #7f7f7f\">109</span></a>\n",
       "<span style=\"color: #7fbfbf; text-decoration-color: #7fbfbf\">                    </span>         py:<span style=\"color: #008080; text-decoration-color: #008080; font-weight: bold\">1351</span>: DataConversionWarning: A column-vector y was passed when a 1d <span style=\"color: #7f7f7f; text-decoration-color: #7f7f7f\">               </span>\n",
       "<span style=\"color: #7fbfbf; text-decoration-color: #7fbfbf\">                    </span>         array was expected. Please change the shape of y to <span style=\"font-weight: bold\">(</span>n_samples,<span style=\"font-weight: bold\">)</span>, for  <span style=\"color: #7f7f7f; text-decoration-color: #7f7f7f\">               </span>\n",
       "<span style=\"color: #7fbfbf; text-decoration-color: #7fbfbf\">                    </span>         example using <span style=\"color: #800080; text-decoration-color: #800080; font-weight: bold\">ravel</span><span style=\"font-weight: bold\">()</span>.                                                 <span style=\"color: #7f7f7f; text-decoration-color: #7f7f7f\">               </span>\n",
       "<span style=\"color: #7fbfbf; text-decoration-color: #7fbfbf\">                    </span>           return <span style=\"color: #800080; text-decoration-color: #800080; font-weight: bold\">fit_method</span><span style=\"font-weight: bold\">(</span>estimator, *args, **kwargs<span style=\"font-weight: bold\">)</span>                        <span style=\"color: #7f7f7f; text-decoration-color: #7f7f7f\">               </span>\n",
       "<span style=\"color: #7fbfbf; text-decoration-color: #7fbfbf\">                    </span>                                                                                <span style=\"color: #7f7f7f; text-decoration-color: #7f7f7f\">               </span>\n",
       "</pre>\n"
      ],
      "text/plain": [
       "\u001b[2;36m[06/22/24 16:18:07]\u001b[0m\u001b[2;36m \u001b[0m\u001b[31mWARNING \u001b[0m C:\\Users\\dggua\\anaconda3\\envs\\test_env\\lib\\site-packages\\sklearn\\base. \u001b]8;id=645894;file://C:\\Users\\dggua\\anaconda3\\envs\\test_env\\lib\\warnings.py\u001b\\\u001b[2mwarnings.py\u001b[0m\u001b]8;;\u001b\\\u001b[2m:\u001b[0m\u001b]8;id=477668;file://C:\\Users\\dggua\\anaconda3\\envs\\test_env\\lib\\warnings.py#109\u001b\\\u001b[2m109\u001b[0m\u001b]8;;\u001b\\\n",
       "\u001b[2;36m                    \u001b[0m         py:\u001b[1;36m1351\u001b[0m: DataConversionWarning: A column-vector y was passed when a 1d \u001b[2m               \u001b[0m\n",
       "\u001b[2;36m                    \u001b[0m         array was expected. Please change the shape of y to \u001b[1m(\u001b[0mn_samples,\u001b[1m)\u001b[0m, for  \u001b[2m               \u001b[0m\n",
       "\u001b[2;36m                    \u001b[0m         example using \u001b[1;35mravel\u001b[0m\u001b[1m(\u001b[0m\u001b[1m)\u001b[0m.                                                 \u001b[2m               \u001b[0m\n",
       "\u001b[2;36m                    \u001b[0m           return \u001b[1;35mfit_method\u001b[0m\u001b[1m(\u001b[0mestimator, *args, **kwargs\u001b[1m)\u001b[0m                        \u001b[2m               \u001b[0m\n",
       "\u001b[2;36m                    \u001b[0m                                                                                \u001b[2m               \u001b[0m\n"
      ]
     },
     "metadata": {},
     "output_type": "display_data"
    },
    {
     "data": {
      "text/html": [
       "<pre style=\"white-space:pre;overflow-x:auto;line-height:normal;font-family:Menlo,'DejaVu Sans Mono',consolas,'Courier New',monospace\"><span style=\"color: #7fbfbf; text-decoration-color: #7fbfbf\">                    </span><span style=\"color: #800000; text-decoration-color: #800000\">WARNING </span> C:\\Users\\dggua\\anaconda3\\envs\\test_env\\lib\\site-packages\\sklearn\\base. <a href=\"file://C:\\Users\\dggua\\anaconda3\\envs\\test_env\\lib\\warnings.py\" target=\"_blank\"><span style=\"color: #7f7f7f; text-decoration-color: #7f7f7f\">warnings.py</span></a><span style=\"color: #7f7f7f; text-decoration-color: #7f7f7f\">:</span><a href=\"file://C:\\Users\\dggua\\anaconda3\\envs\\test_env\\lib\\warnings.py#109\" target=\"_blank\"><span style=\"color: #7f7f7f; text-decoration-color: #7f7f7f\">109</span></a>\n",
       "<span style=\"color: #7fbfbf; text-decoration-color: #7fbfbf\">                    </span>         py:<span style=\"color: #008080; text-decoration-color: #008080; font-weight: bold\">1351</span>: DataConversionWarning: A column-vector y was passed when a 1d <span style=\"color: #7f7f7f; text-decoration-color: #7f7f7f\">               </span>\n",
       "<span style=\"color: #7fbfbf; text-decoration-color: #7fbfbf\">                    </span>         array was expected. Please change the shape of y to <span style=\"font-weight: bold\">(</span>n_samples,<span style=\"font-weight: bold\">)</span>, for  <span style=\"color: #7f7f7f; text-decoration-color: #7f7f7f\">               </span>\n",
       "<span style=\"color: #7fbfbf; text-decoration-color: #7fbfbf\">                    </span>         example using <span style=\"color: #800080; text-decoration-color: #800080; font-weight: bold\">ravel</span><span style=\"font-weight: bold\">()</span>.                                                 <span style=\"color: #7f7f7f; text-decoration-color: #7f7f7f\">               </span>\n",
       "<span style=\"color: #7fbfbf; text-decoration-color: #7fbfbf\">                    </span>           return <span style=\"color: #800080; text-decoration-color: #800080; font-weight: bold\">fit_method</span><span style=\"font-weight: bold\">(</span>estimator, *args, **kwargs<span style=\"font-weight: bold\">)</span>                        <span style=\"color: #7f7f7f; text-decoration-color: #7f7f7f\">               </span>\n",
       "<span style=\"color: #7fbfbf; text-decoration-color: #7fbfbf\">                    </span>                                                                                <span style=\"color: #7f7f7f; text-decoration-color: #7f7f7f\">               </span>\n",
       "</pre>\n"
      ],
      "text/plain": [
       "\u001b[2;36m                   \u001b[0m\u001b[2;36m \u001b[0m\u001b[31mWARNING \u001b[0m C:\\Users\\dggua\\anaconda3\\envs\\test_env\\lib\\site-packages\\sklearn\\base. \u001b]8;id=662423;file://C:\\Users\\dggua\\anaconda3\\envs\\test_env\\lib\\warnings.py\u001b\\\u001b[2mwarnings.py\u001b[0m\u001b]8;;\u001b\\\u001b[2m:\u001b[0m\u001b]8;id=136090;file://C:\\Users\\dggua\\anaconda3\\envs\\test_env\\lib\\warnings.py#109\u001b\\\u001b[2m109\u001b[0m\u001b]8;;\u001b\\\n",
       "\u001b[2;36m                    \u001b[0m         py:\u001b[1;36m1351\u001b[0m: DataConversionWarning: A column-vector y was passed when a 1d \u001b[2m               \u001b[0m\n",
       "\u001b[2;36m                    \u001b[0m         array was expected. Please change the shape of y to \u001b[1m(\u001b[0mn_samples,\u001b[1m)\u001b[0m, for  \u001b[2m               \u001b[0m\n",
       "\u001b[2;36m                    \u001b[0m         example using \u001b[1;35mravel\u001b[0m\u001b[1m(\u001b[0m\u001b[1m)\u001b[0m.                                                 \u001b[2m               \u001b[0m\n",
       "\u001b[2;36m                    \u001b[0m           return \u001b[1;35mfit_method\u001b[0m\u001b[1m(\u001b[0mestimator, *args, **kwargs\u001b[1m)\u001b[0m                        \u001b[2m               \u001b[0m\n",
       "\u001b[2;36m                    \u001b[0m                                                                                \u001b[2m               \u001b[0m\n"
      ]
     },
     "metadata": {},
     "output_type": "display_data"
    },
    {
     "data": {
      "text/html": [
       "<pre style=\"white-space:pre;overflow-x:auto;line-height:normal;font-family:Menlo,'DejaVu Sans Mono',consolas,'Courier New',monospace\"><span style=\"color: #7fbfbf; text-decoration-color: #7fbfbf\">                    </span><span style=\"color: #800000; text-decoration-color: #800000\">WARNING </span> C:\\Users\\dggua\\anaconda3\\envs\\test_env\\lib\\site-packages\\sklearn\\base. <a href=\"file://C:\\Users\\dggua\\anaconda3\\envs\\test_env\\lib\\warnings.py\" target=\"_blank\"><span style=\"color: #7f7f7f; text-decoration-color: #7f7f7f\">warnings.py</span></a><span style=\"color: #7f7f7f; text-decoration-color: #7f7f7f\">:</span><a href=\"file://C:\\Users\\dggua\\anaconda3\\envs\\test_env\\lib\\warnings.py#109\" target=\"_blank\"><span style=\"color: #7f7f7f; text-decoration-color: #7f7f7f\">109</span></a>\n",
       "<span style=\"color: #7fbfbf; text-decoration-color: #7fbfbf\">                    </span>         py:<span style=\"color: #008080; text-decoration-color: #008080; font-weight: bold\">1351</span>: DataConversionWarning: A column-vector y was passed when a 1d <span style=\"color: #7f7f7f; text-decoration-color: #7f7f7f\">               </span>\n",
       "<span style=\"color: #7fbfbf; text-decoration-color: #7fbfbf\">                    </span>         array was expected. Please change the shape of y to <span style=\"font-weight: bold\">(</span>n_samples,<span style=\"font-weight: bold\">)</span>, for  <span style=\"color: #7f7f7f; text-decoration-color: #7f7f7f\">               </span>\n",
       "<span style=\"color: #7fbfbf; text-decoration-color: #7fbfbf\">                    </span>         example using <span style=\"color: #800080; text-decoration-color: #800080; font-weight: bold\">ravel</span><span style=\"font-weight: bold\">()</span>.                                                 <span style=\"color: #7f7f7f; text-decoration-color: #7f7f7f\">               </span>\n",
       "<span style=\"color: #7fbfbf; text-decoration-color: #7fbfbf\">                    </span>           return <span style=\"color: #800080; text-decoration-color: #800080; font-weight: bold\">fit_method</span><span style=\"font-weight: bold\">(</span>estimator, *args, **kwargs<span style=\"font-weight: bold\">)</span>                        <span style=\"color: #7f7f7f; text-decoration-color: #7f7f7f\">               </span>\n",
       "<span style=\"color: #7fbfbf; text-decoration-color: #7fbfbf\">                    </span>                                                                                <span style=\"color: #7f7f7f; text-decoration-color: #7f7f7f\">               </span>\n",
       "</pre>\n"
      ],
      "text/plain": [
       "\u001b[2;36m                   \u001b[0m\u001b[2;36m \u001b[0m\u001b[31mWARNING \u001b[0m C:\\Users\\dggua\\anaconda3\\envs\\test_env\\lib\\site-packages\\sklearn\\base. \u001b]8;id=113371;file://C:\\Users\\dggua\\anaconda3\\envs\\test_env\\lib\\warnings.py\u001b\\\u001b[2mwarnings.py\u001b[0m\u001b]8;;\u001b\\\u001b[2m:\u001b[0m\u001b]8;id=227955;file://C:\\Users\\dggua\\anaconda3\\envs\\test_env\\lib\\warnings.py#109\u001b\\\u001b[2m109\u001b[0m\u001b]8;;\u001b\\\n",
       "\u001b[2;36m                    \u001b[0m         py:\u001b[1;36m1351\u001b[0m: DataConversionWarning: A column-vector y was passed when a 1d \u001b[2m               \u001b[0m\n",
       "\u001b[2;36m                    \u001b[0m         array was expected. Please change the shape of y to \u001b[1m(\u001b[0mn_samples,\u001b[1m)\u001b[0m, for  \u001b[2m               \u001b[0m\n",
       "\u001b[2;36m                    \u001b[0m         example using \u001b[1;35mravel\u001b[0m\u001b[1m(\u001b[0m\u001b[1m)\u001b[0m.                                                 \u001b[2m               \u001b[0m\n",
       "\u001b[2;36m                    \u001b[0m           return \u001b[1;35mfit_method\u001b[0m\u001b[1m(\u001b[0mestimator, *args, **kwargs\u001b[1m)\u001b[0m                        \u001b[2m               \u001b[0m\n",
       "\u001b[2;36m                    \u001b[0m                                                                                \u001b[2m               \u001b[0m\n"
      ]
     },
     "metadata": {},
     "output_type": "display_data"
    },
    {
     "data": {
      "text/html": [
       "<pre style=\"white-space:pre;overflow-x:auto;line-height:normal;font-family:Menlo,'DejaVu Sans Mono',consolas,'Courier New',monospace\"><span style=\"color: #7fbfbf; text-decoration-color: #7fbfbf\">                    </span><span style=\"color: #800000; text-decoration-color: #800000\">WARNING </span> C:\\Users\\dggua\\anaconda3\\envs\\test_env\\lib\\site-packages\\sklearn\\base. <a href=\"file://C:\\Users\\dggua\\anaconda3\\envs\\test_env\\lib\\warnings.py\" target=\"_blank\"><span style=\"color: #7f7f7f; text-decoration-color: #7f7f7f\">warnings.py</span></a><span style=\"color: #7f7f7f; text-decoration-color: #7f7f7f\">:</span><a href=\"file://C:\\Users\\dggua\\anaconda3\\envs\\test_env\\lib\\warnings.py#109\" target=\"_blank\"><span style=\"color: #7f7f7f; text-decoration-color: #7f7f7f\">109</span></a>\n",
       "<span style=\"color: #7fbfbf; text-decoration-color: #7fbfbf\">                    </span>         py:<span style=\"color: #008080; text-decoration-color: #008080; font-weight: bold\">1351</span>: DataConversionWarning: A column-vector y was passed when a 1d <span style=\"color: #7f7f7f; text-decoration-color: #7f7f7f\">               </span>\n",
       "<span style=\"color: #7fbfbf; text-decoration-color: #7fbfbf\">                    </span>         array was expected. Please change the shape of y to <span style=\"font-weight: bold\">(</span>n_samples,<span style=\"font-weight: bold\">)</span>, for  <span style=\"color: #7f7f7f; text-decoration-color: #7f7f7f\">               </span>\n",
       "<span style=\"color: #7fbfbf; text-decoration-color: #7fbfbf\">                    </span>         example using <span style=\"color: #800080; text-decoration-color: #800080; font-weight: bold\">ravel</span><span style=\"font-weight: bold\">()</span>.                                                 <span style=\"color: #7f7f7f; text-decoration-color: #7f7f7f\">               </span>\n",
       "<span style=\"color: #7fbfbf; text-decoration-color: #7fbfbf\">                    </span>           return <span style=\"color: #800080; text-decoration-color: #800080; font-weight: bold\">fit_method</span><span style=\"font-weight: bold\">(</span>estimator, *args, **kwargs<span style=\"font-weight: bold\">)</span>                        <span style=\"color: #7f7f7f; text-decoration-color: #7f7f7f\">               </span>\n",
       "<span style=\"color: #7fbfbf; text-decoration-color: #7fbfbf\">                    </span>                                                                                <span style=\"color: #7f7f7f; text-decoration-color: #7f7f7f\">               </span>\n",
       "</pre>\n"
      ],
      "text/plain": [
       "\u001b[2;36m                   \u001b[0m\u001b[2;36m \u001b[0m\u001b[31mWARNING \u001b[0m C:\\Users\\dggua\\anaconda3\\envs\\test_env\\lib\\site-packages\\sklearn\\base. \u001b]8;id=61828;file://C:\\Users\\dggua\\anaconda3\\envs\\test_env\\lib\\warnings.py\u001b\\\u001b[2mwarnings.py\u001b[0m\u001b]8;;\u001b\\\u001b[2m:\u001b[0m\u001b]8;id=939773;file://C:\\Users\\dggua\\anaconda3\\envs\\test_env\\lib\\warnings.py#109\u001b\\\u001b[2m109\u001b[0m\u001b]8;;\u001b\\\n",
       "\u001b[2;36m                    \u001b[0m         py:\u001b[1;36m1351\u001b[0m: DataConversionWarning: A column-vector y was passed when a 1d \u001b[2m               \u001b[0m\n",
       "\u001b[2;36m                    \u001b[0m         array was expected. Please change the shape of y to \u001b[1m(\u001b[0mn_samples,\u001b[1m)\u001b[0m, for  \u001b[2m               \u001b[0m\n",
       "\u001b[2;36m                    \u001b[0m         example using \u001b[1;35mravel\u001b[0m\u001b[1m(\u001b[0m\u001b[1m)\u001b[0m.                                                 \u001b[2m               \u001b[0m\n",
       "\u001b[2;36m                    \u001b[0m           return \u001b[1;35mfit_method\u001b[0m\u001b[1m(\u001b[0mestimator, *args, **kwargs\u001b[1m)\u001b[0m                        \u001b[2m               \u001b[0m\n",
       "\u001b[2;36m                    \u001b[0m                                                                                \u001b[2m               \u001b[0m\n"
      ]
     },
     "metadata": {},
     "output_type": "display_data"
    },
    {
     "data": {
      "text/html": [
       "<pre style=\"white-space:pre;overflow-x:auto;line-height:normal;font-family:Menlo,'DejaVu Sans Mono',consolas,'Courier New',monospace\"><span style=\"color: #7fbfbf; text-decoration-color: #7fbfbf\">                    </span><span style=\"color: #800000; text-decoration-color: #800000\">WARNING </span> C:\\Users\\dggua\\anaconda3\\envs\\test_env\\lib\\site-packages\\sklearn\\base. <a href=\"file://C:\\Users\\dggua\\anaconda3\\envs\\test_env\\lib\\warnings.py\" target=\"_blank\"><span style=\"color: #7f7f7f; text-decoration-color: #7f7f7f\">warnings.py</span></a><span style=\"color: #7f7f7f; text-decoration-color: #7f7f7f\">:</span><a href=\"file://C:\\Users\\dggua\\anaconda3\\envs\\test_env\\lib\\warnings.py#109\" target=\"_blank\"><span style=\"color: #7f7f7f; text-decoration-color: #7f7f7f\">109</span></a>\n",
       "<span style=\"color: #7fbfbf; text-decoration-color: #7fbfbf\">                    </span>         py:<span style=\"color: #008080; text-decoration-color: #008080; font-weight: bold\">1351</span>: DataConversionWarning: A column-vector y was passed when a 1d <span style=\"color: #7f7f7f; text-decoration-color: #7f7f7f\">               </span>\n",
       "<span style=\"color: #7fbfbf; text-decoration-color: #7fbfbf\">                    </span>         array was expected. Please change the shape of y to <span style=\"font-weight: bold\">(</span>n_samples,<span style=\"font-weight: bold\">)</span>, for  <span style=\"color: #7f7f7f; text-decoration-color: #7f7f7f\">               </span>\n",
       "<span style=\"color: #7fbfbf; text-decoration-color: #7fbfbf\">                    </span>         example using <span style=\"color: #800080; text-decoration-color: #800080; font-weight: bold\">ravel</span><span style=\"font-weight: bold\">()</span>.                                                 <span style=\"color: #7f7f7f; text-decoration-color: #7f7f7f\">               </span>\n",
       "<span style=\"color: #7fbfbf; text-decoration-color: #7fbfbf\">                    </span>           return <span style=\"color: #800080; text-decoration-color: #800080; font-weight: bold\">fit_method</span><span style=\"font-weight: bold\">(</span>estimator, *args, **kwargs<span style=\"font-weight: bold\">)</span>                        <span style=\"color: #7f7f7f; text-decoration-color: #7f7f7f\">               </span>\n",
       "<span style=\"color: #7fbfbf; text-decoration-color: #7fbfbf\">                    </span>                                                                                <span style=\"color: #7f7f7f; text-decoration-color: #7f7f7f\">               </span>\n",
       "</pre>\n"
      ],
      "text/plain": [
       "\u001b[2;36m                   \u001b[0m\u001b[2;36m \u001b[0m\u001b[31mWARNING \u001b[0m C:\\Users\\dggua\\anaconda3\\envs\\test_env\\lib\\site-packages\\sklearn\\base. \u001b]8;id=899163;file://C:\\Users\\dggua\\anaconda3\\envs\\test_env\\lib\\warnings.py\u001b\\\u001b[2mwarnings.py\u001b[0m\u001b]8;;\u001b\\\u001b[2m:\u001b[0m\u001b]8;id=575350;file://C:\\Users\\dggua\\anaconda3\\envs\\test_env\\lib\\warnings.py#109\u001b\\\u001b[2m109\u001b[0m\u001b]8;;\u001b\\\n",
       "\u001b[2;36m                    \u001b[0m         py:\u001b[1;36m1351\u001b[0m: DataConversionWarning: A column-vector y was passed when a 1d \u001b[2m               \u001b[0m\n",
       "\u001b[2;36m                    \u001b[0m         array was expected. Please change the shape of y to \u001b[1m(\u001b[0mn_samples,\u001b[1m)\u001b[0m, for  \u001b[2m               \u001b[0m\n",
       "\u001b[2;36m                    \u001b[0m         example using \u001b[1;35mravel\u001b[0m\u001b[1m(\u001b[0m\u001b[1m)\u001b[0m.                                                 \u001b[2m               \u001b[0m\n",
       "\u001b[2;36m                    \u001b[0m           return \u001b[1;35mfit_method\u001b[0m\u001b[1m(\u001b[0mestimator, *args, **kwargs\u001b[1m)\u001b[0m                        \u001b[2m               \u001b[0m\n",
       "\u001b[2;36m                    \u001b[0m                                                                                \u001b[2m               \u001b[0m\n"
      ]
     },
     "metadata": {},
     "output_type": "display_data"
    },
    {
     "data": {
      "text/html": [
       "<pre style=\"white-space:pre;overflow-x:auto;line-height:normal;font-family:Menlo,'DejaVu Sans Mono',consolas,'Courier New',monospace\"><span style=\"color: #7fbfbf; text-decoration-color: #7fbfbf\">                    </span><span style=\"color: #800000; text-decoration-color: #800000\">WARNING </span> C:\\Users\\dggua\\anaconda3\\envs\\test_env\\lib\\site-packages\\sklearn\\base. <a href=\"file://C:\\Users\\dggua\\anaconda3\\envs\\test_env\\lib\\warnings.py\" target=\"_blank\"><span style=\"color: #7f7f7f; text-decoration-color: #7f7f7f\">warnings.py</span></a><span style=\"color: #7f7f7f; text-decoration-color: #7f7f7f\">:</span><a href=\"file://C:\\Users\\dggua\\anaconda3\\envs\\test_env\\lib\\warnings.py#109\" target=\"_blank\"><span style=\"color: #7f7f7f; text-decoration-color: #7f7f7f\">109</span></a>\n",
       "<span style=\"color: #7fbfbf; text-decoration-color: #7fbfbf\">                    </span>         py:<span style=\"color: #008080; text-decoration-color: #008080; font-weight: bold\">1351</span>: DataConversionWarning: A column-vector y was passed when a 1d <span style=\"color: #7f7f7f; text-decoration-color: #7f7f7f\">               </span>\n",
       "<span style=\"color: #7fbfbf; text-decoration-color: #7fbfbf\">                    </span>         array was expected. Please change the shape of y to <span style=\"font-weight: bold\">(</span>n_samples,<span style=\"font-weight: bold\">)</span>, for  <span style=\"color: #7f7f7f; text-decoration-color: #7f7f7f\">               </span>\n",
       "<span style=\"color: #7fbfbf; text-decoration-color: #7fbfbf\">                    </span>         example using <span style=\"color: #800080; text-decoration-color: #800080; font-weight: bold\">ravel</span><span style=\"font-weight: bold\">()</span>.                                                 <span style=\"color: #7f7f7f; text-decoration-color: #7f7f7f\">               </span>\n",
       "<span style=\"color: #7fbfbf; text-decoration-color: #7fbfbf\">                    </span>           return <span style=\"color: #800080; text-decoration-color: #800080; font-weight: bold\">fit_method</span><span style=\"font-weight: bold\">(</span>estimator, *args, **kwargs<span style=\"font-weight: bold\">)</span>                        <span style=\"color: #7f7f7f; text-decoration-color: #7f7f7f\">               </span>\n",
       "<span style=\"color: #7fbfbf; text-decoration-color: #7fbfbf\">                    </span>                                                                                <span style=\"color: #7f7f7f; text-decoration-color: #7f7f7f\">               </span>\n",
       "</pre>\n"
      ],
      "text/plain": [
       "\u001b[2;36m                   \u001b[0m\u001b[2;36m \u001b[0m\u001b[31mWARNING \u001b[0m C:\\Users\\dggua\\anaconda3\\envs\\test_env\\lib\\site-packages\\sklearn\\base. \u001b]8;id=513167;file://C:\\Users\\dggua\\anaconda3\\envs\\test_env\\lib\\warnings.py\u001b\\\u001b[2mwarnings.py\u001b[0m\u001b]8;;\u001b\\\u001b[2m:\u001b[0m\u001b]8;id=44057;file://C:\\Users\\dggua\\anaconda3\\envs\\test_env\\lib\\warnings.py#109\u001b\\\u001b[2m109\u001b[0m\u001b]8;;\u001b\\\n",
       "\u001b[2;36m                    \u001b[0m         py:\u001b[1;36m1351\u001b[0m: DataConversionWarning: A column-vector y was passed when a 1d \u001b[2m               \u001b[0m\n",
       "\u001b[2;36m                    \u001b[0m         array was expected. Please change the shape of y to \u001b[1m(\u001b[0mn_samples,\u001b[1m)\u001b[0m, for  \u001b[2m               \u001b[0m\n",
       "\u001b[2;36m                    \u001b[0m         example using \u001b[1;35mravel\u001b[0m\u001b[1m(\u001b[0m\u001b[1m)\u001b[0m.                                                 \u001b[2m               \u001b[0m\n",
       "\u001b[2;36m                    \u001b[0m           return \u001b[1;35mfit_method\u001b[0m\u001b[1m(\u001b[0mestimator, *args, **kwargs\u001b[1m)\u001b[0m                        \u001b[2m               \u001b[0m\n",
       "\u001b[2;36m                    \u001b[0m                                                                                \u001b[2m               \u001b[0m\n"
      ]
     },
     "metadata": {},
     "output_type": "display_data"
    },
    {
     "data": {
      "text/html": [
       "<pre style=\"white-space:pre;overflow-x:auto;line-height:normal;font-family:Menlo,'DejaVu Sans Mono',consolas,'Courier New',monospace\"><span style=\"color: #7fbfbf; text-decoration-color: #7fbfbf\">                    </span><span style=\"color: #800000; text-decoration-color: #800000\">WARNING </span> C:\\Users\\dggua\\anaconda3\\envs\\test_env\\lib\\site-packages\\sklearn\\base. <a href=\"file://C:\\Users\\dggua\\anaconda3\\envs\\test_env\\lib\\warnings.py\" target=\"_blank\"><span style=\"color: #7f7f7f; text-decoration-color: #7f7f7f\">warnings.py</span></a><span style=\"color: #7f7f7f; text-decoration-color: #7f7f7f\">:</span><a href=\"file://C:\\Users\\dggua\\anaconda3\\envs\\test_env\\lib\\warnings.py#109\" target=\"_blank\"><span style=\"color: #7f7f7f; text-decoration-color: #7f7f7f\">109</span></a>\n",
       "<span style=\"color: #7fbfbf; text-decoration-color: #7fbfbf\">                    </span>         py:<span style=\"color: #008080; text-decoration-color: #008080; font-weight: bold\">1351</span>: DataConversionWarning: A column-vector y was passed when a 1d <span style=\"color: #7f7f7f; text-decoration-color: #7f7f7f\">               </span>\n",
       "<span style=\"color: #7fbfbf; text-decoration-color: #7fbfbf\">                    </span>         array was expected. Please change the shape of y to <span style=\"font-weight: bold\">(</span>n_samples,<span style=\"font-weight: bold\">)</span>, for  <span style=\"color: #7f7f7f; text-decoration-color: #7f7f7f\">               </span>\n",
       "<span style=\"color: #7fbfbf; text-decoration-color: #7fbfbf\">                    </span>         example using <span style=\"color: #800080; text-decoration-color: #800080; font-weight: bold\">ravel</span><span style=\"font-weight: bold\">()</span>.                                                 <span style=\"color: #7f7f7f; text-decoration-color: #7f7f7f\">               </span>\n",
       "<span style=\"color: #7fbfbf; text-decoration-color: #7fbfbf\">                    </span>           return <span style=\"color: #800080; text-decoration-color: #800080; font-weight: bold\">fit_method</span><span style=\"font-weight: bold\">(</span>estimator, *args, **kwargs<span style=\"font-weight: bold\">)</span>                        <span style=\"color: #7f7f7f; text-decoration-color: #7f7f7f\">               </span>\n",
       "<span style=\"color: #7fbfbf; text-decoration-color: #7fbfbf\">                    </span>                                                                                <span style=\"color: #7f7f7f; text-decoration-color: #7f7f7f\">               </span>\n",
       "</pre>\n"
      ],
      "text/plain": [
       "\u001b[2;36m                   \u001b[0m\u001b[2;36m \u001b[0m\u001b[31mWARNING \u001b[0m C:\\Users\\dggua\\anaconda3\\envs\\test_env\\lib\\site-packages\\sklearn\\base. \u001b]8;id=146502;file://C:\\Users\\dggua\\anaconda3\\envs\\test_env\\lib\\warnings.py\u001b\\\u001b[2mwarnings.py\u001b[0m\u001b]8;;\u001b\\\u001b[2m:\u001b[0m\u001b]8;id=242996;file://C:\\Users\\dggua\\anaconda3\\envs\\test_env\\lib\\warnings.py#109\u001b\\\u001b[2m109\u001b[0m\u001b]8;;\u001b\\\n",
       "\u001b[2;36m                    \u001b[0m         py:\u001b[1;36m1351\u001b[0m: DataConversionWarning: A column-vector y was passed when a 1d \u001b[2m               \u001b[0m\n",
       "\u001b[2;36m                    \u001b[0m         array was expected. Please change the shape of y to \u001b[1m(\u001b[0mn_samples,\u001b[1m)\u001b[0m, for  \u001b[2m               \u001b[0m\n",
       "\u001b[2;36m                    \u001b[0m         example using \u001b[1;35mravel\u001b[0m\u001b[1m(\u001b[0m\u001b[1m)\u001b[0m.                                                 \u001b[2m               \u001b[0m\n",
       "\u001b[2;36m                    \u001b[0m           return \u001b[1;35mfit_method\u001b[0m\u001b[1m(\u001b[0mestimator, *args, **kwargs\u001b[1m)\u001b[0m                        \u001b[2m               \u001b[0m\n",
       "\u001b[2;36m                    \u001b[0m                                                                                \u001b[2m               \u001b[0m\n"
      ]
     },
     "metadata": {},
     "output_type": "display_data"
    },
    {
     "data": {
      "text/html": [
       "<pre style=\"white-space:pre;overflow-x:auto;line-height:normal;font-family:Menlo,'DejaVu Sans Mono',consolas,'Courier New',monospace\"><span style=\"color: #7fbfbf; text-decoration-color: #7fbfbf\">                    </span><span style=\"color: #800000; text-decoration-color: #800000\">WARNING </span> C:\\Users\\dggua\\anaconda3\\envs\\test_env\\lib\\site-packages\\sklearn\\base. <a href=\"file://C:\\Users\\dggua\\anaconda3\\envs\\test_env\\lib\\warnings.py\" target=\"_blank\"><span style=\"color: #7f7f7f; text-decoration-color: #7f7f7f\">warnings.py</span></a><span style=\"color: #7f7f7f; text-decoration-color: #7f7f7f\">:</span><a href=\"file://C:\\Users\\dggua\\anaconda3\\envs\\test_env\\lib\\warnings.py#109\" target=\"_blank\"><span style=\"color: #7f7f7f; text-decoration-color: #7f7f7f\">109</span></a>\n",
       "<span style=\"color: #7fbfbf; text-decoration-color: #7fbfbf\">                    </span>         py:<span style=\"color: #008080; text-decoration-color: #008080; font-weight: bold\">1351</span>: DataConversionWarning: A column-vector y was passed when a 1d <span style=\"color: #7f7f7f; text-decoration-color: #7f7f7f\">               </span>\n",
       "<span style=\"color: #7fbfbf; text-decoration-color: #7fbfbf\">                    </span>         array was expected. Please change the shape of y to <span style=\"font-weight: bold\">(</span>n_samples,<span style=\"font-weight: bold\">)</span>, for  <span style=\"color: #7f7f7f; text-decoration-color: #7f7f7f\">               </span>\n",
       "<span style=\"color: #7fbfbf; text-decoration-color: #7fbfbf\">                    </span>         example using <span style=\"color: #800080; text-decoration-color: #800080; font-weight: bold\">ravel</span><span style=\"font-weight: bold\">()</span>.                                                 <span style=\"color: #7f7f7f; text-decoration-color: #7f7f7f\">               </span>\n",
       "<span style=\"color: #7fbfbf; text-decoration-color: #7fbfbf\">                    </span>           return <span style=\"color: #800080; text-decoration-color: #800080; font-weight: bold\">fit_method</span><span style=\"font-weight: bold\">(</span>estimator, *args, **kwargs<span style=\"font-weight: bold\">)</span>                        <span style=\"color: #7f7f7f; text-decoration-color: #7f7f7f\">               </span>\n",
       "<span style=\"color: #7fbfbf; text-decoration-color: #7fbfbf\">                    </span>                                                                                <span style=\"color: #7f7f7f; text-decoration-color: #7f7f7f\">               </span>\n",
       "</pre>\n"
      ],
      "text/plain": [
       "\u001b[2;36m                   \u001b[0m\u001b[2;36m \u001b[0m\u001b[31mWARNING \u001b[0m C:\\Users\\dggua\\anaconda3\\envs\\test_env\\lib\\site-packages\\sklearn\\base. \u001b]8;id=931737;file://C:\\Users\\dggua\\anaconda3\\envs\\test_env\\lib\\warnings.py\u001b\\\u001b[2mwarnings.py\u001b[0m\u001b]8;;\u001b\\\u001b[2m:\u001b[0m\u001b]8;id=933047;file://C:\\Users\\dggua\\anaconda3\\envs\\test_env\\lib\\warnings.py#109\u001b\\\u001b[2m109\u001b[0m\u001b]8;;\u001b\\\n",
       "\u001b[2;36m                    \u001b[0m         py:\u001b[1;36m1351\u001b[0m: DataConversionWarning: A column-vector y was passed when a 1d \u001b[2m               \u001b[0m\n",
       "\u001b[2;36m                    \u001b[0m         array was expected. Please change the shape of y to \u001b[1m(\u001b[0mn_samples,\u001b[1m)\u001b[0m, for  \u001b[2m               \u001b[0m\n",
       "\u001b[2;36m                    \u001b[0m         example using \u001b[1;35mravel\u001b[0m\u001b[1m(\u001b[0m\u001b[1m)\u001b[0m.                                                 \u001b[2m               \u001b[0m\n",
       "\u001b[2;36m                    \u001b[0m           return \u001b[1;35mfit_method\u001b[0m\u001b[1m(\u001b[0mestimator, *args, **kwargs\u001b[1m)\u001b[0m                        \u001b[2m               \u001b[0m\n",
       "\u001b[2;36m                    \u001b[0m                                                                                \u001b[2m               \u001b[0m\n"
      ]
     },
     "metadata": {},
     "output_type": "display_data"
    },
    {
     "data": {
      "text/html": [
       "<pre style=\"white-space:pre;overflow-x:auto;line-height:normal;font-family:Menlo,'DejaVu Sans Mono',consolas,'Courier New',monospace\"><span style=\"color: #7fbfbf; text-decoration-color: #7fbfbf\">                    </span><span style=\"color: #800000; text-decoration-color: #800000\">WARNING </span> C:\\Users\\dggua\\anaconda3\\envs\\test_env\\lib\\site-packages\\sklearn\\base. <a href=\"file://C:\\Users\\dggua\\anaconda3\\envs\\test_env\\lib\\warnings.py\" target=\"_blank\"><span style=\"color: #7f7f7f; text-decoration-color: #7f7f7f\">warnings.py</span></a><span style=\"color: #7f7f7f; text-decoration-color: #7f7f7f\">:</span><a href=\"file://C:\\Users\\dggua\\anaconda3\\envs\\test_env\\lib\\warnings.py#109\" target=\"_blank\"><span style=\"color: #7f7f7f; text-decoration-color: #7f7f7f\">109</span></a>\n",
       "<span style=\"color: #7fbfbf; text-decoration-color: #7fbfbf\">                    </span>         py:<span style=\"color: #008080; text-decoration-color: #008080; font-weight: bold\">1351</span>: DataConversionWarning: A column-vector y was passed when a 1d <span style=\"color: #7f7f7f; text-decoration-color: #7f7f7f\">               </span>\n",
       "<span style=\"color: #7fbfbf; text-decoration-color: #7fbfbf\">                    </span>         array was expected. Please change the shape of y to <span style=\"font-weight: bold\">(</span>n_samples,<span style=\"font-weight: bold\">)</span>, for  <span style=\"color: #7f7f7f; text-decoration-color: #7f7f7f\">               </span>\n",
       "<span style=\"color: #7fbfbf; text-decoration-color: #7fbfbf\">                    </span>         example using <span style=\"color: #800080; text-decoration-color: #800080; font-weight: bold\">ravel</span><span style=\"font-weight: bold\">()</span>.                                                 <span style=\"color: #7f7f7f; text-decoration-color: #7f7f7f\">               </span>\n",
       "<span style=\"color: #7fbfbf; text-decoration-color: #7fbfbf\">                    </span>           return <span style=\"color: #800080; text-decoration-color: #800080; font-weight: bold\">fit_method</span><span style=\"font-weight: bold\">(</span>estimator, *args, **kwargs<span style=\"font-weight: bold\">)</span>                        <span style=\"color: #7f7f7f; text-decoration-color: #7f7f7f\">               </span>\n",
       "<span style=\"color: #7fbfbf; text-decoration-color: #7fbfbf\">                    </span>                                                                                <span style=\"color: #7f7f7f; text-decoration-color: #7f7f7f\">               </span>\n",
       "</pre>\n"
      ],
      "text/plain": [
       "\u001b[2;36m                   \u001b[0m\u001b[2;36m \u001b[0m\u001b[31mWARNING \u001b[0m C:\\Users\\dggua\\anaconda3\\envs\\test_env\\lib\\site-packages\\sklearn\\base. \u001b]8;id=751791;file://C:\\Users\\dggua\\anaconda3\\envs\\test_env\\lib\\warnings.py\u001b\\\u001b[2mwarnings.py\u001b[0m\u001b]8;;\u001b\\\u001b[2m:\u001b[0m\u001b]8;id=741146;file://C:\\Users\\dggua\\anaconda3\\envs\\test_env\\lib\\warnings.py#109\u001b\\\u001b[2m109\u001b[0m\u001b]8;;\u001b\\\n",
       "\u001b[2;36m                    \u001b[0m         py:\u001b[1;36m1351\u001b[0m: DataConversionWarning: A column-vector y was passed when a 1d \u001b[2m               \u001b[0m\n",
       "\u001b[2;36m                    \u001b[0m         array was expected. Please change the shape of y to \u001b[1m(\u001b[0mn_samples,\u001b[1m)\u001b[0m, for  \u001b[2m               \u001b[0m\n",
       "\u001b[2;36m                    \u001b[0m         example using \u001b[1;35mravel\u001b[0m\u001b[1m(\u001b[0m\u001b[1m)\u001b[0m.                                                 \u001b[2m               \u001b[0m\n",
       "\u001b[2;36m                    \u001b[0m           return \u001b[1;35mfit_method\u001b[0m\u001b[1m(\u001b[0mestimator, *args, **kwargs\u001b[1m)\u001b[0m                        \u001b[2m               \u001b[0m\n",
       "\u001b[2;36m                    \u001b[0m                                                                                \u001b[2m               \u001b[0m\n"
      ]
     },
     "metadata": {},
     "output_type": "display_data"
    },
    {
     "data": {
      "text/html": [
       "<pre style=\"white-space:pre;overflow-x:auto;line-height:normal;font-family:Menlo,'DejaVu Sans Mono',consolas,'Courier New',monospace\"><span style=\"color: #7fbfbf; text-decoration-color: #7fbfbf\">                    </span><span style=\"color: #800000; text-decoration-color: #800000\">WARNING </span> C:\\Users\\dggua\\anaconda3\\envs\\test_env\\lib\\site-packages\\sklearn\\base. <a href=\"file://C:\\Users\\dggua\\anaconda3\\envs\\test_env\\lib\\warnings.py\" target=\"_blank\"><span style=\"color: #7f7f7f; text-decoration-color: #7f7f7f\">warnings.py</span></a><span style=\"color: #7f7f7f; text-decoration-color: #7f7f7f\">:</span><a href=\"file://C:\\Users\\dggua\\anaconda3\\envs\\test_env\\lib\\warnings.py#109\" target=\"_blank\"><span style=\"color: #7f7f7f; text-decoration-color: #7f7f7f\">109</span></a>\n",
       "<span style=\"color: #7fbfbf; text-decoration-color: #7fbfbf\">                    </span>         py:<span style=\"color: #008080; text-decoration-color: #008080; font-weight: bold\">1351</span>: DataConversionWarning: A column-vector y was passed when a 1d <span style=\"color: #7f7f7f; text-decoration-color: #7f7f7f\">               </span>\n",
       "<span style=\"color: #7fbfbf; text-decoration-color: #7fbfbf\">                    </span>         array was expected. Please change the shape of y to <span style=\"font-weight: bold\">(</span>n_samples,<span style=\"font-weight: bold\">)</span>, for  <span style=\"color: #7f7f7f; text-decoration-color: #7f7f7f\">               </span>\n",
       "<span style=\"color: #7fbfbf; text-decoration-color: #7fbfbf\">                    </span>         example using <span style=\"color: #800080; text-decoration-color: #800080; font-weight: bold\">ravel</span><span style=\"font-weight: bold\">()</span>.                                                 <span style=\"color: #7f7f7f; text-decoration-color: #7f7f7f\">               </span>\n",
       "<span style=\"color: #7fbfbf; text-decoration-color: #7fbfbf\">                    </span>           return <span style=\"color: #800080; text-decoration-color: #800080; font-weight: bold\">fit_method</span><span style=\"font-weight: bold\">(</span>estimator, *args, **kwargs<span style=\"font-weight: bold\">)</span>                        <span style=\"color: #7f7f7f; text-decoration-color: #7f7f7f\">               </span>\n",
       "<span style=\"color: #7fbfbf; text-decoration-color: #7fbfbf\">                    </span>                                                                                <span style=\"color: #7f7f7f; text-decoration-color: #7f7f7f\">               </span>\n",
       "</pre>\n"
      ],
      "text/plain": [
       "\u001b[2;36m                   \u001b[0m\u001b[2;36m \u001b[0m\u001b[31mWARNING \u001b[0m C:\\Users\\dggua\\anaconda3\\envs\\test_env\\lib\\site-packages\\sklearn\\base. \u001b]8;id=236321;file://C:\\Users\\dggua\\anaconda3\\envs\\test_env\\lib\\warnings.py\u001b\\\u001b[2mwarnings.py\u001b[0m\u001b]8;;\u001b\\\u001b[2m:\u001b[0m\u001b]8;id=485376;file://C:\\Users\\dggua\\anaconda3\\envs\\test_env\\lib\\warnings.py#109\u001b\\\u001b[2m109\u001b[0m\u001b]8;;\u001b\\\n",
       "\u001b[2;36m                    \u001b[0m         py:\u001b[1;36m1351\u001b[0m: DataConversionWarning: A column-vector y was passed when a 1d \u001b[2m               \u001b[0m\n",
       "\u001b[2;36m                    \u001b[0m         array was expected. Please change the shape of y to \u001b[1m(\u001b[0mn_samples,\u001b[1m)\u001b[0m, for  \u001b[2m               \u001b[0m\n",
       "\u001b[2;36m                    \u001b[0m         example using \u001b[1;35mravel\u001b[0m\u001b[1m(\u001b[0m\u001b[1m)\u001b[0m.                                                 \u001b[2m               \u001b[0m\n",
       "\u001b[2;36m                    \u001b[0m           return \u001b[1;35mfit_method\u001b[0m\u001b[1m(\u001b[0mestimator, *args, **kwargs\u001b[1m)\u001b[0m                        \u001b[2m               \u001b[0m\n",
       "\u001b[2;36m                    \u001b[0m                                                                                \u001b[2m               \u001b[0m\n"
      ]
     },
     "metadata": {},
     "output_type": "display_data"
    },
    {
     "data": {
      "text/html": [
       "<pre style=\"white-space:pre;overflow-x:auto;line-height:normal;font-family:Menlo,'DejaVu Sans Mono',consolas,'Courier New',monospace\"><span style=\"color: #7fbfbf; text-decoration-color: #7fbfbf\">                    </span><span style=\"color: #800000; text-decoration-color: #800000\">WARNING </span> C:\\Users\\dggua\\anaconda3\\envs\\test_env\\lib\\site-packages\\sklearn\\base. <a href=\"file://C:\\Users\\dggua\\anaconda3\\envs\\test_env\\lib\\warnings.py\" target=\"_blank\"><span style=\"color: #7f7f7f; text-decoration-color: #7f7f7f\">warnings.py</span></a><span style=\"color: #7f7f7f; text-decoration-color: #7f7f7f\">:</span><a href=\"file://C:\\Users\\dggua\\anaconda3\\envs\\test_env\\lib\\warnings.py#109\" target=\"_blank\"><span style=\"color: #7f7f7f; text-decoration-color: #7f7f7f\">109</span></a>\n",
       "<span style=\"color: #7fbfbf; text-decoration-color: #7fbfbf\">                    </span>         py:<span style=\"color: #008080; text-decoration-color: #008080; font-weight: bold\">1351</span>: DataConversionWarning: A column-vector y was passed when a 1d <span style=\"color: #7f7f7f; text-decoration-color: #7f7f7f\">               </span>\n",
       "<span style=\"color: #7fbfbf; text-decoration-color: #7fbfbf\">                    </span>         array was expected. Please change the shape of y to <span style=\"font-weight: bold\">(</span>n_samples,<span style=\"font-weight: bold\">)</span>, for  <span style=\"color: #7f7f7f; text-decoration-color: #7f7f7f\">               </span>\n",
       "<span style=\"color: #7fbfbf; text-decoration-color: #7fbfbf\">                    </span>         example using <span style=\"color: #800080; text-decoration-color: #800080; font-weight: bold\">ravel</span><span style=\"font-weight: bold\">()</span>.                                                 <span style=\"color: #7f7f7f; text-decoration-color: #7f7f7f\">               </span>\n",
       "<span style=\"color: #7fbfbf; text-decoration-color: #7fbfbf\">                    </span>           return <span style=\"color: #800080; text-decoration-color: #800080; font-weight: bold\">fit_method</span><span style=\"font-weight: bold\">(</span>estimator, *args, **kwargs<span style=\"font-weight: bold\">)</span>                        <span style=\"color: #7f7f7f; text-decoration-color: #7f7f7f\">               </span>\n",
       "<span style=\"color: #7fbfbf; text-decoration-color: #7fbfbf\">                    </span>                                                                                <span style=\"color: #7f7f7f; text-decoration-color: #7f7f7f\">               </span>\n",
       "</pre>\n"
      ],
      "text/plain": [
       "\u001b[2;36m                   \u001b[0m\u001b[2;36m \u001b[0m\u001b[31mWARNING \u001b[0m C:\\Users\\dggua\\anaconda3\\envs\\test_env\\lib\\site-packages\\sklearn\\base. \u001b]8;id=192370;file://C:\\Users\\dggua\\anaconda3\\envs\\test_env\\lib\\warnings.py\u001b\\\u001b[2mwarnings.py\u001b[0m\u001b]8;;\u001b\\\u001b[2m:\u001b[0m\u001b]8;id=653795;file://C:\\Users\\dggua\\anaconda3\\envs\\test_env\\lib\\warnings.py#109\u001b\\\u001b[2m109\u001b[0m\u001b]8;;\u001b\\\n",
       "\u001b[2;36m                    \u001b[0m         py:\u001b[1;36m1351\u001b[0m: DataConversionWarning: A column-vector y was passed when a 1d \u001b[2m               \u001b[0m\n",
       "\u001b[2;36m                    \u001b[0m         array was expected. Please change the shape of y to \u001b[1m(\u001b[0mn_samples,\u001b[1m)\u001b[0m, for  \u001b[2m               \u001b[0m\n",
       "\u001b[2;36m                    \u001b[0m         example using \u001b[1;35mravel\u001b[0m\u001b[1m(\u001b[0m\u001b[1m)\u001b[0m.                                                 \u001b[2m               \u001b[0m\n",
       "\u001b[2;36m                    \u001b[0m           return \u001b[1;35mfit_method\u001b[0m\u001b[1m(\u001b[0mestimator, *args, **kwargs\u001b[1m)\u001b[0m                        \u001b[2m               \u001b[0m\n",
       "\u001b[2;36m                    \u001b[0m                                                                                \u001b[2m               \u001b[0m\n"
      ]
     },
     "metadata": {},
     "output_type": "display_data"
    },
    {
     "data": {
      "text/html": [
       "<pre style=\"white-space:pre;overflow-x:auto;line-height:normal;font-family:Menlo,'DejaVu Sans Mono',consolas,'Courier New',monospace\"><span style=\"color: #7fbfbf; text-decoration-color: #7fbfbf\">[06/22/24 16:18:08] </span><span style=\"color: #800000; text-decoration-color: #800000\">WARNING </span> C:\\Users\\dggua\\anaconda3\\envs\\test_env\\lib\\site-packages\\sklearn\\base. <a href=\"file://C:\\Users\\dggua\\anaconda3\\envs\\test_env\\lib\\warnings.py\" target=\"_blank\"><span style=\"color: #7f7f7f; text-decoration-color: #7f7f7f\">warnings.py</span></a><span style=\"color: #7f7f7f; text-decoration-color: #7f7f7f\">:</span><a href=\"file://C:\\Users\\dggua\\anaconda3\\envs\\test_env\\lib\\warnings.py#109\" target=\"_blank\"><span style=\"color: #7f7f7f; text-decoration-color: #7f7f7f\">109</span></a>\n",
       "<span style=\"color: #7fbfbf; text-decoration-color: #7fbfbf\">                    </span>         py:<span style=\"color: #008080; text-decoration-color: #008080; font-weight: bold\">1351</span>: DataConversionWarning: A column-vector y was passed when a 1d <span style=\"color: #7f7f7f; text-decoration-color: #7f7f7f\">               </span>\n",
       "<span style=\"color: #7fbfbf; text-decoration-color: #7fbfbf\">                    </span>         array was expected. Please change the shape of y to <span style=\"font-weight: bold\">(</span>n_samples,<span style=\"font-weight: bold\">)</span>, for  <span style=\"color: #7f7f7f; text-decoration-color: #7f7f7f\">               </span>\n",
       "<span style=\"color: #7fbfbf; text-decoration-color: #7fbfbf\">                    </span>         example using <span style=\"color: #800080; text-decoration-color: #800080; font-weight: bold\">ravel</span><span style=\"font-weight: bold\">()</span>.                                                 <span style=\"color: #7f7f7f; text-decoration-color: #7f7f7f\">               </span>\n",
       "<span style=\"color: #7fbfbf; text-decoration-color: #7fbfbf\">                    </span>           return <span style=\"color: #800080; text-decoration-color: #800080; font-weight: bold\">fit_method</span><span style=\"font-weight: bold\">(</span>estimator, *args, **kwargs<span style=\"font-weight: bold\">)</span>                        <span style=\"color: #7f7f7f; text-decoration-color: #7f7f7f\">               </span>\n",
       "<span style=\"color: #7fbfbf; text-decoration-color: #7fbfbf\">                    </span>                                                                                <span style=\"color: #7f7f7f; text-decoration-color: #7f7f7f\">               </span>\n",
       "</pre>\n"
      ],
      "text/plain": [
       "\u001b[2;36m[06/22/24 16:18:08]\u001b[0m\u001b[2;36m \u001b[0m\u001b[31mWARNING \u001b[0m C:\\Users\\dggua\\anaconda3\\envs\\test_env\\lib\\site-packages\\sklearn\\base. \u001b]8;id=45759;file://C:\\Users\\dggua\\anaconda3\\envs\\test_env\\lib\\warnings.py\u001b\\\u001b[2mwarnings.py\u001b[0m\u001b]8;;\u001b\\\u001b[2m:\u001b[0m\u001b]8;id=684363;file://C:\\Users\\dggua\\anaconda3\\envs\\test_env\\lib\\warnings.py#109\u001b\\\u001b[2m109\u001b[0m\u001b]8;;\u001b\\\n",
       "\u001b[2;36m                    \u001b[0m         py:\u001b[1;36m1351\u001b[0m: DataConversionWarning: A column-vector y was passed when a 1d \u001b[2m               \u001b[0m\n",
       "\u001b[2;36m                    \u001b[0m         array was expected. Please change the shape of y to \u001b[1m(\u001b[0mn_samples,\u001b[1m)\u001b[0m, for  \u001b[2m               \u001b[0m\n",
       "\u001b[2;36m                    \u001b[0m         example using \u001b[1;35mravel\u001b[0m\u001b[1m(\u001b[0m\u001b[1m)\u001b[0m.                                                 \u001b[2m               \u001b[0m\n",
       "\u001b[2;36m                    \u001b[0m           return \u001b[1;35mfit_method\u001b[0m\u001b[1m(\u001b[0mestimator, *args, **kwargs\u001b[1m)\u001b[0m                        \u001b[2m               \u001b[0m\n",
       "\u001b[2;36m                    \u001b[0m                                                                                \u001b[2m               \u001b[0m\n"
      ]
     },
     "metadata": {},
     "output_type": "display_data"
    },
    {
     "data": {
      "text/html": [
       "<pre style=\"white-space:pre;overflow-x:auto;line-height:normal;font-family:Menlo,'DejaVu Sans Mono',consolas,'Courier New',monospace\"><span style=\"color: #7fbfbf; text-decoration-color: #7fbfbf\">                    </span><span style=\"color: #800000; text-decoration-color: #800000\">WARNING </span> C:\\Users\\dggua\\anaconda3\\envs\\test_env\\lib\\site-packages\\sklearn\\base. <a href=\"file://C:\\Users\\dggua\\anaconda3\\envs\\test_env\\lib\\warnings.py\" target=\"_blank\"><span style=\"color: #7f7f7f; text-decoration-color: #7f7f7f\">warnings.py</span></a><span style=\"color: #7f7f7f; text-decoration-color: #7f7f7f\">:</span><a href=\"file://C:\\Users\\dggua\\anaconda3\\envs\\test_env\\lib\\warnings.py#109\" target=\"_blank\"><span style=\"color: #7f7f7f; text-decoration-color: #7f7f7f\">109</span></a>\n",
       "<span style=\"color: #7fbfbf; text-decoration-color: #7fbfbf\">                    </span>         py:<span style=\"color: #008080; text-decoration-color: #008080; font-weight: bold\">1351</span>: DataConversionWarning: A column-vector y was passed when a 1d <span style=\"color: #7f7f7f; text-decoration-color: #7f7f7f\">               </span>\n",
       "<span style=\"color: #7fbfbf; text-decoration-color: #7fbfbf\">                    </span>         array was expected. Please change the shape of y to <span style=\"font-weight: bold\">(</span>n_samples,<span style=\"font-weight: bold\">)</span>, for  <span style=\"color: #7f7f7f; text-decoration-color: #7f7f7f\">               </span>\n",
       "<span style=\"color: #7fbfbf; text-decoration-color: #7fbfbf\">                    </span>         example using <span style=\"color: #800080; text-decoration-color: #800080; font-weight: bold\">ravel</span><span style=\"font-weight: bold\">()</span>.                                                 <span style=\"color: #7f7f7f; text-decoration-color: #7f7f7f\">               </span>\n",
       "<span style=\"color: #7fbfbf; text-decoration-color: #7fbfbf\">                    </span>           return <span style=\"color: #800080; text-decoration-color: #800080; font-weight: bold\">fit_method</span><span style=\"font-weight: bold\">(</span>estimator, *args, **kwargs<span style=\"font-weight: bold\">)</span>                        <span style=\"color: #7f7f7f; text-decoration-color: #7f7f7f\">               </span>\n",
       "<span style=\"color: #7fbfbf; text-decoration-color: #7fbfbf\">                    </span>                                                                                <span style=\"color: #7f7f7f; text-decoration-color: #7f7f7f\">               </span>\n",
       "</pre>\n"
      ],
      "text/plain": [
       "\u001b[2;36m                   \u001b[0m\u001b[2;36m \u001b[0m\u001b[31mWARNING \u001b[0m C:\\Users\\dggua\\anaconda3\\envs\\test_env\\lib\\site-packages\\sklearn\\base. \u001b]8;id=266819;file://C:\\Users\\dggua\\anaconda3\\envs\\test_env\\lib\\warnings.py\u001b\\\u001b[2mwarnings.py\u001b[0m\u001b]8;;\u001b\\\u001b[2m:\u001b[0m\u001b]8;id=994118;file://C:\\Users\\dggua\\anaconda3\\envs\\test_env\\lib\\warnings.py#109\u001b\\\u001b[2m109\u001b[0m\u001b]8;;\u001b\\\n",
       "\u001b[2;36m                    \u001b[0m         py:\u001b[1;36m1351\u001b[0m: DataConversionWarning: A column-vector y was passed when a 1d \u001b[2m               \u001b[0m\n",
       "\u001b[2;36m                    \u001b[0m         array was expected. Please change the shape of y to \u001b[1m(\u001b[0mn_samples,\u001b[1m)\u001b[0m, for  \u001b[2m               \u001b[0m\n",
       "\u001b[2;36m                    \u001b[0m         example using \u001b[1;35mravel\u001b[0m\u001b[1m(\u001b[0m\u001b[1m)\u001b[0m.                                                 \u001b[2m               \u001b[0m\n",
       "\u001b[2;36m                    \u001b[0m           return \u001b[1;35mfit_method\u001b[0m\u001b[1m(\u001b[0mestimator, *args, **kwargs\u001b[1m)\u001b[0m                        \u001b[2m               \u001b[0m\n",
       "\u001b[2;36m                    \u001b[0m                                                                                \u001b[2m               \u001b[0m\n"
      ]
     },
     "metadata": {},
     "output_type": "display_data"
    },
    {
     "data": {
      "text/html": [
       "<pre style=\"white-space:pre;overflow-x:auto;line-height:normal;font-family:Menlo,'DejaVu Sans Mono',consolas,'Courier New',monospace\"><span style=\"color: #7fbfbf; text-decoration-color: #7fbfbf\">                    </span><span style=\"color: #800000; text-decoration-color: #800000\">WARNING </span> C:\\Users\\dggua\\anaconda3\\envs\\test_env\\lib\\site-packages\\sklearn\\base. <a href=\"file://C:\\Users\\dggua\\anaconda3\\envs\\test_env\\lib\\warnings.py\" target=\"_blank\"><span style=\"color: #7f7f7f; text-decoration-color: #7f7f7f\">warnings.py</span></a><span style=\"color: #7f7f7f; text-decoration-color: #7f7f7f\">:</span><a href=\"file://C:\\Users\\dggua\\anaconda3\\envs\\test_env\\lib\\warnings.py#109\" target=\"_blank\"><span style=\"color: #7f7f7f; text-decoration-color: #7f7f7f\">109</span></a>\n",
       "<span style=\"color: #7fbfbf; text-decoration-color: #7fbfbf\">                    </span>         py:<span style=\"color: #008080; text-decoration-color: #008080; font-weight: bold\">1351</span>: DataConversionWarning: A column-vector y was passed when a 1d <span style=\"color: #7f7f7f; text-decoration-color: #7f7f7f\">               </span>\n",
       "<span style=\"color: #7fbfbf; text-decoration-color: #7fbfbf\">                    </span>         array was expected. Please change the shape of y to <span style=\"font-weight: bold\">(</span>n_samples,<span style=\"font-weight: bold\">)</span>, for  <span style=\"color: #7f7f7f; text-decoration-color: #7f7f7f\">               </span>\n",
       "<span style=\"color: #7fbfbf; text-decoration-color: #7fbfbf\">                    </span>         example using <span style=\"color: #800080; text-decoration-color: #800080; font-weight: bold\">ravel</span><span style=\"font-weight: bold\">()</span>.                                                 <span style=\"color: #7f7f7f; text-decoration-color: #7f7f7f\">               </span>\n",
       "<span style=\"color: #7fbfbf; text-decoration-color: #7fbfbf\">                    </span>           return <span style=\"color: #800080; text-decoration-color: #800080; font-weight: bold\">fit_method</span><span style=\"font-weight: bold\">(</span>estimator, *args, **kwargs<span style=\"font-weight: bold\">)</span>                        <span style=\"color: #7f7f7f; text-decoration-color: #7f7f7f\">               </span>\n",
       "<span style=\"color: #7fbfbf; text-decoration-color: #7fbfbf\">                    </span>                                                                                <span style=\"color: #7f7f7f; text-decoration-color: #7f7f7f\">               </span>\n",
       "</pre>\n"
      ],
      "text/plain": [
       "\u001b[2;36m                   \u001b[0m\u001b[2;36m \u001b[0m\u001b[31mWARNING \u001b[0m C:\\Users\\dggua\\anaconda3\\envs\\test_env\\lib\\site-packages\\sklearn\\base. \u001b]8;id=704811;file://C:\\Users\\dggua\\anaconda3\\envs\\test_env\\lib\\warnings.py\u001b\\\u001b[2mwarnings.py\u001b[0m\u001b]8;;\u001b\\\u001b[2m:\u001b[0m\u001b]8;id=184838;file://C:\\Users\\dggua\\anaconda3\\envs\\test_env\\lib\\warnings.py#109\u001b\\\u001b[2m109\u001b[0m\u001b]8;;\u001b\\\n",
       "\u001b[2;36m                    \u001b[0m         py:\u001b[1;36m1351\u001b[0m: DataConversionWarning: A column-vector y was passed when a 1d \u001b[2m               \u001b[0m\n",
       "\u001b[2;36m                    \u001b[0m         array was expected. Please change the shape of y to \u001b[1m(\u001b[0mn_samples,\u001b[1m)\u001b[0m, for  \u001b[2m               \u001b[0m\n",
       "\u001b[2;36m                    \u001b[0m         example using \u001b[1;35mravel\u001b[0m\u001b[1m(\u001b[0m\u001b[1m)\u001b[0m.                                                 \u001b[2m               \u001b[0m\n",
       "\u001b[2;36m                    \u001b[0m           return \u001b[1;35mfit_method\u001b[0m\u001b[1m(\u001b[0mestimator, *args, **kwargs\u001b[1m)\u001b[0m                        \u001b[2m               \u001b[0m\n",
       "\u001b[2;36m                    \u001b[0m                                                                                \u001b[2m               \u001b[0m\n"
      ]
     },
     "metadata": {},
     "output_type": "display_data"
    },
    {
     "data": {
      "text/html": [
       "<pre style=\"white-space:pre;overflow-x:auto;line-height:normal;font-family:Menlo,'DejaVu Sans Mono',consolas,'Courier New',monospace\"><span style=\"color: #7fbfbf; text-decoration-color: #7fbfbf\">                    </span><span style=\"color: #800000; text-decoration-color: #800000\">WARNING </span> C:\\Users\\dggua\\anaconda3\\envs\\test_env\\lib\\site-packages\\sklearn\\base. <a href=\"file://C:\\Users\\dggua\\anaconda3\\envs\\test_env\\lib\\warnings.py\" target=\"_blank\"><span style=\"color: #7f7f7f; text-decoration-color: #7f7f7f\">warnings.py</span></a><span style=\"color: #7f7f7f; text-decoration-color: #7f7f7f\">:</span><a href=\"file://C:\\Users\\dggua\\anaconda3\\envs\\test_env\\lib\\warnings.py#109\" target=\"_blank\"><span style=\"color: #7f7f7f; text-decoration-color: #7f7f7f\">109</span></a>\n",
       "<span style=\"color: #7fbfbf; text-decoration-color: #7fbfbf\">                    </span>         py:<span style=\"color: #008080; text-decoration-color: #008080; font-weight: bold\">1351</span>: DataConversionWarning: A column-vector y was passed when a 1d <span style=\"color: #7f7f7f; text-decoration-color: #7f7f7f\">               </span>\n",
       "<span style=\"color: #7fbfbf; text-decoration-color: #7fbfbf\">                    </span>         array was expected. Please change the shape of y to <span style=\"font-weight: bold\">(</span>n_samples,<span style=\"font-weight: bold\">)</span>, for  <span style=\"color: #7f7f7f; text-decoration-color: #7f7f7f\">               </span>\n",
       "<span style=\"color: #7fbfbf; text-decoration-color: #7fbfbf\">                    </span>         example using <span style=\"color: #800080; text-decoration-color: #800080; font-weight: bold\">ravel</span><span style=\"font-weight: bold\">()</span>.                                                 <span style=\"color: #7f7f7f; text-decoration-color: #7f7f7f\">               </span>\n",
       "<span style=\"color: #7fbfbf; text-decoration-color: #7fbfbf\">                    </span>           return <span style=\"color: #800080; text-decoration-color: #800080; font-weight: bold\">fit_method</span><span style=\"font-weight: bold\">(</span>estimator, *args, **kwargs<span style=\"font-weight: bold\">)</span>                        <span style=\"color: #7f7f7f; text-decoration-color: #7f7f7f\">               </span>\n",
       "<span style=\"color: #7fbfbf; text-decoration-color: #7fbfbf\">                    </span>                                                                                <span style=\"color: #7f7f7f; text-decoration-color: #7f7f7f\">               </span>\n",
       "</pre>\n"
      ],
      "text/plain": [
       "\u001b[2;36m                   \u001b[0m\u001b[2;36m \u001b[0m\u001b[31mWARNING \u001b[0m C:\\Users\\dggua\\anaconda3\\envs\\test_env\\lib\\site-packages\\sklearn\\base. \u001b]8;id=524530;file://C:\\Users\\dggua\\anaconda3\\envs\\test_env\\lib\\warnings.py\u001b\\\u001b[2mwarnings.py\u001b[0m\u001b]8;;\u001b\\\u001b[2m:\u001b[0m\u001b]8;id=26943;file://C:\\Users\\dggua\\anaconda3\\envs\\test_env\\lib\\warnings.py#109\u001b\\\u001b[2m109\u001b[0m\u001b]8;;\u001b\\\n",
       "\u001b[2;36m                    \u001b[0m         py:\u001b[1;36m1351\u001b[0m: DataConversionWarning: A column-vector y was passed when a 1d \u001b[2m               \u001b[0m\n",
       "\u001b[2;36m                    \u001b[0m         array was expected. Please change the shape of y to \u001b[1m(\u001b[0mn_samples,\u001b[1m)\u001b[0m, for  \u001b[2m               \u001b[0m\n",
       "\u001b[2;36m                    \u001b[0m         example using \u001b[1;35mravel\u001b[0m\u001b[1m(\u001b[0m\u001b[1m)\u001b[0m.                                                 \u001b[2m               \u001b[0m\n",
       "\u001b[2;36m                    \u001b[0m           return \u001b[1;35mfit_method\u001b[0m\u001b[1m(\u001b[0mestimator, *args, **kwargs\u001b[1m)\u001b[0m                        \u001b[2m               \u001b[0m\n",
       "\u001b[2;36m                    \u001b[0m                                                                                \u001b[2m               \u001b[0m\n"
      ]
     },
     "metadata": {},
     "output_type": "display_data"
    },
    {
     "data": {
      "text/html": [
       "<pre style=\"white-space:pre;overflow-x:auto;line-height:normal;font-family:Menlo,'DejaVu Sans Mono',consolas,'Courier New',monospace\"><span style=\"color: #7fbfbf; text-decoration-color: #7fbfbf\">                    </span><span style=\"color: #800000; text-decoration-color: #800000\">WARNING </span> C:\\Users\\dggua\\anaconda3\\envs\\test_env\\lib\\site-packages\\sklearn\\base. <a href=\"file://C:\\Users\\dggua\\anaconda3\\envs\\test_env\\lib\\warnings.py\" target=\"_blank\"><span style=\"color: #7f7f7f; text-decoration-color: #7f7f7f\">warnings.py</span></a><span style=\"color: #7f7f7f; text-decoration-color: #7f7f7f\">:</span><a href=\"file://C:\\Users\\dggua\\anaconda3\\envs\\test_env\\lib\\warnings.py#109\" target=\"_blank\"><span style=\"color: #7f7f7f; text-decoration-color: #7f7f7f\">109</span></a>\n",
       "<span style=\"color: #7fbfbf; text-decoration-color: #7fbfbf\">                    </span>         py:<span style=\"color: #008080; text-decoration-color: #008080; font-weight: bold\">1351</span>: DataConversionWarning: A column-vector y was passed when a 1d <span style=\"color: #7f7f7f; text-decoration-color: #7f7f7f\">               </span>\n",
       "<span style=\"color: #7fbfbf; text-decoration-color: #7fbfbf\">                    </span>         array was expected. Please change the shape of y to <span style=\"font-weight: bold\">(</span>n_samples,<span style=\"font-weight: bold\">)</span>, for  <span style=\"color: #7f7f7f; text-decoration-color: #7f7f7f\">               </span>\n",
       "<span style=\"color: #7fbfbf; text-decoration-color: #7fbfbf\">                    </span>         example using <span style=\"color: #800080; text-decoration-color: #800080; font-weight: bold\">ravel</span><span style=\"font-weight: bold\">()</span>.                                                 <span style=\"color: #7f7f7f; text-decoration-color: #7f7f7f\">               </span>\n",
       "<span style=\"color: #7fbfbf; text-decoration-color: #7fbfbf\">                    </span>           return <span style=\"color: #800080; text-decoration-color: #800080; font-weight: bold\">fit_method</span><span style=\"font-weight: bold\">(</span>estimator, *args, **kwargs<span style=\"font-weight: bold\">)</span>                        <span style=\"color: #7f7f7f; text-decoration-color: #7f7f7f\">               </span>\n",
       "<span style=\"color: #7fbfbf; text-decoration-color: #7fbfbf\">                    </span>                                                                                <span style=\"color: #7f7f7f; text-decoration-color: #7f7f7f\">               </span>\n",
       "</pre>\n"
      ],
      "text/plain": [
       "\u001b[2;36m                   \u001b[0m\u001b[2;36m \u001b[0m\u001b[31mWARNING \u001b[0m C:\\Users\\dggua\\anaconda3\\envs\\test_env\\lib\\site-packages\\sklearn\\base. \u001b]8;id=55406;file://C:\\Users\\dggua\\anaconda3\\envs\\test_env\\lib\\warnings.py\u001b\\\u001b[2mwarnings.py\u001b[0m\u001b]8;;\u001b\\\u001b[2m:\u001b[0m\u001b]8;id=403999;file://C:\\Users\\dggua\\anaconda3\\envs\\test_env\\lib\\warnings.py#109\u001b\\\u001b[2m109\u001b[0m\u001b]8;;\u001b\\\n",
       "\u001b[2;36m                    \u001b[0m         py:\u001b[1;36m1351\u001b[0m: DataConversionWarning: A column-vector y was passed when a 1d \u001b[2m               \u001b[0m\n",
       "\u001b[2;36m                    \u001b[0m         array was expected. Please change the shape of y to \u001b[1m(\u001b[0mn_samples,\u001b[1m)\u001b[0m, for  \u001b[2m               \u001b[0m\n",
       "\u001b[2;36m                    \u001b[0m         example using \u001b[1;35mravel\u001b[0m\u001b[1m(\u001b[0m\u001b[1m)\u001b[0m.                                                 \u001b[2m               \u001b[0m\n",
       "\u001b[2;36m                    \u001b[0m           return \u001b[1;35mfit_method\u001b[0m\u001b[1m(\u001b[0mestimator, *args, **kwargs\u001b[1m)\u001b[0m                        \u001b[2m               \u001b[0m\n",
       "\u001b[2;36m                    \u001b[0m                                                                                \u001b[2m               \u001b[0m\n"
      ]
     },
     "metadata": {},
     "output_type": "display_data"
    },
    {
     "data": {
      "text/html": [
       "<pre style=\"white-space:pre;overflow-x:auto;line-height:normal;font-family:Menlo,'DejaVu Sans Mono',consolas,'Courier New',monospace\"><span style=\"color: #7fbfbf; text-decoration-color: #7fbfbf\">                    </span><span style=\"color: #800000; text-decoration-color: #800000\">WARNING </span> C:\\Users\\dggua\\anaconda3\\envs\\test_env\\lib\\site-packages\\sklearn\\base. <a href=\"file://C:\\Users\\dggua\\anaconda3\\envs\\test_env\\lib\\warnings.py\" target=\"_blank\"><span style=\"color: #7f7f7f; text-decoration-color: #7f7f7f\">warnings.py</span></a><span style=\"color: #7f7f7f; text-decoration-color: #7f7f7f\">:</span><a href=\"file://C:\\Users\\dggua\\anaconda3\\envs\\test_env\\lib\\warnings.py#109\" target=\"_blank\"><span style=\"color: #7f7f7f; text-decoration-color: #7f7f7f\">109</span></a>\n",
       "<span style=\"color: #7fbfbf; text-decoration-color: #7fbfbf\">                    </span>         py:<span style=\"color: #008080; text-decoration-color: #008080; font-weight: bold\">1351</span>: DataConversionWarning: A column-vector y was passed when a 1d <span style=\"color: #7f7f7f; text-decoration-color: #7f7f7f\">               </span>\n",
       "<span style=\"color: #7fbfbf; text-decoration-color: #7fbfbf\">                    </span>         array was expected. Please change the shape of y to <span style=\"font-weight: bold\">(</span>n_samples,<span style=\"font-weight: bold\">)</span>, for  <span style=\"color: #7f7f7f; text-decoration-color: #7f7f7f\">               </span>\n",
       "<span style=\"color: #7fbfbf; text-decoration-color: #7fbfbf\">                    </span>         example using <span style=\"color: #800080; text-decoration-color: #800080; font-weight: bold\">ravel</span><span style=\"font-weight: bold\">()</span>.                                                 <span style=\"color: #7f7f7f; text-decoration-color: #7f7f7f\">               </span>\n",
       "<span style=\"color: #7fbfbf; text-decoration-color: #7fbfbf\">                    </span>           return <span style=\"color: #800080; text-decoration-color: #800080; font-weight: bold\">fit_method</span><span style=\"font-weight: bold\">(</span>estimator, *args, **kwargs<span style=\"font-weight: bold\">)</span>                        <span style=\"color: #7f7f7f; text-decoration-color: #7f7f7f\">               </span>\n",
       "<span style=\"color: #7fbfbf; text-decoration-color: #7fbfbf\">                    </span>                                                                                <span style=\"color: #7f7f7f; text-decoration-color: #7f7f7f\">               </span>\n",
       "</pre>\n"
      ],
      "text/plain": [
       "\u001b[2;36m                   \u001b[0m\u001b[2;36m \u001b[0m\u001b[31mWARNING \u001b[0m C:\\Users\\dggua\\anaconda3\\envs\\test_env\\lib\\site-packages\\sklearn\\base. \u001b]8;id=781007;file://C:\\Users\\dggua\\anaconda3\\envs\\test_env\\lib\\warnings.py\u001b\\\u001b[2mwarnings.py\u001b[0m\u001b]8;;\u001b\\\u001b[2m:\u001b[0m\u001b]8;id=372776;file://C:\\Users\\dggua\\anaconda3\\envs\\test_env\\lib\\warnings.py#109\u001b\\\u001b[2m109\u001b[0m\u001b]8;;\u001b\\\n",
       "\u001b[2;36m                    \u001b[0m         py:\u001b[1;36m1351\u001b[0m: DataConversionWarning: A column-vector y was passed when a 1d \u001b[2m               \u001b[0m\n",
       "\u001b[2;36m                    \u001b[0m         array was expected. Please change the shape of y to \u001b[1m(\u001b[0mn_samples,\u001b[1m)\u001b[0m, for  \u001b[2m               \u001b[0m\n",
       "\u001b[2;36m                    \u001b[0m         example using \u001b[1;35mravel\u001b[0m\u001b[1m(\u001b[0m\u001b[1m)\u001b[0m.                                                 \u001b[2m               \u001b[0m\n",
       "\u001b[2;36m                    \u001b[0m           return \u001b[1;35mfit_method\u001b[0m\u001b[1m(\u001b[0mestimator, *args, **kwargs\u001b[1m)\u001b[0m                        \u001b[2m               \u001b[0m\n",
       "\u001b[2;36m                    \u001b[0m                                                                                \u001b[2m               \u001b[0m\n"
      ]
     },
     "metadata": {},
     "output_type": "display_data"
    },
    {
     "data": {
      "text/html": [
       "<pre style=\"white-space:pre;overflow-x:auto;line-height:normal;font-family:Menlo,'DejaVu Sans Mono',consolas,'Courier New',monospace\"><span style=\"color: #7fbfbf; text-decoration-color: #7fbfbf\">[06/22/24 16:18:09] </span><span style=\"color: #800000; text-decoration-color: #800000\">WARNING </span> C:\\Users\\dggua\\anaconda3\\envs\\test_env\\lib\\site-packages\\sklearn\\base. <a href=\"file://C:\\Users\\dggua\\anaconda3\\envs\\test_env\\lib\\warnings.py\" target=\"_blank\"><span style=\"color: #7f7f7f; text-decoration-color: #7f7f7f\">warnings.py</span></a><span style=\"color: #7f7f7f; text-decoration-color: #7f7f7f\">:</span><a href=\"file://C:\\Users\\dggua\\anaconda3\\envs\\test_env\\lib\\warnings.py#109\" target=\"_blank\"><span style=\"color: #7f7f7f; text-decoration-color: #7f7f7f\">109</span></a>\n",
       "<span style=\"color: #7fbfbf; text-decoration-color: #7fbfbf\">                    </span>         py:<span style=\"color: #008080; text-decoration-color: #008080; font-weight: bold\">1351</span>: DataConversionWarning: A column-vector y was passed when a 1d <span style=\"color: #7f7f7f; text-decoration-color: #7f7f7f\">               </span>\n",
       "<span style=\"color: #7fbfbf; text-decoration-color: #7fbfbf\">                    </span>         array was expected. Please change the shape of y to <span style=\"font-weight: bold\">(</span>n_samples,<span style=\"font-weight: bold\">)</span>, for  <span style=\"color: #7f7f7f; text-decoration-color: #7f7f7f\">               </span>\n",
       "<span style=\"color: #7fbfbf; text-decoration-color: #7fbfbf\">                    </span>         example using <span style=\"color: #800080; text-decoration-color: #800080; font-weight: bold\">ravel</span><span style=\"font-weight: bold\">()</span>.                                                 <span style=\"color: #7f7f7f; text-decoration-color: #7f7f7f\">               </span>\n",
       "<span style=\"color: #7fbfbf; text-decoration-color: #7fbfbf\">                    </span>           return <span style=\"color: #800080; text-decoration-color: #800080; font-weight: bold\">fit_method</span><span style=\"font-weight: bold\">(</span>estimator, *args, **kwargs<span style=\"font-weight: bold\">)</span>                        <span style=\"color: #7f7f7f; text-decoration-color: #7f7f7f\">               </span>\n",
       "<span style=\"color: #7fbfbf; text-decoration-color: #7fbfbf\">                    </span>                                                                                <span style=\"color: #7f7f7f; text-decoration-color: #7f7f7f\">               </span>\n",
       "</pre>\n"
      ],
      "text/plain": [
       "\u001b[2;36m[06/22/24 16:18:09]\u001b[0m\u001b[2;36m \u001b[0m\u001b[31mWARNING \u001b[0m C:\\Users\\dggua\\anaconda3\\envs\\test_env\\lib\\site-packages\\sklearn\\base. \u001b]8;id=399555;file://C:\\Users\\dggua\\anaconda3\\envs\\test_env\\lib\\warnings.py\u001b\\\u001b[2mwarnings.py\u001b[0m\u001b]8;;\u001b\\\u001b[2m:\u001b[0m\u001b]8;id=589163;file://C:\\Users\\dggua\\anaconda3\\envs\\test_env\\lib\\warnings.py#109\u001b\\\u001b[2m109\u001b[0m\u001b]8;;\u001b\\\n",
       "\u001b[2;36m                    \u001b[0m         py:\u001b[1;36m1351\u001b[0m: DataConversionWarning: A column-vector y was passed when a 1d \u001b[2m               \u001b[0m\n",
       "\u001b[2;36m                    \u001b[0m         array was expected. Please change the shape of y to \u001b[1m(\u001b[0mn_samples,\u001b[1m)\u001b[0m, for  \u001b[2m               \u001b[0m\n",
       "\u001b[2;36m                    \u001b[0m         example using \u001b[1;35mravel\u001b[0m\u001b[1m(\u001b[0m\u001b[1m)\u001b[0m.                                                 \u001b[2m               \u001b[0m\n",
       "\u001b[2;36m                    \u001b[0m           return \u001b[1;35mfit_method\u001b[0m\u001b[1m(\u001b[0mestimator, *args, **kwargs\u001b[1m)\u001b[0m                        \u001b[2m               \u001b[0m\n",
       "\u001b[2;36m                    \u001b[0m                                                                                \u001b[2m               \u001b[0m\n"
      ]
     },
     "metadata": {},
     "output_type": "display_data"
    },
    {
     "data": {
      "text/html": [
       "<pre style=\"white-space:pre;overflow-x:auto;line-height:normal;font-family:Menlo,'DejaVu Sans Mono',consolas,'Courier New',monospace\"><span style=\"color: #7fbfbf; text-decoration-color: #7fbfbf\">                    </span><span style=\"color: #800000; text-decoration-color: #800000\">WARNING </span> C:\\Users\\dggua\\anaconda3\\envs\\test_env\\lib\\site-packages\\sklearn\\base. <a href=\"file://C:\\Users\\dggua\\anaconda3\\envs\\test_env\\lib\\warnings.py\" target=\"_blank\"><span style=\"color: #7f7f7f; text-decoration-color: #7f7f7f\">warnings.py</span></a><span style=\"color: #7f7f7f; text-decoration-color: #7f7f7f\">:</span><a href=\"file://C:\\Users\\dggua\\anaconda3\\envs\\test_env\\lib\\warnings.py#109\" target=\"_blank\"><span style=\"color: #7f7f7f; text-decoration-color: #7f7f7f\">109</span></a>\n",
       "<span style=\"color: #7fbfbf; text-decoration-color: #7fbfbf\">                    </span>         py:<span style=\"color: #008080; text-decoration-color: #008080; font-weight: bold\">1351</span>: DataConversionWarning: A column-vector y was passed when a 1d <span style=\"color: #7f7f7f; text-decoration-color: #7f7f7f\">               </span>\n",
       "<span style=\"color: #7fbfbf; text-decoration-color: #7fbfbf\">                    </span>         array was expected. Please change the shape of y to <span style=\"font-weight: bold\">(</span>n_samples,<span style=\"font-weight: bold\">)</span>, for  <span style=\"color: #7f7f7f; text-decoration-color: #7f7f7f\">               </span>\n",
       "<span style=\"color: #7fbfbf; text-decoration-color: #7fbfbf\">                    </span>         example using <span style=\"color: #800080; text-decoration-color: #800080; font-weight: bold\">ravel</span><span style=\"font-weight: bold\">()</span>.                                                 <span style=\"color: #7f7f7f; text-decoration-color: #7f7f7f\">               </span>\n",
       "<span style=\"color: #7fbfbf; text-decoration-color: #7fbfbf\">                    </span>           return <span style=\"color: #800080; text-decoration-color: #800080; font-weight: bold\">fit_method</span><span style=\"font-weight: bold\">(</span>estimator, *args, **kwargs<span style=\"font-weight: bold\">)</span>                        <span style=\"color: #7f7f7f; text-decoration-color: #7f7f7f\">               </span>\n",
       "<span style=\"color: #7fbfbf; text-decoration-color: #7fbfbf\">                    </span>                                                                                <span style=\"color: #7f7f7f; text-decoration-color: #7f7f7f\">               </span>\n",
       "</pre>\n"
      ],
      "text/plain": [
       "\u001b[2;36m                   \u001b[0m\u001b[2;36m \u001b[0m\u001b[31mWARNING \u001b[0m C:\\Users\\dggua\\anaconda3\\envs\\test_env\\lib\\site-packages\\sklearn\\base. \u001b]8;id=413103;file://C:\\Users\\dggua\\anaconda3\\envs\\test_env\\lib\\warnings.py\u001b\\\u001b[2mwarnings.py\u001b[0m\u001b]8;;\u001b\\\u001b[2m:\u001b[0m\u001b]8;id=253953;file://C:\\Users\\dggua\\anaconda3\\envs\\test_env\\lib\\warnings.py#109\u001b\\\u001b[2m109\u001b[0m\u001b]8;;\u001b\\\n",
       "\u001b[2;36m                    \u001b[0m         py:\u001b[1;36m1351\u001b[0m: DataConversionWarning: A column-vector y was passed when a 1d \u001b[2m               \u001b[0m\n",
       "\u001b[2;36m                    \u001b[0m         array was expected. Please change the shape of y to \u001b[1m(\u001b[0mn_samples,\u001b[1m)\u001b[0m, for  \u001b[2m               \u001b[0m\n",
       "\u001b[2;36m                    \u001b[0m         example using \u001b[1;35mravel\u001b[0m\u001b[1m(\u001b[0m\u001b[1m)\u001b[0m.                                                 \u001b[2m               \u001b[0m\n",
       "\u001b[2;36m                    \u001b[0m           return \u001b[1;35mfit_method\u001b[0m\u001b[1m(\u001b[0mestimator, *args, **kwargs\u001b[1m)\u001b[0m                        \u001b[2m               \u001b[0m\n",
       "\u001b[2;36m                    \u001b[0m                                                                                \u001b[2m               \u001b[0m\n"
      ]
     },
     "metadata": {},
     "output_type": "display_data"
    },
    {
     "data": {
      "text/html": [
       "<pre style=\"white-space:pre;overflow-x:auto;line-height:normal;font-family:Menlo,'DejaVu Sans Mono',consolas,'Courier New',monospace\"><span style=\"color: #7fbfbf; text-decoration-color: #7fbfbf\">                    </span><span style=\"color: #800000; text-decoration-color: #800000\">WARNING </span> C:\\Users\\dggua\\anaconda3\\envs\\test_env\\lib\\site-packages\\sklearn\\base. <a href=\"file://C:\\Users\\dggua\\anaconda3\\envs\\test_env\\lib\\warnings.py\" target=\"_blank\"><span style=\"color: #7f7f7f; text-decoration-color: #7f7f7f\">warnings.py</span></a><span style=\"color: #7f7f7f; text-decoration-color: #7f7f7f\">:</span><a href=\"file://C:\\Users\\dggua\\anaconda3\\envs\\test_env\\lib\\warnings.py#109\" target=\"_blank\"><span style=\"color: #7f7f7f; text-decoration-color: #7f7f7f\">109</span></a>\n",
       "<span style=\"color: #7fbfbf; text-decoration-color: #7fbfbf\">                    </span>         py:<span style=\"color: #008080; text-decoration-color: #008080; font-weight: bold\">1351</span>: DataConversionWarning: A column-vector y was passed when a 1d <span style=\"color: #7f7f7f; text-decoration-color: #7f7f7f\">               </span>\n",
       "<span style=\"color: #7fbfbf; text-decoration-color: #7fbfbf\">                    </span>         array was expected. Please change the shape of y to <span style=\"font-weight: bold\">(</span>n_samples,<span style=\"font-weight: bold\">)</span>, for  <span style=\"color: #7f7f7f; text-decoration-color: #7f7f7f\">               </span>\n",
       "<span style=\"color: #7fbfbf; text-decoration-color: #7fbfbf\">                    </span>         example using <span style=\"color: #800080; text-decoration-color: #800080; font-weight: bold\">ravel</span><span style=\"font-weight: bold\">()</span>.                                                 <span style=\"color: #7f7f7f; text-decoration-color: #7f7f7f\">               </span>\n",
       "<span style=\"color: #7fbfbf; text-decoration-color: #7fbfbf\">                    </span>           return <span style=\"color: #800080; text-decoration-color: #800080; font-weight: bold\">fit_method</span><span style=\"font-weight: bold\">(</span>estimator, *args, **kwargs<span style=\"font-weight: bold\">)</span>                        <span style=\"color: #7f7f7f; text-decoration-color: #7f7f7f\">               </span>\n",
       "<span style=\"color: #7fbfbf; text-decoration-color: #7fbfbf\">                    </span>                                                                                <span style=\"color: #7f7f7f; text-decoration-color: #7f7f7f\">               </span>\n",
       "</pre>\n"
      ],
      "text/plain": [
       "\u001b[2;36m                   \u001b[0m\u001b[2;36m \u001b[0m\u001b[31mWARNING \u001b[0m C:\\Users\\dggua\\anaconda3\\envs\\test_env\\lib\\site-packages\\sklearn\\base. \u001b]8;id=26990;file://C:\\Users\\dggua\\anaconda3\\envs\\test_env\\lib\\warnings.py\u001b\\\u001b[2mwarnings.py\u001b[0m\u001b]8;;\u001b\\\u001b[2m:\u001b[0m\u001b]8;id=405141;file://C:\\Users\\dggua\\anaconda3\\envs\\test_env\\lib\\warnings.py#109\u001b\\\u001b[2m109\u001b[0m\u001b]8;;\u001b\\\n",
       "\u001b[2;36m                    \u001b[0m         py:\u001b[1;36m1351\u001b[0m: DataConversionWarning: A column-vector y was passed when a 1d \u001b[2m               \u001b[0m\n",
       "\u001b[2;36m                    \u001b[0m         array was expected. Please change the shape of y to \u001b[1m(\u001b[0mn_samples,\u001b[1m)\u001b[0m, for  \u001b[2m               \u001b[0m\n",
       "\u001b[2;36m                    \u001b[0m         example using \u001b[1;35mravel\u001b[0m\u001b[1m(\u001b[0m\u001b[1m)\u001b[0m.                                                 \u001b[2m               \u001b[0m\n",
       "\u001b[2;36m                    \u001b[0m           return \u001b[1;35mfit_method\u001b[0m\u001b[1m(\u001b[0mestimator, *args, **kwargs\u001b[1m)\u001b[0m                        \u001b[2m               \u001b[0m\n",
       "\u001b[2;36m                    \u001b[0m                                                                                \u001b[2m               \u001b[0m\n"
      ]
     },
     "metadata": {},
     "output_type": "display_data"
    },
    {
     "data": {
      "text/html": [
       "<pre style=\"white-space:pre;overflow-x:auto;line-height:normal;font-family:Menlo,'DejaVu Sans Mono',consolas,'Courier New',monospace\"><span style=\"color: #7fbfbf; text-decoration-color: #7fbfbf\">                    </span><span style=\"color: #800000; text-decoration-color: #800000\">WARNING </span> C:\\Users\\dggua\\anaconda3\\envs\\test_env\\lib\\site-packages\\sklearn\\base. <a href=\"file://C:\\Users\\dggua\\anaconda3\\envs\\test_env\\lib\\warnings.py\" target=\"_blank\"><span style=\"color: #7f7f7f; text-decoration-color: #7f7f7f\">warnings.py</span></a><span style=\"color: #7f7f7f; text-decoration-color: #7f7f7f\">:</span><a href=\"file://C:\\Users\\dggua\\anaconda3\\envs\\test_env\\lib\\warnings.py#109\" target=\"_blank\"><span style=\"color: #7f7f7f; text-decoration-color: #7f7f7f\">109</span></a>\n",
       "<span style=\"color: #7fbfbf; text-decoration-color: #7fbfbf\">                    </span>         py:<span style=\"color: #008080; text-decoration-color: #008080; font-weight: bold\">1351</span>: DataConversionWarning: A column-vector y was passed when a 1d <span style=\"color: #7f7f7f; text-decoration-color: #7f7f7f\">               </span>\n",
       "<span style=\"color: #7fbfbf; text-decoration-color: #7fbfbf\">                    </span>         array was expected. Please change the shape of y to <span style=\"font-weight: bold\">(</span>n_samples,<span style=\"font-weight: bold\">)</span>, for  <span style=\"color: #7f7f7f; text-decoration-color: #7f7f7f\">               </span>\n",
       "<span style=\"color: #7fbfbf; text-decoration-color: #7fbfbf\">                    </span>         example using <span style=\"color: #800080; text-decoration-color: #800080; font-weight: bold\">ravel</span><span style=\"font-weight: bold\">()</span>.                                                 <span style=\"color: #7f7f7f; text-decoration-color: #7f7f7f\">               </span>\n",
       "<span style=\"color: #7fbfbf; text-decoration-color: #7fbfbf\">                    </span>           return <span style=\"color: #800080; text-decoration-color: #800080; font-weight: bold\">fit_method</span><span style=\"font-weight: bold\">(</span>estimator, *args, **kwargs<span style=\"font-weight: bold\">)</span>                        <span style=\"color: #7f7f7f; text-decoration-color: #7f7f7f\">               </span>\n",
       "<span style=\"color: #7fbfbf; text-decoration-color: #7fbfbf\">                    </span>                                                                                <span style=\"color: #7f7f7f; text-decoration-color: #7f7f7f\">               </span>\n",
       "</pre>\n"
      ],
      "text/plain": [
       "\u001b[2;36m                   \u001b[0m\u001b[2;36m \u001b[0m\u001b[31mWARNING \u001b[0m C:\\Users\\dggua\\anaconda3\\envs\\test_env\\lib\\site-packages\\sklearn\\base. \u001b]8;id=690956;file://C:\\Users\\dggua\\anaconda3\\envs\\test_env\\lib\\warnings.py\u001b\\\u001b[2mwarnings.py\u001b[0m\u001b]8;;\u001b\\\u001b[2m:\u001b[0m\u001b]8;id=20378;file://C:\\Users\\dggua\\anaconda3\\envs\\test_env\\lib\\warnings.py#109\u001b\\\u001b[2m109\u001b[0m\u001b]8;;\u001b\\\n",
       "\u001b[2;36m                    \u001b[0m         py:\u001b[1;36m1351\u001b[0m: DataConversionWarning: A column-vector y was passed when a 1d \u001b[2m               \u001b[0m\n",
       "\u001b[2;36m                    \u001b[0m         array was expected. Please change the shape of y to \u001b[1m(\u001b[0mn_samples,\u001b[1m)\u001b[0m, for  \u001b[2m               \u001b[0m\n",
       "\u001b[2;36m                    \u001b[0m         example using \u001b[1;35mravel\u001b[0m\u001b[1m(\u001b[0m\u001b[1m)\u001b[0m.                                                 \u001b[2m               \u001b[0m\n",
       "\u001b[2;36m                    \u001b[0m           return \u001b[1;35mfit_method\u001b[0m\u001b[1m(\u001b[0mestimator, *args, **kwargs\u001b[1m)\u001b[0m                        \u001b[2m               \u001b[0m\n",
       "\u001b[2;36m                    \u001b[0m                                                                                \u001b[2m               \u001b[0m\n"
      ]
     },
     "metadata": {},
     "output_type": "display_data"
    },
    {
     "data": {
      "text/html": [
       "<pre style=\"white-space:pre;overflow-x:auto;line-height:normal;font-family:Menlo,'DejaVu Sans Mono',consolas,'Courier New',monospace\"><span style=\"color: #7fbfbf; text-decoration-color: #7fbfbf\">                    </span><span style=\"color: #800000; text-decoration-color: #800000\">WARNING </span> C:\\Users\\dggua\\anaconda3\\envs\\test_env\\lib\\site-packages\\sklearn\\base. <a href=\"file://C:\\Users\\dggua\\anaconda3\\envs\\test_env\\lib\\warnings.py\" target=\"_blank\"><span style=\"color: #7f7f7f; text-decoration-color: #7f7f7f\">warnings.py</span></a><span style=\"color: #7f7f7f; text-decoration-color: #7f7f7f\">:</span><a href=\"file://C:\\Users\\dggua\\anaconda3\\envs\\test_env\\lib\\warnings.py#109\" target=\"_blank\"><span style=\"color: #7f7f7f; text-decoration-color: #7f7f7f\">109</span></a>\n",
       "<span style=\"color: #7fbfbf; text-decoration-color: #7fbfbf\">                    </span>         py:<span style=\"color: #008080; text-decoration-color: #008080; font-weight: bold\">1351</span>: DataConversionWarning: A column-vector y was passed when a 1d <span style=\"color: #7f7f7f; text-decoration-color: #7f7f7f\">               </span>\n",
       "<span style=\"color: #7fbfbf; text-decoration-color: #7fbfbf\">                    </span>         array was expected. Please change the shape of y to <span style=\"font-weight: bold\">(</span>n_samples,<span style=\"font-weight: bold\">)</span>, for  <span style=\"color: #7f7f7f; text-decoration-color: #7f7f7f\">               </span>\n",
       "<span style=\"color: #7fbfbf; text-decoration-color: #7fbfbf\">                    </span>         example using <span style=\"color: #800080; text-decoration-color: #800080; font-weight: bold\">ravel</span><span style=\"font-weight: bold\">()</span>.                                                 <span style=\"color: #7f7f7f; text-decoration-color: #7f7f7f\">               </span>\n",
       "<span style=\"color: #7fbfbf; text-decoration-color: #7fbfbf\">                    </span>           return <span style=\"color: #800080; text-decoration-color: #800080; font-weight: bold\">fit_method</span><span style=\"font-weight: bold\">(</span>estimator, *args, **kwargs<span style=\"font-weight: bold\">)</span>                        <span style=\"color: #7f7f7f; text-decoration-color: #7f7f7f\">               </span>\n",
       "<span style=\"color: #7fbfbf; text-decoration-color: #7fbfbf\">                    </span>                                                                                <span style=\"color: #7f7f7f; text-decoration-color: #7f7f7f\">               </span>\n",
       "</pre>\n"
      ],
      "text/plain": [
       "\u001b[2;36m                   \u001b[0m\u001b[2;36m \u001b[0m\u001b[31mWARNING \u001b[0m C:\\Users\\dggua\\anaconda3\\envs\\test_env\\lib\\site-packages\\sklearn\\base. \u001b]8;id=426071;file://C:\\Users\\dggua\\anaconda3\\envs\\test_env\\lib\\warnings.py\u001b\\\u001b[2mwarnings.py\u001b[0m\u001b]8;;\u001b\\\u001b[2m:\u001b[0m\u001b]8;id=249250;file://C:\\Users\\dggua\\anaconda3\\envs\\test_env\\lib\\warnings.py#109\u001b\\\u001b[2m109\u001b[0m\u001b]8;;\u001b\\\n",
       "\u001b[2;36m                    \u001b[0m         py:\u001b[1;36m1351\u001b[0m: DataConversionWarning: A column-vector y was passed when a 1d \u001b[2m               \u001b[0m\n",
       "\u001b[2;36m                    \u001b[0m         array was expected. Please change the shape of y to \u001b[1m(\u001b[0mn_samples,\u001b[1m)\u001b[0m, for  \u001b[2m               \u001b[0m\n",
       "\u001b[2;36m                    \u001b[0m         example using \u001b[1;35mravel\u001b[0m\u001b[1m(\u001b[0m\u001b[1m)\u001b[0m.                                                 \u001b[2m               \u001b[0m\n",
       "\u001b[2;36m                    \u001b[0m           return \u001b[1;35mfit_method\u001b[0m\u001b[1m(\u001b[0mestimator, *args, **kwargs\u001b[1m)\u001b[0m                        \u001b[2m               \u001b[0m\n",
       "\u001b[2;36m                    \u001b[0m                                                                                \u001b[2m               \u001b[0m\n"
      ]
     },
     "metadata": {},
     "output_type": "display_data"
    },
    {
     "data": {
      "text/html": [
       "<pre style=\"white-space:pre;overflow-x:auto;line-height:normal;font-family:Menlo,'DejaVu Sans Mono',consolas,'Courier New',monospace\"><span style=\"color: #7fbfbf; text-decoration-color: #7fbfbf\">                    </span><span style=\"color: #800000; text-decoration-color: #800000\">WARNING </span> C:\\Users\\dggua\\anaconda3\\envs\\test_env\\lib\\site-packages\\sklearn\\base. <a href=\"file://C:\\Users\\dggua\\anaconda3\\envs\\test_env\\lib\\warnings.py\" target=\"_blank\"><span style=\"color: #7f7f7f; text-decoration-color: #7f7f7f\">warnings.py</span></a><span style=\"color: #7f7f7f; text-decoration-color: #7f7f7f\">:</span><a href=\"file://C:\\Users\\dggua\\anaconda3\\envs\\test_env\\lib\\warnings.py#109\" target=\"_blank\"><span style=\"color: #7f7f7f; text-decoration-color: #7f7f7f\">109</span></a>\n",
       "<span style=\"color: #7fbfbf; text-decoration-color: #7fbfbf\">                    </span>         py:<span style=\"color: #008080; text-decoration-color: #008080; font-weight: bold\">1351</span>: DataConversionWarning: A column-vector y was passed when a 1d <span style=\"color: #7f7f7f; text-decoration-color: #7f7f7f\">               </span>\n",
       "<span style=\"color: #7fbfbf; text-decoration-color: #7fbfbf\">                    </span>         array was expected. Please change the shape of y to <span style=\"font-weight: bold\">(</span>n_samples,<span style=\"font-weight: bold\">)</span>, for  <span style=\"color: #7f7f7f; text-decoration-color: #7f7f7f\">               </span>\n",
       "<span style=\"color: #7fbfbf; text-decoration-color: #7fbfbf\">                    </span>         example using <span style=\"color: #800080; text-decoration-color: #800080; font-weight: bold\">ravel</span><span style=\"font-weight: bold\">()</span>.                                                 <span style=\"color: #7f7f7f; text-decoration-color: #7f7f7f\">               </span>\n",
       "<span style=\"color: #7fbfbf; text-decoration-color: #7fbfbf\">                    </span>           return <span style=\"color: #800080; text-decoration-color: #800080; font-weight: bold\">fit_method</span><span style=\"font-weight: bold\">(</span>estimator, *args, **kwargs<span style=\"font-weight: bold\">)</span>                        <span style=\"color: #7f7f7f; text-decoration-color: #7f7f7f\">               </span>\n",
       "<span style=\"color: #7fbfbf; text-decoration-color: #7fbfbf\">                    </span>                                                                                <span style=\"color: #7f7f7f; text-decoration-color: #7f7f7f\">               </span>\n",
       "</pre>\n"
      ],
      "text/plain": [
       "\u001b[2;36m                   \u001b[0m\u001b[2;36m \u001b[0m\u001b[31mWARNING \u001b[0m C:\\Users\\dggua\\anaconda3\\envs\\test_env\\lib\\site-packages\\sklearn\\base. \u001b]8;id=119879;file://C:\\Users\\dggua\\anaconda3\\envs\\test_env\\lib\\warnings.py\u001b\\\u001b[2mwarnings.py\u001b[0m\u001b]8;;\u001b\\\u001b[2m:\u001b[0m\u001b]8;id=875495;file://C:\\Users\\dggua\\anaconda3\\envs\\test_env\\lib\\warnings.py#109\u001b\\\u001b[2m109\u001b[0m\u001b]8;;\u001b\\\n",
       "\u001b[2;36m                    \u001b[0m         py:\u001b[1;36m1351\u001b[0m: DataConversionWarning: A column-vector y was passed when a 1d \u001b[2m               \u001b[0m\n",
       "\u001b[2;36m                    \u001b[0m         array was expected. Please change the shape of y to \u001b[1m(\u001b[0mn_samples,\u001b[1m)\u001b[0m, for  \u001b[2m               \u001b[0m\n",
       "\u001b[2;36m                    \u001b[0m         example using \u001b[1;35mravel\u001b[0m\u001b[1m(\u001b[0m\u001b[1m)\u001b[0m.                                                 \u001b[2m               \u001b[0m\n",
       "\u001b[2;36m                    \u001b[0m           return \u001b[1;35mfit_method\u001b[0m\u001b[1m(\u001b[0mestimator, *args, **kwargs\u001b[1m)\u001b[0m                        \u001b[2m               \u001b[0m\n",
       "\u001b[2;36m                    \u001b[0m                                                                                \u001b[2m               \u001b[0m\n"
      ]
     },
     "metadata": {},
     "output_type": "display_data"
    },
    {
     "data": {
      "text/html": [
       "<pre style=\"white-space:pre;overflow-x:auto;line-height:normal;font-family:Menlo,'DejaVu Sans Mono',consolas,'Courier New',monospace\"><span style=\"color: #7fbfbf; text-decoration-color: #7fbfbf\">                    </span><span style=\"color: #800000; text-decoration-color: #800000\">WARNING </span> C:\\Users\\dggua\\anaconda3\\envs\\test_env\\lib\\site-packages\\sklearn\\base. <a href=\"file://C:\\Users\\dggua\\anaconda3\\envs\\test_env\\lib\\warnings.py\" target=\"_blank\"><span style=\"color: #7f7f7f; text-decoration-color: #7f7f7f\">warnings.py</span></a><span style=\"color: #7f7f7f; text-decoration-color: #7f7f7f\">:</span><a href=\"file://C:\\Users\\dggua\\anaconda3\\envs\\test_env\\lib\\warnings.py#109\" target=\"_blank\"><span style=\"color: #7f7f7f; text-decoration-color: #7f7f7f\">109</span></a>\n",
       "<span style=\"color: #7fbfbf; text-decoration-color: #7fbfbf\">                    </span>         py:<span style=\"color: #008080; text-decoration-color: #008080; font-weight: bold\">1351</span>: DataConversionWarning: A column-vector y was passed when a 1d <span style=\"color: #7f7f7f; text-decoration-color: #7f7f7f\">               </span>\n",
       "<span style=\"color: #7fbfbf; text-decoration-color: #7fbfbf\">                    </span>         array was expected. Please change the shape of y to <span style=\"font-weight: bold\">(</span>n_samples,<span style=\"font-weight: bold\">)</span>, for  <span style=\"color: #7f7f7f; text-decoration-color: #7f7f7f\">               </span>\n",
       "<span style=\"color: #7fbfbf; text-decoration-color: #7fbfbf\">                    </span>         example using <span style=\"color: #800080; text-decoration-color: #800080; font-weight: bold\">ravel</span><span style=\"font-weight: bold\">()</span>.                                                 <span style=\"color: #7f7f7f; text-decoration-color: #7f7f7f\">               </span>\n",
       "<span style=\"color: #7fbfbf; text-decoration-color: #7fbfbf\">                    </span>           return <span style=\"color: #800080; text-decoration-color: #800080; font-weight: bold\">fit_method</span><span style=\"font-weight: bold\">(</span>estimator, *args, **kwargs<span style=\"font-weight: bold\">)</span>                        <span style=\"color: #7f7f7f; text-decoration-color: #7f7f7f\">               </span>\n",
       "<span style=\"color: #7fbfbf; text-decoration-color: #7fbfbf\">                    </span>                                                                                <span style=\"color: #7f7f7f; text-decoration-color: #7f7f7f\">               </span>\n",
       "</pre>\n"
      ],
      "text/plain": [
       "\u001b[2;36m                   \u001b[0m\u001b[2;36m \u001b[0m\u001b[31mWARNING \u001b[0m C:\\Users\\dggua\\anaconda3\\envs\\test_env\\lib\\site-packages\\sklearn\\base. \u001b]8;id=268784;file://C:\\Users\\dggua\\anaconda3\\envs\\test_env\\lib\\warnings.py\u001b\\\u001b[2mwarnings.py\u001b[0m\u001b]8;;\u001b\\\u001b[2m:\u001b[0m\u001b]8;id=123761;file://C:\\Users\\dggua\\anaconda3\\envs\\test_env\\lib\\warnings.py#109\u001b\\\u001b[2m109\u001b[0m\u001b]8;;\u001b\\\n",
       "\u001b[2;36m                    \u001b[0m         py:\u001b[1;36m1351\u001b[0m: DataConversionWarning: A column-vector y was passed when a 1d \u001b[2m               \u001b[0m\n",
       "\u001b[2;36m                    \u001b[0m         array was expected. Please change the shape of y to \u001b[1m(\u001b[0mn_samples,\u001b[1m)\u001b[0m, for  \u001b[2m               \u001b[0m\n",
       "\u001b[2;36m                    \u001b[0m         example using \u001b[1;35mravel\u001b[0m\u001b[1m(\u001b[0m\u001b[1m)\u001b[0m.                                                 \u001b[2m               \u001b[0m\n",
       "\u001b[2;36m                    \u001b[0m           return \u001b[1;35mfit_method\u001b[0m\u001b[1m(\u001b[0mestimator, *args, **kwargs\u001b[1m)\u001b[0m                        \u001b[2m               \u001b[0m\n",
       "\u001b[2;36m                    \u001b[0m                                                                                \u001b[2m               \u001b[0m\n"
      ]
     },
     "metadata": {},
     "output_type": "display_data"
    },
    {
     "data": {
      "text/html": [
       "<pre style=\"white-space:pre;overflow-x:auto;line-height:normal;font-family:Menlo,'DejaVu Sans Mono',consolas,'Courier New',monospace\"><span style=\"color: #7fbfbf; text-decoration-color: #7fbfbf\">                    </span><span style=\"color: #800000; text-decoration-color: #800000\">WARNING </span> C:\\Users\\dggua\\anaconda3\\envs\\test_env\\lib\\site-packages\\sklearn\\base. <a href=\"file://C:\\Users\\dggua\\anaconda3\\envs\\test_env\\lib\\warnings.py\" target=\"_blank\"><span style=\"color: #7f7f7f; text-decoration-color: #7f7f7f\">warnings.py</span></a><span style=\"color: #7f7f7f; text-decoration-color: #7f7f7f\">:</span><a href=\"file://C:\\Users\\dggua\\anaconda3\\envs\\test_env\\lib\\warnings.py#109\" target=\"_blank\"><span style=\"color: #7f7f7f; text-decoration-color: #7f7f7f\">109</span></a>\n",
       "<span style=\"color: #7fbfbf; text-decoration-color: #7fbfbf\">                    </span>         py:<span style=\"color: #008080; text-decoration-color: #008080; font-weight: bold\">1351</span>: DataConversionWarning: A column-vector y was passed when a 1d <span style=\"color: #7f7f7f; text-decoration-color: #7f7f7f\">               </span>\n",
       "<span style=\"color: #7fbfbf; text-decoration-color: #7fbfbf\">                    </span>         array was expected. Please change the shape of y to <span style=\"font-weight: bold\">(</span>n_samples,<span style=\"font-weight: bold\">)</span>, for  <span style=\"color: #7f7f7f; text-decoration-color: #7f7f7f\">               </span>\n",
       "<span style=\"color: #7fbfbf; text-decoration-color: #7fbfbf\">                    </span>         example using <span style=\"color: #800080; text-decoration-color: #800080; font-weight: bold\">ravel</span><span style=\"font-weight: bold\">()</span>.                                                 <span style=\"color: #7f7f7f; text-decoration-color: #7f7f7f\">               </span>\n",
       "<span style=\"color: #7fbfbf; text-decoration-color: #7fbfbf\">                    </span>           return <span style=\"color: #800080; text-decoration-color: #800080; font-weight: bold\">fit_method</span><span style=\"font-weight: bold\">(</span>estimator, *args, **kwargs<span style=\"font-weight: bold\">)</span>                        <span style=\"color: #7f7f7f; text-decoration-color: #7f7f7f\">               </span>\n",
       "<span style=\"color: #7fbfbf; text-decoration-color: #7fbfbf\">                    </span>                                                                                <span style=\"color: #7f7f7f; text-decoration-color: #7f7f7f\">               </span>\n",
       "</pre>\n"
      ],
      "text/plain": [
       "\u001b[2;36m                   \u001b[0m\u001b[2;36m \u001b[0m\u001b[31mWARNING \u001b[0m C:\\Users\\dggua\\anaconda3\\envs\\test_env\\lib\\site-packages\\sklearn\\base. \u001b]8;id=548565;file://C:\\Users\\dggua\\anaconda3\\envs\\test_env\\lib\\warnings.py\u001b\\\u001b[2mwarnings.py\u001b[0m\u001b]8;;\u001b\\\u001b[2m:\u001b[0m\u001b]8;id=218237;file://C:\\Users\\dggua\\anaconda3\\envs\\test_env\\lib\\warnings.py#109\u001b\\\u001b[2m109\u001b[0m\u001b]8;;\u001b\\\n",
       "\u001b[2;36m                    \u001b[0m         py:\u001b[1;36m1351\u001b[0m: DataConversionWarning: A column-vector y was passed when a 1d \u001b[2m               \u001b[0m\n",
       "\u001b[2;36m                    \u001b[0m         array was expected. Please change the shape of y to \u001b[1m(\u001b[0mn_samples,\u001b[1m)\u001b[0m, for  \u001b[2m               \u001b[0m\n",
       "\u001b[2;36m                    \u001b[0m         example using \u001b[1;35mravel\u001b[0m\u001b[1m(\u001b[0m\u001b[1m)\u001b[0m.                                                 \u001b[2m               \u001b[0m\n",
       "\u001b[2;36m                    \u001b[0m           return \u001b[1;35mfit_method\u001b[0m\u001b[1m(\u001b[0mestimator, *args, **kwargs\u001b[1m)\u001b[0m                        \u001b[2m               \u001b[0m\n",
       "\u001b[2;36m                    \u001b[0m                                                                                \u001b[2m               \u001b[0m\n"
      ]
     },
     "metadata": {},
     "output_type": "display_data"
    },
    {
     "data": {
      "text/html": [
       "<pre style=\"white-space:pre;overflow-x:auto;line-height:normal;font-family:Menlo,'DejaVu Sans Mono',consolas,'Courier New',monospace\"><span style=\"color: #7fbfbf; text-decoration-color: #7fbfbf\">                    </span><span style=\"color: #800000; text-decoration-color: #800000\">WARNING </span> C:\\Users\\dggua\\anaconda3\\envs\\test_env\\lib\\site-packages\\sklearn\\base. <a href=\"file://C:\\Users\\dggua\\anaconda3\\envs\\test_env\\lib\\warnings.py\" target=\"_blank\"><span style=\"color: #7f7f7f; text-decoration-color: #7f7f7f\">warnings.py</span></a><span style=\"color: #7f7f7f; text-decoration-color: #7f7f7f\">:</span><a href=\"file://C:\\Users\\dggua\\anaconda3\\envs\\test_env\\lib\\warnings.py#109\" target=\"_blank\"><span style=\"color: #7f7f7f; text-decoration-color: #7f7f7f\">109</span></a>\n",
       "<span style=\"color: #7fbfbf; text-decoration-color: #7fbfbf\">                    </span>         py:<span style=\"color: #008080; text-decoration-color: #008080; font-weight: bold\">1351</span>: DataConversionWarning: A column-vector y was passed when a 1d <span style=\"color: #7f7f7f; text-decoration-color: #7f7f7f\">               </span>\n",
       "<span style=\"color: #7fbfbf; text-decoration-color: #7fbfbf\">                    </span>         array was expected. Please change the shape of y to <span style=\"font-weight: bold\">(</span>n_samples,<span style=\"font-weight: bold\">)</span>, for  <span style=\"color: #7f7f7f; text-decoration-color: #7f7f7f\">               </span>\n",
       "<span style=\"color: #7fbfbf; text-decoration-color: #7fbfbf\">                    </span>         example using <span style=\"color: #800080; text-decoration-color: #800080; font-weight: bold\">ravel</span><span style=\"font-weight: bold\">()</span>.                                                 <span style=\"color: #7f7f7f; text-decoration-color: #7f7f7f\">               </span>\n",
       "<span style=\"color: #7fbfbf; text-decoration-color: #7fbfbf\">                    </span>           return <span style=\"color: #800080; text-decoration-color: #800080; font-weight: bold\">fit_method</span><span style=\"font-weight: bold\">(</span>estimator, *args, **kwargs<span style=\"font-weight: bold\">)</span>                        <span style=\"color: #7f7f7f; text-decoration-color: #7f7f7f\">               </span>\n",
       "<span style=\"color: #7fbfbf; text-decoration-color: #7fbfbf\">                    </span>                                                                                <span style=\"color: #7f7f7f; text-decoration-color: #7f7f7f\">               </span>\n",
       "</pre>\n"
      ],
      "text/plain": [
       "\u001b[2;36m                   \u001b[0m\u001b[2;36m \u001b[0m\u001b[31mWARNING \u001b[0m C:\\Users\\dggua\\anaconda3\\envs\\test_env\\lib\\site-packages\\sklearn\\base. \u001b]8;id=21560;file://C:\\Users\\dggua\\anaconda3\\envs\\test_env\\lib\\warnings.py\u001b\\\u001b[2mwarnings.py\u001b[0m\u001b]8;;\u001b\\\u001b[2m:\u001b[0m\u001b]8;id=95367;file://C:\\Users\\dggua\\anaconda3\\envs\\test_env\\lib\\warnings.py#109\u001b\\\u001b[2m109\u001b[0m\u001b]8;;\u001b\\\n",
       "\u001b[2;36m                    \u001b[0m         py:\u001b[1;36m1351\u001b[0m: DataConversionWarning: A column-vector y was passed when a 1d \u001b[2m               \u001b[0m\n",
       "\u001b[2;36m                    \u001b[0m         array was expected. Please change the shape of y to \u001b[1m(\u001b[0mn_samples,\u001b[1m)\u001b[0m, for  \u001b[2m               \u001b[0m\n",
       "\u001b[2;36m                    \u001b[0m         example using \u001b[1;35mravel\u001b[0m\u001b[1m(\u001b[0m\u001b[1m)\u001b[0m.                                                 \u001b[2m               \u001b[0m\n",
       "\u001b[2;36m                    \u001b[0m           return \u001b[1;35mfit_method\u001b[0m\u001b[1m(\u001b[0mestimator, *args, **kwargs\u001b[1m)\u001b[0m                        \u001b[2m               \u001b[0m\n",
       "\u001b[2;36m                    \u001b[0m                                                                                \u001b[2m               \u001b[0m\n"
      ]
     },
     "metadata": {},
     "output_type": "display_data"
    },
    {
     "data": {
      "text/html": [
       "<pre style=\"white-space:pre;overflow-x:auto;line-height:normal;font-family:Menlo,'DejaVu Sans Mono',consolas,'Courier New',monospace\"><span style=\"color: #7fbfbf; text-decoration-color: #7fbfbf\">                    </span><span style=\"color: #800000; text-decoration-color: #800000\">WARNING </span> C:\\Users\\dggua\\anaconda3\\envs\\test_env\\lib\\site-packages\\sklearn\\base. <a href=\"file://C:\\Users\\dggua\\anaconda3\\envs\\test_env\\lib\\warnings.py\" target=\"_blank\"><span style=\"color: #7f7f7f; text-decoration-color: #7f7f7f\">warnings.py</span></a><span style=\"color: #7f7f7f; text-decoration-color: #7f7f7f\">:</span><a href=\"file://C:\\Users\\dggua\\anaconda3\\envs\\test_env\\lib\\warnings.py#109\" target=\"_blank\"><span style=\"color: #7f7f7f; text-decoration-color: #7f7f7f\">109</span></a>\n",
       "<span style=\"color: #7fbfbf; text-decoration-color: #7fbfbf\">                    </span>         py:<span style=\"color: #008080; text-decoration-color: #008080; font-weight: bold\">1351</span>: DataConversionWarning: A column-vector y was passed when a 1d <span style=\"color: #7f7f7f; text-decoration-color: #7f7f7f\">               </span>\n",
       "<span style=\"color: #7fbfbf; text-decoration-color: #7fbfbf\">                    </span>         array was expected. Please change the shape of y to <span style=\"font-weight: bold\">(</span>n_samples,<span style=\"font-weight: bold\">)</span>, for  <span style=\"color: #7f7f7f; text-decoration-color: #7f7f7f\">               </span>\n",
       "<span style=\"color: #7fbfbf; text-decoration-color: #7fbfbf\">                    </span>         example using <span style=\"color: #800080; text-decoration-color: #800080; font-weight: bold\">ravel</span><span style=\"font-weight: bold\">()</span>.                                                 <span style=\"color: #7f7f7f; text-decoration-color: #7f7f7f\">               </span>\n",
       "<span style=\"color: #7fbfbf; text-decoration-color: #7fbfbf\">                    </span>           return <span style=\"color: #800080; text-decoration-color: #800080; font-weight: bold\">fit_method</span><span style=\"font-weight: bold\">(</span>estimator, *args, **kwargs<span style=\"font-weight: bold\">)</span>                        <span style=\"color: #7f7f7f; text-decoration-color: #7f7f7f\">               </span>\n",
       "<span style=\"color: #7fbfbf; text-decoration-color: #7fbfbf\">                    </span>                                                                                <span style=\"color: #7f7f7f; text-decoration-color: #7f7f7f\">               </span>\n",
       "</pre>\n"
      ],
      "text/plain": [
       "\u001b[2;36m                   \u001b[0m\u001b[2;36m \u001b[0m\u001b[31mWARNING \u001b[0m C:\\Users\\dggua\\anaconda3\\envs\\test_env\\lib\\site-packages\\sklearn\\base. \u001b]8;id=145370;file://C:\\Users\\dggua\\anaconda3\\envs\\test_env\\lib\\warnings.py\u001b\\\u001b[2mwarnings.py\u001b[0m\u001b]8;;\u001b\\\u001b[2m:\u001b[0m\u001b]8;id=564989;file://C:\\Users\\dggua\\anaconda3\\envs\\test_env\\lib\\warnings.py#109\u001b\\\u001b[2m109\u001b[0m\u001b]8;;\u001b\\\n",
       "\u001b[2;36m                    \u001b[0m         py:\u001b[1;36m1351\u001b[0m: DataConversionWarning: A column-vector y was passed when a 1d \u001b[2m               \u001b[0m\n",
       "\u001b[2;36m                    \u001b[0m         array was expected. Please change the shape of y to \u001b[1m(\u001b[0mn_samples,\u001b[1m)\u001b[0m, for  \u001b[2m               \u001b[0m\n",
       "\u001b[2;36m                    \u001b[0m         example using \u001b[1;35mravel\u001b[0m\u001b[1m(\u001b[0m\u001b[1m)\u001b[0m.                                                 \u001b[2m               \u001b[0m\n",
       "\u001b[2;36m                    \u001b[0m           return \u001b[1;35mfit_method\u001b[0m\u001b[1m(\u001b[0mestimator, *args, **kwargs\u001b[1m)\u001b[0m                        \u001b[2m               \u001b[0m\n",
       "\u001b[2;36m                    \u001b[0m                                                                                \u001b[2m               \u001b[0m\n"
      ]
     },
     "metadata": {},
     "output_type": "display_data"
    },
    {
     "data": {
      "text/html": [
       "<pre style=\"white-space:pre;overflow-x:auto;line-height:normal;font-family:Menlo,'DejaVu Sans Mono',consolas,'Courier New',monospace\"><span style=\"color: #7fbfbf; text-decoration-color: #7fbfbf\">                    </span><span style=\"color: #800000; text-decoration-color: #800000\">WARNING </span> C:\\Users\\dggua\\anaconda3\\envs\\test_env\\lib\\site-packages\\sklearn\\base. <a href=\"file://C:\\Users\\dggua\\anaconda3\\envs\\test_env\\lib\\warnings.py\" target=\"_blank\"><span style=\"color: #7f7f7f; text-decoration-color: #7f7f7f\">warnings.py</span></a><span style=\"color: #7f7f7f; text-decoration-color: #7f7f7f\">:</span><a href=\"file://C:\\Users\\dggua\\anaconda3\\envs\\test_env\\lib\\warnings.py#109\" target=\"_blank\"><span style=\"color: #7f7f7f; text-decoration-color: #7f7f7f\">109</span></a>\n",
       "<span style=\"color: #7fbfbf; text-decoration-color: #7fbfbf\">                    </span>         py:<span style=\"color: #008080; text-decoration-color: #008080; font-weight: bold\">1351</span>: DataConversionWarning: A column-vector y was passed when a 1d <span style=\"color: #7f7f7f; text-decoration-color: #7f7f7f\">               </span>\n",
       "<span style=\"color: #7fbfbf; text-decoration-color: #7fbfbf\">                    </span>         array was expected. Please change the shape of y to <span style=\"font-weight: bold\">(</span>n_samples,<span style=\"font-weight: bold\">)</span>, for  <span style=\"color: #7f7f7f; text-decoration-color: #7f7f7f\">               </span>\n",
       "<span style=\"color: #7fbfbf; text-decoration-color: #7fbfbf\">                    </span>         example using <span style=\"color: #800080; text-decoration-color: #800080; font-weight: bold\">ravel</span><span style=\"font-weight: bold\">()</span>.                                                 <span style=\"color: #7f7f7f; text-decoration-color: #7f7f7f\">               </span>\n",
       "<span style=\"color: #7fbfbf; text-decoration-color: #7fbfbf\">                    </span>           return <span style=\"color: #800080; text-decoration-color: #800080; font-weight: bold\">fit_method</span><span style=\"font-weight: bold\">(</span>estimator, *args, **kwargs<span style=\"font-weight: bold\">)</span>                        <span style=\"color: #7f7f7f; text-decoration-color: #7f7f7f\">               </span>\n",
       "<span style=\"color: #7fbfbf; text-decoration-color: #7fbfbf\">                    </span>                                                                                <span style=\"color: #7f7f7f; text-decoration-color: #7f7f7f\">               </span>\n",
       "</pre>\n"
      ],
      "text/plain": [
       "\u001b[2;36m                   \u001b[0m\u001b[2;36m \u001b[0m\u001b[31mWARNING \u001b[0m C:\\Users\\dggua\\anaconda3\\envs\\test_env\\lib\\site-packages\\sklearn\\base. \u001b]8;id=651185;file://C:\\Users\\dggua\\anaconda3\\envs\\test_env\\lib\\warnings.py\u001b\\\u001b[2mwarnings.py\u001b[0m\u001b]8;;\u001b\\\u001b[2m:\u001b[0m\u001b]8;id=140778;file://C:\\Users\\dggua\\anaconda3\\envs\\test_env\\lib\\warnings.py#109\u001b\\\u001b[2m109\u001b[0m\u001b]8;;\u001b\\\n",
       "\u001b[2;36m                    \u001b[0m         py:\u001b[1;36m1351\u001b[0m: DataConversionWarning: A column-vector y was passed when a 1d \u001b[2m               \u001b[0m\n",
       "\u001b[2;36m                    \u001b[0m         array was expected. Please change the shape of y to \u001b[1m(\u001b[0mn_samples,\u001b[1m)\u001b[0m, for  \u001b[2m               \u001b[0m\n",
       "\u001b[2;36m                    \u001b[0m         example using \u001b[1;35mravel\u001b[0m\u001b[1m(\u001b[0m\u001b[1m)\u001b[0m.                                                 \u001b[2m               \u001b[0m\n",
       "\u001b[2;36m                    \u001b[0m           return \u001b[1;35mfit_method\u001b[0m\u001b[1m(\u001b[0mestimator, *args, **kwargs\u001b[1m)\u001b[0m                        \u001b[2m               \u001b[0m\n",
       "\u001b[2;36m                    \u001b[0m                                                                                \u001b[2m               \u001b[0m\n"
      ]
     },
     "metadata": {},
     "output_type": "display_data"
    },
    {
     "data": {
      "text/html": [
       "<pre style=\"white-space:pre;overflow-x:auto;line-height:normal;font-family:Menlo,'DejaVu Sans Mono',consolas,'Courier New',monospace\"><span style=\"color: #7fbfbf; text-decoration-color: #7fbfbf\">                    </span><span style=\"color: #800000; text-decoration-color: #800000\">WARNING </span> C:\\Users\\dggua\\anaconda3\\envs\\test_env\\lib\\site-packages\\sklearn\\base. <a href=\"file://C:\\Users\\dggua\\anaconda3\\envs\\test_env\\lib\\warnings.py\" target=\"_blank\"><span style=\"color: #7f7f7f; text-decoration-color: #7f7f7f\">warnings.py</span></a><span style=\"color: #7f7f7f; text-decoration-color: #7f7f7f\">:</span><a href=\"file://C:\\Users\\dggua\\anaconda3\\envs\\test_env\\lib\\warnings.py#109\" target=\"_blank\"><span style=\"color: #7f7f7f; text-decoration-color: #7f7f7f\">109</span></a>\n",
       "<span style=\"color: #7fbfbf; text-decoration-color: #7fbfbf\">                    </span>         py:<span style=\"color: #008080; text-decoration-color: #008080; font-weight: bold\">1351</span>: DataConversionWarning: A column-vector y was passed when a 1d <span style=\"color: #7f7f7f; text-decoration-color: #7f7f7f\">               </span>\n",
       "<span style=\"color: #7fbfbf; text-decoration-color: #7fbfbf\">                    </span>         array was expected. Please change the shape of y to <span style=\"font-weight: bold\">(</span>n_samples,<span style=\"font-weight: bold\">)</span>, for  <span style=\"color: #7f7f7f; text-decoration-color: #7f7f7f\">               </span>\n",
       "<span style=\"color: #7fbfbf; text-decoration-color: #7fbfbf\">                    </span>         example using <span style=\"color: #800080; text-decoration-color: #800080; font-weight: bold\">ravel</span><span style=\"font-weight: bold\">()</span>.                                                 <span style=\"color: #7f7f7f; text-decoration-color: #7f7f7f\">               </span>\n",
       "<span style=\"color: #7fbfbf; text-decoration-color: #7fbfbf\">                    </span>           return <span style=\"color: #800080; text-decoration-color: #800080; font-weight: bold\">fit_method</span><span style=\"font-weight: bold\">(</span>estimator, *args, **kwargs<span style=\"font-weight: bold\">)</span>                        <span style=\"color: #7f7f7f; text-decoration-color: #7f7f7f\">               </span>\n",
       "<span style=\"color: #7fbfbf; text-decoration-color: #7fbfbf\">                    </span>                                                                                <span style=\"color: #7f7f7f; text-decoration-color: #7f7f7f\">               </span>\n",
       "</pre>\n"
      ],
      "text/plain": [
       "\u001b[2;36m                   \u001b[0m\u001b[2;36m \u001b[0m\u001b[31mWARNING \u001b[0m C:\\Users\\dggua\\anaconda3\\envs\\test_env\\lib\\site-packages\\sklearn\\base. \u001b]8;id=954167;file://C:\\Users\\dggua\\anaconda3\\envs\\test_env\\lib\\warnings.py\u001b\\\u001b[2mwarnings.py\u001b[0m\u001b]8;;\u001b\\\u001b[2m:\u001b[0m\u001b]8;id=956276;file://C:\\Users\\dggua\\anaconda3\\envs\\test_env\\lib\\warnings.py#109\u001b\\\u001b[2m109\u001b[0m\u001b]8;;\u001b\\\n",
       "\u001b[2;36m                    \u001b[0m         py:\u001b[1;36m1351\u001b[0m: DataConversionWarning: A column-vector y was passed when a 1d \u001b[2m               \u001b[0m\n",
       "\u001b[2;36m                    \u001b[0m         array was expected. Please change the shape of y to \u001b[1m(\u001b[0mn_samples,\u001b[1m)\u001b[0m, for  \u001b[2m               \u001b[0m\n",
       "\u001b[2;36m                    \u001b[0m         example using \u001b[1;35mravel\u001b[0m\u001b[1m(\u001b[0m\u001b[1m)\u001b[0m.                                                 \u001b[2m               \u001b[0m\n",
       "\u001b[2;36m                    \u001b[0m           return \u001b[1;35mfit_method\u001b[0m\u001b[1m(\u001b[0mestimator, *args, **kwargs\u001b[1m)\u001b[0m                        \u001b[2m               \u001b[0m\n",
       "\u001b[2;36m                    \u001b[0m                                                                                \u001b[2m               \u001b[0m\n"
      ]
     },
     "metadata": {},
     "output_type": "display_data"
    },
    {
     "data": {
      "text/html": [
       "<pre style=\"white-space:pre;overflow-x:auto;line-height:normal;font-family:Menlo,'DejaVu Sans Mono',consolas,'Courier New',monospace\"><span style=\"color: #7fbfbf; text-decoration-color: #7fbfbf\">[06/22/24 16:18:10] </span><span style=\"color: #800000; text-decoration-color: #800000\">WARNING </span> C:\\Users\\dggua\\anaconda3\\envs\\test_env\\lib\\site-packages\\sklearn\\base. <a href=\"file://C:\\Users\\dggua\\anaconda3\\envs\\test_env\\lib\\warnings.py\" target=\"_blank\"><span style=\"color: #7f7f7f; text-decoration-color: #7f7f7f\">warnings.py</span></a><span style=\"color: #7f7f7f; text-decoration-color: #7f7f7f\">:</span><a href=\"file://C:\\Users\\dggua\\anaconda3\\envs\\test_env\\lib\\warnings.py#109\" target=\"_blank\"><span style=\"color: #7f7f7f; text-decoration-color: #7f7f7f\">109</span></a>\n",
       "<span style=\"color: #7fbfbf; text-decoration-color: #7fbfbf\">                    </span>         py:<span style=\"color: #008080; text-decoration-color: #008080; font-weight: bold\">1351</span>: DataConversionWarning: A column-vector y was passed when a 1d <span style=\"color: #7f7f7f; text-decoration-color: #7f7f7f\">               </span>\n",
       "<span style=\"color: #7fbfbf; text-decoration-color: #7fbfbf\">                    </span>         array was expected. Please change the shape of y to <span style=\"font-weight: bold\">(</span>n_samples,<span style=\"font-weight: bold\">)</span>, for  <span style=\"color: #7f7f7f; text-decoration-color: #7f7f7f\">               </span>\n",
       "<span style=\"color: #7fbfbf; text-decoration-color: #7fbfbf\">                    </span>         example using <span style=\"color: #800080; text-decoration-color: #800080; font-weight: bold\">ravel</span><span style=\"font-weight: bold\">()</span>.                                                 <span style=\"color: #7f7f7f; text-decoration-color: #7f7f7f\">               </span>\n",
       "<span style=\"color: #7fbfbf; text-decoration-color: #7fbfbf\">                    </span>           return <span style=\"color: #800080; text-decoration-color: #800080; font-weight: bold\">fit_method</span><span style=\"font-weight: bold\">(</span>estimator, *args, **kwargs<span style=\"font-weight: bold\">)</span>                        <span style=\"color: #7f7f7f; text-decoration-color: #7f7f7f\">               </span>\n",
       "<span style=\"color: #7fbfbf; text-decoration-color: #7fbfbf\">                    </span>                                                                                <span style=\"color: #7f7f7f; text-decoration-color: #7f7f7f\">               </span>\n",
       "</pre>\n"
      ],
      "text/plain": [
       "\u001b[2;36m[06/22/24 16:18:10]\u001b[0m\u001b[2;36m \u001b[0m\u001b[31mWARNING \u001b[0m C:\\Users\\dggua\\anaconda3\\envs\\test_env\\lib\\site-packages\\sklearn\\base. \u001b]8;id=14900;file://C:\\Users\\dggua\\anaconda3\\envs\\test_env\\lib\\warnings.py\u001b\\\u001b[2mwarnings.py\u001b[0m\u001b]8;;\u001b\\\u001b[2m:\u001b[0m\u001b]8;id=518912;file://C:\\Users\\dggua\\anaconda3\\envs\\test_env\\lib\\warnings.py#109\u001b\\\u001b[2m109\u001b[0m\u001b]8;;\u001b\\\n",
       "\u001b[2;36m                    \u001b[0m         py:\u001b[1;36m1351\u001b[0m: DataConversionWarning: A column-vector y was passed when a 1d \u001b[2m               \u001b[0m\n",
       "\u001b[2;36m                    \u001b[0m         array was expected. Please change the shape of y to \u001b[1m(\u001b[0mn_samples,\u001b[1m)\u001b[0m, for  \u001b[2m               \u001b[0m\n",
       "\u001b[2;36m                    \u001b[0m         example using \u001b[1;35mravel\u001b[0m\u001b[1m(\u001b[0m\u001b[1m)\u001b[0m.                                                 \u001b[2m               \u001b[0m\n",
       "\u001b[2;36m                    \u001b[0m           return \u001b[1;35mfit_method\u001b[0m\u001b[1m(\u001b[0mestimator, *args, **kwargs\u001b[1m)\u001b[0m                        \u001b[2m               \u001b[0m\n",
       "\u001b[2;36m                    \u001b[0m                                                                                \u001b[2m               \u001b[0m\n"
      ]
     },
     "metadata": {},
     "output_type": "display_data"
    },
    {
     "data": {
      "text/html": [
       "<pre style=\"white-space:pre;overflow-x:auto;line-height:normal;font-family:Menlo,'DejaVu Sans Mono',consolas,'Courier New',monospace\"><span style=\"color: #7fbfbf; text-decoration-color: #7fbfbf\">                    </span><span style=\"color: #800000; text-decoration-color: #800000\">WARNING </span> C:\\Users\\dggua\\anaconda3\\envs\\test_env\\lib\\site-packages\\sklearn\\base. <a href=\"file://C:\\Users\\dggua\\anaconda3\\envs\\test_env\\lib\\warnings.py\" target=\"_blank\"><span style=\"color: #7f7f7f; text-decoration-color: #7f7f7f\">warnings.py</span></a><span style=\"color: #7f7f7f; text-decoration-color: #7f7f7f\">:</span><a href=\"file://C:\\Users\\dggua\\anaconda3\\envs\\test_env\\lib\\warnings.py#109\" target=\"_blank\"><span style=\"color: #7f7f7f; text-decoration-color: #7f7f7f\">109</span></a>\n",
       "<span style=\"color: #7fbfbf; text-decoration-color: #7fbfbf\">                    </span>         py:<span style=\"color: #008080; text-decoration-color: #008080; font-weight: bold\">1351</span>: DataConversionWarning: A column-vector y was passed when a 1d <span style=\"color: #7f7f7f; text-decoration-color: #7f7f7f\">               </span>\n",
       "<span style=\"color: #7fbfbf; text-decoration-color: #7fbfbf\">                    </span>         array was expected. Please change the shape of y to <span style=\"font-weight: bold\">(</span>n_samples,<span style=\"font-weight: bold\">)</span>, for  <span style=\"color: #7f7f7f; text-decoration-color: #7f7f7f\">               </span>\n",
       "<span style=\"color: #7fbfbf; text-decoration-color: #7fbfbf\">                    </span>         example using <span style=\"color: #800080; text-decoration-color: #800080; font-weight: bold\">ravel</span><span style=\"font-weight: bold\">()</span>.                                                 <span style=\"color: #7f7f7f; text-decoration-color: #7f7f7f\">               </span>\n",
       "<span style=\"color: #7fbfbf; text-decoration-color: #7fbfbf\">                    </span>           return <span style=\"color: #800080; text-decoration-color: #800080; font-weight: bold\">fit_method</span><span style=\"font-weight: bold\">(</span>estimator, *args, **kwargs<span style=\"font-weight: bold\">)</span>                        <span style=\"color: #7f7f7f; text-decoration-color: #7f7f7f\">               </span>\n",
       "<span style=\"color: #7fbfbf; text-decoration-color: #7fbfbf\">                    </span>                                                                                <span style=\"color: #7f7f7f; text-decoration-color: #7f7f7f\">               </span>\n",
       "</pre>\n"
      ],
      "text/plain": [
       "\u001b[2;36m                   \u001b[0m\u001b[2;36m \u001b[0m\u001b[31mWARNING \u001b[0m C:\\Users\\dggua\\anaconda3\\envs\\test_env\\lib\\site-packages\\sklearn\\base. \u001b]8;id=565752;file://C:\\Users\\dggua\\anaconda3\\envs\\test_env\\lib\\warnings.py\u001b\\\u001b[2mwarnings.py\u001b[0m\u001b]8;;\u001b\\\u001b[2m:\u001b[0m\u001b]8;id=551519;file://C:\\Users\\dggua\\anaconda3\\envs\\test_env\\lib\\warnings.py#109\u001b\\\u001b[2m109\u001b[0m\u001b]8;;\u001b\\\n",
       "\u001b[2;36m                    \u001b[0m         py:\u001b[1;36m1351\u001b[0m: DataConversionWarning: A column-vector y was passed when a 1d \u001b[2m               \u001b[0m\n",
       "\u001b[2;36m                    \u001b[0m         array was expected. Please change the shape of y to \u001b[1m(\u001b[0mn_samples,\u001b[1m)\u001b[0m, for  \u001b[2m               \u001b[0m\n",
       "\u001b[2;36m                    \u001b[0m         example using \u001b[1;35mravel\u001b[0m\u001b[1m(\u001b[0m\u001b[1m)\u001b[0m.                                                 \u001b[2m               \u001b[0m\n",
       "\u001b[2;36m                    \u001b[0m           return \u001b[1;35mfit_method\u001b[0m\u001b[1m(\u001b[0mestimator, *args, **kwargs\u001b[1m)\u001b[0m                        \u001b[2m               \u001b[0m\n",
       "\u001b[2;36m                    \u001b[0m                                                                                \u001b[2m               \u001b[0m\n"
      ]
     },
     "metadata": {},
     "output_type": "display_data"
    },
    {
     "data": {
      "text/html": [
       "<pre style=\"white-space:pre;overflow-x:auto;line-height:normal;font-family:Menlo,'DejaVu Sans Mono',consolas,'Courier New',monospace\"><span style=\"color: #7fbfbf; text-decoration-color: #7fbfbf\">                    </span><span style=\"color: #800000; text-decoration-color: #800000\">WARNING </span> C:\\Users\\dggua\\anaconda3\\envs\\test_env\\lib\\site-packages\\sklearn\\base. <a href=\"file://C:\\Users\\dggua\\anaconda3\\envs\\test_env\\lib\\warnings.py\" target=\"_blank\"><span style=\"color: #7f7f7f; text-decoration-color: #7f7f7f\">warnings.py</span></a><span style=\"color: #7f7f7f; text-decoration-color: #7f7f7f\">:</span><a href=\"file://C:\\Users\\dggua\\anaconda3\\envs\\test_env\\lib\\warnings.py#109\" target=\"_blank\"><span style=\"color: #7f7f7f; text-decoration-color: #7f7f7f\">109</span></a>\n",
       "<span style=\"color: #7fbfbf; text-decoration-color: #7fbfbf\">                    </span>         py:<span style=\"color: #008080; text-decoration-color: #008080; font-weight: bold\">1351</span>: DataConversionWarning: A column-vector y was passed when a 1d <span style=\"color: #7f7f7f; text-decoration-color: #7f7f7f\">               </span>\n",
       "<span style=\"color: #7fbfbf; text-decoration-color: #7fbfbf\">                    </span>         array was expected. Please change the shape of y to <span style=\"font-weight: bold\">(</span>n_samples,<span style=\"font-weight: bold\">)</span>, for  <span style=\"color: #7f7f7f; text-decoration-color: #7f7f7f\">               </span>\n",
       "<span style=\"color: #7fbfbf; text-decoration-color: #7fbfbf\">                    </span>         example using <span style=\"color: #800080; text-decoration-color: #800080; font-weight: bold\">ravel</span><span style=\"font-weight: bold\">()</span>.                                                 <span style=\"color: #7f7f7f; text-decoration-color: #7f7f7f\">               </span>\n",
       "<span style=\"color: #7fbfbf; text-decoration-color: #7fbfbf\">                    </span>           return <span style=\"color: #800080; text-decoration-color: #800080; font-weight: bold\">fit_method</span><span style=\"font-weight: bold\">(</span>estimator, *args, **kwargs<span style=\"font-weight: bold\">)</span>                        <span style=\"color: #7f7f7f; text-decoration-color: #7f7f7f\">               </span>\n",
       "<span style=\"color: #7fbfbf; text-decoration-color: #7fbfbf\">                    </span>                                                                                <span style=\"color: #7f7f7f; text-decoration-color: #7f7f7f\">               </span>\n",
       "</pre>\n"
      ],
      "text/plain": [
       "\u001b[2;36m                   \u001b[0m\u001b[2;36m \u001b[0m\u001b[31mWARNING \u001b[0m C:\\Users\\dggua\\anaconda3\\envs\\test_env\\lib\\site-packages\\sklearn\\base. \u001b]8;id=802378;file://C:\\Users\\dggua\\anaconda3\\envs\\test_env\\lib\\warnings.py\u001b\\\u001b[2mwarnings.py\u001b[0m\u001b]8;;\u001b\\\u001b[2m:\u001b[0m\u001b]8;id=795921;file://C:\\Users\\dggua\\anaconda3\\envs\\test_env\\lib\\warnings.py#109\u001b\\\u001b[2m109\u001b[0m\u001b]8;;\u001b\\\n",
       "\u001b[2;36m                    \u001b[0m         py:\u001b[1;36m1351\u001b[0m: DataConversionWarning: A column-vector y was passed when a 1d \u001b[2m               \u001b[0m\n",
       "\u001b[2;36m                    \u001b[0m         array was expected. Please change the shape of y to \u001b[1m(\u001b[0mn_samples,\u001b[1m)\u001b[0m, for  \u001b[2m               \u001b[0m\n",
       "\u001b[2;36m                    \u001b[0m         example using \u001b[1;35mravel\u001b[0m\u001b[1m(\u001b[0m\u001b[1m)\u001b[0m.                                                 \u001b[2m               \u001b[0m\n",
       "\u001b[2;36m                    \u001b[0m           return \u001b[1;35mfit_method\u001b[0m\u001b[1m(\u001b[0mestimator, *args, **kwargs\u001b[1m)\u001b[0m                        \u001b[2m               \u001b[0m\n",
       "\u001b[2;36m                    \u001b[0m                                                                                \u001b[2m               \u001b[0m\n"
      ]
     },
     "metadata": {},
     "output_type": "display_data"
    },
    {
     "data": {
      "text/html": [
       "<pre style=\"white-space:pre;overflow-x:auto;line-height:normal;font-family:Menlo,'DejaVu Sans Mono',consolas,'Courier New',monospace\"><span style=\"color: #7fbfbf; text-decoration-color: #7fbfbf\">                    </span><span style=\"color: #800000; text-decoration-color: #800000\">WARNING </span> C:\\Users\\dggua\\anaconda3\\envs\\test_env\\lib\\site-packages\\sklearn\\base. <a href=\"file://C:\\Users\\dggua\\anaconda3\\envs\\test_env\\lib\\warnings.py\" target=\"_blank\"><span style=\"color: #7f7f7f; text-decoration-color: #7f7f7f\">warnings.py</span></a><span style=\"color: #7f7f7f; text-decoration-color: #7f7f7f\">:</span><a href=\"file://C:\\Users\\dggua\\anaconda3\\envs\\test_env\\lib\\warnings.py#109\" target=\"_blank\"><span style=\"color: #7f7f7f; text-decoration-color: #7f7f7f\">109</span></a>\n",
       "<span style=\"color: #7fbfbf; text-decoration-color: #7fbfbf\">                    </span>         py:<span style=\"color: #008080; text-decoration-color: #008080; font-weight: bold\">1351</span>: DataConversionWarning: A column-vector y was passed when a 1d <span style=\"color: #7f7f7f; text-decoration-color: #7f7f7f\">               </span>\n",
       "<span style=\"color: #7fbfbf; text-decoration-color: #7fbfbf\">                    </span>         array was expected. Please change the shape of y to <span style=\"font-weight: bold\">(</span>n_samples,<span style=\"font-weight: bold\">)</span>, for  <span style=\"color: #7f7f7f; text-decoration-color: #7f7f7f\">               </span>\n",
       "<span style=\"color: #7fbfbf; text-decoration-color: #7fbfbf\">                    </span>         example using <span style=\"color: #800080; text-decoration-color: #800080; font-weight: bold\">ravel</span><span style=\"font-weight: bold\">()</span>.                                                 <span style=\"color: #7f7f7f; text-decoration-color: #7f7f7f\">               </span>\n",
       "<span style=\"color: #7fbfbf; text-decoration-color: #7fbfbf\">                    </span>           return <span style=\"color: #800080; text-decoration-color: #800080; font-weight: bold\">fit_method</span><span style=\"font-weight: bold\">(</span>estimator, *args, **kwargs<span style=\"font-weight: bold\">)</span>                        <span style=\"color: #7f7f7f; text-decoration-color: #7f7f7f\">               </span>\n",
       "<span style=\"color: #7fbfbf; text-decoration-color: #7fbfbf\">                    </span>                                                                                <span style=\"color: #7f7f7f; text-decoration-color: #7f7f7f\">               </span>\n",
       "</pre>\n"
      ],
      "text/plain": [
       "\u001b[2;36m                   \u001b[0m\u001b[2;36m \u001b[0m\u001b[31mWARNING \u001b[0m C:\\Users\\dggua\\anaconda3\\envs\\test_env\\lib\\site-packages\\sklearn\\base. \u001b]8;id=114573;file://C:\\Users\\dggua\\anaconda3\\envs\\test_env\\lib\\warnings.py\u001b\\\u001b[2mwarnings.py\u001b[0m\u001b]8;;\u001b\\\u001b[2m:\u001b[0m\u001b]8;id=762261;file://C:\\Users\\dggua\\anaconda3\\envs\\test_env\\lib\\warnings.py#109\u001b\\\u001b[2m109\u001b[0m\u001b]8;;\u001b\\\n",
       "\u001b[2;36m                    \u001b[0m         py:\u001b[1;36m1351\u001b[0m: DataConversionWarning: A column-vector y was passed when a 1d \u001b[2m               \u001b[0m\n",
       "\u001b[2;36m                    \u001b[0m         array was expected. Please change the shape of y to \u001b[1m(\u001b[0mn_samples,\u001b[1m)\u001b[0m, for  \u001b[2m               \u001b[0m\n",
       "\u001b[2;36m                    \u001b[0m         example using \u001b[1;35mravel\u001b[0m\u001b[1m(\u001b[0m\u001b[1m)\u001b[0m.                                                 \u001b[2m               \u001b[0m\n",
       "\u001b[2;36m                    \u001b[0m           return \u001b[1;35mfit_method\u001b[0m\u001b[1m(\u001b[0mestimator, *args, **kwargs\u001b[1m)\u001b[0m                        \u001b[2m               \u001b[0m\n",
       "\u001b[2;36m                    \u001b[0m                                                                                \u001b[2m               \u001b[0m\n"
      ]
     },
     "metadata": {},
     "output_type": "display_data"
    },
    {
     "data": {
      "text/html": [
       "<pre style=\"white-space:pre;overflow-x:auto;line-height:normal;font-family:Menlo,'DejaVu Sans Mono',consolas,'Courier New',monospace\"><span style=\"color: #7fbfbf; text-decoration-color: #7fbfbf\">                    </span><span style=\"color: #800000; text-decoration-color: #800000\">WARNING </span> C:\\Users\\dggua\\anaconda3\\envs\\test_env\\lib\\site-packages\\sklearn\\base. <a href=\"file://C:\\Users\\dggua\\anaconda3\\envs\\test_env\\lib\\warnings.py\" target=\"_blank\"><span style=\"color: #7f7f7f; text-decoration-color: #7f7f7f\">warnings.py</span></a><span style=\"color: #7f7f7f; text-decoration-color: #7f7f7f\">:</span><a href=\"file://C:\\Users\\dggua\\anaconda3\\envs\\test_env\\lib\\warnings.py#109\" target=\"_blank\"><span style=\"color: #7f7f7f; text-decoration-color: #7f7f7f\">109</span></a>\n",
       "<span style=\"color: #7fbfbf; text-decoration-color: #7fbfbf\">                    </span>         py:<span style=\"color: #008080; text-decoration-color: #008080; font-weight: bold\">1351</span>: DataConversionWarning: A column-vector y was passed when a 1d <span style=\"color: #7f7f7f; text-decoration-color: #7f7f7f\">               </span>\n",
       "<span style=\"color: #7fbfbf; text-decoration-color: #7fbfbf\">                    </span>         array was expected. Please change the shape of y to <span style=\"font-weight: bold\">(</span>n_samples,<span style=\"font-weight: bold\">)</span>, for  <span style=\"color: #7f7f7f; text-decoration-color: #7f7f7f\">               </span>\n",
       "<span style=\"color: #7fbfbf; text-decoration-color: #7fbfbf\">                    </span>         example using <span style=\"color: #800080; text-decoration-color: #800080; font-weight: bold\">ravel</span><span style=\"font-weight: bold\">()</span>.                                                 <span style=\"color: #7f7f7f; text-decoration-color: #7f7f7f\">               </span>\n",
       "<span style=\"color: #7fbfbf; text-decoration-color: #7fbfbf\">                    </span>           return <span style=\"color: #800080; text-decoration-color: #800080; font-weight: bold\">fit_method</span><span style=\"font-weight: bold\">(</span>estimator, *args, **kwargs<span style=\"font-weight: bold\">)</span>                        <span style=\"color: #7f7f7f; text-decoration-color: #7f7f7f\">               </span>\n",
       "<span style=\"color: #7fbfbf; text-decoration-color: #7fbfbf\">                    </span>                                                                                <span style=\"color: #7f7f7f; text-decoration-color: #7f7f7f\">               </span>\n",
       "</pre>\n"
      ],
      "text/plain": [
       "\u001b[2;36m                   \u001b[0m\u001b[2;36m \u001b[0m\u001b[31mWARNING \u001b[0m C:\\Users\\dggua\\anaconda3\\envs\\test_env\\lib\\site-packages\\sklearn\\base. \u001b]8;id=681726;file://C:\\Users\\dggua\\anaconda3\\envs\\test_env\\lib\\warnings.py\u001b\\\u001b[2mwarnings.py\u001b[0m\u001b]8;;\u001b\\\u001b[2m:\u001b[0m\u001b]8;id=827567;file://C:\\Users\\dggua\\anaconda3\\envs\\test_env\\lib\\warnings.py#109\u001b\\\u001b[2m109\u001b[0m\u001b]8;;\u001b\\\n",
       "\u001b[2;36m                    \u001b[0m         py:\u001b[1;36m1351\u001b[0m: DataConversionWarning: A column-vector y was passed when a 1d \u001b[2m               \u001b[0m\n",
       "\u001b[2;36m                    \u001b[0m         array was expected. Please change the shape of y to \u001b[1m(\u001b[0mn_samples,\u001b[1m)\u001b[0m, for  \u001b[2m               \u001b[0m\n",
       "\u001b[2;36m                    \u001b[0m         example using \u001b[1;35mravel\u001b[0m\u001b[1m(\u001b[0m\u001b[1m)\u001b[0m.                                                 \u001b[2m               \u001b[0m\n",
       "\u001b[2;36m                    \u001b[0m           return \u001b[1;35mfit_method\u001b[0m\u001b[1m(\u001b[0mestimator, *args, **kwargs\u001b[1m)\u001b[0m                        \u001b[2m               \u001b[0m\n",
       "\u001b[2;36m                    \u001b[0m                                                                                \u001b[2m               \u001b[0m\n"
      ]
     },
     "metadata": {},
     "output_type": "display_data"
    },
    {
     "data": {
      "text/html": [
       "<pre style=\"white-space:pre;overflow-x:auto;line-height:normal;font-family:Menlo,'DejaVu Sans Mono',consolas,'Courier New',monospace\"><span style=\"color: #7fbfbf; text-decoration-color: #7fbfbf\">                    </span><span style=\"color: #800000; text-decoration-color: #800000\">WARNING </span> C:\\Users\\dggua\\anaconda3\\envs\\test_env\\lib\\site-packages\\sklearn\\base. <a href=\"file://C:\\Users\\dggua\\anaconda3\\envs\\test_env\\lib\\warnings.py\" target=\"_blank\"><span style=\"color: #7f7f7f; text-decoration-color: #7f7f7f\">warnings.py</span></a><span style=\"color: #7f7f7f; text-decoration-color: #7f7f7f\">:</span><a href=\"file://C:\\Users\\dggua\\anaconda3\\envs\\test_env\\lib\\warnings.py#109\" target=\"_blank\"><span style=\"color: #7f7f7f; text-decoration-color: #7f7f7f\">109</span></a>\n",
       "<span style=\"color: #7fbfbf; text-decoration-color: #7fbfbf\">                    </span>         py:<span style=\"color: #008080; text-decoration-color: #008080; font-weight: bold\">1351</span>: DataConversionWarning: A column-vector y was passed when a 1d <span style=\"color: #7f7f7f; text-decoration-color: #7f7f7f\">               </span>\n",
       "<span style=\"color: #7fbfbf; text-decoration-color: #7fbfbf\">                    </span>         array was expected. Please change the shape of y to <span style=\"font-weight: bold\">(</span>n_samples,<span style=\"font-weight: bold\">)</span>, for  <span style=\"color: #7f7f7f; text-decoration-color: #7f7f7f\">               </span>\n",
       "<span style=\"color: #7fbfbf; text-decoration-color: #7fbfbf\">                    </span>         example using <span style=\"color: #800080; text-decoration-color: #800080; font-weight: bold\">ravel</span><span style=\"font-weight: bold\">()</span>.                                                 <span style=\"color: #7f7f7f; text-decoration-color: #7f7f7f\">               </span>\n",
       "<span style=\"color: #7fbfbf; text-decoration-color: #7fbfbf\">                    </span>           return <span style=\"color: #800080; text-decoration-color: #800080; font-weight: bold\">fit_method</span><span style=\"font-weight: bold\">(</span>estimator, *args, **kwargs<span style=\"font-weight: bold\">)</span>                        <span style=\"color: #7f7f7f; text-decoration-color: #7f7f7f\">               </span>\n",
       "<span style=\"color: #7fbfbf; text-decoration-color: #7fbfbf\">                    </span>                                                                                <span style=\"color: #7f7f7f; text-decoration-color: #7f7f7f\">               </span>\n",
       "</pre>\n"
      ],
      "text/plain": [
       "\u001b[2;36m                   \u001b[0m\u001b[2;36m \u001b[0m\u001b[31mWARNING \u001b[0m C:\\Users\\dggua\\anaconda3\\envs\\test_env\\lib\\site-packages\\sklearn\\base. \u001b]8;id=552878;file://C:\\Users\\dggua\\anaconda3\\envs\\test_env\\lib\\warnings.py\u001b\\\u001b[2mwarnings.py\u001b[0m\u001b]8;;\u001b\\\u001b[2m:\u001b[0m\u001b]8;id=267996;file://C:\\Users\\dggua\\anaconda3\\envs\\test_env\\lib\\warnings.py#109\u001b\\\u001b[2m109\u001b[0m\u001b]8;;\u001b\\\n",
       "\u001b[2;36m                    \u001b[0m         py:\u001b[1;36m1351\u001b[0m: DataConversionWarning: A column-vector y was passed when a 1d \u001b[2m               \u001b[0m\n",
       "\u001b[2;36m                    \u001b[0m         array was expected. Please change the shape of y to \u001b[1m(\u001b[0mn_samples,\u001b[1m)\u001b[0m, for  \u001b[2m               \u001b[0m\n",
       "\u001b[2;36m                    \u001b[0m         example using \u001b[1;35mravel\u001b[0m\u001b[1m(\u001b[0m\u001b[1m)\u001b[0m.                                                 \u001b[2m               \u001b[0m\n",
       "\u001b[2;36m                    \u001b[0m           return \u001b[1;35mfit_method\u001b[0m\u001b[1m(\u001b[0mestimator, *args, **kwargs\u001b[1m)\u001b[0m                        \u001b[2m               \u001b[0m\n",
       "\u001b[2;36m                    \u001b[0m                                                                                \u001b[2m               \u001b[0m\n"
      ]
     },
     "metadata": {},
     "output_type": "display_data"
    },
    {
     "data": {
      "text/html": [
       "<pre style=\"white-space:pre;overflow-x:auto;line-height:normal;font-family:Menlo,'DejaVu Sans Mono',consolas,'Courier New',monospace\"><span style=\"color: #7fbfbf; text-decoration-color: #7fbfbf\">                    </span><span style=\"color: #800000; text-decoration-color: #800000\">WARNING </span> C:\\Users\\dggua\\anaconda3\\envs\\test_env\\lib\\site-packages\\sklearn\\base. <a href=\"file://C:\\Users\\dggua\\anaconda3\\envs\\test_env\\lib\\warnings.py\" target=\"_blank\"><span style=\"color: #7f7f7f; text-decoration-color: #7f7f7f\">warnings.py</span></a><span style=\"color: #7f7f7f; text-decoration-color: #7f7f7f\">:</span><a href=\"file://C:\\Users\\dggua\\anaconda3\\envs\\test_env\\lib\\warnings.py#109\" target=\"_blank\"><span style=\"color: #7f7f7f; text-decoration-color: #7f7f7f\">109</span></a>\n",
       "<span style=\"color: #7fbfbf; text-decoration-color: #7fbfbf\">                    </span>         py:<span style=\"color: #008080; text-decoration-color: #008080; font-weight: bold\">1351</span>: DataConversionWarning: A column-vector y was passed when a 1d <span style=\"color: #7f7f7f; text-decoration-color: #7f7f7f\">               </span>\n",
       "<span style=\"color: #7fbfbf; text-decoration-color: #7fbfbf\">                    </span>         array was expected. Please change the shape of y to <span style=\"font-weight: bold\">(</span>n_samples,<span style=\"font-weight: bold\">)</span>, for  <span style=\"color: #7f7f7f; text-decoration-color: #7f7f7f\">               </span>\n",
       "<span style=\"color: #7fbfbf; text-decoration-color: #7fbfbf\">                    </span>         example using <span style=\"color: #800080; text-decoration-color: #800080; font-weight: bold\">ravel</span><span style=\"font-weight: bold\">()</span>.                                                 <span style=\"color: #7f7f7f; text-decoration-color: #7f7f7f\">               </span>\n",
       "<span style=\"color: #7fbfbf; text-decoration-color: #7fbfbf\">                    </span>           return <span style=\"color: #800080; text-decoration-color: #800080; font-weight: bold\">fit_method</span><span style=\"font-weight: bold\">(</span>estimator, *args, **kwargs<span style=\"font-weight: bold\">)</span>                        <span style=\"color: #7f7f7f; text-decoration-color: #7f7f7f\">               </span>\n",
       "<span style=\"color: #7fbfbf; text-decoration-color: #7fbfbf\">                    </span>                                                                                <span style=\"color: #7f7f7f; text-decoration-color: #7f7f7f\">               </span>\n",
       "</pre>\n"
      ],
      "text/plain": [
       "\u001b[2;36m                   \u001b[0m\u001b[2;36m \u001b[0m\u001b[31mWARNING \u001b[0m C:\\Users\\dggua\\anaconda3\\envs\\test_env\\lib\\site-packages\\sklearn\\base. \u001b]8;id=148632;file://C:\\Users\\dggua\\anaconda3\\envs\\test_env\\lib\\warnings.py\u001b\\\u001b[2mwarnings.py\u001b[0m\u001b]8;;\u001b\\\u001b[2m:\u001b[0m\u001b]8;id=414627;file://C:\\Users\\dggua\\anaconda3\\envs\\test_env\\lib\\warnings.py#109\u001b\\\u001b[2m109\u001b[0m\u001b]8;;\u001b\\\n",
       "\u001b[2;36m                    \u001b[0m         py:\u001b[1;36m1351\u001b[0m: DataConversionWarning: A column-vector y was passed when a 1d \u001b[2m               \u001b[0m\n",
       "\u001b[2;36m                    \u001b[0m         array was expected. Please change the shape of y to \u001b[1m(\u001b[0mn_samples,\u001b[1m)\u001b[0m, for  \u001b[2m               \u001b[0m\n",
       "\u001b[2;36m                    \u001b[0m         example using \u001b[1;35mravel\u001b[0m\u001b[1m(\u001b[0m\u001b[1m)\u001b[0m.                                                 \u001b[2m               \u001b[0m\n",
       "\u001b[2;36m                    \u001b[0m           return \u001b[1;35mfit_method\u001b[0m\u001b[1m(\u001b[0mestimator, *args, **kwargs\u001b[1m)\u001b[0m                        \u001b[2m               \u001b[0m\n",
       "\u001b[2;36m                    \u001b[0m                                                                                \u001b[2m               \u001b[0m\n"
      ]
     },
     "metadata": {},
     "output_type": "display_data"
    },
    {
     "data": {
      "text/html": [
       "<pre style=\"white-space:pre;overflow-x:auto;line-height:normal;font-family:Menlo,'DejaVu Sans Mono',consolas,'Courier New',monospace\"><span style=\"color: #7fbfbf; text-decoration-color: #7fbfbf\">                    </span><span style=\"color: #800000; text-decoration-color: #800000\">WARNING </span> C:\\Users\\dggua\\anaconda3\\envs\\test_env\\lib\\site-packages\\sklearn\\base. <a href=\"file://C:\\Users\\dggua\\anaconda3\\envs\\test_env\\lib\\warnings.py\" target=\"_blank\"><span style=\"color: #7f7f7f; text-decoration-color: #7f7f7f\">warnings.py</span></a><span style=\"color: #7f7f7f; text-decoration-color: #7f7f7f\">:</span><a href=\"file://C:\\Users\\dggua\\anaconda3\\envs\\test_env\\lib\\warnings.py#109\" target=\"_blank\"><span style=\"color: #7f7f7f; text-decoration-color: #7f7f7f\">109</span></a>\n",
       "<span style=\"color: #7fbfbf; text-decoration-color: #7fbfbf\">                    </span>         py:<span style=\"color: #008080; text-decoration-color: #008080; font-weight: bold\">1351</span>: DataConversionWarning: A column-vector y was passed when a 1d <span style=\"color: #7f7f7f; text-decoration-color: #7f7f7f\">               </span>\n",
       "<span style=\"color: #7fbfbf; text-decoration-color: #7fbfbf\">                    </span>         array was expected. Please change the shape of y to <span style=\"font-weight: bold\">(</span>n_samples,<span style=\"font-weight: bold\">)</span>, for  <span style=\"color: #7f7f7f; text-decoration-color: #7f7f7f\">               </span>\n",
       "<span style=\"color: #7fbfbf; text-decoration-color: #7fbfbf\">                    </span>         example using <span style=\"color: #800080; text-decoration-color: #800080; font-weight: bold\">ravel</span><span style=\"font-weight: bold\">()</span>.                                                 <span style=\"color: #7f7f7f; text-decoration-color: #7f7f7f\">               </span>\n",
       "<span style=\"color: #7fbfbf; text-decoration-color: #7fbfbf\">                    </span>           return <span style=\"color: #800080; text-decoration-color: #800080; font-weight: bold\">fit_method</span><span style=\"font-weight: bold\">(</span>estimator, *args, **kwargs<span style=\"font-weight: bold\">)</span>                        <span style=\"color: #7f7f7f; text-decoration-color: #7f7f7f\">               </span>\n",
       "<span style=\"color: #7fbfbf; text-decoration-color: #7fbfbf\">                    </span>                                                                                <span style=\"color: #7f7f7f; text-decoration-color: #7f7f7f\">               </span>\n",
       "</pre>\n"
      ],
      "text/plain": [
       "\u001b[2;36m                   \u001b[0m\u001b[2;36m \u001b[0m\u001b[31mWARNING \u001b[0m C:\\Users\\dggua\\anaconda3\\envs\\test_env\\lib\\site-packages\\sklearn\\base. \u001b]8;id=157590;file://C:\\Users\\dggua\\anaconda3\\envs\\test_env\\lib\\warnings.py\u001b\\\u001b[2mwarnings.py\u001b[0m\u001b]8;;\u001b\\\u001b[2m:\u001b[0m\u001b]8;id=325764;file://C:\\Users\\dggua\\anaconda3\\envs\\test_env\\lib\\warnings.py#109\u001b\\\u001b[2m109\u001b[0m\u001b]8;;\u001b\\\n",
       "\u001b[2;36m                    \u001b[0m         py:\u001b[1;36m1351\u001b[0m: DataConversionWarning: A column-vector y was passed when a 1d \u001b[2m               \u001b[0m\n",
       "\u001b[2;36m                    \u001b[0m         array was expected. Please change the shape of y to \u001b[1m(\u001b[0mn_samples,\u001b[1m)\u001b[0m, for  \u001b[2m               \u001b[0m\n",
       "\u001b[2;36m                    \u001b[0m         example using \u001b[1;35mravel\u001b[0m\u001b[1m(\u001b[0m\u001b[1m)\u001b[0m.                                                 \u001b[2m               \u001b[0m\n",
       "\u001b[2;36m                    \u001b[0m           return \u001b[1;35mfit_method\u001b[0m\u001b[1m(\u001b[0mestimator, *args, **kwargs\u001b[1m)\u001b[0m                        \u001b[2m               \u001b[0m\n",
       "\u001b[2;36m                    \u001b[0m                                                                                \u001b[2m               \u001b[0m\n"
      ]
     },
     "metadata": {},
     "output_type": "display_data"
    },
    {
     "data": {
      "text/html": [
       "<pre style=\"white-space:pre;overflow-x:auto;line-height:normal;font-family:Menlo,'DejaVu Sans Mono',consolas,'Courier New',monospace\"><span style=\"color: #7fbfbf; text-decoration-color: #7fbfbf\">                    </span><span style=\"color: #800000; text-decoration-color: #800000\">WARNING </span> C:\\Users\\dggua\\anaconda3\\envs\\test_env\\lib\\site-packages\\sklearn\\base. <a href=\"file://C:\\Users\\dggua\\anaconda3\\envs\\test_env\\lib\\warnings.py\" target=\"_blank\"><span style=\"color: #7f7f7f; text-decoration-color: #7f7f7f\">warnings.py</span></a><span style=\"color: #7f7f7f; text-decoration-color: #7f7f7f\">:</span><a href=\"file://C:\\Users\\dggua\\anaconda3\\envs\\test_env\\lib\\warnings.py#109\" target=\"_blank\"><span style=\"color: #7f7f7f; text-decoration-color: #7f7f7f\">109</span></a>\n",
       "<span style=\"color: #7fbfbf; text-decoration-color: #7fbfbf\">                    </span>         py:<span style=\"color: #008080; text-decoration-color: #008080; font-weight: bold\">1351</span>: DataConversionWarning: A column-vector y was passed when a 1d <span style=\"color: #7f7f7f; text-decoration-color: #7f7f7f\">               </span>\n",
       "<span style=\"color: #7fbfbf; text-decoration-color: #7fbfbf\">                    </span>         array was expected. Please change the shape of y to <span style=\"font-weight: bold\">(</span>n_samples,<span style=\"font-weight: bold\">)</span>, for  <span style=\"color: #7f7f7f; text-decoration-color: #7f7f7f\">               </span>\n",
       "<span style=\"color: #7fbfbf; text-decoration-color: #7fbfbf\">                    </span>         example using <span style=\"color: #800080; text-decoration-color: #800080; font-weight: bold\">ravel</span><span style=\"font-weight: bold\">()</span>.                                                 <span style=\"color: #7f7f7f; text-decoration-color: #7f7f7f\">               </span>\n",
       "<span style=\"color: #7fbfbf; text-decoration-color: #7fbfbf\">                    </span>           return <span style=\"color: #800080; text-decoration-color: #800080; font-weight: bold\">fit_method</span><span style=\"font-weight: bold\">(</span>estimator, *args, **kwargs<span style=\"font-weight: bold\">)</span>                        <span style=\"color: #7f7f7f; text-decoration-color: #7f7f7f\">               </span>\n",
       "<span style=\"color: #7fbfbf; text-decoration-color: #7fbfbf\">                    </span>                                                                                <span style=\"color: #7f7f7f; text-decoration-color: #7f7f7f\">               </span>\n",
       "</pre>\n"
      ],
      "text/plain": [
       "\u001b[2;36m                   \u001b[0m\u001b[2;36m \u001b[0m\u001b[31mWARNING \u001b[0m C:\\Users\\dggua\\anaconda3\\envs\\test_env\\lib\\site-packages\\sklearn\\base. \u001b]8;id=284028;file://C:\\Users\\dggua\\anaconda3\\envs\\test_env\\lib\\warnings.py\u001b\\\u001b[2mwarnings.py\u001b[0m\u001b]8;;\u001b\\\u001b[2m:\u001b[0m\u001b]8;id=86090;file://C:\\Users\\dggua\\anaconda3\\envs\\test_env\\lib\\warnings.py#109\u001b\\\u001b[2m109\u001b[0m\u001b]8;;\u001b\\\n",
       "\u001b[2;36m                    \u001b[0m         py:\u001b[1;36m1351\u001b[0m: DataConversionWarning: A column-vector y was passed when a 1d \u001b[2m               \u001b[0m\n",
       "\u001b[2;36m                    \u001b[0m         array was expected. Please change the shape of y to \u001b[1m(\u001b[0mn_samples,\u001b[1m)\u001b[0m, for  \u001b[2m               \u001b[0m\n",
       "\u001b[2;36m                    \u001b[0m         example using \u001b[1;35mravel\u001b[0m\u001b[1m(\u001b[0m\u001b[1m)\u001b[0m.                                                 \u001b[2m               \u001b[0m\n",
       "\u001b[2;36m                    \u001b[0m           return \u001b[1;35mfit_method\u001b[0m\u001b[1m(\u001b[0mestimator, *args, **kwargs\u001b[1m)\u001b[0m                        \u001b[2m               \u001b[0m\n",
       "\u001b[2;36m                    \u001b[0m                                                                                \u001b[2m               \u001b[0m\n"
      ]
     },
     "metadata": {},
     "output_type": "display_data"
    },
    {
     "data": {
      "text/html": [
       "<pre style=\"white-space:pre;overflow-x:auto;line-height:normal;font-family:Menlo,'DejaVu Sans Mono',consolas,'Courier New',monospace\"><span style=\"color: #7fbfbf; text-decoration-color: #7fbfbf\">[06/22/24 16:18:11] </span><span style=\"color: #800000; text-decoration-color: #800000\">WARNING </span> C:\\Users\\dggua\\anaconda3\\envs\\test_env\\lib\\site-packages\\sklearn\\base. <a href=\"file://C:\\Users\\dggua\\anaconda3\\envs\\test_env\\lib\\warnings.py\" target=\"_blank\"><span style=\"color: #7f7f7f; text-decoration-color: #7f7f7f\">warnings.py</span></a><span style=\"color: #7f7f7f; text-decoration-color: #7f7f7f\">:</span><a href=\"file://C:\\Users\\dggua\\anaconda3\\envs\\test_env\\lib\\warnings.py#109\" target=\"_blank\"><span style=\"color: #7f7f7f; text-decoration-color: #7f7f7f\">109</span></a>\n",
       "<span style=\"color: #7fbfbf; text-decoration-color: #7fbfbf\">                    </span>         py:<span style=\"color: #008080; text-decoration-color: #008080; font-weight: bold\">1351</span>: DataConversionWarning: A column-vector y was passed when a 1d <span style=\"color: #7f7f7f; text-decoration-color: #7f7f7f\">               </span>\n",
       "<span style=\"color: #7fbfbf; text-decoration-color: #7fbfbf\">                    </span>         array was expected. Please change the shape of y to <span style=\"font-weight: bold\">(</span>n_samples,<span style=\"font-weight: bold\">)</span>, for  <span style=\"color: #7f7f7f; text-decoration-color: #7f7f7f\">               </span>\n",
       "<span style=\"color: #7fbfbf; text-decoration-color: #7fbfbf\">                    </span>         example using <span style=\"color: #800080; text-decoration-color: #800080; font-weight: bold\">ravel</span><span style=\"font-weight: bold\">()</span>.                                                 <span style=\"color: #7f7f7f; text-decoration-color: #7f7f7f\">               </span>\n",
       "<span style=\"color: #7fbfbf; text-decoration-color: #7fbfbf\">                    </span>           return <span style=\"color: #800080; text-decoration-color: #800080; font-weight: bold\">fit_method</span><span style=\"font-weight: bold\">(</span>estimator, *args, **kwargs<span style=\"font-weight: bold\">)</span>                        <span style=\"color: #7f7f7f; text-decoration-color: #7f7f7f\">               </span>\n",
       "<span style=\"color: #7fbfbf; text-decoration-color: #7fbfbf\">                    </span>                                                                                <span style=\"color: #7f7f7f; text-decoration-color: #7f7f7f\">               </span>\n",
       "</pre>\n"
      ],
      "text/plain": [
       "\u001b[2;36m[06/22/24 16:18:11]\u001b[0m\u001b[2;36m \u001b[0m\u001b[31mWARNING \u001b[0m C:\\Users\\dggua\\anaconda3\\envs\\test_env\\lib\\site-packages\\sklearn\\base. \u001b]8;id=463330;file://C:\\Users\\dggua\\anaconda3\\envs\\test_env\\lib\\warnings.py\u001b\\\u001b[2mwarnings.py\u001b[0m\u001b]8;;\u001b\\\u001b[2m:\u001b[0m\u001b]8;id=792992;file://C:\\Users\\dggua\\anaconda3\\envs\\test_env\\lib\\warnings.py#109\u001b\\\u001b[2m109\u001b[0m\u001b]8;;\u001b\\\n",
       "\u001b[2;36m                    \u001b[0m         py:\u001b[1;36m1351\u001b[0m: DataConversionWarning: A column-vector y was passed when a 1d \u001b[2m               \u001b[0m\n",
       "\u001b[2;36m                    \u001b[0m         array was expected. Please change the shape of y to \u001b[1m(\u001b[0mn_samples,\u001b[1m)\u001b[0m, for  \u001b[2m               \u001b[0m\n",
       "\u001b[2;36m                    \u001b[0m         example using \u001b[1;35mravel\u001b[0m\u001b[1m(\u001b[0m\u001b[1m)\u001b[0m.                                                 \u001b[2m               \u001b[0m\n",
       "\u001b[2;36m                    \u001b[0m           return \u001b[1;35mfit_method\u001b[0m\u001b[1m(\u001b[0mestimator, *args, **kwargs\u001b[1m)\u001b[0m                        \u001b[2m               \u001b[0m\n",
       "\u001b[2;36m                    \u001b[0m                                                                                \u001b[2m               \u001b[0m\n"
      ]
     },
     "metadata": {},
     "output_type": "display_data"
    },
    {
     "data": {
      "text/html": [
       "<pre style=\"white-space:pre;overflow-x:auto;line-height:normal;font-family:Menlo,'DejaVu Sans Mono',consolas,'Courier New',monospace\"><span style=\"color: #7fbfbf; text-decoration-color: #7fbfbf\">                    </span><span style=\"color: #800000; text-decoration-color: #800000\">WARNING </span> C:\\Users\\dggua\\anaconda3\\envs\\test_env\\lib\\site-packages\\sklearn\\base. <a href=\"file://C:\\Users\\dggua\\anaconda3\\envs\\test_env\\lib\\warnings.py\" target=\"_blank\"><span style=\"color: #7f7f7f; text-decoration-color: #7f7f7f\">warnings.py</span></a><span style=\"color: #7f7f7f; text-decoration-color: #7f7f7f\">:</span><a href=\"file://C:\\Users\\dggua\\anaconda3\\envs\\test_env\\lib\\warnings.py#109\" target=\"_blank\"><span style=\"color: #7f7f7f; text-decoration-color: #7f7f7f\">109</span></a>\n",
       "<span style=\"color: #7fbfbf; text-decoration-color: #7fbfbf\">                    </span>         py:<span style=\"color: #008080; text-decoration-color: #008080; font-weight: bold\">1351</span>: DataConversionWarning: A column-vector y was passed when a 1d <span style=\"color: #7f7f7f; text-decoration-color: #7f7f7f\">               </span>\n",
       "<span style=\"color: #7fbfbf; text-decoration-color: #7fbfbf\">                    </span>         array was expected. Please change the shape of y to <span style=\"font-weight: bold\">(</span>n_samples,<span style=\"font-weight: bold\">)</span>, for  <span style=\"color: #7f7f7f; text-decoration-color: #7f7f7f\">               </span>\n",
       "<span style=\"color: #7fbfbf; text-decoration-color: #7fbfbf\">                    </span>         example using <span style=\"color: #800080; text-decoration-color: #800080; font-weight: bold\">ravel</span><span style=\"font-weight: bold\">()</span>.                                                 <span style=\"color: #7f7f7f; text-decoration-color: #7f7f7f\">               </span>\n",
       "<span style=\"color: #7fbfbf; text-decoration-color: #7fbfbf\">                    </span>           return <span style=\"color: #800080; text-decoration-color: #800080; font-weight: bold\">fit_method</span><span style=\"font-weight: bold\">(</span>estimator, *args, **kwargs<span style=\"font-weight: bold\">)</span>                        <span style=\"color: #7f7f7f; text-decoration-color: #7f7f7f\">               </span>\n",
       "<span style=\"color: #7fbfbf; text-decoration-color: #7fbfbf\">                    </span>                                                                                <span style=\"color: #7f7f7f; text-decoration-color: #7f7f7f\">               </span>\n",
       "</pre>\n"
      ],
      "text/plain": [
       "\u001b[2;36m                   \u001b[0m\u001b[2;36m \u001b[0m\u001b[31mWARNING \u001b[0m C:\\Users\\dggua\\anaconda3\\envs\\test_env\\lib\\site-packages\\sklearn\\base. \u001b]8;id=105268;file://C:\\Users\\dggua\\anaconda3\\envs\\test_env\\lib\\warnings.py\u001b\\\u001b[2mwarnings.py\u001b[0m\u001b]8;;\u001b\\\u001b[2m:\u001b[0m\u001b]8;id=342300;file://C:\\Users\\dggua\\anaconda3\\envs\\test_env\\lib\\warnings.py#109\u001b\\\u001b[2m109\u001b[0m\u001b]8;;\u001b\\\n",
       "\u001b[2;36m                    \u001b[0m         py:\u001b[1;36m1351\u001b[0m: DataConversionWarning: A column-vector y was passed when a 1d \u001b[2m               \u001b[0m\n",
       "\u001b[2;36m                    \u001b[0m         array was expected. Please change the shape of y to \u001b[1m(\u001b[0mn_samples,\u001b[1m)\u001b[0m, for  \u001b[2m               \u001b[0m\n",
       "\u001b[2;36m                    \u001b[0m         example using \u001b[1;35mravel\u001b[0m\u001b[1m(\u001b[0m\u001b[1m)\u001b[0m.                                                 \u001b[2m               \u001b[0m\n",
       "\u001b[2;36m                    \u001b[0m           return \u001b[1;35mfit_method\u001b[0m\u001b[1m(\u001b[0mestimator, *args, **kwargs\u001b[1m)\u001b[0m                        \u001b[2m               \u001b[0m\n",
       "\u001b[2;36m                    \u001b[0m                                                                                \u001b[2m               \u001b[0m\n"
      ]
     },
     "metadata": {},
     "output_type": "display_data"
    },
    {
     "data": {
      "text/html": [
       "<pre style=\"white-space:pre;overflow-x:auto;line-height:normal;font-family:Menlo,'DejaVu Sans Mono',consolas,'Courier New',monospace\"><span style=\"color: #7fbfbf; text-decoration-color: #7fbfbf\">                    </span><span style=\"color: #800000; text-decoration-color: #800000\">WARNING </span> C:\\Users\\dggua\\anaconda3\\envs\\test_env\\lib\\site-packages\\sklearn\\base. <a href=\"file://C:\\Users\\dggua\\anaconda3\\envs\\test_env\\lib\\warnings.py\" target=\"_blank\"><span style=\"color: #7f7f7f; text-decoration-color: #7f7f7f\">warnings.py</span></a><span style=\"color: #7f7f7f; text-decoration-color: #7f7f7f\">:</span><a href=\"file://C:\\Users\\dggua\\anaconda3\\envs\\test_env\\lib\\warnings.py#109\" target=\"_blank\"><span style=\"color: #7f7f7f; text-decoration-color: #7f7f7f\">109</span></a>\n",
       "<span style=\"color: #7fbfbf; text-decoration-color: #7fbfbf\">                    </span>         py:<span style=\"color: #008080; text-decoration-color: #008080; font-weight: bold\">1351</span>: DataConversionWarning: A column-vector y was passed when a 1d <span style=\"color: #7f7f7f; text-decoration-color: #7f7f7f\">               </span>\n",
       "<span style=\"color: #7fbfbf; text-decoration-color: #7fbfbf\">                    </span>         array was expected. Please change the shape of y to <span style=\"font-weight: bold\">(</span>n_samples,<span style=\"font-weight: bold\">)</span>, for  <span style=\"color: #7f7f7f; text-decoration-color: #7f7f7f\">               </span>\n",
       "<span style=\"color: #7fbfbf; text-decoration-color: #7fbfbf\">                    </span>         example using <span style=\"color: #800080; text-decoration-color: #800080; font-weight: bold\">ravel</span><span style=\"font-weight: bold\">()</span>.                                                 <span style=\"color: #7f7f7f; text-decoration-color: #7f7f7f\">               </span>\n",
       "<span style=\"color: #7fbfbf; text-decoration-color: #7fbfbf\">                    </span>           return <span style=\"color: #800080; text-decoration-color: #800080; font-weight: bold\">fit_method</span><span style=\"font-weight: bold\">(</span>estimator, *args, **kwargs<span style=\"font-weight: bold\">)</span>                        <span style=\"color: #7f7f7f; text-decoration-color: #7f7f7f\">               </span>\n",
       "<span style=\"color: #7fbfbf; text-decoration-color: #7fbfbf\">                    </span>                                                                                <span style=\"color: #7f7f7f; text-decoration-color: #7f7f7f\">               </span>\n",
       "</pre>\n"
      ],
      "text/plain": [
       "\u001b[2;36m                   \u001b[0m\u001b[2;36m \u001b[0m\u001b[31mWARNING \u001b[0m C:\\Users\\dggua\\anaconda3\\envs\\test_env\\lib\\site-packages\\sklearn\\base. \u001b]8;id=468513;file://C:\\Users\\dggua\\anaconda3\\envs\\test_env\\lib\\warnings.py\u001b\\\u001b[2mwarnings.py\u001b[0m\u001b]8;;\u001b\\\u001b[2m:\u001b[0m\u001b]8;id=982922;file://C:\\Users\\dggua\\anaconda3\\envs\\test_env\\lib\\warnings.py#109\u001b\\\u001b[2m109\u001b[0m\u001b]8;;\u001b\\\n",
       "\u001b[2;36m                    \u001b[0m         py:\u001b[1;36m1351\u001b[0m: DataConversionWarning: A column-vector y was passed when a 1d \u001b[2m               \u001b[0m\n",
       "\u001b[2;36m                    \u001b[0m         array was expected. Please change the shape of y to \u001b[1m(\u001b[0mn_samples,\u001b[1m)\u001b[0m, for  \u001b[2m               \u001b[0m\n",
       "\u001b[2;36m                    \u001b[0m         example using \u001b[1;35mravel\u001b[0m\u001b[1m(\u001b[0m\u001b[1m)\u001b[0m.                                                 \u001b[2m               \u001b[0m\n",
       "\u001b[2;36m                    \u001b[0m           return \u001b[1;35mfit_method\u001b[0m\u001b[1m(\u001b[0mestimator, *args, **kwargs\u001b[1m)\u001b[0m                        \u001b[2m               \u001b[0m\n",
       "\u001b[2;36m                    \u001b[0m                                                                                \u001b[2m               \u001b[0m\n"
      ]
     },
     "metadata": {},
     "output_type": "display_data"
    },
    {
     "data": {
      "text/html": [
       "<pre style=\"white-space:pre;overflow-x:auto;line-height:normal;font-family:Menlo,'DejaVu Sans Mono',consolas,'Courier New',monospace\"><span style=\"color: #7fbfbf; text-decoration-color: #7fbfbf\">                    </span><span style=\"color: #800000; text-decoration-color: #800000\">WARNING </span> C:\\Users\\dggua\\anaconda3\\envs\\test_env\\lib\\site-packages\\sklearn\\base. <a href=\"file://C:\\Users\\dggua\\anaconda3\\envs\\test_env\\lib\\warnings.py\" target=\"_blank\"><span style=\"color: #7f7f7f; text-decoration-color: #7f7f7f\">warnings.py</span></a><span style=\"color: #7f7f7f; text-decoration-color: #7f7f7f\">:</span><a href=\"file://C:\\Users\\dggua\\anaconda3\\envs\\test_env\\lib\\warnings.py#109\" target=\"_blank\"><span style=\"color: #7f7f7f; text-decoration-color: #7f7f7f\">109</span></a>\n",
       "<span style=\"color: #7fbfbf; text-decoration-color: #7fbfbf\">                    </span>         py:<span style=\"color: #008080; text-decoration-color: #008080; font-weight: bold\">1351</span>: DataConversionWarning: A column-vector y was passed when a 1d <span style=\"color: #7f7f7f; text-decoration-color: #7f7f7f\">               </span>\n",
       "<span style=\"color: #7fbfbf; text-decoration-color: #7fbfbf\">                    </span>         array was expected. Please change the shape of y to <span style=\"font-weight: bold\">(</span>n_samples,<span style=\"font-weight: bold\">)</span>, for  <span style=\"color: #7f7f7f; text-decoration-color: #7f7f7f\">               </span>\n",
       "<span style=\"color: #7fbfbf; text-decoration-color: #7fbfbf\">                    </span>         example using <span style=\"color: #800080; text-decoration-color: #800080; font-weight: bold\">ravel</span><span style=\"font-weight: bold\">()</span>.                                                 <span style=\"color: #7f7f7f; text-decoration-color: #7f7f7f\">               </span>\n",
       "<span style=\"color: #7fbfbf; text-decoration-color: #7fbfbf\">                    </span>           return <span style=\"color: #800080; text-decoration-color: #800080; font-weight: bold\">fit_method</span><span style=\"font-weight: bold\">(</span>estimator, *args, **kwargs<span style=\"font-weight: bold\">)</span>                        <span style=\"color: #7f7f7f; text-decoration-color: #7f7f7f\">               </span>\n",
       "<span style=\"color: #7fbfbf; text-decoration-color: #7fbfbf\">                    </span>                                                                                <span style=\"color: #7f7f7f; text-decoration-color: #7f7f7f\">               </span>\n",
       "</pre>\n"
      ],
      "text/plain": [
       "\u001b[2;36m                   \u001b[0m\u001b[2;36m \u001b[0m\u001b[31mWARNING \u001b[0m C:\\Users\\dggua\\anaconda3\\envs\\test_env\\lib\\site-packages\\sklearn\\base. \u001b]8;id=194644;file://C:\\Users\\dggua\\anaconda3\\envs\\test_env\\lib\\warnings.py\u001b\\\u001b[2mwarnings.py\u001b[0m\u001b]8;;\u001b\\\u001b[2m:\u001b[0m\u001b]8;id=145402;file://C:\\Users\\dggua\\anaconda3\\envs\\test_env\\lib\\warnings.py#109\u001b\\\u001b[2m109\u001b[0m\u001b]8;;\u001b\\\n",
       "\u001b[2;36m                    \u001b[0m         py:\u001b[1;36m1351\u001b[0m: DataConversionWarning: A column-vector y was passed when a 1d \u001b[2m               \u001b[0m\n",
       "\u001b[2;36m                    \u001b[0m         array was expected. Please change the shape of y to \u001b[1m(\u001b[0mn_samples,\u001b[1m)\u001b[0m, for  \u001b[2m               \u001b[0m\n",
       "\u001b[2;36m                    \u001b[0m         example using \u001b[1;35mravel\u001b[0m\u001b[1m(\u001b[0m\u001b[1m)\u001b[0m.                                                 \u001b[2m               \u001b[0m\n",
       "\u001b[2;36m                    \u001b[0m           return \u001b[1;35mfit_method\u001b[0m\u001b[1m(\u001b[0mestimator, *args, **kwargs\u001b[1m)\u001b[0m                        \u001b[2m               \u001b[0m\n",
       "\u001b[2;36m                    \u001b[0m                                                                                \u001b[2m               \u001b[0m\n"
      ]
     },
     "metadata": {},
     "output_type": "display_data"
    },
    {
     "data": {
      "text/html": [
       "<pre style=\"white-space:pre;overflow-x:auto;line-height:normal;font-family:Menlo,'DejaVu Sans Mono',consolas,'Courier New',monospace\"><span style=\"color: #7fbfbf; text-decoration-color: #7fbfbf\">                    </span><span style=\"color: #800000; text-decoration-color: #800000\">WARNING </span> C:\\Users\\dggua\\anaconda3\\envs\\test_env\\lib\\site-packages\\sklearn\\base. <a href=\"file://C:\\Users\\dggua\\anaconda3\\envs\\test_env\\lib\\warnings.py\" target=\"_blank\"><span style=\"color: #7f7f7f; text-decoration-color: #7f7f7f\">warnings.py</span></a><span style=\"color: #7f7f7f; text-decoration-color: #7f7f7f\">:</span><a href=\"file://C:\\Users\\dggua\\anaconda3\\envs\\test_env\\lib\\warnings.py#109\" target=\"_blank\"><span style=\"color: #7f7f7f; text-decoration-color: #7f7f7f\">109</span></a>\n",
       "<span style=\"color: #7fbfbf; text-decoration-color: #7fbfbf\">                    </span>         py:<span style=\"color: #008080; text-decoration-color: #008080; font-weight: bold\">1351</span>: DataConversionWarning: A column-vector y was passed when a 1d <span style=\"color: #7f7f7f; text-decoration-color: #7f7f7f\">               </span>\n",
       "<span style=\"color: #7fbfbf; text-decoration-color: #7fbfbf\">                    </span>         array was expected. Please change the shape of y to <span style=\"font-weight: bold\">(</span>n_samples,<span style=\"font-weight: bold\">)</span>, for  <span style=\"color: #7f7f7f; text-decoration-color: #7f7f7f\">               </span>\n",
       "<span style=\"color: #7fbfbf; text-decoration-color: #7fbfbf\">                    </span>         example using <span style=\"color: #800080; text-decoration-color: #800080; font-weight: bold\">ravel</span><span style=\"font-weight: bold\">()</span>.                                                 <span style=\"color: #7f7f7f; text-decoration-color: #7f7f7f\">               </span>\n",
       "<span style=\"color: #7fbfbf; text-decoration-color: #7fbfbf\">                    </span>           return <span style=\"color: #800080; text-decoration-color: #800080; font-weight: bold\">fit_method</span><span style=\"font-weight: bold\">(</span>estimator, *args, **kwargs<span style=\"font-weight: bold\">)</span>                        <span style=\"color: #7f7f7f; text-decoration-color: #7f7f7f\">               </span>\n",
       "<span style=\"color: #7fbfbf; text-decoration-color: #7fbfbf\">                    </span>                                                                                <span style=\"color: #7f7f7f; text-decoration-color: #7f7f7f\">               </span>\n",
       "</pre>\n"
      ],
      "text/plain": [
       "\u001b[2;36m                   \u001b[0m\u001b[2;36m \u001b[0m\u001b[31mWARNING \u001b[0m C:\\Users\\dggua\\anaconda3\\envs\\test_env\\lib\\site-packages\\sklearn\\base. \u001b]8;id=488861;file://C:\\Users\\dggua\\anaconda3\\envs\\test_env\\lib\\warnings.py\u001b\\\u001b[2mwarnings.py\u001b[0m\u001b]8;;\u001b\\\u001b[2m:\u001b[0m\u001b]8;id=485462;file://C:\\Users\\dggua\\anaconda3\\envs\\test_env\\lib\\warnings.py#109\u001b\\\u001b[2m109\u001b[0m\u001b]8;;\u001b\\\n",
       "\u001b[2;36m                    \u001b[0m         py:\u001b[1;36m1351\u001b[0m: DataConversionWarning: A column-vector y was passed when a 1d \u001b[2m               \u001b[0m\n",
       "\u001b[2;36m                    \u001b[0m         array was expected. Please change the shape of y to \u001b[1m(\u001b[0mn_samples,\u001b[1m)\u001b[0m, for  \u001b[2m               \u001b[0m\n",
       "\u001b[2;36m                    \u001b[0m         example using \u001b[1;35mravel\u001b[0m\u001b[1m(\u001b[0m\u001b[1m)\u001b[0m.                                                 \u001b[2m               \u001b[0m\n",
       "\u001b[2;36m                    \u001b[0m           return \u001b[1;35mfit_method\u001b[0m\u001b[1m(\u001b[0mestimator, *args, **kwargs\u001b[1m)\u001b[0m                        \u001b[2m               \u001b[0m\n",
       "\u001b[2;36m                    \u001b[0m                                                                                \u001b[2m               \u001b[0m\n"
      ]
     },
     "metadata": {},
     "output_type": "display_data"
    },
    {
     "data": {
      "text/html": [
       "<pre style=\"white-space:pre;overflow-x:auto;line-height:normal;font-family:Menlo,'DejaVu Sans Mono',consolas,'Courier New',monospace\"><span style=\"color: #7fbfbf; text-decoration-color: #7fbfbf\">                    </span><span style=\"color: #800000; text-decoration-color: #800000\">WARNING </span> C:\\Users\\dggua\\anaconda3\\envs\\test_env\\lib\\site-packages\\sklearn\\base. <a href=\"file://C:\\Users\\dggua\\anaconda3\\envs\\test_env\\lib\\warnings.py\" target=\"_blank\"><span style=\"color: #7f7f7f; text-decoration-color: #7f7f7f\">warnings.py</span></a><span style=\"color: #7f7f7f; text-decoration-color: #7f7f7f\">:</span><a href=\"file://C:\\Users\\dggua\\anaconda3\\envs\\test_env\\lib\\warnings.py#109\" target=\"_blank\"><span style=\"color: #7f7f7f; text-decoration-color: #7f7f7f\">109</span></a>\n",
       "<span style=\"color: #7fbfbf; text-decoration-color: #7fbfbf\">                    </span>         py:<span style=\"color: #008080; text-decoration-color: #008080; font-weight: bold\">1351</span>: DataConversionWarning: A column-vector y was passed when a 1d <span style=\"color: #7f7f7f; text-decoration-color: #7f7f7f\">               </span>\n",
       "<span style=\"color: #7fbfbf; text-decoration-color: #7fbfbf\">                    </span>         array was expected. Please change the shape of y to <span style=\"font-weight: bold\">(</span>n_samples,<span style=\"font-weight: bold\">)</span>, for  <span style=\"color: #7f7f7f; text-decoration-color: #7f7f7f\">               </span>\n",
       "<span style=\"color: #7fbfbf; text-decoration-color: #7fbfbf\">                    </span>         example using <span style=\"color: #800080; text-decoration-color: #800080; font-weight: bold\">ravel</span><span style=\"font-weight: bold\">()</span>.                                                 <span style=\"color: #7f7f7f; text-decoration-color: #7f7f7f\">               </span>\n",
       "<span style=\"color: #7fbfbf; text-decoration-color: #7fbfbf\">                    </span>           return <span style=\"color: #800080; text-decoration-color: #800080; font-weight: bold\">fit_method</span><span style=\"font-weight: bold\">(</span>estimator, *args, **kwargs<span style=\"font-weight: bold\">)</span>                        <span style=\"color: #7f7f7f; text-decoration-color: #7f7f7f\">               </span>\n",
       "<span style=\"color: #7fbfbf; text-decoration-color: #7fbfbf\">                    </span>                                                                                <span style=\"color: #7f7f7f; text-decoration-color: #7f7f7f\">               </span>\n",
       "</pre>\n"
      ],
      "text/plain": [
       "\u001b[2;36m                   \u001b[0m\u001b[2;36m \u001b[0m\u001b[31mWARNING \u001b[0m C:\\Users\\dggua\\anaconda3\\envs\\test_env\\lib\\site-packages\\sklearn\\base. \u001b]8;id=781518;file://C:\\Users\\dggua\\anaconda3\\envs\\test_env\\lib\\warnings.py\u001b\\\u001b[2mwarnings.py\u001b[0m\u001b]8;;\u001b\\\u001b[2m:\u001b[0m\u001b]8;id=763499;file://C:\\Users\\dggua\\anaconda3\\envs\\test_env\\lib\\warnings.py#109\u001b\\\u001b[2m109\u001b[0m\u001b]8;;\u001b\\\n",
       "\u001b[2;36m                    \u001b[0m         py:\u001b[1;36m1351\u001b[0m: DataConversionWarning: A column-vector y was passed when a 1d \u001b[2m               \u001b[0m\n",
       "\u001b[2;36m                    \u001b[0m         array was expected. Please change the shape of y to \u001b[1m(\u001b[0mn_samples,\u001b[1m)\u001b[0m, for  \u001b[2m               \u001b[0m\n",
       "\u001b[2;36m                    \u001b[0m         example using \u001b[1;35mravel\u001b[0m\u001b[1m(\u001b[0m\u001b[1m)\u001b[0m.                                                 \u001b[2m               \u001b[0m\n",
       "\u001b[2;36m                    \u001b[0m           return \u001b[1;35mfit_method\u001b[0m\u001b[1m(\u001b[0mestimator, *args, **kwargs\u001b[1m)\u001b[0m                        \u001b[2m               \u001b[0m\n",
       "\u001b[2;36m                    \u001b[0m                                                                                \u001b[2m               \u001b[0m\n"
      ]
     },
     "metadata": {},
     "output_type": "display_data"
    },
    {
     "data": {
      "text/html": [
       "<pre style=\"white-space:pre;overflow-x:auto;line-height:normal;font-family:Menlo,'DejaVu Sans Mono',consolas,'Courier New',monospace\"><span style=\"color: #7fbfbf; text-decoration-color: #7fbfbf\">                    </span><span style=\"color: #800000; text-decoration-color: #800000\">WARNING </span> C:\\Users\\dggua\\anaconda3\\envs\\test_env\\lib\\site-packages\\sklearn\\base. <a href=\"file://C:\\Users\\dggua\\anaconda3\\envs\\test_env\\lib\\warnings.py\" target=\"_blank\"><span style=\"color: #7f7f7f; text-decoration-color: #7f7f7f\">warnings.py</span></a><span style=\"color: #7f7f7f; text-decoration-color: #7f7f7f\">:</span><a href=\"file://C:\\Users\\dggua\\anaconda3\\envs\\test_env\\lib\\warnings.py#109\" target=\"_blank\"><span style=\"color: #7f7f7f; text-decoration-color: #7f7f7f\">109</span></a>\n",
       "<span style=\"color: #7fbfbf; text-decoration-color: #7fbfbf\">                    </span>         py:<span style=\"color: #008080; text-decoration-color: #008080; font-weight: bold\">1351</span>: DataConversionWarning: A column-vector y was passed when a 1d <span style=\"color: #7f7f7f; text-decoration-color: #7f7f7f\">               </span>\n",
       "<span style=\"color: #7fbfbf; text-decoration-color: #7fbfbf\">                    </span>         array was expected. Please change the shape of y to <span style=\"font-weight: bold\">(</span>n_samples,<span style=\"font-weight: bold\">)</span>, for  <span style=\"color: #7f7f7f; text-decoration-color: #7f7f7f\">               </span>\n",
       "<span style=\"color: #7fbfbf; text-decoration-color: #7fbfbf\">                    </span>         example using <span style=\"color: #800080; text-decoration-color: #800080; font-weight: bold\">ravel</span><span style=\"font-weight: bold\">()</span>.                                                 <span style=\"color: #7f7f7f; text-decoration-color: #7f7f7f\">               </span>\n",
       "<span style=\"color: #7fbfbf; text-decoration-color: #7fbfbf\">                    </span>           return <span style=\"color: #800080; text-decoration-color: #800080; font-weight: bold\">fit_method</span><span style=\"font-weight: bold\">(</span>estimator, *args, **kwargs<span style=\"font-weight: bold\">)</span>                        <span style=\"color: #7f7f7f; text-decoration-color: #7f7f7f\">               </span>\n",
       "<span style=\"color: #7fbfbf; text-decoration-color: #7fbfbf\">                    </span>                                                                                <span style=\"color: #7f7f7f; text-decoration-color: #7f7f7f\">               </span>\n",
       "</pre>\n"
      ],
      "text/plain": [
       "\u001b[2;36m                   \u001b[0m\u001b[2;36m \u001b[0m\u001b[31mWARNING \u001b[0m C:\\Users\\dggua\\anaconda3\\envs\\test_env\\lib\\site-packages\\sklearn\\base. \u001b]8;id=437702;file://C:\\Users\\dggua\\anaconda3\\envs\\test_env\\lib\\warnings.py\u001b\\\u001b[2mwarnings.py\u001b[0m\u001b]8;;\u001b\\\u001b[2m:\u001b[0m\u001b]8;id=354782;file://C:\\Users\\dggua\\anaconda3\\envs\\test_env\\lib\\warnings.py#109\u001b\\\u001b[2m109\u001b[0m\u001b]8;;\u001b\\\n",
       "\u001b[2;36m                    \u001b[0m         py:\u001b[1;36m1351\u001b[0m: DataConversionWarning: A column-vector y was passed when a 1d \u001b[2m               \u001b[0m\n",
       "\u001b[2;36m                    \u001b[0m         array was expected. Please change the shape of y to \u001b[1m(\u001b[0mn_samples,\u001b[1m)\u001b[0m, for  \u001b[2m               \u001b[0m\n",
       "\u001b[2;36m                    \u001b[0m         example using \u001b[1;35mravel\u001b[0m\u001b[1m(\u001b[0m\u001b[1m)\u001b[0m.                                                 \u001b[2m               \u001b[0m\n",
       "\u001b[2;36m                    \u001b[0m           return \u001b[1;35mfit_method\u001b[0m\u001b[1m(\u001b[0mestimator, *args, **kwargs\u001b[1m)\u001b[0m                        \u001b[2m               \u001b[0m\n",
       "\u001b[2;36m                    \u001b[0m                                                                                \u001b[2m               \u001b[0m\n"
      ]
     },
     "metadata": {},
     "output_type": "display_data"
    },
    {
     "data": {
      "text/html": [
       "<pre style=\"white-space:pre;overflow-x:auto;line-height:normal;font-family:Menlo,'DejaVu Sans Mono',consolas,'Courier New',monospace\"><span style=\"color: #7fbfbf; text-decoration-color: #7fbfbf\">[06/22/24 16:18:12] </span><span style=\"color: #800000; text-decoration-color: #800000\">WARNING </span> C:\\Users\\dggua\\anaconda3\\envs\\test_env\\lib\\site-packages\\sklearn\\base. <a href=\"file://C:\\Users\\dggua\\anaconda3\\envs\\test_env\\lib\\warnings.py\" target=\"_blank\"><span style=\"color: #7f7f7f; text-decoration-color: #7f7f7f\">warnings.py</span></a><span style=\"color: #7f7f7f; text-decoration-color: #7f7f7f\">:</span><a href=\"file://C:\\Users\\dggua\\anaconda3\\envs\\test_env\\lib\\warnings.py#109\" target=\"_blank\"><span style=\"color: #7f7f7f; text-decoration-color: #7f7f7f\">109</span></a>\n",
       "<span style=\"color: #7fbfbf; text-decoration-color: #7fbfbf\">                    </span>         py:<span style=\"color: #008080; text-decoration-color: #008080; font-weight: bold\">1351</span>: DataConversionWarning: A column-vector y was passed when a 1d <span style=\"color: #7f7f7f; text-decoration-color: #7f7f7f\">               </span>\n",
       "<span style=\"color: #7fbfbf; text-decoration-color: #7fbfbf\">                    </span>         array was expected. Please change the shape of y to <span style=\"font-weight: bold\">(</span>n_samples,<span style=\"font-weight: bold\">)</span>, for  <span style=\"color: #7f7f7f; text-decoration-color: #7f7f7f\">               </span>\n",
       "<span style=\"color: #7fbfbf; text-decoration-color: #7fbfbf\">                    </span>         example using <span style=\"color: #800080; text-decoration-color: #800080; font-weight: bold\">ravel</span><span style=\"font-weight: bold\">()</span>.                                                 <span style=\"color: #7f7f7f; text-decoration-color: #7f7f7f\">               </span>\n",
       "<span style=\"color: #7fbfbf; text-decoration-color: #7fbfbf\">                    </span>           return <span style=\"color: #800080; text-decoration-color: #800080; font-weight: bold\">fit_method</span><span style=\"font-weight: bold\">(</span>estimator, *args, **kwargs<span style=\"font-weight: bold\">)</span>                        <span style=\"color: #7f7f7f; text-decoration-color: #7f7f7f\">               </span>\n",
       "<span style=\"color: #7fbfbf; text-decoration-color: #7fbfbf\">                    </span>                                                                                <span style=\"color: #7f7f7f; text-decoration-color: #7f7f7f\">               </span>\n",
       "</pre>\n"
      ],
      "text/plain": [
       "\u001b[2;36m[06/22/24 16:18:12]\u001b[0m\u001b[2;36m \u001b[0m\u001b[31mWARNING \u001b[0m C:\\Users\\dggua\\anaconda3\\envs\\test_env\\lib\\site-packages\\sklearn\\base. \u001b]8;id=945582;file://C:\\Users\\dggua\\anaconda3\\envs\\test_env\\lib\\warnings.py\u001b\\\u001b[2mwarnings.py\u001b[0m\u001b]8;;\u001b\\\u001b[2m:\u001b[0m\u001b]8;id=79950;file://C:\\Users\\dggua\\anaconda3\\envs\\test_env\\lib\\warnings.py#109\u001b\\\u001b[2m109\u001b[0m\u001b]8;;\u001b\\\n",
       "\u001b[2;36m                    \u001b[0m         py:\u001b[1;36m1351\u001b[0m: DataConversionWarning: A column-vector y was passed when a 1d \u001b[2m               \u001b[0m\n",
       "\u001b[2;36m                    \u001b[0m         array was expected. Please change the shape of y to \u001b[1m(\u001b[0mn_samples,\u001b[1m)\u001b[0m, for  \u001b[2m               \u001b[0m\n",
       "\u001b[2;36m                    \u001b[0m         example using \u001b[1;35mravel\u001b[0m\u001b[1m(\u001b[0m\u001b[1m)\u001b[0m.                                                 \u001b[2m               \u001b[0m\n",
       "\u001b[2;36m                    \u001b[0m           return \u001b[1;35mfit_method\u001b[0m\u001b[1m(\u001b[0mestimator, *args, **kwargs\u001b[1m)\u001b[0m                        \u001b[2m               \u001b[0m\n",
       "\u001b[2;36m                    \u001b[0m                                                                                \u001b[2m               \u001b[0m\n"
      ]
     },
     "metadata": {},
     "output_type": "display_data"
    },
    {
     "data": {
      "text/html": [
       "<pre style=\"white-space:pre;overflow-x:auto;line-height:normal;font-family:Menlo,'DejaVu Sans Mono',consolas,'Courier New',monospace\"><span style=\"color: #7fbfbf; text-decoration-color: #7fbfbf\">                    </span><span style=\"color: #800000; text-decoration-color: #800000\">WARNING </span> C:\\Users\\dggua\\anaconda3\\envs\\test_env\\lib\\site-packages\\sklearn\\base. <a href=\"file://C:\\Users\\dggua\\anaconda3\\envs\\test_env\\lib\\warnings.py\" target=\"_blank\"><span style=\"color: #7f7f7f; text-decoration-color: #7f7f7f\">warnings.py</span></a><span style=\"color: #7f7f7f; text-decoration-color: #7f7f7f\">:</span><a href=\"file://C:\\Users\\dggua\\anaconda3\\envs\\test_env\\lib\\warnings.py#109\" target=\"_blank\"><span style=\"color: #7f7f7f; text-decoration-color: #7f7f7f\">109</span></a>\n",
       "<span style=\"color: #7fbfbf; text-decoration-color: #7fbfbf\">                    </span>         py:<span style=\"color: #008080; text-decoration-color: #008080; font-weight: bold\">1351</span>: DataConversionWarning: A column-vector y was passed when a 1d <span style=\"color: #7f7f7f; text-decoration-color: #7f7f7f\">               </span>\n",
       "<span style=\"color: #7fbfbf; text-decoration-color: #7fbfbf\">                    </span>         array was expected. Please change the shape of y to <span style=\"font-weight: bold\">(</span>n_samples,<span style=\"font-weight: bold\">)</span>, for  <span style=\"color: #7f7f7f; text-decoration-color: #7f7f7f\">               </span>\n",
       "<span style=\"color: #7fbfbf; text-decoration-color: #7fbfbf\">                    </span>         example using <span style=\"color: #800080; text-decoration-color: #800080; font-weight: bold\">ravel</span><span style=\"font-weight: bold\">()</span>.                                                 <span style=\"color: #7f7f7f; text-decoration-color: #7f7f7f\">               </span>\n",
       "<span style=\"color: #7fbfbf; text-decoration-color: #7fbfbf\">                    </span>           return <span style=\"color: #800080; text-decoration-color: #800080; font-weight: bold\">fit_method</span><span style=\"font-weight: bold\">(</span>estimator, *args, **kwargs<span style=\"font-weight: bold\">)</span>                        <span style=\"color: #7f7f7f; text-decoration-color: #7f7f7f\">               </span>\n",
       "<span style=\"color: #7fbfbf; text-decoration-color: #7fbfbf\">                    </span>                                                                                <span style=\"color: #7f7f7f; text-decoration-color: #7f7f7f\">               </span>\n",
       "</pre>\n"
      ],
      "text/plain": [
       "\u001b[2;36m                   \u001b[0m\u001b[2;36m \u001b[0m\u001b[31mWARNING \u001b[0m C:\\Users\\dggua\\anaconda3\\envs\\test_env\\lib\\site-packages\\sklearn\\base. \u001b]8;id=448536;file://C:\\Users\\dggua\\anaconda3\\envs\\test_env\\lib\\warnings.py\u001b\\\u001b[2mwarnings.py\u001b[0m\u001b]8;;\u001b\\\u001b[2m:\u001b[0m\u001b]8;id=173587;file://C:\\Users\\dggua\\anaconda3\\envs\\test_env\\lib\\warnings.py#109\u001b\\\u001b[2m109\u001b[0m\u001b]8;;\u001b\\\n",
       "\u001b[2;36m                    \u001b[0m         py:\u001b[1;36m1351\u001b[0m: DataConversionWarning: A column-vector y was passed when a 1d \u001b[2m               \u001b[0m\n",
       "\u001b[2;36m                    \u001b[0m         array was expected. Please change the shape of y to \u001b[1m(\u001b[0mn_samples,\u001b[1m)\u001b[0m, for  \u001b[2m               \u001b[0m\n",
       "\u001b[2;36m                    \u001b[0m         example using \u001b[1;35mravel\u001b[0m\u001b[1m(\u001b[0m\u001b[1m)\u001b[0m.                                                 \u001b[2m               \u001b[0m\n",
       "\u001b[2;36m                    \u001b[0m           return \u001b[1;35mfit_method\u001b[0m\u001b[1m(\u001b[0mestimator, *args, **kwargs\u001b[1m)\u001b[0m                        \u001b[2m               \u001b[0m\n",
       "\u001b[2;36m                    \u001b[0m                                                                                \u001b[2m               \u001b[0m\n"
      ]
     },
     "metadata": {},
     "output_type": "display_data"
    },
    {
     "data": {
      "text/html": [
       "<pre style=\"white-space:pre;overflow-x:auto;line-height:normal;font-family:Menlo,'DejaVu Sans Mono',consolas,'Courier New',monospace\"><span style=\"color: #7fbfbf; text-decoration-color: #7fbfbf\">                    </span><span style=\"color: #800000; text-decoration-color: #800000\">WARNING </span> C:\\Users\\dggua\\anaconda3\\envs\\test_env\\lib\\site-packages\\sklearn\\base. <a href=\"file://C:\\Users\\dggua\\anaconda3\\envs\\test_env\\lib\\warnings.py\" target=\"_blank\"><span style=\"color: #7f7f7f; text-decoration-color: #7f7f7f\">warnings.py</span></a><span style=\"color: #7f7f7f; text-decoration-color: #7f7f7f\">:</span><a href=\"file://C:\\Users\\dggua\\anaconda3\\envs\\test_env\\lib\\warnings.py#109\" target=\"_blank\"><span style=\"color: #7f7f7f; text-decoration-color: #7f7f7f\">109</span></a>\n",
       "<span style=\"color: #7fbfbf; text-decoration-color: #7fbfbf\">                    </span>         py:<span style=\"color: #008080; text-decoration-color: #008080; font-weight: bold\">1351</span>: DataConversionWarning: A column-vector y was passed when a 1d <span style=\"color: #7f7f7f; text-decoration-color: #7f7f7f\">               </span>\n",
       "<span style=\"color: #7fbfbf; text-decoration-color: #7fbfbf\">                    </span>         array was expected. Please change the shape of y to <span style=\"font-weight: bold\">(</span>n_samples,<span style=\"font-weight: bold\">)</span>, for  <span style=\"color: #7f7f7f; text-decoration-color: #7f7f7f\">               </span>\n",
       "<span style=\"color: #7fbfbf; text-decoration-color: #7fbfbf\">                    </span>         example using <span style=\"color: #800080; text-decoration-color: #800080; font-weight: bold\">ravel</span><span style=\"font-weight: bold\">()</span>.                                                 <span style=\"color: #7f7f7f; text-decoration-color: #7f7f7f\">               </span>\n",
       "<span style=\"color: #7fbfbf; text-decoration-color: #7fbfbf\">                    </span>           return <span style=\"color: #800080; text-decoration-color: #800080; font-weight: bold\">fit_method</span><span style=\"font-weight: bold\">(</span>estimator, *args, **kwargs<span style=\"font-weight: bold\">)</span>                        <span style=\"color: #7f7f7f; text-decoration-color: #7f7f7f\">               </span>\n",
       "<span style=\"color: #7fbfbf; text-decoration-color: #7fbfbf\">                    </span>                                                                                <span style=\"color: #7f7f7f; text-decoration-color: #7f7f7f\">               </span>\n",
       "</pre>\n"
      ],
      "text/plain": [
       "\u001b[2;36m                   \u001b[0m\u001b[2;36m \u001b[0m\u001b[31mWARNING \u001b[0m C:\\Users\\dggua\\anaconda3\\envs\\test_env\\lib\\site-packages\\sklearn\\base. \u001b]8;id=836281;file://C:\\Users\\dggua\\anaconda3\\envs\\test_env\\lib\\warnings.py\u001b\\\u001b[2mwarnings.py\u001b[0m\u001b]8;;\u001b\\\u001b[2m:\u001b[0m\u001b]8;id=956644;file://C:\\Users\\dggua\\anaconda3\\envs\\test_env\\lib\\warnings.py#109\u001b\\\u001b[2m109\u001b[0m\u001b]8;;\u001b\\\n",
       "\u001b[2;36m                    \u001b[0m         py:\u001b[1;36m1351\u001b[0m: DataConversionWarning: A column-vector y was passed when a 1d \u001b[2m               \u001b[0m\n",
       "\u001b[2;36m                    \u001b[0m         array was expected. Please change the shape of y to \u001b[1m(\u001b[0mn_samples,\u001b[1m)\u001b[0m, for  \u001b[2m               \u001b[0m\n",
       "\u001b[2;36m                    \u001b[0m         example using \u001b[1;35mravel\u001b[0m\u001b[1m(\u001b[0m\u001b[1m)\u001b[0m.                                                 \u001b[2m               \u001b[0m\n",
       "\u001b[2;36m                    \u001b[0m           return \u001b[1;35mfit_method\u001b[0m\u001b[1m(\u001b[0mestimator, *args, **kwargs\u001b[1m)\u001b[0m                        \u001b[2m               \u001b[0m\n",
       "\u001b[2;36m                    \u001b[0m                                                                                \u001b[2m               \u001b[0m\n"
      ]
     },
     "metadata": {},
     "output_type": "display_data"
    },
    {
     "data": {
      "text/html": [
       "<pre style=\"white-space:pre;overflow-x:auto;line-height:normal;font-family:Menlo,'DejaVu Sans Mono',consolas,'Courier New',monospace\"><span style=\"color: #7fbfbf; text-decoration-color: #7fbfbf\">                    </span><span style=\"color: #800000; text-decoration-color: #800000\">WARNING </span> C:\\Users\\dggua\\anaconda3\\envs\\test_env\\lib\\site-packages\\sklearn\\base. <a href=\"file://C:\\Users\\dggua\\anaconda3\\envs\\test_env\\lib\\warnings.py\" target=\"_blank\"><span style=\"color: #7f7f7f; text-decoration-color: #7f7f7f\">warnings.py</span></a><span style=\"color: #7f7f7f; text-decoration-color: #7f7f7f\">:</span><a href=\"file://C:\\Users\\dggua\\anaconda3\\envs\\test_env\\lib\\warnings.py#109\" target=\"_blank\"><span style=\"color: #7f7f7f; text-decoration-color: #7f7f7f\">109</span></a>\n",
       "<span style=\"color: #7fbfbf; text-decoration-color: #7fbfbf\">                    </span>         py:<span style=\"color: #008080; text-decoration-color: #008080; font-weight: bold\">1351</span>: DataConversionWarning: A column-vector y was passed when a 1d <span style=\"color: #7f7f7f; text-decoration-color: #7f7f7f\">               </span>\n",
       "<span style=\"color: #7fbfbf; text-decoration-color: #7fbfbf\">                    </span>         array was expected. Please change the shape of y to <span style=\"font-weight: bold\">(</span>n_samples,<span style=\"font-weight: bold\">)</span>, for  <span style=\"color: #7f7f7f; text-decoration-color: #7f7f7f\">               </span>\n",
       "<span style=\"color: #7fbfbf; text-decoration-color: #7fbfbf\">                    </span>         example using <span style=\"color: #800080; text-decoration-color: #800080; font-weight: bold\">ravel</span><span style=\"font-weight: bold\">()</span>.                                                 <span style=\"color: #7f7f7f; text-decoration-color: #7f7f7f\">               </span>\n",
       "<span style=\"color: #7fbfbf; text-decoration-color: #7fbfbf\">                    </span>           return <span style=\"color: #800080; text-decoration-color: #800080; font-weight: bold\">fit_method</span><span style=\"font-weight: bold\">(</span>estimator, *args, **kwargs<span style=\"font-weight: bold\">)</span>                        <span style=\"color: #7f7f7f; text-decoration-color: #7f7f7f\">               </span>\n",
       "<span style=\"color: #7fbfbf; text-decoration-color: #7fbfbf\">                    </span>                                                                                <span style=\"color: #7f7f7f; text-decoration-color: #7f7f7f\">               </span>\n",
       "</pre>\n"
      ],
      "text/plain": [
       "\u001b[2;36m                   \u001b[0m\u001b[2;36m \u001b[0m\u001b[31mWARNING \u001b[0m C:\\Users\\dggua\\anaconda3\\envs\\test_env\\lib\\site-packages\\sklearn\\base. \u001b]8;id=497070;file://C:\\Users\\dggua\\anaconda3\\envs\\test_env\\lib\\warnings.py\u001b\\\u001b[2mwarnings.py\u001b[0m\u001b]8;;\u001b\\\u001b[2m:\u001b[0m\u001b]8;id=739946;file://C:\\Users\\dggua\\anaconda3\\envs\\test_env\\lib\\warnings.py#109\u001b\\\u001b[2m109\u001b[0m\u001b]8;;\u001b\\\n",
       "\u001b[2;36m                    \u001b[0m         py:\u001b[1;36m1351\u001b[0m: DataConversionWarning: A column-vector y was passed when a 1d \u001b[2m               \u001b[0m\n",
       "\u001b[2;36m                    \u001b[0m         array was expected. Please change the shape of y to \u001b[1m(\u001b[0mn_samples,\u001b[1m)\u001b[0m, for  \u001b[2m               \u001b[0m\n",
       "\u001b[2;36m                    \u001b[0m         example using \u001b[1;35mravel\u001b[0m\u001b[1m(\u001b[0m\u001b[1m)\u001b[0m.                                                 \u001b[2m               \u001b[0m\n",
       "\u001b[2;36m                    \u001b[0m           return \u001b[1;35mfit_method\u001b[0m\u001b[1m(\u001b[0mestimator, *args, **kwargs\u001b[1m)\u001b[0m                        \u001b[2m               \u001b[0m\n",
       "\u001b[2;36m                    \u001b[0m                                                                                \u001b[2m               \u001b[0m\n"
      ]
     },
     "metadata": {},
     "output_type": "display_data"
    },
    {
     "data": {
      "text/html": [
       "<pre style=\"white-space:pre;overflow-x:auto;line-height:normal;font-family:Menlo,'DejaVu Sans Mono',consolas,'Courier New',monospace\"><span style=\"color: #7fbfbf; text-decoration-color: #7fbfbf\">                    </span><span style=\"color: #800000; text-decoration-color: #800000\">WARNING </span> C:\\Users\\dggua\\anaconda3\\envs\\test_env\\lib\\site-packages\\sklearn\\base. <a href=\"file://C:\\Users\\dggua\\anaconda3\\envs\\test_env\\lib\\warnings.py\" target=\"_blank\"><span style=\"color: #7f7f7f; text-decoration-color: #7f7f7f\">warnings.py</span></a><span style=\"color: #7f7f7f; text-decoration-color: #7f7f7f\">:</span><a href=\"file://C:\\Users\\dggua\\anaconda3\\envs\\test_env\\lib\\warnings.py#109\" target=\"_blank\"><span style=\"color: #7f7f7f; text-decoration-color: #7f7f7f\">109</span></a>\n",
       "<span style=\"color: #7fbfbf; text-decoration-color: #7fbfbf\">                    </span>         py:<span style=\"color: #008080; text-decoration-color: #008080; font-weight: bold\">1351</span>: DataConversionWarning: A column-vector y was passed when a 1d <span style=\"color: #7f7f7f; text-decoration-color: #7f7f7f\">               </span>\n",
       "<span style=\"color: #7fbfbf; text-decoration-color: #7fbfbf\">                    </span>         array was expected. Please change the shape of y to <span style=\"font-weight: bold\">(</span>n_samples,<span style=\"font-weight: bold\">)</span>, for  <span style=\"color: #7f7f7f; text-decoration-color: #7f7f7f\">               </span>\n",
       "<span style=\"color: #7fbfbf; text-decoration-color: #7fbfbf\">                    </span>         example using <span style=\"color: #800080; text-decoration-color: #800080; font-weight: bold\">ravel</span><span style=\"font-weight: bold\">()</span>.                                                 <span style=\"color: #7f7f7f; text-decoration-color: #7f7f7f\">               </span>\n",
       "<span style=\"color: #7fbfbf; text-decoration-color: #7fbfbf\">                    </span>           return <span style=\"color: #800080; text-decoration-color: #800080; font-weight: bold\">fit_method</span><span style=\"font-weight: bold\">(</span>estimator, *args, **kwargs<span style=\"font-weight: bold\">)</span>                        <span style=\"color: #7f7f7f; text-decoration-color: #7f7f7f\">               </span>\n",
       "<span style=\"color: #7fbfbf; text-decoration-color: #7fbfbf\">                    </span>                                                                                <span style=\"color: #7f7f7f; text-decoration-color: #7f7f7f\">               </span>\n",
       "</pre>\n"
      ],
      "text/plain": [
       "\u001b[2;36m                   \u001b[0m\u001b[2;36m \u001b[0m\u001b[31mWARNING \u001b[0m C:\\Users\\dggua\\anaconda3\\envs\\test_env\\lib\\site-packages\\sklearn\\base. \u001b]8;id=201020;file://C:\\Users\\dggua\\anaconda3\\envs\\test_env\\lib\\warnings.py\u001b\\\u001b[2mwarnings.py\u001b[0m\u001b]8;;\u001b\\\u001b[2m:\u001b[0m\u001b]8;id=828564;file://C:\\Users\\dggua\\anaconda3\\envs\\test_env\\lib\\warnings.py#109\u001b\\\u001b[2m109\u001b[0m\u001b]8;;\u001b\\\n",
       "\u001b[2;36m                    \u001b[0m         py:\u001b[1;36m1351\u001b[0m: DataConversionWarning: A column-vector y was passed when a 1d \u001b[2m               \u001b[0m\n",
       "\u001b[2;36m                    \u001b[0m         array was expected. Please change the shape of y to \u001b[1m(\u001b[0mn_samples,\u001b[1m)\u001b[0m, for  \u001b[2m               \u001b[0m\n",
       "\u001b[2;36m                    \u001b[0m         example using \u001b[1;35mravel\u001b[0m\u001b[1m(\u001b[0m\u001b[1m)\u001b[0m.                                                 \u001b[2m               \u001b[0m\n",
       "\u001b[2;36m                    \u001b[0m           return \u001b[1;35mfit_method\u001b[0m\u001b[1m(\u001b[0mestimator, *args, **kwargs\u001b[1m)\u001b[0m                        \u001b[2m               \u001b[0m\n",
       "\u001b[2;36m                    \u001b[0m                                                                                \u001b[2m               \u001b[0m\n"
      ]
     },
     "metadata": {},
     "output_type": "display_data"
    },
    {
     "data": {
      "text/html": [
       "<pre style=\"white-space:pre;overflow-x:auto;line-height:normal;font-family:Menlo,'DejaVu Sans Mono',consolas,'Courier New',monospace\"><span style=\"color: #7fbfbf; text-decoration-color: #7fbfbf\">                    </span><span style=\"color: #800000; text-decoration-color: #800000\">WARNING </span> C:\\Users\\dggua\\anaconda3\\envs\\test_env\\lib\\site-packages\\sklearn\\base. <a href=\"file://C:\\Users\\dggua\\anaconda3\\envs\\test_env\\lib\\warnings.py\" target=\"_blank\"><span style=\"color: #7f7f7f; text-decoration-color: #7f7f7f\">warnings.py</span></a><span style=\"color: #7f7f7f; text-decoration-color: #7f7f7f\">:</span><a href=\"file://C:\\Users\\dggua\\anaconda3\\envs\\test_env\\lib\\warnings.py#109\" target=\"_blank\"><span style=\"color: #7f7f7f; text-decoration-color: #7f7f7f\">109</span></a>\n",
       "<span style=\"color: #7fbfbf; text-decoration-color: #7fbfbf\">                    </span>         py:<span style=\"color: #008080; text-decoration-color: #008080; font-weight: bold\">1351</span>: DataConversionWarning: A column-vector y was passed when a 1d <span style=\"color: #7f7f7f; text-decoration-color: #7f7f7f\">               </span>\n",
       "<span style=\"color: #7fbfbf; text-decoration-color: #7fbfbf\">                    </span>         array was expected. Please change the shape of y to <span style=\"font-weight: bold\">(</span>n_samples,<span style=\"font-weight: bold\">)</span>, for  <span style=\"color: #7f7f7f; text-decoration-color: #7f7f7f\">               </span>\n",
       "<span style=\"color: #7fbfbf; text-decoration-color: #7fbfbf\">                    </span>         example using <span style=\"color: #800080; text-decoration-color: #800080; font-weight: bold\">ravel</span><span style=\"font-weight: bold\">()</span>.                                                 <span style=\"color: #7f7f7f; text-decoration-color: #7f7f7f\">               </span>\n",
       "<span style=\"color: #7fbfbf; text-decoration-color: #7fbfbf\">                    </span>           return <span style=\"color: #800080; text-decoration-color: #800080; font-weight: bold\">fit_method</span><span style=\"font-weight: bold\">(</span>estimator, *args, **kwargs<span style=\"font-weight: bold\">)</span>                        <span style=\"color: #7f7f7f; text-decoration-color: #7f7f7f\">               </span>\n",
       "<span style=\"color: #7fbfbf; text-decoration-color: #7fbfbf\">                    </span>                                                                                <span style=\"color: #7f7f7f; text-decoration-color: #7f7f7f\">               </span>\n",
       "</pre>\n"
      ],
      "text/plain": [
       "\u001b[2;36m                   \u001b[0m\u001b[2;36m \u001b[0m\u001b[31mWARNING \u001b[0m C:\\Users\\dggua\\anaconda3\\envs\\test_env\\lib\\site-packages\\sklearn\\base. \u001b]8;id=734469;file://C:\\Users\\dggua\\anaconda3\\envs\\test_env\\lib\\warnings.py\u001b\\\u001b[2mwarnings.py\u001b[0m\u001b]8;;\u001b\\\u001b[2m:\u001b[0m\u001b]8;id=959809;file://C:\\Users\\dggua\\anaconda3\\envs\\test_env\\lib\\warnings.py#109\u001b\\\u001b[2m109\u001b[0m\u001b]8;;\u001b\\\n",
       "\u001b[2;36m                    \u001b[0m         py:\u001b[1;36m1351\u001b[0m: DataConversionWarning: A column-vector y was passed when a 1d \u001b[2m               \u001b[0m\n",
       "\u001b[2;36m                    \u001b[0m         array was expected. Please change the shape of y to \u001b[1m(\u001b[0mn_samples,\u001b[1m)\u001b[0m, for  \u001b[2m               \u001b[0m\n",
       "\u001b[2;36m                    \u001b[0m         example using \u001b[1;35mravel\u001b[0m\u001b[1m(\u001b[0m\u001b[1m)\u001b[0m.                                                 \u001b[2m               \u001b[0m\n",
       "\u001b[2;36m                    \u001b[0m           return \u001b[1;35mfit_method\u001b[0m\u001b[1m(\u001b[0mestimator, *args, **kwargs\u001b[1m)\u001b[0m                        \u001b[2m               \u001b[0m\n",
       "\u001b[2;36m                    \u001b[0m                                                                                \u001b[2m               \u001b[0m\n"
      ]
     },
     "metadata": {},
     "output_type": "display_data"
    },
    {
     "data": {
      "text/html": [
       "<pre style=\"white-space:pre;overflow-x:auto;line-height:normal;font-family:Menlo,'DejaVu Sans Mono',consolas,'Courier New',monospace\"><span style=\"color: #7fbfbf; text-decoration-color: #7fbfbf\">                    </span><span style=\"color: #800000; text-decoration-color: #800000\">WARNING </span> C:\\Users\\dggua\\anaconda3\\envs\\test_env\\lib\\site-packages\\sklearn\\base. <a href=\"file://C:\\Users\\dggua\\anaconda3\\envs\\test_env\\lib\\warnings.py\" target=\"_blank\"><span style=\"color: #7f7f7f; text-decoration-color: #7f7f7f\">warnings.py</span></a><span style=\"color: #7f7f7f; text-decoration-color: #7f7f7f\">:</span><a href=\"file://C:\\Users\\dggua\\anaconda3\\envs\\test_env\\lib\\warnings.py#109\" target=\"_blank\"><span style=\"color: #7f7f7f; text-decoration-color: #7f7f7f\">109</span></a>\n",
       "<span style=\"color: #7fbfbf; text-decoration-color: #7fbfbf\">                    </span>         py:<span style=\"color: #008080; text-decoration-color: #008080; font-weight: bold\">1351</span>: DataConversionWarning: A column-vector y was passed when a 1d <span style=\"color: #7f7f7f; text-decoration-color: #7f7f7f\">               </span>\n",
       "<span style=\"color: #7fbfbf; text-decoration-color: #7fbfbf\">                    </span>         array was expected. Please change the shape of y to <span style=\"font-weight: bold\">(</span>n_samples,<span style=\"font-weight: bold\">)</span>, for  <span style=\"color: #7f7f7f; text-decoration-color: #7f7f7f\">               </span>\n",
       "<span style=\"color: #7fbfbf; text-decoration-color: #7fbfbf\">                    </span>         example using <span style=\"color: #800080; text-decoration-color: #800080; font-weight: bold\">ravel</span><span style=\"font-weight: bold\">()</span>.                                                 <span style=\"color: #7f7f7f; text-decoration-color: #7f7f7f\">               </span>\n",
       "<span style=\"color: #7fbfbf; text-decoration-color: #7fbfbf\">                    </span>           return <span style=\"color: #800080; text-decoration-color: #800080; font-weight: bold\">fit_method</span><span style=\"font-weight: bold\">(</span>estimator, *args, **kwargs<span style=\"font-weight: bold\">)</span>                        <span style=\"color: #7f7f7f; text-decoration-color: #7f7f7f\">               </span>\n",
       "<span style=\"color: #7fbfbf; text-decoration-color: #7fbfbf\">                    </span>                                                                                <span style=\"color: #7f7f7f; text-decoration-color: #7f7f7f\">               </span>\n",
       "</pre>\n"
      ],
      "text/plain": [
       "\u001b[2;36m                   \u001b[0m\u001b[2;36m \u001b[0m\u001b[31mWARNING \u001b[0m C:\\Users\\dggua\\anaconda3\\envs\\test_env\\lib\\site-packages\\sklearn\\base. \u001b]8;id=853719;file://C:\\Users\\dggua\\anaconda3\\envs\\test_env\\lib\\warnings.py\u001b\\\u001b[2mwarnings.py\u001b[0m\u001b]8;;\u001b\\\u001b[2m:\u001b[0m\u001b]8;id=946599;file://C:\\Users\\dggua\\anaconda3\\envs\\test_env\\lib\\warnings.py#109\u001b\\\u001b[2m109\u001b[0m\u001b]8;;\u001b\\\n",
       "\u001b[2;36m                    \u001b[0m         py:\u001b[1;36m1351\u001b[0m: DataConversionWarning: A column-vector y was passed when a 1d \u001b[2m               \u001b[0m\n",
       "\u001b[2;36m                    \u001b[0m         array was expected. Please change the shape of y to \u001b[1m(\u001b[0mn_samples,\u001b[1m)\u001b[0m, for  \u001b[2m               \u001b[0m\n",
       "\u001b[2;36m                    \u001b[0m         example using \u001b[1;35mravel\u001b[0m\u001b[1m(\u001b[0m\u001b[1m)\u001b[0m.                                                 \u001b[2m               \u001b[0m\n",
       "\u001b[2;36m                    \u001b[0m           return \u001b[1;35mfit_method\u001b[0m\u001b[1m(\u001b[0mestimator, *args, **kwargs\u001b[1m)\u001b[0m                        \u001b[2m               \u001b[0m\n",
       "\u001b[2;36m                    \u001b[0m                                                                                \u001b[2m               \u001b[0m\n"
      ]
     },
     "metadata": {},
     "output_type": "display_data"
    },
    {
     "data": {
      "text/html": [
       "<pre style=\"white-space:pre;overflow-x:auto;line-height:normal;font-family:Menlo,'DejaVu Sans Mono',consolas,'Courier New',monospace\"><span style=\"color: #7fbfbf; text-decoration-color: #7fbfbf\">[06/22/24 16:18:13] </span><span style=\"color: #800000; text-decoration-color: #800000\">WARNING </span> C:\\Users\\dggua\\anaconda3\\envs\\test_env\\lib\\site-packages\\sklearn\\base. <a href=\"file://C:\\Users\\dggua\\anaconda3\\envs\\test_env\\lib\\warnings.py\" target=\"_blank\"><span style=\"color: #7f7f7f; text-decoration-color: #7f7f7f\">warnings.py</span></a><span style=\"color: #7f7f7f; text-decoration-color: #7f7f7f\">:</span><a href=\"file://C:\\Users\\dggua\\anaconda3\\envs\\test_env\\lib\\warnings.py#109\" target=\"_blank\"><span style=\"color: #7f7f7f; text-decoration-color: #7f7f7f\">109</span></a>\n",
       "<span style=\"color: #7fbfbf; text-decoration-color: #7fbfbf\">                    </span>         py:<span style=\"color: #008080; text-decoration-color: #008080; font-weight: bold\">1351</span>: DataConversionWarning: A column-vector y was passed when a 1d <span style=\"color: #7f7f7f; text-decoration-color: #7f7f7f\">               </span>\n",
       "<span style=\"color: #7fbfbf; text-decoration-color: #7fbfbf\">                    </span>         array was expected. Please change the shape of y to <span style=\"font-weight: bold\">(</span>n_samples,<span style=\"font-weight: bold\">)</span>, for  <span style=\"color: #7f7f7f; text-decoration-color: #7f7f7f\">               </span>\n",
       "<span style=\"color: #7fbfbf; text-decoration-color: #7fbfbf\">                    </span>         example using <span style=\"color: #800080; text-decoration-color: #800080; font-weight: bold\">ravel</span><span style=\"font-weight: bold\">()</span>.                                                 <span style=\"color: #7f7f7f; text-decoration-color: #7f7f7f\">               </span>\n",
       "<span style=\"color: #7fbfbf; text-decoration-color: #7fbfbf\">                    </span>           return <span style=\"color: #800080; text-decoration-color: #800080; font-weight: bold\">fit_method</span><span style=\"font-weight: bold\">(</span>estimator, *args, **kwargs<span style=\"font-weight: bold\">)</span>                        <span style=\"color: #7f7f7f; text-decoration-color: #7f7f7f\">               </span>\n",
       "<span style=\"color: #7fbfbf; text-decoration-color: #7fbfbf\">                    </span>                                                                                <span style=\"color: #7f7f7f; text-decoration-color: #7f7f7f\">               </span>\n",
       "</pre>\n"
      ],
      "text/plain": [
       "\u001b[2;36m[06/22/24 16:18:13]\u001b[0m\u001b[2;36m \u001b[0m\u001b[31mWARNING \u001b[0m C:\\Users\\dggua\\anaconda3\\envs\\test_env\\lib\\site-packages\\sklearn\\base. \u001b]8;id=238016;file://C:\\Users\\dggua\\anaconda3\\envs\\test_env\\lib\\warnings.py\u001b\\\u001b[2mwarnings.py\u001b[0m\u001b]8;;\u001b\\\u001b[2m:\u001b[0m\u001b]8;id=379053;file://C:\\Users\\dggua\\anaconda3\\envs\\test_env\\lib\\warnings.py#109\u001b\\\u001b[2m109\u001b[0m\u001b]8;;\u001b\\\n",
       "\u001b[2;36m                    \u001b[0m         py:\u001b[1;36m1351\u001b[0m: DataConversionWarning: A column-vector y was passed when a 1d \u001b[2m               \u001b[0m\n",
       "\u001b[2;36m                    \u001b[0m         array was expected. Please change the shape of y to \u001b[1m(\u001b[0mn_samples,\u001b[1m)\u001b[0m, for  \u001b[2m               \u001b[0m\n",
       "\u001b[2;36m                    \u001b[0m         example using \u001b[1;35mravel\u001b[0m\u001b[1m(\u001b[0m\u001b[1m)\u001b[0m.                                                 \u001b[2m               \u001b[0m\n",
       "\u001b[2;36m                    \u001b[0m           return \u001b[1;35mfit_method\u001b[0m\u001b[1m(\u001b[0mestimator, *args, **kwargs\u001b[1m)\u001b[0m                        \u001b[2m               \u001b[0m\n",
       "\u001b[2;36m                    \u001b[0m                                                                                \u001b[2m               \u001b[0m\n"
      ]
     },
     "metadata": {},
     "output_type": "display_data"
    },
    {
     "data": {
      "text/html": [
       "<pre style=\"white-space:pre;overflow-x:auto;line-height:normal;font-family:Menlo,'DejaVu Sans Mono',consolas,'Courier New',monospace\"><span style=\"color: #7fbfbf; text-decoration-color: #7fbfbf\">                    </span><span style=\"color: #800000; text-decoration-color: #800000\">WARNING </span> C:\\Users\\dggua\\anaconda3\\envs\\test_env\\lib\\site-packages\\sklearn\\base. <a href=\"file://C:\\Users\\dggua\\anaconda3\\envs\\test_env\\lib\\warnings.py\" target=\"_blank\"><span style=\"color: #7f7f7f; text-decoration-color: #7f7f7f\">warnings.py</span></a><span style=\"color: #7f7f7f; text-decoration-color: #7f7f7f\">:</span><a href=\"file://C:\\Users\\dggua\\anaconda3\\envs\\test_env\\lib\\warnings.py#109\" target=\"_blank\"><span style=\"color: #7f7f7f; text-decoration-color: #7f7f7f\">109</span></a>\n",
       "<span style=\"color: #7fbfbf; text-decoration-color: #7fbfbf\">                    </span>         py:<span style=\"color: #008080; text-decoration-color: #008080; font-weight: bold\">1351</span>: DataConversionWarning: A column-vector y was passed when a 1d <span style=\"color: #7f7f7f; text-decoration-color: #7f7f7f\">               </span>\n",
       "<span style=\"color: #7fbfbf; text-decoration-color: #7fbfbf\">                    </span>         array was expected. Please change the shape of y to <span style=\"font-weight: bold\">(</span>n_samples,<span style=\"font-weight: bold\">)</span>, for  <span style=\"color: #7f7f7f; text-decoration-color: #7f7f7f\">               </span>\n",
       "<span style=\"color: #7fbfbf; text-decoration-color: #7fbfbf\">                    </span>         example using <span style=\"color: #800080; text-decoration-color: #800080; font-weight: bold\">ravel</span><span style=\"font-weight: bold\">()</span>.                                                 <span style=\"color: #7f7f7f; text-decoration-color: #7f7f7f\">               </span>\n",
       "<span style=\"color: #7fbfbf; text-decoration-color: #7fbfbf\">                    </span>           return <span style=\"color: #800080; text-decoration-color: #800080; font-weight: bold\">fit_method</span><span style=\"font-weight: bold\">(</span>estimator, *args, **kwargs<span style=\"font-weight: bold\">)</span>                        <span style=\"color: #7f7f7f; text-decoration-color: #7f7f7f\">               </span>\n",
       "<span style=\"color: #7fbfbf; text-decoration-color: #7fbfbf\">                    </span>                                                                                <span style=\"color: #7f7f7f; text-decoration-color: #7f7f7f\">               </span>\n",
       "</pre>\n"
      ],
      "text/plain": [
       "\u001b[2;36m                   \u001b[0m\u001b[2;36m \u001b[0m\u001b[31mWARNING \u001b[0m C:\\Users\\dggua\\anaconda3\\envs\\test_env\\lib\\site-packages\\sklearn\\base. \u001b]8;id=87246;file://C:\\Users\\dggua\\anaconda3\\envs\\test_env\\lib\\warnings.py\u001b\\\u001b[2mwarnings.py\u001b[0m\u001b]8;;\u001b\\\u001b[2m:\u001b[0m\u001b]8;id=649334;file://C:\\Users\\dggua\\anaconda3\\envs\\test_env\\lib\\warnings.py#109\u001b\\\u001b[2m109\u001b[0m\u001b]8;;\u001b\\\n",
       "\u001b[2;36m                    \u001b[0m         py:\u001b[1;36m1351\u001b[0m: DataConversionWarning: A column-vector y was passed when a 1d \u001b[2m               \u001b[0m\n",
       "\u001b[2;36m                    \u001b[0m         array was expected. Please change the shape of y to \u001b[1m(\u001b[0mn_samples,\u001b[1m)\u001b[0m, for  \u001b[2m               \u001b[0m\n",
       "\u001b[2;36m                    \u001b[0m         example using \u001b[1;35mravel\u001b[0m\u001b[1m(\u001b[0m\u001b[1m)\u001b[0m.                                                 \u001b[2m               \u001b[0m\n",
       "\u001b[2;36m                    \u001b[0m           return \u001b[1;35mfit_method\u001b[0m\u001b[1m(\u001b[0mestimator, *args, **kwargs\u001b[1m)\u001b[0m                        \u001b[2m               \u001b[0m\n",
       "\u001b[2;36m                    \u001b[0m                                                                                \u001b[2m               \u001b[0m\n"
      ]
     },
     "metadata": {},
     "output_type": "display_data"
    },
    {
     "data": {
      "text/html": [
       "<pre style=\"white-space:pre;overflow-x:auto;line-height:normal;font-family:Menlo,'DejaVu Sans Mono',consolas,'Courier New',monospace\"><span style=\"color: #7fbfbf; text-decoration-color: #7fbfbf\">                    </span><span style=\"color: #800000; text-decoration-color: #800000\">WARNING </span> C:\\Users\\dggua\\anaconda3\\envs\\test_env\\lib\\site-packages\\sklearn\\base. <a href=\"file://C:\\Users\\dggua\\anaconda3\\envs\\test_env\\lib\\warnings.py\" target=\"_blank\"><span style=\"color: #7f7f7f; text-decoration-color: #7f7f7f\">warnings.py</span></a><span style=\"color: #7f7f7f; text-decoration-color: #7f7f7f\">:</span><a href=\"file://C:\\Users\\dggua\\anaconda3\\envs\\test_env\\lib\\warnings.py#109\" target=\"_blank\"><span style=\"color: #7f7f7f; text-decoration-color: #7f7f7f\">109</span></a>\n",
       "<span style=\"color: #7fbfbf; text-decoration-color: #7fbfbf\">                    </span>         py:<span style=\"color: #008080; text-decoration-color: #008080; font-weight: bold\">1351</span>: DataConversionWarning: A column-vector y was passed when a 1d <span style=\"color: #7f7f7f; text-decoration-color: #7f7f7f\">               </span>\n",
       "<span style=\"color: #7fbfbf; text-decoration-color: #7fbfbf\">                    </span>         array was expected. Please change the shape of y to <span style=\"font-weight: bold\">(</span>n_samples,<span style=\"font-weight: bold\">)</span>, for  <span style=\"color: #7f7f7f; text-decoration-color: #7f7f7f\">               </span>\n",
       "<span style=\"color: #7fbfbf; text-decoration-color: #7fbfbf\">                    </span>         example using <span style=\"color: #800080; text-decoration-color: #800080; font-weight: bold\">ravel</span><span style=\"font-weight: bold\">()</span>.                                                 <span style=\"color: #7f7f7f; text-decoration-color: #7f7f7f\">               </span>\n",
       "<span style=\"color: #7fbfbf; text-decoration-color: #7fbfbf\">                    </span>           return <span style=\"color: #800080; text-decoration-color: #800080; font-weight: bold\">fit_method</span><span style=\"font-weight: bold\">(</span>estimator, *args, **kwargs<span style=\"font-weight: bold\">)</span>                        <span style=\"color: #7f7f7f; text-decoration-color: #7f7f7f\">               </span>\n",
       "<span style=\"color: #7fbfbf; text-decoration-color: #7fbfbf\">                    </span>                                                                                <span style=\"color: #7f7f7f; text-decoration-color: #7f7f7f\">               </span>\n",
       "</pre>\n"
      ],
      "text/plain": [
       "\u001b[2;36m                   \u001b[0m\u001b[2;36m \u001b[0m\u001b[31mWARNING \u001b[0m C:\\Users\\dggua\\anaconda3\\envs\\test_env\\lib\\site-packages\\sklearn\\base. \u001b]8;id=418516;file://C:\\Users\\dggua\\anaconda3\\envs\\test_env\\lib\\warnings.py\u001b\\\u001b[2mwarnings.py\u001b[0m\u001b]8;;\u001b\\\u001b[2m:\u001b[0m\u001b]8;id=770796;file://C:\\Users\\dggua\\anaconda3\\envs\\test_env\\lib\\warnings.py#109\u001b\\\u001b[2m109\u001b[0m\u001b]8;;\u001b\\\n",
       "\u001b[2;36m                    \u001b[0m         py:\u001b[1;36m1351\u001b[0m: DataConversionWarning: A column-vector y was passed when a 1d \u001b[2m               \u001b[0m\n",
       "\u001b[2;36m                    \u001b[0m         array was expected. Please change the shape of y to \u001b[1m(\u001b[0mn_samples,\u001b[1m)\u001b[0m, for  \u001b[2m               \u001b[0m\n",
       "\u001b[2;36m                    \u001b[0m         example using \u001b[1;35mravel\u001b[0m\u001b[1m(\u001b[0m\u001b[1m)\u001b[0m.                                                 \u001b[2m               \u001b[0m\n",
       "\u001b[2;36m                    \u001b[0m           return \u001b[1;35mfit_method\u001b[0m\u001b[1m(\u001b[0mestimator, *args, **kwargs\u001b[1m)\u001b[0m                        \u001b[2m               \u001b[0m\n",
       "\u001b[2;36m                    \u001b[0m                                                                                \u001b[2m               \u001b[0m\n"
      ]
     },
     "metadata": {},
     "output_type": "display_data"
    },
    {
     "data": {
      "text/html": [
       "<pre style=\"white-space:pre;overflow-x:auto;line-height:normal;font-family:Menlo,'DejaVu Sans Mono',consolas,'Courier New',monospace\"><span style=\"color: #7fbfbf; text-decoration-color: #7fbfbf\">                    </span><span style=\"color: #800000; text-decoration-color: #800000\">WARNING </span> C:\\Users\\dggua\\anaconda3\\envs\\test_env\\lib\\site-packages\\sklearn\\base. <a href=\"file://C:\\Users\\dggua\\anaconda3\\envs\\test_env\\lib\\warnings.py\" target=\"_blank\"><span style=\"color: #7f7f7f; text-decoration-color: #7f7f7f\">warnings.py</span></a><span style=\"color: #7f7f7f; text-decoration-color: #7f7f7f\">:</span><a href=\"file://C:\\Users\\dggua\\anaconda3\\envs\\test_env\\lib\\warnings.py#109\" target=\"_blank\"><span style=\"color: #7f7f7f; text-decoration-color: #7f7f7f\">109</span></a>\n",
       "<span style=\"color: #7fbfbf; text-decoration-color: #7fbfbf\">                    </span>         py:<span style=\"color: #008080; text-decoration-color: #008080; font-weight: bold\">1351</span>: DataConversionWarning: A column-vector y was passed when a 1d <span style=\"color: #7f7f7f; text-decoration-color: #7f7f7f\">               </span>\n",
       "<span style=\"color: #7fbfbf; text-decoration-color: #7fbfbf\">                    </span>         array was expected. Please change the shape of y to <span style=\"font-weight: bold\">(</span>n_samples,<span style=\"font-weight: bold\">)</span>, for  <span style=\"color: #7f7f7f; text-decoration-color: #7f7f7f\">               </span>\n",
       "<span style=\"color: #7fbfbf; text-decoration-color: #7fbfbf\">                    </span>         example using <span style=\"color: #800080; text-decoration-color: #800080; font-weight: bold\">ravel</span><span style=\"font-weight: bold\">()</span>.                                                 <span style=\"color: #7f7f7f; text-decoration-color: #7f7f7f\">               </span>\n",
       "<span style=\"color: #7fbfbf; text-decoration-color: #7fbfbf\">                    </span>           return <span style=\"color: #800080; text-decoration-color: #800080; font-weight: bold\">fit_method</span><span style=\"font-weight: bold\">(</span>estimator, *args, **kwargs<span style=\"font-weight: bold\">)</span>                        <span style=\"color: #7f7f7f; text-decoration-color: #7f7f7f\">               </span>\n",
       "<span style=\"color: #7fbfbf; text-decoration-color: #7fbfbf\">                    </span>                                                                                <span style=\"color: #7f7f7f; text-decoration-color: #7f7f7f\">               </span>\n",
       "</pre>\n"
      ],
      "text/plain": [
       "\u001b[2;36m                   \u001b[0m\u001b[2;36m \u001b[0m\u001b[31mWARNING \u001b[0m C:\\Users\\dggua\\anaconda3\\envs\\test_env\\lib\\site-packages\\sklearn\\base. \u001b]8;id=316269;file://C:\\Users\\dggua\\anaconda3\\envs\\test_env\\lib\\warnings.py\u001b\\\u001b[2mwarnings.py\u001b[0m\u001b]8;;\u001b\\\u001b[2m:\u001b[0m\u001b]8;id=330359;file://C:\\Users\\dggua\\anaconda3\\envs\\test_env\\lib\\warnings.py#109\u001b\\\u001b[2m109\u001b[0m\u001b]8;;\u001b\\\n",
       "\u001b[2;36m                    \u001b[0m         py:\u001b[1;36m1351\u001b[0m: DataConversionWarning: A column-vector y was passed when a 1d \u001b[2m               \u001b[0m\n",
       "\u001b[2;36m                    \u001b[0m         array was expected. Please change the shape of y to \u001b[1m(\u001b[0mn_samples,\u001b[1m)\u001b[0m, for  \u001b[2m               \u001b[0m\n",
       "\u001b[2;36m                    \u001b[0m         example using \u001b[1;35mravel\u001b[0m\u001b[1m(\u001b[0m\u001b[1m)\u001b[0m.                                                 \u001b[2m               \u001b[0m\n",
       "\u001b[2;36m                    \u001b[0m           return \u001b[1;35mfit_method\u001b[0m\u001b[1m(\u001b[0mestimator, *args, **kwargs\u001b[1m)\u001b[0m                        \u001b[2m               \u001b[0m\n",
       "\u001b[2;36m                    \u001b[0m                                                                                \u001b[2m               \u001b[0m\n"
      ]
     },
     "metadata": {},
     "output_type": "display_data"
    },
    {
     "data": {
      "text/html": [
       "<pre style=\"white-space:pre;overflow-x:auto;line-height:normal;font-family:Menlo,'DejaVu Sans Mono',consolas,'Courier New',monospace\"><span style=\"color: #7fbfbf; text-decoration-color: #7fbfbf\">                    </span><span style=\"color: #800000; text-decoration-color: #800000\">WARNING </span> C:\\Users\\dggua\\anaconda3\\envs\\test_env\\lib\\site-packages\\sklearn\\base. <a href=\"file://C:\\Users\\dggua\\anaconda3\\envs\\test_env\\lib\\warnings.py\" target=\"_blank\"><span style=\"color: #7f7f7f; text-decoration-color: #7f7f7f\">warnings.py</span></a><span style=\"color: #7f7f7f; text-decoration-color: #7f7f7f\">:</span><a href=\"file://C:\\Users\\dggua\\anaconda3\\envs\\test_env\\lib\\warnings.py#109\" target=\"_blank\"><span style=\"color: #7f7f7f; text-decoration-color: #7f7f7f\">109</span></a>\n",
       "<span style=\"color: #7fbfbf; text-decoration-color: #7fbfbf\">                    </span>         py:<span style=\"color: #008080; text-decoration-color: #008080; font-weight: bold\">1351</span>: DataConversionWarning: A column-vector y was passed when a 1d <span style=\"color: #7f7f7f; text-decoration-color: #7f7f7f\">               </span>\n",
       "<span style=\"color: #7fbfbf; text-decoration-color: #7fbfbf\">                    </span>         array was expected. Please change the shape of y to <span style=\"font-weight: bold\">(</span>n_samples,<span style=\"font-weight: bold\">)</span>, for  <span style=\"color: #7f7f7f; text-decoration-color: #7f7f7f\">               </span>\n",
       "<span style=\"color: #7fbfbf; text-decoration-color: #7fbfbf\">                    </span>         example using <span style=\"color: #800080; text-decoration-color: #800080; font-weight: bold\">ravel</span><span style=\"font-weight: bold\">()</span>.                                                 <span style=\"color: #7f7f7f; text-decoration-color: #7f7f7f\">               </span>\n",
       "<span style=\"color: #7fbfbf; text-decoration-color: #7fbfbf\">                    </span>           return <span style=\"color: #800080; text-decoration-color: #800080; font-weight: bold\">fit_method</span><span style=\"font-weight: bold\">(</span>estimator, *args, **kwargs<span style=\"font-weight: bold\">)</span>                        <span style=\"color: #7f7f7f; text-decoration-color: #7f7f7f\">               </span>\n",
       "<span style=\"color: #7fbfbf; text-decoration-color: #7fbfbf\">                    </span>                                                                                <span style=\"color: #7f7f7f; text-decoration-color: #7f7f7f\">               </span>\n",
       "</pre>\n"
      ],
      "text/plain": [
       "\u001b[2;36m                   \u001b[0m\u001b[2;36m \u001b[0m\u001b[31mWARNING \u001b[0m C:\\Users\\dggua\\anaconda3\\envs\\test_env\\lib\\site-packages\\sklearn\\base. \u001b]8;id=527735;file://C:\\Users\\dggua\\anaconda3\\envs\\test_env\\lib\\warnings.py\u001b\\\u001b[2mwarnings.py\u001b[0m\u001b]8;;\u001b\\\u001b[2m:\u001b[0m\u001b]8;id=258183;file://C:\\Users\\dggua\\anaconda3\\envs\\test_env\\lib\\warnings.py#109\u001b\\\u001b[2m109\u001b[0m\u001b]8;;\u001b\\\n",
       "\u001b[2;36m                    \u001b[0m         py:\u001b[1;36m1351\u001b[0m: DataConversionWarning: A column-vector y was passed when a 1d \u001b[2m               \u001b[0m\n",
       "\u001b[2;36m                    \u001b[0m         array was expected. Please change the shape of y to \u001b[1m(\u001b[0mn_samples,\u001b[1m)\u001b[0m, for  \u001b[2m               \u001b[0m\n",
       "\u001b[2;36m                    \u001b[0m         example using \u001b[1;35mravel\u001b[0m\u001b[1m(\u001b[0m\u001b[1m)\u001b[0m.                                                 \u001b[2m               \u001b[0m\n",
       "\u001b[2;36m                    \u001b[0m           return \u001b[1;35mfit_method\u001b[0m\u001b[1m(\u001b[0mestimator, *args, **kwargs\u001b[1m)\u001b[0m                        \u001b[2m               \u001b[0m\n",
       "\u001b[2;36m                    \u001b[0m                                                                                \u001b[2m               \u001b[0m\n"
      ]
     },
     "metadata": {},
     "output_type": "display_data"
    },
    {
     "data": {
      "text/html": [
       "<pre style=\"white-space:pre;overflow-x:auto;line-height:normal;font-family:Menlo,'DejaVu Sans Mono',consolas,'Courier New',monospace\"><span style=\"color: #7fbfbf; text-decoration-color: #7fbfbf\">                    </span><span style=\"color: #800000; text-decoration-color: #800000\">WARNING </span> C:\\Users\\dggua\\anaconda3\\envs\\test_env\\lib\\site-packages\\sklearn\\base. <a href=\"file://C:\\Users\\dggua\\anaconda3\\envs\\test_env\\lib\\warnings.py\" target=\"_blank\"><span style=\"color: #7f7f7f; text-decoration-color: #7f7f7f\">warnings.py</span></a><span style=\"color: #7f7f7f; text-decoration-color: #7f7f7f\">:</span><a href=\"file://C:\\Users\\dggua\\anaconda3\\envs\\test_env\\lib\\warnings.py#109\" target=\"_blank\"><span style=\"color: #7f7f7f; text-decoration-color: #7f7f7f\">109</span></a>\n",
       "<span style=\"color: #7fbfbf; text-decoration-color: #7fbfbf\">                    </span>         py:<span style=\"color: #008080; text-decoration-color: #008080; font-weight: bold\">1351</span>: DataConversionWarning: A column-vector y was passed when a 1d <span style=\"color: #7f7f7f; text-decoration-color: #7f7f7f\">               </span>\n",
       "<span style=\"color: #7fbfbf; text-decoration-color: #7fbfbf\">                    </span>         array was expected. Please change the shape of y to <span style=\"font-weight: bold\">(</span>n_samples,<span style=\"font-weight: bold\">)</span>, for  <span style=\"color: #7f7f7f; text-decoration-color: #7f7f7f\">               </span>\n",
       "<span style=\"color: #7fbfbf; text-decoration-color: #7fbfbf\">                    </span>         example using <span style=\"color: #800080; text-decoration-color: #800080; font-weight: bold\">ravel</span><span style=\"font-weight: bold\">()</span>.                                                 <span style=\"color: #7f7f7f; text-decoration-color: #7f7f7f\">               </span>\n",
       "<span style=\"color: #7fbfbf; text-decoration-color: #7fbfbf\">                    </span>           return <span style=\"color: #800080; text-decoration-color: #800080; font-weight: bold\">fit_method</span><span style=\"font-weight: bold\">(</span>estimator, *args, **kwargs<span style=\"font-weight: bold\">)</span>                        <span style=\"color: #7f7f7f; text-decoration-color: #7f7f7f\">               </span>\n",
       "<span style=\"color: #7fbfbf; text-decoration-color: #7fbfbf\">                    </span>                                                                                <span style=\"color: #7f7f7f; text-decoration-color: #7f7f7f\">               </span>\n",
       "</pre>\n"
      ],
      "text/plain": [
       "\u001b[2;36m                   \u001b[0m\u001b[2;36m \u001b[0m\u001b[31mWARNING \u001b[0m C:\\Users\\dggua\\anaconda3\\envs\\test_env\\lib\\site-packages\\sklearn\\base. \u001b]8;id=639216;file://C:\\Users\\dggua\\anaconda3\\envs\\test_env\\lib\\warnings.py\u001b\\\u001b[2mwarnings.py\u001b[0m\u001b]8;;\u001b\\\u001b[2m:\u001b[0m\u001b]8;id=604292;file://C:\\Users\\dggua\\anaconda3\\envs\\test_env\\lib\\warnings.py#109\u001b\\\u001b[2m109\u001b[0m\u001b]8;;\u001b\\\n",
       "\u001b[2;36m                    \u001b[0m         py:\u001b[1;36m1351\u001b[0m: DataConversionWarning: A column-vector y was passed when a 1d \u001b[2m               \u001b[0m\n",
       "\u001b[2;36m                    \u001b[0m         array was expected. Please change the shape of y to \u001b[1m(\u001b[0mn_samples,\u001b[1m)\u001b[0m, for  \u001b[2m               \u001b[0m\n",
       "\u001b[2;36m                    \u001b[0m         example using \u001b[1;35mravel\u001b[0m\u001b[1m(\u001b[0m\u001b[1m)\u001b[0m.                                                 \u001b[2m               \u001b[0m\n",
       "\u001b[2;36m                    \u001b[0m           return \u001b[1;35mfit_method\u001b[0m\u001b[1m(\u001b[0mestimator, *args, **kwargs\u001b[1m)\u001b[0m                        \u001b[2m               \u001b[0m\n",
       "\u001b[2;36m                    \u001b[0m                                                                                \u001b[2m               \u001b[0m\n"
      ]
     },
     "metadata": {},
     "output_type": "display_data"
    },
    {
     "data": {
      "text/html": [
       "<pre style=\"white-space:pre;overflow-x:auto;line-height:normal;font-family:Menlo,'DejaVu Sans Mono',consolas,'Courier New',monospace\"><span style=\"color: #7fbfbf; text-decoration-color: #7fbfbf\">                    </span><span style=\"color: #800000; text-decoration-color: #800000\">WARNING </span> C:\\Users\\dggua\\anaconda3\\envs\\test_env\\lib\\site-packages\\sklearn\\base. <a href=\"file://C:\\Users\\dggua\\anaconda3\\envs\\test_env\\lib\\warnings.py\" target=\"_blank\"><span style=\"color: #7f7f7f; text-decoration-color: #7f7f7f\">warnings.py</span></a><span style=\"color: #7f7f7f; text-decoration-color: #7f7f7f\">:</span><a href=\"file://C:\\Users\\dggua\\anaconda3\\envs\\test_env\\lib\\warnings.py#109\" target=\"_blank\"><span style=\"color: #7f7f7f; text-decoration-color: #7f7f7f\">109</span></a>\n",
       "<span style=\"color: #7fbfbf; text-decoration-color: #7fbfbf\">                    </span>         py:<span style=\"color: #008080; text-decoration-color: #008080; font-weight: bold\">1351</span>: DataConversionWarning: A column-vector y was passed when a 1d <span style=\"color: #7f7f7f; text-decoration-color: #7f7f7f\">               </span>\n",
       "<span style=\"color: #7fbfbf; text-decoration-color: #7fbfbf\">                    </span>         array was expected. Please change the shape of y to <span style=\"font-weight: bold\">(</span>n_samples,<span style=\"font-weight: bold\">)</span>, for  <span style=\"color: #7f7f7f; text-decoration-color: #7f7f7f\">               </span>\n",
       "<span style=\"color: #7fbfbf; text-decoration-color: #7fbfbf\">                    </span>         example using <span style=\"color: #800080; text-decoration-color: #800080; font-weight: bold\">ravel</span><span style=\"font-weight: bold\">()</span>.                                                 <span style=\"color: #7f7f7f; text-decoration-color: #7f7f7f\">               </span>\n",
       "<span style=\"color: #7fbfbf; text-decoration-color: #7fbfbf\">                    </span>           return <span style=\"color: #800080; text-decoration-color: #800080; font-weight: bold\">fit_method</span><span style=\"font-weight: bold\">(</span>estimator, *args, **kwargs<span style=\"font-weight: bold\">)</span>                        <span style=\"color: #7f7f7f; text-decoration-color: #7f7f7f\">               </span>\n",
       "<span style=\"color: #7fbfbf; text-decoration-color: #7fbfbf\">                    </span>                                                                                <span style=\"color: #7f7f7f; text-decoration-color: #7f7f7f\">               </span>\n",
       "</pre>\n"
      ],
      "text/plain": [
       "\u001b[2;36m                   \u001b[0m\u001b[2;36m \u001b[0m\u001b[31mWARNING \u001b[0m C:\\Users\\dggua\\anaconda3\\envs\\test_env\\lib\\site-packages\\sklearn\\base. \u001b]8;id=178982;file://C:\\Users\\dggua\\anaconda3\\envs\\test_env\\lib\\warnings.py\u001b\\\u001b[2mwarnings.py\u001b[0m\u001b]8;;\u001b\\\u001b[2m:\u001b[0m\u001b]8;id=872110;file://C:\\Users\\dggua\\anaconda3\\envs\\test_env\\lib\\warnings.py#109\u001b\\\u001b[2m109\u001b[0m\u001b]8;;\u001b\\\n",
       "\u001b[2;36m                    \u001b[0m         py:\u001b[1;36m1351\u001b[0m: DataConversionWarning: A column-vector y was passed when a 1d \u001b[2m               \u001b[0m\n",
       "\u001b[2;36m                    \u001b[0m         array was expected. Please change the shape of y to \u001b[1m(\u001b[0mn_samples,\u001b[1m)\u001b[0m, for  \u001b[2m               \u001b[0m\n",
       "\u001b[2;36m                    \u001b[0m         example using \u001b[1;35mravel\u001b[0m\u001b[1m(\u001b[0m\u001b[1m)\u001b[0m.                                                 \u001b[2m               \u001b[0m\n",
       "\u001b[2;36m                    \u001b[0m           return \u001b[1;35mfit_method\u001b[0m\u001b[1m(\u001b[0mestimator, *args, **kwargs\u001b[1m)\u001b[0m                        \u001b[2m               \u001b[0m\n",
       "\u001b[2;36m                    \u001b[0m                                                                                \u001b[2m               \u001b[0m\n"
      ]
     },
     "metadata": {},
     "output_type": "display_data"
    },
    {
     "data": {
      "text/html": [
       "<pre style=\"white-space:pre;overflow-x:auto;line-height:normal;font-family:Menlo,'DejaVu Sans Mono',consolas,'Courier New',monospace\"><span style=\"color: #7fbfbf; text-decoration-color: #7fbfbf\">[06/22/24 16:18:14] </span><span style=\"color: #800000; text-decoration-color: #800000\">WARNING </span> C:\\Users\\dggua\\anaconda3\\envs\\test_env\\lib\\site-packages\\sklearn\\base. <a href=\"file://C:\\Users\\dggua\\anaconda3\\envs\\test_env\\lib\\warnings.py\" target=\"_blank\"><span style=\"color: #7f7f7f; text-decoration-color: #7f7f7f\">warnings.py</span></a><span style=\"color: #7f7f7f; text-decoration-color: #7f7f7f\">:</span><a href=\"file://C:\\Users\\dggua\\anaconda3\\envs\\test_env\\lib\\warnings.py#109\" target=\"_blank\"><span style=\"color: #7f7f7f; text-decoration-color: #7f7f7f\">109</span></a>\n",
       "<span style=\"color: #7fbfbf; text-decoration-color: #7fbfbf\">                    </span>         py:<span style=\"color: #008080; text-decoration-color: #008080; font-weight: bold\">1351</span>: DataConversionWarning: A column-vector y was passed when a 1d <span style=\"color: #7f7f7f; text-decoration-color: #7f7f7f\">               </span>\n",
       "<span style=\"color: #7fbfbf; text-decoration-color: #7fbfbf\">                    </span>         array was expected. Please change the shape of y to <span style=\"font-weight: bold\">(</span>n_samples,<span style=\"font-weight: bold\">)</span>, for  <span style=\"color: #7f7f7f; text-decoration-color: #7f7f7f\">               </span>\n",
       "<span style=\"color: #7fbfbf; text-decoration-color: #7fbfbf\">                    </span>         example using <span style=\"color: #800080; text-decoration-color: #800080; font-weight: bold\">ravel</span><span style=\"font-weight: bold\">()</span>.                                                 <span style=\"color: #7f7f7f; text-decoration-color: #7f7f7f\">               </span>\n",
       "<span style=\"color: #7fbfbf; text-decoration-color: #7fbfbf\">                    </span>           return <span style=\"color: #800080; text-decoration-color: #800080; font-weight: bold\">fit_method</span><span style=\"font-weight: bold\">(</span>estimator, *args, **kwargs<span style=\"font-weight: bold\">)</span>                        <span style=\"color: #7f7f7f; text-decoration-color: #7f7f7f\">               </span>\n",
       "<span style=\"color: #7fbfbf; text-decoration-color: #7fbfbf\">                    </span>                                                                                <span style=\"color: #7f7f7f; text-decoration-color: #7f7f7f\">               </span>\n",
       "</pre>\n"
      ],
      "text/plain": [
       "\u001b[2;36m[06/22/24 16:18:14]\u001b[0m\u001b[2;36m \u001b[0m\u001b[31mWARNING \u001b[0m C:\\Users\\dggua\\anaconda3\\envs\\test_env\\lib\\site-packages\\sklearn\\base. \u001b]8;id=212871;file://C:\\Users\\dggua\\anaconda3\\envs\\test_env\\lib\\warnings.py\u001b\\\u001b[2mwarnings.py\u001b[0m\u001b]8;;\u001b\\\u001b[2m:\u001b[0m\u001b]8;id=229138;file://C:\\Users\\dggua\\anaconda3\\envs\\test_env\\lib\\warnings.py#109\u001b\\\u001b[2m109\u001b[0m\u001b]8;;\u001b\\\n",
       "\u001b[2;36m                    \u001b[0m         py:\u001b[1;36m1351\u001b[0m: DataConversionWarning: A column-vector y was passed when a 1d \u001b[2m               \u001b[0m\n",
       "\u001b[2;36m                    \u001b[0m         array was expected. Please change the shape of y to \u001b[1m(\u001b[0mn_samples,\u001b[1m)\u001b[0m, for  \u001b[2m               \u001b[0m\n",
       "\u001b[2;36m                    \u001b[0m         example using \u001b[1;35mravel\u001b[0m\u001b[1m(\u001b[0m\u001b[1m)\u001b[0m.                                                 \u001b[2m               \u001b[0m\n",
       "\u001b[2;36m                    \u001b[0m           return \u001b[1;35mfit_method\u001b[0m\u001b[1m(\u001b[0mestimator, *args, **kwargs\u001b[1m)\u001b[0m                        \u001b[2m               \u001b[0m\n",
       "\u001b[2;36m                    \u001b[0m                                                                                \u001b[2m               \u001b[0m\n"
      ]
     },
     "metadata": {},
     "output_type": "display_data"
    },
    {
     "data": {
      "text/html": [
       "<pre style=\"white-space:pre;overflow-x:auto;line-height:normal;font-family:Menlo,'DejaVu Sans Mono',consolas,'Courier New',monospace\"><span style=\"color: #7fbfbf; text-decoration-color: #7fbfbf\">                    </span><span style=\"color: #800000; text-decoration-color: #800000\">WARNING </span> C:\\Users\\dggua\\anaconda3\\envs\\test_env\\lib\\site-packages\\sklearn\\base. <a href=\"file://C:\\Users\\dggua\\anaconda3\\envs\\test_env\\lib\\warnings.py\" target=\"_blank\"><span style=\"color: #7f7f7f; text-decoration-color: #7f7f7f\">warnings.py</span></a><span style=\"color: #7f7f7f; text-decoration-color: #7f7f7f\">:</span><a href=\"file://C:\\Users\\dggua\\anaconda3\\envs\\test_env\\lib\\warnings.py#109\" target=\"_blank\"><span style=\"color: #7f7f7f; text-decoration-color: #7f7f7f\">109</span></a>\n",
       "<span style=\"color: #7fbfbf; text-decoration-color: #7fbfbf\">                    </span>         py:<span style=\"color: #008080; text-decoration-color: #008080; font-weight: bold\">1351</span>: DataConversionWarning: A column-vector y was passed when a 1d <span style=\"color: #7f7f7f; text-decoration-color: #7f7f7f\">               </span>\n",
       "<span style=\"color: #7fbfbf; text-decoration-color: #7fbfbf\">                    </span>         array was expected. Please change the shape of y to <span style=\"font-weight: bold\">(</span>n_samples,<span style=\"font-weight: bold\">)</span>, for  <span style=\"color: #7f7f7f; text-decoration-color: #7f7f7f\">               </span>\n",
       "<span style=\"color: #7fbfbf; text-decoration-color: #7fbfbf\">                    </span>         example using <span style=\"color: #800080; text-decoration-color: #800080; font-weight: bold\">ravel</span><span style=\"font-weight: bold\">()</span>.                                                 <span style=\"color: #7f7f7f; text-decoration-color: #7f7f7f\">               </span>\n",
       "<span style=\"color: #7fbfbf; text-decoration-color: #7fbfbf\">                    </span>           return <span style=\"color: #800080; text-decoration-color: #800080; font-weight: bold\">fit_method</span><span style=\"font-weight: bold\">(</span>estimator, *args, **kwargs<span style=\"font-weight: bold\">)</span>                        <span style=\"color: #7f7f7f; text-decoration-color: #7f7f7f\">               </span>\n",
       "<span style=\"color: #7fbfbf; text-decoration-color: #7fbfbf\">                    </span>                                                                                <span style=\"color: #7f7f7f; text-decoration-color: #7f7f7f\">               </span>\n",
       "</pre>\n"
      ],
      "text/plain": [
       "\u001b[2;36m                   \u001b[0m\u001b[2;36m \u001b[0m\u001b[31mWARNING \u001b[0m C:\\Users\\dggua\\anaconda3\\envs\\test_env\\lib\\site-packages\\sklearn\\base. \u001b]8;id=981042;file://C:\\Users\\dggua\\anaconda3\\envs\\test_env\\lib\\warnings.py\u001b\\\u001b[2mwarnings.py\u001b[0m\u001b]8;;\u001b\\\u001b[2m:\u001b[0m\u001b]8;id=806142;file://C:\\Users\\dggua\\anaconda3\\envs\\test_env\\lib\\warnings.py#109\u001b\\\u001b[2m109\u001b[0m\u001b]8;;\u001b\\\n",
       "\u001b[2;36m                    \u001b[0m         py:\u001b[1;36m1351\u001b[0m: DataConversionWarning: A column-vector y was passed when a 1d \u001b[2m               \u001b[0m\n",
       "\u001b[2;36m                    \u001b[0m         array was expected. Please change the shape of y to \u001b[1m(\u001b[0mn_samples,\u001b[1m)\u001b[0m, for  \u001b[2m               \u001b[0m\n",
       "\u001b[2;36m                    \u001b[0m         example using \u001b[1;35mravel\u001b[0m\u001b[1m(\u001b[0m\u001b[1m)\u001b[0m.                                                 \u001b[2m               \u001b[0m\n",
       "\u001b[2;36m                    \u001b[0m           return \u001b[1;35mfit_method\u001b[0m\u001b[1m(\u001b[0mestimator, *args, **kwargs\u001b[1m)\u001b[0m                        \u001b[2m               \u001b[0m\n",
       "\u001b[2;36m                    \u001b[0m                                                                                \u001b[2m               \u001b[0m\n"
      ]
     },
     "metadata": {},
     "output_type": "display_data"
    },
    {
     "data": {
      "text/html": [
       "<pre style=\"white-space:pre;overflow-x:auto;line-height:normal;font-family:Menlo,'DejaVu Sans Mono',consolas,'Courier New',monospace\"><span style=\"color: #7fbfbf; text-decoration-color: #7fbfbf\">                    </span><span style=\"color: #800000; text-decoration-color: #800000\">WARNING </span> C:\\Users\\dggua\\anaconda3\\envs\\test_env\\lib\\site-packages\\sklearn\\base. <a href=\"file://C:\\Users\\dggua\\anaconda3\\envs\\test_env\\lib\\warnings.py\" target=\"_blank\"><span style=\"color: #7f7f7f; text-decoration-color: #7f7f7f\">warnings.py</span></a><span style=\"color: #7f7f7f; text-decoration-color: #7f7f7f\">:</span><a href=\"file://C:\\Users\\dggua\\anaconda3\\envs\\test_env\\lib\\warnings.py#109\" target=\"_blank\"><span style=\"color: #7f7f7f; text-decoration-color: #7f7f7f\">109</span></a>\n",
       "<span style=\"color: #7fbfbf; text-decoration-color: #7fbfbf\">                    </span>         py:<span style=\"color: #008080; text-decoration-color: #008080; font-weight: bold\">1351</span>: DataConversionWarning: A column-vector y was passed when a 1d <span style=\"color: #7f7f7f; text-decoration-color: #7f7f7f\">               </span>\n",
       "<span style=\"color: #7fbfbf; text-decoration-color: #7fbfbf\">                    </span>         array was expected. Please change the shape of y to <span style=\"font-weight: bold\">(</span>n_samples,<span style=\"font-weight: bold\">)</span>, for  <span style=\"color: #7f7f7f; text-decoration-color: #7f7f7f\">               </span>\n",
       "<span style=\"color: #7fbfbf; text-decoration-color: #7fbfbf\">                    </span>         example using <span style=\"color: #800080; text-decoration-color: #800080; font-weight: bold\">ravel</span><span style=\"font-weight: bold\">()</span>.                                                 <span style=\"color: #7f7f7f; text-decoration-color: #7f7f7f\">               </span>\n",
       "<span style=\"color: #7fbfbf; text-decoration-color: #7fbfbf\">                    </span>           return <span style=\"color: #800080; text-decoration-color: #800080; font-weight: bold\">fit_method</span><span style=\"font-weight: bold\">(</span>estimator, *args, **kwargs<span style=\"font-weight: bold\">)</span>                        <span style=\"color: #7f7f7f; text-decoration-color: #7f7f7f\">               </span>\n",
       "<span style=\"color: #7fbfbf; text-decoration-color: #7fbfbf\">                    </span>                                                                                <span style=\"color: #7f7f7f; text-decoration-color: #7f7f7f\">               </span>\n",
       "</pre>\n"
      ],
      "text/plain": [
       "\u001b[2;36m                   \u001b[0m\u001b[2;36m \u001b[0m\u001b[31mWARNING \u001b[0m C:\\Users\\dggua\\anaconda3\\envs\\test_env\\lib\\site-packages\\sklearn\\base. \u001b]8;id=78502;file://C:\\Users\\dggua\\anaconda3\\envs\\test_env\\lib\\warnings.py\u001b\\\u001b[2mwarnings.py\u001b[0m\u001b]8;;\u001b\\\u001b[2m:\u001b[0m\u001b]8;id=487957;file://C:\\Users\\dggua\\anaconda3\\envs\\test_env\\lib\\warnings.py#109\u001b\\\u001b[2m109\u001b[0m\u001b]8;;\u001b\\\n",
       "\u001b[2;36m                    \u001b[0m         py:\u001b[1;36m1351\u001b[0m: DataConversionWarning: A column-vector y was passed when a 1d \u001b[2m               \u001b[0m\n",
       "\u001b[2;36m                    \u001b[0m         array was expected. Please change the shape of y to \u001b[1m(\u001b[0mn_samples,\u001b[1m)\u001b[0m, for  \u001b[2m               \u001b[0m\n",
       "\u001b[2;36m                    \u001b[0m         example using \u001b[1;35mravel\u001b[0m\u001b[1m(\u001b[0m\u001b[1m)\u001b[0m.                                                 \u001b[2m               \u001b[0m\n",
       "\u001b[2;36m                    \u001b[0m           return \u001b[1;35mfit_method\u001b[0m\u001b[1m(\u001b[0mestimator, *args, **kwargs\u001b[1m)\u001b[0m                        \u001b[2m               \u001b[0m\n",
       "\u001b[2;36m                    \u001b[0m                                                                                \u001b[2m               \u001b[0m\n"
      ]
     },
     "metadata": {},
     "output_type": "display_data"
    },
    {
     "data": {
      "text/html": [
       "<pre style=\"white-space:pre;overflow-x:auto;line-height:normal;font-family:Menlo,'DejaVu Sans Mono',consolas,'Courier New',monospace\"><span style=\"color: #7fbfbf; text-decoration-color: #7fbfbf\">                    </span><span style=\"color: #800000; text-decoration-color: #800000\">WARNING </span> C:\\Users\\dggua\\anaconda3\\envs\\test_env\\lib\\site-packages\\sklearn\\base. <a href=\"file://C:\\Users\\dggua\\anaconda3\\envs\\test_env\\lib\\warnings.py\" target=\"_blank\"><span style=\"color: #7f7f7f; text-decoration-color: #7f7f7f\">warnings.py</span></a><span style=\"color: #7f7f7f; text-decoration-color: #7f7f7f\">:</span><a href=\"file://C:\\Users\\dggua\\anaconda3\\envs\\test_env\\lib\\warnings.py#109\" target=\"_blank\"><span style=\"color: #7f7f7f; text-decoration-color: #7f7f7f\">109</span></a>\n",
       "<span style=\"color: #7fbfbf; text-decoration-color: #7fbfbf\">                    </span>         py:<span style=\"color: #008080; text-decoration-color: #008080; font-weight: bold\">1351</span>: DataConversionWarning: A column-vector y was passed when a 1d <span style=\"color: #7f7f7f; text-decoration-color: #7f7f7f\">               </span>\n",
       "<span style=\"color: #7fbfbf; text-decoration-color: #7fbfbf\">                    </span>         array was expected. Please change the shape of y to <span style=\"font-weight: bold\">(</span>n_samples,<span style=\"font-weight: bold\">)</span>, for  <span style=\"color: #7f7f7f; text-decoration-color: #7f7f7f\">               </span>\n",
       "<span style=\"color: #7fbfbf; text-decoration-color: #7fbfbf\">                    </span>         example using <span style=\"color: #800080; text-decoration-color: #800080; font-weight: bold\">ravel</span><span style=\"font-weight: bold\">()</span>.                                                 <span style=\"color: #7f7f7f; text-decoration-color: #7f7f7f\">               </span>\n",
       "<span style=\"color: #7fbfbf; text-decoration-color: #7fbfbf\">                    </span>           return <span style=\"color: #800080; text-decoration-color: #800080; font-weight: bold\">fit_method</span><span style=\"font-weight: bold\">(</span>estimator, *args, **kwargs<span style=\"font-weight: bold\">)</span>                        <span style=\"color: #7f7f7f; text-decoration-color: #7f7f7f\">               </span>\n",
       "<span style=\"color: #7fbfbf; text-decoration-color: #7fbfbf\">                    </span>                                                                                <span style=\"color: #7f7f7f; text-decoration-color: #7f7f7f\">               </span>\n",
       "</pre>\n"
      ],
      "text/plain": [
       "\u001b[2;36m                   \u001b[0m\u001b[2;36m \u001b[0m\u001b[31mWARNING \u001b[0m C:\\Users\\dggua\\anaconda3\\envs\\test_env\\lib\\site-packages\\sklearn\\base. \u001b]8;id=551779;file://C:\\Users\\dggua\\anaconda3\\envs\\test_env\\lib\\warnings.py\u001b\\\u001b[2mwarnings.py\u001b[0m\u001b]8;;\u001b\\\u001b[2m:\u001b[0m\u001b]8;id=152177;file://C:\\Users\\dggua\\anaconda3\\envs\\test_env\\lib\\warnings.py#109\u001b\\\u001b[2m109\u001b[0m\u001b]8;;\u001b\\\n",
       "\u001b[2;36m                    \u001b[0m         py:\u001b[1;36m1351\u001b[0m: DataConversionWarning: A column-vector y was passed when a 1d \u001b[2m               \u001b[0m\n",
       "\u001b[2;36m                    \u001b[0m         array was expected. Please change the shape of y to \u001b[1m(\u001b[0mn_samples,\u001b[1m)\u001b[0m, for  \u001b[2m               \u001b[0m\n",
       "\u001b[2;36m                    \u001b[0m         example using \u001b[1;35mravel\u001b[0m\u001b[1m(\u001b[0m\u001b[1m)\u001b[0m.                                                 \u001b[2m               \u001b[0m\n",
       "\u001b[2;36m                    \u001b[0m           return \u001b[1;35mfit_method\u001b[0m\u001b[1m(\u001b[0mestimator, *args, **kwargs\u001b[1m)\u001b[0m                        \u001b[2m               \u001b[0m\n",
       "\u001b[2;36m                    \u001b[0m                                                                                \u001b[2m               \u001b[0m\n"
      ]
     },
     "metadata": {},
     "output_type": "display_data"
    },
    {
     "data": {
      "text/html": [
       "<pre style=\"white-space:pre;overflow-x:auto;line-height:normal;font-family:Menlo,'DejaVu Sans Mono',consolas,'Courier New',monospace\"><span style=\"color: #7fbfbf; text-decoration-color: #7fbfbf\">[06/22/24 16:18:15] </span><span style=\"color: #800000; text-decoration-color: #800000\">WARNING </span> C:\\Users\\dggua\\anaconda3\\envs\\test_env\\lib\\site-packages\\sklearn\\base. <a href=\"file://C:\\Users\\dggua\\anaconda3\\envs\\test_env\\lib\\warnings.py\" target=\"_blank\"><span style=\"color: #7f7f7f; text-decoration-color: #7f7f7f\">warnings.py</span></a><span style=\"color: #7f7f7f; text-decoration-color: #7f7f7f\">:</span><a href=\"file://C:\\Users\\dggua\\anaconda3\\envs\\test_env\\lib\\warnings.py#109\" target=\"_blank\"><span style=\"color: #7f7f7f; text-decoration-color: #7f7f7f\">109</span></a>\n",
       "<span style=\"color: #7fbfbf; text-decoration-color: #7fbfbf\">                    </span>         py:<span style=\"color: #008080; text-decoration-color: #008080; font-weight: bold\">1351</span>: DataConversionWarning: A column-vector y was passed when a 1d <span style=\"color: #7f7f7f; text-decoration-color: #7f7f7f\">               </span>\n",
       "<span style=\"color: #7fbfbf; text-decoration-color: #7fbfbf\">                    </span>         array was expected. Please change the shape of y to <span style=\"font-weight: bold\">(</span>n_samples,<span style=\"font-weight: bold\">)</span>, for  <span style=\"color: #7f7f7f; text-decoration-color: #7f7f7f\">               </span>\n",
       "<span style=\"color: #7fbfbf; text-decoration-color: #7fbfbf\">                    </span>         example using <span style=\"color: #800080; text-decoration-color: #800080; font-weight: bold\">ravel</span><span style=\"font-weight: bold\">()</span>.                                                 <span style=\"color: #7f7f7f; text-decoration-color: #7f7f7f\">               </span>\n",
       "<span style=\"color: #7fbfbf; text-decoration-color: #7fbfbf\">                    </span>           return <span style=\"color: #800080; text-decoration-color: #800080; font-weight: bold\">fit_method</span><span style=\"font-weight: bold\">(</span>estimator, *args, **kwargs<span style=\"font-weight: bold\">)</span>                        <span style=\"color: #7f7f7f; text-decoration-color: #7f7f7f\">               </span>\n",
       "<span style=\"color: #7fbfbf; text-decoration-color: #7fbfbf\">                    </span>                                                                                <span style=\"color: #7f7f7f; text-decoration-color: #7f7f7f\">               </span>\n",
       "</pre>\n"
      ],
      "text/plain": [
       "\u001b[2;36m[06/22/24 16:18:15]\u001b[0m\u001b[2;36m \u001b[0m\u001b[31mWARNING \u001b[0m C:\\Users\\dggua\\anaconda3\\envs\\test_env\\lib\\site-packages\\sklearn\\base. \u001b]8;id=962933;file://C:\\Users\\dggua\\anaconda3\\envs\\test_env\\lib\\warnings.py\u001b\\\u001b[2mwarnings.py\u001b[0m\u001b]8;;\u001b\\\u001b[2m:\u001b[0m\u001b]8;id=361035;file://C:\\Users\\dggua\\anaconda3\\envs\\test_env\\lib\\warnings.py#109\u001b\\\u001b[2m109\u001b[0m\u001b]8;;\u001b\\\n",
       "\u001b[2;36m                    \u001b[0m         py:\u001b[1;36m1351\u001b[0m: DataConversionWarning: A column-vector y was passed when a 1d \u001b[2m               \u001b[0m\n",
       "\u001b[2;36m                    \u001b[0m         array was expected. Please change the shape of y to \u001b[1m(\u001b[0mn_samples,\u001b[1m)\u001b[0m, for  \u001b[2m               \u001b[0m\n",
       "\u001b[2;36m                    \u001b[0m         example using \u001b[1;35mravel\u001b[0m\u001b[1m(\u001b[0m\u001b[1m)\u001b[0m.                                                 \u001b[2m               \u001b[0m\n",
       "\u001b[2;36m                    \u001b[0m           return \u001b[1;35mfit_method\u001b[0m\u001b[1m(\u001b[0mestimator, *args, **kwargs\u001b[1m)\u001b[0m                        \u001b[2m               \u001b[0m\n",
       "\u001b[2;36m                    \u001b[0m                                                                                \u001b[2m               \u001b[0m\n"
      ]
     },
     "metadata": {},
     "output_type": "display_data"
    },
    {
     "data": {
      "text/html": [
       "<pre style=\"white-space:pre;overflow-x:auto;line-height:normal;font-family:Menlo,'DejaVu Sans Mono',consolas,'Courier New',monospace\"><span style=\"color: #7fbfbf; text-decoration-color: #7fbfbf\">                    </span><span style=\"color: #800000; text-decoration-color: #800000\">WARNING </span> C:\\Users\\dggua\\anaconda3\\envs\\test_env\\lib\\site-packages\\sklearn\\base. <a href=\"file://C:\\Users\\dggua\\anaconda3\\envs\\test_env\\lib\\warnings.py\" target=\"_blank\"><span style=\"color: #7f7f7f; text-decoration-color: #7f7f7f\">warnings.py</span></a><span style=\"color: #7f7f7f; text-decoration-color: #7f7f7f\">:</span><a href=\"file://C:\\Users\\dggua\\anaconda3\\envs\\test_env\\lib\\warnings.py#109\" target=\"_blank\"><span style=\"color: #7f7f7f; text-decoration-color: #7f7f7f\">109</span></a>\n",
       "<span style=\"color: #7fbfbf; text-decoration-color: #7fbfbf\">                    </span>         py:<span style=\"color: #008080; text-decoration-color: #008080; font-weight: bold\">1351</span>: DataConversionWarning: A column-vector y was passed when a 1d <span style=\"color: #7f7f7f; text-decoration-color: #7f7f7f\">               </span>\n",
       "<span style=\"color: #7fbfbf; text-decoration-color: #7fbfbf\">                    </span>         array was expected. Please change the shape of y to <span style=\"font-weight: bold\">(</span>n_samples,<span style=\"font-weight: bold\">)</span>, for  <span style=\"color: #7f7f7f; text-decoration-color: #7f7f7f\">               </span>\n",
       "<span style=\"color: #7fbfbf; text-decoration-color: #7fbfbf\">                    </span>         example using <span style=\"color: #800080; text-decoration-color: #800080; font-weight: bold\">ravel</span><span style=\"font-weight: bold\">()</span>.                                                 <span style=\"color: #7f7f7f; text-decoration-color: #7f7f7f\">               </span>\n",
       "<span style=\"color: #7fbfbf; text-decoration-color: #7fbfbf\">                    </span>           return <span style=\"color: #800080; text-decoration-color: #800080; font-weight: bold\">fit_method</span><span style=\"font-weight: bold\">(</span>estimator, *args, **kwargs<span style=\"font-weight: bold\">)</span>                        <span style=\"color: #7f7f7f; text-decoration-color: #7f7f7f\">               </span>\n",
       "<span style=\"color: #7fbfbf; text-decoration-color: #7fbfbf\">                    </span>                                                                                <span style=\"color: #7f7f7f; text-decoration-color: #7f7f7f\">               </span>\n",
       "</pre>\n"
      ],
      "text/plain": [
       "\u001b[2;36m                   \u001b[0m\u001b[2;36m \u001b[0m\u001b[31mWARNING \u001b[0m C:\\Users\\dggua\\anaconda3\\envs\\test_env\\lib\\site-packages\\sklearn\\base. \u001b]8;id=444656;file://C:\\Users\\dggua\\anaconda3\\envs\\test_env\\lib\\warnings.py\u001b\\\u001b[2mwarnings.py\u001b[0m\u001b]8;;\u001b\\\u001b[2m:\u001b[0m\u001b]8;id=714594;file://C:\\Users\\dggua\\anaconda3\\envs\\test_env\\lib\\warnings.py#109\u001b\\\u001b[2m109\u001b[0m\u001b]8;;\u001b\\\n",
       "\u001b[2;36m                    \u001b[0m         py:\u001b[1;36m1351\u001b[0m: DataConversionWarning: A column-vector y was passed when a 1d \u001b[2m               \u001b[0m\n",
       "\u001b[2;36m                    \u001b[0m         array was expected. Please change the shape of y to \u001b[1m(\u001b[0mn_samples,\u001b[1m)\u001b[0m, for  \u001b[2m               \u001b[0m\n",
       "\u001b[2;36m                    \u001b[0m         example using \u001b[1;35mravel\u001b[0m\u001b[1m(\u001b[0m\u001b[1m)\u001b[0m.                                                 \u001b[2m               \u001b[0m\n",
       "\u001b[2;36m                    \u001b[0m           return \u001b[1;35mfit_method\u001b[0m\u001b[1m(\u001b[0mestimator, *args, **kwargs\u001b[1m)\u001b[0m                        \u001b[2m               \u001b[0m\n",
       "\u001b[2;36m                    \u001b[0m                                                                                \u001b[2m               \u001b[0m\n"
      ]
     },
     "metadata": {},
     "output_type": "display_data"
    },
    {
     "data": {
      "text/html": [
       "<pre style=\"white-space:pre;overflow-x:auto;line-height:normal;font-family:Menlo,'DejaVu Sans Mono',consolas,'Courier New',monospace\"><span style=\"color: #7fbfbf; text-decoration-color: #7fbfbf\">                    </span><span style=\"color: #800000; text-decoration-color: #800000\">WARNING </span> C:\\Users\\dggua\\anaconda3\\envs\\test_env\\lib\\site-packages\\sklearn\\base. <a href=\"file://C:\\Users\\dggua\\anaconda3\\envs\\test_env\\lib\\warnings.py\" target=\"_blank\"><span style=\"color: #7f7f7f; text-decoration-color: #7f7f7f\">warnings.py</span></a><span style=\"color: #7f7f7f; text-decoration-color: #7f7f7f\">:</span><a href=\"file://C:\\Users\\dggua\\anaconda3\\envs\\test_env\\lib\\warnings.py#109\" target=\"_blank\"><span style=\"color: #7f7f7f; text-decoration-color: #7f7f7f\">109</span></a>\n",
       "<span style=\"color: #7fbfbf; text-decoration-color: #7fbfbf\">                    </span>         py:<span style=\"color: #008080; text-decoration-color: #008080; font-weight: bold\">1351</span>: DataConversionWarning: A column-vector y was passed when a 1d <span style=\"color: #7f7f7f; text-decoration-color: #7f7f7f\">               </span>\n",
       "<span style=\"color: #7fbfbf; text-decoration-color: #7fbfbf\">                    </span>         array was expected. Please change the shape of y to <span style=\"font-weight: bold\">(</span>n_samples,<span style=\"font-weight: bold\">)</span>, for  <span style=\"color: #7f7f7f; text-decoration-color: #7f7f7f\">               </span>\n",
       "<span style=\"color: #7fbfbf; text-decoration-color: #7fbfbf\">                    </span>         example using <span style=\"color: #800080; text-decoration-color: #800080; font-weight: bold\">ravel</span><span style=\"font-weight: bold\">()</span>.                                                 <span style=\"color: #7f7f7f; text-decoration-color: #7f7f7f\">               </span>\n",
       "<span style=\"color: #7fbfbf; text-decoration-color: #7fbfbf\">                    </span>           return <span style=\"color: #800080; text-decoration-color: #800080; font-weight: bold\">fit_method</span><span style=\"font-weight: bold\">(</span>estimator, *args, **kwargs<span style=\"font-weight: bold\">)</span>                        <span style=\"color: #7f7f7f; text-decoration-color: #7f7f7f\">               </span>\n",
       "<span style=\"color: #7fbfbf; text-decoration-color: #7fbfbf\">                    </span>                                                                                <span style=\"color: #7f7f7f; text-decoration-color: #7f7f7f\">               </span>\n",
       "</pre>\n"
      ],
      "text/plain": [
       "\u001b[2;36m                   \u001b[0m\u001b[2;36m \u001b[0m\u001b[31mWARNING \u001b[0m C:\\Users\\dggua\\anaconda3\\envs\\test_env\\lib\\site-packages\\sklearn\\base. \u001b]8;id=949692;file://C:\\Users\\dggua\\anaconda3\\envs\\test_env\\lib\\warnings.py\u001b\\\u001b[2mwarnings.py\u001b[0m\u001b]8;;\u001b\\\u001b[2m:\u001b[0m\u001b]8;id=776936;file://C:\\Users\\dggua\\anaconda3\\envs\\test_env\\lib\\warnings.py#109\u001b\\\u001b[2m109\u001b[0m\u001b]8;;\u001b\\\n",
       "\u001b[2;36m                    \u001b[0m         py:\u001b[1;36m1351\u001b[0m: DataConversionWarning: A column-vector y was passed when a 1d \u001b[2m               \u001b[0m\n",
       "\u001b[2;36m                    \u001b[0m         array was expected. Please change the shape of y to \u001b[1m(\u001b[0mn_samples,\u001b[1m)\u001b[0m, for  \u001b[2m               \u001b[0m\n",
       "\u001b[2;36m                    \u001b[0m         example using \u001b[1;35mravel\u001b[0m\u001b[1m(\u001b[0m\u001b[1m)\u001b[0m.                                                 \u001b[2m               \u001b[0m\n",
       "\u001b[2;36m                    \u001b[0m           return \u001b[1;35mfit_method\u001b[0m\u001b[1m(\u001b[0mestimator, *args, **kwargs\u001b[1m)\u001b[0m                        \u001b[2m               \u001b[0m\n",
       "\u001b[2;36m                    \u001b[0m                                                                                \u001b[2m               \u001b[0m\n"
      ]
     },
     "metadata": {},
     "output_type": "display_data"
    },
    {
     "data": {
      "text/html": [
       "<pre style=\"white-space:pre;overflow-x:auto;line-height:normal;font-family:Menlo,'DejaVu Sans Mono',consolas,'Courier New',monospace\"><span style=\"color: #7fbfbf; text-decoration-color: #7fbfbf\">                    </span><span style=\"color: #800000; text-decoration-color: #800000\">WARNING </span> C:\\Users\\dggua\\anaconda3\\envs\\test_env\\lib\\site-packages\\sklearn\\base. <a href=\"file://C:\\Users\\dggua\\anaconda3\\envs\\test_env\\lib\\warnings.py\" target=\"_blank\"><span style=\"color: #7f7f7f; text-decoration-color: #7f7f7f\">warnings.py</span></a><span style=\"color: #7f7f7f; text-decoration-color: #7f7f7f\">:</span><a href=\"file://C:\\Users\\dggua\\anaconda3\\envs\\test_env\\lib\\warnings.py#109\" target=\"_blank\"><span style=\"color: #7f7f7f; text-decoration-color: #7f7f7f\">109</span></a>\n",
       "<span style=\"color: #7fbfbf; text-decoration-color: #7fbfbf\">                    </span>         py:<span style=\"color: #008080; text-decoration-color: #008080; font-weight: bold\">1351</span>: DataConversionWarning: A column-vector y was passed when a 1d <span style=\"color: #7f7f7f; text-decoration-color: #7f7f7f\">               </span>\n",
       "<span style=\"color: #7fbfbf; text-decoration-color: #7fbfbf\">                    </span>         array was expected. Please change the shape of y to <span style=\"font-weight: bold\">(</span>n_samples,<span style=\"font-weight: bold\">)</span>, for  <span style=\"color: #7f7f7f; text-decoration-color: #7f7f7f\">               </span>\n",
       "<span style=\"color: #7fbfbf; text-decoration-color: #7fbfbf\">                    </span>         example using <span style=\"color: #800080; text-decoration-color: #800080; font-weight: bold\">ravel</span><span style=\"font-weight: bold\">()</span>.                                                 <span style=\"color: #7f7f7f; text-decoration-color: #7f7f7f\">               </span>\n",
       "<span style=\"color: #7fbfbf; text-decoration-color: #7fbfbf\">                    </span>           return <span style=\"color: #800080; text-decoration-color: #800080; font-weight: bold\">fit_method</span><span style=\"font-weight: bold\">(</span>estimator, *args, **kwargs<span style=\"font-weight: bold\">)</span>                        <span style=\"color: #7f7f7f; text-decoration-color: #7f7f7f\">               </span>\n",
       "<span style=\"color: #7fbfbf; text-decoration-color: #7fbfbf\">                    </span>                                                                                <span style=\"color: #7f7f7f; text-decoration-color: #7f7f7f\">               </span>\n",
       "</pre>\n"
      ],
      "text/plain": [
       "\u001b[2;36m                   \u001b[0m\u001b[2;36m \u001b[0m\u001b[31mWARNING \u001b[0m C:\\Users\\dggua\\anaconda3\\envs\\test_env\\lib\\site-packages\\sklearn\\base. \u001b]8;id=230392;file://C:\\Users\\dggua\\anaconda3\\envs\\test_env\\lib\\warnings.py\u001b\\\u001b[2mwarnings.py\u001b[0m\u001b]8;;\u001b\\\u001b[2m:\u001b[0m\u001b]8;id=98756;file://C:\\Users\\dggua\\anaconda3\\envs\\test_env\\lib\\warnings.py#109\u001b\\\u001b[2m109\u001b[0m\u001b]8;;\u001b\\\n",
       "\u001b[2;36m                    \u001b[0m         py:\u001b[1;36m1351\u001b[0m: DataConversionWarning: A column-vector y was passed when a 1d \u001b[2m               \u001b[0m\n",
       "\u001b[2;36m                    \u001b[0m         array was expected. Please change the shape of y to \u001b[1m(\u001b[0mn_samples,\u001b[1m)\u001b[0m, for  \u001b[2m               \u001b[0m\n",
       "\u001b[2;36m                    \u001b[0m         example using \u001b[1;35mravel\u001b[0m\u001b[1m(\u001b[0m\u001b[1m)\u001b[0m.                                                 \u001b[2m               \u001b[0m\n",
       "\u001b[2;36m                    \u001b[0m           return \u001b[1;35mfit_method\u001b[0m\u001b[1m(\u001b[0mestimator, *args, **kwargs\u001b[1m)\u001b[0m                        \u001b[2m               \u001b[0m\n",
       "\u001b[2;36m                    \u001b[0m                                                                                \u001b[2m               \u001b[0m\n"
      ]
     },
     "metadata": {},
     "output_type": "display_data"
    },
    {
     "data": {
      "text/html": [
       "<pre style=\"white-space:pre;overflow-x:auto;line-height:normal;font-family:Menlo,'DejaVu Sans Mono',consolas,'Courier New',monospace\"><span style=\"color: #7fbfbf; text-decoration-color: #7fbfbf\">                    </span><span style=\"color: #800000; text-decoration-color: #800000\">WARNING </span> C:\\Users\\dggua\\anaconda3\\envs\\test_env\\lib\\site-packages\\sklearn\\base. <a href=\"file://C:\\Users\\dggua\\anaconda3\\envs\\test_env\\lib\\warnings.py\" target=\"_blank\"><span style=\"color: #7f7f7f; text-decoration-color: #7f7f7f\">warnings.py</span></a><span style=\"color: #7f7f7f; text-decoration-color: #7f7f7f\">:</span><a href=\"file://C:\\Users\\dggua\\anaconda3\\envs\\test_env\\lib\\warnings.py#109\" target=\"_blank\"><span style=\"color: #7f7f7f; text-decoration-color: #7f7f7f\">109</span></a>\n",
       "<span style=\"color: #7fbfbf; text-decoration-color: #7fbfbf\">                    </span>         py:<span style=\"color: #008080; text-decoration-color: #008080; font-weight: bold\">1351</span>: DataConversionWarning: A column-vector y was passed when a 1d <span style=\"color: #7f7f7f; text-decoration-color: #7f7f7f\">               </span>\n",
       "<span style=\"color: #7fbfbf; text-decoration-color: #7fbfbf\">                    </span>         array was expected. Please change the shape of y to <span style=\"font-weight: bold\">(</span>n_samples,<span style=\"font-weight: bold\">)</span>, for  <span style=\"color: #7f7f7f; text-decoration-color: #7f7f7f\">               </span>\n",
       "<span style=\"color: #7fbfbf; text-decoration-color: #7fbfbf\">                    </span>         example using <span style=\"color: #800080; text-decoration-color: #800080; font-weight: bold\">ravel</span><span style=\"font-weight: bold\">()</span>.                                                 <span style=\"color: #7f7f7f; text-decoration-color: #7f7f7f\">               </span>\n",
       "<span style=\"color: #7fbfbf; text-decoration-color: #7fbfbf\">                    </span>           return <span style=\"color: #800080; text-decoration-color: #800080; font-weight: bold\">fit_method</span><span style=\"font-weight: bold\">(</span>estimator, *args, **kwargs<span style=\"font-weight: bold\">)</span>                        <span style=\"color: #7f7f7f; text-decoration-color: #7f7f7f\">               </span>\n",
       "<span style=\"color: #7fbfbf; text-decoration-color: #7fbfbf\">                    </span>                                                                                <span style=\"color: #7f7f7f; text-decoration-color: #7f7f7f\">               </span>\n",
       "</pre>\n"
      ],
      "text/plain": [
       "\u001b[2;36m                   \u001b[0m\u001b[2;36m \u001b[0m\u001b[31mWARNING \u001b[0m C:\\Users\\dggua\\anaconda3\\envs\\test_env\\lib\\site-packages\\sklearn\\base. \u001b]8;id=965333;file://C:\\Users\\dggua\\anaconda3\\envs\\test_env\\lib\\warnings.py\u001b\\\u001b[2mwarnings.py\u001b[0m\u001b]8;;\u001b\\\u001b[2m:\u001b[0m\u001b]8;id=235696;file://C:\\Users\\dggua\\anaconda3\\envs\\test_env\\lib\\warnings.py#109\u001b\\\u001b[2m109\u001b[0m\u001b]8;;\u001b\\\n",
       "\u001b[2;36m                    \u001b[0m         py:\u001b[1;36m1351\u001b[0m: DataConversionWarning: A column-vector y was passed when a 1d \u001b[2m               \u001b[0m\n",
       "\u001b[2;36m                    \u001b[0m         array was expected. Please change the shape of y to \u001b[1m(\u001b[0mn_samples,\u001b[1m)\u001b[0m, for  \u001b[2m               \u001b[0m\n",
       "\u001b[2;36m                    \u001b[0m         example using \u001b[1;35mravel\u001b[0m\u001b[1m(\u001b[0m\u001b[1m)\u001b[0m.                                                 \u001b[2m               \u001b[0m\n",
       "\u001b[2;36m                    \u001b[0m           return \u001b[1;35mfit_method\u001b[0m\u001b[1m(\u001b[0mestimator, *args, **kwargs\u001b[1m)\u001b[0m                        \u001b[2m               \u001b[0m\n",
       "\u001b[2;36m                    \u001b[0m                                                                                \u001b[2m               \u001b[0m\n"
      ]
     },
     "metadata": {},
     "output_type": "display_data"
    },
    {
     "data": {
      "text/html": [
       "<pre style=\"white-space:pre;overflow-x:auto;line-height:normal;font-family:Menlo,'DejaVu Sans Mono',consolas,'Courier New',monospace\"><span style=\"color: #7fbfbf; text-decoration-color: #7fbfbf\">                    </span><span style=\"color: #800000; text-decoration-color: #800000\">WARNING </span> C:\\Users\\dggua\\anaconda3\\envs\\test_env\\lib\\site-packages\\sklearn\\base. <a href=\"file://C:\\Users\\dggua\\anaconda3\\envs\\test_env\\lib\\warnings.py\" target=\"_blank\"><span style=\"color: #7f7f7f; text-decoration-color: #7f7f7f\">warnings.py</span></a><span style=\"color: #7f7f7f; text-decoration-color: #7f7f7f\">:</span><a href=\"file://C:\\Users\\dggua\\anaconda3\\envs\\test_env\\lib\\warnings.py#109\" target=\"_blank\"><span style=\"color: #7f7f7f; text-decoration-color: #7f7f7f\">109</span></a>\n",
       "<span style=\"color: #7fbfbf; text-decoration-color: #7fbfbf\">                    </span>         py:<span style=\"color: #008080; text-decoration-color: #008080; font-weight: bold\">1351</span>: DataConversionWarning: A column-vector y was passed when a 1d <span style=\"color: #7f7f7f; text-decoration-color: #7f7f7f\">               </span>\n",
       "<span style=\"color: #7fbfbf; text-decoration-color: #7fbfbf\">                    </span>         array was expected. Please change the shape of y to <span style=\"font-weight: bold\">(</span>n_samples,<span style=\"font-weight: bold\">)</span>, for  <span style=\"color: #7f7f7f; text-decoration-color: #7f7f7f\">               </span>\n",
       "<span style=\"color: #7fbfbf; text-decoration-color: #7fbfbf\">                    </span>         example using <span style=\"color: #800080; text-decoration-color: #800080; font-weight: bold\">ravel</span><span style=\"font-weight: bold\">()</span>.                                                 <span style=\"color: #7f7f7f; text-decoration-color: #7f7f7f\">               </span>\n",
       "<span style=\"color: #7fbfbf; text-decoration-color: #7fbfbf\">                    </span>           return <span style=\"color: #800080; text-decoration-color: #800080; font-weight: bold\">fit_method</span><span style=\"font-weight: bold\">(</span>estimator, *args, **kwargs<span style=\"font-weight: bold\">)</span>                        <span style=\"color: #7f7f7f; text-decoration-color: #7f7f7f\">               </span>\n",
       "<span style=\"color: #7fbfbf; text-decoration-color: #7fbfbf\">                    </span>                                                                                <span style=\"color: #7f7f7f; text-decoration-color: #7f7f7f\">               </span>\n",
       "</pre>\n"
      ],
      "text/plain": [
       "\u001b[2;36m                   \u001b[0m\u001b[2;36m \u001b[0m\u001b[31mWARNING \u001b[0m C:\\Users\\dggua\\anaconda3\\envs\\test_env\\lib\\site-packages\\sklearn\\base. \u001b]8;id=836516;file://C:\\Users\\dggua\\anaconda3\\envs\\test_env\\lib\\warnings.py\u001b\\\u001b[2mwarnings.py\u001b[0m\u001b]8;;\u001b\\\u001b[2m:\u001b[0m\u001b]8;id=539409;file://C:\\Users\\dggua\\anaconda3\\envs\\test_env\\lib\\warnings.py#109\u001b\\\u001b[2m109\u001b[0m\u001b]8;;\u001b\\\n",
       "\u001b[2;36m                    \u001b[0m         py:\u001b[1;36m1351\u001b[0m: DataConversionWarning: A column-vector y was passed when a 1d \u001b[2m               \u001b[0m\n",
       "\u001b[2;36m                    \u001b[0m         array was expected. Please change the shape of y to \u001b[1m(\u001b[0mn_samples,\u001b[1m)\u001b[0m, for  \u001b[2m               \u001b[0m\n",
       "\u001b[2;36m                    \u001b[0m         example using \u001b[1;35mravel\u001b[0m\u001b[1m(\u001b[0m\u001b[1m)\u001b[0m.                                                 \u001b[2m               \u001b[0m\n",
       "\u001b[2;36m                    \u001b[0m           return \u001b[1;35mfit_method\u001b[0m\u001b[1m(\u001b[0mestimator, *args, **kwargs\u001b[1m)\u001b[0m                        \u001b[2m               \u001b[0m\n",
       "\u001b[2;36m                    \u001b[0m                                                                                \u001b[2m               \u001b[0m\n"
      ]
     },
     "metadata": {},
     "output_type": "display_data"
    },
    {
     "data": {
      "text/html": [
       "<pre style=\"white-space:pre;overflow-x:auto;line-height:normal;font-family:Menlo,'DejaVu Sans Mono',consolas,'Courier New',monospace\"><span style=\"color: #7fbfbf; text-decoration-color: #7fbfbf\">                    </span><span style=\"color: #800000; text-decoration-color: #800000\">WARNING </span> C:\\Users\\dggua\\anaconda3\\envs\\test_env\\lib\\site-packages\\sklearn\\base. <a href=\"file://C:\\Users\\dggua\\anaconda3\\envs\\test_env\\lib\\warnings.py\" target=\"_blank\"><span style=\"color: #7f7f7f; text-decoration-color: #7f7f7f\">warnings.py</span></a><span style=\"color: #7f7f7f; text-decoration-color: #7f7f7f\">:</span><a href=\"file://C:\\Users\\dggua\\anaconda3\\envs\\test_env\\lib\\warnings.py#109\" target=\"_blank\"><span style=\"color: #7f7f7f; text-decoration-color: #7f7f7f\">109</span></a>\n",
       "<span style=\"color: #7fbfbf; text-decoration-color: #7fbfbf\">                    </span>         py:<span style=\"color: #008080; text-decoration-color: #008080; font-weight: bold\">1351</span>: DataConversionWarning: A column-vector y was passed when a 1d <span style=\"color: #7f7f7f; text-decoration-color: #7f7f7f\">               </span>\n",
       "<span style=\"color: #7fbfbf; text-decoration-color: #7fbfbf\">                    </span>         array was expected. Please change the shape of y to <span style=\"font-weight: bold\">(</span>n_samples,<span style=\"font-weight: bold\">)</span>, for  <span style=\"color: #7f7f7f; text-decoration-color: #7f7f7f\">               </span>\n",
       "<span style=\"color: #7fbfbf; text-decoration-color: #7fbfbf\">                    </span>         example using <span style=\"color: #800080; text-decoration-color: #800080; font-weight: bold\">ravel</span><span style=\"font-weight: bold\">()</span>.                                                 <span style=\"color: #7f7f7f; text-decoration-color: #7f7f7f\">               </span>\n",
       "<span style=\"color: #7fbfbf; text-decoration-color: #7fbfbf\">                    </span>           return <span style=\"color: #800080; text-decoration-color: #800080; font-weight: bold\">fit_method</span><span style=\"font-weight: bold\">(</span>estimator, *args, **kwargs<span style=\"font-weight: bold\">)</span>                        <span style=\"color: #7f7f7f; text-decoration-color: #7f7f7f\">               </span>\n",
       "<span style=\"color: #7fbfbf; text-decoration-color: #7fbfbf\">                    </span>                                                                                <span style=\"color: #7f7f7f; text-decoration-color: #7f7f7f\">               </span>\n",
       "</pre>\n"
      ],
      "text/plain": [
       "\u001b[2;36m                   \u001b[0m\u001b[2;36m \u001b[0m\u001b[31mWARNING \u001b[0m C:\\Users\\dggua\\anaconda3\\envs\\test_env\\lib\\site-packages\\sklearn\\base. \u001b]8;id=326923;file://C:\\Users\\dggua\\anaconda3\\envs\\test_env\\lib\\warnings.py\u001b\\\u001b[2mwarnings.py\u001b[0m\u001b]8;;\u001b\\\u001b[2m:\u001b[0m\u001b]8;id=41640;file://C:\\Users\\dggua\\anaconda3\\envs\\test_env\\lib\\warnings.py#109\u001b\\\u001b[2m109\u001b[0m\u001b]8;;\u001b\\\n",
       "\u001b[2;36m                    \u001b[0m         py:\u001b[1;36m1351\u001b[0m: DataConversionWarning: A column-vector y was passed when a 1d \u001b[2m               \u001b[0m\n",
       "\u001b[2;36m                    \u001b[0m         array was expected. Please change the shape of y to \u001b[1m(\u001b[0mn_samples,\u001b[1m)\u001b[0m, for  \u001b[2m               \u001b[0m\n",
       "\u001b[2;36m                    \u001b[0m         example using \u001b[1;35mravel\u001b[0m\u001b[1m(\u001b[0m\u001b[1m)\u001b[0m.                                                 \u001b[2m               \u001b[0m\n",
       "\u001b[2;36m                    \u001b[0m           return \u001b[1;35mfit_method\u001b[0m\u001b[1m(\u001b[0mestimator, *args, **kwargs\u001b[1m)\u001b[0m                        \u001b[2m               \u001b[0m\n",
       "\u001b[2;36m                    \u001b[0m                                                                                \u001b[2m               \u001b[0m\n"
      ]
     },
     "metadata": {},
     "output_type": "display_data"
    },
    {
     "data": {
      "text/html": [
       "<pre style=\"white-space:pre;overflow-x:auto;line-height:normal;font-family:Menlo,'DejaVu Sans Mono',consolas,'Courier New',monospace\"><span style=\"color: #7fbfbf; text-decoration-color: #7fbfbf\">                    </span><span style=\"color: #800000; text-decoration-color: #800000\">WARNING </span> C:\\Users\\dggua\\anaconda3\\envs\\test_env\\lib\\site-packages\\sklearn\\base. <a href=\"file://C:\\Users\\dggua\\anaconda3\\envs\\test_env\\lib\\warnings.py\" target=\"_blank\"><span style=\"color: #7f7f7f; text-decoration-color: #7f7f7f\">warnings.py</span></a><span style=\"color: #7f7f7f; text-decoration-color: #7f7f7f\">:</span><a href=\"file://C:\\Users\\dggua\\anaconda3\\envs\\test_env\\lib\\warnings.py#109\" target=\"_blank\"><span style=\"color: #7f7f7f; text-decoration-color: #7f7f7f\">109</span></a>\n",
       "<span style=\"color: #7fbfbf; text-decoration-color: #7fbfbf\">                    </span>         py:<span style=\"color: #008080; text-decoration-color: #008080; font-weight: bold\">1351</span>: DataConversionWarning: A column-vector y was passed when a 1d <span style=\"color: #7f7f7f; text-decoration-color: #7f7f7f\">               </span>\n",
       "<span style=\"color: #7fbfbf; text-decoration-color: #7fbfbf\">                    </span>         array was expected. Please change the shape of y to <span style=\"font-weight: bold\">(</span>n_samples,<span style=\"font-weight: bold\">)</span>, for  <span style=\"color: #7f7f7f; text-decoration-color: #7f7f7f\">               </span>\n",
       "<span style=\"color: #7fbfbf; text-decoration-color: #7fbfbf\">                    </span>         example using <span style=\"color: #800080; text-decoration-color: #800080; font-weight: bold\">ravel</span><span style=\"font-weight: bold\">()</span>.                                                 <span style=\"color: #7f7f7f; text-decoration-color: #7f7f7f\">               </span>\n",
       "<span style=\"color: #7fbfbf; text-decoration-color: #7fbfbf\">                    </span>           return <span style=\"color: #800080; text-decoration-color: #800080; font-weight: bold\">fit_method</span><span style=\"font-weight: bold\">(</span>estimator, *args, **kwargs<span style=\"font-weight: bold\">)</span>                        <span style=\"color: #7f7f7f; text-decoration-color: #7f7f7f\">               </span>\n",
       "<span style=\"color: #7fbfbf; text-decoration-color: #7fbfbf\">                    </span>                                                                                <span style=\"color: #7f7f7f; text-decoration-color: #7f7f7f\">               </span>\n",
       "</pre>\n"
      ],
      "text/plain": [
       "\u001b[2;36m                   \u001b[0m\u001b[2;36m \u001b[0m\u001b[31mWARNING \u001b[0m C:\\Users\\dggua\\anaconda3\\envs\\test_env\\lib\\site-packages\\sklearn\\base. \u001b]8;id=166358;file://C:\\Users\\dggua\\anaconda3\\envs\\test_env\\lib\\warnings.py\u001b\\\u001b[2mwarnings.py\u001b[0m\u001b]8;;\u001b\\\u001b[2m:\u001b[0m\u001b]8;id=39590;file://C:\\Users\\dggua\\anaconda3\\envs\\test_env\\lib\\warnings.py#109\u001b\\\u001b[2m109\u001b[0m\u001b]8;;\u001b\\\n",
       "\u001b[2;36m                    \u001b[0m         py:\u001b[1;36m1351\u001b[0m: DataConversionWarning: A column-vector y was passed when a 1d \u001b[2m               \u001b[0m\n",
       "\u001b[2;36m                    \u001b[0m         array was expected. Please change the shape of y to \u001b[1m(\u001b[0mn_samples,\u001b[1m)\u001b[0m, for  \u001b[2m               \u001b[0m\n",
       "\u001b[2;36m                    \u001b[0m         example using \u001b[1;35mravel\u001b[0m\u001b[1m(\u001b[0m\u001b[1m)\u001b[0m.                                                 \u001b[2m               \u001b[0m\n",
       "\u001b[2;36m                    \u001b[0m           return \u001b[1;35mfit_method\u001b[0m\u001b[1m(\u001b[0mestimator, *args, **kwargs\u001b[1m)\u001b[0m                        \u001b[2m               \u001b[0m\n",
       "\u001b[2;36m                    \u001b[0m                                                                                \u001b[2m               \u001b[0m\n"
      ]
     },
     "metadata": {},
     "output_type": "display_data"
    },
    {
     "data": {
      "text/html": [
       "<pre style=\"white-space:pre;overflow-x:auto;line-height:normal;font-family:Menlo,'DejaVu Sans Mono',consolas,'Courier New',monospace\"><span style=\"color: #7fbfbf; text-decoration-color: #7fbfbf\">                    </span><span style=\"color: #800000; text-decoration-color: #800000\">WARNING </span> C:\\Users\\dggua\\anaconda3\\envs\\test_env\\lib\\site-packages\\sklearn\\base. <a href=\"file://C:\\Users\\dggua\\anaconda3\\envs\\test_env\\lib\\warnings.py\" target=\"_blank\"><span style=\"color: #7f7f7f; text-decoration-color: #7f7f7f\">warnings.py</span></a><span style=\"color: #7f7f7f; text-decoration-color: #7f7f7f\">:</span><a href=\"file://C:\\Users\\dggua\\anaconda3\\envs\\test_env\\lib\\warnings.py#109\" target=\"_blank\"><span style=\"color: #7f7f7f; text-decoration-color: #7f7f7f\">109</span></a>\n",
       "<span style=\"color: #7fbfbf; text-decoration-color: #7fbfbf\">                    </span>         py:<span style=\"color: #008080; text-decoration-color: #008080; font-weight: bold\">1351</span>: DataConversionWarning: A column-vector y was passed when a 1d <span style=\"color: #7f7f7f; text-decoration-color: #7f7f7f\">               </span>\n",
       "<span style=\"color: #7fbfbf; text-decoration-color: #7fbfbf\">                    </span>         array was expected. Please change the shape of y to <span style=\"font-weight: bold\">(</span>n_samples,<span style=\"font-weight: bold\">)</span>, for  <span style=\"color: #7f7f7f; text-decoration-color: #7f7f7f\">               </span>\n",
       "<span style=\"color: #7fbfbf; text-decoration-color: #7fbfbf\">                    </span>         example using <span style=\"color: #800080; text-decoration-color: #800080; font-weight: bold\">ravel</span><span style=\"font-weight: bold\">()</span>.                                                 <span style=\"color: #7f7f7f; text-decoration-color: #7f7f7f\">               </span>\n",
       "<span style=\"color: #7fbfbf; text-decoration-color: #7fbfbf\">                    </span>           return <span style=\"color: #800080; text-decoration-color: #800080; font-weight: bold\">fit_method</span><span style=\"font-weight: bold\">(</span>estimator, *args, **kwargs<span style=\"font-weight: bold\">)</span>                        <span style=\"color: #7f7f7f; text-decoration-color: #7f7f7f\">               </span>\n",
       "<span style=\"color: #7fbfbf; text-decoration-color: #7fbfbf\">                    </span>                                                                                <span style=\"color: #7f7f7f; text-decoration-color: #7f7f7f\">               </span>\n",
       "</pre>\n"
      ],
      "text/plain": [
       "\u001b[2;36m                   \u001b[0m\u001b[2;36m \u001b[0m\u001b[31mWARNING \u001b[0m C:\\Users\\dggua\\anaconda3\\envs\\test_env\\lib\\site-packages\\sklearn\\base. \u001b]8;id=81678;file://C:\\Users\\dggua\\anaconda3\\envs\\test_env\\lib\\warnings.py\u001b\\\u001b[2mwarnings.py\u001b[0m\u001b]8;;\u001b\\\u001b[2m:\u001b[0m\u001b]8;id=985029;file://C:\\Users\\dggua\\anaconda3\\envs\\test_env\\lib\\warnings.py#109\u001b\\\u001b[2m109\u001b[0m\u001b]8;;\u001b\\\n",
       "\u001b[2;36m                    \u001b[0m         py:\u001b[1;36m1351\u001b[0m: DataConversionWarning: A column-vector y was passed when a 1d \u001b[2m               \u001b[0m\n",
       "\u001b[2;36m                    \u001b[0m         array was expected. Please change the shape of y to \u001b[1m(\u001b[0mn_samples,\u001b[1m)\u001b[0m, for  \u001b[2m               \u001b[0m\n",
       "\u001b[2;36m                    \u001b[0m         example using \u001b[1;35mravel\u001b[0m\u001b[1m(\u001b[0m\u001b[1m)\u001b[0m.                                                 \u001b[2m               \u001b[0m\n",
       "\u001b[2;36m                    \u001b[0m           return \u001b[1;35mfit_method\u001b[0m\u001b[1m(\u001b[0mestimator, *args, **kwargs\u001b[1m)\u001b[0m                        \u001b[2m               \u001b[0m\n",
       "\u001b[2;36m                    \u001b[0m                                                                                \u001b[2m               \u001b[0m\n"
      ]
     },
     "metadata": {},
     "output_type": "display_data"
    },
    {
     "data": {
      "text/html": [
       "<pre style=\"white-space:pre;overflow-x:auto;line-height:normal;font-family:Menlo,'DejaVu Sans Mono',consolas,'Courier New',monospace\"><span style=\"color: #7fbfbf; text-decoration-color: #7fbfbf\">                    </span><span style=\"color: #800000; text-decoration-color: #800000\">WARNING </span> C:\\Users\\dggua\\anaconda3\\envs\\test_env\\lib\\site-packages\\sklearn\\base. <a href=\"file://C:\\Users\\dggua\\anaconda3\\envs\\test_env\\lib\\warnings.py\" target=\"_blank\"><span style=\"color: #7f7f7f; text-decoration-color: #7f7f7f\">warnings.py</span></a><span style=\"color: #7f7f7f; text-decoration-color: #7f7f7f\">:</span><a href=\"file://C:\\Users\\dggua\\anaconda3\\envs\\test_env\\lib\\warnings.py#109\" target=\"_blank\"><span style=\"color: #7f7f7f; text-decoration-color: #7f7f7f\">109</span></a>\n",
       "<span style=\"color: #7fbfbf; text-decoration-color: #7fbfbf\">                    </span>         py:<span style=\"color: #008080; text-decoration-color: #008080; font-weight: bold\">1351</span>: DataConversionWarning: A column-vector y was passed when a 1d <span style=\"color: #7f7f7f; text-decoration-color: #7f7f7f\">               </span>\n",
       "<span style=\"color: #7fbfbf; text-decoration-color: #7fbfbf\">                    </span>         array was expected. Please change the shape of y to <span style=\"font-weight: bold\">(</span>n_samples,<span style=\"font-weight: bold\">)</span>, for  <span style=\"color: #7f7f7f; text-decoration-color: #7f7f7f\">               </span>\n",
       "<span style=\"color: #7fbfbf; text-decoration-color: #7fbfbf\">                    </span>         example using <span style=\"color: #800080; text-decoration-color: #800080; font-weight: bold\">ravel</span><span style=\"font-weight: bold\">()</span>.                                                 <span style=\"color: #7f7f7f; text-decoration-color: #7f7f7f\">               </span>\n",
       "<span style=\"color: #7fbfbf; text-decoration-color: #7fbfbf\">                    </span>           return <span style=\"color: #800080; text-decoration-color: #800080; font-weight: bold\">fit_method</span><span style=\"font-weight: bold\">(</span>estimator, *args, **kwargs<span style=\"font-weight: bold\">)</span>                        <span style=\"color: #7f7f7f; text-decoration-color: #7f7f7f\">               </span>\n",
       "<span style=\"color: #7fbfbf; text-decoration-color: #7fbfbf\">                    </span>                                                                                <span style=\"color: #7f7f7f; text-decoration-color: #7f7f7f\">               </span>\n",
       "</pre>\n"
      ],
      "text/plain": [
       "\u001b[2;36m                   \u001b[0m\u001b[2;36m \u001b[0m\u001b[31mWARNING \u001b[0m C:\\Users\\dggua\\anaconda3\\envs\\test_env\\lib\\site-packages\\sklearn\\base. \u001b]8;id=749734;file://C:\\Users\\dggua\\anaconda3\\envs\\test_env\\lib\\warnings.py\u001b\\\u001b[2mwarnings.py\u001b[0m\u001b]8;;\u001b\\\u001b[2m:\u001b[0m\u001b]8;id=799132;file://C:\\Users\\dggua\\anaconda3\\envs\\test_env\\lib\\warnings.py#109\u001b\\\u001b[2m109\u001b[0m\u001b]8;;\u001b\\\n",
       "\u001b[2;36m                    \u001b[0m         py:\u001b[1;36m1351\u001b[0m: DataConversionWarning: A column-vector y was passed when a 1d \u001b[2m               \u001b[0m\n",
       "\u001b[2;36m                    \u001b[0m         array was expected. Please change the shape of y to \u001b[1m(\u001b[0mn_samples,\u001b[1m)\u001b[0m, for  \u001b[2m               \u001b[0m\n",
       "\u001b[2;36m                    \u001b[0m         example using \u001b[1;35mravel\u001b[0m\u001b[1m(\u001b[0m\u001b[1m)\u001b[0m.                                                 \u001b[2m               \u001b[0m\n",
       "\u001b[2;36m                    \u001b[0m           return \u001b[1;35mfit_method\u001b[0m\u001b[1m(\u001b[0mestimator, *args, **kwargs\u001b[1m)\u001b[0m                        \u001b[2m               \u001b[0m\n",
       "\u001b[2;36m                    \u001b[0m                                                                                \u001b[2m               \u001b[0m\n"
      ]
     },
     "metadata": {},
     "output_type": "display_data"
    },
    {
     "data": {
      "text/html": [
       "<pre style=\"white-space:pre;overflow-x:auto;line-height:normal;font-family:Menlo,'DejaVu Sans Mono',consolas,'Courier New',monospace\"><span style=\"color: #7fbfbf; text-decoration-color: #7fbfbf\">[06/22/24 16:18:16] </span><span style=\"color: #800000; text-decoration-color: #800000\">WARNING </span> C:\\Users\\dggua\\anaconda3\\envs\\test_env\\lib\\site-packages\\sklearn\\base. <a href=\"file://C:\\Users\\dggua\\anaconda3\\envs\\test_env\\lib\\warnings.py\" target=\"_blank\"><span style=\"color: #7f7f7f; text-decoration-color: #7f7f7f\">warnings.py</span></a><span style=\"color: #7f7f7f; text-decoration-color: #7f7f7f\">:</span><a href=\"file://C:\\Users\\dggua\\anaconda3\\envs\\test_env\\lib\\warnings.py#109\" target=\"_blank\"><span style=\"color: #7f7f7f; text-decoration-color: #7f7f7f\">109</span></a>\n",
       "<span style=\"color: #7fbfbf; text-decoration-color: #7fbfbf\">                    </span>         py:<span style=\"color: #008080; text-decoration-color: #008080; font-weight: bold\">1351</span>: DataConversionWarning: A column-vector y was passed when a 1d <span style=\"color: #7f7f7f; text-decoration-color: #7f7f7f\">               </span>\n",
       "<span style=\"color: #7fbfbf; text-decoration-color: #7fbfbf\">                    </span>         array was expected. Please change the shape of y to <span style=\"font-weight: bold\">(</span>n_samples,<span style=\"font-weight: bold\">)</span>, for  <span style=\"color: #7f7f7f; text-decoration-color: #7f7f7f\">               </span>\n",
       "<span style=\"color: #7fbfbf; text-decoration-color: #7fbfbf\">                    </span>         example using <span style=\"color: #800080; text-decoration-color: #800080; font-weight: bold\">ravel</span><span style=\"font-weight: bold\">()</span>.                                                 <span style=\"color: #7f7f7f; text-decoration-color: #7f7f7f\">               </span>\n",
       "<span style=\"color: #7fbfbf; text-decoration-color: #7fbfbf\">                    </span>           return <span style=\"color: #800080; text-decoration-color: #800080; font-weight: bold\">fit_method</span><span style=\"font-weight: bold\">(</span>estimator, *args, **kwargs<span style=\"font-weight: bold\">)</span>                        <span style=\"color: #7f7f7f; text-decoration-color: #7f7f7f\">               </span>\n",
       "<span style=\"color: #7fbfbf; text-decoration-color: #7fbfbf\">                    </span>                                                                                <span style=\"color: #7f7f7f; text-decoration-color: #7f7f7f\">               </span>\n",
       "</pre>\n"
      ],
      "text/plain": [
       "\u001b[2;36m[06/22/24 16:18:16]\u001b[0m\u001b[2;36m \u001b[0m\u001b[31mWARNING \u001b[0m C:\\Users\\dggua\\anaconda3\\envs\\test_env\\lib\\site-packages\\sklearn\\base. \u001b]8;id=992351;file://C:\\Users\\dggua\\anaconda3\\envs\\test_env\\lib\\warnings.py\u001b\\\u001b[2mwarnings.py\u001b[0m\u001b]8;;\u001b\\\u001b[2m:\u001b[0m\u001b]8;id=355994;file://C:\\Users\\dggua\\anaconda3\\envs\\test_env\\lib\\warnings.py#109\u001b\\\u001b[2m109\u001b[0m\u001b]8;;\u001b\\\n",
       "\u001b[2;36m                    \u001b[0m         py:\u001b[1;36m1351\u001b[0m: DataConversionWarning: A column-vector y was passed when a 1d \u001b[2m               \u001b[0m\n",
       "\u001b[2;36m                    \u001b[0m         array was expected. Please change the shape of y to \u001b[1m(\u001b[0mn_samples,\u001b[1m)\u001b[0m, for  \u001b[2m               \u001b[0m\n",
       "\u001b[2;36m                    \u001b[0m         example using \u001b[1;35mravel\u001b[0m\u001b[1m(\u001b[0m\u001b[1m)\u001b[0m.                                                 \u001b[2m               \u001b[0m\n",
       "\u001b[2;36m                    \u001b[0m           return \u001b[1;35mfit_method\u001b[0m\u001b[1m(\u001b[0mestimator, *args, **kwargs\u001b[1m)\u001b[0m                        \u001b[2m               \u001b[0m\n",
       "\u001b[2;36m                    \u001b[0m                                                                                \u001b[2m               \u001b[0m\n"
      ]
     },
     "metadata": {},
     "output_type": "display_data"
    },
    {
     "data": {
      "text/html": [
       "<pre style=\"white-space:pre;overflow-x:auto;line-height:normal;font-family:Menlo,'DejaVu Sans Mono',consolas,'Courier New',monospace\"><span style=\"color: #7fbfbf; text-decoration-color: #7fbfbf\">                    </span><span style=\"color: #800000; text-decoration-color: #800000\">WARNING </span> C:\\Users\\dggua\\anaconda3\\envs\\test_env\\lib\\site-packages\\sklearn\\base. <a href=\"file://C:\\Users\\dggua\\anaconda3\\envs\\test_env\\lib\\warnings.py\" target=\"_blank\"><span style=\"color: #7f7f7f; text-decoration-color: #7f7f7f\">warnings.py</span></a><span style=\"color: #7f7f7f; text-decoration-color: #7f7f7f\">:</span><a href=\"file://C:\\Users\\dggua\\anaconda3\\envs\\test_env\\lib\\warnings.py#109\" target=\"_blank\"><span style=\"color: #7f7f7f; text-decoration-color: #7f7f7f\">109</span></a>\n",
       "<span style=\"color: #7fbfbf; text-decoration-color: #7fbfbf\">                    </span>         py:<span style=\"color: #008080; text-decoration-color: #008080; font-weight: bold\">1351</span>: DataConversionWarning: A column-vector y was passed when a 1d <span style=\"color: #7f7f7f; text-decoration-color: #7f7f7f\">               </span>\n",
       "<span style=\"color: #7fbfbf; text-decoration-color: #7fbfbf\">                    </span>         array was expected. Please change the shape of y to <span style=\"font-weight: bold\">(</span>n_samples,<span style=\"font-weight: bold\">)</span>, for  <span style=\"color: #7f7f7f; text-decoration-color: #7f7f7f\">               </span>\n",
       "<span style=\"color: #7fbfbf; text-decoration-color: #7fbfbf\">                    </span>         example using <span style=\"color: #800080; text-decoration-color: #800080; font-weight: bold\">ravel</span><span style=\"font-weight: bold\">()</span>.                                                 <span style=\"color: #7f7f7f; text-decoration-color: #7f7f7f\">               </span>\n",
       "<span style=\"color: #7fbfbf; text-decoration-color: #7fbfbf\">                    </span>           return <span style=\"color: #800080; text-decoration-color: #800080; font-weight: bold\">fit_method</span><span style=\"font-weight: bold\">(</span>estimator, *args, **kwargs<span style=\"font-weight: bold\">)</span>                        <span style=\"color: #7f7f7f; text-decoration-color: #7f7f7f\">               </span>\n",
       "<span style=\"color: #7fbfbf; text-decoration-color: #7fbfbf\">                    </span>                                                                                <span style=\"color: #7f7f7f; text-decoration-color: #7f7f7f\">               </span>\n",
       "</pre>\n"
      ],
      "text/plain": [
       "\u001b[2;36m                   \u001b[0m\u001b[2;36m \u001b[0m\u001b[31mWARNING \u001b[0m C:\\Users\\dggua\\anaconda3\\envs\\test_env\\lib\\site-packages\\sklearn\\base. \u001b]8;id=186059;file://C:\\Users\\dggua\\anaconda3\\envs\\test_env\\lib\\warnings.py\u001b\\\u001b[2mwarnings.py\u001b[0m\u001b]8;;\u001b\\\u001b[2m:\u001b[0m\u001b]8;id=476401;file://C:\\Users\\dggua\\anaconda3\\envs\\test_env\\lib\\warnings.py#109\u001b\\\u001b[2m109\u001b[0m\u001b]8;;\u001b\\\n",
       "\u001b[2;36m                    \u001b[0m         py:\u001b[1;36m1351\u001b[0m: DataConversionWarning: A column-vector y was passed when a 1d \u001b[2m               \u001b[0m\n",
       "\u001b[2;36m                    \u001b[0m         array was expected. Please change the shape of y to \u001b[1m(\u001b[0mn_samples,\u001b[1m)\u001b[0m, for  \u001b[2m               \u001b[0m\n",
       "\u001b[2;36m                    \u001b[0m         example using \u001b[1;35mravel\u001b[0m\u001b[1m(\u001b[0m\u001b[1m)\u001b[0m.                                                 \u001b[2m               \u001b[0m\n",
       "\u001b[2;36m                    \u001b[0m           return \u001b[1;35mfit_method\u001b[0m\u001b[1m(\u001b[0mestimator, *args, **kwargs\u001b[1m)\u001b[0m                        \u001b[2m               \u001b[0m\n",
       "\u001b[2;36m                    \u001b[0m                                                                                \u001b[2m               \u001b[0m\n"
      ]
     },
     "metadata": {},
     "output_type": "display_data"
    },
    {
     "data": {
      "text/html": [
       "<pre style=\"white-space:pre;overflow-x:auto;line-height:normal;font-family:Menlo,'DejaVu Sans Mono',consolas,'Courier New',monospace\"><span style=\"color: #7fbfbf; text-decoration-color: #7fbfbf\">                    </span><span style=\"color: #800000; text-decoration-color: #800000\">WARNING </span> C:\\Users\\dggua\\anaconda3\\envs\\test_env\\lib\\site-packages\\sklearn\\base. <a href=\"file://C:\\Users\\dggua\\anaconda3\\envs\\test_env\\lib\\warnings.py\" target=\"_blank\"><span style=\"color: #7f7f7f; text-decoration-color: #7f7f7f\">warnings.py</span></a><span style=\"color: #7f7f7f; text-decoration-color: #7f7f7f\">:</span><a href=\"file://C:\\Users\\dggua\\anaconda3\\envs\\test_env\\lib\\warnings.py#109\" target=\"_blank\"><span style=\"color: #7f7f7f; text-decoration-color: #7f7f7f\">109</span></a>\n",
       "<span style=\"color: #7fbfbf; text-decoration-color: #7fbfbf\">                    </span>         py:<span style=\"color: #008080; text-decoration-color: #008080; font-weight: bold\">1351</span>: DataConversionWarning: A column-vector y was passed when a 1d <span style=\"color: #7f7f7f; text-decoration-color: #7f7f7f\">               </span>\n",
       "<span style=\"color: #7fbfbf; text-decoration-color: #7fbfbf\">                    </span>         array was expected. Please change the shape of y to <span style=\"font-weight: bold\">(</span>n_samples,<span style=\"font-weight: bold\">)</span>, for  <span style=\"color: #7f7f7f; text-decoration-color: #7f7f7f\">               </span>\n",
       "<span style=\"color: #7fbfbf; text-decoration-color: #7fbfbf\">                    </span>         example using <span style=\"color: #800080; text-decoration-color: #800080; font-weight: bold\">ravel</span><span style=\"font-weight: bold\">()</span>.                                                 <span style=\"color: #7f7f7f; text-decoration-color: #7f7f7f\">               </span>\n",
       "<span style=\"color: #7fbfbf; text-decoration-color: #7fbfbf\">                    </span>           return <span style=\"color: #800080; text-decoration-color: #800080; font-weight: bold\">fit_method</span><span style=\"font-weight: bold\">(</span>estimator, *args, **kwargs<span style=\"font-weight: bold\">)</span>                        <span style=\"color: #7f7f7f; text-decoration-color: #7f7f7f\">               </span>\n",
       "<span style=\"color: #7fbfbf; text-decoration-color: #7fbfbf\">                    </span>                                                                                <span style=\"color: #7f7f7f; text-decoration-color: #7f7f7f\">               </span>\n",
       "</pre>\n"
      ],
      "text/plain": [
       "\u001b[2;36m                   \u001b[0m\u001b[2;36m \u001b[0m\u001b[31mWARNING \u001b[0m C:\\Users\\dggua\\anaconda3\\envs\\test_env\\lib\\site-packages\\sklearn\\base. \u001b]8;id=925263;file://C:\\Users\\dggua\\anaconda3\\envs\\test_env\\lib\\warnings.py\u001b\\\u001b[2mwarnings.py\u001b[0m\u001b]8;;\u001b\\\u001b[2m:\u001b[0m\u001b]8;id=387586;file://C:\\Users\\dggua\\anaconda3\\envs\\test_env\\lib\\warnings.py#109\u001b\\\u001b[2m109\u001b[0m\u001b]8;;\u001b\\\n",
       "\u001b[2;36m                    \u001b[0m         py:\u001b[1;36m1351\u001b[0m: DataConversionWarning: A column-vector y was passed when a 1d \u001b[2m               \u001b[0m\n",
       "\u001b[2;36m                    \u001b[0m         array was expected. Please change the shape of y to \u001b[1m(\u001b[0mn_samples,\u001b[1m)\u001b[0m, for  \u001b[2m               \u001b[0m\n",
       "\u001b[2;36m                    \u001b[0m         example using \u001b[1;35mravel\u001b[0m\u001b[1m(\u001b[0m\u001b[1m)\u001b[0m.                                                 \u001b[2m               \u001b[0m\n",
       "\u001b[2;36m                    \u001b[0m           return \u001b[1;35mfit_method\u001b[0m\u001b[1m(\u001b[0mestimator, *args, **kwargs\u001b[1m)\u001b[0m                        \u001b[2m               \u001b[0m\n",
       "\u001b[2;36m                    \u001b[0m                                                                                \u001b[2m               \u001b[0m\n"
      ]
     },
     "metadata": {},
     "output_type": "display_data"
    },
    {
     "data": {
      "text/html": [
       "<pre style=\"white-space:pre;overflow-x:auto;line-height:normal;font-family:Menlo,'DejaVu Sans Mono',consolas,'Courier New',monospace\"><span style=\"color: #7fbfbf; text-decoration-color: #7fbfbf\">                    </span><span style=\"color: #800000; text-decoration-color: #800000\">WARNING </span> C:\\Users\\dggua\\anaconda3\\envs\\test_env\\lib\\site-packages\\sklearn\\base. <a href=\"file://C:\\Users\\dggua\\anaconda3\\envs\\test_env\\lib\\warnings.py\" target=\"_blank\"><span style=\"color: #7f7f7f; text-decoration-color: #7f7f7f\">warnings.py</span></a><span style=\"color: #7f7f7f; text-decoration-color: #7f7f7f\">:</span><a href=\"file://C:\\Users\\dggua\\anaconda3\\envs\\test_env\\lib\\warnings.py#109\" target=\"_blank\"><span style=\"color: #7f7f7f; text-decoration-color: #7f7f7f\">109</span></a>\n",
       "<span style=\"color: #7fbfbf; text-decoration-color: #7fbfbf\">                    </span>         py:<span style=\"color: #008080; text-decoration-color: #008080; font-weight: bold\">1351</span>: DataConversionWarning: A column-vector y was passed when a 1d <span style=\"color: #7f7f7f; text-decoration-color: #7f7f7f\">               </span>\n",
       "<span style=\"color: #7fbfbf; text-decoration-color: #7fbfbf\">                    </span>         array was expected. Please change the shape of y to <span style=\"font-weight: bold\">(</span>n_samples,<span style=\"font-weight: bold\">)</span>, for  <span style=\"color: #7f7f7f; text-decoration-color: #7f7f7f\">               </span>\n",
       "<span style=\"color: #7fbfbf; text-decoration-color: #7fbfbf\">                    </span>         example using <span style=\"color: #800080; text-decoration-color: #800080; font-weight: bold\">ravel</span><span style=\"font-weight: bold\">()</span>.                                                 <span style=\"color: #7f7f7f; text-decoration-color: #7f7f7f\">               </span>\n",
       "<span style=\"color: #7fbfbf; text-decoration-color: #7fbfbf\">                    </span>           return <span style=\"color: #800080; text-decoration-color: #800080; font-weight: bold\">fit_method</span><span style=\"font-weight: bold\">(</span>estimator, *args, **kwargs<span style=\"font-weight: bold\">)</span>                        <span style=\"color: #7f7f7f; text-decoration-color: #7f7f7f\">               </span>\n",
       "<span style=\"color: #7fbfbf; text-decoration-color: #7fbfbf\">                    </span>                                                                                <span style=\"color: #7f7f7f; text-decoration-color: #7f7f7f\">               </span>\n",
       "</pre>\n"
      ],
      "text/plain": [
       "\u001b[2;36m                   \u001b[0m\u001b[2;36m \u001b[0m\u001b[31mWARNING \u001b[0m C:\\Users\\dggua\\anaconda3\\envs\\test_env\\lib\\site-packages\\sklearn\\base. \u001b]8;id=761529;file://C:\\Users\\dggua\\anaconda3\\envs\\test_env\\lib\\warnings.py\u001b\\\u001b[2mwarnings.py\u001b[0m\u001b]8;;\u001b\\\u001b[2m:\u001b[0m\u001b]8;id=987658;file://C:\\Users\\dggua\\anaconda3\\envs\\test_env\\lib\\warnings.py#109\u001b\\\u001b[2m109\u001b[0m\u001b]8;;\u001b\\\n",
       "\u001b[2;36m                    \u001b[0m         py:\u001b[1;36m1351\u001b[0m: DataConversionWarning: A column-vector y was passed when a 1d \u001b[2m               \u001b[0m\n",
       "\u001b[2;36m                    \u001b[0m         array was expected. Please change the shape of y to \u001b[1m(\u001b[0mn_samples,\u001b[1m)\u001b[0m, for  \u001b[2m               \u001b[0m\n",
       "\u001b[2;36m                    \u001b[0m         example using \u001b[1;35mravel\u001b[0m\u001b[1m(\u001b[0m\u001b[1m)\u001b[0m.                                                 \u001b[2m               \u001b[0m\n",
       "\u001b[2;36m                    \u001b[0m           return \u001b[1;35mfit_method\u001b[0m\u001b[1m(\u001b[0mestimator, *args, **kwargs\u001b[1m)\u001b[0m                        \u001b[2m               \u001b[0m\n",
       "\u001b[2;36m                    \u001b[0m                                                                                \u001b[2m               \u001b[0m\n"
      ]
     },
     "metadata": {},
     "output_type": "display_data"
    },
    {
     "data": {
      "text/html": [
       "<pre style=\"white-space:pre;overflow-x:auto;line-height:normal;font-family:Menlo,'DejaVu Sans Mono',consolas,'Courier New',monospace\"><span style=\"color: #7fbfbf; text-decoration-color: #7fbfbf\">                    </span><span style=\"color: #800000; text-decoration-color: #800000\">WARNING </span> C:\\Users\\dggua\\anaconda3\\envs\\test_env\\lib\\site-packages\\sklearn\\base. <a href=\"file://C:\\Users\\dggua\\anaconda3\\envs\\test_env\\lib\\warnings.py\" target=\"_blank\"><span style=\"color: #7f7f7f; text-decoration-color: #7f7f7f\">warnings.py</span></a><span style=\"color: #7f7f7f; text-decoration-color: #7f7f7f\">:</span><a href=\"file://C:\\Users\\dggua\\anaconda3\\envs\\test_env\\lib\\warnings.py#109\" target=\"_blank\"><span style=\"color: #7f7f7f; text-decoration-color: #7f7f7f\">109</span></a>\n",
       "<span style=\"color: #7fbfbf; text-decoration-color: #7fbfbf\">                    </span>         py:<span style=\"color: #008080; text-decoration-color: #008080; font-weight: bold\">1351</span>: DataConversionWarning: A column-vector y was passed when a 1d <span style=\"color: #7f7f7f; text-decoration-color: #7f7f7f\">               </span>\n",
       "<span style=\"color: #7fbfbf; text-decoration-color: #7fbfbf\">                    </span>         array was expected. Please change the shape of y to <span style=\"font-weight: bold\">(</span>n_samples,<span style=\"font-weight: bold\">)</span>, for  <span style=\"color: #7f7f7f; text-decoration-color: #7f7f7f\">               </span>\n",
       "<span style=\"color: #7fbfbf; text-decoration-color: #7fbfbf\">                    </span>         example using <span style=\"color: #800080; text-decoration-color: #800080; font-weight: bold\">ravel</span><span style=\"font-weight: bold\">()</span>.                                                 <span style=\"color: #7f7f7f; text-decoration-color: #7f7f7f\">               </span>\n",
       "<span style=\"color: #7fbfbf; text-decoration-color: #7fbfbf\">                    </span>           return <span style=\"color: #800080; text-decoration-color: #800080; font-weight: bold\">fit_method</span><span style=\"font-weight: bold\">(</span>estimator, *args, **kwargs<span style=\"font-weight: bold\">)</span>                        <span style=\"color: #7f7f7f; text-decoration-color: #7f7f7f\">               </span>\n",
       "<span style=\"color: #7fbfbf; text-decoration-color: #7fbfbf\">                    </span>                                                                                <span style=\"color: #7f7f7f; text-decoration-color: #7f7f7f\">               </span>\n",
       "</pre>\n"
      ],
      "text/plain": [
       "\u001b[2;36m                   \u001b[0m\u001b[2;36m \u001b[0m\u001b[31mWARNING \u001b[0m C:\\Users\\dggua\\anaconda3\\envs\\test_env\\lib\\site-packages\\sklearn\\base. \u001b]8;id=145523;file://C:\\Users\\dggua\\anaconda3\\envs\\test_env\\lib\\warnings.py\u001b\\\u001b[2mwarnings.py\u001b[0m\u001b]8;;\u001b\\\u001b[2m:\u001b[0m\u001b]8;id=762389;file://C:\\Users\\dggua\\anaconda3\\envs\\test_env\\lib\\warnings.py#109\u001b\\\u001b[2m109\u001b[0m\u001b]8;;\u001b\\\n",
       "\u001b[2;36m                    \u001b[0m         py:\u001b[1;36m1351\u001b[0m: DataConversionWarning: A column-vector y was passed when a 1d \u001b[2m               \u001b[0m\n",
       "\u001b[2;36m                    \u001b[0m         array was expected. Please change the shape of y to \u001b[1m(\u001b[0mn_samples,\u001b[1m)\u001b[0m, for  \u001b[2m               \u001b[0m\n",
       "\u001b[2;36m                    \u001b[0m         example using \u001b[1;35mravel\u001b[0m\u001b[1m(\u001b[0m\u001b[1m)\u001b[0m.                                                 \u001b[2m               \u001b[0m\n",
       "\u001b[2;36m                    \u001b[0m           return \u001b[1;35mfit_method\u001b[0m\u001b[1m(\u001b[0mestimator, *args, **kwargs\u001b[1m)\u001b[0m                        \u001b[2m               \u001b[0m\n",
       "\u001b[2;36m                    \u001b[0m                                                                                \u001b[2m               \u001b[0m\n"
      ]
     },
     "metadata": {},
     "output_type": "display_data"
    },
    {
     "name": "stdout",
     "output_type": "stream",
     "text": [
      "Loading model from: runs:/d3b13de3b9024980b12f9f162e2c2666/model\n"
     ]
    }
   ],
   "source": [
    "from sklearn.model_selection import GridSearchCV\n",
    "mlflow.autolog(log_model_signatures=True, log_input_examples=True)\n",
    "params = {\n",
    "  \"n_estimators\": [33, 66, 200],\n",
    "  \"max_depth\": [2, 4, 6],\n",
    "  \"max_features\": [3, 4, 5]\n",
    "}\n",
    "\n",
    "rf = RandomForestRegressor()\n",
    "searcher = GridSearchCV(estimator=rf, param_grid=params)\n",
    "\n",
    "with mlflow.start_run(run_name=\"autolog_with_grid_search\") as run:\n",
    "  searcher.fit(X_train, y_train)\n",
    "mlflow.end_run()\n",
    "\n",
    "# get model path from run id\n",
    "run_id = run.info.run_id\n",
    "model_path = f\"runs:/{run_id}/model\"\n",
    "print(f\"Loading model from: {model_path}\")"
   ]
  },
  {
   "cell_type": "code",
   "execution_count": 18,
   "id": "14f2a45b-67ec-48eb-9eb3-591bc18a43b1",
   "metadata": {},
   "outputs": [
    {
     "name": "stderr",
     "output_type": "stream",
     "text": [
      "Successfully registered model 'sk-learn-random-forest-reg'.\n",
      "2024/06/22 16:20:55 INFO mlflow.store.model_registry.abstract_store: Waiting up to 300 seconds for model version to finish creation. Model name: sk-learn-random-forest-reg, version 1\n",
      "Created version '1' of model 'sk-learn-random-forest-reg'.\n"
     ]
    }
   ],
   "source": [
    "result = mlflow.register_model(\n",
    "    model_path, \"sk-learn-random-forest-reg\"\n",
    ")"
   ]
  },
  {
   "cell_type": "code",
   "execution_count": 19,
   "id": "3412f248-e9d9-4e14-91ae-0dfe698f00de",
   "metadata": {},
   "outputs": [],
   "source": [
    "from mlflow import MlflowClient\n",
    "\n",
    "client = MlflowClient()"
   ]
  },
  {
   "cell_type": "code",
   "execution_count": 20,
   "id": "2931c190-3eb3-4972-bec0-8cb8b2bdae8a",
   "metadata": {},
   "outputs": [],
   "source": [
    "# Set registered model tag\n",
    "client.set_registered_model_tag(\"sk-learn-random-forest-reg\", \"task\", \"classification\")"
   ]
  },
  {
   "cell_type": "code",
   "execution_count": 21,
   "id": "f59ea42c-eb86-4ad5-9171-3eb67eab1d1e",
   "metadata": {},
   "outputs": [],
   "source": [
    "# Set model version tag\n",
    "client.set_model_version_tag(\"sk-learn-random-forest-reg\", \"1\", \"validation_status\", \"approved\")"
   ]
  },
  {
   "cell_type": "code",
   "execution_count": 22,
   "id": "16a14672-1383-46f6-a9d0-12c7366debdd",
   "metadata": {},
   "outputs": [],
   "source": [
    "#create \"champion\" alias for version 1 of model \n",
    "client.set_registered_model_alias(\"sk-learn-random-forest-reg\", \"Champion\", \"1\")"
   ]
  },
  {
   "cell_type": "code",
   "execution_count": 23,
   "id": "a4ca71d2-493e-4b26-b0ec-197fd2ff0f37",
   "metadata": {},
   "outputs": [],
   "source": [
    "# get a model version by alias\n",
    "model_champion = client.get_model_version_by_alias(\"sk-learn-random-forest-reg\", \"Champion\")"
   ]
  },
  {
   "cell_type": "code",
   "execution_count": 24,
   "id": "10cf85d3-ce5f-45f6-99d1-c2b96e1699a4",
   "metadata": {},
   "outputs": [],
   "source": [
    "# delete the alias\n",
    "client.delete_registered_model_alias(\"sk-learn-random-forest-reg\", \"Champion\")"
   ]
  },
  {
   "cell_type": "code",
   "execution_count": 25,
   "id": "6068d533-59ee-4cb7-bc5b-04c8d9fb9ef3",
   "metadata": {},
   "outputs": [
    {
     "name": "stdout",
     "output_type": "stream",
     "text": [
      "Loading model from: runs:/d3b13de3b9024980b12f9f162e2c2666/model\n"
     ]
    }
   ],
   "source": [
    "# get model path from run id\n",
    "run_id = run.info.run_id\n",
    "model_path = f\"runs:/{run_id}/model\"\n",
    "print(f\"Loading model from: {model_path}\")"
   ]
  },
  {
   "cell_type": "code",
   "execution_count": 26,
   "id": "12d96412-01fa-436e-82b4-3d810e72d66d",
   "metadata": {},
   "outputs": [
    {
     "data": {
      "application/vnd.jupyter.widget-view+json": {
       "model_id": "b199960224324d8a8beb025e9d3cddaf",
       "version_major": 2,
       "version_minor": 0
      },
      "text/plain": [
       "Downloading artifacts:   0%|          | 0/1 [00:00<?, ?it/s]"
      ]
     },
     "metadata": {},
     "output_type": "display_data"
    },
    {
     "data": {
      "text/html": [
       "<pre style=\"white-space:pre;overflow-x:auto;line-height:normal;font-family:Menlo,'DejaVu Sans Mono',consolas,'Courier New',monospace\"><span style=\"color: #800000; text-decoration-color: #800000\">╭─────────────────────────────── </span><span style=\"color: #800000; text-decoration-color: #800000; font-weight: bold\">Traceback </span><span style=\"color: #bf7f7f; text-decoration-color: #bf7f7f; font-weight: bold\">(most recent call last)</span><span style=\"color: #800000; text-decoration-color: #800000\"> ────────────────────────────────╮</span>\n",
       "<span style=\"color: #800000; text-decoration-color: #800000\">│</span> in <span style=\"color: #00ff00; text-decoration-color: #00ff00\">&lt;module&gt;</span>:<span style=\"color: #0000ff; text-decoration-color: #0000ff\">2</span>                                                                                    <span style=\"color: #800000; text-decoration-color: #800000\">│</span>\n",
       "<span style=\"color: #800000; text-decoration-color: #800000\">│</span>                                                                                                  <span style=\"color: #800000; text-decoration-color: #800000\">│</span>\n",
       "<span style=\"color: #800000; text-decoration-color: #800000\">│</span>   <span style=\"color: #7f7f7f; text-decoration-color: #7f7f7f\">1 # load using sklearn flavor</span>                                                                  <span style=\"color: #800000; text-decoration-color: #800000\">│</span>\n",
       "<span style=\"color: #800000; text-decoration-color: #800000\">│</span> <span style=\"color: #800000; text-decoration-color: #800000\">❱ </span>2 loaded_model = mlflow.sklearn.load_model(model_path)                                         <span style=\"color: #800000; text-decoration-color: #800000\">│</span>\n",
       "<span style=\"color: #800000; text-decoration-color: #800000\">│</span>   <span style=\"color: #7f7f7f; text-decoration-color: #7f7f7f\">3 </span>                                                                                             <span style=\"color: #800000; text-decoration-color: #800000\">│</span>\n",
       "<span style=\"color: #800000; text-decoration-color: #800000\">│</span>                                                                                                  <span style=\"color: #800000; text-decoration-color: #800000\">│</span>\n",
       "<span style=\"color: #800000; text-decoration-color: #800000\">│</span> <span style=\"color: #808000; text-decoration-color: #808000\">C:\\Users\\dggua\\anaconda3\\envs\\test_env\\lib\\site-packages\\mlflow\\sklearn\\__init__.py</span>:<span style=\"color: #0000ff; text-decoration-color: #0000ff\">631</span> in       <span style=\"color: #800000; text-decoration-color: #800000\">│</span>\n",
       "<span style=\"color: #800000; text-decoration-color: #800000\">│</span> <span style=\"color: #00ff00; text-decoration-color: #00ff00\">load_model</span>                                                                                       <span style=\"color: #800000; text-decoration-color: #800000\">│</span>\n",
       "<span style=\"color: #800000; text-decoration-color: #800000\">│</span>                                                                                                  <span style=\"color: #800000; text-decoration-color: #800000\">│</span>\n",
       "<span style=\"color: #800000; text-decoration-color: #800000\">│</span> <span style=\"color: #808000; text-decoration-color: #808000\">C:\\Users\\dggua\\anaconda3\\envs\\test_env\\lib\\site-packages\\mlflow\\tracking\\artifact_utils.py</span>:<span style=\"color: #0000ff; text-decoration-color: #0000ff\">105</span>   <span style=\"color: #800000; text-decoration-color: #800000\">│</span>\n",
       "<span style=\"color: #800000; text-decoration-color: #800000\">│</span> in <span style=\"color: #00ff00; text-decoration-color: #00ff00\">_download_artifact_from_uri</span>                                                                   <span style=\"color: #800000; text-decoration-color: #800000\">│</span>\n",
       "<span style=\"color: #800000; text-decoration-color: #800000\">│</span>                                                                                                  <span style=\"color: #800000; text-decoration-color: #800000\">│</span>\n",
       "<span style=\"color: #800000; text-decoration-color: #800000\">│</span> <span style=\"color: #808000; text-decoration-color: #808000\">C:\\Users\\dggua\\anaconda3\\envs\\test_env\\lib\\site-packages\\mlflow\\store\\artifact\\runs_artifact_rep</span> <span style=\"color: #800000; text-decoration-color: #800000\">│</span>\n",
       "<span style=\"color: #800000; text-decoration-color: #800000\">│</span> <span style=\"color: #808000; text-decoration-color: #808000\">o.py</span>:<span style=\"color: #0000ff; text-decoration-color: #0000ff\">131</span> in <span style=\"color: #00ff00; text-decoration-color: #00ff00\">download_artifacts</span>                                                                   <span style=\"color: #800000; text-decoration-color: #800000\">│</span>\n",
       "<span style=\"color: #800000; text-decoration-color: #800000\">│</span>                                                                                                  <span style=\"color: #800000; text-decoration-color: #800000\">│</span>\n",
       "<span style=\"color: #800000; text-decoration-color: #800000\">│</span> <span style=\"color: #808000; text-decoration-color: #808000\">C:\\Users\\dggua\\anaconda3\\envs\\test_env\\lib\\site-packages\\mlflow\\store\\artifact\\artifact_repo.py</span>: <span style=\"color: #800000; text-decoration-color: #800000\">│</span>\n",
       "<span style=\"color: #800000; text-decoration-color: #800000\">│</span> <span style=\"color: #0000ff; text-decoration-color: #0000ff\">230</span> in <span style=\"color: #00ff00; text-decoration-color: #00ff00\">download_artifacts</span>                                                                        <span style=\"color: #800000; text-decoration-color: #800000\">│</span>\n",
       "<span style=\"color: #800000; text-decoration-color: #800000\">╰──────────────────────────────────────────────────────────────────────────────────────────────────╯</span>\n",
       "<span style=\"color: #ff0000; text-decoration-color: #ff0000; font-weight: bold\">MlflowException: </span>The following failures occurred while downloading one or more artifacts from \n",
       "<span style=\"color: #0000ff; text-decoration-color: #0000ff; text-decoration: underline\">http://127.0.0.1:5000/api/2.0/mlflow-artifacts/artifacts/861406686854474306/d3b13de3b9024980b12f9f162e2c2666/artifa</span>\n",
       "<span style=\"color: #0000ff; text-decoration-color: #0000ff; text-decoration: underline\">cts:</span>\n",
       "##### File model #####\n",
       "API request to \n",
       "<span style=\"color: #0000ff; text-decoration-color: #0000ff; text-decoration: underline\">http://127.0.0.1:5000/api/2.0/mlflow-artifacts/artifacts/861406686854474306/d3b13de3b9024980b12f9f162e2c2666/artifa</span>\n",
       "<span style=\"color: #0000ff; text-decoration-color: #0000ff; text-decoration: underline\">cts/model</span> failed with exception <span style=\"color: #800080; text-decoration-color: #800080; font-weight: bold\">HTTPConnectionPool</span><span style=\"font-weight: bold\">(</span><span style=\"color: #808000; text-decoration-color: #808000\">host</span>=<span style=\"color: #008000; text-decoration-color: #008000\">'127.0.0.1'</span>, <span style=\"color: #808000; text-decoration-color: #808000\">port</span>=<span style=\"color: #008080; text-decoration-color: #008080; font-weight: bold\">5000</span><span style=\"font-weight: bold\">)</span>: Max retries exceeded with url: \n",
       "<span style=\"color: #800080; text-decoration-color: #800080\">/api/2.0/mlflow-artifacts/artifacts/861406686854474306/d3b13de3b9024980b12f9f162e2c2666/artifacts/</span><span style=\"color: #ff00ff; text-decoration-color: #ff00ff\">model</span> <span style=\"font-weight: bold\">(</span>Caused by \n",
       "<span style=\"color: #800080; text-decoration-color: #800080; font-weight: bold\">ResponseError</span><span style=\"font-weight: bold\">(</span><span style=\"color: #008000; text-decoration-color: #008000\">'too many 500 error responses'</span><span style=\"font-weight: bold\">))</span>\n",
       "</pre>\n"
      ],
      "text/plain": [
       "\u001b[31m╭─\u001b[0m\u001b[31m──────────────────────────────\u001b[0m\u001b[31m \u001b[0m\u001b[1;31mTraceback \u001b[0m\u001b[1;2;31m(most recent call last)\u001b[0m\u001b[31m \u001b[0m\u001b[31m───────────────────────────────\u001b[0m\u001b[31m─╮\u001b[0m\n",
       "\u001b[31m│\u001b[0m in \u001b[92m<module>\u001b[0m:\u001b[94m2\u001b[0m                                                                                    \u001b[31m│\u001b[0m\n",
       "\u001b[31m│\u001b[0m                                                                                                  \u001b[31m│\u001b[0m\n",
       "\u001b[31m│\u001b[0m   \u001b[2m1 \u001b[0m\u001b[2m# load using sklearn flavor\u001b[0m                                                                  \u001b[31m│\u001b[0m\n",
       "\u001b[31m│\u001b[0m \u001b[31m❱ \u001b[0m2 loaded_model = mlflow.sklearn.load_model(model_path)                                         \u001b[31m│\u001b[0m\n",
       "\u001b[31m│\u001b[0m   \u001b[2m3 \u001b[0m                                                                                             \u001b[31m│\u001b[0m\n",
       "\u001b[31m│\u001b[0m                                                                                                  \u001b[31m│\u001b[0m\n",
       "\u001b[31m│\u001b[0m \u001b[33mC:\\Users\\dggua\\anaconda3\\envs\\test_env\\lib\\site-packages\\mlflow\\sklearn\\__init__.py\u001b[0m:\u001b[94m631\u001b[0m in       \u001b[31m│\u001b[0m\n",
       "\u001b[31m│\u001b[0m \u001b[92mload_model\u001b[0m                                                                                       \u001b[31m│\u001b[0m\n",
       "\u001b[31m│\u001b[0m                                                                                                  \u001b[31m│\u001b[0m\n",
       "\u001b[31m│\u001b[0m \u001b[33mC:\\Users\\dggua\\anaconda3\\envs\\test_env\\lib\\site-packages\\mlflow\\tracking\\artifact_utils.py\u001b[0m:\u001b[94m105\u001b[0m   \u001b[31m│\u001b[0m\n",
       "\u001b[31m│\u001b[0m in \u001b[92m_download_artifact_from_uri\u001b[0m                                                                   \u001b[31m│\u001b[0m\n",
       "\u001b[31m│\u001b[0m                                                                                                  \u001b[31m│\u001b[0m\n",
       "\u001b[31m│\u001b[0m \u001b[33mC:\\Users\\dggua\\anaconda3\\envs\\test_env\\lib\\site-packages\\mlflow\\store\\artifact\\runs_artifact_rep\u001b[0m \u001b[31m│\u001b[0m\n",
       "\u001b[31m│\u001b[0m \u001b[33mo.py\u001b[0m:\u001b[94m131\u001b[0m in \u001b[92mdownload_artifacts\u001b[0m                                                                   \u001b[31m│\u001b[0m\n",
       "\u001b[31m│\u001b[0m                                                                                                  \u001b[31m│\u001b[0m\n",
       "\u001b[31m│\u001b[0m \u001b[33mC:\\Users\\dggua\\anaconda3\\envs\\test_env\\lib\\site-packages\\mlflow\\store\\artifact\\artifact_repo.py\u001b[0m: \u001b[31m│\u001b[0m\n",
       "\u001b[31m│\u001b[0m \u001b[94m230\u001b[0m in \u001b[92mdownload_artifacts\u001b[0m                                                                        \u001b[31m│\u001b[0m\n",
       "\u001b[31m╰──────────────────────────────────────────────────────────────────────────────────────────────────╯\u001b[0m\n",
       "\u001b[1;91mMlflowException: \u001b[0mThe following failures occurred while downloading one or more artifacts from \n",
       "\u001b[4;94mhttp://127.0.0.1:5000/api/2.0/mlflow-artifacts/artifacts/861406686854474306/d3b13de3b9024980b12f9f162e2c2666/artifa\u001b[0m\n",
       "\u001b[4;94mcts:\u001b[0m\n",
       "##### File model #####\n",
       "API request to \n",
       "\u001b[4;94mhttp://127.0.0.1:5000/api/2.0/mlflow-artifacts/artifacts/861406686854474306/d3b13de3b9024980b12f9f162e2c2666/artifa\u001b[0m\n",
       "\u001b[4;94mcts/model\u001b[0m failed with exception \u001b[1;35mHTTPConnectionPool\u001b[0m\u001b[1m(\u001b[0m\u001b[33mhost\u001b[0m=\u001b[32m'127.0.0.1'\u001b[0m, \u001b[33mport\u001b[0m=\u001b[1;36m5000\u001b[0m\u001b[1m)\u001b[0m: Max retries exceeded with url: \n",
       "\u001b[35m/api/2.0/mlflow-artifacts/artifacts/861406686854474306/d3b13de3b9024980b12f9f162e2c2666/artifacts/\u001b[0m\u001b[95mmodel\u001b[0m \u001b[1m(\u001b[0mCaused by \n",
       "\u001b[1;35mResponseError\u001b[0m\u001b[1m(\u001b[0m\u001b[32m'too many 500 error responses'\u001b[0m\u001b[1m)\u001b[0m\u001b[1m)\u001b[0m\n"
      ]
     },
     "metadata": {},
     "output_type": "display_data"
    }
   ],
   "source": [
    "# load using sklearn flavor\n",
    "loaded_model = mlflow.sklearn.load_model(model_path)"
   ]
  },
  {
   "cell_type": "code",
   "execution_count": null,
   "id": "ef29987e-7100-4e7d-b5c2-d895177b76f3",
   "metadata": {},
   "outputs": [],
   "source": [
    "# load using sklearn flavor\n",
    "loaded_model = mlflow.sklearn.load_model(model_path)\n",
    "\n",
    "print(\"Showing predictions\")\n",
    "print(loaded_model.predict(X_test))"
   ]
  }
 ],
 "metadata": {
  "kernelspec": {
   "display_name": "Python 3 (ipykernel)",
   "language": "python",
   "name": "python3"
  },
  "language_info": {
   "codemirror_mode": {
    "name": "ipython",
    "version": 3
   },
   "file_extension": ".py",
   "mimetype": "text/x-python",
   "name": "python",
   "nbconvert_exporter": "python",
   "pygments_lexer": "ipython3",
   "version": "3.10.14"
  }
 },
 "nbformat": 4,
 "nbformat_minor": 5
}
