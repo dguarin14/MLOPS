{
 "cells": [
  {
   "cell_type": "code",
   "execution_count": 1,
   "id": "83ae2a01-29da-423b-8b20-50bf95289e46",
   "metadata": {},
   "outputs": [],
   "source": [
    "import mlflow\n",
    "\n",
    "from sklearn.model_selection import train_test_split\n",
    "from sklearn.datasets import load_wine\n",
    "from sklearn.ensemble import RandomForestRegressor\n",
    "from sklearn.metrics import mean_squared_error, explained_variance_score\n",
    "\n",
    "\n",
    "import warnings"
   ]
  },
  {
   "cell_type": "code",
   "execution_count": 2,
   "id": "38d0fc17-4748-41eb-80bf-746c58106346",
   "metadata": {},
   "outputs": [
    {
     "data": {
      "text/html": [
       "<pre style=\"white-space:pre;overflow-x:auto;line-height:normal;font-family:Menlo,'DejaVu Sans Mono',consolas,'Courier New',monospace\"><span style=\"color: #7fbfbf; text-decoration-color: #7fbfbf\">[06/22/24 16:08:27] </span><span style=\"color: #000080; text-decoration-color: #000080\">INFO    </span> Registered line magic <span style=\"color: #008000; text-decoration-color: #008000\">'%reload_kedro'</span>                                   <a href=\"file://C:\\Users\\dggua\\anaconda3\\envs\\test_env\\lib\\site-packages\\kedro\\ipython\\__init__.py\" target=\"_blank\"><span style=\"color: #7f7f7f; text-decoration-color: #7f7f7f\">__init__.py</span></a><span style=\"color: #7f7f7f; text-decoration-color: #7f7f7f\">:</span><a href=\"file://C:\\Users\\dggua\\anaconda3\\envs\\test_env\\lib\\site-packages\\kedro\\ipython\\__init__.py#58\" target=\"_blank\"><span style=\"color: #7f7f7f; text-decoration-color: #7f7f7f\">58</span></a>\n",
       "</pre>\n"
      ],
      "text/plain": [
       "\u001b[2;36m[06/22/24 16:08:27]\u001b[0m\u001b[2;36m \u001b[0m\u001b[34mINFO    \u001b[0m Registered line magic \u001b[32m'%reload_kedro'\u001b[0m                                   \u001b]8;id=449084;file://C:\\Users\\dggua\\anaconda3\\envs\\test_env\\lib\\site-packages\\kedro\\ipython\\__init__.py\u001b\\\u001b[2m__init__.py\u001b[0m\u001b]8;;\u001b\\\u001b[2m:\u001b[0m\u001b]8;id=93971;file://C:\\Users\\dggua\\anaconda3\\envs\\test_env\\lib\\site-packages\\kedro\\ipython\\__init__.py#58\u001b\\\u001b[2m58\u001b[0m\u001b]8;;\u001b\\\n"
      ]
     },
     "metadata": {},
     "output_type": "display_data"
    },
    {
     "data": {
      "text/html": [
       "<pre style=\"white-space:pre;overflow-x:auto;line-height:normal;font-family:Menlo,'DejaVu Sans Mono',consolas,'Courier New',monospace\"><span style=\"color: #7fbfbf; text-decoration-color: #7fbfbf\">                    </span><span style=\"color: #000080; text-decoration-color: #000080\">INFO    </span> Registered line magic <span style=\"color: #008000; text-decoration-color: #008000\">'%load_node'</span>                                      <a href=\"file://C:\\Users\\dggua\\anaconda3\\envs\\test_env\\lib\\site-packages\\kedro\\ipython\\__init__.py\" target=\"_blank\"><span style=\"color: #7f7f7f; text-decoration-color: #7f7f7f\">__init__.py</span></a><span style=\"color: #7f7f7f; text-decoration-color: #7f7f7f\">:</span><a href=\"file://C:\\Users\\dggua\\anaconda3\\envs\\test_env\\lib\\site-packages\\kedro\\ipython\\__init__.py#60\" target=\"_blank\"><span style=\"color: #7f7f7f; text-decoration-color: #7f7f7f\">60</span></a>\n",
       "</pre>\n"
      ],
      "text/plain": [
       "\u001b[2;36m                   \u001b[0m\u001b[2;36m \u001b[0m\u001b[34mINFO    \u001b[0m Registered line magic \u001b[32m'%load_node'\u001b[0m                                      \u001b]8;id=33674;file://C:\\Users\\dggua\\anaconda3\\envs\\test_env\\lib\\site-packages\\kedro\\ipython\\__init__.py\u001b\\\u001b[2m__init__.py\u001b[0m\u001b]8;;\u001b\\\u001b[2m:\u001b[0m\u001b]8;id=451668;file://C:\\Users\\dggua\\anaconda3\\envs\\test_env\\lib\\site-packages\\kedro\\ipython\\__init__.py#60\u001b\\\u001b[2m60\u001b[0m\u001b]8;;\u001b\\\n"
      ]
     },
     "metadata": {},
     "output_type": "display_data"
    },
    {
     "data": {
      "text/html": [
       "<pre style=\"white-space:pre;overflow-x:auto;line-height:normal;font-family:Menlo,'DejaVu Sans Mono',consolas,'Courier New',monospace\"><span style=\"color: #7fbfbf; text-decoration-color: #7fbfbf\">                    </span><span style=\"color: #000080; text-decoration-color: #000080\">INFO    </span> Resolved project path as:                                              <a href=\"file://C:\\Users\\dggua\\anaconda3\\envs\\test_env\\lib\\site-packages\\kedro\\ipython\\__init__.py\" target=\"_blank\"><span style=\"color: #7f7f7f; text-decoration-color: #7f7f7f\">__init__.py</span></a><span style=\"color: #7f7f7f; text-decoration-color: #7f7f7f\">:</span><a href=\"file://C:\\Users\\dggua\\anaconda3\\envs\\test_env\\lib\\site-packages\\kedro\\ipython\\__init__.py#171\" target=\"_blank\"><span style=\"color: #7f7f7f; text-decoration-color: #7f7f7f\">171</span></a>\n",
       "<span style=\"color: #7fbfbf; text-decoration-color: #7fbfbf\">                    </span>         C:\\Users\\dggua\\Downloads\\MLOPS\\project\\MLOPS\\project-mlops.            <span style=\"color: #7f7f7f; text-decoration-color: #7f7f7f\">               </span>\n",
       "<span style=\"color: #7fbfbf; text-decoration-color: #7fbfbf\">                    </span>         To set a different path, run <span style=\"color: #008000; text-decoration-color: #008000\">'%reload_kedro &lt;project_root&gt;'</span>            <span style=\"color: #7f7f7f; text-decoration-color: #7f7f7f\">               </span>\n",
       "</pre>\n"
      ],
      "text/plain": [
       "\u001b[2;36m                   \u001b[0m\u001b[2;36m \u001b[0m\u001b[34mINFO    \u001b[0m Resolved project path as:                                              \u001b]8;id=989081;file://C:\\Users\\dggua\\anaconda3\\envs\\test_env\\lib\\site-packages\\kedro\\ipython\\__init__.py\u001b\\\u001b[2m__init__.py\u001b[0m\u001b]8;;\u001b\\\u001b[2m:\u001b[0m\u001b]8;id=833122;file://C:\\Users\\dggua\\anaconda3\\envs\\test_env\\lib\\site-packages\\kedro\\ipython\\__init__.py#171\u001b\\\u001b[2m171\u001b[0m\u001b]8;;\u001b\\\n",
       "\u001b[2;36m                    \u001b[0m         C:\\Users\\dggua\\Downloads\\MLOPS\\project\\MLOPS\\project-mlops.            \u001b[2m               \u001b[0m\n",
       "\u001b[2;36m                    \u001b[0m         To set a different path, run \u001b[32m'%reload_kedro \u001b[0m\u001b[32m<\u001b[0m\u001b[32mproject_root\u001b[0m\u001b[32m>\u001b[0m\u001b[32m'\u001b[0m            \u001b[2m               \u001b[0m\n"
      ]
     },
     "metadata": {},
     "output_type": "display_data"
    },
    {
     "data": {
      "text/html": [
       "<pre style=\"white-space:pre;overflow-x:auto;line-height:normal;font-family:Menlo,'DejaVu Sans Mono',consolas,'Courier New',monospace\"><span style=\"color: #7fbfbf; text-decoration-color: #7fbfbf\">[06/22/24 16:08:28] </span><span style=\"color: #000080; text-decoration-color: #000080\">INFO    </span> Registering new custom resolver: <span style=\"color: #008000; text-decoration-color: #008000\">'km.random_name'</span>                    <a href=\"file://C:\\Users\\dggua\\anaconda3\\envs\\test_env\\lib\\site-packages\\kedro_mlflow\\framework\\hooks\\mlflow_hook.py\" target=\"_blank\"><span style=\"color: #7f7f7f; text-decoration-color: #7f7f7f\">mlflow_hook.py</span></a><span style=\"color: #7f7f7f; text-decoration-color: #7f7f7f\">:</span><a href=\"file://C:\\Users\\dggua\\anaconda3\\envs\\test_env\\lib\\site-packages\\kedro_mlflow\\framework\\hooks\\mlflow_hook.py#65\" target=\"_blank\"><span style=\"color: #7f7f7f; text-decoration-color: #7f7f7f\">65</span></a>\n",
       "</pre>\n"
      ],
      "text/plain": [
       "\u001b[2;36m[06/22/24 16:08:28]\u001b[0m\u001b[2;36m \u001b[0m\u001b[34mINFO    \u001b[0m Registering new custom resolver: \u001b[32m'km.random_name'\u001b[0m                    \u001b]8;id=745206;file://C:\\Users\\dggua\\anaconda3\\envs\\test_env\\lib\\site-packages\\kedro_mlflow\\framework\\hooks\\mlflow_hook.py\u001b\\\u001b[2mmlflow_hook.py\u001b[0m\u001b]8;;\u001b\\\u001b[2m:\u001b[0m\u001b]8;id=392269;file://C:\\Users\\dggua\\anaconda3\\envs\\test_env\\lib\\site-packages\\kedro_mlflow\\framework\\hooks\\mlflow_hook.py#65\u001b\\\u001b[2m65\u001b[0m\u001b]8;;\u001b\\\n"
      ]
     },
     "metadata": {},
     "output_type": "display_data"
    },
    {
     "data": {
      "text/html": [
       "<pre style=\"white-space:pre;overflow-x:auto;line-height:normal;font-family:Menlo,'DejaVu Sans Mono',consolas,'Courier New',monospace\"><span style=\"color: #7fbfbf; text-decoration-color: #7fbfbf\">                    </span><span style=\"color: #000080; text-decoration-color: #000080\">INFO    </span> The <span style=\"color: #008000; text-decoration-color: #008000\">'tracking_uri'</span> key in mlflow.yml is relative            <a href=\"file://C:\\Users\\dggua\\anaconda3\\envs\\test_env\\lib\\site-packages\\kedro_mlflow\\config\\kedro_mlflow_config.py\" target=\"_blank\"><span style=\"color: #7f7f7f; text-decoration-color: #7f7f7f\">kedro_mlflow_config.py</span></a><span style=\"color: #7f7f7f; text-decoration-color: #7f7f7f\">:</span><a href=\"file://C:\\Users\\dggua\\anaconda3\\envs\\test_env\\lib\\site-packages\\kedro_mlflow\\config\\kedro_mlflow_config.py#260\" target=\"_blank\"><span style=\"color: #7f7f7f; text-decoration-color: #7f7f7f\">260</span></a>\n",
       "<span style=\"color: #7fbfbf; text-decoration-color: #7fbfbf\">                    </span>         <span style=\"font-weight: bold\">(</span><span style=\"color: #008000; text-decoration-color: #008000\">'server.mlflow_(tracking|registry)_uri = mlruns'</span><span style=\"font-weight: bold\">)</span>. It is   <span style=\"color: #7f7f7f; text-decoration-color: #7f7f7f\">                          </span>\n",
       "<span style=\"color: #7fbfbf; text-decoration-color: #7fbfbf\">                    </span>         converted to a valid uri:                                   <span style=\"color: #7f7f7f; text-decoration-color: #7f7f7f\">                          </span>\n",
       "<span style=\"color: #7fbfbf; text-decoration-color: #7fbfbf\">                    </span>         <span style=\"color: #008000; text-decoration-color: #008000\">'file:///C:/Users/dggua/Downloads/MLOPS/project/MLOPS/proje</span> <span style=\"color: #7f7f7f; text-decoration-color: #7f7f7f\">                          </span>\n",
       "<span style=\"color: #7fbfbf; text-decoration-color: #7fbfbf\">                    </span>         <span style=\"color: #008000; text-decoration-color: #008000\">ct-mlops/mlruns'</span>                                            <span style=\"color: #7f7f7f; text-decoration-color: #7f7f7f\">                          </span>\n",
       "</pre>\n"
      ],
      "text/plain": [
       "\u001b[2;36m                   \u001b[0m\u001b[2;36m \u001b[0m\u001b[34mINFO    \u001b[0m The \u001b[32m'tracking_uri'\u001b[0m key in mlflow.yml is relative            \u001b]8;id=670994;file://C:\\Users\\dggua\\anaconda3\\envs\\test_env\\lib\\site-packages\\kedro_mlflow\\config\\kedro_mlflow_config.py\u001b\\\u001b[2mkedro_mlflow_config.py\u001b[0m\u001b]8;;\u001b\\\u001b[2m:\u001b[0m\u001b]8;id=651240;file://C:\\Users\\dggua\\anaconda3\\envs\\test_env\\lib\\site-packages\\kedro_mlflow\\config\\kedro_mlflow_config.py#260\u001b\\\u001b[2m260\u001b[0m\u001b]8;;\u001b\\\n",
       "\u001b[2;36m                    \u001b[0m         \u001b[1m(\u001b[0m\u001b[32m'server.mlflow_\u001b[0m\u001b[32m(\u001b[0m\u001b[32mtracking|registry\u001b[0m\u001b[32m)\u001b[0m\u001b[32m_uri = mlruns'\u001b[0m\u001b[1m)\u001b[0m. It is   \u001b[2m                          \u001b[0m\n",
       "\u001b[2;36m                    \u001b[0m         converted to a valid uri:                                   \u001b[2m                          \u001b[0m\n",
       "\u001b[2;36m                    \u001b[0m         \u001b[32m'file:///C:/Users/dggua/Downloads/MLOPS/project/MLOPS/proje\u001b[0m \u001b[2m                          \u001b[0m\n",
       "\u001b[2;36m                    \u001b[0m         \u001b[32mct-mlops/mlruns'\u001b[0m                                            \u001b[2m                          \u001b[0m\n"
      ]
     },
     "metadata": {},
     "output_type": "display_data"
    },
    {
     "data": {
      "text/html": [
       "<pre style=\"white-space:pre;overflow-x:auto;line-height:normal;font-family:Menlo,'DejaVu Sans Mono',consolas,'Courier New',monospace\"><span style=\"color: #7fbfbf; text-decoration-color: #7fbfbf\">                    </span><span style=\"color: #000080; text-decoration-color: #000080\">INFO    </span> Kedro project project-mlops                                            <a href=\"file://C:\\Users\\dggua\\anaconda3\\envs\\test_env\\lib\\site-packages\\kedro\\ipython\\__init__.py\" target=\"_blank\"><span style=\"color: #7f7f7f; text-decoration-color: #7f7f7f\">__init__.py</span></a><span style=\"color: #7f7f7f; text-decoration-color: #7f7f7f\">:</span><a href=\"file://C:\\Users\\dggua\\anaconda3\\envs\\test_env\\lib\\site-packages\\kedro\\ipython\\__init__.py#141\" target=\"_blank\"><span style=\"color: #7f7f7f; text-decoration-color: #7f7f7f\">141</span></a>\n",
       "</pre>\n"
      ],
      "text/plain": [
       "\u001b[2;36m                   \u001b[0m\u001b[2;36m \u001b[0m\u001b[34mINFO    \u001b[0m Kedro project project-mlops                                            \u001b]8;id=142495;file://C:\\Users\\dggua\\anaconda3\\envs\\test_env\\lib\\site-packages\\kedro\\ipython\\__init__.py\u001b\\\u001b[2m__init__.py\u001b[0m\u001b]8;;\u001b\\\u001b[2m:\u001b[0m\u001b]8;id=593409;file://C:\\Users\\dggua\\anaconda3\\envs\\test_env\\lib\\site-packages\\kedro\\ipython\\__init__.py#141\u001b\\\u001b[2m141\u001b[0m\u001b]8;;\u001b\\\n"
      ]
     },
     "metadata": {},
     "output_type": "display_data"
    },
    {
     "data": {
      "text/html": [
       "<pre style=\"white-space:pre;overflow-x:auto;line-height:normal;font-family:Menlo,'DejaVu Sans Mono',consolas,'Courier New',monospace\"><span style=\"color: #7fbfbf; text-decoration-color: #7fbfbf\">                    </span><span style=\"color: #000080; text-decoration-color: #000080\">INFO    </span> Defined global variable <span style=\"color: #008000; text-decoration-color: #008000\">'context'</span>, <span style=\"color: #008000; text-decoration-color: #008000\">'session'</span>, <span style=\"color: #008000; text-decoration-color: #008000\">'catalog'</span> and            <a href=\"file://C:\\Users\\dggua\\anaconda3\\envs\\test_env\\lib\\site-packages\\kedro\\ipython\\__init__.py\" target=\"_blank\"><span style=\"color: #7f7f7f; text-decoration-color: #7f7f7f\">__init__.py</span></a><span style=\"color: #7f7f7f; text-decoration-color: #7f7f7f\">:</span><a href=\"file://C:\\Users\\dggua\\anaconda3\\envs\\test_env\\lib\\site-packages\\kedro\\ipython\\__init__.py#142\" target=\"_blank\"><span style=\"color: #7f7f7f; text-decoration-color: #7f7f7f\">142</span></a>\n",
       "<span style=\"color: #7fbfbf; text-decoration-color: #7fbfbf\">                    </span>         <span style=\"color: #008000; text-decoration-color: #008000\">'pipelines'</span>                                                            <span style=\"color: #7f7f7f; text-decoration-color: #7f7f7f\">               </span>\n",
       "</pre>\n"
      ],
      "text/plain": [
       "\u001b[2;36m                   \u001b[0m\u001b[2;36m \u001b[0m\u001b[34mINFO    \u001b[0m Defined global variable \u001b[32m'context'\u001b[0m, \u001b[32m'session'\u001b[0m, \u001b[32m'catalog'\u001b[0m and            \u001b]8;id=77172;file://C:\\Users\\dggua\\anaconda3\\envs\\test_env\\lib\\site-packages\\kedro\\ipython\\__init__.py\u001b\\\u001b[2m__init__.py\u001b[0m\u001b]8;;\u001b\\\u001b[2m:\u001b[0m\u001b]8;id=969073;file://C:\\Users\\dggua\\anaconda3\\envs\\test_env\\lib\\site-packages\\kedro\\ipython\\__init__.py#142\u001b\\\u001b[2m142\u001b[0m\u001b]8;;\u001b\\\n",
       "\u001b[2;36m                    \u001b[0m         \u001b[32m'pipelines'\u001b[0m                                                            \u001b[2m               \u001b[0m\n"
      ]
     },
     "metadata": {},
     "output_type": "display_data"
    },
    {
     "data": {
      "text/html": [
       "<pre style=\"white-space:pre;overflow-x:auto;line-height:normal;font-family:Menlo,'DejaVu Sans Mono',consolas,'Courier New',monospace\"><span style=\"color: #7fbfbf; text-decoration-color: #7fbfbf\">[06/22/24 16:08:30] </span><span style=\"color: #000080; text-decoration-color: #000080\">INFO    </span> Registered line magic <span style=\"color: #008000; text-decoration-color: #008000\">'run_viz'</span>                                        <a href=\"file://C:\\Users\\dggua\\anaconda3\\envs\\test_env\\lib\\site-packages\\kedro\\ipython\\__init__.py\" target=\"_blank\"><span style=\"color: #7f7f7f; text-decoration-color: #7f7f7f\">__init__.py</span></a><span style=\"color: #7f7f7f; text-decoration-color: #7f7f7f\">:</span><a href=\"file://C:\\Users\\dggua\\anaconda3\\envs\\test_env\\lib\\site-packages\\kedro\\ipython\\__init__.py#148\" target=\"_blank\"><span style=\"color: #7f7f7f; text-decoration-color: #7f7f7f\">148</span></a>\n",
       "</pre>\n"
      ],
      "text/plain": [
       "\u001b[2;36m[06/22/24 16:08:30]\u001b[0m\u001b[2;36m \u001b[0m\u001b[34mINFO    \u001b[0m Registered line magic \u001b[32m'run_viz'\u001b[0m                                        \u001b]8;id=426966;file://C:\\Users\\dggua\\anaconda3\\envs\\test_env\\lib\\site-packages\\kedro\\ipython\\__init__.py\u001b\\\u001b[2m__init__.py\u001b[0m\u001b]8;;\u001b\\\u001b[2m:\u001b[0m\u001b]8;id=965753;file://C:\\Users\\dggua\\anaconda3\\envs\\test_env\\lib\\site-packages\\kedro\\ipython\\__init__.py#148\u001b\\\u001b[2m148\u001b[0m\u001b]8;;\u001b\\\n"
      ]
     },
     "metadata": {},
     "output_type": "display_data"
    }
   ],
   "source": [
    "%load_ext kedro.ipython"
   ]
  },
  {
   "cell_type": "code",
   "execution_count": 3,
   "id": "c31387dc-f977-407d-a46c-9f4707477cd6",
   "metadata": {},
   "outputs": [
    {
     "data": {
      "text/html": [
       "<pre style=\"white-space:pre;overflow-x:auto;line-height:normal;font-family:Menlo,'DejaVu Sans Mono',consolas,'Courier New',monospace\"><span style=\"color: #7fbfbf; text-decoration-color: #7fbfbf\">[06/22/24 16:09:24] </span><span style=\"color: #000080; text-decoration-color: #000080\">INFO    </span> Loading data from <span style=\"color: #ff8700; text-decoration-color: #ff8700\">X_train_data</span> <span style=\"font-weight: bold\">(</span>CSVDataset<span style=\"font-weight: bold\">)</span><span style=\"color: #808000; text-decoration-color: #808000\">...</span>                     <a href=\"file://C:\\Users\\dggua\\anaconda3\\envs\\test_env\\lib\\site-packages\\kedro\\io\\data_catalog.py\" target=\"_blank\"><span style=\"color: #7f7f7f; text-decoration-color: #7f7f7f\">data_catalog.py</span></a><span style=\"color: #7f7f7f; text-decoration-color: #7f7f7f\">:</span><a href=\"file://C:\\Users\\dggua\\anaconda3\\envs\\test_env\\lib\\site-packages\\kedro\\io\\data_catalog.py#508\" target=\"_blank\"><span style=\"color: #7f7f7f; text-decoration-color: #7f7f7f\">508</span></a>\n",
       "</pre>\n"
      ],
      "text/plain": [
       "\u001b[2;36m[06/22/24 16:09:24]\u001b[0m\u001b[2;36m \u001b[0m\u001b[34mINFO    \u001b[0m Loading data from \u001b[38;5;208mX_train_data\u001b[0m \u001b[1m(\u001b[0mCSVDataset\u001b[1m)\u001b[0m\u001b[33m...\u001b[0m                     \u001b]8;id=634843;file://C:\\Users\\dggua\\anaconda3\\envs\\test_env\\lib\\site-packages\\kedro\\io\\data_catalog.py\u001b\\\u001b[2mdata_catalog.py\u001b[0m\u001b]8;;\u001b\\\u001b[2m:\u001b[0m\u001b]8;id=995707;file://C:\\Users\\dggua\\anaconda3\\envs\\test_env\\lib\\site-packages\\kedro\\io\\data_catalog.py#508\u001b\\\u001b[2m508\u001b[0m\u001b]8;;\u001b\\\n"
      ]
     },
     "metadata": {},
     "output_type": "display_data"
    },
    {
     "data": {
      "text/html": [
       "<pre style=\"white-space:pre;overflow-x:auto;line-height:normal;font-family:Menlo,'DejaVu Sans Mono',consolas,'Courier New',monospace\"><span style=\"color: #7fbfbf; text-decoration-color: #7fbfbf\">                    </span><span style=\"color: #000080; text-decoration-color: #000080\">INFO    </span> Loading data from <span style=\"color: #ff8700; text-decoration-color: #ff8700\">X_test_data</span> <span style=\"font-weight: bold\">(</span>CSVDataset<span style=\"font-weight: bold\">)</span><span style=\"color: #808000; text-decoration-color: #808000\">...</span>                      <a href=\"file://C:\\Users\\dggua\\anaconda3\\envs\\test_env\\lib\\site-packages\\kedro\\io\\data_catalog.py\" target=\"_blank\"><span style=\"color: #7f7f7f; text-decoration-color: #7f7f7f\">data_catalog.py</span></a><span style=\"color: #7f7f7f; text-decoration-color: #7f7f7f\">:</span><a href=\"file://C:\\Users\\dggua\\anaconda3\\envs\\test_env\\lib\\site-packages\\kedro\\io\\data_catalog.py#508\" target=\"_blank\"><span style=\"color: #7f7f7f; text-decoration-color: #7f7f7f\">508</span></a>\n",
       "</pre>\n"
      ],
      "text/plain": [
       "\u001b[2;36m                   \u001b[0m\u001b[2;36m \u001b[0m\u001b[34mINFO    \u001b[0m Loading data from \u001b[38;5;208mX_test_data\u001b[0m \u001b[1m(\u001b[0mCSVDataset\u001b[1m)\u001b[0m\u001b[33m...\u001b[0m                      \u001b]8;id=372570;file://C:\\Users\\dggua\\anaconda3\\envs\\test_env\\lib\\site-packages\\kedro\\io\\data_catalog.py\u001b\\\u001b[2mdata_catalog.py\u001b[0m\u001b]8;;\u001b\\\u001b[2m:\u001b[0m\u001b]8;id=550551;file://C:\\Users\\dggua\\anaconda3\\envs\\test_env\\lib\\site-packages\\kedro\\io\\data_catalog.py#508\u001b\\\u001b[2m508\u001b[0m\u001b]8;;\u001b\\\n"
      ]
     },
     "metadata": {},
     "output_type": "display_data"
    },
    {
     "data": {
      "text/html": [
       "<pre style=\"white-space:pre;overflow-x:auto;line-height:normal;font-family:Menlo,'DejaVu Sans Mono',consolas,'Courier New',monospace\"><span style=\"color: #7fbfbf; text-decoration-color: #7fbfbf\">                    </span><span style=\"color: #000080; text-decoration-color: #000080\">INFO    </span> Loading data from <span style=\"color: #ff8700; text-decoration-color: #ff8700\">y_train_data</span> <span style=\"font-weight: bold\">(</span>CSVDataset<span style=\"font-weight: bold\">)</span><span style=\"color: #808000; text-decoration-color: #808000\">...</span>                     <a href=\"file://C:\\Users\\dggua\\anaconda3\\envs\\test_env\\lib\\site-packages\\kedro\\io\\data_catalog.py\" target=\"_blank\"><span style=\"color: #7f7f7f; text-decoration-color: #7f7f7f\">data_catalog.py</span></a><span style=\"color: #7f7f7f; text-decoration-color: #7f7f7f\">:</span><a href=\"file://C:\\Users\\dggua\\anaconda3\\envs\\test_env\\lib\\site-packages\\kedro\\io\\data_catalog.py#508\" target=\"_blank\"><span style=\"color: #7f7f7f; text-decoration-color: #7f7f7f\">508</span></a>\n",
       "</pre>\n"
      ],
      "text/plain": [
       "\u001b[2;36m                   \u001b[0m\u001b[2;36m \u001b[0m\u001b[34mINFO    \u001b[0m Loading data from \u001b[38;5;208my_train_data\u001b[0m \u001b[1m(\u001b[0mCSVDataset\u001b[1m)\u001b[0m\u001b[33m...\u001b[0m                     \u001b]8;id=123454;file://C:\\Users\\dggua\\anaconda3\\envs\\test_env\\lib\\site-packages\\kedro\\io\\data_catalog.py\u001b\\\u001b[2mdata_catalog.py\u001b[0m\u001b]8;;\u001b\\\u001b[2m:\u001b[0m\u001b]8;id=922845;file://C:\\Users\\dggua\\anaconda3\\envs\\test_env\\lib\\site-packages\\kedro\\io\\data_catalog.py#508\u001b\\\u001b[2m508\u001b[0m\u001b]8;;\u001b\\\n"
      ]
     },
     "metadata": {},
     "output_type": "display_data"
    },
    {
     "data": {
      "text/html": [
       "<pre style=\"white-space:pre;overflow-x:auto;line-height:normal;font-family:Menlo,'DejaVu Sans Mono',consolas,'Courier New',monospace\"><span style=\"color: #7fbfbf; text-decoration-color: #7fbfbf\">                    </span><span style=\"color: #000080; text-decoration-color: #000080\">INFO    </span> Loading data from <span style=\"color: #ff8700; text-decoration-color: #ff8700\">y_test_data</span> <span style=\"font-weight: bold\">(</span>CSVDataset<span style=\"font-weight: bold\">)</span><span style=\"color: #808000; text-decoration-color: #808000\">...</span>                      <a href=\"file://C:\\Users\\dggua\\anaconda3\\envs\\test_env\\lib\\site-packages\\kedro\\io\\data_catalog.py\" target=\"_blank\"><span style=\"color: #7f7f7f; text-decoration-color: #7f7f7f\">data_catalog.py</span></a><span style=\"color: #7f7f7f; text-decoration-color: #7f7f7f\">:</span><a href=\"file://C:\\Users\\dggua\\anaconda3\\envs\\test_env\\lib\\site-packages\\kedro\\io\\data_catalog.py#508\" target=\"_blank\"><span style=\"color: #7f7f7f; text-decoration-color: #7f7f7f\">508</span></a>\n",
       "</pre>\n"
      ],
      "text/plain": [
       "\u001b[2;36m                   \u001b[0m\u001b[2;36m \u001b[0m\u001b[34mINFO    \u001b[0m Loading data from \u001b[38;5;208my_test_data\u001b[0m \u001b[1m(\u001b[0mCSVDataset\u001b[1m)\u001b[0m\u001b[33m...\u001b[0m                      \u001b]8;id=823621;file://C:\\Users\\dggua\\anaconda3\\envs\\test_env\\lib\\site-packages\\kedro\\io\\data_catalog.py\u001b\\\u001b[2mdata_catalog.py\u001b[0m\u001b]8;;\u001b\\\u001b[2m:\u001b[0m\u001b]8;id=507925;file://C:\\Users\\dggua\\anaconda3\\envs\\test_env\\lib\\site-packages\\kedro\\io\\data_catalog.py#508\u001b\\\u001b[2m508\u001b[0m\u001b]8;;\u001b\\\n"
      ]
     },
     "metadata": {},
     "output_type": "display_data"
    }
   ],
   "source": [
    "X_train = df = catalog.load(\"X_train_data\")\n",
    "X_test = df = catalog.load(\"X_test_data\")\n",
    "y_train = df = catalog.load(\"y_train_data\")\n",
    "y_test = df = catalog.load(\"y_test_data\")"
   ]
  },
  {
   "cell_type": "code",
   "execution_count": 6,
   "id": "b15e2611-f7c1-44be-b720-99b611743d0f",
   "metadata": {},
   "outputs": [],
   "source": [
    "# descrition that will be used as metadata\n",
    "description = \"starting_example\"\n",
    "\n",
    "# Mlflow tracking server\n",
    "mlflow.set_tracking_uri(\"http://127.0.0.1:5000/\")"
   ]
  },
  {
   "cell_type": "code",
   "execution_count": 11,
   "id": "61cc9329-1987-41c7-a221-0ad667f07d7e",
   "metadata": {},
   "outputs": [
    {
     "data": {
      "text/html": [
       "<pre style=\"white-space:pre;overflow-x:auto;line-height:normal;font-family:Menlo,'DejaVu Sans Mono',consolas,'Courier New',monospace\"><span style=\"color: #7fbfbf; text-decoration-color: #7fbfbf\">[06/22/24 16:14:40] </span><span style=\"color: #800000; text-decoration-color: #800000\">WARNING </span> C:\\Users\\dggua\\anaconda3\\envs\\test_env\\lib\\site-packages\\sklearn\\base. <a href=\"file://C:\\Users\\dggua\\anaconda3\\envs\\test_env\\lib\\warnings.py\" target=\"_blank\"><span style=\"color: #7f7f7f; text-decoration-color: #7f7f7f\">warnings.py</span></a><span style=\"color: #7f7f7f; text-decoration-color: #7f7f7f\">:</span><a href=\"file://C:\\Users\\dggua\\anaconda3\\envs\\test_env\\lib\\warnings.py#109\" target=\"_blank\"><span style=\"color: #7f7f7f; text-decoration-color: #7f7f7f\">109</span></a>\n",
       "<span style=\"color: #7fbfbf; text-decoration-color: #7fbfbf\">                    </span>         py:<span style=\"color: #008080; text-decoration-color: #008080; font-weight: bold\">1351</span>: DataConversionWarning: A column-vector y was passed when a 1d <span style=\"color: #7f7f7f; text-decoration-color: #7f7f7f\">               </span>\n",
       "<span style=\"color: #7fbfbf; text-decoration-color: #7fbfbf\">                    </span>         array was expected. Please change the shape of y to <span style=\"font-weight: bold\">(</span>n_samples,<span style=\"font-weight: bold\">)</span>, for  <span style=\"color: #7f7f7f; text-decoration-color: #7f7f7f\">               </span>\n",
       "<span style=\"color: #7fbfbf; text-decoration-color: #7fbfbf\">                    </span>         example using <span style=\"color: #800080; text-decoration-color: #800080; font-weight: bold\">ravel</span><span style=\"font-weight: bold\">()</span>.                                                 <span style=\"color: #7f7f7f; text-decoration-color: #7f7f7f\">               </span>\n",
       "<span style=\"color: #7fbfbf; text-decoration-color: #7fbfbf\">                    </span>           return <span style=\"color: #800080; text-decoration-color: #800080; font-weight: bold\">fit_method</span><span style=\"font-weight: bold\">(</span>estimator, *args, **kwargs<span style=\"font-weight: bold\">)</span>                        <span style=\"color: #7f7f7f; text-decoration-color: #7f7f7f\">               </span>\n",
       "<span style=\"color: #7fbfbf; text-decoration-color: #7fbfbf\">                    </span>                                                                                <span style=\"color: #7f7f7f; text-decoration-color: #7f7f7f\">               </span>\n",
       "</pre>\n"
      ],
      "text/plain": [
       "\u001b[2;36m[06/22/24 16:14:40]\u001b[0m\u001b[2;36m \u001b[0m\u001b[31mWARNING \u001b[0m C:\\Users\\dggua\\anaconda3\\envs\\test_env\\lib\\site-packages\\sklearn\\base. \u001b]8;id=107806;file://C:\\Users\\dggua\\anaconda3\\envs\\test_env\\lib\\warnings.py\u001b\\\u001b[2mwarnings.py\u001b[0m\u001b]8;;\u001b\\\u001b[2m:\u001b[0m\u001b]8;id=387795;file://C:\\Users\\dggua\\anaconda3\\envs\\test_env\\lib\\warnings.py#109\u001b\\\u001b[2m109\u001b[0m\u001b]8;;\u001b\\\n",
       "\u001b[2;36m                    \u001b[0m         py:\u001b[1;36m1351\u001b[0m: DataConversionWarning: A column-vector y was passed when a 1d \u001b[2m               \u001b[0m\n",
       "\u001b[2;36m                    \u001b[0m         array was expected. Please change the shape of y to \u001b[1m(\u001b[0mn_samples,\u001b[1m)\u001b[0m, for  \u001b[2m               \u001b[0m\n",
       "\u001b[2;36m                    \u001b[0m         example using \u001b[1;35mravel\u001b[0m\u001b[1m(\u001b[0m\u001b[1m)\u001b[0m.                                                 \u001b[2m               \u001b[0m\n",
       "\u001b[2;36m                    \u001b[0m           return \u001b[1;35mfit_method\u001b[0m\u001b[1m(\u001b[0mestimator, *args, **kwargs\u001b[1m)\u001b[0m                        \u001b[2m               \u001b[0m\n",
       "\u001b[2;36m                    \u001b[0m                                                                                \u001b[2m               \u001b[0m\n"
      ]
     },
     "metadata": {},
     "output_type": "display_data"
    },
    {
     "name": "stdout",
     "output_type": "stream",
     "text": [
      "1\n"
     ]
    }
   ],
   "source": [
    "with mlflow.start_run(run_name=\"tracking experiment_1\", description=description) as run:\n",
    "    rf = RandomForestRegressor(n_estimators=100, max_depth=6, max_features=3)\n",
    "    \n",
    "    rf.fit(X_train, y_train)\n",
    "    print(\"1\")\n",
    "mlflow.end_run()"
   ]
  },
  {
   "cell_type": "code",
   "execution_count": 12,
   "id": "0aadb463-0b3f-464b-90e5-958635fb8231",
   "metadata": {},
   "outputs": [
    {
     "name": "stderr",
     "output_type": "stream",
     "text": [
      "2024/06/22 16:14:56 INFO mlflow.tracking.fluent: Experiment with name 'mlflow_first_example' does not exist. Creating a new experiment.\n"
     ]
    },
    {
     "data": {
      "text/html": [
       "<pre style=\"white-space:pre;overflow-x:auto;line-height:normal;font-family:Menlo,'DejaVu Sans Mono',consolas,'Courier New',monospace\"></pre>\n"
      ],
      "text/plain": []
     },
     "metadata": {},
     "output_type": "display_data"
    },
    {
     "data": {
      "text/plain": [
       "\u001b[1m<\u001b[0m\u001b[1;95mExperiment:\u001b[0m\u001b[39m \u001b[0m\u001b[33martifact_location\u001b[0m\u001b[39m=\u001b[0m\u001b[32m'mlflow-artifacts:/669815948000371949'\u001b[0m\u001b[39m, \u001b[0m\u001b[33mcreation_time\u001b[0m\u001b[39m=\u001b[0m\u001b[1;36m1719069296361\u001b[0m\u001b[39m, \u001b[0m\u001b[33mexperiment_id\u001b[0m\u001b[39m=\u001b[0m\u001b[32m'669815948000371949'\u001b[0m\u001b[39m, \u001b[0m\u001b[33mlast_update_time\u001b[0m\u001b[39m=\u001b[0m\u001b[1;36m1719069296361\u001b[0m\u001b[39m, \u001b[0m\u001b[33mlifecycle_stage\u001b[0m\u001b[39m=\u001b[0m\u001b[32m'active'\u001b[0m\u001b[39m, \u001b[0m\u001b[33mname\u001b[0m\u001b[39m=\u001b[0m\u001b[32m'mlflow_first_example'\u001b[0m\u001b[39m, \u001b[0m\u001b[33mtags\u001b[0m\u001b[39m=\u001b[0m\u001b[1;39m{\u001b[0m\u001b[1;39m}\u001b[0m\u001b[1m>\u001b[0m"
      ]
     },
     "execution_count": 12,
     "metadata": {},
     "output_type": "execute_result"
    }
   ],
   "source": [
    "mlflow.set_experiment(\"mlflow_first_example\")"
   ]
  },
  {
   "cell_type": "code",
   "execution_count": 13,
   "id": "5cf2d6b3-9d75-46de-8f98-abeba4f8e6f7",
   "metadata": {},
   "outputs": [
    {
     "data": {
      "text/html": [
       "<pre style=\"white-space:pre;overflow-x:auto;line-height:normal;font-family:Menlo,'DejaVu Sans Mono',consolas,'Courier New',monospace\"><span style=\"color: #7fbfbf; text-decoration-color: #7fbfbf\">[06/22/24 16:15:32] </span><span style=\"color: #800000; text-decoration-color: #800000\">WARNING </span> C:\\Users\\dggua\\anaconda3\\envs\\test_env\\lib\\site-packages\\sklearn\\base. <a href=\"file://C:\\Users\\dggua\\anaconda3\\envs\\test_env\\lib\\warnings.py\" target=\"_blank\"><span style=\"color: #7f7f7f; text-decoration-color: #7f7f7f\">warnings.py</span></a><span style=\"color: #7f7f7f; text-decoration-color: #7f7f7f\">:</span><a href=\"file://C:\\Users\\dggua\\anaconda3\\envs\\test_env\\lib\\warnings.py#109\" target=\"_blank\"><span style=\"color: #7f7f7f; text-decoration-color: #7f7f7f\">109</span></a>\n",
       "<span style=\"color: #7fbfbf; text-decoration-color: #7fbfbf\">                    </span>         py:<span style=\"color: #008080; text-decoration-color: #008080; font-weight: bold\">1351</span>: DataConversionWarning: A column-vector y was passed when a 1d <span style=\"color: #7f7f7f; text-decoration-color: #7f7f7f\">               </span>\n",
       "<span style=\"color: #7fbfbf; text-decoration-color: #7fbfbf\">                    </span>         array was expected. Please change the shape of y to <span style=\"font-weight: bold\">(</span>n_samples,<span style=\"font-weight: bold\">)</span>, for  <span style=\"color: #7f7f7f; text-decoration-color: #7f7f7f\">               </span>\n",
       "<span style=\"color: #7fbfbf; text-decoration-color: #7fbfbf\">                    </span>         example using <span style=\"color: #800080; text-decoration-color: #800080; font-weight: bold\">ravel</span><span style=\"font-weight: bold\">()</span>.                                                 <span style=\"color: #7f7f7f; text-decoration-color: #7f7f7f\">               </span>\n",
       "<span style=\"color: #7fbfbf; text-decoration-color: #7fbfbf\">                    </span>           return <span style=\"color: #800080; text-decoration-color: #800080; font-weight: bold\">fit_method</span><span style=\"font-weight: bold\">(</span>estimator, *args, **kwargs<span style=\"font-weight: bold\">)</span>                        <span style=\"color: #7f7f7f; text-decoration-color: #7f7f7f\">               </span>\n",
       "<span style=\"color: #7fbfbf; text-decoration-color: #7fbfbf\">                    </span>                                                                                <span style=\"color: #7f7f7f; text-decoration-color: #7f7f7f\">               </span>\n",
       "</pre>\n"
      ],
      "text/plain": [
       "\u001b[2;36m[06/22/24 16:15:32]\u001b[0m\u001b[2;36m \u001b[0m\u001b[31mWARNING \u001b[0m C:\\Users\\dggua\\anaconda3\\envs\\test_env\\lib\\site-packages\\sklearn\\base. \u001b]8;id=815037;file://C:\\Users\\dggua\\anaconda3\\envs\\test_env\\lib\\warnings.py\u001b\\\u001b[2mwarnings.py\u001b[0m\u001b]8;;\u001b\\\u001b[2m:\u001b[0m\u001b]8;id=725499;file://C:\\Users\\dggua\\anaconda3\\envs\\test_env\\lib\\warnings.py#109\u001b\\\u001b[2m109\u001b[0m\u001b]8;;\u001b\\\n",
       "\u001b[2;36m                    \u001b[0m         py:\u001b[1;36m1351\u001b[0m: DataConversionWarning: A column-vector y was passed when a 1d \u001b[2m               \u001b[0m\n",
       "\u001b[2;36m                    \u001b[0m         array was expected. Please change the shape of y to \u001b[1m(\u001b[0mn_samples,\u001b[1m)\u001b[0m, for  \u001b[2m               \u001b[0m\n",
       "\u001b[2;36m                    \u001b[0m         example using \u001b[1;35mravel\u001b[0m\u001b[1m(\u001b[0m\u001b[1m)\u001b[0m.                                                 \u001b[2m               \u001b[0m\n",
       "\u001b[2;36m                    \u001b[0m           return \u001b[1;35mfit_method\u001b[0m\u001b[1m(\u001b[0mestimator, *args, **kwargs\u001b[1m)\u001b[0m                        \u001b[2m               \u001b[0m\n",
       "\u001b[2;36m                    \u001b[0m                                                                                \u001b[2m               \u001b[0m\n"
      ]
     },
     "metadata": {},
     "output_type": "display_data"
    }
   ],
   "source": [
    "with mlflow.start_run(run_name=\"tracking experiment_2\", description=description) as run:\n",
    "    rf = RandomForestRegressor(n_estimators=100, max_depth=6, max_features=3)\n",
    "    rf.fit(X_train, y_train)\n",
    "mlflow.end_run()"
   ]
  },
  {
   "cell_type": "code",
   "execution_count": 14,
   "id": "efe361cf-2f20-4a94-976f-86c6b4f92e85",
   "metadata": {},
   "outputs": [
    {
     "data": {
      "text/html": [
       "<pre style=\"white-space:pre;overflow-x:auto;line-height:normal;font-family:Menlo,'DejaVu Sans Mono',consolas,'Courier New',monospace\"><span style=\"color: #7fbfbf; text-decoration-color: #7fbfbf\">[06/22/24 16:16:22] </span><span style=\"color: #800000; text-decoration-color: #800000\">WARNING </span> C:\\Users\\dggua\\anaconda3\\envs\\test_env\\lib\\site-packages\\sklearn\\base. <a href=\"file://C:\\Users\\dggua\\anaconda3\\envs\\test_env\\lib\\warnings.py\" target=\"_blank\"><span style=\"color: #7f7f7f; text-decoration-color: #7f7f7f\">warnings.py</span></a><span style=\"color: #7f7f7f; text-decoration-color: #7f7f7f\">:</span><a href=\"file://C:\\Users\\dggua\\anaconda3\\envs\\test_env\\lib\\warnings.py#109\" target=\"_blank\"><span style=\"color: #7f7f7f; text-decoration-color: #7f7f7f\">109</span></a>\n",
       "<span style=\"color: #7fbfbf; text-decoration-color: #7fbfbf\">                    </span>         py:<span style=\"color: #008080; text-decoration-color: #008080; font-weight: bold\">1351</span>: DataConversionWarning: A column-vector y was passed when a 1d <span style=\"color: #7f7f7f; text-decoration-color: #7f7f7f\">               </span>\n",
       "<span style=\"color: #7fbfbf; text-decoration-color: #7fbfbf\">                    </span>         array was expected. Please change the shape of y to <span style=\"font-weight: bold\">(</span>n_samples,<span style=\"font-weight: bold\">)</span>, for  <span style=\"color: #7f7f7f; text-decoration-color: #7f7f7f\">               </span>\n",
       "<span style=\"color: #7fbfbf; text-decoration-color: #7fbfbf\">                    </span>         example using <span style=\"color: #800080; text-decoration-color: #800080; font-weight: bold\">ravel</span><span style=\"font-weight: bold\">()</span>.                                                 <span style=\"color: #7f7f7f; text-decoration-color: #7f7f7f\">               </span>\n",
       "<span style=\"color: #7fbfbf; text-decoration-color: #7fbfbf\">                    </span>           return <span style=\"color: #800080; text-decoration-color: #800080; font-weight: bold\">fit_method</span><span style=\"font-weight: bold\">(</span>estimator, *args, **kwargs<span style=\"font-weight: bold\">)</span>                        <span style=\"color: #7f7f7f; text-decoration-color: #7f7f7f\">               </span>\n",
       "<span style=\"color: #7fbfbf; text-decoration-color: #7fbfbf\">                    </span>                                                                                <span style=\"color: #7f7f7f; text-decoration-color: #7f7f7f\">               </span>\n",
       "</pre>\n"
      ],
      "text/plain": [
       "\u001b[2;36m[06/22/24 16:16:22]\u001b[0m\u001b[2;36m \u001b[0m\u001b[31mWARNING \u001b[0m C:\\Users\\dggua\\anaconda3\\envs\\test_env\\lib\\site-packages\\sklearn\\base. \u001b]8;id=804084;file://C:\\Users\\dggua\\anaconda3\\envs\\test_env\\lib\\warnings.py\u001b\\\u001b[2mwarnings.py\u001b[0m\u001b]8;;\u001b\\\u001b[2m:\u001b[0m\u001b]8;id=226576;file://C:\\Users\\dggua\\anaconda3\\envs\\test_env\\lib\\warnings.py#109\u001b\\\u001b[2m109\u001b[0m\u001b]8;;\u001b\\\n",
       "\u001b[2;36m                    \u001b[0m         py:\u001b[1;36m1351\u001b[0m: DataConversionWarning: A column-vector y was passed when a 1d \u001b[2m               \u001b[0m\n",
       "\u001b[2;36m                    \u001b[0m         array was expected. Please change the shape of y to \u001b[1m(\u001b[0mn_samples,\u001b[1m)\u001b[0m, for  \u001b[2m               \u001b[0m\n",
       "\u001b[2;36m                    \u001b[0m         example using \u001b[1;35mravel\u001b[0m\u001b[1m(\u001b[0m\u001b[1m)\u001b[0m.                                                 \u001b[2m               \u001b[0m\n",
       "\u001b[2;36m                    \u001b[0m           return \u001b[1;35mfit_method\u001b[0m\u001b[1m(\u001b[0mestimator, *args, **kwargs\u001b[1m)\u001b[0m                        \u001b[2m               \u001b[0m\n",
       "\u001b[2;36m                    \u001b[0m                                                                                \u001b[2m               \u001b[0m\n"
      ]
     },
     "metadata": {},
     "output_type": "display_data"
    }
   ],
   "source": [
    "mlflow.set_experiment(\"mlflow_first_example\")\n",
    "\n",
    "with mlflow.start_run(run_name=\"params_artifacts_logged\") as run:\n",
    "\n",
    "    params = {\"n_estimators\":100, \"max_depth\":6, \"max_features\":3}\n",
    "\n",
    "    rf = RandomForestRegressor(**params)\n",
    "    rf.fit(X_train, y_train)\n",
    "    y_pred = rf.predict(X_test)\n",
    "\n",
    "    \n",
    "    #metrics\n",
    "    explained_variance = explained_variance_score(y_test, y_pred)\n",
    "    mse = mean_squared_error(y_test, y_pred)\n",
    "    \n",
    "    #log the relevant objects\n",
    "    mlflow.log_params(params)\n",
    "    mlflow.log_param(\"test\", \"test\")\n",
    "    mlflow.log_metric(\"explained_variance\", explained_variance)\n",
    "    mlflow.log_metric(\"mse\", mse)\n",
    "    mlflow.set_tag(\"tag\", \"logged run\")\n",
    "    \n",
    "    # save the model as an artifact\n",
    "    mlflow.sklearn.log_model(\n",
    "    sk_model=rf,\n",
    "    artifact_path=\"random_forest_regressor\")\n",
    "    \n",
    "mlflow.end_run()"
   ]
  },
  {
   "cell_type": "code",
   "execution_count": 15,
   "id": "c5592537-215d-40f8-8215-c01282f977a8",
   "metadata": {},
   "outputs": [
    {
     "name": "stderr",
     "output_type": "stream",
     "text": [
      "2024/06/22 16:17:20 WARNING mlflow.utils.autologging_utils: MLflow autologging encountered a warning: \"C:\\Users\\dggua\\anaconda3\\envs\\test_env\\lib\\site-packages\\_distutils_hack\\__init__.py:18: UserWarning: Distutils was imported before Setuptools, but importing Setuptools also replaces the `distutils` module in `sys.modules`. This may lead to undesirable behaviors or errors. To avoid these issues, avoid using distutils directly, ensure that setuptools is installed in the traditional way (e.g. not an editable install), and/or make sure that setuptools is always imported before distutils.\"\n",
      "2024/06/22 16:17:20 WARNING mlflow.utils.autologging_utils: MLflow autologging encountered a warning: \"C:\\Users\\dggua\\anaconda3\\envs\\test_env\\lib\\site-packages\\_distutils_hack\\__init__.py:33: UserWarning: Setuptools is replacing distutils.\"\n",
      "2024/06/22 16:17:20 WARNING mlflow.tracking.fluent: Exception raised while enabling autologging for sklearn: C:\\Users\\dggua\\anaconda3\\envs\\test_env\\lib\\distutils\\core.py\n",
      "2024/06/22 16:17:20 WARNING mlflow.spark: With Pyspark >= 3.2, PYSPARK_PIN_THREAD environment variable must be set to false for Spark datasource autologging to work.\n",
      "2024/06/22 16:17:20 INFO mlflow.tracking.fluent: Autologging successfully enabled for pyspark.\n"
     ]
    },
    {
     "data": {
      "text/html": [
       "<pre style=\"white-space:pre;overflow-x:auto;line-height:normal;font-family:Menlo,'DejaVu Sans Mono',consolas,'Courier New',monospace\"><span style=\"color: #7fbfbf; text-decoration-color: #7fbfbf\">[06/22/24 16:17:20] </span><span style=\"color: #800000; text-decoration-color: #800000\">WARNING </span> C:\\Users\\dggua\\anaconda3\\envs\\test_env\\lib\\site-packages\\sklearn\\base. <a href=\"file://C:\\Users\\dggua\\anaconda3\\envs\\test_env\\lib\\warnings.py\" target=\"_blank\"><span style=\"color: #7f7f7f; text-decoration-color: #7f7f7f\">warnings.py</span></a><span style=\"color: #7f7f7f; text-decoration-color: #7f7f7f\">:</span><a href=\"file://C:\\Users\\dggua\\anaconda3\\envs\\test_env\\lib\\warnings.py#109\" target=\"_blank\"><span style=\"color: #7f7f7f; text-decoration-color: #7f7f7f\">109</span></a>\n",
       "<span style=\"color: #7fbfbf; text-decoration-color: #7fbfbf\">                    </span>         py:<span style=\"color: #008080; text-decoration-color: #008080; font-weight: bold\">1351</span>: DataConversionWarning: A column-vector y was passed when a 1d <span style=\"color: #7f7f7f; text-decoration-color: #7f7f7f\">               </span>\n",
       "<span style=\"color: #7fbfbf; text-decoration-color: #7fbfbf\">                    </span>         array was expected. Please change the shape of y to <span style=\"font-weight: bold\">(</span>n_samples,<span style=\"font-weight: bold\">)</span>, for  <span style=\"color: #7f7f7f; text-decoration-color: #7f7f7f\">               </span>\n",
       "<span style=\"color: #7fbfbf; text-decoration-color: #7fbfbf\">                    </span>         example using <span style=\"color: #800080; text-decoration-color: #800080; font-weight: bold\">ravel</span><span style=\"font-weight: bold\">()</span>.                                                 <span style=\"color: #7f7f7f; text-decoration-color: #7f7f7f\">               </span>\n",
       "<span style=\"color: #7fbfbf; text-decoration-color: #7fbfbf\">                    </span>           return <span style=\"color: #800080; text-decoration-color: #800080; font-weight: bold\">fit_method</span><span style=\"font-weight: bold\">(</span>estimator, *args, **kwargs<span style=\"font-weight: bold\">)</span>                        <span style=\"color: #7f7f7f; text-decoration-color: #7f7f7f\">               </span>\n",
       "<span style=\"color: #7fbfbf; text-decoration-color: #7fbfbf\">                    </span>                                                                                <span style=\"color: #7f7f7f; text-decoration-color: #7f7f7f\">               </span>\n",
       "</pre>\n"
      ],
      "text/plain": [
       "\u001b[2;36m[06/22/24 16:17:20]\u001b[0m\u001b[2;36m \u001b[0m\u001b[31mWARNING \u001b[0m C:\\Users\\dggua\\anaconda3\\envs\\test_env\\lib\\site-packages\\sklearn\\base. \u001b]8;id=416298;file://C:\\Users\\dggua\\anaconda3\\envs\\test_env\\lib\\warnings.py\u001b\\\u001b[2mwarnings.py\u001b[0m\u001b]8;;\u001b\\\u001b[2m:\u001b[0m\u001b]8;id=547633;file://C:\\Users\\dggua\\anaconda3\\envs\\test_env\\lib\\warnings.py#109\u001b\\\u001b[2m109\u001b[0m\u001b]8;;\u001b\\\n",
       "\u001b[2;36m                    \u001b[0m         py:\u001b[1;36m1351\u001b[0m: DataConversionWarning: A column-vector y was passed when a 1d \u001b[2m               \u001b[0m\n",
       "\u001b[2;36m                    \u001b[0m         array was expected. Please change the shape of y to \u001b[1m(\u001b[0mn_samples,\u001b[1m)\u001b[0m, for  \u001b[2m               \u001b[0m\n",
       "\u001b[2;36m                    \u001b[0m         example using \u001b[1;35mravel\u001b[0m\u001b[1m(\u001b[0m\u001b[1m)\u001b[0m.                                                 \u001b[2m               \u001b[0m\n",
       "\u001b[2;36m                    \u001b[0m           return \u001b[1;35mfit_method\u001b[0m\u001b[1m(\u001b[0mestimator, *args, **kwargs\u001b[1m)\u001b[0m                        \u001b[2m               \u001b[0m\n",
       "\u001b[2;36m                    \u001b[0m                                                                                \u001b[2m               \u001b[0m\n"
      ]
     },
     "metadata": {},
     "output_type": "display_data"
    }
   ],
   "source": [
    "# use autolog\n",
    "mlflow.autolog(log_model_signatures=False, log_input_examples=False)\n",
    "\n",
    "with mlflow.start_run(run_name=\"run_2\") as run:\n",
    "    rf = RandomForestRegressor(n_estimators=100, max_depth=6, max_features=3)\n",
    "    rf.fit(X_train, y_train)\n",
    "mlflow.end_run()  "
   ]
  },
  {
   "cell_type": "code",
   "execution_count": 16,
   "id": "3f8163b4-e739-4bea-b5cc-661c2ca72fab",
   "metadata": {},
   "outputs": [
    {
     "name": "stderr",
     "output_type": "stream",
     "text": [
      "2024/06/22 16:17:47 INFO mlflow.tracking.fluent: Experiment with name 'mlflow_parameters_search' does not exist. Creating a new experiment.\n"
     ]
    },
    {
     "data": {
      "text/html": [
       "<pre style=\"white-space:pre;overflow-x:auto;line-height:normal;font-family:Menlo,'DejaVu Sans Mono',consolas,'Courier New',monospace\"></pre>\n"
      ],
      "text/plain": []
     },
     "metadata": {},
     "output_type": "display_data"
    },
    {
     "data": {
      "text/plain": [
       "\u001b[1m<\u001b[0m\u001b[1;95mExperiment:\u001b[0m\u001b[39m \u001b[0m\u001b[33martifact_location\u001b[0m\u001b[39m=\u001b[0m\u001b[32m'mlflow-artifacts:/861406686854474306'\u001b[0m\u001b[39m, \u001b[0m\u001b[33mcreation_time\u001b[0m\u001b[39m=\u001b[0m\u001b[1;36m1719069467355\u001b[0m\u001b[39m, \u001b[0m\u001b[33mexperiment_id\u001b[0m\u001b[39m=\u001b[0m\u001b[32m'861406686854474306'\u001b[0m\u001b[39m, \u001b[0m\u001b[33mlast_update_time\u001b[0m\u001b[39m=\u001b[0m\u001b[1;36m1719069467355\u001b[0m\u001b[39m, \u001b[0m\u001b[33mlifecycle_stage\u001b[0m\u001b[39m=\u001b[0m\u001b[32m'active'\u001b[0m\u001b[39m, \u001b[0m\u001b[33mname\u001b[0m\u001b[39m=\u001b[0m\u001b[32m'mlflow_parameters_search'\u001b[0m\u001b[39m, \u001b[0m\u001b[33mtags\u001b[0m\u001b[39m=\u001b[0m\u001b[1;39m{\u001b[0m\u001b[1;39m}\u001b[0m\u001b[1m>\u001b[0m"
      ]
     },
     "execution_count": 16,
     "metadata": {},
     "output_type": "execute_result"
    }
   ],
   "source": [
    "mlflow.set_experiment(\"mlflow_parameters_search\")"
   ]
  },
  {
   "cell_type": "code",
   "execution_count": 17,
   "id": "723885dc-283b-4e10-97bf-befc38f43125",
   "metadata": {},
   "outputs": [
    {
     "name": "stderr",
     "output_type": "stream",
     "text": [
      "2024/06/22 16:18:01 WARNING mlflow.spark: With Pyspark >= 3.2, PYSPARK_PIN_THREAD environment variable must be set to false for Spark datasource autologging to work.\n",
      "2024/06/22 16:18:01 INFO mlflow.tracking.fluent: Autologging successfully enabled for pyspark.\n"
     ]
    },
    {
     "data": {
      "text/html": [
       "<pre style=\"white-space:pre;overflow-x:auto;line-height:normal;font-family:Menlo,'DejaVu Sans Mono',consolas,'Courier New',monospace\"><span style=\"color: #7fbfbf; text-decoration-color: #7fbfbf\">[06/22/24 16:18:01] </span><span style=\"color: #800000; text-decoration-color: #800000\">WARNING </span> C:\\Users\\dggua\\anaconda3\\envs\\test_env\\lib\\site-packages\\sklearn\\base. <a href=\"file://C:\\Users\\dggua\\anaconda3\\envs\\test_env\\lib\\warnings.py\" target=\"_blank\"><span style=\"color: #7f7f7f; text-decoration-color: #7f7f7f\">warnings.py</span></a><span style=\"color: #7f7f7f; text-decoration-color: #7f7f7f\">:</span><a href=\"file://C:\\Users\\dggua\\anaconda3\\envs\\test_env\\lib\\warnings.py#109\" target=\"_blank\"><span style=\"color: #7f7f7f; text-decoration-color: #7f7f7f\">109</span></a>\n",
       "<span style=\"color: #7fbfbf; text-decoration-color: #7fbfbf\">                    </span>         py:<span style=\"color: #008080; text-decoration-color: #008080; font-weight: bold\">1351</span>: DataConversionWarning: A column-vector y was passed when a 1d <span style=\"color: #7f7f7f; text-decoration-color: #7f7f7f\">               </span>\n",
       "<span style=\"color: #7fbfbf; text-decoration-color: #7fbfbf\">                    </span>         array was expected. Please change the shape of y to <span style=\"font-weight: bold\">(</span>n_samples,<span style=\"font-weight: bold\">)</span>, for  <span style=\"color: #7f7f7f; text-decoration-color: #7f7f7f\">               </span>\n",
       "<span style=\"color: #7fbfbf; text-decoration-color: #7fbfbf\">                    </span>         example using <span style=\"color: #800080; text-decoration-color: #800080; font-weight: bold\">ravel</span><span style=\"font-weight: bold\">()</span>.                                                 <span style=\"color: #7f7f7f; text-decoration-color: #7f7f7f\">               </span>\n",
       "<span style=\"color: #7fbfbf; text-decoration-color: #7fbfbf\">                    </span>           return <span style=\"color: #800080; text-decoration-color: #800080; font-weight: bold\">fit_method</span><span style=\"font-weight: bold\">(</span>estimator, *args, **kwargs<span style=\"font-weight: bold\">)</span>                        <span style=\"color: #7f7f7f; text-decoration-color: #7f7f7f\">               </span>\n",
       "<span style=\"color: #7fbfbf; text-decoration-color: #7fbfbf\">                    </span>                                                                                <span style=\"color: #7f7f7f; text-decoration-color: #7f7f7f\">               </span>\n",
       "</pre>\n"
      ],
      "text/plain": [
       "\u001b[2;36m[06/22/24 16:18:01]\u001b[0m\u001b[2;36m \u001b[0m\u001b[31mWARNING \u001b[0m C:\\Users\\dggua\\anaconda3\\envs\\test_env\\lib\\site-packages\\sklearn\\base. \u001b]8;id=65627;file://C:\\Users\\dggua\\anaconda3\\envs\\test_env\\lib\\warnings.py\u001b\\\u001b[2mwarnings.py\u001b[0m\u001b]8;;\u001b\\\u001b[2m:\u001b[0m\u001b]8;id=34776;file://C:\\Users\\dggua\\anaconda3\\envs\\test_env\\lib\\warnings.py#109\u001b\\\u001b[2m109\u001b[0m\u001b]8;;\u001b\\\n",
       "\u001b[2;36m                    \u001b[0m         py:\u001b[1;36m1351\u001b[0m: DataConversionWarning: A column-vector y was passed when a 1d \u001b[2m               \u001b[0m\n",
       "\u001b[2;36m                    \u001b[0m         array was expected. Please change the shape of y to \u001b[1m(\u001b[0mn_samples,\u001b[1m)\u001b[0m, for  \u001b[2m               \u001b[0m\n",
       "\u001b[2;36m                    \u001b[0m         example using \u001b[1;35mravel\u001b[0m\u001b[1m(\u001b[0m\u001b[1m)\u001b[0m.                                                 \u001b[2m               \u001b[0m\n",
       "\u001b[2;36m                    \u001b[0m           return \u001b[1;35mfit_method\u001b[0m\u001b[1m(\u001b[0mestimator, *args, **kwargs\u001b[1m)\u001b[0m                        \u001b[2m               \u001b[0m\n",
       "\u001b[2;36m                    \u001b[0m                                                                                \u001b[2m               \u001b[0m\n"
      ]
     },
     "metadata": {},
     "output_type": "display_data"
    },
    {
     "data": {
      "text/html": [
       "<pre style=\"white-space:pre;overflow-x:auto;line-height:normal;font-family:Menlo,'DejaVu Sans Mono',consolas,'Courier New',monospace\"><span style=\"color: #7fbfbf; text-decoration-color: #7fbfbf\">                    </span><span style=\"color: #800000; text-decoration-color: #800000\">WARNING </span> C:\\Users\\dggua\\anaconda3\\envs\\test_env\\lib\\site-packages\\sklearn\\base. <a href=\"file://C:\\Users\\dggua\\anaconda3\\envs\\test_env\\lib\\warnings.py\" target=\"_blank\"><span style=\"color: #7f7f7f; text-decoration-color: #7f7f7f\">warnings.py</span></a><span style=\"color: #7f7f7f; text-decoration-color: #7f7f7f\">:</span><a href=\"file://C:\\Users\\dggua\\anaconda3\\envs\\test_env\\lib\\warnings.py#109\" target=\"_blank\"><span style=\"color: #7f7f7f; text-decoration-color: #7f7f7f\">109</span></a>\n",
       "<span style=\"color: #7fbfbf; text-decoration-color: #7fbfbf\">                    </span>         py:<span style=\"color: #008080; text-decoration-color: #008080; font-weight: bold\">1351</span>: DataConversionWarning: A column-vector y was passed when a 1d <span style=\"color: #7f7f7f; text-decoration-color: #7f7f7f\">               </span>\n",
       "<span style=\"color: #7fbfbf; text-decoration-color: #7fbfbf\">                    </span>         array was expected. Please change the shape of y to <span style=\"font-weight: bold\">(</span>n_samples,<span style=\"font-weight: bold\">)</span>, for  <span style=\"color: #7f7f7f; text-decoration-color: #7f7f7f\">               </span>\n",
       "<span style=\"color: #7fbfbf; text-decoration-color: #7fbfbf\">                    </span>         example using <span style=\"color: #800080; text-decoration-color: #800080; font-weight: bold\">ravel</span><span style=\"font-weight: bold\">()</span>.                                                 <span style=\"color: #7f7f7f; text-decoration-color: #7f7f7f\">               </span>\n",
       "<span style=\"color: #7fbfbf; text-decoration-color: #7fbfbf\">                    </span>           return <span style=\"color: #800080; text-decoration-color: #800080; font-weight: bold\">fit_method</span><span style=\"font-weight: bold\">(</span>estimator, *args, **kwargs<span style=\"font-weight: bold\">)</span>                        <span style=\"color: #7f7f7f; text-decoration-color: #7f7f7f\">               </span>\n",
       "<span style=\"color: #7fbfbf; text-decoration-color: #7fbfbf\">                    </span>                                                                                <span style=\"color: #7f7f7f; text-decoration-color: #7f7f7f\">               </span>\n",
       "</pre>\n"
      ],
      "text/plain": [
       "\u001b[2;36m                   \u001b[0m\u001b[2;36m \u001b[0m\u001b[31mWARNING \u001b[0m C:\\Users\\dggua\\anaconda3\\envs\\test_env\\lib\\site-packages\\sklearn\\base. \u001b]8;id=197185;file://C:\\Users\\dggua\\anaconda3\\envs\\test_env\\lib\\warnings.py\u001b\\\u001b[2mwarnings.py\u001b[0m\u001b]8;;\u001b\\\u001b[2m:\u001b[0m\u001b]8;id=567867;file://C:\\Users\\dggua\\anaconda3\\envs\\test_env\\lib\\warnings.py#109\u001b\\\u001b[2m109\u001b[0m\u001b]8;;\u001b\\\n",
       "\u001b[2;36m                    \u001b[0m         py:\u001b[1;36m1351\u001b[0m: DataConversionWarning: A column-vector y was passed when a 1d \u001b[2m               \u001b[0m\n",
       "\u001b[2;36m                    \u001b[0m         array was expected. Please change the shape of y to \u001b[1m(\u001b[0mn_samples,\u001b[1m)\u001b[0m, for  \u001b[2m               \u001b[0m\n",
       "\u001b[2;36m                    \u001b[0m         example using \u001b[1;35mravel\u001b[0m\u001b[1m(\u001b[0m\u001b[1m)\u001b[0m.                                                 \u001b[2m               \u001b[0m\n",
       "\u001b[2;36m                    \u001b[0m           return \u001b[1;35mfit_method\u001b[0m\u001b[1m(\u001b[0mestimator, *args, **kwargs\u001b[1m)\u001b[0m                        \u001b[2m               \u001b[0m\n",
       "\u001b[2;36m                    \u001b[0m                                                                                \u001b[2m               \u001b[0m\n"
      ]
     },
     "metadata": {},
     "output_type": "display_data"
    },
    {
     "data": {
      "text/html": [
       "<pre style=\"white-space:pre;overflow-x:auto;line-height:normal;font-family:Menlo,'DejaVu Sans Mono',consolas,'Courier New',monospace\"><span style=\"color: #7fbfbf; text-decoration-color: #7fbfbf\">                    </span><span style=\"color: #800000; text-decoration-color: #800000\">WARNING </span> C:\\Users\\dggua\\anaconda3\\envs\\test_env\\lib\\site-packages\\sklearn\\base. <a href=\"file://C:\\Users\\dggua\\anaconda3\\envs\\test_env\\lib\\warnings.py\" target=\"_blank\"><span style=\"color: #7f7f7f; text-decoration-color: #7f7f7f\">warnings.py</span></a><span style=\"color: #7f7f7f; text-decoration-color: #7f7f7f\">:</span><a href=\"file://C:\\Users\\dggua\\anaconda3\\envs\\test_env\\lib\\warnings.py#109\" target=\"_blank\"><span style=\"color: #7f7f7f; text-decoration-color: #7f7f7f\">109</span></a>\n",
       "<span style=\"color: #7fbfbf; text-decoration-color: #7fbfbf\">                    </span>         py:<span style=\"color: #008080; text-decoration-color: #008080; font-weight: bold\">1351</span>: DataConversionWarning: A column-vector y was passed when a 1d <span style=\"color: #7f7f7f; text-decoration-color: #7f7f7f\">               </span>\n",
       "<span style=\"color: #7fbfbf; text-decoration-color: #7fbfbf\">                    </span>         array was expected. Please change the shape of y to <span style=\"font-weight: bold\">(</span>n_samples,<span style=\"font-weight: bold\">)</span>, for  <span style=\"color: #7f7f7f; text-decoration-color: #7f7f7f\">               </span>\n",
       "<span style=\"color: #7fbfbf; text-decoration-color: #7fbfbf\">                    </span>         example using <span style=\"color: #800080; text-decoration-color: #800080; font-weight: bold\">ravel</span><span style=\"font-weight: bold\">()</span>.                                                 <span style=\"color: #7f7f7f; text-decoration-color: #7f7f7f\">               </span>\n",
       "<span style=\"color: #7fbfbf; text-decoration-color: #7fbfbf\">                    </span>           return <span style=\"color: #800080; text-decoration-color: #800080; font-weight: bold\">fit_method</span><span style=\"font-weight: bold\">(</span>estimator, *args, **kwargs<span style=\"font-weight: bold\">)</span>                        <span style=\"color: #7f7f7f; text-decoration-color: #7f7f7f\">               </span>\n",
       "<span style=\"color: #7fbfbf; text-decoration-color: #7fbfbf\">                    </span>                                                                                <span style=\"color: #7f7f7f; text-decoration-color: #7f7f7f\">               </span>\n",
       "</pre>\n"
      ],
      "text/plain": [
       "\u001b[2;36m                   \u001b[0m\u001b[2;36m \u001b[0m\u001b[31mWARNING \u001b[0m C:\\Users\\dggua\\anaconda3\\envs\\test_env\\lib\\site-packages\\sklearn\\base. \u001b]8;id=526612;file://C:\\Users\\dggua\\anaconda3\\envs\\test_env\\lib\\warnings.py\u001b\\\u001b[2mwarnings.py\u001b[0m\u001b]8;;\u001b\\\u001b[2m:\u001b[0m\u001b]8;id=148080;file://C:\\Users\\dggua\\anaconda3\\envs\\test_env\\lib\\warnings.py#109\u001b\\\u001b[2m109\u001b[0m\u001b]8;;\u001b\\\n",
       "\u001b[2;36m                    \u001b[0m         py:\u001b[1;36m1351\u001b[0m: DataConversionWarning: A column-vector y was passed when a 1d \u001b[2m               \u001b[0m\n",
       "\u001b[2;36m                    \u001b[0m         array was expected. Please change the shape of y to \u001b[1m(\u001b[0mn_samples,\u001b[1m)\u001b[0m, for  \u001b[2m               \u001b[0m\n",
       "\u001b[2;36m                    \u001b[0m         example using \u001b[1;35mravel\u001b[0m\u001b[1m(\u001b[0m\u001b[1m)\u001b[0m.                                                 \u001b[2m               \u001b[0m\n",
       "\u001b[2;36m                    \u001b[0m           return \u001b[1;35mfit_method\u001b[0m\u001b[1m(\u001b[0mestimator, *args, **kwargs\u001b[1m)\u001b[0m                        \u001b[2m               \u001b[0m\n",
       "\u001b[2;36m                    \u001b[0m                                                                                \u001b[2m               \u001b[0m\n"
      ]
     },
     "metadata": {},
     "output_type": "display_data"
    },
    {
     "data": {
      "text/html": [
       "<pre style=\"white-space:pre;overflow-x:auto;line-height:normal;font-family:Menlo,'DejaVu Sans Mono',consolas,'Courier New',monospace\"><span style=\"color: #7fbfbf; text-decoration-color: #7fbfbf\">                    </span><span style=\"color: #800000; text-decoration-color: #800000\">WARNING </span> C:\\Users\\dggua\\anaconda3\\envs\\test_env\\lib\\site-packages\\sklearn\\base. <a href=\"file://C:\\Users\\dggua\\anaconda3\\envs\\test_env\\lib\\warnings.py\" target=\"_blank\"><span style=\"color: #7f7f7f; text-decoration-color: #7f7f7f\">warnings.py</span></a><span style=\"color: #7f7f7f; text-decoration-color: #7f7f7f\">:</span><a href=\"file://C:\\Users\\dggua\\anaconda3\\envs\\test_env\\lib\\warnings.py#109\" target=\"_blank\"><span style=\"color: #7f7f7f; text-decoration-color: #7f7f7f\">109</span></a>\n",
       "<span style=\"color: #7fbfbf; text-decoration-color: #7fbfbf\">                    </span>         py:<span style=\"color: #008080; text-decoration-color: #008080; font-weight: bold\">1351</span>: DataConversionWarning: A column-vector y was passed when a 1d <span style=\"color: #7f7f7f; text-decoration-color: #7f7f7f\">               </span>\n",
       "<span style=\"color: #7fbfbf; text-decoration-color: #7fbfbf\">                    </span>         array was expected. Please change the shape of y to <span style=\"font-weight: bold\">(</span>n_samples,<span style=\"font-weight: bold\">)</span>, for  <span style=\"color: #7f7f7f; text-decoration-color: #7f7f7f\">               </span>\n",
       "<span style=\"color: #7fbfbf; text-decoration-color: #7fbfbf\">                    </span>         example using <span style=\"color: #800080; text-decoration-color: #800080; font-weight: bold\">ravel</span><span style=\"font-weight: bold\">()</span>.                                                 <span style=\"color: #7f7f7f; text-decoration-color: #7f7f7f\">               </span>\n",
       "<span style=\"color: #7fbfbf; text-decoration-color: #7fbfbf\">                    </span>           return <span style=\"color: #800080; text-decoration-color: #800080; font-weight: bold\">fit_method</span><span style=\"font-weight: bold\">(</span>estimator, *args, **kwargs<span style=\"font-weight: bold\">)</span>                        <span style=\"color: #7f7f7f; text-decoration-color: #7f7f7f\">               </span>\n",
       "<span style=\"color: #7fbfbf; text-decoration-color: #7fbfbf\">                    </span>                                                                                <span style=\"color: #7f7f7f; text-decoration-color: #7f7f7f\">               </span>\n",
       "</pre>\n"
      ],
      "text/plain": [
       "\u001b[2;36m                   \u001b[0m\u001b[2;36m \u001b[0m\u001b[31mWARNING \u001b[0m C:\\Users\\dggua\\anaconda3\\envs\\test_env\\lib\\site-packages\\sklearn\\base. \u001b]8;id=155522;file://C:\\Users\\dggua\\anaconda3\\envs\\test_env\\lib\\warnings.py\u001b\\\u001b[2mwarnings.py\u001b[0m\u001b]8;;\u001b\\\u001b[2m:\u001b[0m\u001b]8;id=823133;file://C:\\Users\\dggua\\anaconda3\\envs\\test_env\\lib\\warnings.py#109\u001b\\\u001b[2m109\u001b[0m\u001b]8;;\u001b\\\n",
       "\u001b[2;36m                    \u001b[0m         py:\u001b[1;36m1351\u001b[0m: DataConversionWarning: A column-vector y was passed when a 1d \u001b[2m               \u001b[0m\n",
       "\u001b[2;36m                    \u001b[0m         array was expected. Please change the shape of y to \u001b[1m(\u001b[0mn_samples,\u001b[1m)\u001b[0m, for  \u001b[2m               \u001b[0m\n",
       "\u001b[2;36m                    \u001b[0m         example using \u001b[1;35mravel\u001b[0m\u001b[1m(\u001b[0m\u001b[1m)\u001b[0m.                                                 \u001b[2m               \u001b[0m\n",
       "\u001b[2;36m                    \u001b[0m           return \u001b[1;35mfit_method\u001b[0m\u001b[1m(\u001b[0mestimator, *args, **kwargs\u001b[1m)\u001b[0m                        \u001b[2m               \u001b[0m\n",
       "\u001b[2;36m                    \u001b[0m                                                                                \u001b[2m               \u001b[0m\n"
      ]
     },
     "metadata": {},
     "output_type": "display_data"
    },
    {
     "data": {
      "text/html": [
       "<pre style=\"white-space:pre;overflow-x:auto;line-height:normal;font-family:Menlo,'DejaVu Sans Mono',consolas,'Courier New',monospace\"><span style=\"color: #7fbfbf; text-decoration-color: #7fbfbf\">                    </span><span style=\"color: #800000; text-decoration-color: #800000\">WARNING </span> C:\\Users\\dggua\\anaconda3\\envs\\test_env\\lib\\site-packages\\sklearn\\base. <a href=\"file://C:\\Users\\dggua\\anaconda3\\envs\\test_env\\lib\\warnings.py\" target=\"_blank\"><span style=\"color: #7f7f7f; text-decoration-color: #7f7f7f\">warnings.py</span></a><span style=\"color: #7f7f7f; text-decoration-color: #7f7f7f\">:</span><a href=\"file://C:\\Users\\dggua\\anaconda3\\envs\\test_env\\lib\\warnings.py#109\" target=\"_blank\"><span style=\"color: #7f7f7f; text-decoration-color: #7f7f7f\">109</span></a>\n",
       "<span style=\"color: #7fbfbf; text-decoration-color: #7fbfbf\">                    </span>         py:<span style=\"color: #008080; text-decoration-color: #008080; font-weight: bold\">1351</span>: DataConversionWarning: A column-vector y was passed when a 1d <span style=\"color: #7f7f7f; text-decoration-color: #7f7f7f\">               </span>\n",
       "<span style=\"color: #7fbfbf; text-decoration-color: #7fbfbf\">                    </span>         array was expected. Please change the shape of y to <span style=\"font-weight: bold\">(</span>n_samples,<span style=\"font-weight: bold\">)</span>, for  <span style=\"color: #7f7f7f; text-decoration-color: #7f7f7f\">               </span>\n",
       "<span style=\"color: #7fbfbf; text-decoration-color: #7fbfbf\">                    </span>         example using <span style=\"color: #800080; text-decoration-color: #800080; font-weight: bold\">ravel</span><span style=\"font-weight: bold\">()</span>.                                                 <span style=\"color: #7f7f7f; text-decoration-color: #7f7f7f\">               </span>\n",
       "<span style=\"color: #7fbfbf; text-decoration-color: #7fbfbf\">                    </span>           return <span style=\"color: #800080; text-decoration-color: #800080; font-weight: bold\">fit_method</span><span style=\"font-weight: bold\">(</span>estimator, *args, **kwargs<span style=\"font-weight: bold\">)</span>                        <span style=\"color: #7f7f7f; text-decoration-color: #7f7f7f\">               </span>\n",
       "<span style=\"color: #7fbfbf; text-decoration-color: #7fbfbf\">                    </span>                                                                                <span style=\"color: #7f7f7f; text-decoration-color: #7f7f7f\">               </span>\n",
       "</pre>\n"
      ],
      "text/plain": [
       "\u001b[2;36m                   \u001b[0m\u001b[2;36m \u001b[0m\u001b[31mWARNING \u001b[0m C:\\Users\\dggua\\anaconda3\\envs\\test_env\\lib\\site-packages\\sklearn\\base. \u001b]8;id=991711;file://C:\\Users\\dggua\\anaconda3\\envs\\test_env\\lib\\warnings.py\u001b\\\u001b[2mwarnings.py\u001b[0m\u001b]8;;\u001b\\\u001b[2m:\u001b[0m\u001b]8;id=462852;file://C:\\Users\\dggua\\anaconda3\\envs\\test_env\\lib\\warnings.py#109\u001b\\\u001b[2m109\u001b[0m\u001b]8;;\u001b\\\n",
       "\u001b[2;36m                    \u001b[0m         py:\u001b[1;36m1351\u001b[0m: DataConversionWarning: A column-vector y was passed when a 1d \u001b[2m               \u001b[0m\n",
       "\u001b[2;36m                    \u001b[0m         array was expected. Please change the shape of y to \u001b[1m(\u001b[0mn_samples,\u001b[1m)\u001b[0m, for  \u001b[2m               \u001b[0m\n",
       "\u001b[2;36m                    \u001b[0m         example using \u001b[1;35mravel\u001b[0m\u001b[1m(\u001b[0m\u001b[1m)\u001b[0m.                                                 \u001b[2m               \u001b[0m\n",
       "\u001b[2;36m                    \u001b[0m           return \u001b[1;35mfit_method\u001b[0m\u001b[1m(\u001b[0mestimator, *args, **kwargs\u001b[1m)\u001b[0m                        \u001b[2m               \u001b[0m\n",
       "\u001b[2;36m                    \u001b[0m                                                                                \u001b[2m               \u001b[0m\n"
      ]
     },
     "metadata": {},
     "output_type": "display_data"
    },
    {
     "data": {
      "text/html": [
       "<pre style=\"white-space:pre;overflow-x:auto;line-height:normal;font-family:Menlo,'DejaVu Sans Mono',consolas,'Courier New',monospace\"><span style=\"color: #7fbfbf; text-decoration-color: #7fbfbf\">                    </span><span style=\"color: #800000; text-decoration-color: #800000\">WARNING </span> C:\\Users\\dggua\\anaconda3\\envs\\test_env\\lib\\site-packages\\sklearn\\base. <a href=\"file://C:\\Users\\dggua\\anaconda3\\envs\\test_env\\lib\\warnings.py\" target=\"_blank\"><span style=\"color: #7f7f7f; text-decoration-color: #7f7f7f\">warnings.py</span></a><span style=\"color: #7f7f7f; text-decoration-color: #7f7f7f\">:</span><a href=\"file://C:\\Users\\dggua\\anaconda3\\envs\\test_env\\lib\\warnings.py#109\" target=\"_blank\"><span style=\"color: #7f7f7f; text-decoration-color: #7f7f7f\">109</span></a>\n",
       "<span style=\"color: #7fbfbf; text-decoration-color: #7fbfbf\">                    </span>         py:<span style=\"color: #008080; text-decoration-color: #008080; font-weight: bold\">1351</span>: DataConversionWarning: A column-vector y was passed when a 1d <span style=\"color: #7f7f7f; text-decoration-color: #7f7f7f\">               </span>\n",
       "<span style=\"color: #7fbfbf; text-decoration-color: #7fbfbf\">                    </span>         array was expected. Please change the shape of y to <span style=\"font-weight: bold\">(</span>n_samples,<span style=\"font-weight: bold\">)</span>, for  <span style=\"color: #7f7f7f; text-decoration-color: #7f7f7f\">               </span>\n",
       "<span style=\"color: #7fbfbf; text-decoration-color: #7fbfbf\">                    </span>         example using <span style=\"color: #800080; text-decoration-color: #800080; font-weight: bold\">ravel</span><span style=\"font-weight: bold\">()</span>.                                                 <span style=\"color: #7f7f7f; text-decoration-color: #7f7f7f\">               </span>\n",
       "<span style=\"color: #7fbfbf; text-decoration-color: #7fbfbf\">                    </span>           return <span style=\"color: #800080; text-decoration-color: #800080; font-weight: bold\">fit_method</span><span style=\"font-weight: bold\">(</span>estimator, *args, **kwargs<span style=\"font-weight: bold\">)</span>                        <span style=\"color: #7f7f7f; text-decoration-color: #7f7f7f\">               </span>\n",
       "<span style=\"color: #7fbfbf; text-decoration-color: #7fbfbf\">                    </span>                                                                                <span style=\"color: #7f7f7f; text-decoration-color: #7f7f7f\">               </span>\n",
       "</pre>\n"
      ],
      "text/plain": [
       "\u001b[2;36m                   \u001b[0m\u001b[2;36m \u001b[0m\u001b[31mWARNING \u001b[0m C:\\Users\\dggua\\anaconda3\\envs\\test_env\\lib\\site-packages\\sklearn\\base. \u001b]8;id=366649;file://C:\\Users\\dggua\\anaconda3\\envs\\test_env\\lib\\warnings.py\u001b\\\u001b[2mwarnings.py\u001b[0m\u001b]8;;\u001b\\\u001b[2m:\u001b[0m\u001b]8;id=647015;file://C:\\Users\\dggua\\anaconda3\\envs\\test_env\\lib\\warnings.py#109\u001b\\\u001b[2m109\u001b[0m\u001b]8;;\u001b\\\n",
       "\u001b[2;36m                    \u001b[0m         py:\u001b[1;36m1351\u001b[0m: DataConversionWarning: A column-vector y was passed when a 1d \u001b[2m               \u001b[0m\n",
       "\u001b[2;36m                    \u001b[0m         array was expected. Please change the shape of y to \u001b[1m(\u001b[0mn_samples,\u001b[1m)\u001b[0m, for  \u001b[2m               \u001b[0m\n",
       "\u001b[2;36m                    \u001b[0m         example using \u001b[1;35mravel\u001b[0m\u001b[1m(\u001b[0m\u001b[1m)\u001b[0m.                                                 \u001b[2m               \u001b[0m\n",
       "\u001b[2;36m                    \u001b[0m           return \u001b[1;35mfit_method\u001b[0m\u001b[1m(\u001b[0mestimator, *args, **kwargs\u001b[1m)\u001b[0m                        \u001b[2m               \u001b[0m\n",
       "\u001b[2;36m                    \u001b[0m                                                                                \u001b[2m               \u001b[0m\n"
      ]
     },
     "metadata": {},
     "output_type": "display_data"
    },
    {
     "data": {
      "text/html": [
       "<pre style=\"white-space:pre;overflow-x:auto;line-height:normal;font-family:Menlo,'DejaVu Sans Mono',consolas,'Courier New',monospace\"><span style=\"color: #7fbfbf; text-decoration-color: #7fbfbf\">                    </span><span style=\"color: #800000; text-decoration-color: #800000\">WARNING </span> C:\\Users\\dggua\\anaconda3\\envs\\test_env\\lib\\site-packages\\sklearn\\base. <a href=\"file://C:\\Users\\dggua\\anaconda3\\envs\\test_env\\lib\\warnings.py\" target=\"_blank\"><span style=\"color: #7f7f7f; text-decoration-color: #7f7f7f\">warnings.py</span></a><span style=\"color: #7f7f7f; text-decoration-color: #7f7f7f\">:</span><a href=\"file://C:\\Users\\dggua\\anaconda3\\envs\\test_env\\lib\\warnings.py#109\" target=\"_blank\"><span style=\"color: #7f7f7f; text-decoration-color: #7f7f7f\">109</span></a>\n",
       "<span style=\"color: #7fbfbf; text-decoration-color: #7fbfbf\">                    </span>         py:<span style=\"color: #008080; text-decoration-color: #008080; font-weight: bold\">1351</span>: DataConversionWarning: A column-vector y was passed when a 1d <span style=\"color: #7f7f7f; text-decoration-color: #7f7f7f\">               </span>\n",
       "<span style=\"color: #7fbfbf; text-decoration-color: #7fbfbf\">                    </span>         array was expected. Please change the shape of y to <span style=\"font-weight: bold\">(</span>n_samples,<span style=\"font-weight: bold\">)</span>, for  <span style=\"color: #7f7f7f; text-decoration-color: #7f7f7f\">               </span>\n",
       "<span style=\"color: #7fbfbf; text-decoration-color: #7fbfbf\">                    </span>         example using <span style=\"color: #800080; text-decoration-color: #800080; font-weight: bold\">ravel</span><span style=\"font-weight: bold\">()</span>.                                                 <span style=\"color: #7f7f7f; text-decoration-color: #7f7f7f\">               </span>\n",
       "<span style=\"color: #7fbfbf; text-decoration-color: #7fbfbf\">                    </span>           return <span style=\"color: #800080; text-decoration-color: #800080; font-weight: bold\">fit_method</span><span style=\"font-weight: bold\">(</span>estimator, *args, **kwargs<span style=\"font-weight: bold\">)</span>                        <span style=\"color: #7f7f7f; text-decoration-color: #7f7f7f\">               </span>\n",
       "<span style=\"color: #7fbfbf; text-decoration-color: #7fbfbf\">                    </span>                                                                                <span style=\"color: #7f7f7f; text-decoration-color: #7f7f7f\">               </span>\n",
       "</pre>\n"
      ],
      "text/plain": [
       "\u001b[2;36m                   \u001b[0m\u001b[2;36m \u001b[0m\u001b[31mWARNING \u001b[0m C:\\Users\\dggua\\anaconda3\\envs\\test_env\\lib\\site-packages\\sklearn\\base. \u001b]8;id=342088;file://C:\\Users\\dggua\\anaconda3\\envs\\test_env\\lib\\warnings.py\u001b\\\u001b[2mwarnings.py\u001b[0m\u001b]8;;\u001b\\\u001b[2m:\u001b[0m\u001b]8;id=5808;file://C:\\Users\\dggua\\anaconda3\\envs\\test_env\\lib\\warnings.py#109\u001b\\\u001b[2m109\u001b[0m\u001b]8;;\u001b\\\n",
       "\u001b[2;36m                    \u001b[0m         py:\u001b[1;36m1351\u001b[0m: DataConversionWarning: A column-vector y was passed when a 1d \u001b[2m               \u001b[0m\n",
       "\u001b[2;36m                    \u001b[0m         array was expected. Please change the shape of y to \u001b[1m(\u001b[0mn_samples,\u001b[1m)\u001b[0m, for  \u001b[2m               \u001b[0m\n",
       "\u001b[2;36m                    \u001b[0m         example using \u001b[1;35mravel\u001b[0m\u001b[1m(\u001b[0m\u001b[1m)\u001b[0m.                                                 \u001b[2m               \u001b[0m\n",
       "\u001b[2;36m                    \u001b[0m           return \u001b[1;35mfit_method\u001b[0m\u001b[1m(\u001b[0mestimator, *args, **kwargs\u001b[1m)\u001b[0m                        \u001b[2m               \u001b[0m\n",
       "\u001b[2;36m                    \u001b[0m                                                                                \u001b[2m               \u001b[0m\n"
      ]
     },
     "metadata": {},
     "output_type": "display_data"
    },
    {
     "data": {
      "text/html": [
       "<pre style=\"white-space:pre;overflow-x:auto;line-height:normal;font-family:Menlo,'DejaVu Sans Mono',consolas,'Courier New',monospace\"><span style=\"color: #7fbfbf; text-decoration-color: #7fbfbf\">                    </span><span style=\"color: #800000; text-decoration-color: #800000\">WARNING </span> C:\\Users\\dggua\\anaconda3\\envs\\test_env\\lib\\site-packages\\sklearn\\base. <a href=\"file://C:\\Users\\dggua\\anaconda3\\envs\\test_env\\lib\\warnings.py\" target=\"_blank\"><span style=\"color: #7f7f7f; text-decoration-color: #7f7f7f\">warnings.py</span></a><span style=\"color: #7f7f7f; text-decoration-color: #7f7f7f\">:</span><a href=\"file://C:\\Users\\dggua\\anaconda3\\envs\\test_env\\lib\\warnings.py#109\" target=\"_blank\"><span style=\"color: #7f7f7f; text-decoration-color: #7f7f7f\">109</span></a>\n",
       "<span style=\"color: #7fbfbf; text-decoration-color: #7fbfbf\">                    </span>         py:<span style=\"color: #008080; text-decoration-color: #008080; font-weight: bold\">1351</span>: DataConversionWarning: A column-vector y was passed when a 1d <span style=\"color: #7f7f7f; text-decoration-color: #7f7f7f\">               </span>\n",
       "<span style=\"color: #7fbfbf; text-decoration-color: #7fbfbf\">                    </span>         array was expected. Please change the shape of y to <span style=\"font-weight: bold\">(</span>n_samples,<span style=\"font-weight: bold\">)</span>, for  <span style=\"color: #7f7f7f; text-decoration-color: #7f7f7f\">               </span>\n",
       "<span style=\"color: #7fbfbf; text-decoration-color: #7fbfbf\">                    </span>         example using <span style=\"color: #800080; text-decoration-color: #800080; font-weight: bold\">ravel</span><span style=\"font-weight: bold\">()</span>.                                                 <span style=\"color: #7f7f7f; text-decoration-color: #7f7f7f\">               </span>\n",
       "<span style=\"color: #7fbfbf; text-decoration-color: #7fbfbf\">                    </span>           return <span style=\"color: #800080; text-decoration-color: #800080; font-weight: bold\">fit_method</span><span style=\"font-weight: bold\">(</span>estimator, *args, **kwargs<span style=\"font-weight: bold\">)</span>                        <span style=\"color: #7f7f7f; text-decoration-color: #7f7f7f\">               </span>\n",
       "<span style=\"color: #7fbfbf; text-decoration-color: #7fbfbf\">                    </span>                                                                                <span style=\"color: #7f7f7f; text-decoration-color: #7f7f7f\">               </span>\n",
       "</pre>\n"
      ],
      "text/plain": [
       "\u001b[2;36m                   \u001b[0m\u001b[2;36m \u001b[0m\u001b[31mWARNING \u001b[0m C:\\Users\\dggua\\anaconda3\\envs\\test_env\\lib\\site-packages\\sklearn\\base. \u001b]8;id=624625;file://C:\\Users\\dggua\\anaconda3\\envs\\test_env\\lib\\warnings.py\u001b\\\u001b[2mwarnings.py\u001b[0m\u001b]8;;\u001b\\\u001b[2m:\u001b[0m\u001b]8;id=562882;file://C:\\Users\\dggua\\anaconda3\\envs\\test_env\\lib\\warnings.py#109\u001b\\\u001b[2m109\u001b[0m\u001b]8;;\u001b\\\n",
       "\u001b[2;36m                    \u001b[0m         py:\u001b[1;36m1351\u001b[0m: DataConversionWarning: A column-vector y was passed when a 1d \u001b[2m               \u001b[0m\n",
       "\u001b[2;36m                    \u001b[0m         array was expected. Please change the shape of y to \u001b[1m(\u001b[0mn_samples,\u001b[1m)\u001b[0m, for  \u001b[2m               \u001b[0m\n",
       "\u001b[2;36m                    \u001b[0m         example using \u001b[1;35mravel\u001b[0m\u001b[1m(\u001b[0m\u001b[1m)\u001b[0m.                                                 \u001b[2m               \u001b[0m\n",
       "\u001b[2;36m                    \u001b[0m           return \u001b[1;35mfit_method\u001b[0m\u001b[1m(\u001b[0mestimator, *args, **kwargs\u001b[1m)\u001b[0m                        \u001b[2m               \u001b[0m\n",
       "\u001b[2;36m                    \u001b[0m                                                                                \u001b[2m               \u001b[0m\n"
      ]
     },
     "metadata": {},
     "output_type": "display_data"
    },
    {
     "data": {
      "text/html": [
       "<pre style=\"white-space:pre;overflow-x:auto;line-height:normal;font-family:Menlo,'DejaVu Sans Mono',consolas,'Courier New',monospace\"><span style=\"color: #7fbfbf; text-decoration-color: #7fbfbf\">                    </span><span style=\"color: #800000; text-decoration-color: #800000\">WARNING </span> C:\\Users\\dggua\\anaconda3\\envs\\test_env\\lib\\site-packages\\sklearn\\base. <a href=\"file://C:\\Users\\dggua\\anaconda3\\envs\\test_env\\lib\\warnings.py\" target=\"_blank\"><span style=\"color: #7f7f7f; text-decoration-color: #7f7f7f\">warnings.py</span></a><span style=\"color: #7f7f7f; text-decoration-color: #7f7f7f\">:</span><a href=\"file://C:\\Users\\dggua\\anaconda3\\envs\\test_env\\lib\\warnings.py#109\" target=\"_blank\"><span style=\"color: #7f7f7f; text-decoration-color: #7f7f7f\">109</span></a>\n",
       "<span style=\"color: #7fbfbf; text-decoration-color: #7fbfbf\">                    </span>         py:<span style=\"color: #008080; text-decoration-color: #008080; font-weight: bold\">1351</span>: DataConversionWarning: A column-vector y was passed when a 1d <span style=\"color: #7f7f7f; text-decoration-color: #7f7f7f\">               </span>\n",
       "<span style=\"color: #7fbfbf; text-decoration-color: #7fbfbf\">                    </span>         array was expected. Please change the shape of y to <span style=\"font-weight: bold\">(</span>n_samples,<span style=\"font-weight: bold\">)</span>, for  <span style=\"color: #7f7f7f; text-decoration-color: #7f7f7f\">               </span>\n",
       "<span style=\"color: #7fbfbf; text-decoration-color: #7fbfbf\">                    </span>         example using <span style=\"color: #800080; text-decoration-color: #800080; font-weight: bold\">ravel</span><span style=\"font-weight: bold\">()</span>.                                                 <span style=\"color: #7f7f7f; text-decoration-color: #7f7f7f\">               </span>\n",
       "<span style=\"color: #7fbfbf; text-decoration-color: #7fbfbf\">                    </span>           return <span style=\"color: #800080; text-decoration-color: #800080; font-weight: bold\">fit_method</span><span style=\"font-weight: bold\">(</span>estimator, *args, **kwargs<span style=\"font-weight: bold\">)</span>                        <span style=\"color: #7f7f7f; text-decoration-color: #7f7f7f\">               </span>\n",
       "<span style=\"color: #7fbfbf; text-decoration-color: #7fbfbf\">                    </span>                                                                                <span style=\"color: #7f7f7f; text-decoration-color: #7f7f7f\">               </span>\n",
       "</pre>\n"
      ],
      "text/plain": [
       "\u001b[2;36m                   \u001b[0m\u001b[2;36m \u001b[0m\u001b[31mWARNING \u001b[0m C:\\Users\\dggua\\anaconda3\\envs\\test_env\\lib\\site-packages\\sklearn\\base. \u001b]8;id=461178;file://C:\\Users\\dggua\\anaconda3\\envs\\test_env\\lib\\warnings.py\u001b\\\u001b[2mwarnings.py\u001b[0m\u001b]8;;\u001b\\\u001b[2m:\u001b[0m\u001b]8;id=691908;file://C:\\Users\\dggua\\anaconda3\\envs\\test_env\\lib\\warnings.py#109\u001b\\\u001b[2m109\u001b[0m\u001b]8;;\u001b\\\n",
       "\u001b[2;36m                    \u001b[0m         py:\u001b[1;36m1351\u001b[0m: DataConversionWarning: A column-vector y was passed when a 1d \u001b[2m               \u001b[0m\n",
       "\u001b[2;36m                    \u001b[0m         array was expected. Please change the shape of y to \u001b[1m(\u001b[0mn_samples,\u001b[1m)\u001b[0m, for  \u001b[2m               \u001b[0m\n",
       "\u001b[2;36m                    \u001b[0m         example using \u001b[1;35mravel\u001b[0m\u001b[1m(\u001b[0m\u001b[1m)\u001b[0m.                                                 \u001b[2m               \u001b[0m\n",
       "\u001b[2;36m                    \u001b[0m           return \u001b[1;35mfit_method\u001b[0m\u001b[1m(\u001b[0mestimator, *args, **kwargs\u001b[1m)\u001b[0m                        \u001b[2m               \u001b[0m\n",
       "\u001b[2;36m                    \u001b[0m                                                                                \u001b[2m               \u001b[0m\n"
      ]
     },
     "metadata": {},
     "output_type": "display_data"
    },
    {
     "data": {
      "text/html": [
       "<pre style=\"white-space:pre;overflow-x:auto;line-height:normal;font-family:Menlo,'DejaVu Sans Mono',consolas,'Courier New',monospace\"><span style=\"color: #7fbfbf; text-decoration-color: #7fbfbf\">                    </span><span style=\"color: #800000; text-decoration-color: #800000\">WARNING </span> C:\\Users\\dggua\\anaconda3\\envs\\test_env\\lib\\site-packages\\sklearn\\base. <a href=\"file://C:\\Users\\dggua\\anaconda3\\envs\\test_env\\lib\\warnings.py\" target=\"_blank\"><span style=\"color: #7f7f7f; text-decoration-color: #7f7f7f\">warnings.py</span></a><span style=\"color: #7f7f7f; text-decoration-color: #7f7f7f\">:</span><a href=\"file://C:\\Users\\dggua\\anaconda3\\envs\\test_env\\lib\\warnings.py#109\" target=\"_blank\"><span style=\"color: #7f7f7f; text-decoration-color: #7f7f7f\">109</span></a>\n",
       "<span style=\"color: #7fbfbf; text-decoration-color: #7fbfbf\">                    </span>         py:<span style=\"color: #008080; text-decoration-color: #008080; font-weight: bold\">1351</span>: DataConversionWarning: A column-vector y was passed when a 1d <span style=\"color: #7f7f7f; text-decoration-color: #7f7f7f\">               </span>\n",
       "<span style=\"color: #7fbfbf; text-decoration-color: #7fbfbf\">                    </span>         array was expected. Please change the shape of y to <span style=\"font-weight: bold\">(</span>n_samples,<span style=\"font-weight: bold\">)</span>, for  <span style=\"color: #7f7f7f; text-decoration-color: #7f7f7f\">               </span>\n",
       "<span style=\"color: #7fbfbf; text-decoration-color: #7fbfbf\">                    </span>         example using <span style=\"color: #800080; text-decoration-color: #800080; font-weight: bold\">ravel</span><span style=\"font-weight: bold\">()</span>.                                                 <span style=\"color: #7f7f7f; text-decoration-color: #7f7f7f\">               </span>\n",
       "<span style=\"color: #7fbfbf; text-decoration-color: #7fbfbf\">                    </span>           return <span style=\"color: #800080; text-decoration-color: #800080; font-weight: bold\">fit_method</span><span style=\"font-weight: bold\">(</span>estimator, *args, **kwargs<span style=\"font-weight: bold\">)</span>                        <span style=\"color: #7f7f7f; text-decoration-color: #7f7f7f\">               </span>\n",
       "<span style=\"color: #7fbfbf; text-decoration-color: #7fbfbf\">                    </span>                                                                                <span style=\"color: #7f7f7f; text-decoration-color: #7f7f7f\">               </span>\n",
       "</pre>\n"
      ],
      "text/plain": [
       "\u001b[2;36m                   \u001b[0m\u001b[2;36m \u001b[0m\u001b[31mWARNING \u001b[0m C:\\Users\\dggua\\anaconda3\\envs\\test_env\\lib\\site-packages\\sklearn\\base. \u001b]8;id=434928;file://C:\\Users\\dggua\\anaconda3\\envs\\test_env\\lib\\warnings.py\u001b\\\u001b[2mwarnings.py\u001b[0m\u001b]8;;\u001b\\\u001b[2m:\u001b[0m\u001b]8;id=4983;file://C:\\Users\\dggua\\anaconda3\\envs\\test_env\\lib\\warnings.py#109\u001b\\\u001b[2m109\u001b[0m\u001b]8;;\u001b\\\n",
       "\u001b[2;36m                    \u001b[0m         py:\u001b[1;36m1351\u001b[0m: DataConversionWarning: A column-vector y was passed when a 1d \u001b[2m               \u001b[0m\n",
       "\u001b[2;36m                    \u001b[0m         array was expected. Please change the shape of y to \u001b[1m(\u001b[0mn_samples,\u001b[1m)\u001b[0m, for  \u001b[2m               \u001b[0m\n",
       "\u001b[2;36m                    \u001b[0m         example using \u001b[1;35mravel\u001b[0m\u001b[1m(\u001b[0m\u001b[1m)\u001b[0m.                                                 \u001b[2m               \u001b[0m\n",
       "\u001b[2;36m                    \u001b[0m           return \u001b[1;35mfit_method\u001b[0m\u001b[1m(\u001b[0mestimator, *args, **kwargs\u001b[1m)\u001b[0m                        \u001b[2m               \u001b[0m\n",
       "\u001b[2;36m                    \u001b[0m                                                                                \u001b[2m               \u001b[0m\n"
      ]
     },
     "metadata": {},
     "output_type": "display_data"
    },
    {
     "data": {
      "text/html": [
       "<pre style=\"white-space:pre;overflow-x:auto;line-height:normal;font-family:Menlo,'DejaVu Sans Mono',consolas,'Courier New',monospace\"><span style=\"color: #7fbfbf; text-decoration-color: #7fbfbf\">                    </span><span style=\"color: #800000; text-decoration-color: #800000\">WARNING </span> C:\\Users\\dggua\\anaconda3\\envs\\test_env\\lib\\site-packages\\sklearn\\base. <a href=\"file://C:\\Users\\dggua\\anaconda3\\envs\\test_env\\lib\\warnings.py\" target=\"_blank\"><span style=\"color: #7f7f7f; text-decoration-color: #7f7f7f\">warnings.py</span></a><span style=\"color: #7f7f7f; text-decoration-color: #7f7f7f\">:</span><a href=\"file://C:\\Users\\dggua\\anaconda3\\envs\\test_env\\lib\\warnings.py#109\" target=\"_blank\"><span style=\"color: #7f7f7f; text-decoration-color: #7f7f7f\">109</span></a>\n",
       "<span style=\"color: #7fbfbf; text-decoration-color: #7fbfbf\">                    </span>         py:<span style=\"color: #008080; text-decoration-color: #008080; font-weight: bold\">1351</span>: DataConversionWarning: A column-vector y was passed when a 1d <span style=\"color: #7f7f7f; text-decoration-color: #7f7f7f\">               </span>\n",
       "<span style=\"color: #7fbfbf; text-decoration-color: #7fbfbf\">                    </span>         array was expected. Please change the shape of y to <span style=\"font-weight: bold\">(</span>n_samples,<span style=\"font-weight: bold\">)</span>, for  <span style=\"color: #7f7f7f; text-decoration-color: #7f7f7f\">               </span>\n",
       "<span style=\"color: #7fbfbf; text-decoration-color: #7fbfbf\">                    </span>         example using <span style=\"color: #800080; text-decoration-color: #800080; font-weight: bold\">ravel</span><span style=\"font-weight: bold\">()</span>.                                                 <span style=\"color: #7f7f7f; text-decoration-color: #7f7f7f\">               </span>\n",
       "<span style=\"color: #7fbfbf; text-decoration-color: #7fbfbf\">                    </span>           return <span style=\"color: #800080; text-decoration-color: #800080; font-weight: bold\">fit_method</span><span style=\"font-weight: bold\">(</span>estimator, *args, **kwargs<span style=\"font-weight: bold\">)</span>                        <span style=\"color: #7f7f7f; text-decoration-color: #7f7f7f\">               </span>\n",
       "<span style=\"color: #7fbfbf; text-decoration-color: #7fbfbf\">                    </span>                                                                                <span style=\"color: #7f7f7f; text-decoration-color: #7f7f7f\">               </span>\n",
       "</pre>\n"
      ],
      "text/plain": [
       "\u001b[2;36m                   \u001b[0m\u001b[2;36m \u001b[0m\u001b[31mWARNING \u001b[0m C:\\Users\\dggua\\anaconda3\\envs\\test_env\\lib\\site-packages\\sklearn\\base. \u001b]8;id=13259;file://C:\\Users\\dggua\\anaconda3\\envs\\test_env\\lib\\warnings.py\u001b\\\u001b[2mwarnings.py\u001b[0m\u001b]8;;\u001b\\\u001b[2m:\u001b[0m\u001b]8;id=593129;file://C:\\Users\\dggua\\anaconda3\\envs\\test_env\\lib\\warnings.py#109\u001b\\\u001b[2m109\u001b[0m\u001b]8;;\u001b\\\n",
       "\u001b[2;36m                    \u001b[0m         py:\u001b[1;36m1351\u001b[0m: DataConversionWarning: A column-vector y was passed when a 1d \u001b[2m               \u001b[0m\n",
       "\u001b[2;36m                    \u001b[0m         array was expected. Please change the shape of y to \u001b[1m(\u001b[0mn_samples,\u001b[1m)\u001b[0m, for  \u001b[2m               \u001b[0m\n",
       "\u001b[2;36m                    \u001b[0m         example using \u001b[1;35mravel\u001b[0m\u001b[1m(\u001b[0m\u001b[1m)\u001b[0m.                                                 \u001b[2m               \u001b[0m\n",
       "\u001b[2;36m                    \u001b[0m           return \u001b[1;35mfit_method\u001b[0m\u001b[1m(\u001b[0mestimator, *args, **kwargs\u001b[1m)\u001b[0m                        \u001b[2m               \u001b[0m\n",
       "\u001b[2;36m                    \u001b[0m                                                                                \u001b[2m               \u001b[0m\n"
      ]
     },
     "metadata": {},
     "output_type": "display_data"
    },
    {
     "data": {
      "text/html": [
       "<pre style=\"white-space:pre;overflow-x:auto;line-height:normal;font-family:Menlo,'DejaVu Sans Mono',consolas,'Courier New',monospace\"><span style=\"color: #7fbfbf; text-decoration-color: #7fbfbf\">                    </span><span style=\"color: #800000; text-decoration-color: #800000\">WARNING </span> C:\\Users\\dggua\\anaconda3\\envs\\test_env\\lib\\site-packages\\sklearn\\base. <a href=\"file://C:\\Users\\dggua\\anaconda3\\envs\\test_env\\lib\\warnings.py\" target=\"_blank\"><span style=\"color: #7f7f7f; text-decoration-color: #7f7f7f\">warnings.py</span></a><span style=\"color: #7f7f7f; text-decoration-color: #7f7f7f\">:</span><a href=\"file://C:\\Users\\dggua\\anaconda3\\envs\\test_env\\lib\\warnings.py#109\" target=\"_blank\"><span style=\"color: #7f7f7f; text-decoration-color: #7f7f7f\">109</span></a>\n",
       "<span style=\"color: #7fbfbf; text-decoration-color: #7fbfbf\">                    </span>         py:<span style=\"color: #008080; text-decoration-color: #008080; font-weight: bold\">1351</span>: DataConversionWarning: A column-vector y was passed when a 1d <span style=\"color: #7f7f7f; text-decoration-color: #7f7f7f\">               </span>\n",
       "<span style=\"color: #7fbfbf; text-decoration-color: #7fbfbf\">                    </span>         array was expected. Please change the shape of y to <span style=\"font-weight: bold\">(</span>n_samples,<span style=\"font-weight: bold\">)</span>, for  <span style=\"color: #7f7f7f; text-decoration-color: #7f7f7f\">               </span>\n",
       "<span style=\"color: #7fbfbf; text-decoration-color: #7fbfbf\">                    </span>         example using <span style=\"color: #800080; text-decoration-color: #800080; font-weight: bold\">ravel</span><span style=\"font-weight: bold\">()</span>.                                                 <span style=\"color: #7f7f7f; text-decoration-color: #7f7f7f\">               </span>\n",
       "<span style=\"color: #7fbfbf; text-decoration-color: #7fbfbf\">                    </span>           return <span style=\"color: #800080; text-decoration-color: #800080; font-weight: bold\">fit_method</span><span style=\"font-weight: bold\">(</span>estimator, *args, **kwargs<span style=\"font-weight: bold\">)</span>                        <span style=\"color: #7f7f7f; text-decoration-color: #7f7f7f\">               </span>\n",
       "<span style=\"color: #7fbfbf; text-decoration-color: #7fbfbf\">                    </span>                                                                                <span style=\"color: #7f7f7f; text-decoration-color: #7f7f7f\">               </span>\n",
       "</pre>\n"
      ],
      "text/plain": [
       "\u001b[2;36m                   \u001b[0m\u001b[2;36m \u001b[0m\u001b[31mWARNING \u001b[0m C:\\Users\\dggua\\anaconda3\\envs\\test_env\\lib\\site-packages\\sklearn\\base. \u001b]8;id=35132;file://C:\\Users\\dggua\\anaconda3\\envs\\test_env\\lib\\warnings.py\u001b\\\u001b[2mwarnings.py\u001b[0m\u001b]8;;\u001b\\\u001b[2m:\u001b[0m\u001b]8;id=879488;file://C:\\Users\\dggua\\anaconda3\\envs\\test_env\\lib\\warnings.py#109\u001b\\\u001b[2m109\u001b[0m\u001b]8;;\u001b\\\n",
       "\u001b[2;36m                    \u001b[0m         py:\u001b[1;36m1351\u001b[0m: DataConversionWarning: A column-vector y was passed when a 1d \u001b[2m               \u001b[0m\n",
       "\u001b[2;36m                    \u001b[0m         array was expected. Please change the shape of y to \u001b[1m(\u001b[0mn_samples,\u001b[1m)\u001b[0m, for  \u001b[2m               \u001b[0m\n",
       "\u001b[2;36m                    \u001b[0m         example using \u001b[1;35mravel\u001b[0m\u001b[1m(\u001b[0m\u001b[1m)\u001b[0m.                                                 \u001b[2m               \u001b[0m\n",
       "\u001b[2;36m                    \u001b[0m           return \u001b[1;35mfit_method\u001b[0m\u001b[1m(\u001b[0mestimator, *args, **kwargs\u001b[1m)\u001b[0m                        \u001b[2m               \u001b[0m\n",
       "\u001b[2;36m                    \u001b[0m                                                                                \u001b[2m               \u001b[0m\n"
      ]
     },
     "metadata": {},
     "output_type": "display_data"
    },
    {
     "data": {
      "text/html": [
       "<pre style=\"white-space:pre;overflow-x:auto;line-height:normal;font-family:Menlo,'DejaVu Sans Mono',consolas,'Courier New',monospace\"><span style=\"color: #7fbfbf; text-decoration-color: #7fbfbf\">                    </span><span style=\"color: #800000; text-decoration-color: #800000\">WARNING </span> C:\\Users\\dggua\\anaconda3\\envs\\test_env\\lib\\site-packages\\sklearn\\base. <a href=\"file://C:\\Users\\dggua\\anaconda3\\envs\\test_env\\lib\\warnings.py\" target=\"_blank\"><span style=\"color: #7f7f7f; text-decoration-color: #7f7f7f\">warnings.py</span></a><span style=\"color: #7f7f7f; text-decoration-color: #7f7f7f\">:</span><a href=\"file://C:\\Users\\dggua\\anaconda3\\envs\\test_env\\lib\\warnings.py#109\" target=\"_blank\"><span style=\"color: #7f7f7f; text-decoration-color: #7f7f7f\">109</span></a>\n",
       "<span style=\"color: #7fbfbf; text-decoration-color: #7fbfbf\">                    </span>         py:<span style=\"color: #008080; text-decoration-color: #008080; font-weight: bold\">1351</span>: DataConversionWarning: A column-vector y was passed when a 1d <span style=\"color: #7f7f7f; text-decoration-color: #7f7f7f\">               </span>\n",
       "<span style=\"color: #7fbfbf; text-decoration-color: #7fbfbf\">                    </span>         array was expected. Please change the shape of y to <span style=\"font-weight: bold\">(</span>n_samples,<span style=\"font-weight: bold\">)</span>, for  <span style=\"color: #7f7f7f; text-decoration-color: #7f7f7f\">               </span>\n",
       "<span style=\"color: #7fbfbf; text-decoration-color: #7fbfbf\">                    </span>         example using <span style=\"color: #800080; text-decoration-color: #800080; font-weight: bold\">ravel</span><span style=\"font-weight: bold\">()</span>.                                                 <span style=\"color: #7f7f7f; text-decoration-color: #7f7f7f\">               </span>\n",
       "<span style=\"color: #7fbfbf; text-decoration-color: #7fbfbf\">                    </span>           return <span style=\"color: #800080; text-decoration-color: #800080; font-weight: bold\">fit_method</span><span style=\"font-weight: bold\">(</span>estimator, *args, **kwargs<span style=\"font-weight: bold\">)</span>                        <span style=\"color: #7f7f7f; text-decoration-color: #7f7f7f\">               </span>\n",
       "<span style=\"color: #7fbfbf; text-decoration-color: #7fbfbf\">                    </span>                                                                                <span style=\"color: #7f7f7f; text-decoration-color: #7f7f7f\">               </span>\n",
       "</pre>\n"
      ],
      "text/plain": [
       "\u001b[2;36m                   \u001b[0m\u001b[2;36m \u001b[0m\u001b[31mWARNING \u001b[0m C:\\Users\\dggua\\anaconda3\\envs\\test_env\\lib\\site-packages\\sklearn\\base. \u001b]8;id=624255;file://C:\\Users\\dggua\\anaconda3\\envs\\test_env\\lib\\warnings.py\u001b\\\u001b[2mwarnings.py\u001b[0m\u001b]8;;\u001b\\\u001b[2m:\u001b[0m\u001b]8;id=249065;file://C:\\Users\\dggua\\anaconda3\\envs\\test_env\\lib\\warnings.py#109\u001b\\\u001b[2m109\u001b[0m\u001b]8;;\u001b\\\n",
       "\u001b[2;36m                    \u001b[0m         py:\u001b[1;36m1351\u001b[0m: DataConversionWarning: A column-vector y was passed when a 1d \u001b[2m               \u001b[0m\n",
       "\u001b[2;36m                    \u001b[0m         array was expected. Please change the shape of y to \u001b[1m(\u001b[0mn_samples,\u001b[1m)\u001b[0m, for  \u001b[2m               \u001b[0m\n",
       "\u001b[2;36m                    \u001b[0m         example using \u001b[1;35mravel\u001b[0m\u001b[1m(\u001b[0m\u001b[1m)\u001b[0m.                                                 \u001b[2m               \u001b[0m\n",
       "\u001b[2;36m                    \u001b[0m           return \u001b[1;35mfit_method\u001b[0m\u001b[1m(\u001b[0mestimator, *args, **kwargs\u001b[1m)\u001b[0m                        \u001b[2m               \u001b[0m\n",
       "\u001b[2;36m                    \u001b[0m                                                                                \u001b[2m               \u001b[0m\n"
      ]
     },
     "metadata": {},
     "output_type": "display_data"
    },
    {
     "data": {
      "text/html": [
       "<pre style=\"white-space:pre;overflow-x:auto;line-height:normal;font-family:Menlo,'DejaVu Sans Mono',consolas,'Courier New',monospace\"><span style=\"color: #7fbfbf; text-decoration-color: #7fbfbf\">[06/22/24 16:18:02] </span><span style=\"color: #800000; text-decoration-color: #800000\">WARNING </span> C:\\Users\\dggua\\anaconda3\\envs\\test_env\\lib\\site-packages\\sklearn\\base. <a href=\"file://C:\\Users\\dggua\\anaconda3\\envs\\test_env\\lib\\warnings.py\" target=\"_blank\"><span style=\"color: #7f7f7f; text-decoration-color: #7f7f7f\">warnings.py</span></a><span style=\"color: #7f7f7f; text-decoration-color: #7f7f7f\">:</span><a href=\"file://C:\\Users\\dggua\\anaconda3\\envs\\test_env\\lib\\warnings.py#109\" target=\"_blank\"><span style=\"color: #7f7f7f; text-decoration-color: #7f7f7f\">109</span></a>\n",
       "<span style=\"color: #7fbfbf; text-decoration-color: #7fbfbf\">                    </span>         py:<span style=\"color: #008080; text-decoration-color: #008080; font-weight: bold\">1351</span>: DataConversionWarning: A column-vector y was passed when a 1d <span style=\"color: #7f7f7f; text-decoration-color: #7f7f7f\">               </span>\n",
       "<span style=\"color: #7fbfbf; text-decoration-color: #7fbfbf\">                    </span>         array was expected. Please change the shape of y to <span style=\"font-weight: bold\">(</span>n_samples,<span style=\"font-weight: bold\">)</span>, for  <span style=\"color: #7f7f7f; text-decoration-color: #7f7f7f\">               </span>\n",
       "<span style=\"color: #7fbfbf; text-decoration-color: #7fbfbf\">                    </span>         example using <span style=\"color: #800080; text-decoration-color: #800080; font-weight: bold\">ravel</span><span style=\"font-weight: bold\">()</span>.                                                 <span style=\"color: #7f7f7f; text-decoration-color: #7f7f7f\">               </span>\n",
       "<span style=\"color: #7fbfbf; text-decoration-color: #7fbfbf\">                    </span>           return <span style=\"color: #800080; text-decoration-color: #800080; font-weight: bold\">fit_method</span><span style=\"font-weight: bold\">(</span>estimator, *args, **kwargs<span style=\"font-weight: bold\">)</span>                        <span style=\"color: #7f7f7f; text-decoration-color: #7f7f7f\">               </span>\n",
       "<span style=\"color: #7fbfbf; text-decoration-color: #7fbfbf\">                    </span>                                                                                <span style=\"color: #7f7f7f; text-decoration-color: #7f7f7f\">               </span>\n",
       "</pre>\n"
      ],
      "text/plain": [
       "\u001b[2;36m[06/22/24 16:18:02]\u001b[0m\u001b[2;36m \u001b[0m\u001b[31mWARNING \u001b[0m C:\\Users\\dggua\\anaconda3\\envs\\test_env\\lib\\site-packages\\sklearn\\base. \u001b]8;id=778156;file://C:\\Users\\dggua\\anaconda3\\envs\\test_env\\lib\\warnings.py\u001b\\\u001b[2mwarnings.py\u001b[0m\u001b]8;;\u001b\\\u001b[2m:\u001b[0m\u001b]8;id=93818;file://C:\\Users\\dggua\\anaconda3\\envs\\test_env\\lib\\warnings.py#109\u001b\\\u001b[2m109\u001b[0m\u001b]8;;\u001b\\\n",
       "\u001b[2;36m                    \u001b[0m         py:\u001b[1;36m1351\u001b[0m: DataConversionWarning: A column-vector y was passed when a 1d \u001b[2m               \u001b[0m\n",
       "\u001b[2;36m                    \u001b[0m         array was expected. Please change the shape of y to \u001b[1m(\u001b[0mn_samples,\u001b[1m)\u001b[0m, for  \u001b[2m               \u001b[0m\n",
       "\u001b[2;36m                    \u001b[0m         example using \u001b[1;35mravel\u001b[0m\u001b[1m(\u001b[0m\u001b[1m)\u001b[0m.                                                 \u001b[2m               \u001b[0m\n",
       "\u001b[2;36m                    \u001b[0m           return \u001b[1;35mfit_method\u001b[0m\u001b[1m(\u001b[0mestimator, *args, **kwargs\u001b[1m)\u001b[0m                        \u001b[2m               \u001b[0m\n",
       "\u001b[2;36m                    \u001b[0m                                                                                \u001b[2m               \u001b[0m\n"
      ]
     },
     "metadata": {},
     "output_type": "display_data"
    },
    {
     "data": {
      "text/html": [
       "<pre style=\"white-space:pre;overflow-x:auto;line-height:normal;font-family:Menlo,'DejaVu Sans Mono',consolas,'Courier New',monospace\"><span style=\"color: #7fbfbf; text-decoration-color: #7fbfbf\">                    </span><span style=\"color: #800000; text-decoration-color: #800000\">WARNING </span> C:\\Users\\dggua\\anaconda3\\envs\\test_env\\lib\\site-packages\\sklearn\\base. <a href=\"file://C:\\Users\\dggua\\anaconda3\\envs\\test_env\\lib\\warnings.py\" target=\"_blank\"><span style=\"color: #7f7f7f; text-decoration-color: #7f7f7f\">warnings.py</span></a><span style=\"color: #7f7f7f; text-decoration-color: #7f7f7f\">:</span><a href=\"file://C:\\Users\\dggua\\anaconda3\\envs\\test_env\\lib\\warnings.py#109\" target=\"_blank\"><span style=\"color: #7f7f7f; text-decoration-color: #7f7f7f\">109</span></a>\n",
       "<span style=\"color: #7fbfbf; text-decoration-color: #7fbfbf\">                    </span>         py:<span style=\"color: #008080; text-decoration-color: #008080; font-weight: bold\">1351</span>: DataConversionWarning: A column-vector y was passed when a 1d <span style=\"color: #7f7f7f; text-decoration-color: #7f7f7f\">               </span>\n",
       "<span style=\"color: #7fbfbf; text-decoration-color: #7fbfbf\">                    </span>         array was expected. Please change the shape of y to <span style=\"font-weight: bold\">(</span>n_samples,<span style=\"font-weight: bold\">)</span>, for  <span style=\"color: #7f7f7f; text-decoration-color: #7f7f7f\">               </span>\n",
       "<span style=\"color: #7fbfbf; text-decoration-color: #7fbfbf\">                    </span>         example using <span style=\"color: #800080; text-decoration-color: #800080; font-weight: bold\">ravel</span><span style=\"font-weight: bold\">()</span>.                                                 <span style=\"color: #7f7f7f; text-decoration-color: #7f7f7f\">               </span>\n",
       "<span style=\"color: #7fbfbf; text-decoration-color: #7fbfbf\">                    </span>           return <span style=\"color: #800080; text-decoration-color: #800080; font-weight: bold\">fit_method</span><span style=\"font-weight: bold\">(</span>estimator, *args, **kwargs<span style=\"font-weight: bold\">)</span>                        <span style=\"color: #7f7f7f; text-decoration-color: #7f7f7f\">               </span>\n",
       "<span style=\"color: #7fbfbf; text-decoration-color: #7fbfbf\">                    </span>                                                                                <span style=\"color: #7f7f7f; text-decoration-color: #7f7f7f\">               </span>\n",
       "</pre>\n"
      ],
      "text/plain": [
       "\u001b[2;36m                   \u001b[0m\u001b[2;36m \u001b[0m\u001b[31mWARNING \u001b[0m C:\\Users\\dggua\\anaconda3\\envs\\test_env\\lib\\site-packages\\sklearn\\base. \u001b]8;id=378526;file://C:\\Users\\dggua\\anaconda3\\envs\\test_env\\lib\\warnings.py\u001b\\\u001b[2mwarnings.py\u001b[0m\u001b]8;;\u001b\\\u001b[2m:\u001b[0m\u001b]8;id=923689;file://C:\\Users\\dggua\\anaconda3\\envs\\test_env\\lib\\warnings.py#109\u001b\\\u001b[2m109\u001b[0m\u001b]8;;\u001b\\\n",
       "\u001b[2;36m                    \u001b[0m         py:\u001b[1;36m1351\u001b[0m: DataConversionWarning: A column-vector y was passed when a 1d \u001b[2m               \u001b[0m\n",
       "\u001b[2;36m                    \u001b[0m         array was expected. Please change the shape of y to \u001b[1m(\u001b[0mn_samples,\u001b[1m)\u001b[0m, for  \u001b[2m               \u001b[0m\n",
       "\u001b[2;36m                    \u001b[0m         example using \u001b[1;35mravel\u001b[0m\u001b[1m(\u001b[0m\u001b[1m)\u001b[0m.                                                 \u001b[2m               \u001b[0m\n",
       "\u001b[2;36m                    \u001b[0m           return \u001b[1;35mfit_method\u001b[0m\u001b[1m(\u001b[0mestimator, *args, **kwargs\u001b[1m)\u001b[0m                        \u001b[2m               \u001b[0m\n",
       "\u001b[2;36m                    \u001b[0m                                                                                \u001b[2m               \u001b[0m\n"
      ]
     },
     "metadata": {},
     "output_type": "display_data"
    },
    {
     "data": {
      "text/html": [
       "<pre style=\"white-space:pre;overflow-x:auto;line-height:normal;font-family:Menlo,'DejaVu Sans Mono',consolas,'Courier New',monospace\"><span style=\"color: #7fbfbf; text-decoration-color: #7fbfbf\">                    </span><span style=\"color: #800000; text-decoration-color: #800000\">WARNING </span> C:\\Users\\dggua\\anaconda3\\envs\\test_env\\lib\\site-packages\\sklearn\\base. <a href=\"file://C:\\Users\\dggua\\anaconda3\\envs\\test_env\\lib\\warnings.py\" target=\"_blank\"><span style=\"color: #7f7f7f; text-decoration-color: #7f7f7f\">warnings.py</span></a><span style=\"color: #7f7f7f; text-decoration-color: #7f7f7f\">:</span><a href=\"file://C:\\Users\\dggua\\anaconda3\\envs\\test_env\\lib\\warnings.py#109\" target=\"_blank\"><span style=\"color: #7f7f7f; text-decoration-color: #7f7f7f\">109</span></a>\n",
       "<span style=\"color: #7fbfbf; text-decoration-color: #7fbfbf\">                    </span>         py:<span style=\"color: #008080; text-decoration-color: #008080; font-weight: bold\">1351</span>: DataConversionWarning: A column-vector y was passed when a 1d <span style=\"color: #7f7f7f; text-decoration-color: #7f7f7f\">               </span>\n",
       "<span style=\"color: #7fbfbf; text-decoration-color: #7fbfbf\">                    </span>         array was expected. Please change the shape of y to <span style=\"font-weight: bold\">(</span>n_samples,<span style=\"font-weight: bold\">)</span>, for  <span style=\"color: #7f7f7f; text-decoration-color: #7f7f7f\">               </span>\n",
       "<span style=\"color: #7fbfbf; text-decoration-color: #7fbfbf\">                    </span>         example using <span style=\"color: #800080; text-decoration-color: #800080; font-weight: bold\">ravel</span><span style=\"font-weight: bold\">()</span>.                                                 <span style=\"color: #7f7f7f; text-decoration-color: #7f7f7f\">               </span>\n",
       "<span style=\"color: #7fbfbf; text-decoration-color: #7fbfbf\">                    </span>           return <span style=\"color: #800080; text-decoration-color: #800080; font-weight: bold\">fit_method</span><span style=\"font-weight: bold\">(</span>estimator, *args, **kwargs<span style=\"font-weight: bold\">)</span>                        <span style=\"color: #7f7f7f; text-decoration-color: #7f7f7f\">               </span>\n",
       "<span style=\"color: #7fbfbf; text-decoration-color: #7fbfbf\">                    </span>                                                                                <span style=\"color: #7f7f7f; text-decoration-color: #7f7f7f\">               </span>\n",
       "</pre>\n"
      ],
      "text/plain": [
       "\u001b[2;36m                   \u001b[0m\u001b[2;36m \u001b[0m\u001b[31mWARNING \u001b[0m C:\\Users\\dggua\\anaconda3\\envs\\test_env\\lib\\site-packages\\sklearn\\base. \u001b]8;id=864467;file://C:\\Users\\dggua\\anaconda3\\envs\\test_env\\lib\\warnings.py\u001b\\\u001b[2mwarnings.py\u001b[0m\u001b]8;;\u001b\\\u001b[2m:\u001b[0m\u001b]8;id=417587;file://C:\\Users\\dggua\\anaconda3\\envs\\test_env\\lib\\warnings.py#109\u001b\\\u001b[2m109\u001b[0m\u001b]8;;\u001b\\\n",
       "\u001b[2;36m                    \u001b[0m         py:\u001b[1;36m1351\u001b[0m: DataConversionWarning: A column-vector y was passed when a 1d \u001b[2m               \u001b[0m\n",
       "\u001b[2;36m                    \u001b[0m         array was expected. Please change the shape of y to \u001b[1m(\u001b[0mn_samples,\u001b[1m)\u001b[0m, for  \u001b[2m               \u001b[0m\n",
       "\u001b[2;36m                    \u001b[0m         example using \u001b[1;35mravel\u001b[0m\u001b[1m(\u001b[0m\u001b[1m)\u001b[0m.                                                 \u001b[2m               \u001b[0m\n",
       "\u001b[2;36m                    \u001b[0m           return \u001b[1;35mfit_method\u001b[0m\u001b[1m(\u001b[0mestimator, *args, **kwargs\u001b[1m)\u001b[0m                        \u001b[2m               \u001b[0m\n",
       "\u001b[2;36m                    \u001b[0m                                                                                \u001b[2m               \u001b[0m\n"
      ]
     },
     "metadata": {},
     "output_type": "display_data"
    },
    {
     "data": {
      "text/html": [
       "<pre style=\"white-space:pre;overflow-x:auto;line-height:normal;font-family:Menlo,'DejaVu Sans Mono',consolas,'Courier New',monospace\"><span style=\"color: #7fbfbf; text-decoration-color: #7fbfbf\">                    </span><span style=\"color: #800000; text-decoration-color: #800000\">WARNING </span> C:\\Users\\dggua\\anaconda3\\envs\\test_env\\lib\\site-packages\\sklearn\\base. <a href=\"file://C:\\Users\\dggua\\anaconda3\\envs\\test_env\\lib\\warnings.py\" target=\"_blank\"><span style=\"color: #7f7f7f; text-decoration-color: #7f7f7f\">warnings.py</span></a><span style=\"color: #7f7f7f; text-decoration-color: #7f7f7f\">:</span><a href=\"file://C:\\Users\\dggua\\anaconda3\\envs\\test_env\\lib\\warnings.py#109\" target=\"_blank\"><span style=\"color: #7f7f7f; text-decoration-color: #7f7f7f\">109</span></a>\n",
       "<span style=\"color: #7fbfbf; text-decoration-color: #7fbfbf\">                    </span>         py:<span style=\"color: #008080; text-decoration-color: #008080; font-weight: bold\">1351</span>: DataConversionWarning: A column-vector y was passed when a 1d <span style=\"color: #7f7f7f; text-decoration-color: #7f7f7f\">               </span>\n",
       "<span style=\"color: #7fbfbf; text-decoration-color: #7fbfbf\">                    </span>         array was expected. Please change the shape of y to <span style=\"font-weight: bold\">(</span>n_samples,<span style=\"font-weight: bold\">)</span>, for  <span style=\"color: #7f7f7f; text-decoration-color: #7f7f7f\">               </span>\n",
       "<span style=\"color: #7fbfbf; text-decoration-color: #7fbfbf\">                    </span>         example using <span style=\"color: #800080; text-decoration-color: #800080; font-weight: bold\">ravel</span><span style=\"font-weight: bold\">()</span>.                                                 <span style=\"color: #7f7f7f; text-decoration-color: #7f7f7f\">               </span>\n",
       "<span style=\"color: #7fbfbf; text-decoration-color: #7fbfbf\">                    </span>           return <span style=\"color: #800080; text-decoration-color: #800080; font-weight: bold\">fit_method</span><span style=\"font-weight: bold\">(</span>estimator, *args, **kwargs<span style=\"font-weight: bold\">)</span>                        <span style=\"color: #7f7f7f; text-decoration-color: #7f7f7f\">               </span>\n",
       "<span style=\"color: #7fbfbf; text-decoration-color: #7fbfbf\">                    </span>                                                                                <span style=\"color: #7f7f7f; text-decoration-color: #7f7f7f\">               </span>\n",
       "</pre>\n"
      ],
      "text/plain": [
       "\u001b[2;36m                   \u001b[0m\u001b[2;36m \u001b[0m\u001b[31mWARNING \u001b[0m C:\\Users\\dggua\\anaconda3\\envs\\test_env\\lib\\site-packages\\sklearn\\base. \u001b]8;id=168881;file://C:\\Users\\dggua\\anaconda3\\envs\\test_env\\lib\\warnings.py\u001b\\\u001b[2mwarnings.py\u001b[0m\u001b]8;;\u001b\\\u001b[2m:\u001b[0m\u001b]8;id=280536;file://C:\\Users\\dggua\\anaconda3\\envs\\test_env\\lib\\warnings.py#109\u001b\\\u001b[2m109\u001b[0m\u001b]8;;\u001b\\\n",
       "\u001b[2;36m                    \u001b[0m         py:\u001b[1;36m1351\u001b[0m: DataConversionWarning: A column-vector y was passed when a 1d \u001b[2m               \u001b[0m\n",
       "\u001b[2;36m                    \u001b[0m         array was expected. Please change the shape of y to \u001b[1m(\u001b[0mn_samples,\u001b[1m)\u001b[0m, for  \u001b[2m               \u001b[0m\n",
       "\u001b[2;36m                    \u001b[0m         example using \u001b[1;35mravel\u001b[0m\u001b[1m(\u001b[0m\u001b[1m)\u001b[0m.                                                 \u001b[2m               \u001b[0m\n",
       "\u001b[2;36m                    \u001b[0m           return \u001b[1;35mfit_method\u001b[0m\u001b[1m(\u001b[0mestimator, *args, **kwargs\u001b[1m)\u001b[0m                        \u001b[2m               \u001b[0m\n",
       "\u001b[2;36m                    \u001b[0m                                                                                \u001b[2m               \u001b[0m\n"
      ]
     },
     "metadata": {},
     "output_type": "display_data"
    },
    {
     "data": {
      "text/html": [
       "<pre style=\"white-space:pre;overflow-x:auto;line-height:normal;font-family:Menlo,'DejaVu Sans Mono',consolas,'Courier New',monospace\"><span style=\"color: #7fbfbf; text-decoration-color: #7fbfbf\">                    </span><span style=\"color: #800000; text-decoration-color: #800000\">WARNING </span> C:\\Users\\dggua\\anaconda3\\envs\\test_env\\lib\\site-packages\\sklearn\\base. <a href=\"file://C:\\Users\\dggua\\anaconda3\\envs\\test_env\\lib\\warnings.py\" target=\"_blank\"><span style=\"color: #7f7f7f; text-decoration-color: #7f7f7f\">warnings.py</span></a><span style=\"color: #7f7f7f; text-decoration-color: #7f7f7f\">:</span><a href=\"file://C:\\Users\\dggua\\anaconda3\\envs\\test_env\\lib\\warnings.py#109\" target=\"_blank\"><span style=\"color: #7f7f7f; text-decoration-color: #7f7f7f\">109</span></a>\n",
       "<span style=\"color: #7fbfbf; text-decoration-color: #7fbfbf\">                    </span>         py:<span style=\"color: #008080; text-decoration-color: #008080; font-weight: bold\">1351</span>: DataConversionWarning: A column-vector y was passed when a 1d <span style=\"color: #7f7f7f; text-decoration-color: #7f7f7f\">               </span>\n",
       "<span style=\"color: #7fbfbf; text-decoration-color: #7fbfbf\">                    </span>         array was expected. Please change the shape of y to <span style=\"font-weight: bold\">(</span>n_samples,<span style=\"font-weight: bold\">)</span>, for  <span style=\"color: #7f7f7f; text-decoration-color: #7f7f7f\">               </span>\n",
       "<span style=\"color: #7fbfbf; text-decoration-color: #7fbfbf\">                    </span>         example using <span style=\"color: #800080; text-decoration-color: #800080; font-weight: bold\">ravel</span><span style=\"font-weight: bold\">()</span>.                                                 <span style=\"color: #7f7f7f; text-decoration-color: #7f7f7f\">               </span>\n",
       "<span style=\"color: #7fbfbf; text-decoration-color: #7fbfbf\">                    </span>           return <span style=\"color: #800080; text-decoration-color: #800080; font-weight: bold\">fit_method</span><span style=\"font-weight: bold\">(</span>estimator, *args, **kwargs<span style=\"font-weight: bold\">)</span>                        <span style=\"color: #7f7f7f; text-decoration-color: #7f7f7f\">               </span>\n",
       "<span style=\"color: #7fbfbf; text-decoration-color: #7fbfbf\">                    </span>                                                                                <span style=\"color: #7f7f7f; text-decoration-color: #7f7f7f\">               </span>\n",
       "</pre>\n"
      ],
      "text/plain": [
       "\u001b[2;36m                   \u001b[0m\u001b[2;36m \u001b[0m\u001b[31mWARNING \u001b[0m C:\\Users\\dggua\\anaconda3\\envs\\test_env\\lib\\site-packages\\sklearn\\base. \u001b]8;id=894536;file://C:\\Users\\dggua\\anaconda3\\envs\\test_env\\lib\\warnings.py\u001b\\\u001b[2mwarnings.py\u001b[0m\u001b]8;;\u001b\\\u001b[2m:\u001b[0m\u001b]8;id=264147;file://C:\\Users\\dggua\\anaconda3\\envs\\test_env\\lib\\warnings.py#109\u001b\\\u001b[2m109\u001b[0m\u001b]8;;\u001b\\\n",
       "\u001b[2;36m                    \u001b[0m         py:\u001b[1;36m1351\u001b[0m: DataConversionWarning: A column-vector y was passed when a 1d \u001b[2m               \u001b[0m\n",
       "\u001b[2;36m                    \u001b[0m         array was expected. Please change the shape of y to \u001b[1m(\u001b[0mn_samples,\u001b[1m)\u001b[0m, for  \u001b[2m               \u001b[0m\n",
       "\u001b[2;36m                    \u001b[0m         example using \u001b[1;35mravel\u001b[0m\u001b[1m(\u001b[0m\u001b[1m)\u001b[0m.                                                 \u001b[2m               \u001b[0m\n",
       "\u001b[2;36m                    \u001b[0m           return \u001b[1;35mfit_method\u001b[0m\u001b[1m(\u001b[0mestimator, *args, **kwargs\u001b[1m)\u001b[0m                        \u001b[2m               \u001b[0m\n",
       "\u001b[2;36m                    \u001b[0m                                                                                \u001b[2m               \u001b[0m\n"
      ]
     },
     "metadata": {},
     "output_type": "display_data"
    },
    {
     "data": {
      "text/html": [
       "<pre style=\"white-space:pre;overflow-x:auto;line-height:normal;font-family:Menlo,'DejaVu Sans Mono',consolas,'Courier New',monospace\"><span style=\"color: #7fbfbf; text-decoration-color: #7fbfbf\">                    </span><span style=\"color: #800000; text-decoration-color: #800000\">WARNING </span> C:\\Users\\dggua\\anaconda3\\envs\\test_env\\lib\\site-packages\\sklearn\\base. <a href=\"file://C:\\Users\\dggua\\anaconda3\\envs\\test_env\\lib\\warnings.py\" target=\"_blank\"><span style=\"color: #7f7f7f; text-decoration-color: #7f7f7f\">warnings.py</span></a><span style=\"color: #7f7f7f; text-decoration-color: #7f7f7f\">:</span><a href=\"file://C:\\Users\\dggua\\anaconda3\\envs\\test_env\\lib\\warnings.py#109\" target=\"_blank\"><span style=\"color: #7f7f7f; text-decoration-color: #7f7f7f\">109</span></a>\n",
       "<span style=\"color: #7fbfbf; text-decoration-color: #7fbfbf\">                    </span>         py:<span style=\"color: #008080; text-decoration-color: #008080; font-weight: bold\">1351</span>: DataConversionWarning: A column-vector y was passed when a 1d <span style=\"color: #7f7f7f; text-decoration-color: #7f7f7f\">               </span>\n",
       "<span style=\"color: #7fbfbf; text-decoration-color: #7fbfbf\">                    </span>         array was expected. Please change the shape of y to <span style=\"font-weight: bold\">(</span>n_samples,<span style=\"font-weight: bold\">)</span>, for  <span style=\"color: #7f7f7f; text-decoration-color: #7f7f7f\">               </span>\n",
       "<span style=\"color: #7fbfbf; text-decoration-color: #7fbfbf\">                    </span>         example using <span style=\"color: #800080; text-decoration-color: #800080; font-weight: bold\">ravel</span><span style=\"font-weight: bold\">()</span>.                                                 <span style=\"color: #7f7f7f; text-decoration-color: #7f7f7f\">               </span>\n",
       "<span style=\"color: #7fbfbf; text-decoration-color: #7fbfbf\">                    </span>           return <span style=\"color: #800080; text-decoration-color: #800080; font-weight: bold\">fit_method</span><span style=\"font-weight: bold\">(</span>estimator, *args, **kwargs<span style=\"font-weight: bold\">)</span>                        <span style=\"color: #7f7f7f; text-decoration-color: #7f7f7f\">               </span>\n",
       "<span style=\"color: #7fbfbf; text-decoration-color: #7fbfbf\">                    </span>                                                                                <span style=\"color: #7f7f7f; text-decoration-color: #7f7f7f\">               </span>\n",
       "</pre>\n"
      ],
      "text/plain": [
       "\u001b[2;36m                   \u001b[0m\u001b[2;36m \u001b[0m\u001b[31mWARNING \u001b[0m C:\\Users\\dggua\\anaconda3\\envs\\test_env\\lib\\site-packages\\sklearn\\base. \u001b]8;id=177437;file://C:\\Users\\dggua\\anaconda3\\envs\\test_env\\lib\\warnings.py\u001b\\\u001b[2mwarnings.py\u001b[0m\u001b]8;;\u001b\\\u001b[2m:\u001b[0m\u001b]8;id=423654;file://C:\\Users\\dggua\\anaconda3\\envs\\test_env\\lib\\warnings.py#109\u001b\\\u001b[2m109\u001b[0m\u001b]8;;\u001b\\\n",
       "\u001b[2;36m                    \u001b[0m         py:\u001b[1;36m1351\u001b[0m: DataConversionWarning: A column-vector y was passed when a 1d \u001b[2m               \u001b[0m\n",
       "\u001b[2;36m                    \u001b[0m         array was expected. Please change the shape of y to \u001b[1m(\u001b[0mn_samples,\u001b[1m)\u001b[0m, for  \u001b[2m               \u001b[0m\n",
       "\u001b[2;36m                    \u001b[0m         example using \u001b[1;35mravel\u001b[0m\u001b[1m(\u001b[0m\u001b[1m)\u001b[0m.                                                 \u001b[2m               \u001b[0m\n",
       "\u001b[2;36m                    \u001b[0m           return \u001b[1;35mfit_method\u001b[0m\u001b[1m(\u001b[0mestimator, *args, **kwargs\u001b[1m)\u001b[0m                        \u001b[2m               \u001b[0m\n",
       "\u001b[2;36m                    \u001b[0m                                                                                \u001b[2m               \u001b[0m\n"
      ]
     },
     "metadata": {},
     "output_type": "display_data"
    },
    {
     "data": {
      "text/html": [
       "<pre style=\"white-space:pre;overflow-x:auto;line-height:normal;font-family:Menlo,'DejaVu Sans Mono',consolas,'Courier New',monospace\"><span style=\"color: #7fbfbf; text-decoration-color: #7fbfbf\">                    </span><span style=\"color: #800000; text-decoration-color: #800000\">WARNING </span> C:\\Users\\dggua\\anaconda3\\envs\\test_env\\lib\\site-packages\\sklearn\\base. <a href=\"file://C:\\Users\\dggua\\anaconda3\\envs\\test_env\\lib\\warnings.py\" target=\"_blank\"><span style=\"color: #7f7f7f; text-decoration-color: #7f7f7f\">warnings.py</span></a><span style=\"color: #7f7f7f; text-decoration-color: #7f7f7f\">:</span><a href=\"file://C:\\Users\\dggua\\anaconda3\\envs\\test_env\\lib\\warnings.py#109\" target=\"_blank\"><span style=\"color: #7f7f7f; text-decoration-color: #7f7f7f\">109</span></a>\n",
       "<span style=\"color: #7fbfbf; text-decoration-color: #7fbfbf\">                    </span>         py:<span style=\"color: #008080; text-decoration-color: #008080; font-weight: bold\">1351</span>: DataConversionWarning: A column-vector y was passed when a 1d <span style=\"color: #7f7f7f; text-decoration-color: #7f7f7f\">               </span>\n",
       "<span style=\"color: #7fbfbf; text-decoration-color: #7fbfbf\">                    </span>         array was expected. Please change the shape of y to <span style=\"font-weight: bold\">(</span>n_samples,<span style=\"font-weight: bold\">)</span>, for  <span style=\"color: #7f7f7f; text-decoration-color: #7f7f7f\">               </span>\n",
       "<span style=\"color: #7fbfbf; text-decoration-color: #7fbfbf\">                    </span>         example using <span style=\"color: #800080; text-decoration-color: #800080; font-weight: bold\">ravel</span><span style=\"font-weight: bold\">()</span>.                                                 <span style=\"color: #7f7f7f; text-decoration-color: #7f7f7f\">               </span>\n",
       "<span style=\"color: #7fbfbf; text-decoration-color: #7fbfbf\">                    </span>           return <span style=\"color: #800080; text-decoration-color: #800080; font-weight: bold\">fit_method</span><span style=\"font-weight: bold\">(</span>estimator, *args, **kwargs<span style=\"font-weight: bold\">)</span>                        <span style=\"color: #7f7f7f; text-decoration-color: #7f7f7f\">               </span>\n",
       "<span style=\"color: #7fbfbf; text-decoration-color: #7fbfbf\">                    </span>                                                                                <span style=\"color: #7f7f7f; text-decoration-color: #7f7f7f\">               </span>\n",
       "</pre>\n"
      ],
      "text/plain": [
       "\u001b[2;36m                   \u001b[0m\u001b[2;36m \u001b[0m\u001b[31mWARNING \u001b[0m C:\\Users\\dggua\\anaconda3\\envs\\test_env\\lib\\site-packages\\sklearn\\base. \u001b]8;id=441114;file://C:\\Users\\dggua\\anaconda3\\envs\\test_env\\lib\\warnings.py\u001b\\\u001b[2mwarnings.py\u001b[0m\u001b]8;;\u001b\\\u001b[2m:\u001b[0m\u001b]8;id=826397;file://C:\\Users\\dggua\\anaconda3\\envs\\test_env\\lib\\warnings.py#109\u001b\\\u001b[2m109\u001b[0m\u001b]8;;\u001b\\\n",
       "\u001b[2;36m                    \u001b[0m         py:\u001b[1;36m1351\u001b[0m: DataConversionWarning: A column-vector y was passed when a 1d \u001b[2m               \u001b[0m\n",
       "\u001b[2;36m                    \u001b[0m         array was expected. Please change the shape of y to \u001b[1m(\u001b[0mn_samples,\u001b[1m)\u001b[0m, for  \u001b[2m               \u001b[0m\n",
       "\u001b[2;36m                    \u001b[0m         example using \u001b[1;35mravel\u001b[0m\u001b[1m(\u001b[0m\u001b[1m)\u001b[0m.                                                 \u001b[2m               \u001b[0m\n",
       "\u001b[2;36m                    \u001b[0m           return \u001b[1;35mfit_method\u001b[0m\u001b[1m(\u001b[0mestimator, *args, **kwargs\u001b[1m)\u001b[0m                        \u001b[2m               \u001b[0m\n",
       "\u001b[2;36m                    \u001b[0m                                                                                \u001b[2m               \u001b[0m\n"
      ]
     },
     "metadata": {},
     "output_type": "display_data"
    },
    {
     "data": {
      "text/html": [
       "<pre style=\"white-space:pre;overflow-x:auto;line-height:normal;font-family:Menlo,'DejaVu Sans Mono',consolas,'Courier New',monospace\"><span style=\"color: #7fbfbf; text-decoration-color: #7fbfbf\">                    </span><span style=\"color: #800000; text-decoration-color: #800000\">WARNING </span> C:\\Users\\dggua\\anaconda3\\envs\\test_env\\lib\\site-packages\\sklearn\\base. <a href=\"file://C:\\Users\\dggua\\anaconda3\\envs\\test_env\\lib\\warnings.py\" target=\"_blank\"><span style=\"color: #7f7f7f; text-decoration-color: #7f7f7f\">warnings.py</span></a><span style=\"color: #7f7f7f; text-decoration-color: #7f7f7f\">:</span><a href=\"file://C:\\Users\\dggua\\anaconda3\\envs\\test_env\\lib\\warnings.py#109\" target=\"_blank\"><span style=\"color: #7f7f7f; text-decoration-color: #7f7f7f\">109</span></a>\n",
       "<span style=\"color: #7fbfbf; text-decoration-color: #7fbfbf\">                    </span>         py:<span style=\"color: #008080; text-decoration-color: #008080; font-weight: bold\">1351</span>: DataConversionWarning: A column-vector y was passed when a 1d <span style=\"color: #7f7f7f; text-decoration-color: #7f7f7f\">               </span>\n",
       "<span style=\"color: #7fbfbf; text-decoration-color: #7fbfbf\">                    </span>         array was expected. Please change the shape of y to <span style=\"font-weight: bold\">(</span>n_samples,<span style=\"font-weight: bold\">)</span>, for  <span style=\"color: #7f7f7f; text-decoration-color: #7f7f7f\">               </span>\n",
       "<span style=\"color: #7fbfbf; text-decoration-color: #7fbfbf\">                    </span>         example using <span style=\"color: #800080; text-decoration-color: #800080; font-weight: bold\">ravel</span><span style=\"font-weight: bold\">()</span>.                                                 <span style=\"color: #7f7f7f; text-decoration-color: #7f7f7f\">               </span>\n",
       "<span style=\"color: #7fbfbf; text-decoration-color: #7fbfbf\">                    </span>           return <span style=\"color: #800080; text-decoration-color: #800080; font-weight: bold\">fit_method</span><span style=\"font-weight: bold\">(</span>estimator, *args, **kwargs<span style=\"font-weight: bold\">)</span>                        <span style=\"color: #7f7f7f; text-decoration-color: #7f7f7f\">               </span>\n",
       "<span style=\"color: #7fbfbf; text-decoration-color: #7fbfbf\">                    </span>                                                                                <span style=\"color: #7f7f7f; text-decoration-color: #7f7f7f\">               </span>\n",
       "</pre>\n"
      ],
      "text/plain": [
       "\u001b[2;36m                   \u001b[0m\u001b[2;36m \u001b[0m\u001b[31mWARNING \u001b[0m C:\\Users\\dggua\\anaconda3\\envs\\test_env\\lib\\site-packages\\sklearn\\base. \u001b]8;id=253226;file://C:\\Users\\dggua\\anaconda3\\envs\\test_env\\lib\\warnings.py\u001b\\\u001b[2mwarnings.py\u001b[0m\u001b]8;;\u001b\\\u001b[2m:\u001b[0m\u001b]8;id=310306;file://C:\\Users\\dggua\\anaconda3\\envs\\test_env\\lib\\warnings.py#109\u001b\\\u001b[2m109\u001b[0m\u001b]8;;\u001b\\\n",
       "\u001b[2;36m                    \u001b[0m         py:\u001b[1;36m1351\u001b[0m: DataConversionWarning: A column-vector y was passed when a 1d \u001b[2m               \u001b[0m\n",
       "\u001b[2;36m                    \u001b[0m         array was expected. Please change the shape of y to \u001b[1m(\u001b[0mn_samples,\u001b[1m)\u001b[0m, for  \u001b[2m               \u001b[0m\n",
       "\u001b[2;36m                    \u001b[0m         example using \u001b[1;35mravel\u001b[0m\u001b[1m(\u001b[0m\u001b[1m)\u001b[0m.                                                 \u001b[2m               \u001b[0m\n",
       "\u001b[2;36m                    \u001b[0m           return \u001b[1;35mfit_method\u001b[0m\u001b[1m(\u001b[0mestimator, *args, **kwargs\u001b[1m)\u001b[0m                        \u001b[2m               \u001b[0m\n",
       "\u001b[2;36m                    \u001b[0m                                                                                \u001b[2m               \u001b[0m\n"
      ]
     },
     "metadata": {},
     "output_type": "display_data"
    },
    {
     "data": {
      "text/html": [
       "<pre style=\"white-space:pre;overflow-x:auto;line-height:normal;font-family:Menlo,'DejaVu Sans Mono',consolas,'Courier New',monospace\"><span style=\"color: #7fbfbf; text-decoration-color: #7fbfbf\">                    </span><span style=\"color: #800000; text-decoration-color: #800000\">WARNING </span> C:\\Users\\dggua\\anaconda3\\envs\\test_env\\lib\\site-packages\\sklearn\\base. <a href=\"file://C:\\Users\\dggua\\anaconda3\\envs\\test_env\\lib\\warnings.py\" target=\"_blank\"><span style=\"color: #7f7f7f; text-decoration-color: #7f7f7f\">warnings.py</span></a><span style=\"color: #7f7f7f; text-decoration-color: #7f7f7f\">:</span><a href=\"file://C:\\Users\\dggua\\anaconda3\\envs\\test_env\\lib\\warnings.py#109\" target=\"_blank\"><span style=\"color: #7f7f7f; text-decoration-color: #7f7f7f\">109</span></a>\n",
       "<span style=\"color: #7fbfbf; text-decoration-color: #7fbfbf\">                    </span>         py:<span style=\"color: #008080; text-decoration-color: #008080; font-weight: bold\">1351</span>: DataConversionWarning: A column-vector y was passed when a 1d <span style=\"color: #7f7f7f; text-decoration-color: #7f7f7f\">               </span>\n",
       "<span style=\"color: #7fbfbf; text-decoration-color: #7fbfbf\">                    </span>         array was expected. Please change the shape of y to <span style=\"font-weight: bold\">(</span>n_samples,<span style=\"font-weight: bold\">)</span>, for  <span style=\"color: #7f7f7f; text-decoration-color: #7f7f7f\">               </span>\n",
       "<span style=\"color: #7fbfbf; text-decoration-color: #7fbfbf\">                    </span>         example using <span style=\"color: #800080; text-decoration-color: #800080; font-weight: bold\">ravel</span><span style=\"font-weight: bold\">()</span>.                                                 <span style=\"color: #7f7f7f; text-decoration-color: #7f7f7f\">               </span>\n",
       "<span style=\"color: #7fbfbf; text-decoration-color: #7fbfbf\">                    </span>           return <span style=\"color: #800080; text-decoration-color: #800080; font-weight: bold\">fit_method</span><span style=\"font-weight: bold\">(</span>estimator, *args, **kwargs<span style=\"font-weight: bold\">)</span>                        <span style=\"color: #7f7f7f; text-decoration-color: #7f7f7f\">               </span>\n",
       "<span style=\"color: #7fbfbf; text-decoration-color: #7fbfbf\">                    </span>                                                                                <span style=\"color: #7f7f7f; text-decoration-color: #7f7f7f\">               </span>\n",
       "</pre>\n"
      ],
      "text/plain": [
       "\u001b[2;36m                   \u001b[0m\u001b[2;36m \u001b[0m\u001b[31mWARNING \u001b[0m C:\\Users\\dggua\\anaconda3\\envs\\test_env\\lib\\site-packages\\sklearn\\base. \u001b]8;id=706912;file://C:\\Users\\dggua\\anaconda3\\envs\\test_env\\lib\\warnings.py\u001b\\\u001b[2mwarnings.py\u001b[0m\u001b]8;;\u001b\\\u001b[2m:\u001b[0m\u001b]8;id=313443;file://C:\\Users\\dggua\\anaconda3\\envs\\test_env\\lib\\warnings.py#109\u001b\\\u001b[2m109\u001b[0m\u001b]8;;\u001b\\\n",
       "\u001b[2;36m                    \u001b[0m         py:\u001b[1;36m1351\u001b[0m: DataConversionWarning: A column-vector y was passed when a 1d \u001b[2m               \u001b[0m\n",
       "\u001b[2;36m                    \u001b[0m         array was expected. Please change the shape of y to \u001b[1m(\u001b[0mn_samples,\u001b[1m)\u001b[0m, for  \u001b[2m               \u001b[0m\n",
       "\u001b[2;36m                    \u001b[0m         example using \u001b[1;35mravel\u001b[0m\u001b[1m(\u001b[0m\u001b[1m)\u001b[0m.                                                 \u001b[2m               \u001b[0m\n",
       "\u001b[2;36m                    \u001b[0m           return \u001b[1;35mfit_method\u001b[0m\u001b[1m(\u001b[0mestimator, *args, **kwargs\u001b[1m)\u001b[0m                        \u001b[2m               \u001b[0m\n",
       "\u001b[2;36m                    \u001b[0m                                                                                \u001b[2m               \u001b[0m\n"
      ]
     },
     "metadata": {},
     "output_type": "display_data"
    },
    {
     "data": {
      "text/html": [
       "<pre style=\"white-space:pre;overflow-x:auto;line-height:normal;font-family:Menlo,'DejaVu Sans Mono',consolas,'Courier New',monospace\"><span style=\"color: #7fbfbf; text-decoration-color: #7fbfbf\">                    </span><span style=\"color: #800000; text-decoration-color: #800000\">WARNING </span> C:\\Users\\dggua\\anaconda3\\envs\\test_env\\lib\\site-packages\\sklearn\\base. <a href=\"file://C:\\Users\\dggua\\anaconda3\\envs\\test_env\\lib\\warnings.py\" target=\"_blank\"><span style=\"color: #7f7f7f; text-decoration-color: #7f7f7f\">warnings.py</span></a><span style=\"color: #7f7f7f; text-decoration-color: #7f7f7f\">:</span><a href=\"file://C:\\Users\\dggua\\anaconda3\\envs\\test_env\\lib\\warnings.py#109\" target=\"_blank\"><span style=\"color: #7f7f7f; text-decoration-color: #7f7f7f\">109</span></a>\n",
       "<span style=\"color: #7fbfbf; text-decoration-color: #7fbfbf\">                    </span>         py:<span style=\"color: #008080; text-decoration-color: #008080; font-weight: bold\">1351</span>: DataConversionWarning: A column-vector y was passed when a 1d <span style=\"color: #7f7f7f; text-decoration-color: #7f7f7f\">               </span>\n",
       "<span style=\"color: #7fbfbf; text-decoration-color: #7fbfbf\">                    </span>         array was expected. Please change the shape of y to <span style=\"font-weight: bold\">(</span>n_samples,<span style=\"font-weight: bold\">)</span>, for  <span style=\"color: #7f7f7f; text-decoration-color: #7f7f7f\">               </span>\n",
       "<span style=\"color: #7fbfbf; text-decoration-color: #7fbfbf\">                    </span>         example using <span style=\"color: #800080; text-decoration-color: #800080; font-weight: bold\">ravel</span><span style=\"font-weight: bold\">()</span>.                                                 <span style=\"color: #7f7f7f; text-decoration-color: #7f7f7f\">               </span>\n",
       "<span style=\"color: #7fbfbf; text-decoration-color: #7fbfbf\">                    </span>           return <span style=\"color: #800080; text-decoration-color: #800080; font-weight: bold\">fit_method</span><span style=\"font-weight: bold\">(</span>estimator, *args, **kwargs<span style=\"font-weight: bold\">)</span>                        <span style=\"color: #7f7f7f; text-decoration-color: #7f7f7f\">               </span>\n",
       "<span style=\"color: #7fbfbf; text-decoration-color: #7fbfbf\">                    </span>                                                                                <span style=\"color: #7f7f7f; text-decoration-color: #7f7f7f\">               </span>\n",
       "</pre>\n"
      ],
      "text/plain": [
       "\u001b[2;36m                   \u001b[0m\u001b[2;36m \u001b[0m\u001b[31mWARNING \u001b[0m C:\\Users\\dggua\\anaconda3\\envs\\test_env\\lib\\site-packages\\sklearn\\base. \u001b]8;id=650664;file://C:\\Users\\dggua\\anaconda3\\envs\\test_env\\lib\\warnings.py\u001b\\\u001b[2mwarnings.py\u001b[0m\u001b]8;;\u001b\\\u001b[2m:\u001b[0m\u001b]8;id=33370;file://C:\\Users\\dggua\\anaconda3\\envs\\test_env\\lib\\warnings.py#109\u001b\\\u001b[2m109\u001b[0m\u001b]8;;\u001b\\\n",
       "\u001b[2;36m                    \u001b[0m         py:\u001b[1;36m1351\u001b[0m: DataConversionWarning: A column-vector y was passed when a 1d \u001b[2m               \u001b[0m\n",
       "\u001b[2;36m                    \u001b[0m         array was expected. Please change the shape of y to \u001b[1m(\u001b[0mn_samples,\u001b[1m)\u001b[0m, for  \u001b[2m               \u001b[0m\n",
       "\u001b[2;36m                    \u001b[0m         example using \u001b[1;35mravel\u001b[0m\u001b[1m(\u001b[0m\u001b[1m)\u001b[0m.                                                 \u001b[2m               \u001b[0m\n",
       "\u001b[2;36m                    \u001b[0m           return \u001b[1;35mfit_method\u001b[0m\u001b[1m(\u001b[0mestimator, *args, **kwargs\u001b[1m)\u001b[0m                        \u001b[2m               \u001b[0m\n",
       "\u001b[2;36m                    \u001b[0m                                                                                \u001b[2m               \u001b[0m\n"
      ]
     },
     "metadata": {},
     "output_type": "display_data"
    },
    {
     "data": {
      "text/html": [
       "<pre style=\"white-space:pre;overflow-x:auto;line-height:normal;font-family:Menlo,'DejaVu Sans Mono',consolas,'Courier New',monospace\"><span style=\"color: #7fbfbf; text-decoration-color: #7fbfbf\">                    </span><span style=\"color: #800000; text-decoration-color: #800000\">WARNING </span> C:\\Users\\dggua\\anaconda3\\envs\\test_env\\lib\\site-packages\\sklearn\\base. <a href=\"file://C:\\Users\\dggua\\anaconda3\\envs\\test_env\\lib\\warnings.py\" target=\"_blank\"><span style=\"color: #7f7f7f; text-decoration-color: #7f7f7f\">warnings.py</span></a><span style=\"color: #7f7f7f; text-decoration-color: #7f7f7f\">:</span><a href=\"file://C:\\Users\\dggua\\anaconda3\\envs\\test_env\\lib\\warnings.py#109\" target=\"_blank\"><span style=\"color: #7f7f7f; text-decoration-color: #7f7f7f\">109</span></a>\n",
       "<span style=\"color: #7fbfbf; text-decoration-color: #7fbfbf\">                    </span>         py:<span style=\"color: #008080; text-decoration-color: #008080; font-weight: bold\">1351</span>: DataConversionWarning: A column-vector y was passed when a 1d <span style=\"color: #7f7f7f; text-decoration-color: #7f7f7f\">               </span>\n",
       "<span style=\"color: #7fbfbf; text-decoration-color: #7fbfbf\">                    </span>         array was expected. Please change the shape of y to <span style=\"font-weight: bold\">(</span>n_samples,<span style=\"font-weight: bold\">)</span>, for  <span style=\"color: #7f7f7f; text-decoration-color: #7f7f7f\">               </span>\n",
       "<span style=\"color: #7fbfbf; text-decoration-color: #7fbfbf\">                    </span>         example using <span style=\"color: #800080; text-decoration-color: #800080; font-weight: bold\">ravel</span><span style=\"font-weight: bold\">()</span>.                                                 <span style=\"color: #7f7f7f; text-decoration-color: #7f7f7f\">               </span>\n",
       "<span style=\"color: #7fbfbf; text-decoration-color: #7fbfbf\">                    </span>           return <span style=\"color: #800080; text-decoration-color: #800080; font-weight: bold\">fit_method</span><span style=\"font-weight: bold\">(</span>estimator, *args, **kwargs<span style=\"font-weight: bold\">)</span>                        <span style=\"color: #7f7f7f; text-decoration-color: #7f7f7f\">               </span>\n",
       "<span style=\"color: #7fbfbf; text-decoration-color: #7fbfbf\">                    </span>                                                                                <span style=\"color: #7f7f7f; text-decoration-color: #7f7f7f\">               </span>\n",
       "</pre>\n"
      ],
      "text/plain": [
       "\u001b[2;36m                   \u001b[0m\u001b[2;36m \u001b[0m\u001b[31mWARNING \u001b[0m C:\\Users\\dggua\\anaconda3\\envs\\test_env\\lib\\site-packages\\sklearn\\base. \u001b]8;id=850372;file://C:\\Users\\dggua\\anaconda3\\envs\\test_env\\lib\\warnings.py\u001b\\\u001b[2mwarnings.py\u001b[0m\u001b]8;;\u001b\\\u001b[2m:\u001b[0m\u001b]8;id=873482;file://C:\\Users\\dggua\\anaconda3\\envs\\test_env\\lib\\warnings.py#109\u001b\\\u001b[2m109\u001b[0m\u001b]8;;\u001b\\\n",
       "\u001b[2;36m                    \u001b[0m         py:\u001b[1;36m1351\u001b[0m: DataConversionWarning: A column-vector y was passed when a 1d \u001b[2m               \u001b[0m\n",
       "\u001b[2;36m                    \u001b[0m         array was expected. Please change the shape of y to \u001b[1m(\u001b[0mn_samples,\u001b[1m)\u001b[0m, for  \u001b[2m               \u001b[0m\n",
       "\u001b[2;36m                    \u001b[0m         example using \u001b[1;35mravel\u001b[0m\u001b[1m(\u001b[0m\u001b[1m)\u001b[0m.                                                 \u001b[2m               \u001b[0m\n",
       "\u001b[2;36m                    \u001b[0m           return \u001b[1;35mfit_method\u001b[0m\u001b[1m(\u001b[0mestimator, *args, **kwargs\u001b[1m)\u001b[0m                        \u001b[2m               \u001b[0m\n",
       "\u001b[2;36m                    \u001b[0m                                                                                \u001b[2m               \u001b[0m\n"
      ]
     },
     "metadata": {},
     "output_type": "display_data"
    },
    {
     "data": {
      "text/html": [
       "<pre style=\"white-space:pre;overflow-x:auto;line-height:normal;font-family:Menlo,'DejaVu Sans Mono',consolas,'Courier New',monospace\"><span style=\"color: #7fbfbf; text-decoration-color: #7fbfbf\">                    </span><span style=\"color: #800000; text-decoration-color: #800000\">WARNING </span> C:\\Users\\dggua\\anaconda3\\envs\\test_env\\lib\\site-packages\\sklearn\\base. <a href=\"file://C:\\Users\\dggua\\anaconda3\\envs\\test_env\\lib\\warnings.py\" target=\"_blank\"><span style=\"color: #7f7f7f; text-decoration-color: #7f7f7f\">warnings.py</span></a><span style=\"color: #7f7f7f; text-decoration-color: #7f7f7f\">:</span><a href=\"file://C:\\Users\\dggua\\anaconda3\\envs\\test_env\\lib\\warnings.py#109\" target=\"_blank\"><span style=\"color: #7f7f7f; text-decoration-color: #7f7f7f\">109</span></a>\n",
       "<span style=\"color: #7fbfbf; text-decoration-color: #7fbfbf\">                    </span>         py:<span style=\"color: #008080; text-decoration-color: #008080; font-weight: bold\">1351</span>: DataConversionWarning: A column-vector y was passed when a 1d <span style=\"color: #7f7f7f; text-decoration-color: #7f7f7f\">               </span>\n",
       "<span style=\"color: #7fbfbf; text-decoration-color: #7fbfbf\">                    </span>         array was expected. Please change the shape of y to <span style=\"font-weight: bold\">(</span>n_samples,<span style=\"font-weight: bold\">)</span>, for  <span style=\"color: #7f7f7f; text-decoration-color: #7f7f7f\">               </span>\n",
       "<span style=\"color: #7fbfbf; text-decoration-color: #7fbfbf\">                    </span>         example using <span style=\"color: #800080; text-decoration-color: #800080; font-weight: bold\">ravel</span><span style=\"font-weight: bold\">()</span>.                                                 <span style=\"color: #7f7f7f; text-decoration-color: #7f7f7f\">               </span>\n",
       "<span style=\"color: #7fbfbf; text-decoration-color: #7fbfbf\">                    </span>           return <span style=\"color: #800080; text-decoration-color: #800080; font-weight: bold\">fit_method</span><span style=\"font-weight: bold\">(</span>estimator, *args, **kwargs<span style=\"font-weight: bold\">)</span>                        <span style=\"color: #7f7f7f; text-decoration-color: #7f7f7f\">               </span>\n",
       "<span style=\"color: #7fbfbf; text-decoration-color: #7fbfbf\">                    </span>                                                                                <span style=\"color: #7f7f7f; text-decoration-color: #7f7f7f\">               </span>\n",
       "</pre>\n"
      ],
      "text/plain": [
       "\u001b[2;36m                   \u001b[0m\u001b[2;36m \u001b[0m\u001b[31mWARNING \u001b[0m C:\\Users\\dggua\\anaconda3\\envs\\test_env\\lib\\site-packages\\sklearn\\base. \u001b]8;id=913866;file://C:\\Users\\dggua\\anaconda3\\envs\\test_env\\lib\\warnings.py\u001b\\\u001b[2mwarnings.py\u001b[0m\u001b]8;;\u001b\\\u001b[2m:\u001b[0m\u001b]8;id=897344;file://C:\\Users\\dggua\\anaconda3\\envs\\test_env\\lib\\warnings.py#109\u001b\\\u001b[2m109\u001b[0m\u001b]8;;\u001b\\\n",
       "\u001b[2;36m                    \u001b[0m         py:\u001b[1;36m1351\u001b[0m: DataConversionWarning: A column-vector y was passed when a 1d \u001b[2m               \u001b[0m\n",
       "\u001b[2;36m                    \u001b[0m         array was expected. Please change the shape of y to \u001b[1m(\u001b[0mn_samples,\u001b[1m)\u001b[0m, for  \u001b[2m               \u001b[0m\n",
       "\u001b[2;36m                    \u001b[0m         example using \u001b[1;35mravel\u001b[0m\u001b[1m(\u001b[0m\u001b[1m)\u001b[0m.                                                 \u001b[2m               \u001b[0m\n",
       "\u001b[2;36m                    \u001b[0m           return \u001b[1;35mfit_method\u001b[0m\u001b[1m(\u001b[0mestimator, *args, **kwargs\u001b[1m)\u001b[0m                        \u001b[2m               \u001b[0m\n",
       "\u001b[2;36m                    \u001b[0m                                                                                \u001b[2m               \u001b[0m\n"
      ]
     },
     "metadata": {},
     "output_type": "display_data"
    },
    {
     "data": {
      "text/html": [
       "<pre style=\"white-space:pre;overflow-x:auto;line-height:normal;font-family:Menlo,'DejaVu Sans Mono',consolas,'Courier New',monospace\"><span style=\"color: #7fbfbf; text-decoration-color: #7fbfbf\">                    </span><span style=\"color: #800000; text-decoration-color: #800000\">WARNING </span> C:\\Users\\dggua\\anaconda3\\envs\\test_env\\lib\\site-packages\\sklearn\\base. <a href=\"file://C:\\Users\\dggua\\anaconda3\\envs\\test_env\\lib\\warnings.py\" target=\"_blank\"><span style=\"color: #7f7f7f; text-decoration-color: #7f7f7f\">warnings.py</span></a><span style=\"color: #7f7f7f; text-decoration-color: #7f7f7f\">:</span><a href=\"file://C:\\Users\\dggua\\anaconda3\\envs\\test_env\\lib\\warnings.py#109\" target=\"_blank\"><span style=\"color: #7f7f7f; text-decoration-color: #7f7f7f\">109</span></a>\n",
       "<span style=\"color: #7fbfbf; text-decoration-color: #7fbfbf\">                    </span>         py:<span style=\"color: #008080; text-decoration-color: #008080; font-weight: bold\">1351</span>: DataConversionWarning: A column-vector y was passed when a 1d <span style=\"color: #7f7f7f; text-decoration-color: #7f7f7f\">               </span>\n",
       "<span style=\"color: #7fbfbf; text-decoration-color: #7fbfbf\">                    </span>         array was expected. Please change the shape of y to <span style=\"font-weight: bold\">(</span>n_samples,<span style=\"font-weight: bold\">)</span>, for  <span style=\"color: #7f7f7f; text-decoration-color: #7f7f7f\">               </span>\n",
       "<span style=\"color: #7fbfbf; text-decoration-color: #7fbfbf\">                    </span>         example using <span style=\"color: #800080; text-decoration-color: #800080; font-weight: bold\">ravel</span><span style=\"font-weight: bold\">()</span>.                                                 <span style=\"color: #7f7f7f; text-decoration-color: #7f7f7f\">               </span>\n",
       "<span style=\"color: #7fbfbf; text-decoration-color: #7fbfbf\">                    </span>           return <span style=\"color: #800080; text-decoration-color: #800080; font-weight: bold\">fit_method</span><span style=\"font-weight: bold\">(</span>estimator, *args, **kwargs<span style=\"font-weight: bold\">)</span>                        <span style=\"color: #7f7f7f; text-decoration-color: #7f7f7f\">               </span>\n",
       "<span style=\"color: #7fbfbf; text-decoration-color: #7fbfbf\">                    </span>                                                                                <span style=\"color: #7f7f7f; text-decoration-color: #7f7f7f\">               </span>\n",
       "</pre>\n"
      ],
      "text/plain": [
       "\u001b[2;36m                   \u001b[0m\u001b[2;36m \u001b[0m\u001b[31mWARNING \u001b[0m C:\\Users\\dggua\\anaconda3\\envs\\test_env\\lib\\site-packages\\sklearn\\base. \u001b]8;id=836914;file://C:\\Users\\dggua\\anaconda3\\envs\\test_env\\lib\\warnings.py\u001b\\\u001b[2mwarnings.py\u001b[0m\u001b]8;;\u001b\\\u001b[2m:\u001b[0m\u001b]8;id=826071;file://C:\\Users\\dggua\\anaconda3\\envs\\test_env\\lib\\warnings.py#109\u001b\\\u001b[2m109\u001b[0m\u001b]8;;\u001b\\\n",
       "\u001b[2;36m                    \u001b[0m         py:\u001b[1;36m1351\u001b[0m: DataConversionWarning: A column-vector y was passed when a 1d \u001b[2m               \u001b[0m\n",
       "\u001b[2;36m                    \u001b[0m         array was expected. Please change the shape of y to \u001b[1m(\u001b[0mn_samples,\u001b[1m)\u001b[0m, for  \u001b[2m               \u001b[0m\n",
       "\u001b[2;36m                    \u001b[0m         example using \u001b[1;35mravel\u001b[0m\u001b[1m(\u001b[0m\u001b[1m)\u001b[0m.                                                 \u001b[2m               \u001b[0m\n",
       "\u001b[2;36m                    \u001b[0m           return \u001b[1;35mfit_method\u001b[0m\u001b[1m(\u001b[0mestimator, *args, **kwargs\u001b[1m)\u001b[0m                        \u001b[2m               \u001b[0m\n",
       "\u001b[2;36m                    \u001b[0m                                                                                \u001b[2m               \u001b[0m\n"
      ]
     },
     "metadata": {},
     "output_type": "display_data"
    },
    {
     "data": {
      "text/html": [
       "<pre style=\"white-space:pre;overflow-x:auto;line-height:normal;font-family:Menlo,'DejaVu Sans Mono',consolas,'Courier New',monospace\"><span style=\"color: #7fbfbf; text-decoration-color: #7fbfbf\">[06/22/24 16:18:03] </span><span style=\"color: #800000; text-decoration-color: #800000\">WARNING </span> C:\\Users\\dggua\\anaconda3\\envs\\test_env\\lib\\site-packages\\sklearn\\base. <a href=\"file://C:\\Users\\dggua\\anaconda3\\envs\\test_env\\lib\\warnings.py\" target=\"_blank\"><span style=\"color: #7f7f7f; text-decoration-color: #7f7f7f\">warnings.py</span></a><span style=\"color: #7f7f7f; text-decoration-color: #7f7f7f\">:</span><a href=\"file://C:\\Users\\dggua\\anaconda3\\envs\\test_env\\lib\\warnings.py#109\" target=\"_blank\"><span style=\"color: #7f7f7f; text-decoration-color: #7f7f7f\">109</span></a>\n",
       "<span style=\"color: #7fbfbf; text-decoration-color: #7fbfbf\">                    </span>         py:<span style=\"color: #008080; text-decoration-color: #008080; font-weight: bold\">1351</span>: DataConversionWarning: A column-vector y was passed when a 1d <span style=\"color: #7f7f7f; text-decoration-color: #7f7f7f\">               </span>\n",
       "<span style=\"color: #7fbfbf; text-decoration-color: #7fbfbf\">                    </span>         array was expected. Please change the shape of y to <span style=\"font-weight: bold\">(</span>n_samples,<span style=\"font-weight: bold\">)</span>, for  <span style=\"color: #7f7f7f; text-decoration-color: #7f7f7f\">               </span>\n",
       "<span style=\"color: #7fbfbf; text-decoration-color: #7fbfbf\">                    </span>         example using <span style=\"color: #800080; text-decoration-color: #800080; font-weight: bold\">ravel</span><span style=\"font-weight: bold\">()</span>.                                                 <span style=\"color: #7f7f7f; text-decoration-color: #7f7f7f\">               </span>\n",
       "<span style=\"color: #7fbfbf; text-decoration-color: #7fbfbf\">                    </span>           return <span style=\"color: #800080; text-decoration-color: #800080; font-weight: bold\">fit_method</span><span style=\"font-weight: bold\">(</span>estimator, *args, **kwargs<span style=\"font-weight: bold\">)</span>                        <span style=\"color: #7f7f7f; text-decoration-color: #7f7f7f\">               </span>\n",
       "<span style=\"color: #7fbfbf; text-decoration-color: #7fbfbf\">                    </span>                                                                                <span style=\"color: #7f7f7f; text-decoration-color: #7f7f7f\">               </span>\n",
       "</pre>\n"
      ],
      "text/plain": [
       "\u001b[2;36m[06/22/24 16:18:03]\u001b[0m\u001b[2;36m \u001b[0m\u001b[31mWARNING \u001b[0m C:\\Users\\dggua\\anaconda3\\envs\\test_env\\lib\\site-packages\\sklearn\\base. \u001b]8;id=555793;file://C:\\Users\\dggua\\anaconda3\\envs\\test_env\\lib\\warnings.py\u001b\\\u001b[2mwarnings.py\u001b[0m\u001b]8;;\u001b\\\u001b[2m:\u001b[0m\u001b]8;id=15407;file://C:\\Users\\dggua\\anaconda3\\envs\\test_env\\lib\\warnings.py#109\u001b\\\u001b[2m109\u001b[0m\u001b]8;;\u001b\\\n",
       "\u001b[2;36m                    \u001b[0m         py:\u001b[1;36m1351\u001b[0m: DataConversionWarning: A column-vector y was passed when a 1d \u001b[2m               \u001b[0m\n",
       "\u001b[2;36m                    \u001b[0m         array was expected. Please change the shape of y to \u001b[1m(\u001b[0mn_samples,\u001b[1m)\u001b[0m, for  \u001b[2m               \u001b[0m\n",
       "\u001b[2;36m                    \u001b[0m         example using \u001b[1;35mravel\u001b[0m\u001b[1m(\u001b[0m\u001b[1m)\u001b[0m.                                                 \u001b[2m               \u001b[0m\n",
       "\u001b[2;36m                    \u001b[0m           return \u001b[1;35mfit_method\u001b[0m\u001b[1m(\u001b[0mestimator, *args, **kwargs\u001b[1m)\u001b[0m                        \u001b[2m               \u001b[0m\n",
       "\u001b[2;36m                    \u001b[0m                                                                                \u001b[2m               \u001b[0m\n"
      ]
     },
     "metadata": {},
     "output_type": "display_data"
    },
    {
     "data": {
      "text/html": [
       "<pre style=\"white-space:pre;overflow-x:auto;line-height:normal;font-family:Menlo,'DejaVu Sans Mono',consolas,'Courier New',monospace\"><span style=\"color: #7fbfbf; text-decoration-color: #7fbfbf\">                    </span><span style=\"color: #800000; text-decoration-color: #800000\">WARNING </span> C:\\Users\\dggua\\anaconda3\\envs\\test_env\\lib\\site-packages\\sklearn\\base. <a href=\"file://C:\\Users\\dggua\\anaconda3\\envs\\test_env\\lib\\warnings.py\" target=\"_blank\"><span style=\"color: #7f7f7f; text-decoration-color: #7f7f7f\">warnings.py</span></a><span style=\"color: #7f7f7f; text-decoration-color: #7f7f7f\">:</span><a href=\"file://C:\\Users\\dggua\\anaconda3\\envs\\test_env\\lib\\warnings.py#109\" target=\"_blank\"><span style=\"color: #7f7f7f; text-decoration-color: #7f7f7f\">109</span></a>\n",
       "<span style=\"color: #7fbfbf; text-decoration-color: #7fbfbf\">                    </span>         py:<span style=\"color: #008080; text-decoration-color: #008080; font-weight: bold\">1351</span>: DataConversionWarning: A column-vector y was passed when a 1d <span style=\"color: #7f7f7f; text-decoration-color: #7f7f7f\">               </span>\n",
       "<span style=\"color: #7fbfbf; text-decoration-color: #7fbfbf\">                    </span>         array was expected. Please change the shape of y to <span style=\"font-weight: bold\">(</span>n_samples,<span style=\"font-weight: bold\">)</span>, for  <span style=\"color: #7f7f7f; text-decoration-color: #7f7f7f\">               </span>\n",
       "<span style=\"color: #7fbfbf; text-decoration-color: #7fbfbf\">                    </span>         example using <span style=\"color: #800080; text-decoration-color: #800080; font-weight: bold\">ravel</span><span style=\"font-weight: bold\">()</span>.                                                 <span style=\"color: #7f7f7f; text-decoration-color: #7f7f7f\">               </span>\n",
       "<span style=\"color: #7fbfbf; text-decoration-color: #7fbfbf\">                    </span>           return <span style=\"color: #800080; text-decoration-color: #800080; font-weight: bold\">fit_method</span><span style=\"font-weight: bold\">(</span>estimator, *args, **kwargs<span style=\"font-weight: bold\">)</span>                        <span style=\"color: #7f7f7f; text-decoration-color: #7f7f7f\">               </span>\n",
       "<span style=\"color: #7fbfbf; text-decoration-color: #7fbfbf\">                    </span>                                                                                <span style=\"color: #7f7f7f; text-decoration-color: #7f7f7f\">               </span>\n",
       "</pre>\n"
      ],
      "text/plain": [
       "\u001b[2;36m                   \u001b[0m\u001b[2;36m \u001b[0m\u001b[31mWARNING \u001b[0m C:\\Users\\dggua\\anaconda3\\envs\\test_env\\lib\\site-packages\\sklearn\\base. \u001b]8;id=466634;file://C:\\Users\\dggua\\anaconda3\\envs\\test_env\\lib\\warnings.py\u001b\\\u001b[2mwarnings.py\u001b[0m\u001b]8;;\u001b\\\u001b[2m:\u001b[0m\u001b]8;id=387672;file://C:\\Users\\dggua\\anaconda3\\envs\\test_env\\lib\\warnings.py#109\u001b\\\u001b[2m109\u001b[0m\u001b]8;;\u001b\\\n",
       "\u001b[2;36m                    \u001b[0m         py:\u001b[1;36m1351\u001b[0m: DataConversionWarning: A column-vector y was passed when a 1d \u001b[2m               \u001b[0m\n",
       "\u001b[2;36m                    \u001b[0m         array was expected. Please change the shape of y to \u001b[1m(\u001b[0mn_samples,\u001b[1m)\u001b[0m, for  \u001b[2m               \u001b[0m\n",
       "\u001b[2;36m                    \u001b[0m         example using \u001b[1;35mravel\u001b[0m\u001b[1m(\u001b[0m\u001b[1m)\u001b[0m.                                                 \u001b[2m               \u001b[0m\n",
       "\u001b[2;36m                    \u001b[0m           return \u001b[1;35mfit_method\u001b[0m\u001b[1m(\u001b[0mestimator, *args, **kwargs\u001b[1m)\u001b[0m                        \u001b[2m               \u001b[0m\n",
       "\u001b[2;36m                    \u001b[0m                                                                                \u001b[2m               \u001b[0m\n"
      ]
     },
     "metadata": {},
     "output_type": "display_data"
    },
    {
     "data": {
      "text/html": [
       "<pre style=\"white-space:pre;overflow-x:auto;line-height:normal;font-family:Menlo,'DejaVu Sans Mono',consolas,'Courier New',monospace\"><span style=\"color: #7fbfbf; text-decoration-color: #7fbfbf\">                    </span><span style=\"color: #800000; text-decoration-color: #800000\">WARNING </span> C:\\Users\\dggua\\anaconda3\\envs\\test_env\\lib\\site-packages\\sklearn\\base. <a href=\"file://C:\\Users\\dggua\\anaconda3\\envs\\test_env\\lib\\warnings.py\" target=\"_blank\"><span style=\"color: #7f7f7f; text-decoration-color: #7f7f7f\">warnings.py</span></a><span style=\"color: #7f7f7f; text-decoration-color: #7f7f7f\">:</span><a href=\"file://C:\\Users\\dggua\\anaconda3\\envs\\test_env\\lib\\warnings.py#109\" target=\"_blank\"><span style=\"color: #7f7f7f; text-decoration-color: #7f7f7f\">109</span></a>\n",
       "<span style=\"color: #7fbfbf; text-decoration-color: #7fbfbf\">                    </span>         py:<span style=\"color: #008080; text-decoration-color: #008080; font-weight: bold\">1351</span>: DataConversionWarning: A column-vector y was passed when a 1d <span style=\"color: #7f7f7f; text-decoration-color: #7f7f7f\">               </span>\n",
       "<span style=\"color: #7fbfbf; text-decoration-color: #7fbfbf\">                    </span>         array was expected. Please change the shape of y to <span style=\"font-weight: bold\">(</span>n_samples,<span style=\"font-weight: bold\">)</span>, for  <span style=\"color: #7f7f7f; text-decoration-color: #7f7f7f\">               </span>\n",
       "<span style=\"color: #7fbfbf; text-decoration-color: #7fbfbf\">                    </span>         example using <span style=\"color: #800080; text-decoration-color: #800080; font-weight: bold\">ravel</span><span style=\"font-weight: bold\">()</span>.                                                 <span style=\"color: #7f7f7f; text-decoration-color: #7f7f7f\">               </span>\n",
       "<span style=\"color: #7fbfbf; text-decoration-color: #7fbfbf\">                    </span>           return <span style=\"color: #800080; text-decoration-color: #800080; font-weight: bold\">fit_method</span><span style=\"font-weight: bold\">(</span>estimator, *args, **kwargs<span style=\"font-weight: bold\">)</span>                        <span style=\"color: #7f7f7f; text-decoration-color: #7f7f7f\">               </span>\n",
       "<span style=\"color: #7fbfbf; text-decoration-color: #7fbfbf\">                    </span>                                                                                <span style=\"color: #7f7f7f; text-decoration-color: #7f7f7f\">               </span>\n",
       "</pre>\n"
      ],
      "text/plain": [
       "\u001b[2;36m                   \u001b[0m\u001b[2;36m \u001b[0m\u001b[31mWARNING \u001b[0m C:\\Users\\dggua\\anaconda3\\envs\\test_env\\lib\\site-packages\\sklearn\\base. \u001b]8;id=237682;file://C:\\Users\\dggua\\anaconda3\\envs\\test_env\\lib\\warnings.py\u001b\\\u001b[2mwarnings.py\u001b[0m\u001b]8;;\u001b\\\u001b[2m:\u001b[0m\u001b]8;id=852090;file://C:\\Users\\dggua\\anaconda3\\envs\\test_env\\lib\\warnings.py#109\u001b\\\u001b[2m109\u001b[0m\u001b]8;;\u001b\\\n",
       "\u001b[2;36m                    \u001b[0m         py:\u001b[1;36m1351\u001b[0m: DataConversionWarning: A column-vector y was passed when a 1d \u001b[2m               \u001b[0m\n",
       "\u001b[2;36m                    \u001b[0m         array was expected. Please change the shape of y to \u001b[1m(\u001b[0mn_samples,\u001b[1m)\u001b[0m, for  \u001b[2m               \u001b[0m\n",
       "\u001b[2;36m                    \u001b[0m         example using \u001b[1;35mravel\u001b[0m\u001b[1m(\u001b[0m\u001b[1m)\u001b[0m.                                                 \u001b[2m               \u001b[0m\n",
       "\u001b[2;36m                    \u001b[0m           return \u001b[1;35mfit_method\u001b[0m\u001b[1m(\u001b[0mestimator, *args, **kwargs\u001b[1m)\u001b[0m                        \u001b[2m               \u001b[0m\n",
       "\u001b[2;36m                    \u001b[0m                                                                                \u001b[2m               \u001b[0m\n"
      ]
     },
     "metadata": {},
     "output_type": "display_data"
    },
    {
     "data": {
      "text/html": [
       "<pre style=\"white-space:pre;overflow-x:auto;line-height:normal;font-family:Menlo,'DejaVu Sans Mono',consolas,'Courier New',monospace\"><span style=\"color: #7fbfbf; text-decoration-color: #7fbfbf\">                    </span><span style=\"color: #800000; text-decoration-color: #800000\">WARNING </span> C:\\Users\\dggua\\anaconda3\\envs\\test_env\\lib\\site-packages\\sklearn\\base. <a href=\"file://C:\\Users\\dggua\\anaconda3\\envs\\test_env\\lib\\warnings.py\" target=\"_blank\"><span style=\"color: #7f7f7f; text-decoration-color: #7f7f7f\">warnings.py</span></a><span style=\"color: #7f7f7f; text-decoration-color: #7f7f7f\">:</span><a href=\"file://C:\\Users\\dggua\\anaconda3\\envs\\test_env\\lib\\warnings.py#109\" target=\"_blank\"><span style=\"color: #7f7f7f; text-decoration-color: #7f7f7f\">109</span></a>\n",
       "<span style=\"color: #7fbfbf; text-decoration-color: #7fbfbf\">                    </span>         py:<span style=\"color: #008080; text-decoration-color: #008080; font-weight: bold\">1351</span>: DataConversionWarning: A column-vector y was passed when a 1d <span style=\"color: #7f7f7f; text-decoration-color: #7f7f7f\">               </span>\n",
       "<span style=\"color: #7fbfbf; text-decoration-color: #7fbfbf\">                    </span>         array was expected. Please change the shape of y to <span style=\"font-weight: bold\">(</span>n_samples,<span style=\"font-weight: bold\">)</span>, for  <span style=\"color: #7f7f7f; text-decoration-color: #7f7f7f\">               </span>\n",
       "<span style=\"color: #7fbfbf; text-decoration-color: #7fbfbf\">                    </span>         example using <span style=\"color: #800080; text-decoration-color: #800080; font-weight: bold\">ravel</span><span style=\"font-weight: bold\">()</span>.                                                 <span style=\"color: #7f7f7f; text-decoration-color: #7f7f7f\">               </span>\n",
       "<span style=\"color: #7fbfbf; text-decoration-color: #7fbfbf\">                    </span>           return <span style=\"color: #800080; text-decoration-color: #800080; font-weight: bold\">fit_method</span><span style=\"font-weight: bold\">(</span>estimator, *args, **kwargs<span style=\"font-weight: bold\">)</span>                        <span style=\"color: #7f7f7f; text-decoration-color: #7f7f7f\">               </span>\n",
       "<span style=\"color: #7fbfbf; text-decoration-color: #7fbfbf\">                    </span>                                                                                <span style=\"color: #7f7f7f; text-decoration-color: #7f7f7f\">               </span>\n",
       "</pre>\n"
      ],
      "text/plain": [
       "\u001b[2;36m                   \u001b[0m\u001b[2;36m \u001b[0m\u001b[31mWARNING \u001b[0m C:\\Users\\dggua\\anaconda3\\envs\\test_env\\lib\\site-packages\\sklearn\\base. \u001b]8;id=369686;file://C:\\Users\\dggua\\anaconda3\\envs\\test_env\\lib\\warnings.py\u001b\\\u001b[2mwarnings.py\u001b[0m\u001b]8;;\u001b\\\u001b[2m:\u001b[0m\u001b]8;id=359317;file://C:\\Users\\dggua\\anaconda3\\envs\\test_env\\lib\\warnings.py#109\u001b\\\u001b[2m109\u001b[0m\u001b]8;;\u001b\\\n",
       "\u001b[2;36m                    \u001b[0m         py:\u001b[1;36m1351\u001b[0m: DataConversionWarning: A column-vector y was passed when a 1d \u001b[2m               \u001b[0m\n",
       "\u001b[2;36m                    \u001b[0m         array was expected. Please change the shape of y to \u001b[1m(\u001b[0mn_samples,\u001b[1m)\u001b[0m, for  \u001b[2m               \u001b[0m\n",
       "\u001b[2;36m                    \u001b[0m         example using \u001b[1;35mravel\u001b[0m\u001b[1m(\u001b[0m\u001b[1m)\u001b[0m.                                                 \u001b[2m               \u001b[0m\n",
       "\u001b[2;36m                    \u001b[0m           return \u001b[1;35mfit_method\u001b[0m\u001b[1m(\u001b[0mestimator, *args, **kwargs\u001b[1m)\u001b[0m                        \u001b[2m               \u001b[0m\n",
       "\u001b[2;36m                    \u001b[0m                                                                                \u001b[2m               \u001b[0m\n"
      ]
     },
     "metadata": {},
     "output_type": "display_data"
    },
    {
     "data": {
      "text/html": [
       "<pre style=\"white-space:pre;overflow-x:auto;line-height:normal;font-family:Menlo,'DejaVu Sans Mono',consolas,'Courier New',monospace\"><span style=\"color: #7fbfbf; text-decoration-color: #7fbfbf\">                    </span><span style=\"color: #800000; text-decoration-color: #800000\">WARNING </span> C:\\Users\\dggua\\anaconda3\\envs\\test_env\\lib\\site-packages\\sklearn\\base. <a href=\"file://C:\\Users\\dggua\\anaconda3\\envs\\test_env\\lib\\warnings.py\" target=\"_blank\"><span style=\"color: #7f7f7f; text-decoration-color: #7f7f7f\">warnings.py</span></a><span style=\"color: #7f7f7f; text-decoration-color: #7f7f7f\">:</span><a href=\"file://C:\\Users\\dggua\\anaconda3\\envs\\test_env\\lib\\warnings.py#109\" target=\"_blank\"><span style=\"color: #7f7f7f; text-decoration-color: #7f7f7f\">109</span></a>\n",
       "<span style=\"color: #7fbfbf; text-decoration-color: #7fbfbf\">                    </span>         py:<span style=\"color: #008080; text-decoration-color: #008080; font-weight: bold\">1351</span>: DataConversionWarning: A column-vector y was passed when a 1d <span style=\"color: #7f7f7f; text-decoration-color: #7f7f7f\">               </span>\n",
       "<span style=\"color: #7fbfbf; text-decoration-color: #7fbfbf\">                    </span>         array was expected. Please change the shape of y to <span style=\"font-weight: bold\">(</span>n_samples,<span style=\"font-weight: bold\">)</span>, for  <span style=\"color: #7f7f7f; text-decoration-color: #7f7f7f\">               </span>\n",
       "<span style=\"color: #7fbfbf; text-decoration-color: #7fbfbf\">                    </span>         example using <span style=\"color: #800080; text-decoration-color: #800080; font-weight: bold\">ravel</span><span style=\"font-weight: bold\">()</span>.                                                 <span style=\"color: #7f7f7f; text-decoration-color: #7f7f7f\">               </span>\n",
       "<span style=\"color: #7fbfbf; text-decoration-color: #7fbfbf\">                    </span>           return <span style=\"color: #800080; text-decoration-color: #800080; font-weight: bold\">fit_method</span><span style=\"font-weight: bold\">(</span>estimator, *args, **kwargs<span style=\"font-weight: bold\">)</span>                        <span style=\"color: #7f7f7f; text-decoration-color: #7f7f7f\">               </span>\n",
       "<span style=\"color: #7fbfbf; text-decoration-color: #7fbfbf\">                    </span>                                                                                <span style=\"color: #7f7f7f; text-decoration-color: #7f7f7f\">               </span>\n",
       "</pre>\n"
      ],
      "text/plain": [
       "\u001b[2;36m                   \u001b[0m\u001b[2;36m \u001b[0m\u001b[31mWARNING \u001b[0m C:\\Users\\dggua\\anaconda3\\envs\\test_env\\lib\\site-packages\\sklearn\\base. \u001b]8;id=180007;file://C:\\Users\\dggua\\anaconda3\\envs\\test_env\\lib\\warnings.py\u001b\\\u001b[2mwarnings.py\u001b[0m\u001b]8;;\u001b\\\u001b[2m:\u001b[0m\u001b]8;id=198336;file://C:\\Users\\dggua\\anaconda3\\envs\\test_env\\lib\\warnings.py#109\u001b\\\u001b[2m109\u001b[0m\u001b]8;;\u001b\\\n",
       "\u001b[2;36m                    \u001b[0m         py:\u001b[1;36m1351\u001b[0m: DataConversionWarning: A column-vector y was passed when a 1d \u001b[2m               \u001b[0m\n",
       "\u001b[2;36m                    \u001b[0m         array was expected. Please change the shape of y to \u001b[1m(\u001b[0mn_samples,\u001b[1m)\u001b[0m, for  \u001b[2m               \u001b[0m\n",
       "\u001b[2;36m                    \u001b[0m         example using \u001b[1;35mravel\u001b[0m\u001b[1m(\u001b[0m\u001b[1m)\u001b[0m.                                                 \u001b[2m               \u001b[0m\n",
       "\u001b[2;36m                    \u001b[0m           return \u001b[1;35mfit_method\u001b[0m\u001b[1m(\u001b[0mestimator, *args, **kwargs\u001b[1m)\u001b[0m                        \u001b[2m               \u001b[0m\n",
       "\u001b[2;36m                    \u001b[0m                                                                                \u001b[2m               \u001b[0m\n"
      ]
     },
     "metadata": {},
     "output_type": "display_data"
    },
    {
     "data": {
      "text/html": [
       "<pre style=\"white-space:pre;overflow-x:auto;line-height:normal;font-family:Menlo,'DejaVu Sans Mono',consolas,'Courier New',monospace\"><span style=\"color: #7fbfbf; text-decoration-color: #7fbfbf\">                    </span><span style=\"color: #800000; text-decoration-color: #800000\">WARNING </span> C:\\Users\\dggua\\anaconda3\\envs\\test_env\\lib\\site-packages\\sklearn\\base. <a href=\"file://C:\\Users\\dggua\\anaconda3\\envs\\test_env\\lib\\warnings.py\" target=\"_blank\"><span style=\"color: #7f7f7f; text-decoration-color: #7f7f7f\">warnings.py</span></a><span style=\"color: #7f7f7f; text-decoration-color: #7f7f7f\">:</span><a href=\"file://C:\\Users\\dggua\\anaconda3\\envs\\test_env\\lib\\warnings.py#109\" target=\"_blank\"><span style=\"color: #7f7f7f; text-decoration-color: #7f7f7f\">109</span></a>\n",
       "<span style=\"color: #7fbfbf; text-decoration-color: #7fbfbf\">                    </span>         py:<span style=\"color: #008080; text-decoration-color: #008080; font-weight: bold\">1351</span>: DataConversionWarning: A column-vector y was passed when a 1d <span style=\"color: #7f7f7f; text-decoration-color: #7f7f7f\">               </span>\n",
       "<span style=\"color: #7fbfbf; text-decoration-color: #7fbfbf\">                    </span>         array was expected. Please change the shape of y to <span style=\"font-weight: bold\">(</span>n_samples,<span style=\"font-weight: bold\">)</span>, for  <span style=\"color: #7f7f7f; text-decoration-color: #7f7f7f\">               </span>\n",
       "<span style=\"color: #7fbfbf; text-decoration-color: #7fbfbf\">                    </span>         example using <span style=\"color: #800080; text-decoration-color: #800080; font-weight: bold\">ravel</span><span style=\"font-weight: bold\">()</span>.                                                 <span style=\"color: #7f7f7f; text-decoration-color: #7f7f7f\">               </span>\n",
       "<span style=\"color: #7fbfbf; text-decoration-color: #7fbfbf\">                    </span>           return <span style=\"color: #800080; text-decoration-color: #800080; font-weight: bold\">fit_method</span><span style=\"font-weight: bold\">(</span>estimator, *args, **kwargs<span style=\"font-weight: bold\">)</span>                        <span style=\"color: #7f7f7f; text-decoration-color: #7f7f7f\">               </span>\n",
       "<span style=\"color: #7fbfbf; text-decoration-color: #7fbfbf\">                    </span>                                                                                <span style=\"color: #7f7f7f; text-decoration-color: #7f7f7f\">               </span>\n",
       "</pre>\n"
      ],
      "text/plain": [
       "\u001b[2;36m                   \u001b[0m\u001b[2;36m \u001b[0m\u001b[31mWARNING \u001b[0m C:\\Users\\dggua\\anaconda3\\envs\\test_env\\lib\\site-packages\\sklearn\\base. \u001b]8;id=693507;file://C:\\Users\\dggua\\anaconda3\\envs\\test_env\\lib\\warnings.py\u001b\\\u001b[2mwarnings.py\u001b[0m\u001b]8;;\u001b\\\u001b[2m:\u001b[0m\u001b]8;id=868500;file://C:\\Users\\dggua\\anaconda3\\envs\\test_env\\lib\\warnings.py#109\u001b\\\u001b[2m109\u001b[0m\u001b]8;;\u001b\\\n",
       "\u001b[2;36m                    \u001b[0m         py:\u001b[1;36m1351\u001b[0m: DataConversionWarning: A column-vector y was passed when a 1d \u001b[2m               \u001b[0m\n",
       "\u001b[2;36m                    \u001b[0m         array was expected. Please change the shape of y to \u001b[1m(\u001b[0mn_samples,\u001b[1m)\u001b[0m, for  \u001b[2m               \u001b[0m\n",
       "\u001b[2;36m                    \u001b[0m         example using \u001b[1;35mravel\u001b[0m\u001b[1m(\u001b[0m\u001b[1m)\u001b[0m.                                                 \u001b[2m               \u001b[0m\n",
       "\u001b[2;36m                    \u001b[0m           return \u001b[1;35mfit_method\u001b[0m\u001b[1m(\u001b[0mestimator, *args, **kwargs\u001b[1m)\u001b[0m                        \u001b[2m               \u001b[0m\n",
       "\u001b[2;36m                    \u001b[0m                                                                                \u001b[2m               \u001b[0m\n"
      ]
     },
     "metadata": {},
     "output_type": "display_data"
    },
    {
     "data": {
      "text/html": [
       "<pre style=\"white-space:pre;overflow-x:auto;line-height:normal;font-family:Menlo,'DejaVu Sans Mono',consolas,'Courier New',monospace\"><span style=\"color: #7fbfbf; text-decoration-color: #7fbfbf\">                    </span><span style=\"color: #800000; text-decoration-color: #800000\">WARNING </span> C:\\Users\\dggua\\anaconda3\\envs\\test_env\\lib\\site-packages\\sklearn\\base. <a href=\"file://C:\\Users\\dggua\\anaconda3\\envs\\test_env\\lib\\warnings.py\" target=\"_blank\"><span style=\"color: #7f7f7f; text-decoration-color: #7f7f7f\">warnings.py</span></a><span style=\"color: #7f7f7f; text-decoration-color: #7f7f7f\">:</span><a href=\"file://C:\\Users\\dggua\\anaconda3\\envs\\test_env\\lib\\warnings.py#109\" target=\"_blank\"><span style=\"color: #7f7f7f; text-decoration-color: #7f7f7f\">109</span></a>\n",
       "<span style=\"color: #7fbfbf; text-decoration-color: #7fbfbf\">                    </span>         py:<span style=\"color: #008080; text-decoration-color: #008080; font-weight: bold\">1351</span>: DataConversionWarning: A column-vector y was passed when a 1d <span style=\"color: #7f7f7f; text-decoration-color: #7f7f7f\">               </span>\n",
       "<span style=\"color: #7fbfbf; text-decoration-color: #7fbfbf\">                    </span>         array was expected. Please change the shape of y to <span style=\"font-weight: bold\">(</span>n_samples,<span style=\"font-weight: bold\">)</span>, for  <span style=\"color: #7f7f7f; text-decoration-color: #7f7f7f\">               </span>\n",
       "<span style=\"color: #7fbfbf; text-decoration-color: #7fbfbf\">                    </span>         example using <span style=\"color: #800080; text-decoration-color: #800080; font-weight: bold\">ravel</span><span style=\"font-weight: bold\">()</span>.                                                 <span style=\"color: #7f7f7f; text-decoration-color: #7f7f7f\">               </span>\n",
       "<span style=\"color: #7fbfbf; text-decoration-color: #7fbfbf\">                    </span>           return <span style=\"color: #800080; text-decoration-color: #800080; font-weight: bold\">fit_method</span><span style=\"font-weight: bold\">(</span>estimator, *args, **kwargs<span style=\"font-weight: bold\">)</span>                        <span style=\"color: #7f7f7f; text-decoration-color: #7f7f7f\">               </span>\n",
       "<span style=\"color: #7fbfbf; text-decoration-color: #7fbfbf\">                    </span>                                                                                <span style=\"color: #7f7f7f; text-decoration-color: #7f7f7f\">               </span>\n",
       "</pre>\n"
      ],
      "text/plain": [
       "\u001b[2;36m                   \u001b[0m\u001b[2;36m \u001b[0m\u001b[31mWARNING \u001b[0m C:\\Users\\dggua\\anaconda3\\envs\\test_env\\lib\\site-packages\\sklearn\\base. \u001b]8;id=59226;file://C:\\Users\\dggua\\anaconda3\\envs\\test_env\\lib\\warnings.py\u001b\\\u001b[2mwarnings.py\u001b[0m\u001b]8;;\u001b\\\u001b[2m:\u001b[0m\u001b]8;id=371411;file://C:\\Users\\dggua\\anaconda3\\envs\\test_env\\lib\\warnings.py#109\u001b\\\u001b[2m109\u001b[0m\u001b]8;;\u001b\\\n",
       "\u001b[2;36m                    \u001b[0m         py:\u001b[1;36m1351\u001b[0m: DataConversionWarning: A column-vector y was passed when a 1d \u001b[2m               \u001b[0m\n",
       "\u001b[2;36m                    \u001b[0m         array was expected. Please change the shape of y to \u001b[1m(\u001b[0mn_samples,\u001b[1m)\u001b[0m, for  \u001b[2m               \u001b[0m\n",
       "\u001b[2;36m                    \u001b[0m         example using \u001b[1;35mravel\u001b[0m\u001b[1m(\u001b[0m\u001b[1m)\u001b[0m.                                                 \u001b[2m               \u001b[0m\n",
       "\u001b[2;36m                    \u001b[0m           return \u001b[1;35mfit_method\u001b[0m\u001b[1m(\u001b[0mestimator, *args, **kwargs\u001b[1m)\u001b[0m                        \u001b[2m               \u001b[0m\n",
       "\u001b[2;36m                    \u001b[0m                                                                                \u001b[2m               \u001b[0m\n"
      ]
     },
     "metadata": {},
     "output_type": "display_data"
    },
    {
     "data": {
      "text/html": [
       "<pre style=\"white-space:pre;overflow-x:auto;line-height:normal;font-family:Menlo,'DejaVu Sans Mono',consolas,'Courier New',monospace\"><span style=\"color: #7fbfbf; text-decoration-color: #7fbfbf\">[06/22/24 16:18:04] </span><span style=\"color: #800000; text-decoration-color: #800000\">WARNING </span> C:\\Users\\dggua\\anaconda3\\envs\\test_env\\lib\\site-packages\\sklearn\\base. <a href=\"file://C:\\Users\\dggua\\anaconda3\\envs\\test_env\\lib\\warnings.py\" target=\"_blank\"><span style=\"color: #7f7f7f; text-decoration-color: #7f7f7f\">warnings.py</span></a><span style=\"color: #7f7f7f; text-decoration-color: #7f7f7f\">:</span><a href=\"file://C:\\Users\\dggua\\anaconda3\\envs\\test_env\\lib\\warnings.py#109\" target=\"_blank\"><span style=\"color: #7f7f7f; text-decoration-color: #7f7f7f\">109</span></a>\n",
       "<span style=\"color: #7fbfbf; text-decoration-color: #7fbfbf\">                    </span>         py:<span style=\"color: #008080; text-decoration-color: #008080; font-weight: bold\">1351</span>: DataConversionWarning: A column-vector y was passed when a 1d <span style=\"color: #7f7f7f; text-decoration-color: #7f7f7f\">               </span>\n",
       "<span style=\"color: #7fbfbf; text-decoration-color: #7fbfbf\">                    </span>         array was expected. Please change the shape of y to <span style=\"font-weight: bold\">(</span>n_samples,<span style=\"font-weight: bold\">)</span>, for  <span style=\"color: #7f7f7f; text-decoration-color: #7f7f7f\">               </span>\n",
       "<span style=\"color: #7fbfbf; text-decoration-color: #7fbfbf\">                    </span>         example using <span style=\"color: #800080; text-decoration-color: #800080; font-weight: bold\">ravel</span><span style=\"font-weight: bold\">()</span>.                                                 <span style=\"color: #7f7f7f; text-decoration-color: #7f7f7f\">               </span>\n",
       "<span style=\"color: #7fbfbf; text-decoration-color: #7fbfbf\">                    </span>           return <span style=\"color: #800080; text-decoration-color: #800080; font-weight: bold\">fit_method</span><span style=\"font-weight: bold\">(</span>estimator, *args, **kwargs<span style=\"font-weight: bold\">)</span>                        <span style=\"color: #7f7f7f; text-decoration-color: #7f7f7f\">               </span>\n",
       "<span style=\"color: #7fbfbf; text-decoration-color: #7fbfbf\">                    </span>                                                                                <span style=\"color: #7f7f7f; text-decoration-color: #7f7f7f\">               </span>\n",
       "</pre>\n"
      ],
      "text/plain": [
       "\u001b[2;36m[06/22/24 16:18:04]\u001b[0m\u001b[2;36m \u001b[0m\u001b[31mWARNING \u001b[0m C:\\Users\\dggua\\anaconda3\\envs\\test_env\\lib\\site-packages\\sklearn\\base. \u001b]8;id=867155;file://C:\\Users\\dggua\\anaconda3\\envs\\test_env\\lib\\warnings.py\u001b\\\u001b[2mwarnings.py\u001b[0m\u001b]8;;\u001b\\\u001b[2m:\u001b[0m\u001b]8;id=948124;file://C:\\Users\\dggua\\anaconda3\\envs\\test_env\\lib\\warnings.py#109\u001b\\\u001b[2m109\u001b[0m\u001b]8;;\u001b\\\n",
       "\u001b[2;36m                    \u001b[0m         py:\u001b[1;36m1351\u001b[0m: DataConversionWarning: A column-vector y was passed when a 1d \u001b[2m               \u001b[0m\n",
       "\u001b[2;36m                    \u001b[0m         array was expected. Please change the shape of y to \u001b[1m(\u001b[0mn_samples,\u001b[1m)\u001b[0m, for  \u001b[2m               \u001b[0m\n",
       "\u001b[2;36m                    \u001b[0m         example using \u001b[1;35mravel\u001b[0m\u001b[1m(\u001b[0m\u001b[1m)\u001b[0m.                                                 \u001b[2m               \u001b[0m\n",
       "\u001b[2;36m                    \u001b[0m           return \u001b[1;35mfit_method\u001b[0m\u001b[1m(\u001b[0mestimator, *args, **kwargs\u001b[1m)\u001b[0m                        \u001b[2m               \u001b[0m\n",
       "\u001b[2;36m                    \u001b[0m                                                                                \u001b[2m               \u001b[0m\n"
      ]
     },
     "metadata": {},
     "output_type": "display_data"
    },
    {
     "data": {
      "text/html": [
       "<pre style=\"white-space:pre;overflow-x:auto;line-height:normal;font-family:Menlo,'DejaVu Sans Mono',consolas,'Courier New',monospace\"><span style=\"color: #7fbfbf; text-decoration-color: #7fbfbf\">                    </span><span style=\"color: #800000; text-decoration-color: #800000\">WARNING </span> C:\\Users\\dggua\\anaconda3\\envs\\test_env\\lib\\site-packages\\sklearn\\base. <a href=\"file://C:\\Users\\dggua\\anaconda3\\envs\\test_env\\lib\\warnings.py\" target=\"_blank\"><span style=\"color: #7f7f7f; text-decoration-color: #7f7f7f\">warnings.py</span></a><span style=\"color: #7f7f7f; text-decoration-color: #7f7f7f\">:</span><a href=\"file://C:\\Users\\dggua\\anaconda3\\envs\\test_env\\lib\\warnings.py#109\" target=\"_blank\"><span style=\"color: #7f7f7f; text-decoration-color: #7f7f7f\">109</span></a>\n",
       "<span style=\"color: #7fbfbf; text-decoration-color: #7fbfbf\">                    </span>         py:<span style=\"color: #008080; text-decoration-color: #008080; font-weight: bold\">1351</span>: DataConversionWarning: A column-vector y was passed when a 1d <span style=\"color: #7f7f7f; text-decoration-color: #7f7f7f\">               </span>\n",
       "<span style=\"color: #7fbfbf; text-decoration-color: #7fbfbf\">                    </span>         array was expected. Please change the shape of y to <span style=\"font-weight: bold\">(</span>n_samples,<span style=\"font-weight: bold\">)</span>, for  <span style=\"color: #7f7f7f; text-decoration-color: #7f7f7f\">               </span>\n",
       "<span style=\"color: #7fbfbf; text-decoration-color: #7fbfbf\">                    </span>         example using <span style=\"color: #800080; text-decoration-color: #800080; font-weight: bold\">ravel</span><span style=\"font-weight: bold\">()</span>.                                                 <span style=\"color: #7f7f7f; text-decoration-color: #7f7f7f\">               </span>\n",
       "<span style=\"color: #7fbfbf; text-decoration-color: #7fbfbf\">                    </span>           return <span style=\"color: #800080; text-decoration-color: #800080; font-weight: bold\">fit_method</span><span style=\"font-weight: bold\">(</span>estimator, *args, **kwargs<span style=\"font-weight: bold\">)</span>                        <span style=\"color: #7f7f7f; text-decoration-color: #7f7f7f\">               </span>\n",
       "<span style=\"color: #7fbfbf; text-decoration-color: #7fbfbf\">                    </span>                                                                                <span style=\"color: #7f7f7f; text-decoration-color: #7f7f7f\">               </span>\n",
       "</pre>\n"
      ],
      "text/plain": [
       "\u001b[2;36m                   \u001b[0m\u001b[2;36m \u001b[0m\u001b[31mWARNING \u001b[0m C:\\Users\\dggua\\anaconda3\\envs\\test_env\\lib\\site-packages\\sklearn\\base. \u001b]8;id=837312;file://C:\\Users\\dggua\\anaconda3\\envs\\test_env\\lib\\warnings.py\u001b\\\u001b[2mwarnings.py\u001b[0m\u001b]8;;\u001b\\\u001b[2m:\u001b[0m\u001b]8;id=314155;file://C:\\Users\\dggua\\anaconda3\\envs\\test_env\\lib\\warnings.py#109\u001b\\\u001b[2m109\u001b[0m\u001b]8;;\u001b\\\n",
       "\u001b[2;36m                    \u001b[0m         py:\u001b[1;36m1351\u001b[0m: DataConversionWarning: A column-vector y was passed when a 1d \u001b[2m               \u001b[0m\n",
       "\u001b[2;36m                    \u001b[0m         array was expected. Please change the shape of y to \u001b[1m(\u001b[0mn_samples,\u001b[1m)\u001b[0m, for  \u001b[2m               \u001b[0m\n",
       "\u001b[2;36m                    \u001b[0m         example using \u001b[1;35mravel\u001b[0m\u001b[1m(\u001b[0m\u001b[1m)\u001b[0m.                                                 \u001b[2m               \u001b[0m\n",
       "\u001b[2;36m                    \u001b[0m           return \u001b[1;35mfit_method\u001b[0m\u001b[1m(\u001b[0mestimator, *args, **kwargs\u001b[1m)\u001b[0m                        \u001b[2m               \u001b[0m\n",
       "\u001b[2;36m                    \u001b[0m                                                                                \u001b[2m               \u001b[0m\n"
      ]
     },
     "metadata": {},
     "output_type": "display_data"
    },
    {
     "data": {
      "text/html": [
       "<pre style=\"white-space:pre;overflow-x:auto;line-height:normal;font-family:Menlo,'DejaVu Sans Mono',consolas,'Courier New',monospace\"><span style=\"color: #7fbfbf; text-decoration-color: #7fbfbf\">                    </span><span style=\"color: #800000; text-decoration-color: #800000\">WARNING </span> C:\\Users\\dggua\\anaconda3\\envs\\test_env\\lib\\site-packages\\sklearn\\base. <a href=\"file://C:\\Users\\dggua\\anaconda3\\envs\\test_env\\lib\\warnings.py\" target=\"_blank\"><span style=\"color: #7f7f7f; text-decoration-color: #7f7f7f\">warnings.py</span></a><span style=\"color: #7f7f7f; text-decoration-color: #7f7f7f\">:</span><a href=\"file://C:\\Users\\dggua\\anaconda3\\envs\\test_env\\lib\\warnings.py#109\" target=\"_blank\"><span style=\"color: #7f7f7f; text-decoration-color: #7f7f7f\">109</span></a>\n",
       "<span style=\"color: #7fbfbf; text-decoration-color: #7fbfbf\">                    </span>         py:<span style=\"color: #008080; text-decoration-color: #008080; font-weight: bold\">1351</span>: DataConversionWarning: A column-vector y was passed when a 1d <span style=\"color: #7f7f7f; text-decoration-color: #7f7f7f\">               </span>\n",
       "<span style=\"color: #7fbfbf; text-decoration-color: #7fbfbf\">                    </span>         array was expected. Please change the shape of y to <span style=\"font-weight: bold\">(</span>n_samples,<span style=\"font-weight: bold\">)</span>, for  <span style=\"color: #7f7f7f; text-decoration-color: #7f7f7f\">               </span>\n",
       "<span style=\"color: #7fbfbf; text-decoration-color: #7fbfbf\">                    </span>         example using <span style=\"color: #800080; text-decoration-color: #800080; font-weight: bold\">ravel</span><span style=\"font-weight: bold\">()</span>.                                                 <span style=\"color: #7f7f7f; text-decoration-color: #7f7f7f\">               </span>\n",
       "<span style=\"color: #7fbfbf; text-decoration-color: #7fbfbf\">                    </span>           return <span style=\"color: #800080; text-decoration-color: #800080; font-weight: bold\">fit_method</span><span style=\"font-weight: bold\">(</span>estimator, *args, **kwargs<span style=\"font-weight: bold\">)</span>                        <span style=\"color: #7f7f7f; text-decoration-color: #7f7f7f\">               </span>\n",
       "<span style=\"color: #7fbfbf; text-decoration-color: #7fbfbf\">                    </span>                                                                                <span style=\"color: #7f7f7f; text-decoration-color: #7f7f7f\">               </span>\n",
       "</pre>\n"
      ],
      "text/plain": [
       "\u001b[2;36m                   \u001b[0m\u001b[2;36m \u001b[0m\u001b[31mWARNING \u001b[0m C:\\Users\\dggua\\anaconda3\\envs\\test_env\\lib\\site-packages\\sklearn\\base. \u001b]8;id=950955;file://C:\\Users\\dggua\\anaconda3\\envs\\test_env\\lib\\warnings.py\u001b\\\u001b[2mwarnings.py\u001b[0m\u001b]8;;\u001b\\\u001b[2m:\u001b[0m\u001b]8;id=420464;file://C:\\Users\\dggua\\anaconda3\\envs\\test_env\\lib\\warnings.py#109\u001b\\\u001b[2m109\u001b[0m\u001b]8;;\u001b\\\n",
       "\u001b[2;36m                    \u001b[0m         py:\u001b[1;36m1351\u001b[0m: DataConversionWarning: A column-vector y was passed when a 1d \u001b[2m               \u001b[0m\n",
       "\u001b[2;36m                    \u001b[0m         array was expected. Please change the shape of y to \u001b[1m(\u001b[0mn_samples,\u001b[1m)\u001b[0m, for  \u001b[2m               \u001b[0m\n",
       "\u001b[2;36m                    \u001b[0m         example using \u001b[1;35mravel\u001b[0m\u001b[1m(\u001b[0m\u001b[1m)\u001b[0m.                                                 \u001b[2m               \u001b[0m\n",
       "\u001b[2;36m                    \u001b[0m           return \u001b[1;35mfit_method\u001b[0m\u001b[1m(\u001b[0mestimator, *args, **kwargs\u001b[1m)\u001b[0m                        \u001b[2m               \u001b[0m\n",
       "\u001b[2;36m                    \u001b[0m                                                                                \u001b[2m               \u001b[0m\n"
      ]
     },
     "metadata": {},
     "output_type": "display_data"
    },
    {
     "data": {
      "text/html": [
       "<pre style=\"white-space:pre;overflow-x:auto;line-height:normal;font-family:Menlo,'DejaVu Sans Mono',consolas,'Courier New',monospace\"><span style=\"color: #7fbfbf; text-decoration-color: #7fbfbf\">                    </span><span style=\"color: #800000; text-decoration-color: #800000\">WARNING </span> C:\\Users\\dggua\\anaconda3\\envs\\test_env\\lib\\site-packages\\sklearn\\base. <a href=\"file://C:\\Users\\dggua\\anaconda3\\envs\\test_env\\lib\\warnings.py\" target=\"_blank\"><span style=\"color: #7f7f7f; text-decoration-color: #7f7f7f\">warnings.py</span></a><span style=\"color: #7f7f7f; text-decoration-color: #7f7f7f\">:</span><a href=\"file://C:\\Users\\dggua\\anaconda3\\envs\\test_env\\lib\\warnings.py#109\" target=\"_blank\"><span style=\"color: #7f7f7f; text-decoration-color: #7f7f7f\">109</span></a>\n",
       "<span style=\"color: #7fbfbf; text-decoration-color: #7fbfbf\">                    </span>         py:<span style=\"color: #008080; text-decoration-color: #008080; font-weight: bold\">1351</span>: DataConversionWarning: A column-vector y was passed when a 1d <span style=\"color: #7f7f7f; text-decoration-color: #7f7f7f\">               </span>\n",
       "<span style=\"color: #7fbfbf; text-decoration-color: #7fbfbf\">                    </span>         array was expected. Please change the shape of y to <span style=\"font-weight: bold\">(</span>n_samples,<span style=\"font-weight: bold\">)</span>, for  <span style=\"color: #7f7f7f; text-decoration-color: #7f7f7f\">               </span>\n",
       "<span style=\"color: #7fbfbf; text-decoration-color: #7fbfbf\">                    </span>         example using <span style=\"color: #800080; text-decoration-color: #800080; font-weight: bold\">ravel</span><span style=\"font-weight: bold\">()</span>.                                                 <span style=\"color: #7f7f7f; text-decoration-color: #7f7f7f\">               </span>\n",
       "<span style=\"color: #7fbfbf; text-decoration-color: #7fbfbf\">                    </span>           return <span style=\"color: #800080; text-decoration-color: #800080; font-weight: bold\">fit_method</span><span style=\"font-weight: bold\">(</span>estimator, *args, **kwargs<span style=\"font-weight: bold\">)</span>                        <span style=\"color: #7f7f7f; text-decoration-color: #7f7f7f\">               </span>\n",
       "<span style=\"color: #7fbfbf; text-decoration-color: #7fbfbf\">                    </span>                                                                                <span style=\"color: #7f7f7f; text-decoration-color: #7f7f7f\">               </span>\n",
       "</pre>\n"
      ],
      "text/plain": [
       "\u001b[2;36m                   \u001b[0m\u001b[2;36m \u001b[0m\u001b[31mWARNING \u001b[0m C:\\Users\\dggua\\anaconda3\\envs\\test_env\\lib\\site-packages\\sklearn\\base. \u001b]8;id=838975;file://C:\\Users\\dggua\\anaconda3\\envs\\test_env\\lib\\warnings.py\u001b\\\u001b[2mwarnings.py\u001b[0m\u001b]8;;\u001b\\\u001b[2m:\u001b[0m\u001b]8;id=2915;file://C:\\Users\\dggua\\anaconda3\\envs\\test_env\\lib\\warnings.py#109\u001b\\\u001b[2m109\u001b[0m\u001b]8;;\u001b\\\n",
       "\u001b[2;36m                    \u001b[0m         py:\u001b[1;36m1351\u001b[0m: DataConversionWarning: A column-vector y was passed when a 1d \u001b[2m               \u001b[0m\n",
       "\u001b[2;36m                    \u001b[0m         array was expected. Please change the shape of y to \u001b[1m(\u001b[0mn_samples,\u001b[1m)\u001b[0m, for  \u001b[2m               \u001b[0m\n",
       "\u001b[2;36m                    \u001b[0m         example using \u001b[1;35mravel\u001b[0m\u001b[1m(\u001b[0m\u001b[1m)\u001b[0m.                                                 \u001b[2m               \u001b[0m\n",
       "\u001b[2;36m                    \u001b[0m           return \u001b[1;35mfit_method\u001b[0m\u001b[1m(\u001b[0mestimator, *args, **kwargs\u001b[1m)\u001b[0m                        \u001b[2m               \u001b[0m\n",
       "\u001b[2;36m                    \u001b[0m                                                                                \u001b[2m               \u001b[0m\n"
      ]
     },
     "metadata": {},
     "output_type": "display_data"
    },
    {
     "data": {
      "text/html": [
       "<pre style=\"white-space:pre;overflow-x:auto;line-height:normal;font-family:Menlo,'DejaVu Sans Mono',consolas,'Courier New',monospace\"><span style=\"color: #7fbfbf; text-decoration-color: #7fbfbf\">                    </span><span style=\"color: #800000; text-decoration-color: #800000\">WARNING </span> C:\\Users\\dggua\\anaconda3\\envs\\test_env\\lib\\site-packages\\sklearn\\base. <a href=\"file://C:\\Users\\dggua\\anaconda3\\envs\\test_env\\lib\\warnings.py\" target=\"_blank\"><span style=\"color: #7f7f7f; text-decoration-color: #7f7f7f\">warnings.py</span></a><span style=\"color: #7f7f7f; text-decoration-color: #7f7f7f\">:</span><a href=\"file://C:\\Users\\dggua\\anaconda3\\envs\\test_env\\lib\\warnings.py#109\" target=\"_blank\"><span style=\"color: #7f7f7f; text-decoration-color: #7f7f7f\">109</span></a>\n",
       "<span style=\"color: #7fbfbf; text-decoration-color: #7fbfbf\">                    </span>         py:<span style=\"color: #008080; text-decoration-color: #008080; font-weight: bold\">1351</span>: DataConversionWarning: A column-vector y was passed when a 1d <span style=\"color: #7f7f7f; text-decoration-color: #7f7f7f\">               </span>\n",
       "<span style=\"color: #7fbfbf; text-decoration-color: #7fbfbf\">                    </span>         array was expected. Please change the shape of y to <span style=\"font-weight: bold\">(</span>n_samples,<span style=\"font-weight: bold\">)</span>, for  <span style=\"color: #7f7f7f; text-decoration-color: #7f7f7f\">               </span>\n",
       "<span style=\"color: #7fbfbf; text-decoration-color: #7fbfbf\">                    </span>         example using <span style=\"color: #800080; text-decoration-color: #800080; font-weight: bold\">ravel</span><span style=\"font-weight: bold\">()</span>.                                                 <span style=\"color: #7f7f7f; text-decoration-color: #7f7f7f\">               </span>\n",
       "<span style=\"color: #7fbfbf; text-decoration-color: #7fbfbf\">                    </span>           return <span style=\"color: #800080; text-decoration-color: #800080; font-weight: bold\">fit_method</span><span style=\"font-weight: bold\">(</span>estimator, *args, **kwargs<span style=\"font-weight: bold\">)</span>                        <span style=\"color: #7f7f7f; text-decoration-color: #7f7f7f\">               </span>\n",
       "<span style=\"color: #7fbfbf; text-decoration-color: #7fbfbf\">                    </span>                                                                                <span style=\"color: #7f7f7f; text-decoration-color: #7f7f7f\">               </span>\n",
       "</pre>\n"
      ],
      "text/plain": [
       "\u001b[2;36m                   \u001b[0m\u001b[2;36m \u001b[0m\u001b[31mWARNING \u001b[0m C:\\Users\\dggua\\anaconda3\\envs\\test_env\\lib\\site-packages\\sklearn\\base. \u001b]8;id=212777;file://C:\\Users\\dggua\\anaconda3\\envs\\test_env\\lib\\warnings.py\u001b\\\u001b[2mwarnings.py\u001b[0m\u001b]8;;\u001b\\\u001b[2m:\u001b[0m\u001b]8;id=137783;file://C:\\Users\\dggua\\anaconda3\\envs\\test_env\\lib\\warnings.py#109\u001b\\\u001b[2m109\u001b[0m\u001b]8;;\u001b\\\n",
       "\u001b[2;36m                    \u001b[0m         py:\u001b[1;36m1351\u001b[0m: DataConversionWarning: A column-vector y was passed when a 1d \u001b[2m               \u001b[0m\n",
       "\u001b[2;36m                    \u001b[0m         array was expected. Please change the shape of y to \u001b[1m(\u001b[0mn_samples,\u001b[1m)\u001b[0m, for  \u001b[2m               \u001b[0m\n",
       "\u001b[2;36m                    \u001b[0m         example using \u001b[1;35mravel\u001b[0m\u001b[1m(\u001b[0m\u001b[1m)\u001b[0m.                                                 \u001b[2m               \u001b[0m\n",
       "\u001b[2;36m                    \u001b[0m           return \u001b[1;35mfit_method\u001b[0m\u001b[1m(\u001b[0mestimator, *args, **kwargs\u001b[1m)\u001b[0m                        \u001b[2m               \u001b[0m\n",
       "\u001b[2;36m                    \u001b[0m                                                                                \u001b[2m               \u001b[0m\n"
      ]
     },
     "metadata": {},
     "output_type": "display_data"
    },
    {
     "data": {
      "text/html": [
       "<pre style=\"white-space:pre;overflow-x:auto;line-height:normal;font-family:Menlo,'DejaVu Sans Mono',consolas,'Courier New',monospace\"><span style=\"color: #7fbfbf; text-decoration-color: #7fbfbf\">                    </span><span style=\"color: #800000; text-decoration-color: #800000\">WARNING </span> C:\\Users\\dggua\\anaconda3\\envs\\test_env\\lib\\site-packages\\sklearn\\base. <a href=\"file://C:\\Users\\dggua\\anaconda3\\envs\\test_env\\lib\\warnings.py\" target=\"_blank\"><span style=\"color: #7f7f7f; text-decoration-color: #7f7f7f\">warnings.py</span></a><span style=\"color: #7f7f7f; text-decoration-color: #7f7f7f\">:</span><a href=\"file://C:\\Users\\dggua\\anaconda3\\envs\\test_env\\lib\\warnings.py#109\" target=\"_blank\"><span style=\"color: #7f7f7f; text-decoration-color: #7f7f7f\">109</span></a>\n",
       "<span style=\"color: #7fbfbf; text-decoration-color: #7fbfbf\">                    </span>         py:<span style=\"color: #008080; text-decoration-color: #008080; font-weight: bold\">1351</span>: DataConversionWarning: A column-vector y was passed when a 1d <span style=\"color: #7f7f7f; text-decoration-color: #7f7f7f\">               </span>\n",
       "<span style=\"color: #7fbfbf; text-decoration-color: #7fbfbf\">                    </span>         array was expected. Please change the shape of y to <span style=\"font-weight: bold\">(</span>n_samples,<span style=\"font-weight: bold\">)</span>, for  <span style=\"color: #7f7f7f; text-decoration-color: #7f7f7f\">               </span>\n",
       "<span style=\"color: #7fbfbf; text-decoration-color: #7fbfbf\">                    </span>         example using <span style=\"color: #800080; text-decoration-color: #800080; font-weight: bold\">ravel</span><span style=\"font-weight: bold\">()</span>.                                                 <span style=\"color: #7f7f7f; text-decoration-color: #7f7f7f\">               </span>\n",
       "<span style=\"color: #7fbfbf; text-decoration-color: #7fbfbf\">                    </span>           return <span style=\"color: #800080; text-decoration-color: #800080; font-weight: bold\">fit_method</span><span style=\"font-weight: bold\">(</span>estimator, *args, **kwargs<span style=\"font-weight: bold\">)</span>                        <span style=\"color: #7f7f7f; text-decoration-color: #7f7f7f\">               </span>\n",
       "<span style=\"color: #7fbfbf; text-decoration-color: #7fbfbf\">                    </span>                                                                                <span style=\"color: #7f7f7f; text-decoration-color: #7f7f7f\">               </span>\n",
       "</pre>\n"
      ],
      "text/plain": [
       "\u001b[2;36m                   \u001b[0m\u001b[2;36m \u001b[0m\u001b[31mWARNING \u001b[0m C:\\Users\\dggua\\anaconda3\\envs\\test_env\\lib\\site-packages\\sklearn\\base. \u001b]8;id=721489;file://C:\\Users\\dggua\\anaconda3\\envs\\test_env\\lib\\warnings.py\u001b\\\u001b[2mwarnings.py\u001b[0m\u001b]8;;\u001b\\\u001b[2m:\u001b[0m\u001b]8;id=201041;file://C:\\Users\\dggua\\anaconda3\\envs\\test_env\\lib\\warnings.py#109\u001b\\\u001b[2m109\u001b[0m\u001b]8;;\u001b\\\n",
       "\u001b[2;36m                    \u001b[0m         py:\u001b[1;36m1351\u001b[0m: DataConversionWarning: A column-vector y was passed when a 1d \u001b[2m               \u001b[0m\n",
       "\u001b[2;36m                    \u001b[0m         array was expected. Please change the shape of y to \u001b[1m(\u001b[0mn_samples,\u001b[1m)\u001b[0m, for  \u001b[2m               \u001b[0m\n",
       "\u001b[2;36m                    \u001b[0m         example using \u001b[1;35mravel\u001b[0m\u001b[1m(\u001b[0m\u001b[1m)\u001b[0m.                                                 \u001b[2m               \u001b[0m\n",
       "\u001b[2;36m                    \u001b[0m           return \u001b[1;35mfit_method\u001b[0m\u001b[1m(\u001b[0mestimator, *args, **kwargs\u001b[1m)\u001b[0m                        \u001b[2m               \u001b[0m\n",
       "\u001b[2;36m                    \u001b[0m                                                                                \u001b[2m               \u001b[0m\n"
      ]
     },
     "metadata": {},
     "output_type": "display_data"
    },
    {
     "data": {
      "text/html": [
       "<pre style=\"white-space:pre;overflow-x:auto;line-height:normal;font-family:Menlo,'DejaVu Sans Mono',consolas,'Courier New',monospace\"><span style=\"color: #7fbfbf; text-decoration-color: #7fbfbf\">                    </span><span style=\"color: #800000; text-decoration-color: #800000\">WARNING </span> C:\\Users\\dggua\\anaconda3\\envs\\test_env\\lib\\site-packages\\sklearn\\base. <a href=\"file://C:\\Users\\dggua\\anaconda3\\envs\\test_env\\lib\\warnings.py\" target=\"_blank\"><span style=\"color: #7f7f7f; text-decoration-color: #7f7f7f\">warnings.py</span></a><span style=\"color: #7f7f7f; text-decoration-color: #7f7f7f\">:</span><a href=\"file://C:\\Users\\dggua\\anaconda3\\envs\\test_env\\lib\\warnings.py#109\" target=\"_blank\"><span style=\"color: #7f7f7f; text-decoration-color: #7f7f7f\">109</span></a>\n",
       "<span style=\"color: #7fbfbf; text-decoration-color: #7fbfbf\">                    </span>         py:<span style=\"color: #008080; text-decoration-color: #008080; font-weight: bold\">1351</span>: DataConversionWarning: A column-vector y was passed when a 1d <span style=\"color: #7f7f7f; text-decoration-color: #7f7f7f\">               </span>\n",
       "<span style=\"color: #7fbfbf; text-decoration-color: #7fbfbf\">                    </span>         array was expected. Please change the shape of y to <span style=\"font-weight: bold\">(</span>n_samples,<span style=\"font-weight: bold\">)</span>, for  <span style=\"color: #7f7f7f; text-decoration-color: #7f7f7f\">               </span>\n",
       "<span style=\"color: #7fbfbf; text-decoration-color: #7fbfbf\">                    </span>         example using <span style=\"color: #800080; text-decoration-color: #800080; font-weight: bold\">ravel</span><span style=\"font-weight: bold\">()</span>.                                                 <span style=\"color: #7f7f7f; text-decoration-color: #7f7f7f\">               </span>\n",
       "<span style=\"color: #7fbfbf; text-decoration-color: #7fbfbf\">                    </span>           return <span style=\"color: #800080; text-decoration-color: #800080; font-weight: bold\">fit_method</span><span style=\"font-weight: bold\">(</span>estimator, *args, **kwargs<span style=\"font-weight: bold\">)</span>                        <span style=\"color: #7f7f7f; text-decoration-color: #7f7f7f\">               </span>\n",
       "<span style=\"color: #7fbfbf; text-decoration-color: #7fbfbf\">                    </span>                                                                                <span style=\"color: #7f7f7f; text-decoration-color: #7f7f7f\">               </span>\n",
       "</pre>\n"
      ],
      "text/plain": [
       "\u001b[2;36m                   \u001b[0m\u001b[2;36m \u001b[0m\u001b[31mWARNING \u001b[0m C:\\Users\\dggua\\anaconda3\\envs\\test_env\\lib\\site-packages\\sklearn\\base. \u001b]8;id=134415;file://C:\\Users\\dggua\\anaconda3\\envs\\test_env\\lib\\warnings.py\u001b\\\u001b[2mwarnings.py\u001b[0m\u001b]8;;\u001b\\\u001b[2m:\u001b[0m\u001b]8;id=397615;file://C:\\Users\\dggua\\anaconda3\\envs\\test_env\\lib\\warnings.py#109\u001b\\\u001b[2m109\u001b[0m\u001b]8;;\u001b\\\n",
       "\u001b[2;36m                    \u001b[0m         py:\u001b[1;36m1351\u001b[0m: DataConversionWarning: A column-vector y was passed when a 1d \u001b[2m               \u001b[0m\n",
       "\u001b[2;36m                    \u001b[0m         array was expected. Please change the shape of y to \u001b[1m(\u001b[0mn_samples,\u001b[1m)\u001b[0m, for  \u001b[2m               \u001b[0m\n",
       "\u001b[2;36m                    \u001b[0m         example using \u001b[1;35mravel\u001b[0m\u001b[1m(\u001b[0m\u001b[1m)\u001b[0m.                                                 \u001b[2m               \u001b[0m\n",
       "\u001b[2;36m                    \u001b[0m           return \u001b[1;35mfit_method\u001b[0m\u001b[1m(\u001b[0mestimator, *args, **kwargs\u001b[1m)\u001b[0m                        \u001b[2m               \u001b[0m\n",
       "\u001b[2;36m                    \u001b[0m                                                                                \u001b[2m               \u001b[0m\n"
      ]
     },
     "metadata": {},
     "output_type": "display_data"
    },
    {
     "data": {
      "text/html": [
       "<pre style=\"white-space:pre;overflow-x:auto;line-height:normal;font-family:Menlo,'DejaVu Sans Mono',consolas,'Courier New',monospace\"><span style=\"color: #7fbfbf; text-decoration-color: #7fbfbf\">                    </span><span style=\"color: #800000; text-decoration-color: #800000\">WARNING </span> C:\\Users\\dggua\\anaconda3\\envs\\test_env\\lib\\site-packages\\sklearn\\base. <a href=\"file://C:\\Users\\dggua\\anaconda3\\envs\\test_env\\lib\\warnings.py\" target=\"_blank\"><span style=\"color: #7f7f7f; text-decoration-color: #7f7f7f\">warnings.py</span></a><span style=\"color: #7f7f7f; text-decoration-color: #7f7f7f\">:</span><a href=\"file://C:\\Users\\dggua\\anaconda3\\envs\\test_env\\lib\\warnings.py#109\" target=\"_blank\"><span style=\"color: #7f7f7f; text-decoration-color: #7f7f7f\">109</span></a>\n",
       "<span style=\"color: #7fbfbf; text-decoration-color: #7fbfbf\">                    </span>         py:<span style=\"color: #008080; text-decoration-color: #008080; font-weight: bold\">1351</span>: DataConversionWarning: A column-vector y was passed when a 1d <span style=\"color: #7f7f7f; text-decoration-color: #7f7f7f\">               </span>\n",
       "<span style=\"color: #7fbfbf; text-decoration-color: #7fbfbf\">                    </span>         array was expected. Please change the shape of y to <span style=\"font-weight: bold\">(</span>n_samples,<span style=\"font-weight: bold\">)</span>, for  <span style=\"color: #7f7f7f; text-decoration-color: #7f7f7f\">               </span>\n",
       "<span style=\"color: #7fbfbf; text-decoration-color: #7fbfbf\">                    </span>         example using <span style=\"color: #800080; text-decoration-color: #800080; font-weight: bold\">ravel</span><span style=\"font-weight: bold\">()</span>.                                                 <span style=\"color: #7f7f7f; text-decoration-color: #7f7f7f\">               </span>\n",
       "<span style=\"color: #7fbfbf; text-decoration-color: #7fbfbf\">                    </span>           return <span style=\"color: #800080; text-decoration-color: #800080; font-weight: bold\">fit_method</span><span style=\"font-weight: bold\">(</span>estimator, *args, **kwargs<span style=\"font-weight: bold\">)</span>                        <span style=\"color: #7f7f7f; text-decoration-color: #7f7f7f\">               </span>\n",
       "<span style=\"color: #7fbfbf; text-decoration-color: #7fbfbf\">                    </span>                                                                                <span style=\"color: #7f7f7f; text-decoration-color: #7f7f7f\">               </span>\n",
       "</pre>\n"
      ],
      "text/plain": [
       "\u001b[2;36m                   \u001b[0m\u001b[2;36m \u001b[0m\u001b[31mWARNING \u001b[0m C:\\Users\\dggua\\anaconda3\\envs\\test_env\\lib\\site-packages\\sklearn\\base. \u001b]8;id=132457;file://C:\\Users\\dggua\\anaconda3\\envs\\test_env\\lib\\warnings.py\u001b\\\u001b[2mwarnings.py\u001b[0m\u001b]8;;\u001b\\\u001b[2m:\u001b[0m\u001b]8;id=186422;file://C:\\Users\\dggua\\anaconda3\\envs\\test_env\\lib\\warnings.py#109\u001b\\\u001b[2m109\u001b[0m\u001b]8;;\u001b\\\n",
       "\u001b[2;36m                    \u001b[0m         py:\u001b[1;36m1351\u001b[0m: DataConversionWarning: A column-vector y was passed when a 1d \u001b[2m               \u001b[0m\n",
       "\u001b[2;36m                    \u001b[0m         array was expected. Please change the shape of y to \u001b[1m(\u001b[0mn_samples,\u001b[1m)\u001b[0m, for  \u001b[2m               \u001b[0m\n",
       "\u001b[2;36m                    \u001b[0m         example using \u001b[1;35mravel\u001b[0m\u001b[1m(\u001b[0m\u001b[1m)\u001b[0m.                                                 \u001b[2m               \u001b[0m\n",
       "\u001b[2;36m                    \u001b[0m           return \u001b[1;35mfit_method\u001b[0m\u001b[1m(\u001b[0mestimator, *args, **kwargs\u001b[1m)\u001b[0m                        \u001b[2m               \u001b[0m\n",
       "\u001b[2;36m                    \u001b[0m                                                                                \u001b[2m               \u001b[0m\n"
      ]
     },
     "metadata": {},
     "output_type": "display_data"
    },
    {
     "data": {
      "text/html": [
       "<pre style=\"white-space:pre;overflow-x:auto;line-height:normal;font-family:Menlo,'DejaVu Sans Mono',consolas,'Courier New',monospace\"><span style=\"color: #7fbfbf; text-decoration-color: #7fbfbf\">                    </span><span style=\"color: #800000; text-decoration-color: #800000\">WARNING </span> C:\\Users\\dggua\\anaconda3\\envs\\test_env\\lib\\site-packages\\sklearn\\base. <a href=\"file://C:\\Users\\dggua\\anaconda3\\envs\\test_env\\lib\\warnings.py\" target=\"_blank\"><span style=\"color: #7f7f7f; text-decoration-color: #7f7f7f\">warnings.py</span></a><span style=\"color: #7f7f7f; text-decoration-color: #7f7f7f\">:</span><a href=\"file://C:\\Users\\dggua\\anaconda3\\envs\\test_env\\lib\\warnings.py#109\" target=\"_blank\"><span style=\"color: #7f7f7f; text-decoration-color: #7f7f7f\">109</span></a>\n",
       "<span style=\"color: #7fbfbf; text-decoration-color: #7fbfbf\">                    </span>         py:<span style=\"color: #008080; text-decoration-color: #008080; font-weight: bold\">1351</span>: DataConversionWarning: A column-vector y was passed when a 1d <span style=\"color: #7f7f7f; text-decoration-color: #7f7f7f\">               </span>\n",
       "<span style=\"color: #7fbfbf; text-decoration-color: #7fbfbf\">                    </span>         array was expected. Please change the shape of y to <span style=\"font-weight: bold\">(</span>n_samples,<span style=\"font-weight: bold\">)</span>, for  <span style=\"color: #7f7f7f; text-decoration-color: #7f7f7f\">               </span>\n",
       "<span style=\"color: #7fbfbf; text-decoration-color: #7fbfbf\">                    </span>         example using <span style=\"color: #800080; text-decoration-color: #800080; font-weight: bold\">ravel</span><span style=\"font-weight: bold\">()</span>.                                                 <span style=\"color: #7f7f7f; text-decoration-color: #7f7f7f\">               </span>\n",
       "<span style=\"color: #7fbfbf; text-decoration-color: #7fbfbf\">                    </span>           return <span style=\"color: #800080; text-decoration-color: #800080; font-weight: bold\">fit_method</span><span style=\"font-weight: bold\">(</span>estimator, *args, **kwargs<span style=\"font-weight: bold\">)</span>                        <span style=\"color: #7f7f7f; text-decoration-color: #7f7f7f\">               </span>\n",
       "<span style=\"color: #7fbfbf; text-decoration-color: #7fbfbf\">                    </span>                                                                                <span style=\"color: #7f7f7f; text-decoration-color: #7f7f7f\">               </span>\n",
       "</pre>\n"
      ],
      "text/plain": [
       "\u001b[2;36m                   \u001b[0m\u001b[2;36m \u001b[0m\u001b[31mWARNING \u001b[0m C:\\Users\\dggua\\anaconda3\\envs\\test_env\\lib\\site-packages\\sklearn\\base. \u001b]8;id=625792;file://C:\\Users\\dggua\\anaconda3\\envs\\test_env\\lib\\warnings.py\u001b\\\u001b[2mwarnings.py\u001b[0m\u001b]8;;\u001b\\\u001b[2m:\u001b[0m\u001b]8;id=525656;file://C:\\Users\\dggua\\anaconda3\\envs\\test_env\\lib\\warnings.py#109\u001b\\\u001b[2m109\u001b[0m\u001b]8;;\u001b\\\n",
       "\u001b[2;36m                    \u001b[0m         py:\u001b[1;36m1351\u001b[0m: DataConversionWarning: A column-vector y was passed when a 1d \u001b[2m               \u001b[0m\n",
       "\u001b[2;36m                    \u001b[0m         array was expected. Please change the shape of y to \u001b[1m(\u001b[0mn_samples,\u001b[1m)\u001b[0m, for  \u001b[2m               \u001b[0m\n",
       "\u001b[2;36m                    \u001b[0m         example using \u001b[1;35mravel\u001b[0m\u001b[1m(\u001b[0m\u001b[1m)\u001b[0m.                                                 \u001b[2m               \u001b[0m\n",
       "\u001b[2;36m                    \u001b[0m           return \u001b[1;35mfit_method\u001b[0m\u001b[1m(\u001b[0mestimator, *args, **kwargs\u001b[1m)\u001b[0m                        \u001b[2m               \u001b[0m\n",
       "\u001b[2;36m                    \u001b[0m                                                                                \u001b[2m               \u001b[0m\n"
      ]
     },
     "metadata": {},
     "output_type": "display_data"
    },
    {
     "data": {
      "text/html": [
       "<pre style=\"white-space:pre;overflow-x:auto;line-height:normal;font-family:Menlo,'DejaVu Sans Mono',consolas,'Courier New',monospace\"><span style=\"color: #7fbfbf; text-decoration-color: #7fbfbf\">[06/22/24 16:18:05] </span><span style=\"color: #800000; text-decoration-color: #800000\">WARNING </span> C:\\Users\\dggua\\anaconda3\\envs\\test_env\\lib\\site-packages\\sklearn\\base. <a href=\"file://C:\\Users\\dggua\\anaconda3\\envs\\test_env\\lib\\warnings.py\" target=\"_blank\"><span style=\"color: #7f7f7f; text-decoration-color: #7f7f7f\">warnings.py</span></a><span style=\"color: #7f7f7f; text-decoration-color: #7f7f7f\">:</span><a href=\"file://C:\\Users\\dggua\\anaconda3\\envs\\test_env\\lib\\warnings.py#109\" target=\"_blank\"><span style=\"color: #7f7f7f; text-decoration-color: #7f7f7f\">109</span></a>\n",
       "<span style=\"color: #7fbfbf; text-decoration-color: #7fbfbf\">                    </span>         py:<span style=\"color: #008080; text-decoration-color: #008080; font-weight: bold\">1351</span>: DataConversionWarning: A column-vector y was passed when a 1d <span style=\"color: #7f7f7f; text-decoration-color: #7f7f7f\">               </span>\n",
       "<span style=\"color: #7fbfbf; text-decoration-color: #7fbfbf\">                    </span>         array was expected. Please change the shape of y to <span style=\"font-weight: bold\">(</span>n_samples,<span style=\"font-weight: bold\">)</span>, for  <span style=\"color: #7f7f7f; text-decoration-color: #7f7f7f\">               </span>\n",
       "<span style=\"color: #7fbfbf; text-decoration-color: #7fbfbf\">                    </span>         example using <span style=\"color: #800080; text-decoration-color: #800080; font-weight: bold\">ravel</span><span style=\"font-weight: bold\">()</span>.                                                 <span style=\"color: #7f7f7f; text-decoration-color: #7f7f7f\">               </span>\n",
       "<span style=\"color: #7fbfbf; text-decoration-color: #7fbfbf\">                    </span>           return <span style=\"color: #800080; text-decoration-color: #800080; font-weight: bold\">fit_method</span><span style=\"font-weight: bold\">(</span>estimator, *args, **kwargs<span style=\"font-weight: bold\">)</span>                        <span style=\"color: #7f7f7f; text-decoration-color: #7f7f7f\">               </span>\n",
       "<span style=\"color: #7fbfbf; text-decoration-color: #7fbfbf\">                    </span>                                                                                <span style=\"color: #7f7f7f; text-decoration-color: #7f7f7f\">               </span>\n",
       "</pre>\n"
      ],
      "text/plain": [
       "\u001b[2;36m[06/22/24 16:18:05]\u001b[0m\u001b[2;36m \u001b[0m\u001b[31mWARNING \u001b[0m C:\\Users\\dggua\\anaconda3\\envs\\test_env\\lib\\site-packages\\sklearn\\base. \u001b]8;id=141635;file://C:\\Users\\dggua\\anaconda3\\envs\\test_env\\lib\\warnings.py\u001b\\\u001b[2mwarnings.py\u001b[0m\u001b]8;;\u001b\\\u001b[2m:\u001b[0m\u001b]8;id=622741;file://C:\\Users\\dggua\\anaconda3\\envs\\test_env\\lib\\warnings.py#109\u001b\\\u001b[2m109\u001b[0m\u001b]8;;\u001b\\\n",
       "\u001b[2;36m                    \u001b[0m         py:\u001b[1;36m1351\u001b[0m: DataConversionWarning: A column-vector y was passed when a 1d \u001b[2m               \u001b[0m\n",
       "\u001b[2;36m                    \u001b[0m         array was expected. Please change the shape of y to \u001b[1m(\u001b[0mn_samples,\u001b[1m)\u001b[0m, for  \u001b[2m               \u001b[0m\n",
       "\u001b[2;36m                    \u001b[0m         example using \u001b[1;35mravel\u001b[0m\u001b[1m(\u001b[0m\u001b[1m)\u001b[0m.                                                 \u001b[2m               \u001b[0m\n",
       "\u001b[2;36m                    \u001b[0m           return \u001b[1;35mfit_method\u001b[0m\u001b[1m(\u001b[0mestimator, *args, **kwargs\u001b[1m)\u001b[0m                        \u001b[2m               \u001b[0m\n",
       "\u001b[2;36m                    \u001b[0m                                                                                \u001b[2m               \u001b[0m\n"
      ]
     },
     "metadata": {},
     "output_type": "display_data"
    },
    {
     "data": {
      "text/html": [
       "<pre style=\"white-space:pre;overflow-x:auto;line-height:normal;font-family:Menlo,'DejaVu Sans Mono',consolas,'Courier New',monospace\"><span style=\"color: #7fbfbf; text-decoration-color: #7fbfbf\">                    </span><span style=\"color: #800000; text-decoration-color: #800000\">WARNING </span> C:\\Users\\dggua\\anaconda3\\envs\\test_env\\lib\\site-packages\\sklearn\\base. <a href=\"file://C:\\Users\\dggua\\anaconda3\\envs\\test_env\\lib\\warnings.py\" target=\"_blank\"><span style=\"color: #7f7f7f; text-decoration-color: #7f7f7f\">warnings.py</span></a><span style=\"color: #7f7f7f; text-decoration-color: #7f7f7f\">:</span><a href=\"file://C:\\Users\\dggua\\anaconda3\\envs\\test_env\\lib\\warnings.py#109\" target=\"_blank\"><span style=\"color: #7f7f7f; text-decoration-color: #7f7f7f\">109</span></a>\n",
       "<span style=\"color: #7fbfbf; text-decoration-color: #7fbfbf\">                    </span>         py:<span style=\"color: #008080; text-decoration-color: #008080; font-weight: bold\">1351</span>: DataConversionWarning: A column-vector y was passed when a 1d <span style=\"color: #7f7f7f; text-decoration-color: #7f7f7f\">               </span>\n",
       "<span style=\"color: #7fbfbf; text-decoration-color: #7fbfbf\">                    </span>         array was expected. Please change the shape of y to <span style=\"font-weight: bold\">(</span>n_samples,<span style=\"font-weight: bold\">)</span>, for  <span style=\"color: #7f7f7f; text-decoration-color: #7f7f7f\">               </span>\n",
       "<span style=\"color: #7fbfbf; text-decoration-color: #7fbfbf\">                    </span>         example using <span style=\"color: #800080; text-decoration-color: #800080; font-weight: bold\">ravel</span><span style=\"font-weight: bold\">()</span>.                                                 <span style=\"color: #7f7f7f; text-decoration-color: #7f7f7f\">               </span>\n",
       "<span style=\"color: #7fbfbf; text-decoration-color: #7fbfbf\">                    </span>           return <span style=\"color: #800080; text-decoration-color: #800080; font-weight: bold\">fit_method</span><span style=\"font-weight: bold\">(</span>estimator, *args, **kwargs<span style=\"font-weight: bold\">)</span>                        <span style=\"color: #7f7f7f; text-decoration-color: #7f7f7f\">               </span>\n",
       "<span style=\"color: #7fbfbf; text-decoration-color: #7fbfbf\">                    </span>                                                                                <span style=\"color: #7f7f7f; text-decoration-color: #7f7f7f\">               </span>\n",
       "</pre>\n"
      ],
      "text/plain": [
       "\u001b[2;36m                   \u001b[0m\u001b[2;36m \u001b[0m\u001b[31mWARNING \u001b[0m C:\\Users\\dggua\\anaconda3\\envs\\test_env\\lib\\site-packages\\sklearn\\base. \u001b]8;id=295262;file://C:\\Users\\dggua\\anaconda3\\envs\\test_env\\lib\\warnings.py\u001b\\\u001b[2mwarnings.py\u001b[0m\u001b]8;;\u001b\\\u001b[2m:\u001b[0m\u001b]8;id=68378;file://C:\\Users\\dggua\\anaconda3\\envs\\test_env\\lib\\warnings.py#109\u001b\\\u001b[2m109\u001b[0m\u001b]8;;\u001b\\\n",
       "\u001b[2;36m                    \u001b[0m         py:\u001b[1;36m1351\u001b[0m: DataConversionWarning: A column-vector y was passed when a 1d \u001b[2m               \u001b[0m\n",
       "\u001b[2;36m                    \u001b[0m         array was expected. Please change the shape of y to \u001b[1m(\u001b[0mn_samples,\u001b[1m)\u001b[0m, for  \u001b[2m               \u001b[0m\n",
       "\u001b[2;36m                    \u001b[0m         example using \u001b[1;35mravel\u001b[0m\u001b[1m(\u001b[0m\u001b[1m)\u001b[0m.                                                 \u001b[2m               \u001b[0m\n",
       "\u001b[2;36m                    \u001b[0m           return \u001b[1;35mfit_method\u001b[0m\u001b[1m(\u001b[0mestimator, *args, **kwargs\u001b[1m)\u001b[0m                        \u001b[2m               \u001b[0m\n",
       "\u001b[2;36m                    \u001b[0m                                                                                \u001b[2m               \u001b[0m\n"
      ]
     },
     "metadata": {},
     "output_type": "display_data"
    },
    {
     "data": {
      "text/html": [
       "<pre style=\"white-space:pre;overflow-x:auto;line-height:normal;font-family:Menlo,'DejaVu Sans Mono',consolas,'Courier New',monospace\"><span style=\"color: #7fbfbf; text-decoration-color: #7fbfbf\">                    </span><span style=\"color: #800000; text-decoration-color: #800000\">WARNING </span> C:\\Users\\dggua\\anaconda3\\envs\\test_env\\lib\\site-packages\\sklearn\\base. <a href=\"file://C:\\Users\\dggua\\anaconda3\\envs\\test_env\\lib\\warnings.py\" target=\"_blank\"><span style=\"color: #7f7f7f; text-decoration-color: #7f7f7f\">warnings.py</span></a><span style=\"color: #7f7f7f; text-decoration-color: #7f7f7f\">:</span><a href=\"file://C:\\Users\\dggua\\anaconda3\\envs\\test_env\\lib\\warnings.py#109\" target=\"_blank\"><span style=\"color: #7f7f7f; text-decoration-color: #7f7f7f\">109</span></a>\n",
       "<span style=\"color: #7fbfbf; text-decoration-color: #7fbfbf\">                    </span>         py:<span style=\"color: #008080; text-decoration-color: #008080; font-weight: bold\">1351</span>: DataConversionWarning: A column-vector y was passed when a 1d <span style=\"color: #7f7f7f; text-decoration-color: #7f7f7f\">               </span>\n",
       "<span style=\"color: #7fbfbf; text-decoration-color: #7fbfbf\">                    </span>         array was expected. Please change the shape of y to <span style=\"font-weight: bold\">(</span>n_samples,<span style=\"font-weight: bold\">)</span>, for  <span style=\"color: #7f7f7f; text-decoration-color: #7f7f7f\">               </span>\n",
       "<span style=\"color: #7fbfbf; text-decoration-color: #7fbfbf\">                    </span>         example using <span style=\"color: #800080; text-decoration-color: #800080; font-weight: bold\">ravel</span><span style=\"font-weight: bold\">()</span>.                                                 <span style=\"color: #7f7f7f; text-decoration-color: #7f7f7f\">               </span>\n",
       "<span style=\"color: #7fbfbf; text-decoration-color: #7fbfbf\">                    </span>           return <span style=\"color: #800080; text-decoration-color: #800080; font-weight: bold\">fit_method</span><span style=\"font-weight: bold\">(</span>estimator, *args, **kwargs<span style=\"font-weight: bold\">)</span>                        <span style=\"color: #7f7f7f; text-decoration-color: #7f7f7f\">               </span>\n",
       "<span style=\"color: #7fbfbf; text-decoration-color: #7fbfbf\">                    </span>                                                                                <span style=\"color: #7f7f7f; text-decoration-color: #7f7f7f\">               </span>\n",
       "</pre>\n"
      ],
      "text/plain": [
       "\u001b[2;36m                   \u001b[0m\u001b[2;36m \u001b[0m\u001b[31mWARNING \u001b[0m C:\\Users\\dggua\\anaconda3\\envs\\test_env\\lib\\site-packages\\sklearn\\base. \u001b]8;id=314554;file://C:\\Users\\dggua\\anaconda3\\envs\\test_env\\lib\\warnings.py\u001b\\\u001b[2mwarnings.py\u001b[0m\u001b]8;;\u001b\\\u001b[2m:\u001b[0m\u001b]8;id=568592;file://C:\\Users\\dggua\\anaconda3\\envs\\test_env\\lib\\warnings.py#109\u001b\\\u001b[2m109\u001b[0m\u001b]8;;\u001b\\\n",
       "\u001b[2;36m                    \u001b[0m         py:\u001b[1;36m1351\u001b[0m: DataConversionWarning: A column-vector y was passed when a 1d \u001b[2m               \u001b[0m\n",
       "\u001b[2;36m                    \u001b[0m         array was expected. Please change the shape of y to \u001b[1m(\u001b[0mn_samples,\u001b[1m)\u001b[0m, for  \u001b[2m               \u001b[0m\n",
       "\u001b[2;36m                    \u001b[0m         example using \u001b[1;35mravel\u001b[0m\u001b[1m(\u001b[0m\u001b[1m)\u001b[0m.                                                 \u001b[2m               \u001b[0m\n",
       "\u001b[2;36m                    \u001b[0m           return \u001b[1;35mfit_method\u001b[0m\u001b[1m(\u001b[0mestimator, *args, **kwargs\u001b[1m)\u001b[0m                        \u001b[2m               \u001b[0m\n",
       "\u001b[2;36m                    \u001b[0m                                                                                \u001b[2m               \u001b[0m\n"
      ]
     },
     "metadata": {},
     "output_type": "display_data"
    },
    {
     "data": {
      "text/html": [
       "<pre style=\"white-space:pre;overflow-x:auto;line-height:normal;font-family:Menlo,'DejaVu Sans Mono',consolas,'Courier New',monospace\"><span style=\"color: #7fbfbf; text-decoration-color: #7fbfbf\">                    </span><span style=\"color: #800000; text-decoration-color: #800000\">WARNING </span> C:\\Users\\dggua\\anaconda3\\envs\\test_env\\lib\\site-packages\\sklearn\\base. <a href=\"file://C:\\Users\\dggua\\anaconda3\\envs\\test_env\\lib\\warnings.py\" target=\"_blank\"><span style=\"color: #7f7f7f; text-decoration-color: #7f7f7f\">warnings.py</span></a><span style=\"color: #7f7f7f; text-decoration-color: #7f7f7f\">:</span><a href=\"file://C:\\Users\\dggua\\anaconda3\\envs\\test_env\\lib\\warnings.py#109\" target=\"_blank\"><span style=\"color: #7f7f7f; text-decoration-color: #7f7f7f\">109</span></a>\n",
       "<span style=\"color: #7fbfbf; text-decoration-color: #7fbfbf\">                    </span>         py:<span style=\"color: #008080; text-decoration-color: #008080; font-weight: bold\">1351</span>: DataConversionWarning: A column-vector y was passed when a 1d <span style=\"color: #7f7f7f; text-decoration-color: #7f7f7f\">               </span>\n",
       "<span style=\"color: #7fbfbf; text-decoration-color: #7fbfbf\">                    </span>         array was expected. Please change the shape of y to <span style=\"font-weight: bold\">(</span>n_samples,<span style=\"font-weight: bold\">)</span>, for  <span style=\"color: #7f7f7f; text-decoration-color: #7f7f7f\">               </span>\n",
       "<span style=\"color: #7fbfbf; text-decoration-color: #7fbfbf\">                    </span>         example using <span style=\"color: #800080; text-decoration-color: #800080; font-weight: bold\">ravel</span><span style=\"font-weight: bold\">()</span>.                                                 <span style=\"color: #7f7f7f; text-decoration-color: #7f7f7f\">               </span>\n",
       "<span style=\"color: #7fbfbf; text-decoration-color: #7fbfbf\">                    </span>           return <span style=\"color: #800080; text-decoration-color: #800080; font-weight: bold\">fit_method</span><span style=\"font-weight: bold\">(</span>estimator, *args, **kwargs<span style=\"font-weight: bold\">)</span>                        <span style=\"color: #7f7f7f; text-decoration-color: #7f7f7f\">               </span>\n",
       "<span style=\"color: #7fbfbf; text-decoration-color: #7fbfbf\">                    </span>                                                                                <span style=\"color: #7f7f7f; text-decoration-color: #7f7f7f\">               </span>\n",
       "</pre>\n"
      ],
      "text/plain": [
       "\u001b[2;36m                   \u001b[0m\u001b[2;36m \u001b[0m\u001b[31mWARNING \u001b[0m C:\\Users\\dggua\\anaconda3\\envs\\test_env\\lib\\site-packages\\sklearn\\base. \u001b]8;id=410130;file://C:\\Users\\dggua\\anaconda3\\envs\\test_env\\lib\\warnings.py\u001b\\\u001b[2mwarnings.py\u001b[0m\u001b]8;;\u001b\\\u001b[2m:\u001b[0m\u001b]8;id=594568;file://C:\\Users\\dggua\\anaconda3\\envs\\test_env\\lib\\warnings.py#109\u001b\\\u001b[2m109\u001b[0m\u001b]8;;\u001b\\\n",
       "\u001b[2;36m                    \u001b[0m         py:\u001b[1;36m1351\u001b[0m: DataConversionWarning: A column-vector y was passed when a 1d \u001b[2m               \u001b[0m\n",
       "\u001b[2;36m                    \u001b[0m         array was expected. Please change the shape of y to \u001b[1m(\u001b[0mn_samples,\u001b[1m)\u001b[0m, for  \u001b[2m               \u001b[0m\n",
       "\u001b[2;36m                    \u001b[0m         example using \u001b[1;35mravel\u001b[0m\u001b[1m(\u001b[0m\u001b[1m)\u001b[0m.                                                 \u001b[2m               \u001b[0m\n",
       "\u001b[2;36m                    \u001b[0m           return \u001b[1;35mfit_method\u001b[0m\u001b[1m(\u001b[0mestimator, *args, **kwargs\u001b[1m)\u001b[0m                        \u001b[2m               \u001b[0m\n",
       "\u001b[2;36m                    \u001b[0m                                                                                \u001b[2m               \u001b[0m\n"
      ]
     },
     "metadata": {},
     "output_type": "display_data"
    },
    {
     "data": {
      "text/html": [
       "<pre style=\"white-space:pre;overflow-x:auto;line-height:normal;font-family:Menlo,'DejaVu Sans Mono',consolas,'Courier New',monospace\"><span style=\"color: #7fbfbf; text-decoration-color: #7fbfbf\">                    </span><span style=\"color: #800000; text-decoration-color: #800000\">WARNING </span> C:\\Users\\dggua\\anaconda3\\envs\\test_env\\lib\\site-packages\\sklearn\\base. <a href=\"file://C:\\Users\\dggua\\anaconda3\\envs\\test_env\\lib\\warnings.py\" target=\"_blank\"><span style=\"color: #7f7f7f; text-decoration-color: #7f7f7f\">warnings.py</span></a><span style=\"color: #7f7f7f; text-decoration-color: #7f7f7f\">:</span><a href=\"file://C:\\Users\\dggua\\anaconda3\\envs\\test_env\\lib\\warnings.py#109\" target=\"_blank\"><span style=\"color: #7f7f7f; text-decoration-color: #7f7f7f\">109</span></a>\n",
       "<span style=\"color: #7fbfbf; text-decoration-color: #7fbfbf\">                    </span>         py:<span style=\"color: #008080; text-decoration-color: #008080; font-weight: bold\">1351</span>: DataConversionWarning: A column-vector y was passed when a 1d <span style=\"color: #7f7f7f; text-decoration-color: #7f7f7f\">               </span>\n",
       "<span style=\"color: #7fbfbf; text-decoration-color: #7fbfbf\">                    </span>         array was expected. Please change the shape of y to <span style=\"font-weight: bold\">(</span>n_samples,<span style=\"font-weight: bold\">)</span>, for  <span style=\"color: #7f7f7f; text-decoration-color: #7f7f7f\">               </span>\n",
       "<span style=\"color: #7fbfbf; text-decoration-color: #7fbfbf\">                    </span>         example using <span style=\"color: #800080; text-decoration-color: #800080; font-weight: bold\">ravel</span><span style=\"font-weight: bold\">()</span>.                                                 <span style=\"color: #7f7f7f; text-decoration-color: #7f7f7f\">               </span>\n",
       "<span style=\"color: #7fbfbf; text-decoration-color: #7fbfbf\">                    </span>           return <span style=\"color: #800080; text-decoration-color: #800080; font-weight: bold\">fit_method</span><span style=\"font-weight: bold\">(</span>estimator, *args, **kwargs<span style=\"font-weight: bold\">)</span>                        <span style=\"color: #7f7f7f; text-decoration-color: #7f7f7f\">               </span>\n",
       "<span style=\"color: #7fbfbf; text-decoration-color: #7fbfbf\">                    </span>                                                                                <span style=\"color: #7f7f7f; text-decoration-color: #7f7f7f\">               </span>\n",
       "</pre>\n"
      ],
      "text/plain": [
       "\u001b[2;36m                   \u001b[0m\u001b[2;36m \u001b[0m\u001b[31mWARNING \u001b[0m C:\\Users\\dggua\\anaconda3\\envs\\test_env\\lib\\site-packages\\sklearn\\base. \u001b]8;id=596089;file://C:\\Users\\dggua\\anaconda3\\envs\\test_env\\lib\\warnings.py\u001b\\\u001b[2mwarnings.py\u001b[0m\u001b]8;;\u001b\\\u001b[2m:\u001b[0m\u001b]8;id=84092;file://C:\\Users\\dggua\\anaconda3\\envs\\test_env\\lib\\warnings.py#109\u001b\\\u001b[2m109\u001b[0m\u001b]8;;\u001b\\\n",
       "\u001b[2;36m                    \u001b[0m         py:\u001b[1;36m1351\u001b[0m: DataConversionWarning: A column-vector y was passed when a 1d \u001b[2m               \u001b[0m\n",
       "\u001b[2;36m                    \u001b[0m         array was expected. Please change the shape of y to \u001b[1m(\u001b[0mn_samples,\u001b[1m)\u001b[0m, for  \u001b[2m               \u001b[0m\n",
       "\u001b[2;36m                    \u001b[0m         example using \u001b[1;35mravel\u001b[0m\u001b[1m(\u001b[0m\u001b[1m)\u001b[0m.                                                 \u001b[2m               \u001b[0m\n",
       "\u001b[2;36m                    \u001b[0m           return \u001b[1;35mfit_method\u001b[0m\u001b[1m(\u001b[0mestimator, *args, **kwargs\u001b[1m)\u001b[0m                        \u001b[2m               \u001b[0m\n",
       "\u001b[2;36m                    \u001b[0m                                                                                \u001b[2m               \u001b[0m\n"
      ]
     },
     "metadata": {},
     "output_type": "display_data"
    },
    {
     "data": {
      "text/html": [
       "<pre style=\"white-space:pre;overflow-x:auto;line-height:normal;font-family:Menlo,'DejaVu Sans Mono',consolas,'Courier New',monospace\"><span style=\"color: #7fbfbf; text-decoration-color: #7fbfbf\">                    </span><span style=\"color: #800000; text-decoration-color: #800000\">WARNING </span> C:\\Users\\dggua\\anaconda3\\envs\\test_env\\lib\\site-packages\\sklearn\\base. <a href=\"file://C:\\Users\\dggua\\anaconda3\\envs\\test_env\\lib\\warnings.py\" target=\"_blank\"><span style=\"color: #7f7f7f; text-decoration-color: #7f7f7f\">warnings.py</span></a><span style=\"color: #7f7f7f; text-decoration-color: #7f7f7f\">:</span><a href=\"file://C:\\Users\\dggua\\anaconda3\\envs\\test_env\\lib\\warnings.py#109\" target=\"_blank\"><span style=\"color: #7f7f7f; text-decoration-color: #7f7f7f\">109</span></a>\n",
       "<span style=\"color: #7fbfbf; text-decoration-color: #7fbfbf\">                    </span>         py:<span style=\"color: #008080; text-decoration-color: #008080; font-weight: bold\">1351</span>: DataConversionWarning: A column-vector y was passed when a 1d <span style=\"color: #7f7f7f; text-decoration-color: #7f7f7f\">               </span>\n",
       "<span style=\"color: #7fbfbf; text-decoration-color: #7fbfbf\">                    </span>         array was expected. Please change the shape of y to <span style=\"font-weight: bold\">(</span>n_samples,<span style=\"font-weight: bold\">)</span>, for  <span style=\"color: #7f7f7f; text-decoration-color: #7f7f7f\">               </span>\n",
       "<span style=\"color: #7fbfbf; text-decoration-color: #7fbfbf\">                    </span>         example using <span style=\"color: #800080; text-decoration-color: #800080; font-weight: bold\">ravel</span><span style=\"font-weight: bold\">()</span>.                                                 <span style=\"color: #7f7f7f; text-decoration-color: #7f7f7f\">               </span>\n",
       "<span style=\"color: #7fbfbf; text-decoration-color: #7fbfbf\">                    </span>           return <span style=\"color: #800080; text-decoration-color: #800080; font-weight: bold\">fit_method</span><span style=\"font-weight: bold\">(</span>estimator, *args, **kwargs<span style=\"font-weight: bold\">)</span>                        <span style=\"color: #7f7f7f; text-decoration-color: #7f7f7f\">               </span>\n",
       "<span style=\"color: #7fbfbf; text-decoration-color: #7fbfbf\">                    </span>                                                                                <span style=\"color: #7f7f7f; text-decoration-color: #7f7f7f\">               </span>\n",
       "</pre>\n"
      ],
      "text/plain": [
       "\u001b[2;36m                   \u001b[0m\u001b[2;36m \u001b[0m\u001b[31mWARNING \u001b[0m C:\\Users\\dggua\\anaconda3\\envs\\test_env\\lib\\site-packages\\sklearn\\base. \u001b]8;id=997751;file://C:\\Users\\dggua\\anaconda3\\envs\\test_env\\lib\\warnings.py\u001b\\\u001b[2mwarnings.py\u001b[0m\u001b]8;;\u001b\\\u001b[2m:\u001b[0m\u001b]8;id=390459;file://C:\\Users\\dggua\\anaconda3\\envs\\test_env\\lib\\warnings.py#109\u001b\\\u001b[2m109\u001b[0m\u001b]8;;\u001b\\\n",
       "\u001b[2;36m                    \u001b[0m         py:\u001b[1;36m1351\u001b[0m: DataConversionWarning: A column-vector y was passed when a 1d \u001b[2m               \u001b[0m\n",
       "\u001b[2;36m                    \u001b[0m         array was expected. Please change the shape of y to \u001b[1m(\u001b[0mn_samples,\u001b[1m)\u001b[0m, for  \u001b[2m               \u001b[0m\n",
       "\u001b[2;36m                    \u001b[0m         example using \u001b[1;35mravel\u001b[0m\u001b[1m(\u001b[0m\u001b[1m)\u001b[0m.                                                 \u001b[2m               \u001b[0m\n",
       "\u001b[2;36m                    \u001b[0m           return \u001b[1;35mfit_method\u001b[0m\u001b[1m(\u001b[0mestimator, *args, **kwargs\u001b[1m)\u001b[0m                        \u001b[2m               \u001b[0m\n",
       "\u001b[2;36m                    \u001b[0m                                                                                \u001b[2m               \u001b[0m\n"
      ]
     },
     "metadata": {},
     "output_type": "display_data"
    },
    {
     "data": {
      "text/html": [
       "<pre style=\"white-space:pre;overflow-x:auto;line-height:normal;font-family:Menlo,'DejaVu Sans Mono',consolas,'Courier New',monospace\"><span style=\"color: #7fbfbf; text-decoration-color: #7fbfbf\">                    </span><span style=\"color: #800000; text-decoration-color: #800000\">WARNING </span> C:\\Users\\dggua\\anaconda3\\envs\\test_env\\lib\\site-packages\\sklearn\\base. <a href=\"file://C:\\Users\\dggua\\anaconda3\\envs\\test_env\\lib\\warnings.py\" target=\"_blank\"><span style=\"color: #7f7f7f; text-decoration-color: #7f7f7f\">warnings.py</span></a><span style=\"color: #7f7f7f; text-decoration-color: #7f7f7f\">:</span><a href=\"file://C:\\Users\\dggua\\anaconda3\\envs\\test_env\\lib\\warnings.py#109\" target=\"_blank\"><span style=\"color: #7f7f7f; text-decoration-color: #7f7f7f\">109</span></a>\n",
       "<span style=\"color: #7fbfbf; text-decoration-color: #7fbfbf\">                    </span>         py:<span style=\"color: #008080; text-decoration-color: #008080; font-weight: bold\">1351</span>: DataConversionWarning: A column-vector y was passed when a 1d <span style=\"color: #7f7f7f; text-decoration-color: #7f7f7f\">               </span>\n",
       "<span style=\"color: #7fbfbf; text-decoration-color: #7fbfbf\">                    </span>         array was expected. Please change the shape of y to <span style=\"font-weight: bold\">(</span>n_samples,<span style=\"font-weight: bold\">)</span>, for  <span style=\"color: #7f7f7f; text-decoration-color: #7f7f7f\">               </span>\n",
       "<span style=\"color: #7fbfbf; text-decoration-color: #7fbfbf\">                    </span>         example using <span style=\"color: #800080; text-decoration-color: #800080; font-weight: bold\">ravel</span><span style=\"font-weight: bold\">()</span>.                                                 <span style=\"color: #7f7f7f; text-decoration-color: #7f7f7f\">               </span>\n",
       "<span style=\"color: #7fbfbf; text-decoration-color: #7fbfbf\">                    </span>           return <span style=\"color: #800080; text-decoration-color: #800080; font-weight: bold\">fit_method</span><span style=\"font-weight: bold\">(</span>estimator, *args, **kwargs<span style=\"font-weight: bold\">)</span>                        <span style=\"color: #7f7f7f; text-decoration-color: #7f7f7f\">               </span>\n",
       "<span style=\"color: #7fbfbf; text-decoration-color: #7fbfbf\">                    </span>                                                                                <span style=\"color: #7f7f7f; text-decoration-color: #7f7f7f\">               </span>\n",
       "</pre>\n"
      ],
      "text/plain": [
       "\u001b[2;36m                   \u001b[0m\u001b[2;36m \u001b[0m\u001b[31mWARNING \u001b[0m C:\\Users\\dggua\\anaconda3\\envs\\test_env\\lib\\site-packages\\sklearn\\base. \u001b]8;id=196163;file://C:\\Users\\dggua\\anaconda3\\envs\\test_env\\lib\\warnings.py\u001b\\\u001b[2mwarnings.py\u001b[0m\u001b]8;;\u001b\\\u001b[2m:\u001b[0m\u001b]8;id=930535;file://C:\\Users\\dggua\\anaconda3\\envs\\test_env\\lib\\warnings.py#109\u001b\\\u001b[2m109\u001b[0m\u001b]8;;\u001b\\\n",
       "\u001b[2;36m                    \u001b[0m         py:\u001b[1;36m1351\u001b[0m: DataConversionWarning: A column-vector y was passed when a 1d \u001b[2m               \u001b[0m\n",
       "\u001b[2;36m                    \u001b[0m         array was expected. Please change the shape of y to \u001b[1m(\u001b[0mn_samples,\u001b[1m)\u001b[0m, for  \u001b[2m               \u001b[0m\n",
       "\u001b[2;36m                    \u001b[0m         example using \u001b[1;35mravel\u001b[0m\u001b[1m(\u001b[0m\u001b[1m)\u001b[0m.                                                 \u001b[2m               \u001b[0m\n",
       "\u001b[2;36m                    \u001b[0m           return \u001b[1;35mfit_method\u001b[0m\u001b[1m(\u001b[0mestimator, *args, **kwargs\u001b[1m)\u001b[0m                        \u001b[2m               \u001b[0m\n",
       "\u001b[2;36m                    \u001b[0m                                                                                \u001b[2m               \u001b[0m\n"
      ]
     },
     "metadata": {},
     "output_type": "display_data"
    },
    {
     "data": {
      "text/html": [
       "<pre style=\"white-space:pre;overflow-x:auto;line-height:normal;font-family:Menlo,'DejaVu Sans Mono',consolas,'Courier New',monospace\"><span style=\"color: #7fbfbf; text-decoration-color: #7fbfbf\">[06/22/24 16:18:06] </span><span style=\"color: #800000; text-decoration-color: #800000\">WARNING </span> C:\\Users\\dggua\\anaconda3\\envs\\test_env\\lib\\site-packages\\sklearn\\base. <a href=\"file://C:\\Users\\dggua\\anaconda3\\envs\\test_env\\lib\\warnings.py\" target=\"_blank\"><span style=\"color: #7f7f7f; text-decoration-color: #7f7f7f\">warnings.py</span></a><span style=\"color: #7f7f7f; text-decoration-color: #7f7f7f\">:</span><a href=\"file://C:\\Users\\dggua\\anaconda3\\envs\\test_env\\lib\\warnings.py#109\" target=\"_blank\"><span style=\"color: #7f7f7f; text-decoration-color: #7f7f7f\">109</span></a>\n",
       "<span style=\"color: #7fbfbf; text-decoration-color: #7fbfbf\">                    </span>         py:<span style=\"color: #008080; text-decoration-color: #008080; font-weight: bold\">1351</span>: DataConversionWarning: A column-vector y was passed when a 1d <span style=\"color: #7f7f7f; text-decoration-color: #7f7f7f\">               </span>\n",
       "<span style=\"color: #7fbfbf; text-decoration-color: #7fbfbf\">                    </span>         array was expected. Please change the shape of y to <span style=\"font-weight: bold\">(</span>n_samples,<span style=\"font-weight: bold\">)</span>, for  <span style=\"color: #7f7f7f; text-decoration-color: #7f7f7f\">               </span>\n",
       "<span style=\"color: #7fbfbf; text-decoration-color: #7fbfbf\">                    </span>         example using <span style=\"color: #800080; text-decoration-color: #800080; font-weight: bold\">ravel</span><span style=\"font-weight: bold\">()</span>.                                                 <span style=\"color: #7f7f7f; text-decoration-color: #7f7f7f\">               </span>\n",
       "<span style=\"color: #7fbfbf; text-decoration-color: #7fbfbf\">                    </span>           return <span style=\"color: #800080; text-decoration-color: #800080; font-weight: bold\">fit_method</span><span style=\"font-weight: bold\">(</span>estimator, *args, **kwargs<span style=\"font-weight: bold\">)</span>                        <span style=\"color: #7f7f7f; text-decoration-color: #7f7f7f\">               </span>\n",
       "<span style=\"color: #7fbfbf; text-decoration-color: #7fbfbf\">                    </span>                                                                                <span style=\"color: #7f7f7f; text-decoration-color: #7f7f7f\">               </span>\n",
       "</pre>\n"
      ],
      "text/plain": [
       "\u001b[2;36m[06/22/24 16:18:06]\u001b[0m\u001b[2;36m \u001b[0m\u001b[31mWARNING \u001b[0m C:\\Users\\dggua\\anaconda3\\envs\\test_env\\lib\\site-packages\\sklearn\\base. \u001b]8;id=720954;file://C:\\Users\\dggua\\anaconda3\\envs\\test_env\\lib\\warnings.py\u001b\\\u001b[2mwarnings.py\u001b[0m\u001b]8;;\u001b\\\u001b[2m:\u001b[0m\u001b]8;id=656058;file://C:\\Users\\dggua\\anaconda3\\envs\\test_env\\lib\\warnings.py#109\u001b\\\u001b[2m109\u001b[0m\u001b]8;;\u001b\\\n",
       "\u001b[2;36m                    \u001b[0m         py:\u001b[1;36m1351\u001b[0m: DataConversionWarning: A column-vector y was passed when a 1d \u001b[2m               \u001b[0m\n",
       "\u001b[2;36m                    \u001b[0m         array was expected. Please change the shape of y to \u001b[1m(\u001b[0mn_samples,\u001b[1m)\u001b[0m, for  \u001b[2m               \u001b[0m\n",
       "\u001b[2;36m                    \u001b[0m         example using \u001b[1;35mravel\u001b[0m\u001b[1m(\u001b[0m\u001b[1m)\u001b[0m.                                                 \u001b[2m               \u001b[0m\n",
       "\u001b[2;36m                    \u001b[0m           return \u001b[1;35mfit_method\u001b[0m\u001b[1m(\u001b[0mestimator, *args, **kwargs\u001b[1m)\u001b[0m                        \u001b[2m               \u001b[0m\n",
       "\u001b[2;36m                    \u001b[0m                                                                                \u001b[2m               \u001b[0m\n"
      ]
     },
     "metadata": {},
     "output_type": "display_data"
    },
    {
     "data": {
      "text/html": [
       "<pre style=\"white-space:pre;overflow-x:auto;line-height:normal;font-family:Menlo,'DejaVu Sans Mono',consolas,'Courier New',monospace\"><span style=\"color: #7fbfbf; text-decoration-color: #7fbfbf\">                    </span><span style=\"color: #800000; text-decoration-color: #800000\">WARNING </span> C:\\Users\\dggua\\anaconda3\\envs\\test_env\\lib\\site-packages\\sklearn\\base. <a href=\"file://C:\\Users\\dggua\\anaconda3\\envs\\test_env\\lib\\warnings.py\" target=\"_blank\"><span style=\"color: #7f7f7f; text-decoration-color: #7f7f7f\">warnings.py</span></a><span style=\"color: #7f7f7f; text-decoration-color: #7f7f7f\">:</span><a href=\"file://C:\\Users\\dggua\\anaconda3\\envs\\test_env\\lib\\warnings.py#109\" target=\"_blank\"><span style=\"color: #7f7f7f; text-decoration-color: #7f7f7f\">109</span></a>\n",
       "<span style=\"color: #7fbfbf; text-decoration-color: #7fbfbf\">                    </span>         py:<span style=\"color: #008080; text-decoration-color: #008080; font-weight: bold\">1351</span>: DataConversionWarning: A column-vector y was passed when a 1d <span style=\"color: #7f7f7f; text-decoration-color: #7f7f7f\">               </span>\n",
       "<span style=\"color: #7fbfbf; text-decoration-color: #7fbfbf\">                    </span>         array was expected. Please change the shape of y to <span style=\"font-weight: bold\">(</span>n_samples,<span style=\"font-weight: bold\">)</span>, for  <span style=\"color: #7f7f7f; text-decoration-color: #7f7f7f\">               </span>\n",
       "<span style=\"color: #7fbfbf; text-decoration-color: #7fbfbf\">                    </span>         example using <span style=\"color: #800080; text-decoration-color: #800080; font-weight: bold\">ravel</span><span style=\"font-weight: bold\">()</span>.                                                 <span style=\"color: #7f7f7f; text-decoration-color: #7f7f7f\">               </span>\n",
       "<span style=\"color: #7fbfbf; text-decoration-color: #7fbfbf\">                    </span>           return <span style=\"color: #800080; text-decoration-color: #800080; font-weight: bold\">fit_method</span><span style=\"font-weight: bold\">(</span>estimator, *args, **kwargs<span style=\"font-weight: bold\">)</span>                        <span style=\"color: #7f7f7f; text-decoration-color: #7f7f7f\">               </span>\n",
       "<span style=\"color: #7fbfbf; text-decoration-color: #7fbfbf\">                    </span>                                                                                <span style=\"color: #7f7f7f; text-decoration-color: #7f7f7f\">               </span>\n",
       "</pre>\n"
      ],
      "text/plain": [
       "\u001b[2;36m                   \u001b[0m\u001b[2;36m \u001b[0m\u001b[31mWARNING \u001b[0m C:\\Users\\dggua\\anaconda3\\envs\\test_env\\lib\\site-packages\\sklearn\\base. \u001b]8;id=67706;file://C:\\Users\\dggua\\anaconda3\\envs\\test_env\\lib\\warnings.py\u001b\\\u001b[2mwarnings.py\u001b[0m\u001b]8;;\u001b\\\u001b[2m:\u001b[0m\u001b]8;id=296149;file://C:\\Users\\dggua\\anaconda3\\envs\\test_env\\lib\\warnings.py#109\u001b\\\u001b[2m109\u001b[0m\u001b]8;;\u001b\\\n",
       "\u001b[2;36m                    \u001b[0m         py:\u001b[1;36m1351\u001b[0m: DataConversionWarning: A column-vector y was passed when a 1d \u001b[2m               \u001b[0m\n",
       "\u001b[2;36m                    \u001b[0m         array was expected. Please change the shape of y to \u001b[1m(\u001b[0mn_samples,\u001b[1m)\u001b[0m, for  \u001b[2m               \u001b[0m\n",
       "\u001b[2;36m                    \u001b[0m         example using \u001b[1;35mravel\u001b[0m\u001b[1m(\u001b[0m\u001b[1m)\u001b[0m.                                                 \u001b[2m               \u001b[0m\n",
       "\u001b[2;36m                    \u001b[0m           return \u001b[1;35mfit_method\u001b[0m\u001b[1m(\u001b[0mestimator, *args, **kwargs\u001b[1m)\u001b[0m                        \u001b[2m               \u001b[0m\n",
       "\u001b[2;36m                    \u001b[0m                                                                                \u001b[2m               \u001b[0m\n"
      ]
     },
     "metadata": {},
     "output_type": "display_data"
    },
    {
     "data": {
      "text/html": [
       "<pre style=\"white-space:pre;overflow-x:auto;line-height:normal;font-family:Menlo,'DejaVu Sans Mono',consolas,'Courier New',monospace\"><span style=\"color: #7fbfbf; text-decoration-color: #7fbfbf\">                    </span><span style=\"color: #800000; text-decoration-color: #800000\">WARNING </span> C:\\Users\\dggua\\anaconda3\\envs\\test_env\\lib\\site-packages\\sklearn\\base. <a href=\"file://C:\\Users\\dggua\\anaconda3\\envs\\test_env\\lib\\warnings.py\" target=\"_blank\"><span style=\"color: #7f7f7f; text-decoration-color: #7f7f7f\">warnings.py</span></a><span style=\"color: #7f7f7f; text-decoration-color: #7f7f7f\">:</span><a href=\"file://C:\\Users\\dggua\\anaconda3\\envs\\test_env\\lib\\warnings.py#109\" target=\"_blank\"><span style=\"color: #7f7f7f; text-decoration-color: #7f7f7f\">109</span></a>\n",
       "<span style=\"color: #7fbfbf; text-decoration-color: #7fbfbf\">                    </span>         py:<span style=\"color: #008080; text-decoration-color: #008080; font-weight: bold\">1351</span>: DataConversionWarning: A column-vector y was passed when a 1d <span style=\"color: #7f7f7f; text-decoration-color: #7f7f7f\">               </span>\n",
       "<span style=\"color: #7fbfbf; text-decoration-color: #7fbfbf\">                    </span>         array was expected. Please change the shape of y to <span style=\"font-weight: bold\">(</span>n_samples,<span style=\"font-weight: bold\">)</span>, for  <span style=\"color: #7f7f7f; text-decoration-color: #7f7f7f\">               </span>\n",
       "<span style=\"color: #7fbfbf; text-decoration-color: #7fbfbf\">                    </span>         example using <span style=\"color: #800080; text-decoration-color: #800080; font-weight: bold\">ravel</span><span style=\"font-weight: bold\">()</span>.                                                 <span style=\"color: #7f7f7f; text-decoration-color: #7f7f7f\">               </span>\n",
       "<span style=\"color: #7fbfbf; text-decoration-color: #7fbfbf\">                    </span>           return <span style=\"color: #800080; text-decoration-color: #800080; font-weight: bold\">fit_method</span><span style=\"font-weight: bold\">(</span>estimator, *args, **kwargs<span style=\"font-weight: bold\">)</span>                        <span style=\"color: #7f7f7f; text-decoration-color: #7f7f7f\">               </span>\n",
       "<span style=\"color: #7fbfbf; text-decoration-color: #7fbfbf\">                    </span>                                                                                <span style=\"color: #7f7f7f; text-decoration-color: #7f7f7f\">               </span>\n",
       "</pre>\n"
      ],
      "text/plain": [
       "\u001b[2;36m                   \u001b[0m\u001b[2;36m \u001b[0m\u001b[31mWARNING \u001b[0m C:\\Users\\dggua\\anaconda3\\envs\\test_env\\lib\\site-packages\\sklearn\\base. \u001b]8;id=250664;file://C:\\Users\\dggua\\anaconda3\\envs\\test_env\\lib\\warnings.py\u001b\\\u001b[2mwarnings.py\u001b[0m\u001b]8;;\u001b\\\u001b[2m:\u001b[0m\u001b]8;id=981020;file://C:\\Users\\dggua\\anaconda3\\envs\\test_env\\lib\\warnings.py#109\u001b\\\u001b[2m109\u001b[0m\u001b]8;;\u001b\\\n",
       "\u001b[2;36m                    \u001b[0m         py:\u001b[1;36m1351\u001b[0m: DataConversionWarning: A column-vector y was passed when a 1d \u001b[2m               \u001b[0m\n",
       "\u001b[2;36m                    \u001b[0m         array was expected. Please change the shape of y to \u001b[1m(\u001b[0mn_samples,\u001b[1m)\u001b[0m, for  \u001b[2m               \u001b[0m\n",
       "\u001b[2;36m                    \u001b[0m         example using \u001b[1;35mravel\u001b[0m\u001b[1m(\u001b[0m\u001b[1m)\u001b[0m.                                                 \u001b[2m               \u001b[0m\n",
       "\u001b[2;36m                    \u001b[0m           return \u001b[1;35mfit_method\u001b[0m\u001b[1m(\u001b[0mestimator, *args, **kwargs\u001b[1m)\u001b[0m                        \u001b[2m               \u001b[0m\n",
       "\u001b[2;36m                    \u001b[0m                                                                                \u001b[2m               \u001b[0m\n"
      ]
     },
     "metadata": {},
     "output_type": "display_data"
    },
    {
     "data": {
      "text/html": [
       "<pre style=\"white-space:pre;overflow-x:auto;line-height:normal;font-family:Menlo,'DejaVu Sans Mono',consolas,'Courier New',monospace\"><span style=\"color: #7fbfbf; text-decoration-color: #7fbfbf\">                    </span><span style=\"color: #800000; text-decoration-color: #800000\">WARNING </span> C:\\Users\\dggua\\anaconda3\\envs\\test_env\\lib\\site-packages\\sklearn\\base. <a href=\"file://C:\\Users\\dggua\\anaconda3\\envs\\test_env\\lib\\warnings.py\" target=\"_blank\"><span style=\"color: #7f7f7f; text-decoration-color: #7f7f7f\">warnings.py</span></a><span style=\"color: #7f7f7f; text-decoration-color: #7f7f7f\">:</span><a href=\"file://C:\\Users\\dggua\\anaconda3\\envs\\test_env\\lib\\warnings.py#109\" target=\"_blank\"><span style=\"color: #7f7f7f; text-decoration-color: #7f7f7f\">109</span></a>\n",
       "<span style=\"color: #7fbfbf; text-decoration-color: #7fbfbf\">                    </span>         py:<span style=\"color: #008080; text-decoration-color: #008080; font-weight: bold\">1351</span>: DataConversionWarning: A column-vector y was passed when a 1d <span style=\"color: #7f7f7f; text-decoration-color: #7f7f7f\">               </span>\n",
       "<span style=\"color: #7fbfbf; text-decoration-color: #7fbfbf\">                    </span>         array was expected. Please change the shape of y to <span style=\"font-weight: bold\">(</span>n_samples,<span style=\"font-weight: bold\">)</span>, for  <span style=\"color: #7f7f7f; text-decoration-color: #7f7f7f\">               </span>\n",
       "<span style=\"color: #7fbfbf; text-decoration-color: #7fbfbf\">                    </span>         example using <span style=\"color: #800080; text-decoration-color: #800080; font-weight: bold\">ravel</span><span style=\"font-weight: bold\">()</span>.                                                 <span style=\"color: #7f7f7f; text-decoration-color: #7f7f7f\">               </span>\n",
       "<span style=\"color: #7fbfbf; text-decoration-color: #7fbfbf\">                    </span>           return <span style=\"color: #800080; text-decoration-color: #800080; font-weight: bold\">fit_method</span><span style=\"font-weight: bold\">(</span>estimator, *args, **kwargs<span style=\"font-weight: bold\">)</span>                        <span style=\"color: #7f7f7f; text-decoration-color: #7f7f7f\">               </span>\n",
       "<span style=\"color: #7fbfbf; text-decoration-color: #7fbfbf\">                    </span>                                                                                <span style=\"color: #7f7f7f; text-decoration-color: #7f7f7f\">               </span>\n",
       "</pre>\n"
      ],
      "text/plain": [
       "\u001b[2;36m                   \u001b[0m\u001b[2;36m \u001b[0m\u001b[31mWARNING \u001b[0m C:\\Users\\dggua\\anaconda3\\envs\\test_env\\lib\\site-packages\\sklearn\\base. \u001b]8;id=937002;file://C:\\Users\\dggua\\anaconda3\\envs\\test_env\\lib\\warnings.py\u001b\\\u001b[2mwarnings.py\u001b[0m\u001b]8;;\u001b\\\u001b[2m:\u001b[0m\u001b]8;id=326155;file://C:\\Users\\dggua\\anaconda3\\envs\\test_env\\lib\\warnings.py#109\u001b\\\u001b[2m109\u001b[0m\u001b]8;;\u001b\\\n",
       "\u001b[2;36m                    \u001b[0m         py:\u001b[1;36m1351\u001b[0m: DataConversionWarning: A column-vector y was passed when a 1d \u001b[2m               \u001b[0m\n",
       "\u001b[2;36m                    \u001b[0m         array was expected. Please change the shape of y to \u001b[1m(\u001b[0mn_samples,\u001b[1m)\u001b[0m, for  \u001b[2m               \u001b[0m\n",
       "\u001b[2;36m                    \u001b[0m         example using \u001b[1;35mravel\u001b[0m\u001b[1m(\u001b[0m\u001b[1m)\u001b[0m.                                                 \u001b[2m               \u001b[0m\n",
       "\u001b[2;36m                    \u001b[0m           return \u001b[1;35mfit_method\u001b[0m\u001b[1m(\u001b[0mestimator, *args, **kwargs\u001b[1m)\u001b[0m                        \u001b[2m               \u001b[0m\n",
       "\u001b[2;36m                    \u001b[0m                                                                                \u001b[2m               \u001b[0m\n"
      ]
     },
     "metadata": {},
     "output_type": "display_data"
    },
    {
     "data": {
      "text/html": [
       "<pre style=\"white-space:pre;overflow-x:auto;line-height:normal;font-family:Menlo,'DejaVu Sans Mono',consolas,'Courier New',monospace\"><span style=\"color: #7fbfbf; text-decoration-color: #7fbfbf\">                    </span><span style=\"color: #800000; text-decoration-color: #800000\">WARNING </span> C:\\Users\\dggua\\anaconda3\\envs\\test_env\\lib\\site-packages\\sklearn\\base. <a href=\"file://C:\\Users\\dggua\\anaconda3\\envs\\test_env\\lib\\warnings.py\" target=\"_blank\"><span style=\"color: #7f7f7f; text-decoration-color: #7f7f7f\">warnings.py</span></a><span style=\"color: #7f7f7f; text-decoration-color: #7f7f7f\">:</span><a href=\"file://C:\\Users\\dggua\\anaconda3\\envs\\test_env\\lib\\warnings.py#109\" target=\"_blank\"><span style=\"color: #7f7f7f; text-decoration-color: #7f7f7f\">109</span></a>\n",
       "<span style=\"color: #7fbfbf; text-decoration-color: #7fbfbf\">                    </span>         py:<span style=\"color: #008080; text-decoration-color: #008080; font-weight: bold\">1351</span>: DataConversionWarning: A column-vector y was passed when a 1d <span style=\"color: #7f7f7f; text-decoration-color: #7f7f7f\">               </span>\n",
       "<span style=\"color: #7fbfbf; text-decoration-color: #7fbfbf\">                    </span>         array was expected. Please change the shape of y to <span style=\"font-weight: bold\">(</span>n_samples,<span style=\"font-weight: bold\">)</span>, for  <span style=\"color: #7f7f7f; text-decoration-color: #7f7f7f\">               </span>\n",
       "<span style=\"color: #7fbfbf; text-decoration-color: #7fbfbf\">                    </span>         example using <span style=\"color: #800080; text-decoration-color: #800080; font-weight: bold\">ravel</span><span style=\"font-weight: bold\">()</span>.                                                 <span style=\"color: #7f7f7f; text-decoration-color: #7f7f7f\">               </span>\n",
       "<span style=\"color: #7fbfbf; text-decoration-color: #7fbfbf\">                    </span>           return <span style=\"color: #800080; text-decoration-color: #800080; font-weight: bold\">fit_method</span><span style=\"font-weight: bold\">(</span>estimator, *args, **kwargs<span style=\"font-weight: bold\">)</span>                        <span style=\"color: #7f7f7f; text-decoration-color: #7f7f7f\">               </span>\n",
       "<span style=\"color: #7fbfbf; text-decoration-color: #7fbfbf\">                    </span>                                                                                <span style=\"color: #7f7f7f; text-decoration-color: #7f7f7f\">               </span>\n",
       "</pre>\n"
      ],
      "text/plain": [
       "\u001b[2;36m                   \u001b[0m\u001b[2;36m \u001b[0m\u001b[31mWARNING \u001b[0m C:\\Users\\dggua\\anaconda3\\envs\\test_env\\lib\\site-packages\\sklearn\\base. \u001b]8;id=14012;file://C:\\Users\\dggua\\anaconda3\\envs\\test_env\\lib\\warnings.py\u001b\\\u001b[2mwarnings.py\u001b[0m\u001b]8;;\u001b\\\u001b[2m:\u001b[0m\u001b]8;id=570817;file://C:\\Users\\dggua\\anaconda3\\envs\\test_env\\lib\\warnings.py#109\u001b\\\u001b[2m109\u001b[0m\u001b]8;;\u001b\\\n",
       "\u001b[2;36m                    \u001b[0m         py:\u001b[1;36m1351\u001b[0m: DataConversionWarning: A column-vector y was passed when a 1d \u001b[2m               \u001b[0m\n",
       "\u001b[2;36m                    \u001b[0m         array was expected. Please change the shape of y to \u001b[1m(\u001b[0mn_samples,\u001b[1m)\u001b[0m, for  \u001b[2m               \u001b[0m\n",
       "\u001b[2;36m                    \u001b[0m         example using \u001b[1;35mravel\u001b[0m\u001b[1m(\u001b[0m\u001b[1m)\u001b[0m.                                                 \u001b[2m               \u001b[0m\n",
       "\u001b[2;36m                    \u001b[0m           return \u001b[1;35mfit_method\u001b[0m\u001b[1m(\u001b[0mestimator, *args, **kwargs\u001b[1m)\u001b[0m                        \u001b[2m               \u001b[0m\n",
       "\u001b[2;36m                    \u001b[0m                                                                                \u001b[2m               \u001b[0m\n"
      ]
     },
     "metadata": {},
     "output_type": "display_data"
    },
    {
     "data": {
      "text/html": [
       "<pre style=\"white-space:pre;overflow-x:auto;line-height:normal;font-family:Menlo,'DejaVu Sans Mono',consolas,'Courier New',monospace\"><span style=\"color: #7fbfbf; text-decoration-color: #7fbfbf\">                    </span><span style=\"color: #800000; text-decoration-color: #800000\">WARNING </span> C:\\Users\\dggua\\anaconda3\\envs\\test_env\\lib\\site-packages\\sklearn\\base. <a href=\"file://C:\\Users\\dggua\\anaconda3\\envs\\test_env\\lib\\warnings.py\" target=\"_blank\"><span style=\"color: #7f7f7f; text-decoration-color: #7f7f7f\">warnings.py</span></a><span style=\"color: #7f7f7f; text-decoration-color: #7f7f7f\">:</span><a href=\"file://C:\\Users\\dggua\\anaconda3\\envs\\test_env\\lib\\warnings.py#109\" target=\"_blank\"><span style=\"color: #7f7f7f; text-decoration-color: #7f7f7f\">109</span></a>\n",
       "<span style=\"color: #7fbfbf; text-decoration-color: #7fbfbf\">                    </span>         py:<span style=\"color: #008080; text-decoration-color: #008080; font-weight: bold\">1351</span>: DataConversionWarning: A column-vector y was passed when a 1d <span style=\"color: #7f7f7f; text-decoration-color: #7f7f7f\">               </span>\n",
       "<span style=\"color: #7fbfbf; text-decoration-color: #7fbfbf\">                    </span>         array was expected. Please change the shape of y to <span style=\"font-weight: bold\">(</span>n_samples,<span style=\"font-weight: bold\">)</span>, for  <span style=\"color: #7f7f7f; text-decoration-color: #7f7f7f\">               </span>\n",
       "<span style=\"color: #7fbfbf; text-decoration-color: #7fbfbf\">                    </span>         example using <span style=\"color: #800080; text-decoration-color: #800080; font-weight: bold\">ravel</span><span style=\"font-weight: bold\">()</span>.                                                 <span style=\"color: #7f7f7f; text-decoration-color: #7f7f7f\">               </span>\n",
       "<span style=\"color: #7fbfbf; text-decoration-color: #7fbfbf\">                    </span>           return <span style=\"color: #800080; text-decoration-color: #800080; font-weight: bold\">fit_method</span><span style=\"font-weight: bold\">(</span>estimator, *args, **kwargs<span style=\"font-weight: bold\">)</span>                        <span style=\"color: #7f7f7f; text-decoration-color: #7f7f7f\">               </span>\n",
       "<span style=\"color: #7fbfbf; text-decoration-color: #7fbfbf\">                    </span>                                                                                <span style=\"color: #7f7f7f; text-decoration-color: #7f7f7f\">               </span>\n",
       "</pre>\n"
      ],
      "text/plain": [
       "\u001b[2;36m                   \u001b[0m\u001b[2;36m \u001b[0m\u001b[31mWARNING \u001b[0m C:\\Users\\dggua\\anaconda3\\envs\\test_env\\lib\\site-packages\\sklearn\\base. \u001b]8;id=289111;file://C:\\Users\\dggua\\anaconda3\\envs\\test_env\\lib\\warnings.py\u001b\\\u001b[2mwarnings.py\u001b[0m\u001b]8;;\u001b\\\u001b[2m:\u001b[0m\u001b]8;id=41777;file://C:\\Users\\dggua\\anaconda3\\envs\\test_env\\lib\\warnings.py#109\u001b\\\u001b[2m109\u001b[0m\u001b]8;;\u001b\\\n",
       "\u001b[2;36m                    \u001b[0m         py:\u001b[1;36m1351\u001b[0m: DataConversionWarning: A column-vector y was passed when a 1d \u001b[2m               \u001b[0m\n",
       "\u001b[2;36m                    \u001b[0m         array was expected. Please change the shape of y to \u001b[1m(\u001b[0mn_samples,\u001b[1m)\u001b[0m, for  \u001b[2m               \u001b[0m\n",
       "\u001b[2;36m                    \u001b[0m         example using \u001b[1;35mravel\u001b[0m\u001b[1m(\u001b[0m\u001b[1m)\u001b[0m.                                                 \u001b[2m               \u001b[0m\n",
       "\u001b[2;36m                    \u001b[0m           return \u001b[1;35mfit_method\u001b[0m\u001b[1m(\u001b[0mestimator, *args, **kwargs\u001b[1m)\u001b[0m                        \u001b[2m               \u001b[0m\n",
       "\u001b[2;36m                    \u001b[0m                                                                                \u001b[2m               \u001b[0m\n"
      ]
     },
     "metadata": {},
     "output_type": "display_data"
    },
    {
     "data": {
      "text/html": [
       "<pre style=\"white-space:pre;overflow-x:auto;line-height:normal;font-family:Menlo,'DejaVu Sans Mono',consolas,'Courier New',monospace\"><span style=\"color: #7fbfbf; text-decoration-color: #7fbfbf\">                    </span><span style=\"color: #800000; text-decoration-color: #800000\">WARNING </span> C:\\Users\\dggua\\anaconda3\\envs\\test_env\\lib\\site-packages\\sklearn\\base. <a href=\"file://C:\\Users\\dggua\\anaconda3\\envs\\test_env\\lib\\warnings.py\" target=\"_blank\"><span style=\"color: #7f7f7f; text-decoration-color: #7f7f7f\">warnings.py</span></a><span style=\"color: #7f7f7f; text-decoration-color: #7f7f7f\">:</span><a href=\"file://C:\\Users\\dggua\\anaconda3\\envs\\test_env\\lib\\warnings.py#109\" target=\"_blank\"><span style=\"color: #7f7f7f; text-decoration-color: #7f7f7f\">109</span></a>\n",
       "<span style=\"color: #7fbfbf; text-decoration-color: #7fbfbf\">                    </span>         py:<span style=\"color: #008080; text-decoration-color: #008080; font-weight: bold\">1351</span>: DataConversionWarning: A column-vector y was passed when a 1d <span style=\"color: #7f7f7f; text-decoration-color: #7f7f7f\">               </span>\n",
       "<span style=\"color: #7fbfbf; text-decoration-color: #7fbfbf\">                    </span>         array was expected. Please change the shape of y to <span style=\"font-weight: bold\">(</span>n_samples,<span style=\"font-weight: bold\">)</span>, for  <span style=\"color: #7f7f7f; text-decoration-color: #7f7f7f\">               </span>\n",
       "<span style=\"color: #7fbfbf; text-decoration-color: #7fbfbf\">                    </span>         example using <span style=\"color: #800080; text-decoration-color: #800080; font-weight: bold\">ravel</span><span style=\"font-weight: bold\">()</span>.                                                 <span style=\"color: #7f7f7f; text-decoration-color: #7f7f7f\">               </span>\n",
       "<span style=\"color: #7fbfbf; text-decoration-color: #7fbfbf\">                    </span>           return <span style=\"color: #800080; text-decoration-color: #800080; font-weight: bold\">fit_method</span><span style=\"font-weight: bold\">(</span>estimator, *args, **kwargs<span style=\"font-weight: bold\">)</span>                        <span style=\"color: #7f7f7f; text-decoration-color: #7f7f7f\">               </span>\n",
       "<span style=\"color: #7fbfbf; text-decoration-color: #7fbfbf\">                    </span>                                                                                <span style=\"color: #7f7f7f; text-decoration-color: #7f7f7f\">               </span>\n",
       "</pre>\n"
      ],
      "text/plain": [
       "\u001b[2;36m                   \u001b[0m\u001b[2;36m \u001b[0m\u001b[31mWARNING \u001b[0m C:\\Users\\dggua\\anaconda3\\envs\\test_env\\lib\\site-packages\\sklearn\\base. \u001b]8;id=236222;file://C:\\Users\\dggua\\anaconda3\\envs\\test_env\\lib\\warnings.py\u001b\\\u001b[2mwarnings.py\u001b[0m\u001b]8;;\u001b\\\u001b[2m:\u001b[0m\u001b]8;id=953862;file://C:\\Users\\dggua\\anaconda3\\envs\\test_env\\lib\\warnings.py#109\u001b\\\u001b[2m109\u001b[0m\u001b]8;;\u001b\\\n",
       "\u001b[2;36m                    \u001b[0m         py:\u001b[1;36m1351\u001b[0m: DataConversionWarning: A column-vector y was passed when a 1d \u001b[2m               \u001b[0m\n",
       "\u001b[2;36m                    \u001b[0m         array was expected. Please change the shape of y to \u001b[1m(\u001b[0mn_samples,\u001b[1m)\u001b[0m, for  \u001b[2m               \u001b[0m\n",
       "\u001b[2;36m                    \u001b[0m         example using \u001b[1;35mravel\u001b[0m\u001b[1m(\u001b[0m\u001b[1m)\u001b[0m.                                                 \u001b[2m               \u001b[0m\n",
       "\u001b[2;36m                    \u001b[0m           return \u001b[1;35mfit_method\u001b[0m\u001b[1m(\u001b[0mestimator, *args, **kwargs\u001b[1m)\u001b[0m                        \u001b[2m               \u001b[0m\n",
       "\u001b[2;36m                    \u001b[0m                                                                                \u001b[2m               \u001b[0m\n"
      ]
     },
     "metadata": {},
     "output_type": "display_data"
    },
    {
     "data": {
      "text/html": [
       "<pre style=\"white-space:pre;overflow-x:auto;line-height:normal;font-family:Menlo,'DejaVu Sans Mono',consolas,'Courier New',monospace\"><span style=\"color: #7fbfbf; text-decoration-color: #7fbfbf\">                    </span><span style=\"color: #800000; text-decoration-color: #800000\">WARNING </span> C:\\Users\\dggua\\anaconda3\\envs\\test_env\\lib\\site-packages\\sklearn\\base. <a href=\"file://C:\\Users\\dggua\\anaconda3\\envs\\test_env\\lib\\warnings.py\" target=\"_blank\"><span style=\"color: #7f7f7f; text-decoration-color: #7f7f7f\">warnings.py</span></a><span style=\"color: #7f7f7f; text-decoration-color: #7f7f7f\">:</span><a href=\"file://C:\\Users\\dggua\\anaconda3\\envs\\test_env\\lib\\warnings.py#109\" target=\"_blank\"><span style=\"color: #7f7f7f; text-decoration-color: #7f7f7f\">109</span></a>\n",
       "<span style=\"color: #7fbfbf; text-decoration-color: #7fbfbf\">                    </span>         py:<span style=\"color: #008080; text-decoration-color: #008080; font-weight: bold\">1351</span>: DataConversionWarning: A column-vector y was passed when a 1d <span style=\"color: #7f7f7f; text-decoration-color: #7f7f7f\">               </span>\n",
       "<span style=\"color: #7fbfbf; text-decoration-color: #7fbfbf\">                    </span>         array was expected. Please change the shape of y to <span style=\"font-weight: bold\">(</span>n_samples,<span style=\"font-weight: bold\">)</span>, for  <span style=\"color: #7f7f7f; text-decoration-color: #7f7f7f\">               </span>\n",
       "<span style=\"color: #7fbfbf; text-decoration-color: #7fbfbf\">                    </span>         example using <span style=\"color: #800080; text-decoration-color: #800080; font-weight: bold\">ravel</span><span style=\"font-weight: bold\">()</span>.                                                 <span style=\"color: #7f7f7f; text-decoration-color: #7f7f7f\">               </span>\n",
       "<span style=\"color: #7fbfbf; text-decoration-color: #7fbfbf\">                    </span>           return <span style=\"color: #800080; text-decoration-color: #800080; font-weight: bold\">fit_method</span><span style=\"font-weight: bold\">(</span>estimator, *args, **kwargs<span style=\"font-weight: bold\">)</span>                        <span style=\"color: #7f7f7f; text-decoration-color: #7f7f7f\">               </span>\n",
       "<span style=\"color: #7fbfbf; text-decoration-color: #7fbfbf\">                    </span>                                                                                <span style=\"color: #7f7f7f; text-decoration-color: #7f7f7f\">               </span>\n",
       "</pre>\n"
      ],
      "text/plain": [
       "\u001b[2;36m                   \u001b[0m\u001b[2;36m \u001b[0m\u001b[31mWARNING \u001b[0m C:\\Users\\dggua\\anaconda3\\envs\\test_env\\lib\\site-packages\\sklearn\\base. \u001b]8;id=707017;file://C:\\Users\\dggua\\anaconda3\\envs\\test_env\\lib\\warnings.py\u001b\\\u001b[2mwarnings.py\u001b[0m\u001b]8;;\u001b\\\u001b[2m:\u001b[0m\u001b]8;id=166579;file://C:\\Users\\dggua\\anaconda3\\envs\\test_env\\lib\\warnings.py#109\u001b\\\u001b[2m109\u001b[0m\u001b]8;;\u001b\\\n",
       "\u001b[2;36m                    \u001b[0m         py:\u001b[1;36m1351\u001b[0m: DataConversionWarning: A column-vector y was passed when a 1d \u001b[2m               \u001b[0m\n",
       "\u001b[2;36m                    \u001b[0m         array was expected. Please change the shape of y to \u001b[1m(\u001b[0mn_samples,\u001b[1m)\u001b[0m, for  \u001b[2m               \u001b[0m\n",
       "\u001b[2;36m                    \u001b[0m         example using \u001b[1;35mravel\u001b[0m\u001b[1m(\u001b[0m\u001b[1m)\u001b[0m.                                                 \u001b[2m               \u001b[0m\n",
       "\u001b[2;36m                    \u001b[0m           return \u001b[1;35mfit_method\u001b[0m\u001b[1m(\u001b[0mestimator, *args, **kwargs\u001b[1m)\u001b[0m                        \u001b[2m               \u001b[0m\n",
       "\u001b[2;36m                    \u001b[0m                                                                                \u001b[2m               \u001b[0m\n"
      ]
     },
     "metadata": {},
     "output_type": "display_data"
    },
    {
     "data": {
      "text/html": [
       "<pre style=\"white-space:pre;overflow-x:auto;line-height:normal;font-family:Menlo,'DejaVu Sans Mono',consolas,'Courier New',monospace\"><span style=\"color: #7fbfbf; text-decoration-color: #7fbfbf\">                    </span><span style=\"color: #800000; text-decoration-color: #800000\">WARNING </span> C:\\Users\\dggua\\anaconda3\\envs\\test_env\\lib\\site-packages\\sklearn\\base. <a href=\"file://C:\\Users\\dggua\\anaconda3\\envs\\test_env\\lib\\warnings.py\" target=\"_blank\"><span style=\"color: #7f7f7f; text-decoration-color: #7f7f7f\">warnings.py</span></a><span style=\"color: #7f7f7f; text-decoration-color: #7f7f7f\">:</span><a href=\"file://C:\\Users\\dggua\\anaconda3\\envs\\test_env\\lib\\warnings.py#109\" target=\"_blank\"><span style=\"color: #7f7f7f; text-decoration-color: #7f7f7f\">109</span></a>\n",
       "<span style=\"color: #7fbfbf; text-decoration-color: #7fbfbf\">                    </span>         py:<span style=\"color: #008080; text-decoration-color: #008080; font-weight: bold\">1351</span>: DataConversionWarning: A column-vector y was passed when a 1d <span style=\"color: #7f7f7f; text-decoration-color: #7f7f7f\">               </span>\n",
       "<span style=\"color: #7fbfbf; text-decoration-color: #7fbfbf\">                    </span>         array was expected. Please change the shape of y to <span style=\"font-weight: bold\">(</span>n_samples,<span style=\"font-weight: bold\">)</span>, for  <span style=\"color: #7f7f7f; text-decoration-color: #7f7f7f\">               </span>\n",
       "<span style=\"color: #7fbfbf; text-decoration-color: #7fbfbf\">                    </span>         example using <span style=\"color: #800080; text-decoration-color: #800080; font-weight: bold\">ravel</span><span style=\"font-weight: bold\">()</span>.                                                 <span style=\"color: #7f7f7f; text-decoration-color: #7f7f7f\">               </span>\n",
       "<span style=\"color: #7fbfbf; text-decoration-color: #7fbfbf\">                    </span>           return <span style=\"color: #800080; text-decoration-color: #800080; font-weight: bold\">fit_method</span><span style=\"font-weight: bold\">(</span>estimator, *args, **kwargs<span style=\"font-weight: bold\">)</span>                        <span style=\"color: #7f7f7f; text-decoration-color: #7f7f7f\">               </span>\n",
       "<span style=\"color: #7fbfbf; text-decoration-color: #7fbfbf\">                    </span>                                                                                <span style=\"color: #7f7f7f; text-decoration-color: #7f7f7f\">               </span>\n",
       "</pre>\n"
      ],
      "text/plain": [
       "\u001b[2;36m                   \u001b[0m\u001b[2;36m \u001b[0m\u001b[31mWARNING \u001b[0m C:\\Users\\dggua\\anaconda3\\envs\\test_env\\lib\\site-packages\\sklearn\\base. \u001b]8;id=575377;file://C:\\Users\\dggua\\anaconda3\\envs\\test_env\\lib\\warnings.py\u001b\\\u001b[2mwarnings.py\u001b[0m\u001b]8;;\u001b\\\u001b[2m:\u001b[0m\u001b]8;id=386506;file://C:\\Users\\dggua\\anaconda3\\envs\\test_env\\lib\\warnings.py#109\u001b\\\u001b[2m109\u001b[0m\u001b]8;;\u001b\\\n",
       "\u001b[2;36m                    \u001b[0m         py:\u001b[1;36m1351\u001b[0m: DataConversionWarning: A column-vector y was passed when a 1d \u001b[2m               \u001b[0m\n",
       "\u001b[2;36m                    \u001b[0m         array was expected. Please change the shape of y to \u001b[1m(\u001b[0mn_samples,\u001b[1m)\u001b[0m, for  \u001b[2m               \u001b[0m\n",
       "\u001b[2;36m                    \u001b[0m         example using \u001b[1;35mravel\u001b[0m\u001b[1m(\u001b[0m\u001b[1m)\u001b[0m.                                                 \u001b[2m               \u001b[0m\n",
       "\u001b[2;36m                    \u001b[0m           return \u001b[1;35mfit_method\u001b[0m\u001b[1m(\u001b[0mestimator, *args, **kwargs\u001b[1m)\u001b[0m                        \u001b[2m               \u001b[0m\n",
       "\u001b[2;36m                    \u001b[0m                                                                                \u001b[2m               \u001b[0m\n"
      ]
     },
     "metadata": {},
     "output_type": "display_data"
    },
    {
     "data": {
      "text/html": [
       "<pre style=\"white-space:pre;overflow-x:auto;line-height:normal;font-family:Menlo,'DejaVu Sans Mono',consolas,'Courier New',monospace\"><span style=\"color: #7fbfbf; text-decoration-color: #7fbfbf\">[06/22/24 16:18:07] </span><span style=\"color: #800000; text-decoration-color: #800000\">WARNING </span> C:\\Users\\dggua\\anaconda3\\envs\\test_env\\lib\\site-packages\\sklearn\\base. <a href=\"file://C:\\Users\\dggua\\anaconda3\\envs\\test_env\\lib\\warnings.py\" target=\"_blank\"><span style=\"color: #7f7f7f; text-decoration-color: #7f7f7f\">warnings.py</span></a><span style=\"color: #7f7f7f; text-decoration-color: #7f7f7f\">:</span><a href=\"file://C:\\Users\\dggua\\anaconda3\\envs\\test_env\\lib\\warnings.py#109\" target=\"_blank\"><span style=\"color: #7f7f7f; text-decoration-color: #7f7f7f\">109</span></a>\n",
       "<span style=\"color: #7fbfbf; text-decoration-color: #7fbfbf\">                    </span>         py:<span style=\"color: #008080; text-decoration-color: #008080; font-weight: bold\">1351</span>: DataConversionWarning: A column-vector y was passed when a 1d <span style=\"color: #7f7f7f; text-decoration-color: #7f7f7f\">               </span>\n",
       "<span style=\"color: #7fbfbf; text-decoration-color: #7fbfbf\">                    </span>         array was expected. Please change the shape of y to <span style=\"font-weight: bold\">(</span>n_samples,<span style=\"font-weight: bold\">)</span>, for  <span style=\"color: #7f7f7f; text-decoration-color: #7f7f7f\">               </span>\n",
       "<span style=\"color: #7fbfbf; text-decoration-color: #7fbfbf\">                    </span>         example using <span style=\"color: #800080; text-decoration-color: #800080; font-weight: bold\">ravel</span><span style=\"font-weight: bold\">()</span>.                                                 <span style=\"color: #7f7f7f; text-decoration-color: #7f7f7f\">               </span>\n",
       "<span style=\"color: #7fbfbf; text-decoration-color: #7fbfbf\">                    </span>           return <span style=\"color: #800080; text-decoration-color: #800080; font-weight: bold\">fit_method</span><span style=\"font-weight: bold\">(</span>estimator, *args, **kwargs<span style=\"font-weight: bold\">)</span>                        <span style=\"color: #7f7f7f; text-decoration-color: #7f7f7f\">               </span>\n",
       "<span style=\"color: #7fbfbf; text-decoration-color: #7fbfbf\">                    </span>                                                                                <span style=\"color: #7f7f7f; text-decoration-color: #7f7f7f\">               </span>\n",
       "</pre>\n"
      ],
      "text/plain": [
       "\u001b[2;36m[06/22/24 16:18:07]\u001b[0m\u001b[2;36m \u001b[0m\u001b[31mWARNING \u001b[0m C:\\Users\\dggua\\anaconda3\\envs\\test_env\\lib\\site-packages\\sklearn\\base. \u001b]8;id=645894;file://C:\\Users\\dggua\\anaconda3\\envs\\test_env\\lib\\warnings.py\u001b\\\u001b[2mwarnings.py\u001b[0m\u001b]8;;\u001b\\\u001b[2m:\u001b[0m\u001b]8;id=477668;file://C:\\Users\\dggua\\anaconda3\\envs\\test_env\\lib\\warnings.py#109\u001b\\\u001b[2m109\u001b[0m\u001b]8;;\u001b\\\n",
       "\u001b[2;36m                    \u001b[0m         py:\u001b[1;36m1351\u001b[0m: DataConversionWarning: A column-vector y was passed when a 1d \u001b[2m               \u001b[0m\n",
       "\u001b[2;36m                    \u001b[0m         array was expected. Please change the shape of y to \u001b[1m(\u001b[0mn_samples,\u001b[1m)\u001b[0m, for  \u001b[2m               \u001b[0m\n",
       "\u001b[2;36m                    \u001b[0m         example using \u001b[1;35mravel\u001b[0m\u001b[1m(\u001b[0m\u001b[1m)\u001b[0m.                                                 \u001b[2m               \u001b[0m\n",
       "\u001b[2;36m                    \u001b[0m           return \u001b[1;35mfit_method\u001b[0m\u001b[1m(\u001b[0mestimator, *args, **kwargs\u001b[1m)\u001b[0m                        \u001b[2m               \u001b[0m\n",
       "\u001b[2;36m                    \u001b[0m                                                                                \u001b[2m               \u001b[0m\n"
      ]
     },
     "metadata": {},
     "output_type": "display_data"
    },
    {
     "data": {
      "text/html": [
       "<pre style=\"white-space:pre;overflow-x:auto;line-height:normal;font-family:Menlo,'DejaVu Sans Mono',consolas,'Courier New',monospace\"><span style=\"color: #7fbfbf; text-decoration-color: #7fbfbf\">                    </span><span style=\"color: #800000; text-decoration-color: #800000\">WARNING </span> C:\\Users\\dggua\\anaconda3\\envs\\test_env\\lib\\site-packages\\sklearn\\base. <a href=\"file://C:\\Users\\dggua\\anaconda3\\envs\\test_env\\lib\\warnings.py\" target=\"_blank\"><span style=\"color: #7f7f7f; text-decoration-color: #7f7f7f\">warnings.py</span></a><span style=\"color: #7f7f7f; text-decoration-color: #7f7f7f\">:</span><a href=\"file://C:\\Users\\dggua\\anaconda3\\envs\\test_env\\lib\\warnings.py#109\" target=\"_blank\"><span style=\"color: #7f7f7f; text-decoration-color: #7f7f7f\">109</span></a>\n",
       "<span style=\"color: #7fbfbf; text-decoration-color: #7fbfbf\">                    </span>         py:<span style=\"color: #008080; text-decoration-color: #008080; font-weight: bold\">1351</span>: DataConversionWarning: A column-vector y was passed when a 1d <span style=\"color: #7f7f7f; text-decoration-color: #7f7f7f\">               </span>\n",
       "<span style=\"color: #7fbfbf; text-decoration-color: #7fbfbf\">                    </span>         array was expected. Please change the shape of y to <span style=\"font-weight: bold\">(</span>n_samples,<span style=\"font-weight: bold\">)</span>, for  <span style=\"color: #7f7f7f; text-decoration-color: #7f7f7f\">               </span>\n",
       "<span style=\"color: #7fbfbf; text-decoration-color: #7fbfbf\">                    </span>         example using <span style=\"color: #800080; text-decoration-color: #800080; font-weight: bold\">ravel</span><span style=\"font-weight: bold\">()</span>.                                                 <span style=\"color: #7f7f7f; text-decoration-color: #7f7f7f\">               </span>\n",
       "<span style=\"color: #7fbfbf; text-decoration-color: #7fbfbf\">                    </span>           return <span style=\"color: #800080; text-decoration-color: #800080; font-weight: bold\">fit_method</span><span style=\"font-weight: bold\">(</span>estimator, *args, **kwargs<span style=\"font-weight: bold\">)</span>                        <span style=\"color: #7f7f7f; text-decoration-color: #7f7f7f\">               </span>\n",
       "<span style=\"color: #7fbfbf; text-decoration-color: #7fbfbf\">                    </span>                                                                                <span style=\"color: #7f7f7f; text-decoration-color: #7f7f7f\">               </span>\n",
       "</pre>\n"
      ],
      "text/plain": [
       "\u001b[2;36m                   \u001b[0m\u001b[2;36m \u001b[0m\u001b[31mWARNING \u001b[0m C:\\Users\\dggua\\anaconda3\\envs\\test_env\\lib\\site-packages\\sklearn\\base. \u001b]8;id=662423;file://C:\\Users\\dggua\\anaconda3\\envs\\test_env\\lib\\warnings.py\u001b\\\u001b[2mwarnings.py\u001b[0m\u001b]8;;\u001b\\\u001b[2m:\u001b[0m\u001b]8;id=136090;file://C:\\Users\\dggua\\anaconda3\\envs\\test_env\\lib\\warnings.py#109\u001b\\\u001b[2m109\u001b[0m\u001b]8;;\u001b\\\n",
       "\u001b[2;36m                    \u001b[0m         py:\u001b[1;36m1351\u001b[0m: DataConversionWarning: A column-vector y was passed when a 1d \u001b[2m               \u001b[0m\n",
       "\u001b[2;36m                    \u001b[0m         array was expected. Please change the shape of y to \u001b[1m(\u001b[0mn_samples,\u001b[1m)\u001b[0m, for  \u001b[2m               \u001b[0m\n",
       "\u001b[2;36m                    \u001b[0m         example using \u001b[1;35mravel\u001b[0m\u001b[1m(\u001b[0m\u001b[1m)\u001b[0m.                                                 \u001b[2m               \u001b[0m\n",
       "\u001b[2;36m                    \u001b[0m           return \u001b[1;35mfit_method\u001b[0m\u001b[1m(\u001b[0mestimator, *args, **kwargs\u001b[1m)\u001b[0m                        \u001b[2m               \u001b[0m\n",
       "\u001b[2;36m                    \u001b[0m                                                                                \u001b[2m               \u001b[0m\n"
      ]
     },
     "metadata": {},
     "output_type": "display_data"
    },
    {
     "data": {
      "text/html": [
       "<pre style=\"white-space:pre;overflow-x:auto;line-height:normal;font-family:Menlo,'DejaVu Sans Mono',consolas,'Courier New',monospace\"><span style=\"color: #7fbfbf; text-decoration-color: #7fbfbf\">                    </span><span style=\"color: #800000; text-decoration-color: #800000\">WARNING </span> C:\\Users\\dggua\\anaconda3\\envs\\test_env\\lib\\site-packages\\sklearn\\base. <a href=\"file://C:\\Users\\dggua\\anaconda3\\envs\\test_env\\lib\\warnings.py\" target=\"_blank\"><span style=\"color: #7f7f7f; text-decoration-color: #7f7f7f\">warnings.py</span></a><span style=\"color: #7f7f7f; text-decoration-color: #7f7f7f\">:</span><a href=\"file://C:\\Users\\dggua\\anaconda3\\envs\\test_env\\lib\\warnings.py#109\" target=\"_blank\"><span style=\"color: #7f7f7f; text-decoration-color: #7f7f7f\">109</span></a>\n",
       "<span style=\"color: #7fbfbf; text-decoration-color: #7fbfbf\">                    </span>         py:<span style=\"color: #008080; text-decoration-color: #008080; font-weight: bold\">1351</span>: DataConversionWarning: A column-vector y was passed when a 1d <span style=\"color: #7f7f7f; text-decoration-color: #7f7f7f\">               </span>\n",
       "<span style=\"color: #7fbfbf; text-decoration-color: #7fbfbf\">                    </span>         array was expected. Please change the shape of y to <span style=\"font-weight: bold\">(</span>n_samples,<span style=\"font-weight: bold\">)</span>, for  <span style=\"color: #7f7f7f; text-decoration-color: #7f7f7f\">               </span>\n",
       "<span style=\"color: #7fbfbf; text-decoration-color: #7fbfbf\">                    </span>         example using <span style=\"color: #800080; text-decoration-color: #800080; font-weight: bold\">ravel</span><span style=\"font-weight: bold\">()</span>.                                                 <span style=\"color: #7f7f7f; text-decoration-color: #7f7f7f\">               </span>\n",
       "<span style=\"color: #7fbfbf; text-decoration-color: #7fbfbf\">                    </span>           return <span style=\"color: #800080; text-decoration-color: #800080; font-weight: bold\">fit_method</span><span style=\"font-weight: bold\">(</span>estimator, *args, **kwargs<span style=\"font-weight: bold\">)</span>                        <span style=\"color: #7f7f7f; text-decoration-color: #7f7f7f\">               </span>\n",
       "<span style=\"color: #7fbfbf; text-decoration-color: #7fbfbf\">                    </span>                                                                                <span style=\"color: #7f7f7f; text-decoration-color: #7f7f7f\">               </span>\n",
       "</pre>\n"
      ],
      "text/plain": [
       "\u001b[2;36m                   \u001b[0m\u001b[2;36m \u001b[0m\u001b[31mWARNING \u001b[0m C:\\Users\\dggua\\anaconda3\\envs\\test_env\\lib\\site-packages\\sklearn\\base. \u001b]8;id=113371;file://C:\\Users\\dggua\\anaconda3\\envs\\test_env\\lib\\warnings.py\u001b\\\u001b[2mwarnings.py\u001b[0m\u001b]8;;\u001b\\\u001b[2m:\u001b[0m\u001b]8;id=227955;file://C:\\Users\\dggua\\anaconda3\\envs\\test_env\\lib\\warnings.py#109\u001b\\\u001b[2m109\u001b[0m\u001b]8;;\u001b\\\n",
       "\u001b[2;36m                    \u001b[0m         py:\u001b[1;36m1351\u001b[0m: DataConversionWarning: A column-vector y was passed when a 1d \u001b[2m               \u001b[0m\n",
       "\u001b[2;36m                    \u001b[0m         array was expected. Please change the shape of y to \u001b[1m(\u001b[0mn_samples,\u001b[1m)\u001b[0m, for  \u001b[2m               \u001b[0m\n",
       "\u001b[2;36m                    \u001b[0m         example using \u001b[1;35mravel\u001b[0m\u001b[1m(\u001b[0m\u001b[1m)\u001b[0m.                                                 \u001b[2m               \u001b[0m\n",
       "\u001b[2;36m                    \u001b[0m           return \u001b[1;35mfit_method\u001b[0m\u001b[1m(\u001b[0mestimator, *args, **kwargs\u001b[1m)\u001b[0m                        \u001b[2m               \u001b[0m\n",
       "\u001b[2;36m                    \u001b[0m                                                                                \u001b[2m               \u001b[0m\n"
      ]
     },
     "metadata": {},
     "output_type": "display_data"
    },
    {
     "data": {
      "text/html": [
       "<pre style=\"white-space:pre;overflow-x:auto;line-height:normal;font-family:Menlo,'DejaVu Sans Mono',consolas,'Courier New',monospace\"><span style=\"color: #7fbfbf; text-decoration-color: #7fbfbf\">                    </span><span style=\"color: #800000; text-decoration-color: #800000\">WARNING </span> C:\\Users\\dggua\\anaconda3\\envs\\test_env\\lib\\site-packages\\sklearn\\base. <a href=\"file://C:\\Users\\dggua\\anaconda3\\envs\\test_env\\lib\\warnings.py\" target=\"_blank\"><span style=\"color: #7f7f7f; text-decoration-color: #7f7f7f\">warnings.py</span></a><span style=\"color: #7f7f7f; text-decoration-color: #7f7f7f\">:</span><a href=\"file://C:\\Users\\dggua\\anaconda3\\envs\\test_env\\lib\\warnings.py#109\" target=\"_blank\"><span style=\"color: #7f7f7f; text-decoration-color: #7f7f7f\">109</span></a>\n",
       "<span style=\"color: #7fbfbf; text-decoration-color: #7fbfbf\">                    </span>         py:<span style=\"color: #008080; text-decoration-color: #008080; font-weight: bold\">1351</span>: DataConversionWarning: A column-vector y was passed when a 1d <span style=\"color: #7f7f7f; text-decoration-color: #7f7f7f\">               </span>\n",
       "<span style=\"color: #7fbfbf; text-decoration-color: #7fbfbf\">                    </span>         array was expected. Please change the shape of y to <span style=\"font-weight: bold\">(</span>n_samples,<span style=\"font-weight: bold\">)</span>, for  <span style=\"color: #7f7f7f; text-decoration-color: #7f7f7f\">               </span>\n",
       "<span style=\"color: #7fbfbf; text-decoration-color: #7fbfbf\">                    </span>         example using <span style=\"color: #800080; text-decoration-color: #800080; font-weight: bold\">ravel</span><span style=\"font-weight: bold\">()</span>.                                                 <span style=\"color: #7f7f7f; text-decoration-color: #7f7f7f\">               </span>\n",
       "<span style=\"color: #7fbfbf; text-decoration-color: #7fbfbf\">                    </span>           return <span style=\"color: #800080; text-decoration-color: #800080; font-weight: bold\">fit_method</span><span style=\"font-weight: bold\">(</span>estimator, *args, **kwargs<span style=\"font-weight: bold\">)</span>                        <span style=\"color: #7f7f7f; text-decoration-color: #7f7f7f\">               </span>\n",
       "<span style=\"color: #7fbfbf; text-decoration-color: #7fbfbf\">                    </span>                                                                                <span style=\"color: #7f7f7f; text-decoration-color: #7f7f7f\">               </span>\n",
       "</pre>\n"
      ],
      "text/plain": [
       "\u001b[2;36m                   \u001b[0m\u001b[2;36m \u001b[0m\u001b[31mWARNING \u001b[0m C:\\Users\\dggua\\anaconda3\\envs\\test_env\\lib\\site-packages\\sklearn\\base. \u001b]8;id=61828;file://C:\\Users\\dggua\\anaconda3\\envs\\test_env\\lib\\warnings.py\u001b\\\u001b[2mwarnings.py\u001b[0m\u001b]8;;\u001b\\\u001b[2m:\u001b[0m\u001b]8;id=939773;file://C:\\Users\\dggua\\anaconda3\\envs\\test_env\\lib\\warnings.py#109\u001b\\\u001b[2m109\u001b[0m\u001b]8;;\u001b\\\n",
       "\u001b[2;36m                    \u001b[0m         py:\u001b[1;36m1351\u001b[0m: DataConversionWarning: A column-vector y was passed when a 1d \u001b[2m               \u001b[0m\n",
       "\u001b[2;36m                    \u001b[0m         array was expected. Please change the shape of y to \u001b[1m(\u001b[0mn_samples,\u001b[1m)\u001b[0m, for  \u001b[2m               \u001b[0m\n",
       "\u001b[2;36m                    \u001b[0m         example using \u001b[1;35mravel\u001b[0m\u001b[1m(\u001b[0m\u001b[1m)\u001b[0m.                                                 \u001b[2m               \u001b[0m\n",
       "\u001b[2;36m                    \u001b[0m           return \u001b[1;35mfit_method\u001b[0m\u001b[1m(\u001b[0mestimator, *args, **kwargs\u001b[1m)\u001b[0m                        \u001b[2m               \u001b[0m\n",
       "\u001b[2;36m                    \u001b[0m                                                                                \u001b[2m               \u001b[0m\n"
      ]
     },
     "metadata": {},
     "output_type": "display_data"
    },
    {
     "data": {
      "text/html": [
       "<pre style=\"white-space:pre;overflow-x:auto;line-height:normal;font-family:Menlo,'DejaVu Sans Mono',consolas,'Courier New',monospace\"><span style=\"color: #7fbfbf; text-decoration-color: #7fbfbf\">                    </span><span style=\"color: #800000; text-decoration-color: #800000\">WARNING </span> C:\\Users\\dggua\\anaconda3\\envs\\test_env\\lib\\site-packages\\sklearn\\base. <a href=\"file://C:\\Users\\dggua\\anaconda3\\envs\\test_env\\lib\\warnings.py\" target=\"_blank\"><span style=\"color: #7f7f7f; text-decoration-color: #7f7f7f\">warnings.py</span></a><span style=\"color: #7f7f7f; text-decoration-color: #7f7f7f\">:</span><a href=\"file://C:\\Users\\dggua\\anaconda3\\envs\\test_env\\lib\\warnings.py#109\" target=\"_blank\"><span style=\"color: #7f7f7f; text-decoration-color: #7f7f7f\">109</span></a>\n",
       "<span style=\"color: #7fbfbf; text-decoration-color: #7fbfbf\">                    </span>         py:<span style=\"color: #008080; text-decoration-color: #008080; font-weight: bold\">1351</span>: DataConversionWarning: A column-vector y was passed when a 1d <span style=\"color: #7f7f7f; text-decoration-color: #7f7f7f\">               </span>\n",
       "<span style=\"color: #7fbfbf; text-decoration-color: #7fbfbf\">                    </span>         array was expected. Please change the shape of y to <span style=\"font-weight: bold\">(</span>n_samples,<span style=\"font-weight: bold\">)</span>, for  <span style=\"color: #7f7f7f; text-decoration-color: #7f7f7f\">               </span>\n",
       "<span style=\"color: #7fbfbf; text-decoration-color: #7fbfbf\">                    </span>         example using <span style=\"color: #800080; text-decoration-color: #800080; font-weight: bold\">ravel</span><span style=\"font-weight: bold\">()</span>.                                                 <span style=\"color: #7f7f7f; text-decoration-color: #7f7f7f\">               </span>\n",
       "<span style=\"color: #7fbfbf; text-decoration-color: #7fbfbf\">                    </span>           return <span style=\"color: #800080; text-decoration-color: #800080; font-weight: bold\">fit_method</span><span style=\"font-weight: bold\">(</span>estimator, *args, **kwargs<span style=\"font-weight: bold\">)</span>                        <span style=\"color: #7f7f7f; text-decoration-color: #7f7f7f\">               </span>\n",
       "<span style=\"color: #7fbfbf; text-decoration-color: #7fbfbf\">                    </span>                                                                                <span style=\"color: #7f7f7f; text-decoration-color: #7f7f7f\">               </span>\n",
       "</pre>\n"
      ],
      "text/plain": [
       "\u001b[2;36m                   \u001b[0m\u001b[2;36m \u001b[0m\u001b[31mWARNING \u001b[0m C:\\Users\\dggua\\anaconda3\\envs\\test_env\\lib\\site-packages\\sklearn\\base. \u001b]8;id=899163;file://C:\\Users\\dggua\\anaconda3\\envs\\test_env\\lib\\warnings.py\u001b\\\u001b[2mwarnings.py\u001b[0m\u001b]8;;\u001b\\\u001b[2m:\u001b[0m\u001b]8;id=575350;file://C:\\Users\\dggua\\anaconda3\\envs\\test_env\\lib\\warnings.py#109\u001b\\\u001b[2m109\u001b[0m\u001b]8;;\u001b\\\n",
       "\u001b[2;36m                    \u001b[0m         py:\u001b[1;36m1351\u001b[0m: DataConversionWarning: A column-vector y was passed when a 1d \u001b[2m               \u001b[0m\n",
       "\u001b[2;36m                    \u001b[0m         array was expected. Please change the shape of y to \u001b[1m(\u001b[0mn_samples,\u001b[1m)\u001b[0m, for  \u001b[2m               \u001b[0m\n",
       "\u001b[2;36m                    \u001b[0m         example using \u001b[1;35mravel\u001b[0m\u001b[1m(\u001b[0m\u001b[1m)\u001b[0m.                                                 \u001b[2m               \u001b[0m\n",
       "\u001b[2;36m                    \u001b[0m           return \u001b[1;35mfit_method\u001b[0m\u001b[1m(\u001b[0mestimator, *args, **kwargs\u001b[1m)\u001b[0m                        \u001b[2m               \u001b[0m\n",
       "\u001b[2;36m                    \u001b[0m                                                                                \u001b[2m               \u001b[0m\n"
      ]
     },
     "metadata": {},
     "output_type": "display_data"
    },
    {
     "data": {
      "text/html": [
       "<pre style=\"white-space:pre;overflow-x:auto;line-height:normal;font-family:Menlo,'DejaVu Sans Mono',consolas,'Courier New',monospace\"><span style=\"color: #7fbfbf; text-decoration-color: #7fbfbf\">                    </span><span style=\"color: #800000; text-decoration-color: #800000\">WARNING </span> C:\\Users\\dggua\\anaconda3\\envs\\test_env\\lib\\site-packages\\sklearn\\base. <a href=\"file://C:\\Users\\dggua\\anaconda3\\envs\\test_env\\lib\\warnings.py\" target=\"_blank\"><span style=\"color: #7f7f7f; text-decoration-color: #7f7f7f\">warnings.py</span></a><span style=\"color: #7f7f7f; text-decoration-color: #7f7f7f\">:</span><a href=\"file://C:\\Users\\dggua\\anaconda3\\envs\\test_env\\lib\\warnings.py#109\" target=\"_blank\"><span style=\"color: #7f7f7f; text-decoration-color: #7f7f7f\">109</span></a>\n",
       "<span style=\"color: #7fbfbf; text-decoration-color: #7fbfbf\">                    </span>         py:<span style=\"color: #008080; text-decoration-color: #008080; font-weight: bold\">1351</span>: DataConversionWarning: A column-vector y was passed when a 1d <span style=\"color: #7f7f7f; text-decoration-color: #7f7f7f\">               </span>\n",
       "<span style=\"color: #7fbfbf; text-decoration-color: #7fbfbf\">                    </span>         array was expected. Please change the shape of y to <span style=\"font-weight: bold\">(</span>n_samples,<span style=\"font-weight: bold\">)</span>, for  <span style=\"color: #7f7f7f; text-decoration-color: #7f7f7f\">               </span>\n",
       "<span style=\"color: #7fbfbf; text-decoration-color: #7fbfbf\">                    </span>         example using <span style=\"color: #800080; text-decoration-color: #800080; font-weight: bold\">ravel</span><span style=\"font-weight: bold\">()</span>.                                                 <span style=\"color: #7f7f7f; text-decoration-color: #7f7f7f\">               </span>\n",
       "<span style=\"color: #7fbfbf; text-decoration-color: #7fbfbf\">                    </span>           return <span style=\"color: #800080; text-decoration-color: #800080; font-weight: bold\">fit_method</span><span style=\"font-weight: bold\">(</span>estimator, *args, **kwargs<span style=\"font-weight: bold\">)</span>                        <span style=\"color: #7f7f7f; text-decoration-color: #7f7f7f\">               </span>\n",
       "<span style=\"color: #7fbfbf; text-decoration-color: #7fbfbf\">                    </span>                                                                                <span style=\"color: #7f7f7f; text-decoration-color: #7f7f7f\">               </span>\n",
       "</pre>\n"
      ],
      "text/plain": [
       "\u001b[2;36m                   \u001b[0m\u001b[2;36m \u001b[0m\u001b[31mWARNING \u001b[0m C:\\Users\\dggua\\anaconda3\\envs\\test_env\\lib\\site-packages\\sklearn\\base. \u001b]8;id=513167;file://C:\\Users\\dggua\\anaconda3\\envs\\test_env\\lib\\warnings.py\u001b\\\u001b[2mwarnings.py\u001b[0m\u001b]8;;\u001b\\\u001b[2m:\u001b[0m\u001b]8;id=44057;file://C:\\Users\\dggua\\anaconda3\\envs\\test_env\\lib\\warnings.py#109\u001b\\\u001b[2m109\u001b[0m\u001b]8;;\u001b\\\n",
       "\u001b[2;36m                    \u001b[0m         py:\u001b[1;36m1351\u001b[0m: DataConversionWarning: A column-vector y was passed when a 1d \u001b[2m               \u001b[0m\n",
       "\u001b[2;36m                    \u001b[0m         array was expected. Please change the shape of y to \u001b[1m(\u001b[0mn_samples,\u001b[1m)\u001b[0m, for  \u001b[2m               \u001b[0m\n",
       "\u001b[2;36m                    \u001b[0m         example using \u001b[1;35mravel\u001b[0m\u001b[1m(\u001b[0m\u001b[1m)\u001b[0m.                                                 \u001b[2m               \u001b[0m\n",
       "\u001b[2;36m                    \u001b[0m           return \u001b[1;35mfit_method\u001b[0m\u001b[1m(\u001b[0mestimator, *args, **kwargs\u001b[1m)\u001b[0m                        \u001b[2m               \u001b[0m\n",
       "\u001b[2;36m                    \u001b[0m                                                                                \u001b[2m               \u001b[0m\n"
      ]
     },
     "metadata": {},
     "output_type": "display_data"
    },
    {
     "data": {
      "text/html": [
       "<pre style=\"white-space:pre;overflow-x:auto;line-height:normal;font-family:Menlo,'DejaVu Sans Mono',consolas,'Courier New',monospace\"><span style=\"color: #7fbfbf; text-decoration-color: #7fbfbf\">                    </span><span style=\"color: #800000; text-decoration-color: #800000\">WARNING </span> C:\\Users\\dggua\\anaconda3\\envs\\test_env\\lib\\site-packages\\sklearn\\base. <a href=\"file://C:\\Users\\dggua\\anaconda3\\envs\\test_env\\lib\\warnings.py\" target=\"_blank\"><span style=\"color: #7f7f7f; text-decoration-color: #7f7f7f\">warnings.py</span></a><span style=\"color: #7f7f7f; text-decoration-color: #7f7f7f\">:</span><a href=\"file://C:\\Users\\dggua\\anaconda3\\envs\\test_env\\lib\\warnings.py#109\" target=\"_blank\"><span style=\"color: #7f7f7f; text-decoration-color: #7f7f7f\">109</span></a>\n",
       "<span style=\"color: #7fbfbf; text-decoration-color: #7fbfbf\">                    </span>         py:<span style=\"color: #008080; text-decoration-color: #008080; font-weight: bold\">1351</span>: DataConversionWarning: A column-vector y was passed when a 1d <span style=\"color: #7f7f7f; text-decoration-color: #7f7f7f\">               </span>\n",
       "<span style=\"color: #7fbfbf; text-decoration-color: #7fbfbf\">                    </span>         array was expected. Please change the shape of y to <span style=\"font-weight: bold\">(</span>n_samples,<span style=\"font-weight: bold\">)</span>, for  <span style=\"color: #7f7f7f; text-decoration-color: #7f7f7f\">               </span>\n",
       "<span style=\"color: #7fbfbf; text-decoration-color: #7fbfbf\">                    </span>         example using <span style=\"color: #800080; text-decoration-color: #800080; font-weight: bold\">ravel</span><span style=\"font-weight: bold\">()</span>.                                                 <span style=\"color: #7f7f7f; text-decoration-color: #7f7f7f\">               </span>\n",
       "<span style=\"color: #7fbfbf; text-decoration-color: #7fbfbf\">                    </span>           return <span style=\"color: #800080; text-decoration-color: #800080; font-weight: bold\">fit_method</span><span style=\"font-weight: bold\">(</span>estimator, *args, **kwargs<span style=\"font-weight: bold\">)</span>                        <span style=\"color: #7f7f7f; text-decoration-color: #7f7f7f\">               </span>\n",
       "<span style=\"color: #7fbfbf; text-decoration-color: #7fbfbf\">                    </span>                                                                                <span style=\"color: #7f7f7f; text-decoration-color: #7f7f7f\">               </span>\n",
       "</pre>\n"
      ],
      "text/plain": [
       "\u001b[2;36m                   \u001b[0m\u001b[2;36m \u001b[0m\u001b[31mWARNING \u001b[0m C:\\Users\\dggua\\anaconda3\\envs\\test_env\\lib\\site-packages\\sklearn\\base. \u001b]8;id=146502;file://C:\\Users\\dggua\\anaconda3\\envs\\test_env\\lib\\warnings.py\u001b\\\u001b[2mwarnings.py\u001b[0m\u001b]8;;\u001b\\\u001b[2m:\u001b[0m\u001b]8;id=242996;file://C:\\Users\\dggua\\anaconda3\\envs\\test_env\\lib\\warnings.py#109\u001b\\\u001b[2m109\u001b[0m\u001b]8;;\u001b\\\n",
       "\u001b[2;36m                    \u001b[0m         py:\u001b[1;36m1351\u001b[0m: DataConversionWarning: A column-vector y was passed when a 1d \u001b[2m               \u001b[0m\n",
       "\u001b[2;36m                    \u001b[0m         array was expected. Please change the shape of y to \u001b[1m(\u001b[0mn_samples,\u001b[1m)\u001b[0m, for  \u001b[2m               \u001b[0m\n",
       "\u001b[2;36m                    \u001b[0m         example using \u001b[1;35mravel\u001b[0m\u001b[1m(\u001b[0m\u001b[1m)\u001b[0m.                                                 \u001b[2m               \u001b[0m\n",
       "\u001b[2;36m                    \u001b[0m           return \u001b[1;35mfit_method\u001b[0m\u001b[1m(\u001b[0mestimator, *args, **kwargs\u001b[1m)\u001b[0m                        \u001b[2m               \u001b[0m\n",
       "\u001b[2;36m                    \u001b[0m                                                                                \u001b[2m               \u001b[0m\n"
      ]
     },
     "metadata": {},
     "output_type": "display_data"
    },
    {
     "data": {
      "text/html": [
       "<pre style=\"white-space:pre;overflow-x:auto;line-height:normal;font-family:Menlo,'DejaVu Sans Mono',consolas,'Courier New',monospace\"><span style=\"color: #7fbfbf; text-decoration-color: #7fbfbf\">                    </span><span style=\"color: #800000; text-decoration-color: #800000\">WARNING </span> C:\\Users\\dggua\\anaconda3\\envs\\test_env\\lib\\site-packages\\sklearn\\base. <a href=\"file://C:\\Users\\dggua\\anaconda3\\envs\\test_env\\lib\\warnings.py\" target=\"_blank\"><span style=\"color: #7f7f7f; text-decoration-color: #7f7f7f\">warnings.py</span></a><span style=\"color: #7f7f7f; text-decoration-color: #7f7f7f\">:</span><a href=\"file://C:\\Users\\dggua\\anaconda3\\envs\\test_env\\lib\\warnings.py#109\" target=\"_blank\"><span style=\"color: #7f7f7f; text-decoration-color: #7f7f7f\">109</span></a>\n",
       "<span style=\"color: #7fbfbf; text-decoration-color: #7fbfbf\">                    </span>         py:<span style=\"color: #008080; text-decoration-color: #008080; font-weight: bold\">1351</span>: DataConversionWarning: A column-vector y was passed when a 1d <span style=\"color: #7f7f7f; text-decoration-color: #7f7f7f\">               </span>\n",
       "<span style=\"color: #7fbfbf; text-decoration-color: #7fbfbf\">                    </span>         array was expected. Please change the shape of y to <span style=\"font-weight: bold\">(</span>n_samples,<span style=\"font-weight: bold\">)</span>, for  <span style=\"color: #7f7f7f; text-decoration-color: #7f7f7f\">               </span>\n",
       "<span style=\"color: #7fbfbf; text-decoration-color: #7fbfbf\">                    </span>         example using <span style=\"color: #800080; text-decoration-color: #800080; font-weight: bold\">ravel</span><span style=\"font-weight: bold\">()</span>.                                                 <span style=\"color: #7f7f7f; text-decoration-color: #7f7f7f\">               </span>\n",
       "<span style=\"color: #7fbfbf; text-decoration-color: #7fbfbf\">                    </span>           return <span style=\"color: #800080; text-decoration-color: #800080; font-weight: bold\">fit_method</span><span style=\"font-weight: bold\">(</span>estimator, *args, **kwargs<span style=\"font-weight: bold\">)</span>                        <span style=\"color: #7f7f7f; text-decoration-color: #7f7f7f\">               </span>\n",
       "<span style=\"color: #7fbfbf; text-decoration-color: #7fbfbf\">                    </span>                                                                                <span style=\"color: #7f7f7f; text-decoration-color: #7f7f7f\">               </span>\n",
       "</pre>\n"
      ],
      "text/plain": [
       "\u001b[2;36m                   \u001b[0m\u001b[2;36m \u001b[0m\u001b[31mWARNING \u001b[0m C:\\Users\\dggua\\anaconda3\\envs\\test_env\\lib\\site-packages\\sklearn\\base. \u001b]8;id=931737;file://C:\\Users\\dggua\\anaconda3\\envs\\test_env\\lib\\warnings.py\u001b\\\u001b[2mwarnings.py\u001b[0m\u001b]8;;\u001b\\\u001b[2m:\u001b[0m\u001b]8;id=933047;file://C:\\Users\\dggua\\anaconda3\\envs\\test_env\\lib\\warnings.py#109\u001b\\\u001b[2m109\u001b[0m\u001b]8;;\u001b\\\n",
       "\u001b[2;36m                    \u001b[0m         py:\u001b[1;36m1351\u001b[0m: DataConversionWarning: A column-vector y was passed when a 1d \u001b[2m               \u001b[0m\n",
       "\u001b[2;36m                    \u001b[0m         array was expected. Please change the shape of y to \u001b[1m(\u001b[0mn_samples,\u001b[1m)\u001b[0m, for  \u001b[2m               \u001b[0m\n",
       "\u001b[2;36m                    \u001b[0m         example using \u001b[1;35mravel\u001b[0m\u001b[1m(\u001b[0m\u001b[1m)\u001b[0m.                                                 \u001b[2m               \u001b[0m\n",
       "\u001b[2;36m                    \u001b[0m           return \u001b[1;35mfit_method\u001b[0m\u001b[1m(\u001b[0mestimator, *args, **kwargs\u001b[1m)\u001b[0m                        \u001b[2m               \u001b[0m\n",
       "\u001b[2;36m                    \u001b[0m                                                                                \u001b[2m               \u001b[0m\n"
      ]
     },
     "metadata": {},
     "output_type": "display_data"
    },
    {
     "data": {
      "text/html": [
       "<pre style=\"white-space:pre;overflow-x:auto;line-height:normal;font-family:Menlo,'DejaVu Sans Mono',consolas,'Courier New',monospace\"><span style=\"color: #7fbfbf; text-decoration-color: #7fbfbf\">                    </span><span style=\"color: #800000; text-decoration-color: #800000\">WARNING </span> C:\\Users\\dggua\\anaconda3\\envs\\test_env\\lib\\site-packages\\sklearn\\base. <a href=\"file://C:\\Users\\dggua\\anaconda3\\envs\\test_env\\lib\\warnings.py\" target=\"_blank\"><span style=\"color: #7f7f7f; text-decoration-color: #7f7f7f\">warnings.py</span></a><span style=\"color: #7f7f7f; text-decoration-color: #7f7f7f\">:</span><a href=\"file://C:\\Users\\dggua\\anaconda3\\envs\\test_env\\lib\\warnings.py#109\" target=\"_blank\"><span style=\"color: #7f7f7f; text-decoration-color: #7f7f7f\">109</span></a>\n",
       "<span style=\"color: #7fbfbf; text-decoration-color: #7fbfbf\">                    </span>         py:<span style=\"color: #008080; text-decoration-color: #008080; font-weight: bold\">1351</span>: DataConversionWarning: A column-vector y was passed when a 1d <span style=\"color: #7f7f7f; text-decoration-color: #7f7f7f\">               </span>\n",
       "<span style=\"color: #7fbfbf; text-decoration-color: #7fbfbf\">                    </span>         array was expected. Please change the shape of y to <span style=\"font-weight: bold\">(</span>n_samples,<span style=\"font-weight: bold\">)</span>, for  <span style=\"color: #7f7f7f; text-decoration-color: #7f7f7f\">               </span>\n",
       "<span style=\"color: #7fbfbf; text-decoration-color: #7fbfbf\">                    </span>         example using <span style=\"color: #800080; text-decoration-color: #800080; font-weight: bold\">ravel</span><span style=\"font-weight: bold\">()</span>.                                                 <span style=\"color: #7f7f7f; text-decoration-color: #7f7f7f\">               </span>\n",
       "<span style=\"color: #7fbfbf; text-decoration-color: #7fbfbf\">                    </span>           return <span style=\"color: #800080; text-decoration-color: #800080; font-weight: bold\">fit_method</span><span style=\"font-weight: bold\">(</span>estimator, *args, **kwargs<span style=\"font-weight: bold\">)</span>                        <span style=\"color: #7f7f7f; text-decoration-color: #7f7f7f\">               </span>\n",
       "<span style=\"color: #7fbfbf; text-decoration-color: #7fbfbf\">                    </span>                                                                                <span style=\"color: #7f7f7f; text-decoration-color: #7f7f7f\">               </span>\n",
       "</pre>\n"
      ],
      "text/plain": [
       "\u001b[2;36m                   \u001b[0m\u001b[2;36m \u001b[0m\u001b[31mWARNING \u001b[0m C:\\Users\\dggua\\anaconda3\\envs\\test_env\\lib\\site-packages\\sklearn\\base. \u001b]8;id=751791;file://C:\\Users\\dggua\\anaconda3\\envs\\test_env\\lib\\warnings.py\u001b\\\u001b[2mwarnings.py\u001b[0m\u001b]8;;\u001b\\\u001b[2m:\u001b[0m\u001b]8;id=741146;file://C:\\Users\\dggua\\anaconda3\\envs\\test_env\\lib\\warnings.py#109\u001b\\\u001b[2m109\u001b[0m\u001b]8;;\u001b\\\n",
       "\u001b[2;36m                    \u001b[0m         py:\u001b[1;36m1351\u001b[0m: DataConversionWarning: A column-vector y was passed when a 1d \u001b[2m               \u001b[0m\n",
       "\u001b[2;36m                    \u001b[0m         array was expected. Please change the shape of y to \u001b[1m(\u001b[0mn_samples,\u001b[1m)\u001b[0m, for  \u001b[2m               \u001b[0m\n",
       "\u001b[2;36m                    \u001b[0m         example using \u001b[1;35mravel\u001b[0m\u001b[1m(\u001b[0m\u001b[1m)\u001b[0m.                                                 \u001b[2m               \u001b[0m\n",
       "\u001b[2;36m                    \u001b[0m           return \u001b[1;35mfit_method\u001b[0m\u001b[1m(\u001b[0mestimator, *args, **kwargs\u001b[1m)\u001b[0m                        \u001b[2m               \u001b[0m\n",
       "\u001b[2;36m                    \u001b[0m                                                                                \u001b[2m               \u001b[0m\n"
      ]
     },
     "metadata": {},
     "output_type": "display_data"
    },
    {
     "data": {
      "text/html": [
       "<pre style=\"white-space:pre;overflow-x:auto;line-height:normal;font-family:Menlo,'DejaVu Sans Mono',consolas,'Courier New',monospace\"><span style=\"color: #7fbfbf; text-decoration-color: #7fbfbf\">                    </span><span style=\"color: #800000; text-decoration-color: #800000\">WARNING </span> C:\\Users\\dggua\\anaconda3\\envs\\test_env\\lib\\site-packages\\sklearn\\base. <a href=\"file://C:\\Users\\dggua\\anaconda3\\envs\\test_env\\lib\\warnings.py\" target=\"_blank\"><span style=\"color: #7f7f7f; text-decoration-color: #7f7f7f\">warnings.py</span></a><span style=\"color: #7f7f7f; text-decoration-color: #7f7f7f\">:</span><a href=\"file://C:\\Users\\dggua\\anaconda3\\envs\\test_env\\lib\\warnings.py#109\" target=\"_blank\"><span style=\"color: #7f7f7f; text-decoration-color: #7f7f7f\">109</span></a>\n",
       "<span style=\"color: #7fbfbf; text-decoration-color: #7fbfbf\">                    </span>         py:<span style=\"color: #008080; text-decoration-color: #008080; font-weight: bold\">1351</span>: DataConversionWarning: A column-vector y was passed when a 1d <span style=\"color: #7f7f7f; text-decoration-color: #7f7f7f\">               </span>\n",
       "<span style=\"color: #7fbfbf; text-decoration-color: #7fbfbf\">                    </span>         array was expected. Please change the shape of y to <span style=\"font-weight: bold\">(</span>n_samples,<span style=\"font-weight: bold\">)</span>, for  <span style=\"color: #7f7f7f; text-decoration-color: #7f7f7f\">               </span>\n",
       "<span style=\"color: #7fbfbf; text-decoration-color: #7fbfbf\">                    </span>         example using <span style=\"color: #800080; text-decoration-color: #800080; font-weight: bold\">ravel</span><span style=\"font-weight: bold\">()</span>.                                                 <span style=\"color: #7f7f7f; text-decoration-color: #7f7f7f\">               </span>\n",
       "<span style=\"color: #7fbfbf; text-decoration-color: #7fbfbf\">                    </span>           return <span style=\"color: #800080; text-decoration-color: #800080; font-weight: bold\">fit_method</span><span style=\"font-weight: bold\">(</span>estimator, *args, **kwargs<span style=\"font-weight: bold\">)</span>                        <span style=\"color: #7f7f7f; text-decoration-color: #7f7f7f\">               </span>\n",
       "<span style=\"color: #7fbfbf; text-decoration-color: #7fbfbf\">                    </span>                                                                                <span style=\"color: #7f7f7f; text-decoration-color: #7f7f7f\">               </span>\n",
       "</pre>\n"
      ],
      "text/plain": [
       "\u001b[2;36m                   \u001b[0m\u001b[2;36m \u001b[0m\u001b[31mWARNING \u001b[0m C:\\Users\\dggua\\anaconda3\\envs\\test_env\\lib\\site-packages\\sklearn\\base. \u001b]8;id=236321;file://C:\\Users\\dggua\\anaconda3\\envs\\test_env\\lib\\warnings.py\u001b\\\u001b[2mwarnings.py\u001b[0m\u001b]8;;\u001b\\\u001b[2m:\u001b[0m\u001b]8;id=485376;file://C:\\Users\\dggua\\anaconda3\\envs\\test_env\\lib\\warnings.py#109\u001b\\\u001b[2m109\u001b[0m\u001b]8;;\u001b\\\n",
       "\u001b[2;36m                    \u001b[0m         py:\u001b[1;36m1351\u001b[0m: DataConversionWarning: A column-vector y was passed when a 1d \u001b[2m               \u001b[0m\n",
       "\u001b[2;36m                    \u001b[0m         array was expected. Please change the shape of y to \u001b[1m(\u001b[0mn_samples,\u001b[1m)\u001b[0m, for  \u001b[2m               \u001b[0m\n",
       "\u001b[2;36m                    \u001b[0m         example using \u001b[1;35mravel\u001b[0m\u001b[1m(\u001b[0m\u001b[1m)\u001b[0m.                                                 \u001b[2m               \u001b[0m\n",
       "\u001b[2;36m                    \u001b[0m           return \u001b[1;35mfit_method\u001b[0m\u001b[1m(\u001b[0mestimator, *args, **kwargs\u001b[1m)\u001b[0m                        \u001b[2m               \u001b[0m\n",
       "\u001b[2;36m                    \u001b[0m                                                                                \u001b[2m               \u001b[0m\n"
      ]
     },
     "metadata": {},
     "output_type": "display_data"
    },
    {
     "data": {
      "text/html": [
       "<pre style=\"white-space:pre;overflow-x:auto;line-height:normal;font-family:Menlo,'DejaVu Sans Mono',consolas,'Courier New',monospace\"><span style=\"color: #7fbfbf; text-decoration-color: #7fbfbf\">                    </span><span style=\"color: #800000; text-decoration-color: #800000\">WARNING </span> C:\\Users\\dggua\\anaconda3\\envs\\test_env\\lib\\site-packages\\sklearn\\base. <a href=\"file://C:\\Users\\dggua\\anaconda3\\envs\\test_env\\lib\\warnings.py\" target=\"_blank\"><span style=\"color: #7f7f7f; text-decoration-color: #7f7f7f\">warnings.py</span></a><span style=\"color: #7f7f7f; text-decoration-color: #7f7f7f\">:</span><a href=\"file://C:\\Users\\dggua\\anaconda3\\envs\\test_env\\lib\\warnings.py#109\" target=\"_blank\"><span style=\"color: #7f7f7f; text-decoration-color: #7f7f7f\">109</span></a>\n",
       "<span style=\"color: #7fbfbf; text-decoration-color: #7fbfbf\">                    </span>         py:<span style=\"color: #008080; text-decoration-color: #008080; font-weight: bold\">1351</span>: DataConversionWarning: A column-vector y was passed when a 1d <span style=\"color: #7f7f7f; text-decoration-color: #7f7f7f\">               </span>\n",
       "<span style=\"color: #7fbfbf; text-decoration-color: #7fbfbf\">                    </span>         array was expected. Please change the shape of y to <span style=\"font-weight: bold\">(</span>n_samples,<span style=\"font-weight: bold\">)</span>, for  <span style=\"color: #7f7f7f; text-decoration-color: #7f7f7f\">               </span>\n",
       "<span style=\"color: #7fbfbf; text-decoration-color: #7fbfbf\">                    </span>         example using <span style=\"color: #800080; text-decoration-color: #800080; font-weight: bold\">ravel</span><span style=\"font-weight: bold\">()</span>.                                                 <span style=\"color: #7f7f7f; text-decoration-color: #7f7f7f\">               </span>\n",
       "<span style=\"color: #7fbfbf; text-decoration-color: #7fbfbf\">                    </span>           return <span style=\"color: #800080; text-decoration-color: #800080; font-weight: bold\">fit_method</span><span style=\"font-weight: bold\">(</span>estimator, *args, **kwargs<span style=\"font-weight: bold\">)</span>                        <span style=\"color: #7f7f7f; text-decoration-color: #7f7f7f\">               </span>\n",
       "<span style=\"color: #7fbfbf; text-decoration-color: #7fbfbf\">                    </span>                                                                                <span style=\"color: #7f7f7f; text-decoration-color: #7f7f7f\">               </span>\n",
       "</pre>\n"
      ],
      "text/plain": [
       "\u001b[2;36m                   \u001b[0m\u001b[2;36m \u001b[0m\u001b[31mWARNING \u001b[0m C:\\Users\\dggua\\anaconda3\\envs\\test_env\\lib\\site-packages\\sklearn\\base. \u001b]8;id=192370;file://C:\\Users\\dggua\\anaconda3\\envs\\test_env\\lib\\warnings.py\u001b\\\u001b[2mwarnings.py\u001b[0m\u001b]8;;\u001b\\\u001b[2m:\u001b[0m\u001b]8;id=653795;file://C:\\Users\\dggua\\anaconda3\\envs\\test_env\\lib\\warnings.py#109\u001b\\\u001b[2m109\u001b[0m\u001b]8;;\u001b\\\n",
       "\u001b[2;36m                    \u001b[0m         py:\u001b[1;36m1351\u001b[0m: DataConversionWarning: A column-vector y was passed when a 1d \u001b[2m               \u001b[0m\n",
       "\u001b[2;36m                    \u001b[0m         array was expected. Please change the shape of y to \u001b[1m(\u001b[0mn_samples,\u001b[1m)\u001b[0m, for  \u001b[2m               \u001b[0m\n",
       "\u001b[2;36m                    \u001b[0m         example using \u001b[1;35mravel\u001b[0m\u001b[1m(\u001b[0m\u001b[1m)\u001b[0m.                                                 \u001b[2m               \u001b[0m\n",
       "\u001b[2;36m                    \u001b[0m           return \u001b[1;35mfit_method\u001b[0m\u001b[1m(\u001b[0mestimator, *args, **kwargs\u001b[1m)\u001b[0m                        \u001b[2m               \u001b[0m\n",
       "\u001b[2;36m                    \u001b[0m                                                                                \u001b[2m               \u001b[0m\n"
      ]
     },
     "metadata": {},
     "output_type": "display_data"
    },
    {
     "data": {
      "text/html": [
       "<pre style=\"white-space:pre;overflow-x:auto;line-height:normal;font-family:Menlo,'DejaVu Sans Mono',consolas,'Courier New',monospace\"><span style=\"color: #7fbfbf; text-decoration-color: #7fbfbf\">[06/22/24 16:18:08] </span><span style=\"color: #800000; text-decoration-color: #800000\">WARNING </span> C:\\Users\\dggua\\anaconda3\\envs\\test_env\\lib\\site-packages\\sklearn\\base. <a href=\"file://C:\\Users\\dggua\\anaconda3\\envs\\test_env\\lib\\warnings.py\" target=\"_blank\"><span style=\"color: #7f7f7f; text-decoration-color: #7f7f7f\">warnings.py</span></a><span style=\"color: #7f7f7f; text-decoration-color: #7f7f7f\">:</span><a href=\"file://C:\\Users\\dggua\\anaconda3\\envs\\test_env\\lib\\warnings.py#109\" target=\"_blank\"><span style=\"color: #7f7f7f; text-decoration-color: #7f7f7f\">109</span></a>\n",
       "<span style=\"color: #7fbfbf; text-decoration-color: #7fbfbf\">                    </span>         py:<span style=\"color: #008080; text-decoration-color: #008080; font-weight: bold\">1351</span>: DataConversionWarning: A column-vector y was passed when a 1d <span style=\"color: #7f7f7f; text-decoration-color: #7f7f7f\">               </span>\n",
       "<span style=\"color: #7fbfbf; text-decoration-color: #7fbfbf\">                    </span>         array was expected. Please change the shape of y to <span style=\"font-weight: bold\">(</span>n_samples,<span style=\"font-weight: bold\">)</span>, for  <span style=\"color: #7f7f7f; text-decoration-color: #7f7f7f\">               </span>\n",
       "<span style=\"color: #7fbfbf; text-decoration-color: #7fbfbf\">                    </span>         example using <span style=\"color: #800080; text-decoration-color: #800080; font-weight: bold\">ravel</span><span style=\"font-weight: bold\">()</span>.                                                 <span style=\"color: #7f7f7f; text-decoration-color: #7f7f7f\">               </span>\n",
       "<span style=\"color: #7fbfbf; text-decoration-color: #7fbfbf\">                    </span>           return <span style=\"color: #800080; text-decoration-color: #800080; font-weight: bold\">fit_method</span><span style=\"font-weight: bold\">(</span>estimator, *args, **kwargs<span style=\"font-weight: bold\">)</span>                        <span style=\"color: #7f7f7f; text-decoration-color: #7f7f7f\">               </span>\n",
       "<span style=\"color: #7fbfbf; text-decoration-color: #7fbfbf\">                    </span>                                                                                <span style=\"color: #7f7f7f; text-decoration-color: #7f7f7f\">               </span>\n",
       "</pre>\n"
      ],
      "text/plain": [
       "\u001b[2;36m[06/22/24 16:18:08]\u001b[0m\u001b[2;36m \u001b[0m\u001b[31mWARNING \u001b[0m C:\\Users\\dggua\\anaconda3\\envs\\test_env\\lib\\site-packages\\sklearn\\base. \u001b]8;id=45759;file://C:\\Users\\dggua\\anaconda3\\envs\\test_env\\lib\\warnings.py\u001b\\\u001b[2mwarnings.py\u001b[0m\u001b]8;;\u001b\\\u001b[2m:\u001b[0m\u001b]8;id=684363;file://C:\\Users\\dggua\\anaconda3\\envs\\test_env\\lib\\warnings.py#109\u001b\\\u001b[2m109\u001b[0m\u001b]8;;\u001b\\\n",
       "\u001b[2;36m                    \u001b[0m         py:\u001b[1;36m1351\u001b[0m: DataConversionWarning: A column-vector y was passed when a 1d \u001b[2m               \u001b[0m\n",
       "\u001b[2;36m                    \u001b[0m         array was expected. Please change the shape of y to \u001b[1m(\u001b[0mn_samples,\u001b[1m)\u001b[0m, for  \u001b[2m               \u001b[0m\n",
       "\u001b[2;36m                    \u001b[0m         example using \u001b[1;35mravel\u001b[0m\u001b[1m(\u001b[0m\u001b[1m)\u001b[0m.                                                 \u001b[2m               \u001b[0m\n",
       "\u001b[2;36m                    \u001b[0m           return \u001b[1;35mfit_method\u001b[0m\u001b[1m(\u001b[0mestimator, *args, **kwargs\u001b[1m)\u001b[0m                        \u001b[2m               \u001b[0m\n",
       "\u001b[2;36m                    \u001b[0m                                                                                \u001b[2m               \u001b[0m\n"
      ]
     },
     "metadata": {},
     "output_type": "display_data"
    },
    {
     "data": {
      "text/html": [
       "<pre style=\"white-space:pre;overflow-x:auto;line-height:normal;font-family:Menlo,'DejaVu Sans Mono',consolas,'Courier New',monospace\"><span style=\"color: #7fbfbf; text-decoration-color: #7fbfbf\">                    </span><span style=\"color: #800000; text-decoration-color: #800000\">WARNING </span> C:\\Users\\dggua\\anaconda3\\envs\\test_env\\lib\\site-packages\\sklearn\\base. <a href=\"file://C:\\Users\\dggua\\anaconda3\\envs\\test_env\\lib\\warnings.py\" target=\"_blank\"><span style=\"color: #7f7f7f; text-decoration-color: #7f7f7f\">warnings.py</span></a><span style=\"color: #7f7f7f; text-decoration-color: #7f7f7f\">:</span><a href=\"file://C:\\Users\\dggua\\anaconda3\\envs\\test_env\\lib\\warnings.py#109\" target=\"_blank\"><span style=\"color: #7f7f7f; text-decoration-color: #7f7f7f\">109</span></a>\n",
       "<span style=\"color: #7fbfbf; text-decoration-color: #7fbfbf\">                    </span>         py:<span style=\"color: #008080; text-decoration-color: #008080; font-weight: bold\">1351</span>: DataConversionWarning: A column-vector y was passed when a 1d <span style=\"color: #7f7f7f; text-decoration-color: #7f7f7f\">               </span>\n",
       "<span style=\"color: #7fbfbf; text-decoration-color: #7fbfbf\">                    </span>         array was expected. Please change the shape of y to <span style=\"font-weight: bold\">(</span>n_samples,<span style=\"font-weight: bold\">)</span>, for  <span style=\"color: #7f7f7f; text-decoration-color: #7f7f7f\">               </span>\n",
       "<span style=\"color: #7fbfbf; text-decoration-color: #7fbfbf\">                    </span>         example using <span style=\"color: #800080; text-decoration-color: #800080; font-weight: bold\">ravel</span><span style=\"font-weight: bold\">()</span>.                                                 <span style=\"color: #7f7f7f; text-decoration-color: #7f7f7f\">               </span>\n",
       "<span style=\"color: #7fbfbf; text-decoration-color: #7fbfbf\">                    </span>           return <span style=\"color: #800080; text-decoration-color: #800080; font-weight: bold\">fit_method</span><span style=\"font-weight: bold\">(</span>estimator, *args, **kwargs<span style=\"font-weight: bold\">)</span>                        <span style=\"color: #7f7f7f; text-decoration-color: #7f7f7f\">               </span>\n",
       "<span style=\"color: #7fbfbf; text-decoration-color: #7fbfbf\">                    </span>                                                                                <span style=\"color: #7f7f7f; text-decoration-color: #7f7f7f\">               </span>\n",
       "</pre>\n"
      ],
      "text/plain": [
       "\u001b[2;36m                   \u001b[0m\u001b[2;36m \u001b[0m\u001b[31mWARNING \u001b[0m C:\\Users\\dggua\\anaconda3\\envs\\test_env\\lib\\site-packages\\sklearn\\base. \u001b]8;id=266819;file://C:\\Users\\dggua\\anaconda3\\envs\\test_env\\lib\\warnings.py\u001b\\\u001b[2mwarnings.py\u001b[0m\u001b]8;;\u001b\\\u001b[2m:\u001b[0m\u001b]8;id=994118;file://C:\\Users\\dggua\\anaconda3\\envs\\test_env\\lib\\warnings.py#109\u001b\\\u001b[2m109\u001b[0m\u001b]8;;\u001b\\\n",
       "\u001b[2;36m                    \u001b[0m         py:\u001b[1;36m1351\u001b[0m: DataConversionWarning: A column-vector y was passed when a 1d \u001b[2m               \u001b[0m\n",
       "\u001b[2;36m                    \u001b[0m         array was expected. Please change the shape of y to \u001b[1m(\u001b[0mn_samples,\u001b[1m)\u001b[0m, for  \u001b[2m               \u001b[0m\n",
       "\u001b[2;36m                    \u001b[0m         example using \u001b[1;35mravel\u001b[0m\u001b[1m(\u001b[0m\u001b[1m)\u001b[0m.                                                 \u001b[2m               \u001b[0m\n",
       "\u001b[2;36m                    \u001b[0m           return \u001b[1;35mfit_method\u001b[0m\u001b[1m(\u001b[0mestimator, *args, **kwargs\u001b[1m)\u001b[0m                        \u001b[2m               \u001b[0m\n",
       "\u001b[2;36m                    \u001b[0m                                                                                \u001b[2m               \u001b[0m\n"
      ]
     },
     "metadata": {},
     "output_type": "display_data"
    },
    {
     "data": {
      "text/html": [
       "<pre style=\"white-space:pre;overflow-x:auto;line-height:normal;font-family:Menlo,'DejaVu Sans Mono',consolas,'Courier New',monospace\"><span style=\"color: #7fbfbf; text-decoration-color: #7fbfbf\">                    </span><span style=\"color: #800000; text-decoration-color: #800000\">WARNING </span> C:\\Users\\dggua\\anaconda3\\envs\\test_env\\lib\\site-packages\\sklearn\\base. <a href=\"file://C:\\Users\\dggua\\anaconda3\\envs\\test_env\\lib\\warnings.py\" target=\"_blank\"><span style=\"color: #7f7f7f; text-decoration-color: #7f7f7f\">warnings.py</span></a><span style=\"color: #7f7f7f; text-decoration-color: #7f7f7f\">:</span><a href=\"file://C:\\Users\\dggua\\anaconda3\\envs\\test_env\\lib\\warnings.py#109\" target=\"_blank\"><span style=\"color: #7f7f7f; text-decoration-color: #7f7f7f\">109</span></a>\n",
       "<span style=\"color: #7fbfbf; text-decoration-color: #7fbfbf\">                    </span>         py:<span style=\"color: #008080; text-decoration-color: #008080; font-weight: bold\">1351</span>: DataConversionWarning: A column-vector y was passed when a 1d <span style=\"color: #7f7f7f; text-decoration-color: #7f7f7f\">               </span>\n",
       "<span style=\"color: #7fbfbf; text-decoration-color: #7fbfbf\">                    </span>         array was expected. Please change the shape of y to <span style=\"font-weight: bold\">(</span>n_samples,<span style=\"font-weight: bold\">)</span>, for  <span style=\"color: #7f7f7f; text-decoration-color: #7f7f7f\">               </span>\n",
       "<span style=\"color: #7fbfbf; text-decoration-color: #7fbfbf\">                    </span>         example using <span style=\"color: #800080; text-decoration-color: #800080; font-weight: bold\">ravel</span><span style=\"font-weight: bold\">()</span>.                                                 <span style=\"color: #7f7f7f; text-decoration-color: #7f7f7f\">               </span>\n",
       "<span style=\"color: #7fbfbf; text-decoration-color: #7fbfbf\">                    </span>           return <span style=\"color: #800080; text-decoration-color: #800080; font-weight: bold\">fit_method</span><span style=\"font-weight: bold\">(</span>estimator, *args, **kwargs<span style=\"font-weight: bold\">)</span>                        <span style=\"color: #7f7f7f; text-decoration-color: #7f7f7f\">               </span>\n",
       "<span style=\"color: #7fbfbf; text-decoration-color: #7fbfbf\">                    </span>                                                                                <span style=\"color: #7f7f7f; text-decoration-color: #7f7f7f\">               </span>\n",
       "</pre>\n"
      ],
      "text/plain": [
       "\u001b[2;36m                   \u001b[0m\u001b[2;36m \u001b[0m\u001b[31mWARNING \u001b[0m C:\\Users\\dggua\\anaconda3\\envs\\test_env\\lib\\site-packages\\sklearn\\base. \u001b]8;id=704811;file://C:\\Users\\dggua\\anaconda3\\envs\\test_env\\lib\\warnings.py\u001b\\\u001b[2mwarnings.py\u001b[0m\u001b]8;;\u001b\\\u001b[2m:\u001b[0m\u001b]8;id=184838;file://C:\\Users\\dggua\\anaconda3\\envs\\test_env\\lib\\warnings.py#109\u001b\\\u001b[2m109\u001b[0m\u001b]8;;\u001b\\\n",
       "\u001b[2;36m                    \u001b[0m         py:\u001b[1;36m1351\u001b[0m: DataConversionWarning: A column-vector y was passed when a 1d \u001b[2m               \u001b[0m\n",
       "\u001b[2;36m                    \u001b[0m         array was expected. Please change the shape of y to \u001b[1m(\u001b[0mn_samples,\u001b[1m)\u001b[0m, for  \u001b[2m               \u001b[0m\n",
       "\u001b[2;36m                    \u001b[0m         example using \u001b[1;35mravel\u001b[0m\u001b[1m(\u001b[0m\u001b[1m)\u001b[0m.                                                 \u001b[2m               \u001b[0m\n",
       "\u001b[2;36m                    \u001b[0m           return \u001b[1;35mfit_method\u001b[0m\u001b[1m(\u001b[0mestimator, *args, **kwargs\u001b[1m)\u001b[0m                        \u001b[2m               \u001b[0m\n",
       "\u001b[2;36m                    \u001b[0m                                                                                \u001b[2m               \u001b[0m\n"
      ]
     },
     "metadata": {},
     "output_type": "display_data"
    },
    {
     "data": {
      "text/html": [
       "<pre style=\"white-space:pre;overflow-x:auto;line-height:normal;font-family:Menlo,'DejaVu Sans Mono',consolas,'Courier New',monospace\"><span style=\"color: #7fbfbf; text-decoration-color: #7fbfbf\">                    </span><span style=\"color: #800000; text-decoration-color: #800000\">WARNING </span> C:\\Users\\dggua\\anaconda3\\envs\\test_env\\lib\\site-packages\\sklearn\\base. <a href=\"file://C:\\Users\\dggua\\anaconda3\\envs\\test_env\\lib\\warnings.py\" target=\"_blank\"><span style=\"color: #7f7f7f; text-decoration-color: #7f7f7f\">warnings.py</span></a><span style=\"color: #7f7f7f; text-decoration-color: #7f7f7f\">:</span><a href=\"file://C:\\Users\\dggua\\anaconda3\\envs\\test_env\\lib\\warnings.py#109\" target=\"_blank\"><span style=\"color: #7f7f7f; text-decoration-color: #7f7f7f\">109</span></a>\n",
       "<span style=\"color: #7fbfbf; text-decoration-color: #7fbfbf\">                    </span>         py:<span style=\"color: #008080; text-decoration-color: #008080; font-weight: bold\">1351</span>: DataConversionWarning: A column-vector y was passed when a 1d <span style=\"color: #7f7f7f; text-decoration-color: #7f7f7f\">               </span>\n",
       "<span style=\"color: #7fbfbf; text-decoration-color: #7fbfbf\">                    </span>         array was expected. Please change the shape of y to <span style=\"font-weight: bold\">(</span>n_samples,<span style=\"font-weight: bold\">)</span>, for  <span style=\"color: #7f7f7f; text-decoration-color: #7f7f7f\">               </span>\n",
       "<span style=\"color: #7fbfbf; text-decoration-color: #7fbfbf\">                    </span>         example using <span style=\"color: #800080; text-decoration-color: #800080; font-weight: bold\">ravel</span><span style=\"font-weight: bold\">()</span>.                                                 <span style=\"color: #7f7f7f; text-decoration-color: #7f7f7f\">               </span>\n",
       "<span style=\"color: #7fbfbf; text-decoration-color: #7fbfbf\">                    </span>           return <span style=\"color: #800080; text-decoration-color: #800080; font-weight: bold\">fit_method</span><span style=\"font-weight: bold\">(</span>estimator, *args, **kwargs<span style=\"font-weight: bold\">)</span>                        <span style=\"color: #7f7f7f; text-decoration-color: #7f7f7f\">               </span>\n",
       "<span style=\"color: #7fbfbf; text-decoration-color: #7fbfbf\">                    </span>                                                                                <span style=\"color: #7f7f7f; text-decoration-color: #7f7f7f\">               </span>\n",
       "</pre>\n"
      ],
      "text/plain": [
       "\u001b[2;36m                   \u001b[0m\u001b[2;36m \u001b[0m\u001b[31mWARNING \u001b[0m C:\\Users\\dggua\\anaconda3\\envs\\test_env\\lib\\site-packages\\sklearn\\base. \u001b]8;id=524530;file://C:\\Users\\dggua\\anaconda3\\envs\\test_env\\lib\\warnings.py\u001b\\\u001b[2mwarnings.py\u001b[0m\u001b]8;;\u001b\\\u001b[2m:\u001b[0m\u001b]8;id=26943;file://C:\\Users\\dggua\\anaconda3\\envs\\test_env\\lib\\warnings.py#109\u001b\\\u001b[2m109\u001b[0m\u001b]8;;\u001b\\\n",
       "\u001b[2;36m                    \u001b[0m         py:\u001b[1;36m1351\u001b[0m: DataConversionWarning: A column-vector y was passed when a 1d \u001b[2m               \u001b[0m\n",
       "\u001b[2;36m                    \u001b[0m         array was expected. Please change the shape of y to \u001b[1m(\u001b[0mn_samples,\u001b[1m)\u001b[0m, for  \u001b[2m               \u001b[0m\n",
       "\u001b[2;36m                    \u001b[0m         example using \u001b[1;35mravel\u001b[0m\u001b[1m(\u001b[0m\u001b[1m)\u001b[0m.                                                 \u001b[2m               \u001b[0m\n",
       "\u001b[2;36m                    \u001b[0m           return \u001b[1;35mfit_method\u001b[0m\u001b[1m(\u001b[0mestimator, *args, **kwargs\u001b[1m)\u001b[0m                        \u001b[2m               \u001b[0m\n",
       "\u001b[2;36m                    \u001b[0m                                                                                \u001b[2m               \u001b[0m\n"
      ]
     },
     "metadata": {},
     "output_type": "display_data"
    },
    {
     "data": {
      "text/html": [
       "<pre style=\"white-space:pre;overflow-x:auto;line-height:normal;font-family:Menlo,'DejaVu Sans Mono',consolas,'Courier New',monospace\"><span style=\"color: #7fbfbf; text-decoration-color: #7fbfbf\">                    </span><span style=\"color: #800000; text-decoration-color: #800000\">WARNING </span> C:\\Users\\dggua\\anaconda3\\envs\\test_env\\lib\\site-packages\\sklearn\\base. <a href=\"file://C:\\Users\\dggua\\anaconda3\\envs\\test_env\\lib\\warnings.py\" target=\"_blank\"><span style=\"color: #7f7f7f; text-decoration-color: #7f7f7f\">warnings.py</span></a><span style=\"color: #7f7f7f; text-decoration-color: #7f7f7f\">:</span><a href=\"file://C:\\Users\\dggua\\anaconda3\\envs\\test_env\\lib\\warnings.py#109\" target=\"_blank\"><span style=\"color: #7f7f7f; text-decoration-color: #7f7f7f\">109</span></a>\n",
       "<span style=\"color: #7fbfbf; text-decoration-color: #7fbfbf\">                    </span>         py:<span style=\"color: #008080; text-decoration-color: #008080; font-weight: bold\">1351</span>: DataConversionWarning: A column-vector y was passed when a 1d <span style=\"color: #7f7f7f; text-decoration-color: #7f7f7f\">               </span>\n",
       "<span style=\"color: #7fbfbf; text-decoration-color: #7fbfbf\">                    </span>         array was expected. Please change the shape of y to <span style=\"font-weight: bold\">(</span>n_samples,<span style=\"font-weight: bold\">)</span>, for  <span style=\"color: #7f7f7f; text-decoration-color: #7f7f7f\">               </span>\n",
       "<span style=\"color: #7fbfbf; text-decoration-color: #7fbfbf\">                    </span>         example using <span style=\"color: #800080; text-decoration-color: #800080; font-weight: bold\">ravel</span><span style=\"font-weight: bold\">()</span>.                                                 <span style=\"color: #7f7f7f; text-decoration-color: #7f7f7f\">               </span>\n",
       "<span style=\"color: #7fbfbf; text-decoration-color: #7fbfbf\">                    </span>           return <span style=\"color: #800080; text-decoration-color: #800080; font-weight: bold\">fit_method</span><span style=\"font-weight: bold\">(</span>estimator, *args, **kwargs<span style=\"font-weight: bold\">)</span>                        <span style=\"color: #7f7f7f; text-decoration-color: #7f7f7f\">               </span>\n",
       "<span style=\"color: #7fbfbf; text-decoration-color: #7fbfbf\">                    </span>                                                                                <span style=\"color: #7f7f7f; text-decoration-color: #7f7f7f\">               </span>\n",
       "</pre>\n"
      ],
      "text/plain": [
       "\u001b[2;36m                   \u001b[0m\u001b[2;36m \u001b[0m\u001b[31mWARNING \u001b[0m C:\\Users\\dggua\\anaconda3\\envs\\test_env\\lib\\site-packages\\sklearn\\base. \u001b]8;id=55406;file://C:\\Users\\dggua\\anaconda3\\envs\\test_env\\lib\\warnings.py\u001b\\\u001b[2mwarnings.py\u001b[0m\u001b]8;;\u001b\\\u001b[2m:\u001b[0m\u001b]8;id=403999;file://C:\\Users\\dggua\\anaconda3\\envs\\test_env\\lib\\warnings.py#109\u001b\\\u001b[2m109\u001b[0m\u001b]8;;\u001b\\\n",
       "\u001b[2;36m                    \u001b[0m         py:\u001b[1;36m1351\u001b[0m: DataConversionWarning: A column-vector y was passed when a 1d \u001b[2m               \u001b[0m\n",
       "\u001b[2;36m                    \u001b[0m         array was expected. Please change the shape of y to \u001b[1m(\u001b[0mn_samples,\u001b[1m)\u001b[0m, for  \u001b[2m               \u001b[0m\n",
       "\u001b[2;36m                    \u001b[0m         example using \u001b[1;35mravel\u001b[0m\u001b[1m(\u001b[0m\u001b[1m)\u001b[0m.                                                 \u001b[2m               \u001b[0m\n",
       "\u001b[2;36m                    \u001b[0m           return \u001b[1;35mfit_method\u001b[0m\u001b[1m(\u001b[0mestimator, *args, **kwargs\u001b[1m)\u001b[0m                        \u001b[2m               \u001b[0m\n",
       "\u001b[2;36m                    \u001b[0m                                                                                \u001b[2m               \u001b[0m\n"
      ]
     },
     "metadata": {},
     "output_type": "display_data"
    },
    {
     "data": {
      "text/html": [
       "<pre style=\"white-space:pre;overflow-x:auto;line-height:normal;font-family:Menlo,'DejaVu Sans Mono',consolas,'Courier New',monospace\"><span style=\"color: #7fbfbf; text-decoration-color: #7fbfbf\">                    </span><span style=\"color: #800000; text-decoration-color: #800000\">WARNING </span> C:\\Users\\dggua\\anaconda3\\envs\\test_env\\lib\\site-packages\\sklearn\\base. <a href=\"file://C:\\Users\\dggua\\anaconda3\\envs\\test_env\\lib\\warnings.py\" target=\"_blank\"><span style=\"color: #7f7f7f; text-decoration-color: #7f7f7f\">warnings.py</span></a><span style=\"color: #7f7f7f; text-decoration-color: #7f7f7f\">:</span><a href=\"file://C:\\Users\\dggua\\anaconda3\\envs\\test_env\\lib\\warnings.py#109\" target=\"_blank\"><span style=\"color: #7f7f7f; text-decoration-color: #7f7f7f\">109</span></a>\n",
       "<span style=\"color: #7fbfbf; text-decoration-color: #7fbfbf\">                    </span>         py:<span style=\"color: #008080; text-decoration-color: #008080; font-weight: bold\">1351</span>: DataConversionWarning: A column-vector y was passed when a 1d <span style=\"color: #7f7f7f; text-decoration-color: #7f7f7f\">               </span>\n",
       "<span style=\"color: #7fbfbf; text-decoration-color: #7fbfbf\">                    </span>         array was expected. Please change the shape of y to <span style=\"font-weight: bold\">(</span>n_samples,<span style=\"font-weight: bold\">)</span>, for  <span style=\"color: #7f7f7f; text-decoration-color: #7f7f7f\">               </span>\n",
       "<span style=\"color: #7fbfbf; text-decoration-color: #7fbfbf\">                    </span>         example using <span style=\"color: #800080; text-decoration-color: #800080; font-weight: bold\">ravel</span><span style=\"font-weight: bold\">()</span>.                                                 <span style=\"color: #7f7f7f; text-decoration-color: #7f7f7f\">               </span>\n",
       "<span style=\"color: #7fbfbf; text-decoration-color: #7fbfbf\">                    </span>           return <span style=\"color: #800080; text-decoration-color: #800080; font-weight: bold\">fit_method</span><span style=\"font-weight: bold\">(</span>estimator, *args, **kwargs<span style=\"font-weight: bold\">)</span>                        <span style=\"color: #7f7f7f; text-decoration-color: #7f7f7f\">               </span>\n",
       "<span style=\"color: #7fbfbf; text-decoration-color: #7fbfbf\">                    </span>                                                                                <span style=\"color: #7f7f7f; text-decoration-color: #7f7f7f\">               </span>\n",
       "</pre>\n"
      ],
      "text/plain": [
       "\u001b[2;36m                   \u001b[0m\u001b[2;36m \u001b[0m\u001b[31mWARNING \u001b[0m C:\\Users\\dggua\\anaconda3\\envs\\test_env\\lib\\site-packages\\sklearn\\base. \u001b]8;id=781007;file://C:\\Users\\dggua\\anaconda3\\envs\\test_env\\lib\\warnings.py\u001b\\\u001b[2mwarnings.py\u001b[0m\u001b]8;;\u001b\\\u001b[2m:\u001b[0m\u001b]8;id=372776;file://C:\\Users\\dggua\\anaconda3\\envs\\test_env\\lib\\warnings.py#109\u001b\\\u001b[2m109\u001b[0m\u001b]8;;\u001b\\\n",
       "\u001b[2;36m                    \u001b[0m         py:\u001b[1;36m1351\u001b[0m: DataConversionWarning: A column-vector y was passed when a 1d \u001b[2m               \u001b[0m\n",
       "\u001b[2;36m                    \u001b[0m         array was expected. Please change the shape of y to \u001b[1m(\u001b[0mn_samples,\u001b[1m)\u001b[0m, for  \u001b[2m               \u001b[0m\n",
       "\u001b[2;36m                    \u001b[0m         example using \u001b[1;35mravel\u001b[0m\u001b[1m(\u001b[0m\u001b[1m)\u001b[0m.                                                 \u001b[2m               \u001b[0m\n",
       "\u001b[2;36m                    \u001b[0m           return \u001b[1;35mfit_method\u001b[0m\u001b[1m(\u001b[0mestimator, *args, **kwargs\u001b[1m)\u001b[0m                        \u001b[2m               \u001b[0m\n",
       "\u001b[2;36m                    \u001b[0m                                                                                \u001b[2m               \u001b[0m\n"
      ]
     },
     "metadata": {},
     "output_type": "display_data"
    },
    {
     "data": {
      "text/html": [
       "<pre style=\"white-space:pre;overflow-x:auto;line-height:normal;font-family:Menlo,'DejaVu Sans Mono',consolas,'Courier New',monospace\"><span style=\"color: #7fbfbf; text-decoration-color: #7fbfbf\">[06/22/24 16:18:09] </span><span style=\"color: #800000; text-decoration-color: #800000\">WARNING </span> C:\\Users\\dggua\\anaconda3\\envs\\test_env\\lib\\site-packages\\sklearn\\base. <a href=\"file://C:\\Users\\dggua\\anaconda3\\envs\\test_env\\lib\\warnings.py\" target=\"_blank\"><span style=\"color: #7f7f7f; text-decoration-color: #7f7f7f\">warnings.py</span></a><span style=\"color: #7f7f7f; text-decoration-color: #7f7f7f\">:</span><a href=\"file://C:\\Users\\dggua\\anaconda3\\envs\\test_env\\lib\\warnings.py#109\" target=\"_blank\"><span style=\"color: #7f7f7f; text-decoration-color: #7f7f7f\">109</span></a>\n",
       "<span style=\"color: #7fbfbf; text-decoration-color: #7fbfbf\">                    </span>         py:<span style=\"color: #008080; text-decoration-color: #008080; font-weight: bold\">1351</span>: DataConversionWarning: A column-vector y was passed when a 1d <span style=\"color: #7f7f7f; text-decoration-color: #7f7f7f\">               </span>\n",
       "<span style=\"color: #7fbfbf; text-decoration-color: #7fbfbf\">                    </span>         array was expected. Please change the shape of y to <span style=\"font-weight: bold\">(</span>n_samples,<span style=\"font-weight: bold\">)</span>, for  <span style=\"color: #7f7f7f; text-decoration-color: #7f7f7f\">               </span>\n",
       "<span style=\"color: #7fbfbf; text-decoration-color: #7fbfbf\">                    </span>         example using <span style=\"color: #800080; text-decoration-color: #800080; font-weight: bold\">ravel</span><span style=\"font-weight: bold\">()</span>.                                                 <span style=\"color: #7f7f7f; text-decoration-color: #7f7f7f\">               </span>\n",
       "<span style=\"color: #7fbfbf; text-decoration-color: #7fbfbf\">                    </span>           return <span style=\"color: #800080; text-decoration-color: #800080; font-weight: bold\">fit_method</span><span style=\"font-weight: bold\">(</span>estimator, *args, **kwargs<span style=\"font-weight: bold\">)</span>                        <span style=\"color: #7f7f7f; text-decoration-color: #7f7f7f\">               </span>\n",
       "<span style=\"color: #7fbfbf; text-decoration-color: #7fbfbf\">                    </span>                                                                                <span style=\"color: #7f7f7f; text-decoration-color: #7f7f7f\">               </span>\n",
       "</pre>\n"
      ],
      "text/plain": [
       "\u001b[2;36m[06/22/24 16:18:09]\u001b[0m\u001b[2;36m \u001b[0m\u001b[31mWARNING \u001b[0m C:\\Users\\dggua\\anaconda3\\envs\\test_env\\lib\\site-packages\\sklearn\\base. \u001b]8;id=399555;file://C:\\Users\\dggua\\anaconda3\\envs\\test_env\\lib\\warnings.py\u001b\\\u001b[2mwarnings.py\u001b[0m\u001b]8;;\u001b\\\u001b[2m:\u001b[0m\u001b]8;id=589163;file://C:\\Users\\dggua\\anaconda3\\envs\\test_env\\lib\\warnings.py#109\u001b\\\u001b[2m109\u001b[0m\u001b]8;;\u001b\\\n",
       "\u001b[2;36m                    \u001b[0m         py:\u001b[1;36m1351\u001b[0m: DataConversionWarning: A column-vector y was passed when a 1d \u001b[2m               \u001b[0m\n",
       "\u001b[2;36m                    \u001b[0m         array was expected. Please change the shape of y to \u001b[1m(\u001b[0mn_samples,\u001b[1m)\u001b[0m, for  \u001b[2m               \u001b[0m\n",
       "\u001b[2;36m                    \u001b[0m         example using \u001b[1;35mravel\u001b[0m\u001b[1m(\u001b[0m\u001b[1m)\u001b[0m.                                                 \u001b[2m               \u001b[0m\n",
       "\u001b[2;36m                    \u001b[0m           return \u001b[1;35mfit_method\u001b[0m\u001b[1m(\u001b[0mestimator, *args, **kwargs\u001b[1m)\u001b[0m                        \u001b[2m               \u001b[0m\n",
       "\u001b[2;36m                    \u001b[0m                                                                                \u001b[2m               \u001b[0m\n"
      ]
     },
     "metadata": {},
     "output_type": "display_data"
    },
    {
     "data": {
      "text/html": [
       "<pre style=\"white-space:pre;overflow-x:auto;line-height:normal;font-family:Menlo,'DejaVu Sans Mono',consolas,'Courier New',monospace\"><span style=\"color: #7fbfbf; text-decoration-color: #7fbfbf\">                    </span><span style=\"color: #800000; text-decoration-color: #800000\">WARNING </span> C:\\Users\\dggua\\anaconda3\\envs\\test_env\\lib\\site-packages\\sklearn\\base. <a href=\"file://C:\\Users\\dggua\\anaconda3\\envs\\test_env\\lib\\warnings.py\" target=\"_blank\"><span style=\"color: #7f7f7f; text-decoration-color: #7f7f7f\">warnings.py</span></a><span style=\"color: #7f7f7f; text-decoration-color: #7f7f7f\">:</span><a href=\"file://C:\\Users\\dggua\\anaconda3\\envs\\test_env\\lib\\warnings.py#109\" target=\"_blank\"><span style=\"color: #7f7f7f; text-decoration-color: #7f7f7f\">109</span></a>\n",
       "<span style=\"color: #7fbfbf; text-decoration-color: #7fbfbf\">                    </span>         py:<span style=\"color: #008080; text-decoration-color: #008080; font-weight: bold\">1351</span>: DataConversionWarning: A column-vector y was passed when a 1d <span style=\"color: #7f7f7f; text-decoration-color: #7f7f7f\">               </span>\n",
       "<span style=\"color: #7fbfbf; text-decoration-color: #7fbfbf\">                    </span>         array was expected. Please change the shape of y to <span style=\"font-weight: bold\">(</span>n_samples,<span style=\"font-weight: bold\">)</span>, for  <span style=\"color: #7f7f7f; text-decoration-color: #7f7f7f\">               </span>\n",
       "<span style=\"color: #7fbfbf; text-decoration-color: #7fbfbf\">                    </span>         example using <span style=\"color: #800080; text-decoration-color: #800080; font-weight: bold\">ravel</span><span style=\"font-weight: bold\">()</span>.                                                 <span style=\"color: #7f7f7f; text-decoration-color: #7f7f7f\">               </span>\n",
       "<span style=\"color: #7fbfbf; text-decoration-color: #7fbfbf\">                    </span>           return <span style=\"color: #800080; text-decoration-color: #800080; font-weight: bold\">fit_method</span><span style=\"font-weight: bold\">(</span>estimator, *args, **kwargs<span style=\"font-weight: bold\">)</span>                        <span style=\"color: #7f7f7f; text-decoration-color: #7f7f7f\">               </span>\n",
       "<span style=\"color: #7fbfbf; text-decoration-color: #7fbfbf\">                    </span>                                                                                <span style=\"color: #7f7f7f; text-decoration-color: #7f7f7f\">               </span>\n",
       "</pre>\n"
      ],
      "text/plain": [
       "\u001b[2;36m                   \u001b[0m\u001b[2;36m \u001b[0m\u001b[31mWARNING \u001b[0m C:\\Users\\dggua\\anaconda3\\envs\\test_env\\lib\\site-packages\\sklearn\\base. \u001b]8;id=413103;file://C:\\Users\\dggua\\anaconda3\\envs\\test_env\\lib\\warnings.py\u001b\\\u001b[2mwarnings.py\u001b[0m\u001b]8;;\u001b\\\u001b[2m:\u001b[0m\u001b]8;id=253953;file://C:\\Users\\dggua\\anaconda3\\envs\\test_env\\lib\\warnings.py#109\u001b\\\u001b[2m109\u001b[0m\u001b]8;;\u001b\\\n",
       "\u001b[2;36m                    \u001b[0m         py:\u001b[1;36m1351\u001b[0m: DataConversionWarning: A column-vector y was passed when a 1d \u001b[2m               \u001b[0m\n",
       "\u001b[2;36m                    \u001b[0m         array was expected. Please change the shape of y to \u001b[1m(\u001b[0mn_samples,\u001b[1m)\u001b[0m, for  \u001b[2m               \u001b[0m\n",
       "\u001b[2;36m                    \u001b[0m         example using \u001b[1;35mravel\u001b[0m\u001b[1m(\u001b[0m\u001b[1m)\u001b[0m.                                                 \u001b[2m               \u001b[0m\n",
       "\u001b[2;36m                    \u001b[0m           return \u001b[1;35mfit_method\u001b[0m\u001b[1m(\u001b[0mestimator, *args, **kwargs\u001b[1m)\u001b[0m                        \u001b[2m               \u001b[0m\n",
       "\u001b[2;36m                    \u001b[0m                                                                                \u001b[2m               \u001b[0m\n"
      ]
     },
     "metadata": {},
     "output_type": "display_data"
    },
    {
     "data": {
      "text/html": [
       "<pre style=\"white-space:pre;overflow-x:auto;line-height:normal;font-family:Menlo,'DejaVu Sans Mono',consolas,'Courier New',monospace\"><span style=\"color: #7fbfbf; text-decoration-color: #7fbfbf\">                    </span><span style=\"color: #800000; text-decoration-color: #800000\">WARNING </span> C:\\Users\\dggua\\anaconda3\\envs\\test_env\\lib\\site-packages\\sklearn\\base. <a href=\"file://C:\\Users\\dggua\\anaconda3\\envs\\test_env\\lib\\warnings.py\" target=\"_blank\"><span style=\"color: #7f7f7f; text-decoration-color: #7f7f7f\">warnings.py</span></a><span style=\"color: #7f7f7f; text-decoration-color: #7f7f7f\">:</span><a href=\"file://C:\\Users\\dggua\\anaconda3\\envs\\test_env\\lib\\warnings.py#109\" target=\"_blank\"><span style=\"color: #7f7f7f; text-decoration-color: #7f7f7f\">109</span></a>\n",
       "<span style=\"color: #7fbfbf; text-decoration-color: #7fbfbf\">                    </span>         py:<span style=\"color: #008080; text-decoration-color: #008080; font-weight: bold\">1351</span>: DataConversionWarning: A column-vector y was passed when a 1d <span style=\"color: #7f7f7f; text-decoration-color: #7f7f7f\">               </span>\n",
       "<span style=\"color: #7fbfbf; text-decoration-color: #7fbfbf\">                    </span>         array was expected. Please change the shape of y to <span style=\"font-weight: bold\">(</span>n_samples,<span style=\"font-weight: bold\">)</span>, for  <span style=\"color: #7f7f7f; text-decoration-color: #7f7f7f\">               </span>\n",
       "<span style=\"color: #7fbfbf; text-decoration-color: #7fbfbf\">                    </span>         example using <span style=\"color: #800080; text-decoration-color: #800080; font-weight: bold\">ravel</span><span style=\"font-weight: bold\">()</span>.                                                 <span style=\"color: #7f7f7f; text-decoration-color: #7f7f7f\">               </span>\n",
       "<span style=\"color: #7fbfbf; text-decoration-color: #7fbfbf\">                    </span>           return <span style=\"color: #800080; text-decoration-color: #800080; font-weight: bold\">fit_method</span><span style=\"font-weight: bold\">(</span>estimator, *args, **kwargs<span style=\"font-weight: bold\">)</span>                        <span style=\"color: #7f7f7f; text-decoration-color: #7f7f7f\">               </span>\n",
       "<span style=\"color: #7fbfbf; text-decoration-color: #7fbfbf\">                    </span>                                                                                <span style=\"color: #7f7f7f; text-decoration-color: #7f7f7f\">               </span>\n",
       "</pre>\n"
      ],
      "text/plain": [
       "\u001b[2;36m                   \u001b[0m\u001b[2;36m \u001b[0m\u001b[31mWARNING \u001b[0m C:\\Users\\dggua\\anaconda3\\envs\\test_env\\lib\\site-packages\\sklearn\\base. \u001b]8;id=26990;file://C:\\Users\\dggua\\anaconda3\\envs\\test_env\\lib\\warnings.py\u001b\\\u001b[2mwarnings.py\u001b[0m\u001b]8;;\u001b\\\u001b[2m:\u001b[0m\u001b]8;id=405141;file://C:\\Users\\dggua\\anaconda3\\envs\\test_env\\lib\\warnings.py#109\u001b\\\u001b[2m109\u001b[0m\u001b]8;;\u001b\\\n",
       "\u001b[2;36m                    \u001b[0m         py:\u001b[1;36m1351\u001b[0m: DataConversionWarning: A column-vector y was passed when a 1d \u001b[2m               \u001b[0m\n",
       "\u001b[2;36m                    \u001b[0m         array was expected. Please change the shape of y to \u001b[1m(\u001b[0mn_samples,\u001b[1m)\u001b[0m, for  \u001b[2m               \u001b[0m\n",
       "\u001b[2;36m                    \u001b[0m         example using \u001b[1;35mravel\u001b[0m\u001b[1m(\u001b[0m\u001b[1m)\u001b[0m.                                                 \u001b[2m               \u001b[0m\n",
       "\u001b[2;36m                    \u001b[0m           return \u001b[1;35mfit_method\u001b[0m\u001b[1m(\u001b[0mestimator, *args, **kwargs\u001b[1m)\u001b[0m                        \u001b[2m               \u001b[0m\n",
       "\u001b[2;36m                    \u001b[0m                                                                                \u001b[2m               \u001b[0m\n"
      ]
     },
     "metadata": {},
     "output_type": "display_data"
    },
    {
     "data": {
      "text/html": [
       "<pre style=\"white-space:pre;overflow-x:auto;line-height:normal;font-family:Menlo,'DejaVu Sans Mono',consolas,'Courier New',monospace\"><span style=\"color: #7fbfbf; text-decoration-color: #7fbfbf\">                    </span><span style=\"color: #800000; text-decoration-color: #800000\">WARNING </span> C:\\Users\\dggua\\anaconda3\\envs\\test_env\\lib\\site-packages\\sklearn\\base. <a href=\"file://C:\\Users\\dggua\\anaconda3\\envs\\test_env\\lib\\warnings.py\" target=\"_blank\"><span style=\"color: #7f7f7f; text-decoration-color: #7f7f7f\">warnings.py</span></a><span style=\"color: #7f7f7f; text-decoration-color: #7f7f7f\">:</span><a href=\"file://C:\\Users\\dggua\\anaconda3\\envs\\test_env\\lib\\warnings.py#109\" target=\"_blank\"><span style=\"color: #7f7f7f; text-decoration-color: #7f7f7f\">109</span></a>\n",
       "<span style=\"color: #7fbfbf; text-decoration-color: #7fbfbf\">                    </span>         py:<span style=\"color: #008080; text-decoration-color: #008080; font-weight: bold\">1351</span>: DataConversionWarning: A column-vector y was passed when a 1d <span style=\"color: #7f7f7f; text-decoration-color: #7f7f7f\">               </span>\n",
       "<span style=\"color: #7fbfbf; text-decoration-color: #7fbfbf\">                    </span>         array was expected. Please change the shape of y to <span style=\"font-weight: bold\">(</span>n_samples,<span style=\"font-weight: bold\">)</span>, for  <span style=\"color: #7f7f7f; text-decoration-color: #7f7f7f\">               </span>\n",
       "<span style=\"color: #7fbfbf; text-decoration-color: #7fbfbf\">                    </span>         example using <span style=\"color: #800080; text-decoration-color: #800080; font-weight: bold\">ravel</span><span style=\"font-weight: bold\">()</span>.                                                 <span style=\"color: #7f7f7f; text-decoration-color: #7f7f7f\">               </span>\n",
       "<span style=\"color: #7fbfbf; text-decoration-color: #7fbfbf\">                    </span>           return <span style=\"color: #800080; text-decoration-color: #800080; font-weight: bold\">fit_method</span><span style=\"font-weight: bold\">(</span>estimator, *args, **kwargs<span style=\"font-weight: bold\">)</span>                        <span style=\"color: #7f7f7f; text-decoration-color: #7f7f7f\">               </span>\n",
       "<span style=\"color: #7fbfbf; text-decoration-color: #7fbfbf\">                    </span>                                                                                <span style=\"color: #7f7f7f; text-decoration-color: #7f7f7f\">               </span>\n",
       "</pre>\n"
      ],
      "text/plain": [
       "\u001b[2;36m                   \u001b[0m\u001b[2;36m \u001b[0m\u001b[31mWARNING \u001b[0m C:\\Users\\dggua\\anaconda3\\envs\\test_env\\lib\\site-packages\\sklearn\\base. \u001b]8;id=690956;file://C:\\Users\\dggua\\anaconda3\\envs\\test_env\\lib\\warnings.py\u001b\\\u001b[2mwarnings.py\u001b[0m\u001b]8;;\u001b\\\u001b[2m:\u001b[0m\u001b]8;id=20378;file://C:\\Users\\dggua\\anaconda3\\envs\\test_env\\lib\\warnings.py#109\u001b\\\u001b[2m109\u001b[0m\u001b]8;;\u001b\\\n",
       "\u001b[2;36m                    \u001b[0m         py:\u001b[1;36m1351\u001b[0m: DataConversionWarning: A column-vector y was passed when a 1d \u001b[2m               \u001b[0m\n",
       "\u001b[2;36m                    \u001b[0m         array was expected. Please change the shape of y to \u001b[1m(\u001b[0mn_samples,\u001b[1m)\u001b[0m, for  \u001b[2m               \u001b[0m\n",
       "\u001b[2;36m                    \u001b[0m         example using \u001b[1;35mravel\u001b[0m\u001b[1m(\u001b[0m\u001b[1m)\u001b[0m.                                                 \u001b[2m               \u001b[0m\n",
       "\u001b[2;36m                    \u001b[0m           return \u001b[1;35mfit_method\u001b[0m\u001b[1m(\u001b[0mestimator, *args, **kwargs\u001b[1m)\u001b[0m                        \u001b[2m               \u001b[0m\n",
       "\u001b[2;36m                    \u001b[0m                                                                                \u001b[2m               \u001b[0m\n"
      ]
     },
     "metadata": {},
     "output_type": "display_data"
    },
    {
     "data": {
      "text/html": [
       "<pre style=\"white-space:pre;overflow-x:auto;line-height:normal;font-family:Menlo,'DejaVu Sans Mono',consolas,'Courier New',monospace\"><span style=\"color: #7fbfbf; text-decoration-color: #7fbfbf\">                    </span><span style=\"color: #800000; text-decoration-color: #800000\">WARNING </span> C:\\Users\\dggua\\anaconda3\\envs\\test_env\\lib\\site-packages\\sklearn\\base. <a href=\"file://C:\\Users\\dggua\\anaconda3\\envs\\test_env\\lib\\warnings.py\" target=\"_blank\"><span style=\"color: #7f7f7f; text-decoration-color: #7f7f7f\">warnings.py</span></a><span style=\"color: #7f7f7f; text-decoration-color: #7f7f7f\">:</span><a href=\"file://C:\\Users\\dggua\\anaconda3\\envs\\test_env\\lib\\warnings.py#109\" target=\"_blank\"><span style=\"color: #7f7f7f; text-decoration-color: #7f7f7f\">109</span></a>\n",
       "<span style=\"color: #7fbfbf; text-decoration-color: #7fbfbf\">                    </span>         py:<span style=\"color: #008080; text-decoration-color: #008080; font-weight: bold\">1351</span>: DataConversionWarning: A column-vector y was passed when a 1d <span style=\"color: #7f7f7f; text-decoration-color: #7f7f7f\">               </span>\n",
       "<span style=\"color: #7fbfbf; text-decoration-color: #7fbfbf\">                    </span>         array was expected. Please change the shape of y to <span style=\"font-weight: bold\">(</span>n_samples,<span style=\"font-weight: bold\">)</span>, for  <span style=\"color: #7f7f7f; text-decoration-color: #7f7f7f\">               </span>\n",
       "<span style=\"color: #7fbfbf; text-decoration-color: #7fbfbf\">                    </span>         example using <span style=\"color: #800080; text-decoration-color: #800080; font-weight: bold\">ravel</span><span style=\"font-weight: bold\">()</span>.                                                 <span style=\"color: #7f7f7f; text-decoration-color: #7f7f7f\">               </span>\n",
       "<span style=\"color: #7fbfbf; text-decoration-color: #7fbfbf\">                    </span>           return <span style=\"color: #800080; text-decoration-color: #800080; font-weight: bold\">fit_method</span><span style=\"font-weight: bold\">(</span>estimator, *args, **kwargs<span style=\"font-weight: bold\">)</span>                        <span style=\"color: #7f7f7f; text-decoration-color: #7f7f7f\">               </span>\n",
       "<span style=\"color: #7fbfbf; text-decoration-color: #7fbfbf\">                    </span>                                                                                <span style=\"color: #7f7f7f; text-decoration-color: #7f7f7f\">               </span>\n",
       "</pre>\n"
      ],
      "text/plain": [
       "\u001b[2;36m                   \u001b[0m\u001b[2;36m \u001b[0m\u001b[31mWARNING \u001b[0m C:\\Users\\dggua\\anaconda3\\envs\\test_env\\lib\\site-packages\\sklearn\\base. \u001b]8;id=426071;file://C:\\Users\\dggua\\anaconda3\\envs\\test_env\\lib\\warnings.py\u001b\\\u001b[2mwarnings.py\u001b[0m\u001b]8;;\u001b\\\u001b[2m:\u001b[0m\u001b]8;id=249250;file://C:\\Users\\dggua\\anaconda3\\envs\\test_env\\lib\\warnings.py#109\u001b\\\u001b[2m109\u001b[0m\u001b]8;;\u001b\\\n",
       "\u001b[2;36m                    \u001b[0m         py:\u001b[1;36m1351\u001b[0m: DataConversionWarning: A column-vector y was passed when a 1d \u001b[2m               \u001b[0m\n",
       "\u001b[2;36m                    \u001b[0m         array was expected. Please change the shape of y to \u001b[1m(\u001b[0mn_samples,\u001b[1m)\u001b[0m, for  \u001b[2m               \u001b[0m\n",
       "\u001b[2;36m                    \u001b[0m         example using \u001b[1;35mravel\u001b[0m\u001b[1m(\u001b[0m\u001b[1m)\u001b[0m.                                                 \u001b[2m               \u001b[0m\n",
       "\u001b[2;36m                    \u001b[0m           return \u001b[1;35mfit_method\u001b[0m\u001b[1m(\u001b[0mestimator, *args, **kwargs\u001b[1m)\u001b[0m                        \u001b[2m               \u001b[0m\n",
       "\u001b[2;36m                    \u001b[0m                                                                                \u001b[2m               \u001b[0m\n"
      ]
     },
     "metadata": {},
     "output_type": "display_data"
    },
    {
     "data": {
      "text/html": [
       "<pre style=\"white-space:pre;overflow-x:auto;line-height:normal;font-family:Menlo,'DejaVu Sans Mono',consolas,'Courier New',monospace\"><span style=\"color: #7fbfbf; text-decoration-color: #7fbfbf\">                    </span><span style=\"color: #800000; text-decoration-color: #800000\">WARNING </span> C:\\Users\\dggua\\anaconda3\\envs\\test_env\\lib\\site-packages\\sklearn\\base. <a href=\"file://C:\\Users\\dggua\\anaconda3\\envs\\test_env\\lib\\warnings.py\" target=\"_blank\"><span style=\"color: #7f7f7f; text-decoration-color: #7f7f7f\">warnings.py</span></a><span style=\"color: #7f7f7f; text-decoration-color: #7f7f7f\">:</span><a href=\"file://C:\\Users\\dggua\\anaconda3\\envs\\test_env\\lib\\warnings.py#109\" target=\"_blank\"><span style=\"color: #7f7f7f; text-decoration-color: #7f7f7f\">109</span></a>\n",
       "<span style=\"color: #7fbfbf; text-decoration-color: #7fbfbf\">                    </span>         py:<span style=\"color: #008080; text-decoration-color: #008080; font-weight: bold\">1351</span>: DataConversionWarning: A column-vector y was passed when a 1d <span style=\"color: #7f7f7f; text-decoration-color: #7f7f7f\">               </span>\n",
       "<span style=\"color: #7fbfbf; text-decoration-color: #7fbfbf\">                    </span>         array was expected. Please change the shape of y to <span style=\"font-weight: bold\">(</span>n_samples,<span style=\"font-weight: bold\">)</span>, for  <span style=\"color: #7f7f7f; text-decoration-color: #7f7f7f\">               </span>\n",
       "<span style=\"color: #7fbfbf; text-decoration-color: #7fbfbf\">                    </span>         example using <span style=\"color: #800080; text-decoration-color: #800080; font-weight: bold\">ravel</span><span style=\"font-weight: bold\">()</span>.                                                 <span style=\"color: #7f7f7f; text-decoration-color: #7f7f7f\">               </span>\n",
       "<span style=\"color: #7fbfbf; text-decoration-color: #7fbfbf\">                    </span>           return <span style=\"color: #800080; text-decoration-color: #800080; font-weight: bold\">fit_method</span><span style=\"font-weight: bold\">(</span>estimator, *args, **kwargs<span style=\"font-weight: bold\">)</span>                        <span style=\"color: #7f7f7f; text-decoration-color: #7f7f7f\">               </span>\n",
       "<span style=\"color: #7fbfbf; text-decoration-color: #7fbfbf\">                    </span>                                                                                <span style=\"color: #7f7f7f; text-decoration-color: #7f7f7f\">               </span>\n",
       "</pre>\n"
      ],
      "text/plain": [
       "\u001b[2;36m                   \u001b[0m\u001b[2;36m \u001b[0m\u001b[31mWARNING \u001b[0m C:\\Users\\dggua\\anaconda3\\envs\\test_env\\lib\\site-packages\\sklearn\\base. \u001b]8;id=119879;file://C:\\Users\\dggua\\anaconda3\\envs\\test_env\\lib\\warnings.py\u001b\\\u001b[2mwarnings.py\u001b[0m\u001b]8;;\u001b\\\u001b[2m:\u001b[0m\u001b]8;id=875495;file://C:\\Users\\dggua\\anaconda3\\envs\\test_env\\lib\\warnings.py#109\u001b\\\u001b[2m109\u001b[0m\u001b]8;;\u001b\\\n",
       "\u001b[2;36m                    \u001b[0m         py:\u001b[1;36m1351\u001b[0m: DataConversionWarning: A column-vector y was passed when a 1d \u001b[2m               \u001b[0m\n",
       "\u001b[2;36m                    \u001b[0m         array was expected. Please change the shape of y to \u001b[1m(\u001b[0mn_samples,\u001b[1m)\u001b[0m, for  \u001b[2m               \u001b[0m\n",
       "\u001b[2;36m                    \u001b[0m         example using \u001b[1;35mravel\u001b[0m\u001b[1m(\u001b[0m\u001b[1m)\u001b[0m.                                                 \u001b[2m               \u001b[0m\n",
       "\u001b[2;36m                    \u001b[0m           return \u001b[1;35mfit_method\u001b[0m\u001b[1m(\u001b[0mestimator, *args, **kwargs\u001b[1m)\u001b[0m                        \u001b[2m               \u001b[0m\n",
       "\u001b[2;36m                    \u001b[0m                                                                                \u001b[2m               \u001b[0m\n"
      ]
     },
     "metadata": {},
     "output_type": "display_data"
    },
    {
     "data": {
      "text/html": [
       "<pre style=\"white-space:pre;overflow-x:auto;line-height:normal;font-family:Menlo,'DejaVu Sans Mono',consolas,'Courier New',monospace\"><span style=\"color: #7fbfbf; text-decoration-color: #7fbfbf\">                    </span><span style=\"color: #800000; text-decoration-color: #800000\">WARNING </span> C:\\Users\\dggua\\anaconda3\\envs\\test_env\\lib\\site-packages\\sklearn\\base. <a href=\"file://C:\\Users\\dggua\\anaconda3\\envs\\test_env\\lib\\warnings.py\" target=\"_blank\"><span style=\"color: #7f7f7f; text-decoration-color: #7f7f7f\">warnings.py</span></a><span style=\"color: #7f7f7f; text-decoration-color: #7f7f7f\">:</span><a href=\"file://C:\\Users\\dggua\\anaconda3\\envs\\test_env\\lib\\warnings.py#109\" target=\"_blank\"><span style=\"color: #7f7f7f; text-decoration-color: #7f7f7f\">109</span></a>\n",
       "<span style=\"color: #7fbfbf; text-decoration-color: #7fbfbf\">                    </span>         py:<span style=\"color: #008080; text-decoration-color: #008080; font-weight: bold\">1351</span>: DataConversionWarning: A column-vector y was passed when a 1d <span style=\"color: #7f7f7f; text-decoration-color: #7f7f7f\">               </span>\n",
       "<span style=\"color: #7fbfbf; text-decoration-color: #7fbfbf\">                    </span>         array was expected. Please change the shape of y to <span style=\"font-weight: bold\">(</span>n_samples,<span style=\"font-weight: bold\">)</span>, for  <span style=\"color: #7f7f7f; text-decoration-color: #7f7f7f\">               </span>\n",
       "<span style=\"color: #7fbfbf; text-decoration-color: #7fbfbf\">                    </span>         example using <span style=\"color: #800080; text-decoration-color: #800080; font-weight: bold\">ravel</span><span style=\"font-weight: bold\">()</span>.                                                 <span style=\"color: #7f7f7f; text-decoration-color: #7f7f7f\">               </span>\n",
       "<span style=\"color: #7fbfbf; text-decoration-color: #7fbfbf\">                    </span>           return <span style=\"color: #800080; text-decoration-color: #800080; font-weight: bold\">fit_method</span><span style=\"font-weight: bold\">(</span>estimator, *args, **kwargs<span style=\"font-weight: bold\">)</span>                        <span style=\"color: #7f7f7f; text-decoration-color: #7f7f7f\">               </span>\n",
       "<span style=\"color: #7fbfbf; text-decoration-color: #7fbfbf\">                    </span>                                                                                <span style=\"color: #7f7f7f; text-decoration-color: #7f7f7f\">               </span>\n",
       "</pre>\n"
      ],
      "text/plain": [
       "\u001b[2;36m                   \u001b[0m\u001b[2;36m \u001b[0m\u001b[31mWARNING \u001b[0m C:\\Users\\dggua\\anaconda3\\envs\\test_env\\lib\\site-packages\\sklearn\\base. \u001b]8;id=268784;file://C:\\Users\\dggua\\anaconda3\\envs\\test_env\\lib\\warnings.py\u001b\\\u001b[2mwarnings.py\u001b[0m\u001b]8;;\u001b\\\u001b[2m:\u001b[0m\u001b]8;id=123761;file://C:\\Users\\dggua\\anaconda3\\envs\\test_env\\lib\\warnings.py#109\u001b\\\u001b[2m109\u001b[0m\u001b]8;;\u001b\\\n",
       "\u001b[2;36m                    \u001b[0m         py:\u001b[1;36m1351\u001b[0m: DataConversionWarning: A column-vector y was passed when a 1d \u001b[2m               \u001b[0m\n",
       "\u001b[2;36m                    \u001b[0m         array was expected. Please change the shape of y to \u001b[1m(\u001b[0mn_samples,\u001b[1m)\u001b[0m, for  \u001b[2m               \u001b[0m\n",
       "\u001b[2;36m                    \u001b[0m         example using \u001b[1;35mravel\u001b[0m\u001b[1m(\u001b[0m\u001b[1m)\u001b[0m.                                                 \u001b[2m               \u001b[0m\n",
       "\u001b[2;36m                    \u001b[0m           return \u001b[1;35mfit_method\u001b[0m\u001b[1m(\u001b[0mestimator, *args, **kwargs\u001b[1m)\u001b[0m                        \u001b[2m               \u001b[0m\n",
       "\u001b[2;36m                    \u001b[0m                                                                                \u001b[2m               \u001b[0m\n"
      ]
     },
     "metadata": {},
     "output_type": "display_data"
    },
    {
     "data": {
      "text/html": [
       "<pre style=\"white-space:pre;overflow-x:auto;line-height:normal;font-family:Menlo,'DejaVu Sans Mono',consolas,'Courier New',monospace\"><span style=\"color: #7fbfbf; text-decoration-color: #7fbfbf\">                    </span><span style=\"color: #800000; text-decoration-color: #800000\">WARNING </span> C:\\Users\\dggua\\anaconda3\\envs\\test_env\\lib\\site-packages\\sklearn\\base. <a href=\"file://C:\\Users\\dggua\\anaconda3\\envs\\test_env\\lib\\warnings.py\" target=\"_blank\"><span style=\"color: #7f7f7f; text-decoration-color: #7f7f7f\">warnings.py</span></a><span style=\"color: #7f7f7f; text-decoration-color: #7f7f7f\">:</span><a href=\"file://C:\\Users\\dggua\\anaconda3\\envs\\test_env\\lib\\warnings.py#109\" target=\"_blank\"><span style=\"color: #7f7f7f; text-decoration-color: #7f7f7f\">109</span></a>\n",
       "<span style=\"color: #7fbfbf; text-decoration-color: #7fbfbf\">                    </span>         py:<span style=\"color: #008080; text-decoration-color: #008080; font-weight: bold\">1351</span>: DataConversionWarning: A column-vector y was passed when a 1d <span style=\"color: #7f7f7f; text-decoration-color: #7f7f7f\">               </span>\n",
       "<span style=\"color: #7fbfbf; text-decoration-color: #7fbfbf\">                    </span>         array was expected. Please change the shape of y to <span style=\"font-weight: bold\">(</span>n_samples,<span style=\"font-weight: bold\">)</span>, for  <span style=\"color: #7f7f7f; text-decoration-color: #7f7f7f\">               </span>\n",
       "<span style=\"color: #7fbfbf; text-decoration-color: #7fbfbf\">                    </span>         example using <span style=\"color: #800080; text-decoration-color: #800080; font-weight: bold\">ravel</span><span style=\"font-weight: bold\">()</span>.                                                 <span style=\"color: #7f7f7f; text-decoration-color: #7f7f7f\">               </span>\n",
       "<span style=\"color: #7fbfbf; text-decoration-color: #7fbfbf\">                    </span>           return <span style=\"color: #800080; text-decoration-color: #800080; font-weight: bold\">fit_method</span><span style=\"font-weight: bold\">(</span>estimator, *args, **kwargs<span style=\"font-weight: bold\">)</span>                        <span style=\"color: #7f7f7f; text-decoration-color: #7f7f7f\">               </span>\n",
       "<span style=\"color: #7fbfbf; text-decoration-color: #7fbfbf\">                    </span>                                                                                <span style=\"color: #7f7f7f; text-decoration-color: #7f7f7f\">               </span>\n",
       "</pre>\n"
      ],
      "text/plain": [
       "\u001b[2;36m                   \u001b[0m\u001b[2;36m \u001b[0m\u001b[31mWARNING \u001b[0m C:\\Users\\dggua\\anaconda3\\envs\\test_env\\lib\\site-packages\\sklearn\\base. \u001b]8;id=548565;file://C:\\Users\\dggua\\anaconda3\\envs\\test_env\\lib\\warnings.py\u001b\\\u001b[2mwarnings.py\u001b[0m\u001b]8;;\u001b\\\u001b[2m:\u001b[0m\u001b]8;id=218237;file://C:\\Users\\dggua\\anaconda3\\envs\\test_env\\lib\\warnings.py#109\u001b\\\u001b[2m109\u001b[0m\u001b]8;;\u001b\\\n",
       "\u001b[2;36m                    \u001b[0m         py:\u001b[1;36m1351\u001b[0m: DataConversionWarning: A column-vector y was passed when a 1d \u001b[2m               \u001b[0m\n",
       "\u001b[2;36m                    \u001b[0m         array was expected. Please change the shape of y to \u001b[1m(\u001b[0mn_samples,\u001b[1m)\u001b[0m, for  \u001b[2m               \u001b[0m\n",
       "\u001b[2;36m                    \u001b[0m         example using \u001b[1;35mravel\u001b[0m\u001b[1m(\u001b[0m\u001b[1m)\u001b[0m.                                                 \u001b[2m               \u001b[0m\n",
       "\u001b[2;36m                    \u001b[0m           return \u001b[1;35mfit_method\u001b[0m\u001b[1m(\u001b[0mestimator, *args, **kwargs\u001b[1m)\u001b[0m                        \u001b[2m               \u001b[0m\n",
       "\u001b[2;36m                    \u001b[0m                                                                                \u001b[2m               \u001b[0m\n"
      ]
     },
     "metadata": {},
     "output_type": "display_data"
    },
    {
     "data": {
      "text/html": [
       "<pre style=\"white-space:pre;overflow-x:auto;line-height:normal;font-family:Menlo,'DejaVu Sans Mono',consolas,'Courier New',monospace\"><span style=\"color: #7fbfbf; text-decoration-color: #7fbfbf\">                    </span><span style=\"color: #800000; text-decoration-color: #800000\">WARNING </span> C:\\Users\\dggua\\anaconda3\\envs\\test_env\\lib\\site-packages\\sklearn\\base. <a href=\"file://C:\\Users\\dggua\\anaconda3\\envs\\test_env\\lib\\warnings.py\" target=\"_blank\"><span style=\"color: #7f7f7f; text-decoration-color: #7f7f7f\">warnings.py</span></a><span style=\"color: #7f7f7f; text-decoration-color: #7f7f7f\">:</span><a href=\"file://C:\\Users\\dggua\\anaconda3\\envs\\test_env\\lib\\warnings.py#109\" target=\"_blank\"><span style=\"color: #7f7f7f; text-decoration-color: #7f7f7f\">109</span></a>\n",
       "<span style=\"color: #7fbfbf; text-decoration-color: #7fbfbf\">                    </span>         py:<span style=\"color: #008080; text-decoration-color: #008080; font-weight: bold\">1351</span>: DataConversionWarning: A column-vector y was passed when a 1d <span style=\"color: #7f7f7f; text-decoration-color: #7f7f7f\">               </span>\n",
       "<span style=\"color: #7fbfbf; text-decoration-color: #7fbfbf\">                    </span>         array was expected. Please change the shape of y to <span style=\"font-weight: bold\">(</span>n_samples,<span style=\"font-weight: bold\">)</span>, for  <span style=\"color: #7f7f7f; text-decoration-color: #7f7f7f\">               </span>\n",
       "<span style=\"color: #7fbfbf; text-decoration-color: #7fbfbf\">                    </span>         example using <span style=\"color: #800080; text-decoration-color: #800080; font-weight: bold\">ravel</span><span style=\"font-weight: bold\">()</span>.                                                 <span style=\"color: #7f7f7f; text-decoration-color: #7f7f7f\">               </span>\n",
       "<span style=\"color: #7fbfbf; text-decoration-color: #7fbfbf\">                    </span>           return <span style=\"color: #800080; text-decoration-color: #800080; font-weight: bold\">fit_method</span><span style=\"font-weight: bold\">(</span>estimator, *args, **kwargs<span style=\"font-weight: bold\">)</span>                        <span style=\"color: #7f7f7f; text-decoration-color: #7f7f7f\">               </span>\n",
       "<span style=\"color: #7fbfbf; text-decoration-color: #7fbfbf\">                    </span>                                                                                <span style=\"color: #7f7f7f; text-decoration-color: #7f7f7f\">               </span>\n",
       "</pre>\n"
      ],
      "text/plain": [
       "\u001b[2;36m                   \u001b[0m\u001b[2;36m \u001b[0m\u001b[31mWARNING \u001b[0m C:\\Users\\dggua\\anaconda3\\envs\\test_env\\lib\\site-packages\\sklearn\\base. \u001b]8;id=21560;file://C:\\Users\\dggua\\anaconda3\\envs\\test_env\\lib\\warnings.py\u001b\\\u001b[2mwarnings.py\u001b[0m\u001b]8;;\u001b\\\u001b[2m:\u001b[0m\u001b]8;id=95367;file://C:\\Users\\dggua\\anaconda3\\envs\\test_env\\lib\\warnings.py#109\u001b\\\u001b[2m109\u001b[0m\u001b]8;;\u001b\\\n",
       "\u001b[2;36m                    \u001b[0m         py:\u001b[1;36m1351\u001b[0m: DataConversionWarning: A column-vector y was passed when a 1d \u001b[2m               \u001b[0m\n",
       "\u001b[2;36m                    \u001b[0m         array was expected. Please change the shape of y to \u001b[1m(\u001b[0mn_samples,\u001b[1m)\u001b[0m, for  \u001b[2m               \u001b[0m\n",
       "\u001b[2;36m                    \u001b[0m         example using \u001b[1;35mravel\u001b[0m\u001b[1m(\u001b[0m\u001b[1m)\u001b[0m.                                                 \u001b[2m               \u001b[0m\n",
       "\u001b[2;36m                    \u001b[0m           return \u001b[1;35mfit_method\u001b[0m\u001b[1m(\u001b[0mestimator, *args, **kwargs\u001b[1m)\u001b[0m                        \u001b[2m               \u001b[0m\n",
       "\u001b[2;36m                    \u001b[0m                                                                                \u001b[2m               \u001b[0m\n"
      ]
     },
     "metadata": {},
     "output_type": "display_data"
    },
    {
     "data": {
      "text/html": [
       "<pre style=\"white-space:pre;overflow-x:auto;line-height:normal;font-family:Menlo,'DejaVu Sans Mono',consolas,'Courier New',monospace\"><span style=\"color: #7fbfbf; text-decoration-color: #7fbfbf\">                    </span><span style=\"color: #800000; text-decoration-color: #800000\">WARNING </span> C:\\Users\\dggua\\anaconda3\\envs\\test_env\\lib\\site-packages\\sklearn\\base. <a href=\"file://C:\\Users\\dggua\\anaconda3\\envs\\test_env\\lib\\warnings.py\" target=\"_blank\"><span style=\"color: #7f7f7f; text-decoration-color: #7f7f7f\">warnings.py</span></a><span style=\"color: #7f7f7f; text-decoration-color: #7f7f7f\">:</span><a href=\"file://C:\\Users\\dggua\\anaconda3\\envs\\test_env\\lib\\warnings.py#109\" target=\"_blank\"><span style=\"color: #7f7f7f; text-decoration-color: #7f7f7f\">109</span></a>\n",
       "<span style=\"color: #7fbfbf; text-decoration-color: #7fbfbf\">                    </span>         py:<span style=\"color: #008080; text-decoration-color: #008080; font-weight: bold\">1351</span>: DataConversionWarning: A column-vector y was passed when a 1d <span style=\"color: #7f7f7f; text-decoration-color: #7f7f7f\">               </span>\n",
       "<span style=\"color: #7fbfbf; text-decoration-color: #7fbfbf\">                    </span>         array was expected. Please change the shape of y to <span style=\"font-weight: bold\">(</span>n_samples,<span style=\"font-weight: bold\">)</span>, for  <span style=\"color: #7f7f7f; text-decoration-color: #7f7f7f\">               </span>\n",
       "<span style=\"color: #7fbfbf; text-decoration-color: #7fbfbf\">                    </span>         example using <span style=\"color: #800080; text-decoration-color: #800080; font-weight: bold\">ravel</span><span style=\"font-weight: bold\">()</span>.                                                 <span style=\"color: #7f7f7f; text-decoration-color: #7f7f7f\">               </span>\n",
       "<span style=\"color: #7fbfbf; text-decoration-color: #7fbfbf\">                    </span>           return <span style=\"color: #800080; text-decoration-color: #800080; font-weight: bold\">fit_method</span><span style=\"font-weight: bold\">(</span>estimator, *args, **kwargs<span style=\"font-weight: bold\">)</span>                        <span style=\"color: #7f7f7f; text-decoration-color: #7f7f7f\">               </span>\n",
       "<span style=\"color: #7fbfbf; text-decoration-color: #7fbfbf\">                    </span>                                                                                <span style=\"color: #7f7f7f; text-decoration-color: #7f7f7f\">               </span>\n",
       "</pre>\n"
      ],
      "text/plain": [
       "\u001b[2;36m                   \u001b[0m\u001b[2;36m \u001b[0m\u001b[31mWARNING \u001b[0m C:\\Users\\dggua\\anaconda3\\envs\\test_env\\lib\\site-packages\\sklearn\\base. \u001b]8;id=145370;file://C:\\Users\\dggua\\anaconda3\\envs\\test_env\\lib\\warnings.py\u001b\\\u001b[2mwarnings.py\u001b[0m\u001b]8;;\u001b\\\u001b[2m:\u001b[0m\u001b]8;id=564989;file://C:\\Users\\dggua\\anaconda3\\envs\\test_env\\lib\\warnings.py#109\u001b\\\u001b[2m109\u001b[0m\u001b]8;;\u001b\\\n",
       "\u001b[2;36m                    \u001b[0m         py:\u001b[1;36m1351\u001b[0m: DataConversionWarning: A column-vector y was passed when a 1d \u001b[2m               \u001b[0m\n",
       "\u001b[2;36m                    \u001b[0m         array was expected. Please change the shape of y to \u001b[1m(\u001b[0mn_samples,\u001b[1m)\u001b[0m, for  \u001b[2m               \u001b[0m\n",
       "\u001b[2;36m                    \u001b[0m         example using \u001b[1;35mravel\u001b[0m\u001b[1m(\u001b[0m\u001b[1m)\u001b[0m.                                                 \u001b[2m               \u001b[0m\n",
       "\u001b[2;36m                    \u001b[0m           return \u001b[1;35mfit_method\u001b[0m\u001b[1m(\u001b[0mestimator, *args, **kwargs\u001b[1m)\u001b[0m                        \u001b[2m               \u001b[0m\n",
       "\u001b[2;36m                    \u001b[0m                                                                                \u001b[2m               \u001b[0m\n"
      ]
     },
     "metadata": {},
     "output_type": "display_data"
    },
    {
     "data": {
      "text/html": [
       "<pre style=\"white-space:pre;overflow-x:auto;line-height:normal;font-family:Menlo,'DejaVu Sans Mono',consolas,'Courier New',monospace\"><span style=\"color: #7fbfbf; text-decoration-color: #7fbfbf\">                    </span><span style=\"color: #800000; text-decoration-color: #800000\">WARNING </span> C:\\Users\\dggua\\anaconda3\\envs\\test_env\\lib\\site-packages\\sklearn\\base. <a href=\"file://C:\\Users\\dggua\\anaconda3\\envs\\test_env\\lib\\warnings.py\" target=\"_blank\"><span style=\"color: #7f7f7f; text-decoration-color: #7f7f7f\">warnings.py</span></a><span style=\"color: #7f7f7f; text-decoration-color: #7f7f7f\">:</span><a href=\"file://C:\\Users\\dggua\\anaconda3\\envs\\test_env\\lib\\warnings.py#109\" target=\"_blank\"><span style=\"color: #7f7f7f; text-decoration-color: #7f7f7f\">109</span></a>\n",
       "<span style=\"color: #7fbfbf; text-decoration-color: #7fbfbf\">                    </span>         py:<span style=\"color: #008080; text-decoration-color: #008080; font-weight: bold\">1351</span>: DataConversionWarning: A column-vector y was passed when a 1d <span style=\"color: #7f7f7f; text-decoration-color: #7f7f7f\">               </span>\n",
       "<span style=\"color: #7fbfbf; text-decoration-color: #7fbfbf\">                    </span>         array was expected. Please change the shape of y to <span style=\"font-weight: bold\">(</span>n_samples,<span style=\"font-weight: bold\">)</span>, for  <span style=\"color: #7f7f7f; text-decoration-color: #7f7f7f\">               </span>\n",
       "<span style=\"color: #7fbfbf; text-decoration-color: #7fbfbf\">                    </span>         example using <span style=\"color: #800080; text-decoration-color: #800080; font-weight: bold\">ravel</span><span style=\"font-weight: bold\">()</span>.                                                 <span style=\"color: #7f7f7f; text-decoration-color: #7f7f7f\">               </span>\n",
       "<span style=\"color: #7fbfbf; text-decoration-color: #7fbfbf\">                    </span>           return <span style=\"color: #800080; text-decoration-color: #800080; font-weight: bold\">fit_method</span><span style=\"font-weight: bold\">(</span>estimator, *args, **kwargs<span style=\"font-weight: bold\">)</span>                        <span style=\"color: #7f7f7f; text-decoration-color: #7f7f7f\">               </span>\n",
       "<span style=\"color: #7fbfbf; text-decoration-color: #7fbfbf\">                    </span>                                                                                <span style=\"color: #7f7f7f; text-decoration-color: #7f7f7f\">               </span>\n",
       "</pre>\n"
      ],
      "text/plain": [
       "\u001b[2;36m                   \u001b[0m\u001b[2;36m \u001b[0m\u001b[31mWARNING \u001b[0m C:\\Users\\dggua\\anaconda3\\envs\\test_env\\lib\\site-packages\\sklearn\\base. \u001b]8;id=651185;file://C:\\Users\\dggua\\anaconda3\\envs\\test_env\\lib\\warnings.py\u001b\\\u001b[2mwarnings.py\u001b[0m\u001b]8;;\u001b\\\u001b[2m:\u001b[0m\u001b]8;id=140778;file://C:\\Users\\dggua\\anaconda3\\envs\\test_env\\lib\\warnings.py#109\u001b\\\u001b[2m109\u001b[0m\u001b]8;;\u001b\\\n",
       "\u001b[2;36m                    \u001b[0m         py:\u001b[1;36m1351\u001b[0m: DataConversionWarning: A column-vector y was passed when a 1d \u001b[2m               \u001b[0m\n",
       "\u001b[2;36m                    \u001b[0m         array was expected. Please change the shape of y to \u001b[1m(\u001b[0mn_samples,\u001b[1m)\u001b[0m, for  \u001b[2m               \u001b[0m\n",
       "\u001b[2;36m                    \u001b[0m         example using \u001b[1;35mravel\u001b[0m\u001b[1m(\u001b[0m\u001b[1m)\u001b[0m.                                                 \u001b[2m               \u001b[0m\n",
       "\u001b[2;36m                    \u001b[0m           return \u001b[1;35mfit_method\u001b[0m\u001b[1m(\u001b[0mestimator, *args, **kwargs\u001b[1m)\u001b[0m                        \u001b[2m               \u001b[0m\n",
       "\u001b[2;36m                    \u001b[0m                                                                                \u001b[2m               \u001b[0m\n"
      ]
     },
     "metadata": {},
     "output_type": "display_data"
    },
    {
     "data": {
      "text/html": [
       "<pre style=\"white-space:pre;overflow-x:auto;line-height:normal;font-family:Menlo,'DejaVu Sans Mono',consolas,'Courier New',monospace\"><span style=\"color: #7fbfbf; text-decoration-color: #7fbfbf\">                    </span><span style=\"color: #800000; text-decoration-color: #800000\">WARNING </span> C:\\Users\\dggua\\anaconda3\\envs\\test_env\\lib\\site-packages\\sklearn\\base. <a href=\"file://C:\\Users\\dggua\\anaconda3\\envs\\test_env\\lib\\warnings.py\" target=\"_blank\"><span style=\"color: #7f7f7f; text-decoration-color: #7f7f7f\">warnings.py</span></a><span style=\"color: #7f7f7f; text-decoration-color: #7f7f7f\">:</span><a href=\"file://C:\\Users\\dggua\\anaconda3\\envs\\test_env\\lib\\warnings.py#109\" target=\"_blank\"><span style=\"color: #7f7f7f; text-decoration-color: #7f7f7f\">109</span></a>\n",
       "<span style=\"color: #7fbfbf; text-decoration-color: #7fbfbf\">                    </span>         py:<span style=\"color: #008080; text-decoration-color: #008080; font-weight: bold\">1351</span>: DataConversionWarning: A column-vector y was passed when a 1d <span style=\"color: #7f7f7f; text-decoration-color: #7f7f7f\">               </span>\n",
       "<span style=\"color: #7fbfbf; text-decoration-color: #7fbfbf\">                    </span>         array was expected. Please change the shape of y to <span style=\"font-weight: bold\">(</span>n_samples,<span style=\"font-weight: bold\">)</span>, for  <span style=\"color: #7f7f7f; text-decoration-color: #7f7f7f\">               </span>\n",
       "<span style=\"color: #7fbfbf; text-decoration-color: #7fbfbf\">                    </span>         example using <span style=\"color: #800080; text-decoration-color: #800080; font-weight: bold\">ravel</span><span style=\"font-weight: bold\">()</span>.                                                 <span style=\"color: #7f7f7f; text-decoration-color: #7f7f7f\">               </span>\n",
       "<span style=\"color: #7fbfbf; text-decoration-color: #7fbfbf\">                    </span>           return <span style=\"color: #800080; text-decoration-color: #800080; font-weight: bold\">fit_method</span><span style=\"font-weight: bold\">(</span>estimator, *args, **kwargs<span style=\"font-weight: bold\">)</span>                        <span style=\"color: #7f7f7f; text-decoration-color: #7f7f7f\">               </span>\n",
       "<span style=\"color: #7fbfbf; text-decoration-color: #7fbfbf\">                    </span>                                                                                <span style=\"color: #7f7f7f; text-decoration-color: #7f7f7f\">               </span>\n",
       "</pre>\n"
      ],
      "text/plain": [
       "\u001b[2;36m                   \u001b[0m\u001b[2;36m \u001b[0m\u001b[31mWARNING \u001b[0m C:\\Users\\dggua\\anaconda3\\envs\\test_env\\lib\\site-packages\\sklearn\\base. \u001b]8;id=954167;file://C:\\Users\\dggua\\anaconda3\\envs\\test_env\\lib\\warnings.py\u001b\\\u001b[2mwarnings.py\u001b[0m\u001b]8;;\u001b\\\u001b[2m:\u001b[0m\u001b]8;id=956276;file://C:\\Users\\dggua\\anaconda3\\envs\\test_env\\lib\\warnings.py#109\u001b\\\u001b[2m109\u001b[0m\u001b]8;;\u001b\\\n",
       "\u001b[2;36m                    \u001b[0m         py:\u001b[1;36m1351\u001b[0m: DataConversionWarning: A column-vector y was passed when a 1d \u001b[2m               \u001b[0m\n",
       "\u001b[2;36m                    \u001b[0m         array was expected. Please change the shape of y to \u001b[1m(\u001b[0mn_samples,\u001b[1m)\u001b[0m, for  \u001b[2m               \u001b[0m\n",
       "\u001b[2;36m                    \u001b[0m         example using \u001b[1;35mravel\u001b[0m\u001b[1m(\u001b[0m\u001b[1m)\u001b[0m.                                                 \u001b[2m               \u001b[0m\n",
       "\u001b[2;36m                    \u001b[0m           return \u001b[1;35mfit_method\u001b[0m\u001b[1m(\u001b[0mestimator, *args, **kwargs\u001b[1m)\u001b[0m                        \u001b[2m               \u001b[0m\n",
       "\u001b[2;36m                    \u001b[0m                                                                                \u001b[2m               \u001b[0m\n"
      ]
     },
     "metadata": {},
     "output_type": "display_data"
    },
    {
     "data": {
      "text/html": [
       "<pre style=\"white-space:pre;overflow-x:auto;line-height:normal;font-family:Menlo,'DejaVu Sans Mono',consolas,'Courier New',monospace\"><span style=\"color: #7fbfbf; text-decoration-color: #7fbfbf\">[06/22/24 16:18:10] </span><span style=\"color: #800000; text-decoration-color: #800000\">WARNING </span> C:\\Users\\dggua\\anaconda3\\envs\\test_env\\lib\\site-packages\\sklearn\\base. <a href=\"file://C:\\Users\\dggua\\anaconda3\\envs\\test_env\\lib\\warnings.py\" target=\"_blank\"><span style=\"color: #7f7f7f; text-decoration-color: #7f7f7f\">warnings.py</span></a><span style=\"color: #7f7f7f; text-decoration-color: #7f7f7f\">:</span><a href=\"file://C:\\Users\\dggua\\anaconda3\\envs\\test_env\\lib\\warnings.py#109\" target=\"_blank\"><span style=\"color: #7f7f7f; text-decoration-color: #7f7f7f\">109</span></a>\n",
       "<span style=\"color: #7fbfbf; text-decoration-color: #7fbfbf\">                    </span>         py:<span style=\"color: #008080; text-decoration-color: #008080; font-weight: bold\">1351</span>: DataConversionWarning: A column-vector y was passed when a 1d <span style=\"color: #7f7f7f; text-decoration-color: #7f7f7f\">               </span>\n",
       "<span style=\"color: #7fbfbf; text-decoration-color: #7fbfbf\">                    </span>         array was expected. Please change the shape of y to <span style=\"font-weight: bold\">(</span>n_samples,<span style=\"font-weight: bold\">)</span>, for  <span style=\"color: #7f7f7f; text-decoration-color: #7f7f7f\">               </span>\n",
       "<span style=\"color: #7fbfbf; text-decoration-color: #7fbfbf\">                    </span>         example using <span style=\"color: #800080; text-decoration-color: #800080; font-weight: bold\">ravel</span><span style=\"font-weight: bold\">()</span>.                                                 <span style=\"color: #7f7f7f; text-decoration-color: #7f7f7f\">               </span>\n",
       "<span style=\"color: #7fbfbf; text-decoration-color: #7fbfbf\">                    </span>           return <span style=\"color: #800080; text-decoration-color: #800080; font-weight: bold\">fit_method</span><span style=\"font-weight: bold\">(</span>estimator, *args, **kwargs<span style=\"font-weight: bold\">)</span>                        <span style=\"color: #7f7f7f; text-decoration-color: #7f7f7f\">               </span>\n",
       "<span style=\"color: #7fbfbf; text-decoration-color: #7fbfbf\">                    </span>                                                                                <span style=\"color: #7f7f7f; text-decoration-color: #7f7f7f\">               </span>\n",
       "</pre>\n"
      ],
      "text/plain": [
       "\u001b[2;36m[06/22/24 16:18:10]\u001b[0m\u001b[2;36m \u001b[0m\u001b[31mWARNING \u001b[0m C:\\Users\\dggua\\anaconda3\\envs\\test_env\\lib\\site-packages\\sklearn\\base. \u001b]8;id=14900;file://C:\\Users\\dggua\\anaconda3\\envs\\test_env\\lib\\warnings.py\u001b\\\u001b[2mwarnings.py\u001b[0m\u001b]8;;\u001b\\\u001b[2m:\u001b[0m\u001b]8;id=518912;file://C:\\Users\\dggua\\anaconda3\\envs\\test_env\\lib\\warnings.py#109\u001b\\\u001b[2m109\u001b[0m\u001b]8;;\u001b\\\n",
       "\u001b[2;36m                    \u001b[0m         py:\u001b[1;36m1351\u001b[0m: DataConversionWarning: A column-vector y was passed when a 1d \u001b[2m               \u001b[0m\n",
       "\u001b[2;36m                    \u001b[0m         array was expected. Please change the shape of y to \u001b[1m(\u001b[0mn_samples,\u001b[1m)\u001b[0m, for  \u001b[2m               \u001b[0m\n",
       "\u001b[2;36m                    \u001b[0m         example using \u001b[1;35mravel\u001b[0m\u001b[1m(\u001b[0m\u001b[1m)\u001b[0m.                                                 \u001b[2m               \u001b[0m\n",
       "\u001b[2;36m                    \u001b[0m           return \u001b[1;35mfit_method\u001b[0m\u001b[1m(\u001b[0mestimator, *args, **kwargs\u001b[1m)\u001b[0m                        \u001b[2m               \u001b[0m\n",
       "\u001b[2;36m                    \u001b[0m                                                                                \u001b[2m               \u001b[0m\n"
      ]
     },
     "metadata": {},
     "output_type": "display_data"
    },
    {
     "data": {
      "text/html": [
       "<pre style=\"white-space:pre;overflow-x:auto;line-height:normal;font-family:Menlo,'DejaVu Sans Mono',consolas,'Courier New',monospace\"><span style=\"color: #7fbfbf; text-decoration-color: #7fbfbf\">                    </span><span style=\"color: #800000; text-decoration-color: #800000\">WARNING </span> C:\\Users\\dggua\\anaconda3\\envs\\test_env\\lib\\site-packages\\sklearn\\base. <a href=\"file://C:\\Users\\dggua\\anaconda3\\envs\\test_env\\lib\\warnings.py\" target=\"_blank\"><span style=\"color: #7f7f7f; text-decoration-color: #7f7f7f\">warnings.py</span></a><span style=\"color: #7f7f7f; text-decoration-color: #7f7f7f\">:</span><a href=\"file://C:\\Users\\dggua\\anaconda3\\envs\\test_env\\lib\\warnings.py#109\" target=\"_blank\"><span style=\"color: #7f7f7f; text-decoration-color: #7f7f7f\">109</span></a>\n",
       "<span style=\"color: #7fbfbf; text-decoration-color: #7fbfbf\">                    </span>         py:<span style=\"color: #008080; text-decoration-color: #008080; font-weight: bold\">1351</span>: DataConversionWarning: A column-vector y was passed when a 1d <span style=\"color: #7f7f7f; text-decoration-color: #7f7f7f\">               </span>\n",
       "<span style=\"color: #7fbfbf; text-decoration-color: #7fbfbf\">                    </span>         array was expected. Please change the shape of y to <span style=\"font-weight: bold\">(</span>n_samples,<span style=\"font-weight: bold\">)</span>, for  <span style=\"color: #7f7f7f; text-decoration-color: #7f7f7f\">               </span>\n",
       "<span style=\"color: #7fbfbf; text-decoration-color: #7fbfbf\">                    </span>         example using <span style=\"color: #800080; text-decoration-color: #800080; font-weight: bold\">ravel</span><span style=\"font-weight: bold\">()</span>.                                                 <span style=\"color: #7f7f7f; text-decoration-color: #7f7f7f\">               </span>\n",
       "<span style=\"color: #7fbfbf; text-decoration-color: #7fbfbf\">                    </span>           return <span style=\"color: #800080; text-decoration-color: #800080; font-weight: bold\">fit_method</span><span style=\"font-weight: bold\">(</span>estimator, *args, **kwargs<span style=\"font-weight: bold\">)</span>                        <span style=\"color: #7f7f7f; text-decoration-color: #7f7f7f\">               </span>\n",
       "<span style=\"color: #7fbfbf; text-decoration-color: #7fbfbf\">                    </span>                                                                                <span style=\"color: #7f7f7f; text-decoration-color: #7f7f7f\">               </span>\n",
       "</pre>\n"
      ],
      "text/plain": [
       "\u001b[2;36m                   \u001b[0m\u001b[2;36m \u001b[0m\u001b[31mWARNING \u001b[0m C:\\Users\\dggua\\anaconda3\\envs\\test_env\\lib\\site-packages\\sklearn\\base. \u001b]8;id=565752;file://C:\\Users\\dggua\\anaconda3\\envs\\test_env\\lib\\warnings.py\u001b\\\u001b[2mwarnings.py\u001b[0m\u001b]8;;\u001b\\\u001b[2m:\u001b[0m\u001b]8;id=551519;file://C:\\Users\\dggua\\anaconda3\\envs\\test_env\\lib\\warnings.py#109\u001b\\\u001b[2m109\u001b[0m\u001b]8;;\u001b\\\n",
       "\u001b[2;36m                    \u001b[0m         py:\u001b[1;36m1351\u001b[0m: DataConversionWarning: A column-vector y was passed when a 1d \u001b[2m               \u001b[0m\n",
       "\u001b[2;36m                    \u001b[0m         array was expected. Please change the shape of y to \u001b[1m(\u001b[0mn_samples,\u001b[1m)\u001b[0m, for  \u001b[2m               \u001b[0m\n",
       "\u001b[2;36m                    \u001b[0m         example using \u001b[1;35mravel\u001b[0m\u001b[1m(\u001b[0m\u001b[1m)\u001b[0m.                                                 \u001b[2m               \u001b[0m\n",
       "\u001b[2;36m                    \u001b[0m           return \u001b[1;35mfit_method\u001b[0m\u001b[1m(\u001b[0mestimator, *args, **kwargs\u001b[1m)\u001b[0m                        \u001b[2m               \u001b[0m\n",
       "\u001b[2;36m                    \u001b[0m                                                                                \u001b[2m               \u001b[0m\n"
      ]
     },
     "metadata": {},
     "output_type": "display_data"
    },
    {
     "data": {
      "text/html": [
       "<pre style=\"white-space:pre;overflow-x:auto;line-height:normal;font-family:Menlo,'DejaVu Sans Mono',consolas,'Courier New',monospace\"><span style=\"color: #7fbfbf; text-decoration-color: #7fbfbf\">                    </span><span style=\"color: #800000; text-decoration-color: #800000\">WARNING </span> C:\\Users\\dggua\\anaconda3\\envs\\test_env\\lib\\site-packages\\sklearn\\base. <a href=\"file://C:\\Users\\dggua\\anaconda3\\envs\\test_env\\lib\\warnings.py\" target=\"_blank\"><span style=\"color: #7f7f7f; text-decoration-color: #7f7f7f\">warnings.py</span></a><span style=\"color: #7f7f7f; text-decoration-color: #7f7f7f\">:</span><a href=\"file://C:\\Users\\dggua\\anaconda3\\envs\\test_env\\lib\\warnings.py#109\" target=\"_blank\"><span style=\"color: #7f7f7f; text-decoration-color: #7f7f7f\">109</span></a>\n",
       "<span style=\"color: #7fbfbf; text-decoration-color: #7fbfbf\">                    </span>         py:<span style=\"color: #008080; text-decoration-color: #008080; font-weight: bold\">1351</span>: DataConversionWarning: A column-vector y was passed when a 1d <span style=\"color: #7f7f7f; text-decoration-color: #7f7f7f\">               </span>\n",
       "<span style=\"color: #7fbfbf; text-decoration-color: #7fbfbf\">                    </span>         array was expected. Please change the shape of y to <span style=\"font-weight: bold\">(</span>n_samples,<span style=\"font-weight: bold\">)</span>, for  <span style=\"color: #7f7f7f; text-decoration-color: #7f7f7f\">               </span>\n",
       "<span style=\"color: #7fbfbf; text-decoration-color: #7fbfbf\">                    </span>         example using <span style=\"color: #800080; text-decoration-color: #800080; font-weight: bold\">ravel</span><span style=\"font-weight: bold\">()</span>.                                                 <span style=\"color: #7f7f7f; text-decoration-color: #7f7f7f\">               </span>\n",
       "<span style=\"color: #7fbfbf; text-decoration-color: #7fbfbf\">                    </span>           return <span style=\"color: #800080; text-decoration-color: #800080; font-weight: bold\">fit_method</span><span style=\"font-weight: bold\">(</span>estimator, *args, **kwargs<span style=\"font-weight: bold\">)</span>                        <span style=\"color: #7f7f7f; text-decoration-color: #7f7f7f\">               </span>\n",
       "<span style=\"color: #7fbfbf; text-decoration-color: #7fbfbf\">                    </span>                                                                                <span style=\"color: #7f7f7f; text-decoration-color: #7f7f7f\">               </span>\n",
       "</pre>\n"
      ],
      "text/plain": [
       "\u001b[2;36m                   \u001b[0m\u001b[2;36m \u001b[0m\u001b[31mWARNING \u001b[0m C:\\Users\\dggua\\anaconda3\\envs\\test_env\\lib\\site-packages\\sklearn\\base. \u001b]8;id=802378;file://C:\\Users\\dggua\\anaconda3\\envs\\test_env\\lib\\warnings.py\u001b\\\u001b[2mwarnings.py\u001b[0m\u001b]8;;\u001b\\\u001b[2m:\u001b[0m\u001b]8;id=795921;file://C:\\Users\\dggua\\anaconda3\\envs\\test_env\\lib\\warnings.py#109\u001b\\\u001b[2m109\u001b[0m\u001b]8;;\u001b\\\n",
       "\u001b[2;36m                    \u001b[0m         py:\u001b[1;36m1351\u001b[0m: DataConversionWarning: A column-vector y was passed when a 1d \u001b[2m               \u001b[0m\n",
       "\u001b[2;36m                    \u001b[0m         array was expected. Please change the shape of y to \u001b[1m(\u001b[0mn_samples,\u001b[1m)\u001b[0m, for  \u001b[2m               \u001b[0m\n",
       "\u001b[2;36m                    \u001b[0m         example using \u001b[1;35mravel\u001b[0m\u001b[1m(\u001b[0m\u001b[1m)\u001b[0m.                                                 \u001b[2m               \u001b[0m\n",
       "\u001b[2;36m                    \u001b[0m           return \u001b[1;35mfit_method\u001b[0m\u001b[1m(\u001b[0mestimator, *args, **kwargs\u001b[1m)\u001b[0m                        \u001b[2m               \u001b[0m\n",
       "\u001b[2;36m                    \u001b[0m                                                                                \u001b[2m               \u001b[0m\n"
      ]
     },
     "metadata": {},
     "output_type": "display_data"
    },
    {
     "data": {
      "text/html": [
       "<pre style=\"white-space:pre;overflow-x:auto;line-height:normal;font-family:Menlo,'DejaVu Sans Mono',consolas,'Courier New',monospace\"><span style=\"color: #7fbfbf; text-decoration-color: #7fbfbf\">                    </span><span style=\"color: #800000; text-decoration-color: #800000\">WARNING </span> C:\\Users\\dggua\\anaconda3\\envs\\test_env\\lib\\site-packages\\sklearn\\base. <a href=\"file://C:\\Users\\dggua\\anaconda3\\envs\\test_env\\lib\\warnings.py\" target=\"_blank\"><span style=\"color: #7f7f7f; text-decoration-color: #7f7f7f\">warnings.py</span></a><span style=\"color: #7f7f7f; text-decoration-color: #7f7f7f\">:</span><a href=\"file://C:\\Users\\dggua\\anaconda3\\envs\\test_env\\lib\\warnings.py#109\" target=\"_blank\"><span style=\"color: #7f7f7f; text-decoration-color: #7f7f7f\">109</span></a>\n",
       "<span style=\"color: #7fbfbf; text-decoration-color: #7fbfbf\">                    </span>         py:<span style=\"color: #008080; text-decoration-color: #008080; font-weight: bold\">1351</span>: DataConversionWarning: A column-vector y was passed when a 1d <span style=\"color: #7f7f7f; text-decoration-color: #7f7f7f\">               </span>\n",
       "<span style=\"color: #7fbfbf; text-decoration-color: #7fbfbf\">                    </span>         array was expected. Please change the shape of y to <span style=\"font-weight: bold\">(</span>n_samples,<span style=\"font-weight: bold\">)</span>, for  <span style=\"color: #7f7f7f; text-decoration-color: #7f7f7f\">               </span>\n",
       "<span style=\"color: #7fbfbf; text-decoration-color: #7fbfbf\">                    </span>         example using <span style=\"color: #800080; text-decoration-color: #800080; font-weight: bold\">ravel</span><span style=\"font-weight: bold\">()</span>.                                                 <span style=\"color: #7f7f7f; text-decoration-color: #7f7f7f\">               </span>\n",
       "<span style=\"color: #7fbfbf; text-decoration-color: #7fbfbf\">                    </span>           return <span style=\"color: #800080; text-decoration-color: #800080; font-weight: bold\">fit_method</span><span style=\"font-weight: bold\">(</span>estimator, *args, **kwargs<span style=\"font-weight: bold\">)</span>                        <span style=\"color: #7f7f7f; text-decoration-color: #7f7f7f\">               </span>\n",
       "<span style=\"color: #7fbfbf; text-decoration-color: #7fbfbf\">                    </span>                                                                                <span style=\"color: #7f7f7f; text-decoration-color: #7f7f7f\">               </span>\n",
       "</pre>\n"
      ],
      "text/plain": [
       "\u001b[2;36m                   \u001b[0m\u001b[2;36m \u001b[0m\u001b[31mWARNING \u001b[0m C:\\Users\\dggua\\anaconda3\\envs\\test_env\\lib\\site-packages\\sklearn\\base. \u001b]8;id=114573;file://C:\\Users\\dggua\\anaconda3\\envs\\test_env\\lib\\warnings.py\u001b\\\u001b[2mwarnings.py\u001b[0m\u001b]8;;\u001b\\\u001b[2m:\u001b[0m\u001b]8;id=762261;file://C:\\Users\\dggua\\anaconda3\\envs\\test_env\\lib\\warnings.py#109\u001b\\\u001b[2m109\u001b[0m\u001b]8;;\u001b\\\n",
       "\u001b[2;36m                    \u001b[0m         py:\u001b[1;36m1351\u001b[0m: DataConversionWarning: A column-vector y was passed when a 1d \u001b[2m               \u001b[0m\n",
       "\u001b[2;36m                    \u001b[0m         array was expected. Please change the shape of y to \u001b[1m(\u001b[0mn_samples,\u001b[1m)\u001b[0m, for  \u001b[2m               \u001b[0m\n",
       "\u001b[2;36m                    \u001b[0m         example using \u001b[1;35mravel\u001b[0m\u001b[1m(\u001b[0m\u001b[1m)\u001b[0m.                                                 \u001b[2m               \u001b[0m\n",
       "\u001b[2;36m                    \u001b[0m           return \u001b[1;35mfit_method\u001b[0m\u001b[1m(\u001b[0mestimator, *args, **kwargs\u001b[1m)\u001b[0m                        \u001b[2m               \u001b[0m\n",
       "\u001b[2;36m                    \u001b[0m                                                                                \u001b[2m               \u001b[0m\n"
      ]
     },
     "metadata": {},
     "output_type": "display_data"
    },
    {
     "data": {
      "text/html": [
       "<pre style=\"white-space:pre;overflow-x:auto;line-height:normal;font-family:Menlo,'DejaVu Sans Mono',consolas,'Courier New',monospace\"><span style=\"color: #7fbfbf; text-decoration-color: #7fbfbf\">                    </span><span style=\"color: #800000; text-decoration-color: #800000\">WARNING </span> C:\\Users\\dggua\\anaconda3\\envs\\test_env\\lib\\site-packages\\sklearn\\base. <a href=\"file://C:\\Users\\dggua\\anaconda3\\envs\\test_env\\lib\\warnings.py\" target=\"_blank\"><span style=\"color: #7f7f7f; text-decoration-color: #7f7f7f\">warnings.py</span></a><span style=\"color: #7f7f7f; text-decoration-color: #7f7f7f\">:</span><a href=\"file://C:\\Users\\dggua\\anaconda3\\envs\\test_env\\lib\\warnings.py#109\" target=\"_blank\"><span style=\"color: #7f7f7f; text-decoration-color: #7f7f7f\">109</span></a>\n",
       "<span style=\"color: #7fbfbf; text-decoration-color: #7fbfbf\">                    </span>         py:<span style=\"color: #008080; text-decoration-color: #008080; font-weight: bold\">1351</span>: DataConversionWarning: A column-vector y was passed when a 1d <span style=\"color: #7f7f7f; text-decoration-color: #7f7f7f\">               </span>\n",
       "<span style=\"color: #7fbfbf; text-decoration-color: #7fbfbf\">                    </span>         array was expected. Please change the shape of y to <span style=\"font-weight: bold\">(</span>n_samples,<span style=\"font-weight: bold\">)</span>, for  <span style=\"color: #7f7f7f; text-decoration-color: #7f7f7f\">               </span>\n",
       "<span style=\"color: #7fbfbf; text-decoration-color: #7fbfbf\">                    </span>         example using <span style=\"color: #800080; text-decoration-color: #800080; font-weight: bold\">ravel</span><span style=\"font-weight: bold\">()</span>.                                                 <span style=\"color: #7f7f7f; text-decoration-color: #7f7f7f\">               </span>\n",
       "<span style=\"color: #7fbfbf; text-decoration-color: #7fbfbf\">                    </span>           return <span style=\"color: #800080; text-decoration-color: #800080; font-weight: bold\">fit_method</span><span style=\"font-weight: bold\">(</span>estimator, *args, **kwargs<span style=\"font-weight: bold\">)</span>                        <span style=\"color: #7f7f7f; text-decoration-color: #7f7f7f\">               </span>\n",
       "<span style=\"color: #7fbfbf; text-decoration-color: #7fbfbf\">                    </span>                                                                                <span style=\"color: #7f7f7f; text-decoration-color: #7f7f7f\">               </span>\n",
       "</pre>\n"
      ],
      "text/plain": [
       "\u001b[2;36m                   \u001b[0m\u001b[2;36m \u001b[0m\u001b[31mWARNING \u001b[0m C:\\Users\\dggua\\anaconda3\\envs\\test_env\\lib\\site-packages\\sklearn\\base. \u001b]8;id=681726;file://C:\\Users\\dggua\\anaconda3\\envs\\test_env\\lib\\warnings.py\u001b\\\u001b[2mwarnings.py\u001b[0m\u001b]8;;\u001b\\\u001b[2m:\u001b[0m\u001b]8;id=827567;file://C:\\Users\\dggua\\anaconda3\\envs\\test_env\\lib\\warnings.py#109\u001b\\\u001b[2m109\u001b[0m\u001b]8;;\u001b\\\n",
       "\u001b[2;36m                    \u001b[0m         py:\u001b[1;36m1351\u001b[0m: DataConversionWarning: A column-vector y was passed when a 1d \u001b[2m               \u001b[0m\n",
       "\u001b[2;36m                    \u001b[0m         array was expected. Please change the shape of y to \u001b[1m(\u001b[0mn_samples,\u001b[1m)\u001b[0m, for  \u001b[2m               \u001b[0m\n",
       "\u001b[2;36m                    \u001b[0m         example using \u001b[1;35mravel\u001b[0m\u001b[1m(\u001b[0m\u001b[1m)\u001b[0m.                                                 \u001b[2m               \u001b[0m\n",
       "\u001b[2;36m                    \u001b[0m           return \u001b[1;35mfit_method\u001b[0m\u001b[1m(\u001b[0mestimator, *args, **kwargs\u001b[1m)\u001b[0m                        \u001b[2m               \u001b[0m\n",
       "\u001b[2;36m                    \u001b[0m                                                                                \u001b[2m               \u001b[0m\n"
      ]
     },
     "metadata": {},
     "output_type": "display_data"
    },
    {
     "data": {
      "text/html": [
       "<pre style=\"white-space:pre;overflow-x:auto;line-height:normal;font-family:Menlo,'DejaVu Sans Mono',consolas,'Courier New',monospace\"><span style=\"color: #7fbfbf; text-decoration-color: #7fbfbf\">                    </span><span style=\"color: #800000; text-decoration-color: #800000\">WARNING </span> C:\\Users\\dggua\\anaconda3\\envs\\test_env\\lib\\site-packages\\sklearn\\base. <a href=\"file://C:\\Users\\dggua\\anaconda3\\envs\\test_env\\lib\\warnings.py\" target=\"_blank\"><span style=\"color: #7f7f7f; text-decoration-color: #7f7f7f\">warnings.py</span></a><span style=\"color: #7f7f7f; text-decoration-color: #7f7f7f\">:</span><a href=\"file://C:\\Users\\dggua\\anaconda3\\envs\\test_env\\lib\\warnings.py#109\" target=\"_blank\"><span style=\"color: #7f7f7f; text-decoration-color: #7f7f7f\">109</span></a>\n",
       "<span style=\"color: #7fbfbf; text-decoration-color: #7fbfbf\">                    </span>         py:<span style=\"color: #008080; text-decoration-color: #008080; font-weight: bold\">1351</span>: DataConversionWarning: A column-vector y was passed when a 1d <span style=\"color: #7f7f7f; text-decoration-color: #7f7f7f\">               </span>\n",
       "<span style=\"color: #7fbfbf; text-decoration-color: #7fbfbf\">                    </span>         array was expected. Please change the shape of y to <span style=\"font-weight: bold\">(</span>n_samples,<span style=\"font-weight: bold\">)</span>, for  <span style=\"color: #7f7f7f; text-decoration-color: #7f7f7f\">               </span>\n",
       "<span style=\"color: #7fbfbf; text-decoration-color: #7fbfbf\">                    </span>         example using <span style=\"color: #800080; text-decoration-color: #800080; font-weight: bold\">ravel</span><span style=\"font-weight: bold\">()</span>.                                                 <span style=\"color: #7f7f7f; text-decoration-color: #7f7f7f\">               </span>\n",
       "<span style=\"color: #7fbfbf; text-decoration-color: #7fbfbf\">                    </span>           return <span style=\"color: #800080; text-decoration-color: #800080; font-weight: bold\">fit_method</span><span style=\"font-weight: bold\">(</span>estimator, *args, **kwargs<span style=\"font-weight: bold\">)</span>                        <span style=\"color: #7f7f7f; text-decoration-color: #7f7f7f\">               </span>\n",
       "<span style=\"color: #7fbfbf; text-decoration-color: #7fbfbf\">                    </span>                                                                                <span style=\"color: #7f7f7f; text-decoration-color: #7f7f7f\">               </span>\n",
       "</pre>\n"
      ],
      "text/plain": [
       "\u001b[2;36m                   \u001b[0m\u001b[2;36m \u001b[0m\u001b[31mWARNING \u001b[0m C:\\Users\\dggua\\anaconda3\\envs\\test_env\\lib\\site-packages\\sklearn\\base. \u001b]8;id=552878;file://C:\\Users\\dggua\\anaconda3\\envs\\test_env\\lib\\warnings.py\u001b\\\u001b[2mwarnings.py\u001b[0m\u001b]8;;\u001b\\\u001b[2m:\u001b[0m\u001b]8;id=267996;file://C:\\Users\\dggua\\anaconda3\\envs\\test_env\\lib\\warnings.py#109\u001b\\\u001b[2m109\u001b[0m\u001b]8;;\u001b\\\n",
       "\u001b[2;36m                    \u001b[0m         py:\u001b[1;36m1351\u001b[0m: DataConversionWarning: A column-vector y was passed when a 1d \u001b[2m               \u001b[0m\n",
       "\u001b[2;36m                    \u001b[0m         array was expected. Please change the shape of y to \u001b[1m(\u001b[0mn_samples,\u001b[1m)\u001b[0m, for  \u001b[2m               \u001b[0m\n",
       "\u001b[2;36m                    \u001b[0m         example using \u001b[1;35mravel\u001b[0m\u001b[1m(\u001b[0m\u001b[1m)\u001b[0m.                                                 \u001b[2m               \u001b[0m\n",
       "\u001b[2;36m                    \u001b[0m           return \u001b[1;35mfit_method\u001b[0m\u001b[1m(\u001b[0mestimator, *args, **kwargs\u001b[1m)\u001b[0m                        \u001b[2m               \u001b[0m\n",
       "\u001b[2;36m                    \u001b[0m                                                                                \u001b[2m               \u001b[0m\n"
      ]
     },
     "metadata": {},
     "output_type": "display_data"
    },
    {
     "data": {
      "text/html": [
       "<pre style=\"white-space:pre;overflow-x:auto;line-height:normal;font-family:Menlo,'DejaVu Sans Mono',consolas,'Courier New',monospace\"><span style=\"color: #7fbfbf; text-decoration-color: #7fbfbf\">                    </span><span style=\"color: #800000; text-decoration-color: #800000\">WARNING </span> C:\\Users\\dggua\\anaconda3\\envs\\test_env\\lib\\site-packages\\sklearn\\base. <a href=\"file://C:\\Users\\dggua\\anaconda3\\envs\\test_env\\lib\\warnings.py\" target=\"_blank\"><span style=\"color: #7f7f7f; text-decoration-color: #7f7f7f\">warnings.py</span></a><span style=\"color: #7f7f7f; text-decoration-color: #7f7f7f\">:</span><a href=\"file://C:\\Users\\dggua\\anaconda3\\envs\\test_env\\lib\\warnings.py#109\" target=\"_blank\"><span style=\"color: #7f7f7f; text-decoration-color: #7f7f7f\">109</span></a>\n",
       "<span style=\"color: #7fbfbf; text-decoration-color: #7fbfbf\">                    </span>         py:<span style=\"color: #008080; text-decoration-color: #008080; font-weight: bold\">1351</span>: DataConversionWarning: A column-vector y was passed when a 1d <span style=\"color: #7f7f7f; text-decoration-color: #7f7f7f\">               </span>\n",
       "<span style=\"color: #7fbfbf; text-decoration-color: #7fbfbf\">                    </span>         array was expected. Please change the shape of y to <span style=\"font-weight: bold\">(</span>n_samples,<span style=\"font-weight: bold\">)</span>, for  <span style=\"color: #7f7f7f; text-decoration-color: #7f7f7f\">               </span>\n",
       "<span style=\"color: #7fbfbf; text-decoration-color: #7fbfbf\">                    </span>         example using <span style=\"color: #800080; text-decoration-color: #800080; font-weight: bold\">ravel</span><span style=\"font-weight: bold\">()</span>.                                                 <span style=\"color: #7f7f7f; text-decoration-color: #7f7f7f\">               </span>\n",
       "<span style=\"color: #7fbfbf; text-decoration-color: #7fbfbf\">                    </span>           return <span style=\"color: #800080; text-decoration-color: #800080; font-weight: bold\">fit_method</span><span style=\"font-weight: bold\">(</span>estimator, *args, **kwargs<span style=\"font-weight: bold\">)</span>                        <span style=\"color: #7f7f7f; text-decoration-color: #7f7f7f\">               </span>\n",
       "<span style=\"color: #7fbfbf; text-decoration-color: #7fbfbf\">                    </span>                                                                                <span style=\"color: #7f7f7f; text-decoration-color: #7f7f7f\">               </span>\n",
       "</pre>\n"
      ],
      "text/plain": [
       "\u001b[2;36m                   \u001b[0m\u001b[2;36m \u001b[0m\u001b[31mWARNING \u001b[0m C:\\Users\\dggua\\anaconda3\\envs\\test_env\\lib\\site-packages\\sklearn\\base. \u001b]8;id=148632;file://C:\\Users\\dggua\\anaconda3\\envs\\test_env\\lib\\warnings.py\u001b\\\u001b[2mwarnings.py\u001b[0m\u001b]8;;\u001b\\\u001b[2m:\u001b[0m\u001b]8;id=414627;file://C:\\Users\\dggua\\anaconda3\\envs\\test_env\\lib\\warnings.py#109\u001b\\\u001b[2m109\u001b[0m\u001b]8;;\u001b\\\n",
       "\u001b[2;36m                    \u001b[0m         py:\u001b[1;36m1351\u001b[0m: DataConversionWarning: A column-vector y was passed when a 1d \u001b[2m               \u001b[0m\n",
       "\u001b[2;36m                    \u001b[0m         array was expected. Please change the shape of y to \u001b[1m(\u001b[0mn_samples,\u001b[1m)\u001b[0m, for  \u001b[2m               \u001b[0m\n",
       "\u001b[2;36m                    \u001b[0m         example using \u001b[1;35mravel\u001b[0m\u001b[1m(\u001b[0m\u001b[1m)\u001b[0m.                                                 \u001b[2m               \u001b[0m\n",
       "\u001b[2;36m                    \u001b[0m           return \u001b[1;35mfit_method\u001b[0m\u001b[1m(\u001b[0mestimator, *args, **kwargs\u001b[1m)\u001b[0m                        \u001b[2m               \u001b[0m\n",
       "\u001b[2;36m                    \u001b[0m                                                                                \u001b[2m               \u001b[0m\n"
      ]
     },
     "metadata": {},
     "output_type": "display_data"
    },
    {
     "data": {
      "text/html": [
       "<pre style=\"white-space:pre;overflow-x:auto;line-height:normal;font-family:Menlo,'DejaVu Sans Mono',consolas,'Courier New',monospace\"><span style=\"color: #7fbfbf; text-decoration-color: #7fbfbf\">                    </span><span style=\"color: #800000; text-decoration-color: #800000\">WARNING </span> C:\\Users\\dggua\\anaconda3\\envs\\test_env\\lib\\site-packages\\sklearn\\base. <a href=\"file://C:\\Users\\dggua\\anaconda3\\envs\\test_env\\lib\\warnings.py\" target=\"_blank\"><span style=\"color: #7f7f7f; text-decoration-color: #7f7f7f\">warnings.py</span></a><span style=\"color: #7f7f7f; text-decoration-color: #7f7f7f\">:</span><a href=\"file://C:\\Users\\dggua\\anaconda3\\envs\\test_env\\lib\\warnings.py#109\" target=\"_blank\"><span style=\"color: #7f7f7f; text-decoration-color: #7f7f7f\">109</span></a>\n",
       "<span style=\"color: #7fbfbf; text-decoration-color: #7fbfbf\">                    </span>         py:<span style=\"color: #008080; text-decoration-color: #008080; font-weight: bold\">1351</span>: DataConversionWarning: A column-vector y was passed when a 1d <span style=\"color: #7f7f7f; text-decoration-color: #7f7f7f\">               </span>\n",
       "<span style=\"color: #7fbfbf; text-decoration-color: #7fbfbf\">                    </span>         array was expected. Please change the shape of y to <span style=\"font-weight: bold\">(</span>n_samples,<span style=\"font-weight: bold\">)</span>, for  <span style=\"color: #7f7f7f; text-decoration-color: #7f7f7f\">               </span>\n",
       "<span style=\"color: #7fbfbf; text-decoration-color: #7fbfbf\">                    </span>         example using <span style=\"color: #800080; text-decoration-color: #800080; font-weight: bold\">ravel</span><span style=\"font-weight: bold\">()</span>.                                                 <span style=\"color: #7f7f7f; text-decoration-color: #7f7f7f\">               </span>\n",
       "<span style=\"color: #7fbfbf; text-decoration-color: #7fbfbf\">                    </span>           return <span style=\"color: #800080; text-decoration-color: #800080; font-weight: bold\">fit_method</span><span style=\"font-weight: bold\">(</span>estimator, *args, **kwargs<span style=\"font-weight: bold\">)</span>                        <span style=\"color: #7f7f7f; text-decoration-color: #7f7f7f\">               </span>\n",
       "<span style=\"color: #7fbfbf; text-decoration-color: #7fbfbf\">                    </span>                                                                                <span style=\"color: #7f7f7f; text-decoration-color: #7f7f7f\">               </span>\n",
       "</pre>\n"
      ],
      "text/plain": [
       "\u001b[2;36m                   \u001b[0m\u001b[2;36m \u001b[0m\u001b[31mWARNING \u001b[0m C:\\Users\\dggua\\anaconda3\\envs\\test_env\\lib\\site-packages\\sklearn\\base. \u001b]8;id=157590;file://C:\\Users\\dggua\\anaconda3\\envs\\test_env\\lib\\warnings.py\u001b\\\u001b[2mwarnings.py\u001b[0m\u001b]8;;\u001b\\\u001b[2m:\u001b[0m\u001b]8;id=325764;file://C:\\Users\\dggua\\anaconda3\\envs\\test_env\\lib\\warnings.py#109\u001b\\\u001b[2m109\u001b[0m\u001b]8;;\u001b\\\n",
       "\u001b[2;36m                    \u001b[0m         py:\u001b[1;36m1351\u001b[0m: DataConversionWarning: A column-vector y was passed when a 1d \u001b[2m               \u001b[0m\n",
       "\u001b[2;36m                    \u001b[0m         array was expected. Please change the shape of y to \u001b[1m(\u001b[0mn_samples,\u001b[1m)\u001b[0m, for  \u001b[2m               \u001b[0m\n",
       "\u001b[2;36m                    \u001b[0m         example using \u001b[1;35mravel\u001b[0m\u001b[1m(\u001b[0m\u001b[1m)\u001b[0m.                                                 \u001b[2m               \u001b[0m\n",
       "\u001b[2;36m                    \u001b[0m           return \u001b[1;35mfit_method\u001b[0m\u001b[1m(\u001b[0mestimator, *args, **kwargs\u001b[1m)\u001b[0m                        \u001b[2m               \u001b[0m\n",
       "\u001b[2;36m                    \u001b[0m                                                                                \u001b[2m               \u001b[0m\n"
      ]
     },
     "metadata": {},
     "output_type": "display_data"
    },
    {
     "data": {
      "text/html": [
       "<pre style=\"white-space:pre;overflow-x:auto;line-height:normal;font-family:Menlo,'DejaVu Sans Mono',consolas,'Courier New',monospace\"><span style=\"color: #7fbfbf; text-decoration-color: #7fbfbf\">                    </span><span style=\"color: #800000; text-decoration-color: #800000\">WARNING </span> C:\\Users\\dggua\\anaconda3\\envs\\test_env\\lib\\site-packages\\sklearn\\base. <a href=\"file://C:\\Users\\dggua\\anaconda3\\envs\\test_env\\lib\\warnings.py\" target=\"_blank\"><span style=\"color: #7f7f7f; text-decoration-color: #7f7f7f\">warnings.py</span></a><span style=\"color: #7f7f7f; text-decoration-color: #7f7f7f\">:</span><a href=\"file://C:\\Users\\dggua\\anaconda3\\envs\\test_env\\lib\\warnings.py#109\" target=\"_blank\"><span style=\"color: #7f7f7f; text-decoration-color: #7f7f7f\">109</span></a>\n",
       "<span style=\"color: #7fbfbf; text-decoration-color: #7fbfbf\">                    </span>         py:<span style=\"color: #008080; text-decoration-color: #008080; font-weight: bold\">1351</span>: DataConversionWarning: A column-vector y was passed when a 1d <span style=\"color: #7f7f7f; text-decoration-color: #7f7f7f\">               </span>\n",
       "<span style=\"color: #7fbfbf; text-decoration-color: #7fbfbf\">                    </span>         array was expected. Please change the shape of y to <span style=\"font-weight: bold\">(</span>n_samples,<span style=\"font-weight: bold\">)</span>, for  <span style=\"color: #7f7f7f; text-decoration-color: #7f7f7f\">               </span>\n",
       "<span style=\"color: #7fbfbf; text-decoration-color: #7fbfbf\">                    </span>         example using <span style=\"color: #800080; text-decoration-color: #800080; font-weight: bold\">ravel</span><span style=\"font-weight: bold\">()</span>.                                                 <span style=\"color: #7f7f7f; text-decoration-color: #7f7f7f\">               </span>\n",
       "<span style=\"color: #7fbfbf; text-decoration-color: #7fbfbf\">                    </span>           return <span style=\"color: #800080; text-decoration-color: #800080; font-weight: bold\">fit_method</span><span style=\"font-weight: bold\">(</span>estimator, *args, **kwargs<span style=\"font-weight: bold\">)</span>                        <span style=\"color: #7f7f7f; text-decoration-color: #7f7f7f\">               </span>\n",
       "<span style=\"color: #7fbfbf; text-decoration-color: #7fbfbf\">                    </span>                                                                                <span style=\"color: #7f7f7f; text-decoration-color: #7f7f7f\">               </span>\n",
       "</pre>\n"
      ],
      "text/plain": [
       "\u001b[2;36m                   \u001b[0m\u001b[2;36m \u001b[0m\u001b[31mWARNING \u001b[0m C:\\Users\\dggua\\anaconda3\\envs\\test_env\\lib\\site-packages\\sklearn\\base. \u001b]8;id=284028;file://C:\\Users\\dggua\\anaconda3\\envs\\test_env\\lib\\warnings.py\u001b\\\u001b[2mwarnings.py\u001b[0m\u001b]8;;\u001b\\\u001b[2m:\u001b[0m\u001b]8;id=86090;file://C:\\Users\\dggua\\anaconda3\\envs\\test_env\\lib\\warnings.py#109\u001b\\\u001b[2m109\u001b[0m\u001b]8;;\u001b\\\n",
       "\u001b[2;36m                    \u001b[0m         py:\u001b[1;36m1351\u001b[0m: DataConversionWarning: A column-vector y was passed when a 1d \u001b[2m               \u001b[0m\n",
       "\u001b[2;36m                    \u001b[0m         array was expected. Please change the shape of y to \u001b[1m(\u001b[0mn_samples,\u001b[1m)\u001b[0m, for  \u001b[2m               \u001b[0m\n",
       "\u001b[2;36m                    \u001b[0m         example using \u001b[1;35mravel\u001b[0m\u001b[1m(\u001b[0m\u001b[1m)\u001b[0m.                                                 \u001b[2m               \u001b[0m\n",
       "\u001b[2;36m                    \u001b[0m           return \u001b[1;35mfit_method\u001b[0m\u001b[1m(\u001b[0mestimator, *args, **kwargs\u001b[1m)\u001b[0m                        \u001b[2m               \u001b[0m\n",
       "\u001b[2;36m                    \u001b[0m                                                                                \u001b[2m               \u001b[0m\n"
      ]
     },
     "metadata": {},
     "output_type": "display_data"
    },
    {
     "data": {
      "text/html": [
       "<pre style=\"white-space:pre;overflow-x:auto;line-height:normal;font-family:Menlo,'DejaVu Sans Mono',consolas,'Courier New',monospace\"><span style=\"color: #7fbfbf; text-decoration-color: #7fbfbf\">[06/22/24 16:18:11] </span><span style=\"color: #800000; text-decoration-color: #800000\">WARNING </span> C:\\Users\\dggua\\anaconda3\\envs\\test_env\\lib\\site-packages\\sklearn\\base. <a href=\"file://C:\\Users\\dggua\\anaconda3\\envs\\test_env\\lib\\warnings.py\" target=\"_blank\"><span style=\"color: #7f7f7f; text-decoration-color: #7f7f7f\">warnings.py</span></a><span style=\"color: #7f7f7f; text-decoration-color: #7f7f7f\">:</span><a href=\"file://C:\\Users\\dggua\\anaconda3\\envs\\test_env\\lib\\warnings.py#109\" target=\"_blank\"><span style=\"color: #7f7f7f; text-decoration-color: #7f7f7f\">109</span></a>\n",
       "<span style=\"color: #7fbfbf; text-decoration-color: #7fbfbf\">                    </span>         py:<span style=\"color: #008080; text-decoration-color: #008080; font-weight: bold\">1351</span>: DataConversionWarning: A column-vector y was passed when a 1d <span style=\"color: #7f7f7f; text-decoration-color: #7f7f7f\">               </span>\n",
       "<span style=\"color: #7fbfbf; text-decoration-color: #7fbfbf\">                    </span>         array was expected. Please change the shape of y to <span style=\"font-weight: bold\">(</span>n_samples,<span style=\"font-weight: bold\">)</span>, for  <span style=\"color: #7f7f7f; text-decoration-color: #7f7f7f\">               </span>\n",
       "<span style=\"color: #7fbfbf; text-decoration-color: #7fbfbf\">                    </span>         example using <span style=\"color: #800080; text-decoration-color: #800080; font-weight: bold\">ravel</span><span style=\"font-weight: bold\">()</span>.                                                 <span style=\"color: #7f7f7f; text-decoration-color: #7f7f7f\">               </span>\n",
       "<span style=\"color: #7fbfbf; text-decoration-color: #7fbfbf\">                    </span>           return <span style=\"color: #800080; text-decoration-color: #800080; font-weight: bold\">fit_method</span><span style=\"font-weight: bold\">(</span>estimator, *args, **kwargs<span style=\"font-weight: bold\">)</span>                        <span style=\"color: #7f7f7f; text-decoration-color: #7f7f7f\">               </span>\n",
       "<span style=\"color: #7fbfbf; text-decoration-color: #7fbfbf\">                    </span>                                                                                <span style=\"color: #7f7f7f; text-decoration-color: #7f7f7f\">               </span>\n",
       "</pre>\n"
      ],
      "text/plain": [
       "\u001b[2;36m[06/22/24 16:18:11]\u001b[0m\u001b[2;36m \u001b[0m\u001b[31mWARNING \u001b[0m C:\\Users\\dggua\\anaconda3\\envs\\test_env\\lib\\site-packages\\sklearn\\base. \u001b]8;id=463330;file://C:\\Users\\dggua\\anaconda3\\envs\\test_env\\lib\\warnings.py\u001b\\\u001b[2mwarnings.py\u001b[0m\u001b]8;;\u001b\\\u001b[2m:\u001b[0m\u001b]8;id=792992;file://C:\\Users\\dggua\\anaconda3\\envs\\test_env\\lib\\warnings.py#109\u001b\\\u001b[2m109\u001b[0m\u001b]8;;\u001b\\\n",
       "\u001b[2;36m                    \u001b[0m         py:\u001b[1;36m1351\u001b[0m: DataConversionWarning: A column-vector y was passed when a 1d \u001b[2m               \u001b[0m\n",
       "\u001b[2;36m                    \u001b[0m         array was expected. Please change the shape of y to \u001b[1m(\u001b[0mn_samples,\u001b[1m)\u001b[0m, for  \u001b[2m               \u001b[0m\n",
       "\u001b[2;36m                    \u001b[0m         example using \u001b[1;35mravel\u001b[0m\u001b[1m(\u001b[0m\u001b[1m)\u001b[0m.                                                 \u001b[2m               \u001b[0m\n",
       "\u001b[2;36m                    \u001b[0m           return \u001b[1;35mfit_method\u001b[0m\u001b[1m(\u001b[0mestimator, *args, **kwargs\u001b[1m)\u001b[0m                        \u001b[2m               \u001b[0m\n",
       "\u001b[2;36m                    \u001b[0m                                                                                \u001b[2m               \u001b[0m\n"
      ]
     },
     "metadata": {},
     "output_type": "display_data"
    },
    {
     "data": {
      "text/html": [
       "<pre style=\"white-space:pre;overflow-x:auto;line-height:normal;font-family:Menlo,'DejaVu Sans Mono',consolas,'Courier New',monospace\"><span style=\"color: #7fbfbf; text-decoration-color: #7fbfbf\">                    </span><span style=\"color: #800000; text-decoration-color: #800000\">WARNING </span> C:\\Users\\dggua\\anaconda3\\envs\\test_env\\lib\\site-packages\\sklearn\\base. <a href=\"file://C:\\Users\\dggua\\anaconda3\\envs\\test_env\\lib\\warnings.py\" target=\"_blank\"><span style=\"color: #7f7f7f; text-decoration-color: #7f7f7f\">warnings.py</span></a><span style=\"color: #7f7f7f; text-decoration-color: #7f7f7f\">:</span><a href=\"file://C:\\Users\\dggua\\anaconda3\\envs\\test_env\\lib\\warnings.py#109\" target=\"_blank\"><span style=\"color: #7f7f7f; text-decoration-color: #7f7f7f\">109</span></a>\n",
       "<span style=\"color: #7fbfbf; text-decoration-color: #7fbfbf\">                    </span>         py:<span style=\"color: #008080; text-decoration-color: #008080; font-weight: bold\">1351</span>: DataConversionWarning: A column-vector y was passed when a 1d <span style=\"color: #7f7f7f; text-decoration-color: #7f7f7f\">               </span>\n",
       "<span style=\"color: #7fbfbf; text-decoration-color: #7fbfbf\">                    </span>         array was expected. Please change the shape of y to <span style=\"font-weight: bold\">(</span>n_samples,<span style=\"font-weight: bold\">)</span>, for  <span style=\"color: #7f7f7f; text-decoration-color: #7f7f7f\">               </span>\n",
       "<span style=\"color: #7fbfbf; text-decoration-color: #7fbfbf\">                    </span>         example using <span style=\"color: #800080; text-decoration-color: #800080; font-weight: bold\">ravel</span><span style=\"font-weight: bold\">()</span>.                                                 <span style=\"color: #7f7f7f; text-decoration-color: #7f7f7f\">               </span>\n",
       "<span style=\"color: #7fbfbf; text-decoration-color: #7fbfbf\">                    </span>           return <span style=\"color: #800080; text-decoration-color: #800080; font-weight: bold\">fit_method</span><span style=\"font-weight: bold\">(</span>estimator, *args, **kwargs<span style=\"font-weight: bold\">)</span>                        <span style=\"color: #7f7f7f; text-decoration-color: #7f7f7f\">               </span>\n",
       "<span style=\"color: #7fbfbf; text-decoration-color: #7fbfbf\">                    </span>                                                                                <span style=\"color: #7f7f7f; text-decoration-color: #7f7f7f\">               </span>\n",
       "</pre>\n"
      ],
      "text/plain": [
       "\u001b[2;36m                   \u001b[0m\u001b[2;36m \u001b[0m\u001b[31mWARNING \u001b[0m C:\\Users\\dggua\\anaconda3\\envs\\test_env\\lib\\site-packages\\sklearn\\base. \u001b]8;id=105268;file://C:\\Users\\dggua\\anaconda3\\envs\\test_env\\lib\\warnings.py\u001b\\\u001b[2mwarnings.py\u001b[0m\u001b]8;;\u001b\\\u001b[2m:\u001b[0m\u001b]8;id=342300;file://C:\\Users\\dggua\\anaconda3\\envs\\test_env\\lib\\warnings.py#109\u001b\\\u001b[2m109\u001b[0m\u001b]8;;\u001b\\\n",
       "\u001b[2;36m                    \u001b[0m         py:\u001b[1;36m1351\u001b[0m: DataConversionWarning: A column-vector y was passed when a 1d \u001b[2m               \u001b[0m\n",
       "\u001b[2;36m                    \u001b[0m         array was expected. Please change the shape of y to \u001b[1m(\u001b[0mn_samples,\u001b[1m)\u001b[0m, for  \u001b[2m               \u001b[0m\n",
       "\u001b[2;36m                    \u001b[0m         example using \u001b[1;35mravel\u001b[0m\u001b[1m(\u001b[0m\u001b[1m)\u001b[0m.                                                 \u001b[2m               \u001b[0m\n",
       "\u001b[2;36m                    \u001b[0m           return \u001b[1;35mfit_method\u001b[0m\u001b[1m(\u001b[0mestimator, *args, **kwargs\u001b[1m)\u001b[0m                        \u001b[2m               \u001b[0m\n",
       "\u001b[2;36m                    \u001b[0m                                                                                \u001b[2m               \u001b[0m\n"
      ]
     },
     "metadata": {},
     "output_type": "display_data"
    },
    {
     "data": {
      "text/html": [
       "<pre style=\"white-space:pre;overflow-x:auto;line-height:normal;font-family:Menlo,'DejaVu Sans Mono',consolas,'Courier New',monospace\"><span style=\"color: #7fbfbf; text-decoration-color: #7fbfbf\">                    </span><span style=\"color: #800000; text-decoration-color: #800000\">WARNING </span> C:\\Users\\dggua\\anaconda3\\envs\\test_env\\lib\\site-packages\\sklearn\\base. <a href=\"file://C:\\Users\\dggua\\anaconda3\\envs\\test_env\\lib\\warnings.py\" target=\"_blank\"><span style=\"color: #7f7f7f; text-decoration-color: #7f7f7f\">warnings.py</span></a><span style=\"color: #7f7f7f; text-decoration-color: #7f7f7f\">:</span><a href=\"file://C:\\Users\\dggua\\anaconda3\\envs\\test_env\\lib\\warnings.py#109\" target=\"_blank\"><span style=\"color: #7f7f7f; text-decoration-color: #7f7f7f\">109</span></a>\n",
       "<span style=\"color: #7fbfbf; text-decoration-color: #7fbfbf\">                    </span>         py:<span style=\"color: #008080; text-decoration-color: #008080; font-weight: bold\">1351</span>: DataConversionWarning: A column-vector y was passed when a 1d <span style=\"color: #7f7f7f; text-decoration-color: #7f7f7f\">               </span>\n",
       "<span style=\"color: #7fbfbf; text-decoration-color: #7fbfbf\">                    </span>         array was expected. Please change the shape of y to <span style=\"font-weight: bold\">(</span>n_samples,<span style=\"font-weight: bold\">)</span>, for  <span style=\"color: #7f7f7f; text-decoration-color: #7f7f7f\">               </span>\n",
       "<span style=\"color: #7fbfbf; text-decoration-color: #7fbfbf\">                    </span>         example using <span style=\"color: #800080; text-decoration-color: #800080; font-weight: bold\">ravel</span><span style=\"font-weight: bold\">()</span>.                                                 <span style=\"color: #7f7f7f; text-decoration-color: #7f7f7f\">               </span>\n",
       "<span style=\"color: #7fbfbf; text-decoration-color: #7fbfbf\">                    </span>           return <span style=\"color: #800080; text-decoration-color: #800080; font-weight: bold\">fit_method</span><span style=\"font-weight: bold\">(</span>estimator, *args, **kwargs<span style=\"font-weight: bold\">)</span>                        <span style=\"color: #7f7f7f; text-decoration-color: #7f7f7f\">               </span>\n",
       "<span style=\"color: #7fbfbf; text-decoration-color: #7fbfbf\">                    </span>                                                                                <span style=\"color: #7f7f7f; text-decoration-color: #7f7f7f\">               </span>\n",
       "</pre>\n"
      ],
      "text/plain": [
       "\u001b[2;36m                   \u001b[0m\u001b[2;36m \u001b[0m\u001b[31mWARNING \u001b[0m C:\\Users\\dggua\\anaconda3\\envs\\test_env\\lib\\site-packages\\sklearn\\base. \u001b]8;id=468513;file://C:\\Users\\dggua\\anaconda3\\envs\\test_env\\lib\\warnings.py\u001b\\\u001b[2mwarnings.py\u001b[0m\u001b]8;;\u001b\\\u001b[2m:\u001b[0m\u001b]8;id=982922;file://C:\\Users\\dggua\\anaconda3\\envs\\test_env\\lib\\warnings.py#109\u001b\\\u001b[2m109\u001b[0m\u001b]8;;\u001b\\\n",
       "\u001b[2;36m                    \u001b[0m         py:\u001b[1;36m1351\u001b[0m: DataConversionWarning: A column-vector y was passed when a 1d \u001b[2m               \u001b[0m\n",
       "\u001b[2;36m                    \u001b[0m         array was expected. Please change the shape of y to \u001b[1m(\u001b[0mn_samples,\u001b[1m)\u001b[0m, for  \u001b[2m               \u001b[0m\n",
       "\u001b[2;36m                    \u001b[0m         example using \u001b[1;35mravel\u001b[0m\u001b[1m(\u001b[0m\u001b[1m)\u001b[0m.                                                 \u001b[2m               \u001b[0m\n",
       "\u001b[2;36m                    \u001b[0m           return \u001b[1;35mfit_method\u001b[0m\u001b[1m(\u001b[0mestimator, *args, **kwargs\u001b[1m)\u001b[0m                        \u001b[2m               \u001b[0m\n",
       "\u001b[2;36m                    \u001b[0m                                                                                \u001b[2m               \u001b[0m\n"
      ]
     },
     "metadata": {},
     "output_type": "display_data"
    },
    {
     "data": {
      "text/html": [
       "<pre style=\"white-space:pre;overflow-x:auto;line-height:normal;font-family:Menlo,'DejaVu Sans Mono',consolas,'Courier New',monospace\"><span style=\"color: #7fbfbf; text-decoration-color: #7fbfbf\">                    </span><span style=\"color: #800000; text-decoration-color: #800000\">WARNING </span> C:\\Users\\dggua\\anaconda3\\envs\\test_env\\lib\\site-packages\\sklearn\\base. <a href=\"file://C:\\Users\\dggua\\anaconda3\\envs\\test_env\\lib\\warnings.py\" target=\"_blank\"><span style=\"color: #7f7f7f; text-decoration-color: #7f7f7f\">warnings.py</span></a><span style=\"color: #7f7f7f; text-decoration-color: #7f7f7f\">:</span><a href=\"file://C:\\Users\\dggua\\anaconda3\\envs\\test_env\\lib\\warnings.py#109\" target=\"_blank\"><span style=\"color: #7f7f7f; text-decoration-color: #7f7f7f\">109</span></a>\n",
       "<span style=\"color: #7fbfbf; text-decoration-color: #7fbfbf\">                    </span>         py:<span style=\"color: #008080; text-decoration-color: #008080; font-weight: bold\">1351</span>: DataConversionWarning: A column-vector y was passed when a 1d <span style=\"color: #7f7f7f; text-decoration-color: #7f7f7f\">               </span>\n",
       "<span style=\"color: #7fbfbf; text-decoration-color: #7fbfbf\">                    </span>         array was expected. Please change the shape of y to <span style=\"font-weight: bold\">(</span>n_samples,<span style=\"font-weight: bold\">)</span>, for  <span style=\"color: #7f7f7f; text-decoration-color: #7f7f7f\">               </span>\n",
       "<span style=\"color: #7fbfbf; text-decoration-color: #7fbfbf\">                    </span>         example using <span style=\"color: #800080; text-decoration-color: #800080; font-weight: bold\">ravel</span><span style=\"font-weight: bold\">()</span>.                                                 <span style=\"color: #7f7f7f; text-decoration-color: #7f7f7f\">               </span>\n",
       "<span style=\"color: #7fbfbf; text-decoration-color: #7fbfbf\">                    </span>           return <span style=\"color: #800080; text-decoration-color: #800080; font-weight: bold\">fit_method</span><span style=\"font-weight: bold\">(</span>estimator, *args, **kwargs<span style=\"font-weight: bold\">)</span>                        <span style=\"color: #7f7f7f; text-decoration-color: #7f7f7f\">               </span>\n",
       "<span style=\"color: #7fbfbf; text-decoration-color: #7fbfbf\">                    </span>                                                                                <span style=\"color: #7f7f7f; text-decoration-color: #7f7f7f\">               </span>\n",
       "</pre>\n"
      ],
      "text/plain": [
       "\u001b[2;36m                   \u001b[0m\u001b[2;36m \u001b[0m\u001b[31mWARNING \u001b[0m C:\\Users\\dggua\\anaconda3\\envs\\test_env\\lib\\site-packages\\sklearn\\base. \u001b]8;id=194644;file://C:\\Users\\dggua\\anaconda3\\envs\\test_env\\lib\\warnings.py\u001b\\\u001b[2mwarnings.py\u001b[0m\u001b]8;;\u001b\\\u001b[2m:\u001b[0m\u001b]8;id=145402;file://C:\\Users\\dggua\\anaconda3\\envs\\test_env\\lib\\warnings.py#109\u001b\\\u001b[2m109\u001b[0m\u001b]8;;\u001b\\\n",
       "\u001b[2;36m                    \u001b[0m         py:\u001b[1;36m1351\u001b[0m: DataConversionWarning: A column-vector y was passed when a 1d \u001b[2m               \u001b[0m\n",
       "\u001b[2;36m                    \u001b[0m         array was expected. Please change the shape of y to \u001b[1m(\u001b[0mn_samples,\u001b[1m)\u001b[0m, for  \u001b[2m               \u001b[0m\n",
       "\u001b[2;36m                    \u001b[0m         example using \u001b[1;35mravel\u001b[0m\u001b[1m(\u001b[0m\u001b[1m)\u001b[0m.                                                 \u001b[2m               \u001b[0m\n",
       "\u001b[2;36m                    \u001b[0m           return \u001b[1;35mfit_method\u001b[0m\u001b[1m(\u001b[0mestimator, *args, **kwargs\u001b[1m)\u001b[0m                        \u001b[2m               \u001b[0m\n",
       "\u001b[2;36m                    \u001b[0m                                                                                \u001b[2m               \u001b[0m\n"
      ]
     },
     "metadata": {},
     "output_type": "display_data"
    },
    {
     "data": {
      "text/html": [
       "<pre style=\"white-space:pre;overflow-x:auto;line-height:normal;font-family:Menlo,'DejaVu Sans Mono',consolas,'Courier New',monospace\"><span style=\"color: #7fbfbf; text-decoration-color: #7fbfbf\">                    </span><span style=\"color: #800000; text-decoration-color: #800000\">WARNING </span> C:\\Users\\dggua\\anaconda3\\envs\\test_env\\lib\\site-packages\\sklearn\\base. <a href=\"file://C:\\Users\\dggua\\anaconda3\\envs\\test_env\\lib\\warnings.py\" target=\"_blank\"><span style=\"color: #7f7f7f; text-decoration-color: #7f7f7f\">warnings.py</span></a><span style=\"color: #7f7f7f; text-decoration-color: #7f7f7f\">:</span><a href=\"file://C:\\Users\\dggua\\anaconda3\\envs\\test_env\\lib\\warnings.py#109\" target=\"_blank\"><span style=\"color: #7f7f7f; text-decoration-color: #7f7f7f\">109</span></a>\n",
       "<span style=\"color: #7fbfbf; text-decoration-color: #7fbfbf\">                    </span>         py:<span style=\"color: #008080; text-decoration-color: #008080; font-weight: bold\">1351</span>: DataConversionWarning: A column-vector y was passed when a 1d <span style=\"color: #7f7f7f; text-decoration-color: #7f7f7f\">               </span>\n",
       "<span style=\"color: #7fbfbf; text-decoration-color: #7fbfbf\">                    </span>         array was expected. Please change the shape of y to <span style=\"font-weight: bold\">(</span>n_samples,<span style=\"font-weight: bold\">)</span>, for  <span style=\"color: #7f7f7f; text-decoration-color: #7f7f7f\">               </span>\n",
       "<span style=\"color: #7fbfbf; text-decoration-color: #7fbfbf\">                    </span>         example using <span style=\"color: #800080; text-decoration-color: #800080; font-weight: bold\">ravel</span><span style=\"font-weight: bold\">()</span>.                                                 <span style=\"color: #7f7f7f; text-decoration-color: #7f7f7f\">               </span>\n",
       "<span style=\"color: #7fbfbf; text-decoration-color: #7fbfbf\">                    </span>           return <span style=\"color: #800080; text-decoration-color: #800080; font-weight: bold\">fit_method</span><span style=\"font-weight: bold\">(</span>estimator, *args, **kwargs<span style=\"font-weight: bold\">)</span>                        <span style=\"color: #7f7f7f; text-decoration-color: #7f7f7f\">               </span>\n",
       "<span style=\"color: #7fbfbf; text-decoration-color: #7fbfbf\">                    </span>                                                                                <span style=\"color: #7f7f7f; text-decoration-color: #7f7f7f\">               </span>\n",
       "</pre>\n"
      ],
      "text/plain": [
       "\u001b[2;36m                   \u001b[0m\u001b[2;36m \u001b[0m\u001b[31mWARNING \u001b[0m C:\\Users\\dggua\\anaconda3\\envs\\test_env\\lib\\site-packages\\sklearn\\base. \u001b]8;id=488861;file://C:\\Users\\dggua\\anaconda3\\envs\\test_env\\lib\\warnings.py\u001b\\\u001b[2mwarnings.py\u001b[0m\u001b]8;;\u001b\\\u001b[2m:\u001b[0m\u001b]8;id=485462;file://C:\\Users\\dggua\\anaconda3\\envs\\test_env\\lib\\warnings.py#109\u001b\\\u001b[2m109\u001b[0m\u001b]8;;\u001b\\\n",
       "\u001b[2;36m                    \u001b[0m         py:\u001b[1;36m1351\u001b[0m: DataConversionWarning: A column-vector y was passed when a 1d \u001b[2m               \u001b[0m\n",
       "\u001b[2;36m                    \u001b[0m         array was expected. Please change the shape of y to \u001b[1m(\u001b[0mn_samples,\u001b[1m)\u001b[0m, for  \u001b[2m               \u001b[0m\n",
       "\u001b[2;36m                    \u001b[0m         example using \u001b[1;35mravel\u001b[0m\u001b[1m(\u001b[0m\u001b[1m)\u001b[0m.                                                 \u001b[2m               \u001b[0m\n",
       "\u001b[2;36m                    \u001b[0m           return \u001b[1;35mfit_method\u001b[0m\u001b[1m(\u001b[0mestimator, *args, **kwargs\u001b[1m)\u001b[0m                        \u001b[2m               \u001b[0m\n",
       "\u001b[2;36m                    \u001b[0m                                                                                \u001b[2m               \u001b[0m\n"
      ]
     },
     "metadata": {},
     "output_type": "display_data"
    },
    {
     "data": {
      "text/html": [
       "<pre style=\"white-space:pre;overflow-x:auto;line-height:normal;font-family:Menlo,'DejaVu Sans Mono',consolas,'Courier New',monospace\"><span style=\"color: #7fbfbf; text-decoration-color: #7fbfbf\">                    </span><span style=\"color: #800000; text-decoration-color: #800000\">WARNING </span> C:\\Users\\dggua\\anaconda3\\envs\\test_env\\lib\\site-packages\\sklearn\\base. <a href=\"file://C:\\Users\\dggua\\anaconda3\\envs\\test_env\\lib\\warnings.py\" target=\"_blank\"><span style=\"color: #7f7f7f; text-decoration-color: #7f7f7f\">warnings.py</span></a><span style=\"color: #7f7f7f; text-decoration-color: #7f7f7f\">:</span><a href=\"file://C:\\Users\\dggua\\anaconda3\\envs\\test_env\\lib\\warnings.py#109\" target=\"_blank\"><span style=\"color: #7f7f7f; text-decoration-color: #7f7f7f\">109</span></a>\n",
       "<span style=\"color: #7fbfbf; text-decoration-color: #7fbfbf\">                    </span>         py:<span style=\"color: #008080; text-decoration-color: #008080; font-weight: bold\">1351</span>: DataConversionWarning: A column-vector y was passed when a 1d <span style=\"color: #7f7f7f; text-decoration-color: #7f7f7f\">               </span>\n",
       "<span style=\"color: #7fbfbf; text-decoration-color: #7fbfbf\">                    </span>         array was expected. Please change the shape of y to <span style=\"font-weight: bold\">(</span>n_samples,<span style=\"font-weight: bold\">)</span>, for  <span style=\"color: #7f7f7f; text-decoration-color: #7f7f7f\">               </span>\n",
       "<span style=\"color: #7fbfbf; text-decoration-color: #7fbfbf\">                    </span>         example using <span style=\"color: #800080; text-decoration-color: #800080; font-weight: bold\">ravel</span><span style=\"font-weight: bold\">()</span>.                                                 <span style=\"color: #7f7f7f; text-decoration-color: #7f7f7f\">               </span>\n",
       "<span style=\"color: #7fbfbf; text-decoration-color: #7fbfbf\">                    </span>           return <span style=\"color: #800080; text-decoration-color: #800080; font-weight: bold\">fit_method</span><span style=\"font-weight: bold\">(</span>estimator, *args, **kwargs<span style=\"font-weight: bold\">)</span>                        <span style=\"color: #7f7f7f; text-decoration-color: #7f7f7f\">               </span>\n",
       "<span style=\"color: #7fbfbf; text-decoration-color: #7fbfbf\">                    </span>                                                                                <span style=\"color: #7f7f7f; text-decoration-color: #7f7f7f\">               </span>\n",
       "</pre>\n"
      ],
      "text/plain": [
       "\u001b[2;36m                   \u001b[0m\u001b[2;36m \u001b[0m\u001b[31mWARNING \u001b[0m C:\\Users\\dggua\\anaconda3\\envs\\test_env\\lib\\site-packages\\sklearn\\base. \u001b]8;id=781518;file://C:\\Users\\dggua\\anaconda3\\envs\\test_env\\lib\\warnings.py\u001b\\\u001b[2mwarnings.py\u001b[0m\u001b]8;;\u001b\\\u001b[2m:\u001b[0m\u001b]8;id=763499;file://C:\\Users\\dggua\\anaconda3\\envs\\test_env\\lib\\warnings.py#109\u001b\\\u001b[2m109\u001b[0m\u001b]8;;\u001b\\\n",
       "\u001b[2;36m                    \u001b[0m         py:\u001b[1;36m1351\u001b[0m: DataConversionWarning: A column-vector y was passed when a 1d \u001b[2m               \u001b[0m\n",
       "\u001b[2;36m                    \u001b[0m         array was expected. Please change the shape of y to \u001b[1m(\u001b[0mn_samples,\u001b[1m)\u001b[0m, for  \u001b[2m               \u001b[0m\n",
       "\u001b[2;36m                    \u001b[0m         example using \u001b[1;35mravel\u001b[0m\u001b[1m(\u001b[0m\u001b[1m)\u001b[0m.                                                 \u001b[2m               \u001b[0m\n",
       "\u001b[2;36m                    \u001b[0m           return \u001b[1;35mfit_method\u001b[0m\u001b[1m(\u001b[0mestimator, *args, **kwargs\u001b[1m)\u001b[0m                        \u001b[2m               \u001b[0m\n",
       "\u001b[2;36m                    \u001b[0m                                                                                \u001b[2m               \u001b[0m\n"
      ]
     },
     "metadata": {},
     "output_type": "display_data"
    },
    {
     "data": {
      "text/html": [
       "<pre style=\"white-space:pre;overflow-x:auto;line-height:normal;font-family:Menlo,'DejaVu Sans Mono',consolas,'Courier New',monospace\"><span style=\"color: #7fbfbf; text-decoration-color: #7fbfbf\">                    </span><span style=\"color: #800000; text-decoration-color: #800000\">WARNING </span> C:\\Users\\dggua\\anaconda3\\envs\\test_env\\lib\\site-packages\\sklearn\\base. <a href=\"file://C:\\Users\\dggua\\anaconda3\\envs\\test_env\\lib\\warnings.py\" target=\"_blank\"><span style=\"color: #7f7f7f; text-decoration-color: #7f7f7f\">warnings.py</span></a><span style=\"color: #7f7f7f; text-decoration-color: #7f7f7f\">:</span><a href=\"file://C:\\Users\\dggua\\anaconda3\\envs\\test_env\\lib\\warnings.py#109\" target=\"_blank\"><span style=\"color: #7f7f7f; text-decoration-color: #7f7f7f\">109</span></a>\n",
       "<span style=\"color: #7fbfbf; text-decoration-color: #7fbfbf\">                    </span>         py:<span style=\"color: #008080; text-decoration-color: #008080; font-weight: bold\">1351</span>: DataConversionWarning: A column-vector y was passed when a 1d <span style=\"color: #7f7f7f; text-decoration-color: #7f7f7f\">               </span>\n",
       "<span style=\"color: #7fbfbf; text-decoration-color: #7fbfbf\">                    </span>         array was expected. Please change the shape of y to <span style=\"font-weight: bold\">(</span>n_samples,<span style=\"font-weight: bold\">)</span>, for  <span style=\"color: #7f7f7f; text-decoration-color: #7f7f7f\">               </span>\n",
       "<span style=\"color: #7fbfbf; text-decoration-color: #7fbfbf\">                    </span>         example using <span style=\"color: #800080; text-decoration-color: #800080; font-weight: bold\">ravel</span><span style=\"font-weight: bold\">()</span>.                                                 <span style=\"color: #7f7f7f; text-decoration-color: #7f7f7f\">               </span>\n",
       "<span style=\"color: #7fbfbf; text-decoration-color: #7fbfbf\">                    </span>           return <span style=\"color: #800080; text-decoration-color: #800080; font-weight: bold\">fit_method</span><span style=\"font-weight: bold\">(</span>estimator, *args, **kwargs<span style=\"font-weight: bold\">)</span>                        <span style=\"color: #7f7f7f; text-decoration-color: #7f7f7f\">               </span>\n",
       "<span style=\"color: #7fbfbf; text-decoration-color: #7fbfbf\">                    </span>                                                                                <span style=\"color: #7f7f7f; text-decoration-color: #7f7f7f\">               </span>\n",
       "</pre>\n"
      ],
      "text/plain": [
       "\u001b[2;36m                   \u001b[0m\u001b[2;36m \u001b[0m\u001b[31mWARNING \u001b[0m C:\\Users\\dggua\\anaconda3\\envs\\test_env\\lib\\site-packages\\sklearn\\base. \u001b]8;id=437702;file://C:\\Users\\dggua\\anaconda3\\envs\\test_env\\lib\\warnings.py\u001b\\\u001b[2mwarnings.py\u001b[0m\u001b]8;;\u001b\\\u001b[2m:\u001b[0m\u001b]8;id=354782;file://C:\\Users\\dggua\\anaconda3\\envs\\test_env\\lib\\warnings.py#109\u001b\\\u001b[2m109\u001b[0m\u001b]8;;\u001b\\\n",
       "\u001b[2;36m                    \u001b[0m         py:\u001b[1;36m1351\u001b[0m: DataConversionWarning: A column-vector y was passed when a 1d \u001b[2m               \u001b[0m\n",
       "\u001b[2;36m                    \u001b[0m         array was expected. Please change the shape of y to \u001b[1m(\u001b[0mn_samples,\u001b[1m)\u001b[0m, for  \u001b[2m               \u001b[0m\n",
       "\u001b[2;36m                    \u001b[0m         example using \u001b[1;35mravel\u001b[0m\u001b[1m(\u001b[0m\u001b[1m)\u001b[0m.                                                 \u001b[2m               \u001b[0m\n",
       "\u001b[2;36m                    \u001b[0m           return \u001b[1;35mfit_method\u001b[0m\u001b[1m(\u001b[0mestimator, *args, **kwargs\u001b[1m)\u001b[0m                        \u001b[2m               \u001b[0m\n",
       "\u001b[2;36m                    \u001b[0m                                                                                \u001b[2m               \u001b[0m\n"
      ]
     },
     "metadata": {},
     "output_type": "display_data"
    },
    {
     "data": {
      "text/html": [
       "<pre style=\"white-space:pre;overflow-x:auto;line-height:normal;font-family:Menlo,'DejaVu Sans Mono',consolas,'Courier New',monospace\"><span style=\"color: #7fbfbf; text-decoration-color: #7fbfbf\">[06/22/24 16:18:12] </span><span style=\"color: #800000; text-decoration-color: #800000\">WARNING </span> C:\\Users\\dggua\\anaconda3\\envs\\test_env\\lib\\site-packages\\sklearn\\base. <a href=\"file://C:\\Users\\dggua\\anaconda3\\envs\\test_env\\lib\\warnings.py\" target=\"_blank\"><span style=\"color: #7f7f7f; text-decoration-color: #7f7f7f\">warnings.py</span></a><span style=\"color: #7f7f7f; text-decoration-color: #7f7f7f\">:</span><a href=\"file://C:\\Users\\dggua\\anaconda3\\envs\\test_env\\lib\\warnings.py#109\" target=\"_blank\"><span style=\"color: #7f7f7f; text-decoration-color: #7f7f7f\">109</span></a>\n",
       "<span style=\"color: #7fbfbf; text-decoration-color: #7fbfbf\">                    </span>         py:<span style=\"color: #008080; text-decoration-color: #008080; font-weight: bold\">1351</span>: DataConversionWarning: A column-vector y was passed when a 1d <span style=\"color: #7f7f7f; text-decoration-color: #7f7f7f\">               </span>\n",
       "<span style=\"color: #7fbfbf; text-decoration-color: #7fbfbf\">                    </span>         array was expected. Please change the shape of y to <span style=\"font-weight: bold\">(</span>n_samples,<span style=\"font-weight: bold\">)</span>, for  <span style=\"color: #7f7f7f; text-decoration-color: #7f7f7f\">               </span>\n",
       "<span style=\"color: #7fbfbf; text-decoration-color: #7fbfbf\">                    </span>         example using <span style=\"color: #800080; text-decoration-color: #800080; font-weight: bold\">ravel</span><span style=\"font-weight: bold\">()</span>.                                                 <span style=\"color: #7f7f7f; text-decoration-color: #7f7f7f\">               </span>\n",
       "<span style=\"color: #7fbfbf; text-decoration-color: #7fbfbf\">                    </span>           return <span style=\"color: #800080; text-decoration-color: #800080; font-weight: bold\">fit_method</span><span style=\"font-weight: bold\">(</span>estimator, *args, **kwargs<span style=\"font-weight: bold\">)</span>                        <span style=\"color: #7f7f7f; text-decoration-color: #7f7f7f\">               </span>\n",
       "<span style=\"color: #7fbfbf; text-decoration-color: #7fbfbf\">                    </span>                                                                                <span style=\"color: #7f7f7f; text-decoration-color: #7f7f7f\">               </span>\n",
       "</pre>\n"
      ],
      "text/plain": [
       "\u001b[2;36m[06/22/24 16:18:12]\u001b[0m\u001b[2;36m \u001b[0m\u001b[31mWARNING \u001b[0m C:\\Users\\dggua\\anaconda3\\envs\\test_env\\lib\\site-packages\\sklearn\\base. \u001b]8;id=945582;file://C:\\Users\\dggua\\anaconda3\\envs\\test_env\\lib\\warnings.py\u001b\\\u001b[2mwarnings.py\u001b[0m\u001b]8;;\u001b\\\u001b[2m:\u001b[0m\u001b]8;id=79950;file://C:\\Users\\dggua\\anaconda3\\envs\\test_env\\lib\\warnings.py#109\u001b\\\u001b[2m109\u001b[0m\u001b]8;;\u001b\\\n",
       "\u001b[2;36m                    \u001b[0m         py:\u001b[1;36m1351\u001b[0m: DataConversionWarning: A column-vector y was passed when a 1d \u001b[2m               \u001b[0m\n",
       "\u001b[2;36m                    \u001b[0m         array was expected. Please change the shape of y to \u001b[1m(\u001b[0mn_samples,\u001b[1m)\u001b[0m, for  \u001b[2m               \u001b[0m\n",
       "\u001b[2;36m                    \u001b[0m         example using \u001b[1;35mravel\u001b[0m\u001b[1m(\u001b[0m\u001b[1m)\u001b[0m.                                                 \u001b[2m               \u001b[0m\n",
       "\u001b[2;36m                    \u001b[0m           return \u001b[1;35mfit_method\u001b[0m\u001b[1m(\u001b[0mestimator, *args, **kwargs\u001b[1m)\u001b[0m                        \u001b[2m               \u001b[0m\n",
       "\u001b[2;36m                    \u001b[0m                                                                                \u001b[2m               \u001b[0m\n"
      ]
     },
     "metadata": {},
     "output_type": "display_data"
    },
    {
     "data": {
      "text/html": [
       "<pre style=\"white-space:pre;overflow-x:auto;line-height:normal;font-family:Menlo,'DejaVu Sans Mono',consolas,'Courier New',monospace\"><span style=\"color: #7fbfbf; text-decoration-color: #7fbfbf\">                    </span><span style=\"color: #800000; text-decoration-color: #800000\">WARNING </span> C:\\Users\\dggua\\anaconda3\\envs\\test_env\\lib\\site-packages\\sklearn\\base. <a href=\"file://C:\\Users\\dggua\\anaconda3\\envs\\test_env\\lib\\warnings.py\" target=\"_blank\"><span style=\"color: #7f7f7f; text-decoration-color: #7f7f7f\">warnings.py</span></a><span style=\"color: #7f7f7f; text-decoration-color: #7f7f7f\">:</span><a href=\"file://C:\\Users\\dggua\\anaconda3\\envs\\test_env\\lib\\warnings.py#109\" target=\"_blank\"><span style=\"color: #7f7f7f; text-decoration-color: #7f7f7f\">109</span></a>\n",
       "<span style=\"color: #7fbfbf; text-decoration-color: #7fbfbf\">                    </span>         py:<span style=\"color: #008080; text-decoration-color: #008080; font-weight: bold\">1351</span>: DataConversionWarning: A column-vector y was passed when a 1d <span style=\"color: #7f7f7f; text-decoration-color: #7f7f7f\">               </span>\n",
       "<span style=\"color: #7fbfbf; text-decoration-color: #7fbfbf\">                    </span>         array was expected. Please change the shape of y to <span style=\"font-weight: bold\">(</span>n_samples,<span style=\"font-weight: bold\">)</span>, for  <span style=\"color: #7f7f7f; text-decoration-color: #7f7f7f\">               </span>\n",
       "<span style=\"color: #7fbfbf; text-decoration-color: #7fbfbf\">                    </span>         example using <span style=\"color: #800080; text-decoration-color: #800080; font-weight: bold\">ravel</span><span style=\"font-weight: bold\">()</span>.                                                 <span style=\"color: #7f7f7f; text-decoration-color: #7f7f7f\">               </span>\n",
       "<span style=\"color: #7fbfbf; text-decoration-color: #7fbfbf\">                    </span>           return <span style=\"color: #800080; text-decoration-color: #800080; font-weight: bold\">fit_method</span><span style=\"font-weight: bold\">(</span>estimator, *args, **kwargs<span style=\"font-weight: bold\">)</span>                        <span style=\"color: #7f7f7f; text-decoration-color: #7f7f7f\">               </span>\n",
       "<span style=\"color: #7fbfbf; text-decoration-color: #7fbfbf\">                    </span>                                                                                <span style=\"color: #7f7f7f; text-decoration-color: #7f7f7f\">               </span>\n",
       "</pre>\n"
      ],
      "text/plain": [
       "\u001b[2;36m                   \u001b[0m\u001b[2;36m \u001b[0m\u001b[31mWARNING \u001b[0m C:\\Users\\dggua\\anaconda3\\envs\\test_env\\lib\\site-packages\\sklearn\\base. \u001b]8;id=448536;file://C:\\Users\\dggua\\anaconda3\\envs\\test_env\\lib\\warnings.py\u001b\\\u001b[2mwarnings.py\u001b[0m\u001b]8;;\u001b\\\u001b[2m:\u001b[0m\u001b]8;id=173587;file://C:\\Users\\dggua\\anaconda3\\envs\\test_env\\lib\\warnings.py#109\u001b\\\u001b[2m109\u001b[0m\u001b]8;;\u001b\\\n",
       "\u001b[2;36m                    \u001b[0m         py:\u001b[1;36m1351\u001b[0m: DataConversionWarning: A column-vector y was passed when a 1d \u001b[2m               \u001b[0m\n",
       "\u001b[2;36m                    \u001b[0m         array was expected. Please change the shape of y to \u001b[1m(\u001b[0mn_samples,\u001b[1m)\u001b[0m, for  \u001b[2m               \u001b[0m\n",
       "\u001b[2;36m                    \u001b[0m         example using \u001b[1;35mravel\u001b[0m\u001b[1m(\u001b[0m\u001b[1m)\u001b[0m.                                                 \u001b[2m               \u001b[0m\n",
       "\u001b[2;36m                    \u001b[0m           return \u001b[1;35mfit_method\u001b[0m\u001b[1m(\u001b[0mestimator, *args, **kwargs\u001b[1m)\u001b[0m                        \u001b[2m               \u001b[0m\n",
       "\u001b[2;36m                    \u001b[0m                                                                                \u001b[2m               \u001b[0m\n"
      ]
     },
     "metadata": {},
     "output_type": "display_data"
    },
    {
     "data": {
      "text/html": [
       "<pre style=\"white-space:pre;overflow-x:auto;line-height:normal;font-family:Menlo,'DejaVu Sans Mono',consolas,'Courier New',monospace\"><span style=\"color: #7fbfbf; text-decoration-color: #7fbfbf\">                    </span><span style=\"color: #800000; text-decoration-color: #800000\">WARNING </span> C:\\Users\\dggua\\anaconda3\\envs\\test_env\\lib\\site-packages\\sklearn\\base. <a href=\"file://C:\\Users\\dggua\\anaconda3\\envs\\test_env\\lib\\warnings.py\" target=\"_blank\"><span style=\"color: #7f7f7f; text-decoration-color: #7f7f7f\">warnings.py</span></a><span style=\"color: #7f7f7f; text-decoration-color: #7f7f7f\">:</span><a href=\"file://C:\\Users\\dggua\\anaconda3\\envs\\test_env\\lib\\warnings.py#109\" target=\"_blank\"><span style=\"color: #7f7f7f; text-decoration-color: #7f7f7f\">109</span></a>\n",
       "<span style=\"color: #7fbfbf; text-decoration-color: #7fbfbf\">                    </span>         py:<span style=\"color: #008080; text-decoration-color: #008080; font-weight: bold\">1351</span>: DataConversionWarning: A column-vector y was passed when a 1d <span style=\"color: #7f7f7f; text-decoration-color: #7f7f7f\">               </span>\n",
       "<span style=\"color: #7fbfbf; text-decoration-color: #7fbfbf\">                    </span>         array was expected. Please change the shape of y to <span style=\"font-weight: bold\">(</span>n_samples,<span style=\"font-weight: bold\">)</span>, for  <span style=\"color: #7f7f7f; text-decoration-color: #7f7f7f\">               </span>\n",
       "<span style=\"color: #7fbfbf; text-decoration-color: #7fbfbf\">                    </span>         example using <span style=\"color: #800080; text-decoration-color: #800080; font-weight: bold\">ravel</span><span style=\"font-weight: bold\">()</span>.                                                 <span style=\"color: #7f7f7f; text-decoration-color: #7f7f7f\">               </span>\n",
       "<span style=\"color: #7fbfbf; text-decoration-color: #7fbfbf\">                    </span>           return <span style=\"color: #800080; text-decoration-color: #800080; font-weight: bold\">fit_method</span><span style=\"font-weight: bold\">(</span>estimator, *args, **kwargs<span style=\"font-weight: bold\">)</span>                        <span style=\"color: #7f7f7f; text-decoration-color: #7f7f7f\">               </span>\n",
       "<span style=\"color: #7fbfbf; text-decoration-color: #7fbfbf\">                    </span>                                                                                <span style=\"color: #7f7f7f; text-decoration-color: #7f7f7f\">               </span>\n",
       "</pre>\n"
      ],
      "text/plain": [
       "\u001b[2;36m                   \u001b[0m\u001b[2;36m \u001b[0m\u001b[31mWARNING \u001b[0m C:\\Users\\dggua\\anaconda3\\envs\\test_env\\lib\\site-packages\\sklearn\\base. \u001b]8;id=836281;file://C:\\Users\\dggua\\anaconda3\\envs\\test_env\\lib\\warnings.py\u001b\\\u001b[2mwarnings.py\u001b[0m\u001b]8;;\u001b\\\u001b[2m:\u001b[0m\u001b]8;id=956644;file://C:\\Users\\dggua\\anaconda3\\envs\\test_env\\lib\\warnings.py#109\u001b\\\u001b[2m109\u001b[0m\u001b]8;;\u001b\\\n",
       "\u001b[2;36m                    \u001b[0m         py:\u001b[1;36m1351\u001b[0m: DataConversionWarning: A column-vector y was passed when a 1d \u001b[2m               \u001b[0m\n",
       "\u001b[2;36m                    \u001b[0m         array was expected. Please change the shape of y to \u001b[1m(\u001b[0mn_samples,\u001b[1m)\u001b[0m, for  \u001b[2m               \u001b[0m\n",
       "\u001b[2;36m                    \u001b[0m         example using \u001b[1;35mravel\u001b[0m\u001b[1m(\u001b[0m\u001b[1m)\u001b[0m.                                                 \u001b[2m               \u001b[0m\n",
       "\u001b[2;36m                    \u001b[0m           return \u001b[1;35mfit_method\u001b[0m\u001b[1m(\u001b[0mestimator, *args, **kwargs\u001b[1m)\u001b[0m                        \u001b[2m               \u001b[0m\n",
       "\u001b[2;36m                    \u001b[0m                                                                                \u001b[2m               \u001b[0m\n"
      ]
     },
     "metadata": {},
     "output_type": "display_data"
    },
    {
     "data": {
      "text/html": [
       "<pre style=\"white-space:pre;overflow-x:auto;line-height:normal;font-family:Menlo,'DejaVu Sans Mono',consolas,'Courier New',monospace\"><span style=\"color: #7fbfbf; text-decoration-color: #7fbfbf\">                    </span><span style=\"color: #800000; text-decoration-color: #800000\">WARNING </span> C:\\Users\\dggua\\anaconda3\\envs\\test_env\\lib\\site-packages\\sklearn\\base. <a href=\"file://C:\\Users\\dggua\\anaconda3\\envs\\test_env\\lib\\warnings.py\" target=\"_blank\"><span style=\"color: #7f7f7f; text-decoration-color: #7f7f7f\">warnings.py</span></a><span style=\"color: #7f7f7f; text-decoration-color: #7f7f7f\">:</span><a href=\"file://C:\\Users\\dggua\\anaconda3\\envs\\test_env\\lib\\warnings.py#109\" target=\"_blank\"><span style=\"color: #7f7f7f; text-decoration-color: #7f7f7f\">109</span></a>\n",
       "<span style=\"color: #7fbfbf; text-decoration-color: #7fbfbf\">                    </span>         py:<span style=\"color: #008080; text-decoration-color: #008080; font-weight: bold\">1351</span>: DataConversionWarning: A column-vector y was passed when a 1d <span style=\"color: #7f7f7f; text-decoration-color: #7f7f7f\">               </span>\n",
       "<span style=\"color: #7fbfbf; text-decoration-color: #7fbfbf\">                    </span>         array was expected. Please change the shape of y to <span style=\"font-weight: bold\">(</span>n_samples,<span style=\"font-weight: bold\">)</span>, for  <span style=\"color: #7f7f7f; text-decoration-color: #7f7f7f\">               </span>\n",
       "<span style=\"color: #7fbfbf; text-decoration-color: #7fbfbf\">                    </span>         example using <span style=\"color: #800080; text-decoration-color: #800080; font-weight: bold\">ravel</span><span style=\"font-weight: bold\">()</span>.                                                 <span style=\"color: #7f7f7f; text-decoration-color: #7f7f7f\">               </span>\n",
       "<span style=\"color: #7fbfbf; text-decoration-color: #7fbfbf\">                    </span>           return <span style=\"color: #800080; text-decoration-color: #800080; font-weight: bold\">fit_method</span><span style=\"font-weight: bold\">(</span>estimator, *args, **kwargs<span style=\"font-weight: bold\">)</span>                        <span style=\"color: #7f7f7f; text-decoration-color: #7f7f7f\">               </span>\n",
       "<span style=\"color: #7fbfbf; text-decoration-color: #7fbfbf\">                    </span>                                                                                <span style=\"color: #7f7f7f; text-decoration-color: #7f7f7f\">               </span>\n",
       "</pre>\n"
      ],
      "text/plain": [
       "\u001b[2;36m                   \u001b[0m\u001b[2;36m \u001b[0m\u001b[31mWARNING \u001b[0m C:\\Users\\dggua\\anaconda3\\envs\\test_env\\lib\\site-packages\\sklearn\\base. \u001b]8;id=497070;file://C:\\Users\\dggua\\anaconda3\\envs\\test_env\\lib\\warnings.py\u001b\\\u001b[2mwarnings.py\u001b[0m\u001b]8;;\u001b\\\u001b[2m:\u001b[0m\u001b]8;id=739946;file://C:\\Users\\dggua\\anaconda3\\envs\\test_env\\lib\\warnings.py#109\u001b\\\u001b[2m109\u001b[0m\u001b]8;;\u001b\\\n",
       "\u001b[2;36m                    \u001b[0m         py:\u001b[1;36m1351\u001b[0m: DataConversionWarning: A column-vector y was passed when a 1d \u001b[2m               \u001b[0m\n",
       "\u001b[2;36m                    \u001b[0m         array was expected. Please change the shape of y to \u001b[1m(\u001b[0mn_samples,\u001b[1m)\u001b[0m, for  \u001b[2m               \u001b[0m\n",
       "\u001b[2;36m                    \u001b[0m         example using \u001b[1;35mravel\u001b[0m\u001b[1m(\u001b[0m\u001b[1m)\u001b[0m.                                                 \u001b[2m               \u001b[0m\n",
       "\u001b[2;36m                    \u001b[0m           return \u001b[1;35mfit_method\u001b[0m\u001b[1m(\u001b[0mestimator, *args, **kwargs\u001b[1m)\u001b[0m                        \u001b[2m               \u001b[0m\n",
       "\u001b[2;36m                    \u001b[0m                                                                                \u001b[2m               \u001b[0m\n"
      ]
     },
     "metadata": {},
     "output_type": "display_data"
    },
    {
     "data": {
      "text/html": [
       "<pre style=\"white-space:pre;overflow-x:auto;line-height:normal;font-family:Menlo,'DejaVu Sans Mono',consolas,'Courier New',monospace\"><span style=\"color: #7fbfbf; text-decoration-color: #7fbfbf\">                    </span><span style=\"color: #800000; text-decoration-color: #800000\">WARNING </span> C:\\Users\\dggua\\anaconda3\\envs\\test_env\\lib\\site-packages\\sklearn\\base. <a href=\"file://C:\\Users\\dggua\\anaconda3\\envs\\test_env\\lib\\warnings.py\" target=\"_blank\"><span style=\"color: #7f7f7f; text-decoration-color: #7f7f7f\">warnings.py</span></a><span style=\"color: #7f7f7f; text-decoration-color: #7f7f7f\">:</span><a href=\"file://C:\\Users\\dggua\\anaconda3\\envs\\test_env\\lib\\warnings.py#109\" target=\"_blank\"><span style=\"color: #7f7f7f; text-decoration-color: #7f7f7f\">109</span></a>\n",
       "<span style=\"color: #7fbfbf; text-decoration-color: #7fbfbf\">                    </span>         py:<span style=\"color: #008080; text-decoration-color: #008080; font-weight: bold\">1351</span>: DataConversionWarning: A column-vector y was passed when a 1d <span style=\"color: #7f7f7f; text-decoration-color: #7f7f7f\">               </span>\n",
       "<span style=\"color: #7fbfbf; text-decoration-color: #7fbfbf\">                    </span>         array was expected. Please change the shape of y to <span style=\"font-weight: bold\">(</span>n_samples,<span style=\"font-weight: bold\">)</span>, for  <span style=\"color: #7f7f7f; text-decoration-color: #7f7f7f\">               </span>\n",
       "<span style=\"color: #7fbfbf; text-decoration-color: #7fbfbf\">                    </span>         example using <span style=\"color: #800080; text-decoration-color: #800080; font-weight: bold\">ravel</span><span style=\"font-weight: bold\">()</span>.                                                 <span style=\"color: #7f7f7f; text-decoration-color: #7f7f7f\">               </span>\n",
       "<span style=\"color: #7fbfbf; text-decoration-color: #7fbfbf\">                    </span>           return <span style=\"color: #800080; text-decoration-color: #800080; font-weight: bold\">fit_method</span><span style=\"font-weight: bold\">(</span>estimator, *args, **kwargs<span style=\"font-weight: bold\">)</span>                        <span style=\"color: #7f7f7f; text-decoration-color: #7f7f7f\">               </span>\n",
       "<span style=\"color: #7fbfbf; text-decoration-color: #7fbfbf\">                    </span>                                                                                <span style=\"color: #7f7f7f; text-decoration-color: #7f7f7f\">               </span>\n",
       "</pre>\n"
      ],
      "text/plain": [
       "\u001b[2;36m                   \u001b[0m\u001b[2;36m \u001b[0m\u001b[31mWARNING \u001b[0m C:\\Users\\dggua\\anaconda3\\envs\\test_env\\lib\\site-packages\\sklearn\\base. \u001b]8;id=201020;file://C:\\Users\\dggua\\anaconda3\\envs\\test_env\\lib\\warnings.py\u001b\\\u001b[2mwarnings.py\u001b[0m\u001b]8;;\u001b\\\u001b[2m:\u001b[0m\u001b]8;id=828564;file://C:\\Users\\dggua\\anaconda3\\envs\\test_env\\lib\\warnings.py#109\u001b\\\u001b[2m109\u001b[0m\u001b]8;;\u001b\\\n",
       "\u001b[2;36m                    \u001b[0m         py:\u001b[1;36m1351\u001b[0m: DataConversionWarning: A column-vector y was passed when a 1d \u001b[2m               \u001b[0m\n",
       "\u001b[2;36m                    \u001b[0m         array was expected. Please change the shape of y to \u001b[1m(\u001b[0mn_samples,\u001b[1m)\u001b[0m, for  \u001b[2m               \u001b[0m\n",
       "\u001b[2;36m                    \u001b[0m         example using \u001b[1;35mravel\u001b[0m\u001b[1m(\u001b[0m\u001b[1m)\u001b[0m.                                                 \u001b[2m               \u001b[0m\n",
       "\u001b[2;36m                    \u001b[0m           return \u001b[1;35mfit_method\u001b[0m\u001b[1m(\u001b[0mestimator, *args, **kwargs\u001b[1m)\u001b[0m                        \u001b[2m               \u001b[0m\n",
       "\u001b[2;36m                    \u001b[0m                                                                                \u001b[2m               \u001b[0m\n"
      ]
     },
     "metadata": {},
     "output_type": "display_data"
    },
    {
     "data": {
      "text/html": [
       "<pre style=\"white-space:pre;overflow-x:auto;line-height:normal;font-family:Menlo,'DejaVu Sans Mono',consolas,'Courier New',monospace\"><span style=\"color: #7fbfbf; text-decoration-color: #7fbfbf\">                    </span><span style=\"color: #800000; text-decoration-color: #800000\">WARNING </span> C:\\Users\\dggua\\anaconda3\\envs\\test_env\\lib\\site-packages\\sklearn\\base. <a href=\"file://C:\\Users\\dggua\\anaconda3\\envs\\test_env\\lib\\warnings.py\" target=\"_blank\"><span style=\"color: #7f7f7f; text-decoration-color: #7f7f7f\">warnings.py</span></a><span style=\"color: #7f7f7f; text-decoration-color: #7f7f7f\">:</span><a href=\"file://C:\\Users\\dggua\\anaconda3\\envs\\test_env\\lib\\warnings.py#109\" target=\"_blank\"><span style=\"color: #7f7f7f; text-decoration-color: #7f7f7f\">109</span></a>\n",
       "<span style=\"color: #7fbfbf; text-decoration-color: #7fbfbf\">                    </span>         py:<span style=\"color: #008080; text-decoration-color: #008080; font-weight: bold\">1351</span>: DataConversionWarning: A column-vector y was passed when a 1d <span style=\"color: #7f7f7f; text-decoration-color: #7f7f7f\">               </span>\n",
       "<span style=\"color: #7fbfbf; text-decoration-color: #7fbfbf\">                    </span>         array was expected. Please change the shape of y to <span style=\"font-weight: bold\">(</span>n_samples,<span style=\"font-weight: bold\">)</span>, for  <span style=\"color: #7f7f7f; text-decoration-color: #7f7f7f\">               </span>\n",
       "<span style=\"color: #7fbfbf; text-decoration-color: #7fbfbf\">                    </span>         example using <span style=\"color: #800080; text-decoration-color: #800080; font-weight: bold\">ravel</span><span style=\"font-weight: bold\">()</span>.                                                 <span style=\"color: #7f7f7f; text-decoration-color: #7f7f7f\">               </span>\n",
       "<span style=\"color: #7fbfbf; text-decoration-color: #7fbfbf\">                    </span>           return <span style=\"color: #800080; text-decoration-color: #800080; font-weight: bold\">fit_method</span><span style=\"font-weight: bold\">(</span>estimator, *args, **kwargs<span style=\"font-weight: bold\">)</span>                        <span style=\"color: #7f7f7f; text-decoration-color: #7f7f7f\">               </span>\n",
       "<span style=\"color: #7fbfbf; text-decoration-color: #7fbfbf\">                    </span>                                                                                <span style=\"color: #7f7f7f; text-decoration-color: #7f7f7f\">               </span>\n",
       "</pre>\n"
      ],
      "text/plain": [
       "\u001b[2;36m                   \u001b[0m\u001b[2;36m \u001b[0m\u001b[31mWARNING \u001b[0m C:\\Users\\dggua\\anaconda3\\envs\\test_env\\lib\\site-packages\\sklearn\\base. \u001b]8;id=734469;file://C:\\Users\\dggua\\anaconda3\\envs\\test_env\\lib\\warnings.py\u001b\\\u001b[2mwarnings.py\u001b[0m\u001b]8;;\u001b\\\u001b[2m:\u001b[0m\u001b]8;id=959809;file://C:\\Users\\dggua\\anaconda3\\envs\\test_env\\lib\\warnings.py#109\u001b\\\u001b[2m109\u001b[0m\u001b]8;;\u001b\\\n",
       "\u001b[2;36m                    \u001b[0m         py:\u001b[1;36m1351\u001b[0m: DataConversionWarning: A column-vector y was passed when a 1d \u001b[2m               \u001b[0m\n",
       "\u001b[2;36m                    \u001b[0m         array was expected. Please change the shape of y to \u001b[1m(\u001b[0mn_samples,\u001b[1m)\u001b[0m, for  \u001b[2m               \u001b[0m\n",
       "\u001b[2;36m                    \u001b[0m         example using \u001b[1;35mravel\u001b[0m\u001b[1m(\u001b[0m\u001b[1m)\u001b[0m.                                                 \u001b[2m               \u001b[0m\n",
       "\u001b[2;36m                    \u001b[0m           return \u001b[1;35mfit_method\u001b[0m\u001b[1m(\u001b[0mestimator, *args, **kwargs\u001b[1m)\u001b[0m                        \u001b[2m               \u001b[0m\n",
       "\u001b[2;36m                    \u001b[0m                                                                                \u001b[2m               \u001b[0m\n"
      ]
     },
     "metadata": {},
     "output_type": "display_data"
    },
    {
     "data": {
      "text/html": [
       "<pre style=\"white-space:pre;overflow-x:auto;line-height:normal;font-family:Menlo,'DejaVu Sans Mono',consolas,'Courier New',monospace\"><span style=\"color: #7fbfbf; text-decoration-color: #7fbfbf\">                    </span><span style=\"color: #800000; text-decoration-color: #800000\">WARNING </span> C:\\Users\\dggua\\anaconda3\\envs\\test_env\\lib\\site-packages\\sklearn\\base. <a href=\"file://C:\\Users\\dggua\\anaconda3\\envs\\test_env\\lib\\warnings.py\" target=\"_blank\"><span style=\"color: #7f7f7f; text-decoration-color: #7f7f7f\">warnings.py</span></a><span style=\"color: #7f7f7f; text-decoration-color: #7f7f7f\">:</span><a href=\"file://C:\\Users\\dggua\\anaconda3\\envs\\test_env\\lib\\warnings.py#109\" target=\"_blank\"><span style=\"color: #7f7f7f; text-decoration-color: #7f7f7f\">109</span></a>\n",
       "<span style=\"color: #7fbfbf; text-decoration-color: #7fbfbf\">                    </span>         py:<span style=\"color: #008080; text-decoration-color: #008080; font-weight: bold\">1351</span>: DataConversionWarning: A column-vector y was passed when a 1d <span style=\"color: #7f7f7f; text-decoration-color: #7f7f7f\">               </span>\n",
       "<span style=\"color: #7fbfbf; text-decoration-color: #7fbfbf\">                    </span>         array was expected. Please change the shape of y to <span style=\"font-weight: bold\">(</span>n_samples,<span style=\"font-weight: bold\">)</span>, for  <span style=\"color: #7f7f7f; text-decoration-color: #7f7f7f\">               </span>\n",
       "<span style=\"color: #7fbfbf; text-decoration-color: #7fbfbf\">                    </span>         example using <span style=\"color: #800080; text-decoration-color: #800080; font-weight: bold\">ravel</span><span style=\"font-weight: bold\">()</span>.                                                 <span style=\"color: #7f7f7f; text-decoration-color: #7f7f7f\">               </span>\n",
       "<span style=\"color: #7fbfbf; text-decoration-color: #7fbfbf\">                    </span>           return <span style=\"color: #800080; text-decoration-color: #800080; font-weight: bold\">fit_method</span><span style=\"font-weight: bold\">(</span>estimator, *args, **kwargs<span style=\"font-weight: bold\">)</span>                        <span style=\"color: #7f7f7f; text-decoration-color: #7f7f7f\">               </span>\n",
       "<span style=\"color: #7fbfbf; text-decoration-color: #7fbfbf\">                    </span>                                                                                <span style=\"color: #7f7f7f; text-decoration-color: #7f7f7f\">               </span>\n",
       "</pre>\n"
      ],
      "text/plain": [
       "\u001b[2;36m                   \u001b[0m\u001b[2;36m \u001b[0m\u001b[31mWARNING \u001b[0m C:\\Users\\dggua\\anaconda3\\envs\\test_env\\lib\\site-packages\\sklearn\\base. \u001b]8;id=853719;file://C:\\Users\\dggua\\anaconda3\\envs\\test_env\\lib\\warnings.py\u001b\\\u001b[2mwarnings.py\u001b[0m\u001b]8;;\u001b\\\u001b[2m:\u001b[0m\u001b]8;id=946599;file://C:\\Users\\dggua\\anaconda3\\envs\\test_env\\lib\\warnings.py#109\u001b\\\u001b[2m109\u001b[0m\u001b]8;;\u001b\\\n",
       "\u001b[2;36m                    \u001b[0m         py:\u001b[1;36m1351\u001b[0m: DataConversionWarning: A column-vector y was passed when a 1d \u001b[2m               \u001b[0m\n",
       "\u001b[2;36m                    \u001b[0m         array was expected. Please change the shape of y to \u001b[1m(\u001b[0mn_samples,\u001b[1m)\u001b[0m, for  \u001b[2m               \u001b[0m\n",
       "\u001b[2;36m                    \u001b[0m         example using \u001b[1;35mravel\u001b[0m\u001b[1m(\u001b[0m\u001b[1m)\u001b[0m.                                                 \u001b[2m               \u001b[0m\n",
       "\u001b[2;36m                    \u001b[0m           return \u001b[1;35mfit_method\u001b[0m\u001b[1m(\u001b[0mestimator, *args, **kwargs\u001b[1m)\u001b[0m                        \u001b[2m               \u001b[0m\n",
       "\u001b[2;36m                    \u001b[0m                                                                                \u001b[2m               \u001b[0m\n"
      ]
     },
     "metadata": {},
     "output_type": "display_data"
    },
    {
     "data": {
      "text/html": [
       "<pre style=\"white-space:pre;overflow-x:auto;line-height:normal;font-family:Menlo,'DejaVu Sans Mono',consolas,'Courier New',monospace\"><span style=\"color: #7fbfbf; text-decoration-color: #7fbfbf\">[06/22/24 16:18:13] </span><span style=\"color: #800000; text-decoration-color: #800000\">WARNING </span> C:\\Users\\dggua\\anaconda3\\envs\\test_env\\lib\\site-packages\\sklearn\\base. <a href=\"file://C:\\Users\\dggua\\anaconda3\\envs\\test_env\\lib\\warnings.py\" target=\"_blank\"><span style=\"color: #7f7f7f; text-decoration-color: #7f7f7f\">warnings.py</span></a><span style=\"color: #7f7f7f; text-decoration-color: #7f7f7f\">:</span><a href=\"file://C:\\Users\\dggua\\anaconda3\\envs\\test_env\\lib\\warnings.py#109\" target=\"_blank\"><span style=\"color: #7f7f7f; text-decoration-color: #7f7f7f\">109</span></a>\n",
       "<span style=\"color: #7fbfbf; text-decoration-color: #7fbfbf\">                    </span>         py:<span style=\"color: #008080; text-decoration-color: #008080; font-weight: bold\">1351</span>: DataConversionWarning: A column-vector y was passed when a 1d <span style=\"color: #7f7f7f; text-decoration-color: #7f7f7f\">               </span>\n",
       "<span style=\"color: #7fbfbf; text-decoration-color: #7fbfbf\">                    </span>         array was expected. Please change the shape of y to <span style=\"font-weight: bold\">(</span>n_samples,<span style=\"font-weight: bold\">)</span>, for  <span style=\"color: #7f7f7f; text-decoration-color: #7f7f7f\">               </span>\n",
       "<span style=\"color: #7fbfbf; text-decoration-color: #7fbfbf\">                    </span>         example using <span style=\"color: #800080; text-decoration-color: #800080; font-weight: bold\">ravel</span><span style=\"font-weight: bold\">()</span>.                                                 <span style=\"color: #7f7f7f; text-decoration-color: #7f7f7f\">               </span>\n",
       "<span style=\"color: #7fbfbf; text-decoration-color: #7fbfbf\">                    </span>           return <span style=\"color: #800080; text-decoration-color: #800080; font-weight: bold\">fit_method</span><span style=\"font-weight: bold\">(</span>estimator, *args, **kwargs<span style=\"font-weight: bold\">)</span>                        <span style=\"color: #7f7f7f; text-decoration-color: #7f7f7f\">               </span>\n",
       "<span style=\"color: #7fbfbf; text-decoration-color: #7fbfbf\">                    </span>                                                                                <span style=\"color: #7f7f7f; text-decoration-color: #7f7f7f\">               </span>\n",
       "</pre>\n"
      ],
      "text/plain": [
       "\u001b[2;36m[06/22/24 16:18:13]\u001b[0m\u001b[2;36m \u001b[0m\u001b[31mWARNING \u001b[0m C:\\Users\\dggua\\anaconda3\\envs\\test_env\\lib\\site-packages\\sklearn\\base. \u001b]8;id=238016;file://C:\\Users\\dggua\\anaconda3\\envs\\test_env\\lib\\warnings.py\u001b\\\u001b[2mwarnings.py\u001b[0m\u001b]8;;\u001b\\\u001b[2m:\u001b[0m\u001b]8;id=379053;file://C:\\Users\\dggua\\anaconda3\\envs\\test_env\\lib\\warnings.py#109\u001b\\\u001b[2m109\u001b[0m\u001b]8;;\u001b\\\n",
       "\u001b[2;36m                    \u001b[0m         py:\u001b[1;36m1351\u001b[0m: DataConversionWarning: A column-vector y was passed when a 1d \u001b[2m               \u001b[0m\n",
       "\u001b[2;36m                    \u001b[0m         array was expected. Please change the shape of y to \u001b[1m(\u001b[0mn_samples,\u001b[1m)\u001b[0m, for  \u001b[2m               \u001b[0m\n",
       "\u001b[2;36m                    \u001b[0m         example using \u001b[1;35mravel\u001b[0m\u001b[1m(\u001b[0m\u001b[1m)\u001b[0m.                                                 \u001b[2m               \u001b[0m\n",
       "\u001b[2;36m                    \u001b[0m           return \u001b[1;35mfit_method\u001b[0m\u001b[1m(\u001b[0mestimator, *args, **kwargs\u001b[1m)\u001b[0m                        \u001b[2m               \u001b[0m\n",
       "\u001b[2;36m                    \u001b[0m                                                                                \u001b[2m               \u001b[0m\n"
      ]
     },
     "metadata": {},
     "output_type": "display_data"
    },
    {
     "data": {
      "text/html": [
       "<pre style=\"white-space:pre;overflow-x:auto;line-height:normal;font-family:Menlo,'DejaVu Sans Mono',consolas,'Courier New',monospace\"><span style=\"color: #7fbfbf; text-decoration-color: #7fbfbf\">                    </span><span style=\"color: #800000; text-decoration-color: #800000\">WARNING </span> C:\\Users\\dggua\\anaconda3\\envs\\test_env\\lib\\site-packages\\sklearn\\base. <a href=\"file://C:\\Users\\dggua\\anaconda3\\envs\\test_env\\lib\\warnings.py\" target=\"_blank\"><span style=\"color: #7f7f7f; text-decoration-color: #7f7f7f\">warnings.py</span></a><span style=\"color: #7f7f7f; text-decoration-color: #7f7f7f\">:</span><a href=\"file://C:\\Users\\dggua\\anaconda3\\envs\\test_env\\lib\\warnings.py#109\" target=\"_blank\"><span style=\"color: #7f7f7f; text-decoration-color: #7f7f7f\">109</span></a>\n",
       "<span style=\"color: #7fbfbf; text-decoration-color: #7fbfbf\">                    </span>         py:<span style=\"color: #008080; text-decoration-color: #008080; font-weight: bold\">1351</span>: DataConversionWarning: A column-vector y was passed when a 1d <span style=\"color: #7f7f7f; text-decoration-color: #7f7f7f\">               </span>\n",
       "<span style=\"color: #7fbfbf; text-decoration-color: #7fbfbf\">                    </span>         array was expected. Please change the shape of y to <span style=\"font-weight: bold\">(</span>n_samples,<span style=\"font-weight: bold\">)</span>, for  <span style=\"color: #7f7f7f; text-decoration-color: #7f7f7f\">               </span>\n",
       "<span style=\"color: #7fbfbf; text-decoration-color: #7fbfbf\">                    </span>         example using <span style=\"color: #800080; text-decoration-color: #800080; font-weight: bold\">ravel</span><span style=\"font-weight: bold\">()</span>.                                                 <span style=\"color: #7f7f7f; text-decoration-color: #7f7f7f\">               </span>\n",
       "<span style=\"color: #7fbfbf; text-decoration-color: #7fbfbf\">                    </span>           return <span style=\"color: #800080; text-decoration-color: #800080; font-weight: bold\">fit_method</span><span style=\"font-weight: bold\">(</span>estimator, *args, **kwargs<span style=\"font-weight: bold\">)</span>                        <span style=\"color: #7f7f7f; text-decoration-color: #7f7f7f\">               </span>\n",
       "<span style=\"color: #7fbfbf; text-decoration-color: #7fbfbf\">                    </span>                                                                                <span style=\"color: #7f7f7f; text-decoration-color: #7f7f7f\">               </span>\n",
       "</pre>\n"
      ],
      "text/plain": [
       "\u001b[2;36m                   \u001b[0m\u001b[2;36m \u001b[0m\u001b[31mWARNING \u001b[0m C:\\Users\\dggua\\anaconda3\\envs\\test_env\\lib\\site-packages\\sklearn\\base. \u001b]8;id=87246;file://C:\\Users\\dggua\\anaconda3\\envs\\test_env\\lib\\warnings.py\u001b\\\u001b[2mwarnings.py\u001b[0m\u001b]8;;\u001b\\\u001b[2m:\u001b[0m\u001b]8;id=649334;file://C:\\Users\\dggua\\anaconda3\\envs\\test_env\\lib\\warnings.py#109\u001b\\\u001b[2m109\u001b[0m\u001b]8;;\u001b\\\n",
       "\u001b[2;36m                    \u001b[0m         py:\u001b[1;36m1351\u001b[0m: DataConversionWarning: A column-vector y was passed when a 1d \u001b[2m               \u001b[0m\n",
       "\u001b[2;36m                    \u001b[0m         array was expected. Please change the shape of y to \u001b[1m(\u001b[0mn_samples,\u001b[1m)\u001b[0m, for  \u001b[2m               \u001b[0m\n",
       "\u001b[2;36m                    \u001b[0m         example using \u001b[1;35mravel\u001b[0m\u001b[1m(\u001b[0m\u001b[1m)\u001b[0m.                                                 \u001b[2m               \u001b[0m\n",
       "\u001b[2;36m                    \u001b[0m           return \u001b[1;35mfit_method\u001b[0m\u001b[1m(\u001b[0mestimator, *args, **kwargs\u001b[1m)\u001b[0m                        \u001b[2m               \u001b[0m\n",
       "\u001b[2;36m                    \u001b[0m                                                                                \u001b[2m               \u001b[0m\n"
      ]
     },
     "metadata": {},
     "output_type": "display_data"
    },
    {
     "data": {
      "text/html": [
       "<pre style=\"white-space:pre;overflow-x:auto;line-height:normal;font-family:Menlo,'DejaVu Sans Mono',consolas,'Courier New',monospace\"><span style=\"color: #7fbfbf; text-decoration-color: #7fbfbf\">                    </span><span style=\"color: #800000; text-decoration-color: #800000\">WARNING </span> C:\\Users\\dggua\\anaconda3\\envs\\test_env\\lib\\site-packages\\sklearn\\base. <a href=\"file://C:\\Users\\dggua\\anaconda3\\envs\\test_env\\lib\\warnings.py\" target=\"_blank\"><span style=\"color: #7f7f7f; text-decoration-color: #7f7f7f\">warnings.py</span></a><span style=\"color: #7f7f7f; text-decoration-color: #7f7f7f\">:</span><a href=\"file://C:\\Users\\dggua\\anaconda3\\envs\\test_env\\lib\\warnings.py#109\" target=\"_blank\"><span style=\"color: #7f7f7f; text-decoration-color: #7f7f7f\">109</span></a>\n",
       "<span style=\"color: #7fbfbf; text-decoration-color: #7fbfbf\">                    </span>         py:<span style=\"color: #008080; text-decoration-color: #008080; font-weight: bold\">1351</span>: DataConversionWarning: A column-vector y was passed when a 1d <span style=\"color: #7f7f7f; text-decoration-color: #7f7f7f\">               </span>\n",
       "<span style=\"color: #7fbfbf; text-decoration-color: #7fbfbf\">                    </span>         array was expected. Please change the shape of y to <span style=\"font-weight: bold\">(</span>n_samples,<span style=\"font-weight: bold\">)</span>, for  <span style=\"color: #7f7f7f; text-decoration-color: #7f7f7f\">               </span>\n",
       "<span style=\"color: #7fbfbf; text-decoration-color: #7fbfbf\">                    </span>         example using <span style=\"color: #800080; text-decoration-color: #800080; font-weight: bold\">ravel</span><span style=\"font-weight: bold\">()</span>.                                                 <span style=\"color: #7f7f7f; text-decoration-color: #7f7f7f\">               </span>\n",
       "<span style=\"color: #7fbfbf; text-decoration-color: #7fbfbf\">                    </span>           return <span style=\"color: #800080; text-decoration-color: #800080; font-weight: bold\">fit_method</span><span style=\"font-weight: bold\">(</span>estimator, *args, **kwargs<span style=\"font-weight: bold\">)</span>                        <span style=\"color: #7f7f7f; text-decoration-color: #7f7f7f\">               </span>\n",
       "<span style=\"color: #7fbfbf; text-decoration-color: #7fbfbf\">                    </span>                                                                                <span style=\"color: #7f7f7f; text-decoration-color: #7f7f7f\">               </span>\n",
       "</pre>\n"
      ],
      "text/plain": [
       "\u001b[2;36m                   \u001b[0m\u001b[2;36m \u001b[0m\u001b[31mWARNING \u001b[0m C:\\Users\\dggua\\anaconda3\\envs\\test_env\\lib\\site-packages\\sklearn\\base. \u001b]8;id=418516;file://C:\\Users\\dggua\\anaconda3\\envs\\test_env\\lib\\warnings.py\u001b\\\u001b[2mwarnings.py\u001b[0m\u001b]8;;\u001b\\\u001b[2m:\u001b[0m\u001b]8;id=770796;file://C:\\Users\\dggua\\anaconda3\\envs\\test_env\\lib\\warnings.py#109\u001b\\\u001b[2m109\u001b[0m\u001b]8;;\u001b\\\n",
       "\u001b[2;36m                    \u001b[0m         py:\u001b[1;36m1351\u001b[0m: DataConversionWarning: A column-vector y was passed when a 1d \u001b[2m               \u001b[0m\n",
       "\u001b[2;36m                    \u001b[0m         array was expected. Please change the shape of y to \u001b[1m(\u001b[0mn_samples,\u001b[1m)\u001b[0m, for  \u001b[2m               \u001b[0m\n",
       "\u001b[2;36m                    \u001b[0m         example using \u001b[1;35mravel\u001b[0m\u001b[1m(\u001b[0m\u001b[1m)\u001b[0m.                                                 \u001b[2m               \u001b[0m\n",
       "\u001b[2;36m                    \u001b[0m           return \u001b[1;35mfit_method\u001b[0m\u001b[1m(\u001b[0mestimator, *args, **kwargs\u001b[1m)\u001b[0m                        \u001b[2m               \u001b[0m\n",
       "\u001b[2;36m                    \u001b[0m                                                                                \u001b[2m               \u001b[0m\n"
      ]
     },
     "metadata": {},
     "output_type": "display_data"
    },
    {
     "data": {
      "text/html": [
       "<pre style=\"white-space:pre;overflow-x:auto;line-height:normal;font-family:Menlo,'DejaVu Sans Mono',consolas,'Courier New',monospace\"><span style=\"color: #7fbfbf; text-decoration-color: #7fbfbf\">                    </span><span style=\"color: #800000; text-decoration-color: #800000\">WARNING </span> C:\\Users\\dggua\\anaconda3\\envs\\test_env\\lib\\site-packages\\sklearn\\base. <a href=\"file://C:\\Users\\dggua\\anaconda3\\envs\\test_env\\lib\\warnings.py\" target=\"_blank\"><span style=\"color: #7f7f7f; text-decoration-color: #7f7f7f\">warnings.py</span></a><span style=\"color: #7f7f7f; text-decoration-color: #7f7f7f\">:</span><a href=\"file://C:\\Users\\dggua\\anaconda3\\envs\\test_env\\lib\\warnings.py#109\" target=\"_blank\"><span style=\"color: #7f7f7f; text-decoration-color: #7f7f7f\">109</span></a>\n",
       "<span style=\"color: #7fbfbf; text-decoration-color: #7fbfbf\">                    </span>         py:<span style=\"color: #008080; text-decoration-color: #008080; font-weight: bold\">1351</span>: DataConversionWarning: A column-vector y was passed when a 1d <span style=\"color: #7f7f7f; text-decoration-color: #7f7f7f\">               </span>\n",
       "<span style=\"color: #7fbfbf; text-decoration-color: #7fbfbf\">                    </span>         array was expected. Please change the shape of y to <span style=\"font-weight: bold\">(</span>n_samples,<span style=\"font-weight: bold\">)</span>, for  <span style=\"color: #7f7f7f; text-decoration-color: #7f7f7f\">               </span>\n",
       "<span style=\"color: #7fbfbf; text-decoration-color: #7fbfbf\">                    </span>         example using <span style=\"color: #800080; text-decoration-color: #800080; font-weight: bold\">ravel</span><span style=\"font-weight: bold\">()</span>.                                                 <span style=\"color: #7f7f7f; text-decoration-color: #7f7f7f\">               </span>\n",
       "<span style=\"color: #7fbfbf; text-decoration-color: #7fbfbf\">                    </span>           return <span style=\"color: #800080; text-decoration-color: #800080; font-weight: bold\">fit_method</span><span style=\"font-weight: bold\">(</span>estimator, *args, **kwargs<span style=\"font-weight: bold\">)</span>                        <span style=\"color: #7f7f7f; text-decoration-color: #7f7f7f\">               </span>\n",
       "<span style=\"color: #7fbfbf; text-decoration-color: #7fbfbf\">                    </span>                                                                                <span style=\"color: #7f7f7f; text-decoration-color: #7f7f7f\">               </span>\n",
       "</pre>\n"
      ],
      "text/plain": [
       "\u001b[2;36m                   \u001b[0m\u001b[2;36m \u001b[0m\u001b[31mWARNING \u001b[0m C:\\Users\\dggua\\anaconda3\\envs\\test_env\\lib\\site-packages\\sklearn\\base. \u001b]8;id=316269;file://C:\\Users\\dggua\\anaconda3\\envs\\test_env\\lib\\warnings.py\u001b\\\u001b[2mwarnings.py\u001b[0m\u001b]8;;\u001b\\\u001b[2m:\u001b[0m\u001b]8;id=330359;file://C:\\Users\\dggua\\anaconda3\\envs\\test_env\\lib\\warnings.py#109\u001b\\\u001b[2m109\u001b[0m\u001b]8;;\u001b\\\n",
       "\u001b[2;36m                    \u001b[0m         py:\u001b[1;36m1351\u001b[0m: DataConversionWarning: A column-vector y was passed when a 1d \u001b[2m               \u001b[0m\n",
       "\u001b[2;36m                    \u001b[0m         array was expected. Please change the shape of y to \u001b[1m(\u001b[0mn_samples,\u001b[1m)\u001b[0m, for  \u001b[2m               \u001b[0m\n",
       "\u001b[2;36m                    \u001b[0m         example using \u001b[1;35mravel\u001b[0m\u001b[1m(\u001b[0m\u001b[1m)\u001b[0m.                                                 \u001b[2m               \u001b[0m\n",
       "\u001b[2;36m                    \u001b[0m           return \u001b[1;35mfit_method\u001b[0m\u001b[1m(\u001b[0mestimator, *args, **kwargs\u001b[1m)\u001b[0m                        \u001b[2m               \u001b[0m\n",
       "\u001b[2;36m                    \u001b[0m                                                                                \u001b[2m               \u001b[0m\n"
      ]
     },
     "metadata": {},
     "output_type": "display_data"
    },
    {
     "data": {
      "text/html": [
       "<pre style=\"white-space:pre;overflow-x:auto;line-height:normal;font-family:Menlo,'DejaVu Sans Mono',consolas,'Courier New',monospace\"><span style=\"color: #7fbfbf; text-decoration-color: #7fbfbf\">                    </span><span style=\"color: #800000; text-decoration-color: #800000\">WARNING </span> C:\\Users\\dggua\\anaconda3\\envs\\test_env\\lib\\site-packages\\sklearn\\base. <a href=\"file://C:\\Users\\dggua\\anaconda3\\envs\\test_env\\lib\\warnings.py\" target=\"_blank\"><span style=\"color: #7f7f7f; text-decoration-color: #7f7f7f\">warnings.py</span></a><span style=\"color: #7f7f7f; text-decoration-color: #7f7f7f\">:</span><a href=\"file://C:\\Users\\dggua\\anaconda3\\envs\\test_env\\lib\\warnings.py#109\" target=\"_blank\"><span style=\"color: #7f7f7f; text-decoration-color: #7f7f7f\">109</span></a>\n",
       "<span style=\"color: #7fbfbf; text-decoration-color: #7fbfbf\">                    </span>         py:<span style=\"color: #008080; text-decoration-color: #008080; font-weight: bold\">1351</span>: DataConversionWarning: A column-vector y was passed when a 1d <span style=\"color: #7f7f7f; text-decoration-color: #7f7f7f\">               </span>\n",
       "<span style=\"color: #7fbfbf; text-decoration-color: #7fbfbf\">                    </span>         array was expected. Please change the shape of y to <span style=\"font-weight: bold\">(</span>n_samples,<span style=\"font-weight: bold\">)</span>, for  <span style=\"color: #7f7f7f; text-decoration-color: #7f7f7f\">               </span>\n",
       "<span style=\"color: #7fbfbf; text-decoration-color: #7fbfbf\">                    </span>         example using <span style=\"color: #800080; text-decoration-color: #800080; font-weight: bold\">ravel</span><span style=\"font-weight: bold\">()</span>.                                                 <span style=\"color: #7f7f7f; text-decoration-color: #7f7f7f\">               </span>\n",
       "<span style=\"color: #7fbfbf; text-decoration-color: #7fbfbf\">                    </span>           return <span style=\"color: #800080; text-decoration-color: #800080; font-weight: bold\">fit_method</span><span style=\"font-weight: bold\">(</span>estimator, *args, **kwargs<span style=\"font-weight: bold\">)</span>                        <span style=\"color: #7f7f7f; text-decoration-color: #7f7f7f\">               </span>\n",
       "<span style=\"color: #7fbfbf; text-decoration-color: #7fbfbf\">                    </span>                                                                                <span style=\"color: #7f7f7f; text-decoration-color: #7f7f7f\">               </span>\n",
       "</pre>\n"
      ],
      "text/plain": [
       "\u001b[2;36m                   \u001b[0m\u001b[2;36m \u001b[0m\u001b[31mWARNING \u001b[0m C:\\Users\\dggua\\anaconda3\\envs\\test_env\\lib\\site-packages\\sklearn\\base. \u001b]8;id=527735;file://C:\\Users\\dggua\\anaconda3\\envs\\test_env\\lib\\warnings.py\u001b\\\u001b[2mwarnings.py\u001b[0m\u001b]8;;\u001b\\\u001b[2m:\u001b[0m\u001b]8;id=258183;file://C:\\Users\\dggua\\anaconda3\\envs\\test_env\\lib\\warnings.py#109\u001b\\\u001b[2m109\u001b[0m\u001b]8;;\u001b\\\n",
       "\u001b[2;36m                    \u001b[0m         py:\u001b[1;36m1351\u001b[0m: DataConversionWarning: A column-vector y was passed when a 1d \u001b[2m               \u001b[0m\n",
       "\u001b[2;36m                    \u001b[0m         array was expected. Please change the shape of y to \u001b[1m(\u001b[0mn_samples,\u001b[1m)\u001b[0m, for  \u001b[2m               \u001b[0m\n",
       "\u001b[2;36m                    \u001b[0m         example using \u001b[1;35mravel\u001b[0m\u001b[1m(\u001b[0m\u001b[1m)\u001b[0m.                                                 \u001b[2m               \u001b[0m\n",
       "\u001b[2;36m                    \u001b[0m           return \u001b[1;35mfit_method\u001b[0m\u001b[1m(\u001b[0mestimator, *args, **kwargs\u001b[1m)\u001b[0m                        \u001b[2m               \u001b[0m\n",
       "\u001b[2;36m                    \u001b[0m                                                                                \u001b[2m               \u001b[0m\n"
      ]
     },
     "metadata": {},
     "output_type": "display_data"
    },
    {
     "data": {
      "text/html": [
       "<pre style=\"white-space:pre;overflow-x:auto;line-height:normal;font-family:Menlo,'DejaVu Sans Mono',consolas,'Courier New',monospace\"><span style=\"color: #7fbfbf; text-decoration-color: #7fbfbf\">                    </span><span style=\"color: #800000; text-decoration-color: #800000\">WARNING </span> C:\\Users\\dggua\\anaconda3\\envs\\test_env\\lib\\site-packages\\sklearn\\base. <a href=\"file://C:\\Users\\dggua\\anaconda3\\envs\\test_env\\lib\\warnings.py\" target=\"_blank\"><span style=\"color: #7f7f7f; text-decoration-color: #7f7f7f\">warnings.py</span></a><span style=\"color: #7f7f7f; text-decoration-color: #7f7f7f\">:</span><a href=\"file://C:\\Users\\dggua\\anaconda3\\envs\\test_env\\lib\\warnings.py#109\" target=\"_blank\"><span style=\"color: #7f7f7f; text-decoration-color: #7f7f7f\">109</span></a>\n",
       "<span style=\"color: #7fbfbf; text-decoration-color: #7fbfbf\">                    </span>         py:<span style=\"color: #008080; text-decoration-color: #008080; font-weight: bold\">1351</span>: DataConversionWarning: A column-vector y was passed when a 1d <span style=\"color: #7f7f7f; text-decoration-color: #7f7f7f\">               </span>\n",
       "<span style=\"color: #7fbfbf; text-decoration-color: #7fbfbf\">                    </span>         array was expected. Please change the shape of y to <span style=\"font-weight: bold\">(</span>n_samples,<span style=\"font-weight: bold\">)</span>, for  <span style=\"color: #7f7f7f; text-decoration-color: #7f7f7f\">               </span>\n",
       "<span style=\"color: #7fbfbf; text-decoration-color: #7fbfbf\">                    </span>         example using <span style=\"color: #800080; text-decoration-color: #800080; font-weight: bold\">ravel</span><span style=\"font-weight: bold\">()</span>.                                                 <span style=\"color: #7f7f7f; text-decoration-color: #7f7f7f\">               </span>\n",
       "<span style=\"color: #7fbfbf; text-decoration-color: #7fbfbf\">                    </span>           return <span style=\"color: #800080; text-decoration-color: #800080; font-weight: bold\">fit_method</span><span style=\"font-weight: bold\">(</span>estimator, *args, **kwargs<span style=\"font-weight: bold\">)</span>                        <span style=\"color: #7f7f7f; text-decoration-color: #7f7f7f\">               </span>\n",
       "<span style=\"color: #7fbfbf; text-decoration-color: #7fbfbf\">                    </span>                                                                                <span style=\"color: #7f7f7f; text-decoration-color: #7f7f7f\">               </span>\n",
       "</pre>\n"
      ],
      "text/plain": [
       "\u001b[2;36m                   \u001b[0m\u001b[2;36m \u001b[0m\u001b[31mWARNING \u001b[0m C:\\Users\\dggua\\anaconda3\\envs\\test_env\\lib\\site-packages\\sklearn\\base. \u001b]8;id=639216;file://C:\\Users\\dggua\\anaconda3\\envs\\test_env\\lib\\warnings.py\u001b\\\u001b[2mwarnings.py\u001b[0m\u001b]8;;\u001b\\\u001b[2m:\u001b[0m\u001b]8;id=604292;file://C:\\Users\\dggua\\anaconda3\\envs\\test_env\\lib\\warnings.py#109\u001b\\\u001b[2m109\u001b[0m\u001b]8;;\u001b\\\n",
       "\u001b[2;36m                    \u001b[0m         py:\u001b[1;36m1351\u001b[0m: DataConversionWarning: A column-vector y was passed when a 1d \u001b[2m               \u001b[0m\n",
       "\u001b[2;36m                    \u001b[0m         array was expected. Please change the shape of y to \u001b[1m(\u001b[0mn_samples,\u001b[1m)\u001b[0m, for  \u001b[2m               \u001b[0m\n",
       "\u001b[2;36m                    \u001b[0m         example using \u001b[1;35mravel\u001b[0m\u001b[1m(\u001b[0m\u001b[1m)\u001b[0m.                                                 \u001b[2m               \u001b[0m\n",
       "\u001b[2;36m                    \u001b[0m           return \u001b[1;35mfit_method\u001b[0m\u001b[1m(\u001b[0mestimator, *args, **kwargs\u001b[1m)\u001b[0m                        \u001b[2m               \u001b[0m\n",
       "\u001b[2;36m                    \u001b[0m                                                                                \u001b[2m               \u001b[0m\n"
      ]
     },
     "metadata": {},
     "output_type": "display_data"
    },
    {
     "data": {
      "text/html": [
       "<pre style=\"white-space:pre;overflow-x:auto;line-height:normal;font-family:Menlo,'DejaVu Sans Mono',consolas,'Courier New',monospace\"><span style=\"color: #7fbfbf; text-decoration-color: #7fbfbf\">                    </span><span style=\"color: #800000; text-decoration-color: #800000\">WARNING </span> C:\\Users\\dggua\\anaconda3\\envs\\test_env\\lib\\site-packages\\sklearn\\base. <a href=\"file://C:\\Users\\dggua\\anaconda3\\envs\\test_env\\lib\\warnings.py\" target=\"_blank\"><span style=\"color: #7f7f7f; text-decoration-color: #7f7f7f\">warnings.py</span></a><span style=\"color: #7f7f7f; text-decoration-color: #7f7f7f\">:</span><a href=\"file://C:\\Users\\dggua\\anaconda3\\envs\\test_env\\lib\\warnings.py#109\" target=\"_blank\"><span style=\"color: #7f7f7f; text-decoration-color: #7f7f7f\">109</span></a>\n",
       "<span style=\"color: #7fbfbf; text-decoration-color: #7fbfbf\">                    </span>         py:<span style=\"color: #008080; text-decoration-color: #008080; font-weight: bold\">1351</span>: DataConversionWarning: A column-vector y was passed when a 1d <span style=\"color: #7f7f7f; text-decoration-color: #7f7f7f\">               </span>\n",
       "<span style=\"color: #7fbfbf; text-decoration-color: #7fbfbf\">                    </span>         array was expected. Please change the shape of y to <span style=\"font-weight: bold\">(</span>n_samples,<span style=\"font-weight: bold\">)</span>, for  <span style=\"color: #7f7f7f; text-decoration-color: #7f7f7f\">               </span>\n",
       "<span style=\"color: #7fbfbf; text-decoration-color: #7fbfbf\">                    </span>         example using <span style=\"color: #800080; text-decoration-color: #800080; font-weight: bold\">ravel</span><span style=\"font-weight: bold\">()</span>.                                                 <span style=\"color: #7f7f7f; text-decoration-color: #7f7f7f\">               </span>\n",
       "<span style=\"color: #7fbfbf; text-decoration-color: #7fbfbf\">                    </span>           return <span style=\"color: #800080; text-decoration-color: #800080; font-weight: bold\">fit_method</span><span style=\"font-weight: bold\">(</span>estimator, *args, **kwargs<span style=\"font-weight: bold\">)</span>                        <span style=\"color: #7f7f7f; text-decoration-color: #7f7f7f\">               </span>\n",
       "<span style=\"color: #7fbfbf; text-decoration-color: #7fbfbf\">                    </span>                                                                                <span style=\"color: #7f7f7f; text-decoration-color: #7f7f7f\">               </span>\n",
       "</pre>\n"
      ],
      "text/plain": [
       "\u001b[2;36m                   \u001b[0m\u001b[2;36m \u001b[0m\u001b[31mWARNING \u001b[0m C:\\Users\\dggua\\anaconda3\\envs\\test_env\\lib\\site-packages\\sklearn\\base. \u001b]8;id=178982;file://C:\\Users\\dggua\\anaconda3\\envs\\test_env\\lib\\warnings.py\u001b\\\u001b[2mwarnings.py\u001b[0m\u001b]8;;\u001b\\\u001b[2m:\u001b[0m\u001b]8;id=872110;file://C:\\Users\\dggua\\anaconda3\\envs\\test_env\\lib\\warnings.py#109\u001b\\\u001b[2m109\u001b[0m\u001b]8;;\u001b\\\n",
       "\u001b[2;36m                    \u001b[0m         py:\u001b[1;36m1351\u001b[0m: DataConversionWarning: A column-vector y was passed when a 1d \u001b[2m               \u001b[0m\n",
       "\u001b[2;36m                    \u001b[0m         array was expected. Please change the shape of y to \u001b[1m(\u001b[0mn_samples,\u001b[1m)\u001b[0m, for  \u001b[2m               \u001b[0m\n",
       "\u001b[2;36m                    \u001b[0m         example using \u001b[1;35mravel\u001b[0m\u001b[1m(\u001b[0m\u001b[1m)\u001b[0m.                                                 \u001b[2m               \u001b[0m\n",
       "\u001b[2;36m                    \u001b[0m           return \u001b[1;35mfit_method\u001b[0m\u001b[1m(\u001b[0mestimator, *args, **kwargs\u001b[1m)\u001b[0m                        \u001b[2m               \u001b[0m\n",
       "\u001b[2;36m                    \u001b[0m                                                                                \u001b[2m               \u001b[0m\n"
      ]
     },
     "metadata": {},
     "output_type": "display_data"
    },
    {
     "data": {
      "text/html": [
       "<pre style=\"white-space:pre;overflow-x:auto;line-height:normal;font-family:Menlo,'DejaVu Sans Mono',consolas,'Courier New',monospace\"><span style=\"color: #7fbfbf; text-decoration-color: #7fbfbf\">[06/22/24 16:18:14] </span><span style=\"color: #800000; text-decoration-color: #800000\">WARNING </span> C:\\Users\\dggua\\anaconda3\\envs\\test_env\\lib\\site-packages\\sklearn\\base. <a href=\"file://C:\\Users\\dggua\\anaconda3\\envs\\test_env\\lib\\warnings.py\" target=\"_blank\"><span style=\"color: #7f7f7f; text-decoration-color: #7f7f7f\">warnings.py</span></a><span style=\"color: #7f7f7f; text-decoration-color: #7f7f7f\">:</span><a href=\"file://C:\\Users\\dggua\\anaconda3\\envs\\test_env\\lib\\warnings.py#109\" target=\"_blank\"><span style=\"color: #7f7f7f; text-decoration-color: #7f7f7f\">109</span></a>\n",
       "<span style=\"color: #7fbfbf; text-decoration-color: #7fbfbf\">                    </span>         py:<span style=\"color: #008080; text-decoration-color: #008080; font-weight: bold\">1351</span>: DataConversionWarning: A column-vector y was passed when a 1d <span style=\"color: #7f7f7f; text-decoration-color: #7f7f7f\">               </span>\n",
       "<span style=\"color: #7fbfbf; text-decoration-color: #7fbfbf\">                    </span>         array was expected. Please change the shape of y to <span style=\"font-weight: bold\">(</span>n_samples,<span style=\"font-weight: bold\">)</span>, for  <span style=\"color: #7f7f7f; text-decoration-color: #7f7f7f\">               </span>\n",
       "<span style=\"color: #7fbfbf; text-decoration-color: #7fbfbf\">                    </span>         example using <span style=\"color: #800080; text-decoration-color: #800080; font-weight: bold\">ravel</span><span style=\"font-weight: bold\">()</span>.                                                 <span style=\"color: #7f7f7f; text-decoration-color: #7f7f7f\">               </span>\n",
       "<span style=\"color: #7fbfbf; text-decoration-color: #7fbfbf\">                    </span>           return <span style=\"color: #800080; text-decoration-color: #800080; font-weight: bold\">fit_method</span><span style=\"font-weight: bold\">(</span>estimator, *args, **kwargs<span style=\"font-weight: bold\">)</span>                        <span style=\"color: #7f7f7f; text-decoration-color: #7f7f7f\">               </span>\n",
       "<span style=\"color: #7fbfbf; text-decoration-color: #7fbfbf\">                    </span>                                                                                <span style=\"color: #7f7f7f; text-decoration-color: #7f7f7f\">               </span>\n",
       "</pre>\n"
      ],
      "text/plain": [
       "\u001b[2;36m[06/22/24 16:18:14]\u001b[0m\u001b[2;36m \u001b[0m\u001b[31mWARNING \u001b[0m C:\\Users\\dggua\\anaconda3\\envs\\test_env\\lib\\site-packages\\sklearn\\base. \u001b]8;id=212871;file://C:\\Users\\dggua\\anaconda3\\envs\\test_env\\lib\\warnings.py\u001b\\\u001b[2mwarnings.py\u001b[0m\u001b]8;;\u001b\\\u001b[2m:\u001b[0m\u001b]8;id=229138;file://C:\\Users\\dggua\\anaconda3\\envs\\test_env\\lib\\warnings.py#109\u001b\\\u001b[2m109\u001b[0m\u001b]8;;\u001b\\\n",
       "\u001b[2;36m                    \u001b[0m         py:\u001b[1;36m1351\u001b[0m: DataConversionWarning: A column-vector y was passed when a 1d \u001b[2m               \u001b[0m\n",
       "\u001b[2;36m                    \u001b[0m         array was expected. Please change the shape of y to \u001b[1m(\u001b[0mn_samples,\u001b[1m)\u001b[0m, for  \u001b[2m               \u001b[0m\n",
       "\u001b[2;36m                    \u001b[0m         example using \u001b[1;35mravel\u001b[0m\u001b[1m(\u001b[0m\u001b[1m)\u001b[0m.                                                 \u001b[2m               \u001b[0m\n",
       "\u001b[2;36m                    \u001b[0m           return \u001b[1;35mfit_method\u001b[0m\u001b[1m(\u001b[0mestimator, *args, **kwargs\u001b[1m)\u001b[0m                        \u001b[2m               \u001b[0m\n",
       "\u001b[2;36m                    \u001b[0m                                                                                \u001b[2m               \u001b[0m\n"
      ]
     },
     "metadata": {},
     "output_type": "display_data"
    },
    {
     "data": {
      "text/html": [
       "<pre style=\"white-space:pre;overflow-x:auto;line-height:normal;font-family:Menlo,'DejaVu Sans Mono',consolas,'Courier New',monospace\"><span style=\"color: #7fbfbf; text-decoration-color: #7fbfbf\">                    </span><span style=\"color: #800000; text-decoration-color: #800000\">WARNING </span> C:\\Users\\dggua\\anaconda3\\envs\\test_env\\lib\\site-packages\\sklearn\\base. <a href=\"file://C:\\Users\\dggua\\anaconda3\\envs\\test_env\\lib\\warnings.py\" target=\"_blank\"><span style=\"color: #7f7f7f; text-decoration-color: #7f7f7f\">warnings.py</span></a><span style=\"color: #7f7f7f; text-decoration-color: #7f7f7f\">:</span><a href=\"file://C:\\Users\\dggua\\anaconda3\\envs\\test_env\\lib\\warnings.py#109\" target=\"_blank\"><span style=\"color: #7f7f7f; text-decoration-color: #7f7f7f\">109</span></a>\n",
       "<span style=\"color: #7fbfbf; text-decoration-color: #7fbfbf\">                    </span>         py:<span style=\"color: #008080; text-decoration-color: #008080; font-weight: bold\">1351</span>: DataConversionWarning: A column-vector y was passed when a 1d <span style=\"color: #7f7f7f; text-decoration-color: #7f7f7f\">               </span>\n",
       "<span style=\"color: #7fbfbf; text-decoration-color: #7fbfbf\">                    </span>         array was expected. Please change the shape of y to <span style=\"font-weight: bold\">(</span>n_samples,<span style=\"font-weight: bold\">)</span>, for  <span style=\"color: #7f7f7f; text-decoration-color: #7f7f7f\">               </span>\n",
       "<span style=\"color: #7fbfbf; text-decoration-color: #7fbfbf\">                    </span>         example using <span style=\"color: #800080; text-decoration-color: #800080; font-weight: bold\">ravel</span><span style=\"font-weight: bold\">()</span>.                                                 <span style=\"color: #7f7f7f; text-decoration-color: #7f7f7f\">               </span>\n",
       "<span style=\"color: #7fbfbf; text-decoration-color: #7fbfbf\">                    </span>           return <span style=\"color: #800080; text-decoration-color: #800080; font-weight: bold\">fit_method</span><span style=\"font-weight: bold\">(</span>estimator, *args, **kwargs<span style=\"font-weight: bold\">)</span>                        <span style=\"color: #7f7f7f; text-decoration-color: #7f7f7f\">               </span>\n",
       "<span style=\"color: #7fbfbf; text-decoration-color: #7fbfbf\">                    </span>                                                                                <span style=\"color: #7f7f7f; text-decoration-color: #7f7f7f\">               </span>\n",
       "</pre>\n"
      ],
      "text/plain": [
       "\u001b[2;36m                   \u001b[0m\u001b[2;36m \u001b[0m\u001b[31mWARNING \u001b[0m C:\\Users\\dggua\\anaconda3\\envs\\test_env\\lib\\site-packages\\sklearn\\base. \u001b]8;id=981042;file://C:\\Users\\dggua\\anaconda3\\envs\\test_env\\lib\\warnings.py\u001b\\\u001b[2mwarnings.py\u001b[0m\u001b]8;;\u001b\\\u001b[2m:\u001b[0m\u001b]8;id=806142;file://C:\\Users\\dggua\\anaconda3\\envs\\test_env\\lib\\warnings.py#109\u001b\\\u001b[2m109\u001b[0m\u001b]8;;\u001b\\\n",
       "\u001b[2;36m                    \u001b[0m         py:\u001b[1;36m1351\u001b[0m: DataConversionWarning: A column-vector y was passed when a 1d \u001b[2m               \u001b[0m\n",
       "\u001b[2;36m                    \u001b[0m         array was expected. Please change the shape of y to \u001b[1m(\u001b[0mn_samples,\u001b[1m)\u001b[0m, for  \u001b[2m               \u001b[0m\n",
       "\u001b[2;36m                    \u001b[0m         example using \u001b[1;35mravel\u001b[0m\u001b[1m(\u001b[0m\u001b[1m)\u001b[0m.                                                 \u001b[2m               \u001b[0m\n",
       "\u001b[2;36m                    \u001b[0m           return \u001b[1;35mfit_method\u001b[0m\u001b[1m(\u001b[0mestimator, *args, **kwargs\u001b[1m)\u001b[0m                        \u001b[2m               \u001b[0m\n",
       "\u001b[2;36m                    \u001b[0m                                                                                \u001b[2m               \u001b[0m\n"
      ]
     },
     "metadata": {},
     "output_type": "display_data"
    },
    {
     "data": {
      "text/html": [
       "<pre style=\"white-space:pre;overflow-x:auto;line-height:normal;font-family:Menlo,'DejaVu Sans Mono',consolas,'Courier New',monospace\"><span style=\"color: #7fbfbf; text-decoration-color: #7fbfbf\">                    </span><span style=\"color: #800000; text-decoration-color: #800000\">WARNING </span> C:\\Users\\dggua\\anaconda3\\envs\\test_env\\lib\\site-packages\\sklearn\\base. <a href=\"file://C:\\Users\\dggua\\anaconda3\\envs\\test_env\\lib\\warnings.py\" target=\"_blank\"><span style=\"color: #7f7f7f; text-decoration-color: #7f7f7f\">warnings.py</span></a><span style=\"color: #7f7f7f; text-decoration-color: #7f7f7f\">:</span><a href=\"file://C:\\Users\\dggua\\anaconda3\\envs\\test_env\\lib\\warnings.py#109\" target=\"_blank\"><span style=\"color: #7f7f7f; text-decoration-color: #7f7f7f\">109</span></a>\n",
       "<span style=\"color: #7fbfbf; text-decoration-color: #7fbfbf\">                    </span>         py:<span style=\"color: #008080; text-decoration-color: #008080; font-weight: bold\">1351</span>: DataConversionWarning: A column-vector y was passed when a 1d <span style=\"color: #7f7f7f; text-decoration-color: #7f7f7f\">               </span>\n",
       "<span style=\"color: #7fbfbf; text-decoration-color: #7fbfbf\">                    </span>         array was expected. Please change the shape of y to <span style=\"font-weight: bold\">(</span>n_samples,<span style=\"font-weight: bold\">)</span>, for  <span style=\"color: #7f7f7f; text-decoration-color: #7f7f7f\">               </span>\n",
       "<span style=\"color: #7fbfbf; text-decoration-color: #7fbfbf\">                    </span>         example using <span style=\"color: #800080; text-decoration-color: #800080; font-weight: bold\">ravel</span><span style=\"font-weight: bold\">()</span>.                                                 <span style=\"color: #7f7f7f; text-decoration-color: #7f7f7f\">               </span>\n",
       "<span style=\"color: #7fbfbf; text-decoration-color: #7fbfbf\">                    </span>           return <span style=\"color: #800080; text-decoration-color: #800080; font-weight: bold\">fit_method</span><span style=\"font-weight: bold\">(</span>estimator, *args, **kwargs<span style=\"font-weight: bold\">)</span>                        <span style=\"color: #7f7f7f; text-decoration-color: #7f7f7f\">               </span>\n",
       "<span style=\"color: #7fbfbf; text-decoration-color: #7fbfbf\">                    </span>                                                                                <span style=\"color: #7f7f7f; text-decoration-color: #7f7f7f\">               </span>\n",
       "</pre>\n"
      ],
      "text/plain": [
       "\u001b[2;36m                   \u001b[0m\u001b[2;36m \u001b[0m\u001b[31mWARNING \u001b[0m C:\\Users\\dggua\\anaconda3\\envs\\test_env\\lib\\site-packages\\sklearn\\base. \u001b]8;id=78502;file://C:\\Users\\dggua\\anaconda3\\envs\\test_env\\lib\\warnings.py\u001b\\\u001b[2mwarnings.py\u001b[0m\u001b]8;;\u001b\\\u001b[2m:\u001b[0m\u001b]8;id=487957;file://C:\\Users\\dggua\\anaconda3\\envs\\test_env\\lib\\warnings.py#109\u001b\\\u001b[2m109\u001b[0m\u001b]8;;\u001b\\\n",
       "\u001b[2;36m                    \u001b[0m         py:\u001b[1;36m1351\u001b[0m: DataConversionWarning: A column-vector y was passed when a 1d \u001b[2m               \u001b[0m\n",
       "\u001b[2;36m                    \u001b[0m         array was expected. Please change the shape of y to \u001b[1m(\u001b[0mn_samples,\u001b[1m)\u001b[0m, for  \u001b[2m               \u001b[0m\n",
       "\u001b[2;36m                    \u001b[0m         example using \u001b[1;35mravel\u001b[0m\u001b[1m(\u001b[0m\u001b[1m)\u001b[0m.                                                 \u001b[2m               \u001b[0m\n",
       "\u001b[2;36m                    \u001b[0m           return \u001b[1;35mfit_method\u001b[0m\u001b[1m(\u001b[0mestimator, *args, **kwargs\u001b[1m)\u001b[0m                        \u001b[2m               \u001b[0m\n",
       "\u001b[2;36m                    \u001b[0m                                                                                \u001b[2m               \u001b[0m\n"
      ]
     },
     "metadata": {},
     "output_type": "display_data"
    },
    {
     "data": {
      "text/html": [
       "<pre style=\"white-space:pre;overflow-x:auto;line-height:normal;font-family:Menlo,'DejaVu Sans Mono',consolas,'Courier New',monospace\"><span style=\"color: #7fbfbf; text-decoration-color: #7fbfbf\">                    </span><span style=\"color: #800000; text-decoration-color: #800000\">WARNING </span> C:\\Users\\dggua\\anaconda3\\envs\\test_env\\lib\\site-packages\\sklearn\\base. <a href=\"file://C:\\Users\\dggua\\anaconda3\\envs\\test_env\\lib\\warnings.py\" target=\"_blank\"><span style=\"color: #7f7f7f; text-decoration-color: #7f7f7f\">warnings.py</span></a><span style=\"color: #7f7f7f; text-decoration-color: #7f7f7f\">:</span><a href=\"file://C:\\Users\\dggua\\anaconda3\\envs\\test_env\\lib\\warnings.py#109\" target=\"_blank\"><span style=\"color: #7f7f7f; text-decoration-color: #7f7f7f\">109</span></a>\n",
       "<span style=\"color: #7fbfbf; text-decoration-color: #7fbfbf\">                    </span>         py:<span style=\"color: #008080; text-decoration-color: #008080; font-weight: bold\">1351</span>: DataConversionWarning: A column-vector y was passed when a 1d <span style=\"color: #7f7f7f; text-decoration-color: #7f7f7f\">               </span>\n",
       "<span style=\"color: #7fbfbf; text-decoration-color: #7fbfbf\">                    </span>         array was expected. Please change the shape of y to <span style=\"font-weight: bold\">(</span>n_samples,<span style=\"font-weight: bold\">)</span>, for  <span style=\"color: #7f7f7f; text-decoration-color: #7f7f7f\">               </span>\n",
       "<span style=\"color: #7fbfbf; text-decoration-color: #7fbfbf\">                    </span>         example using <span style=\"color: #800080; text-decoration-color: #800080; font-weight: bold\">ravel</span><span style=\"font-weight: bold\">()</span>.                                                 <span style=\"color: #7f7f7f; text-decoration-color: #7f7f7f\">               </span>\n",
       "<span style=\"color: #7fbfbf; text-decoration-color: #7fbfbf\">                    </span>           return <span style=\"color: #800080; text-decoration-color: #800080; font-weight: bold\">fit_method</span><span style=\"font-weight: bold\">(</span>estimator, *args, **kwargs<span style=\"font-weight: bold\">)</span>                        <span style=\"color: #7f7f7f; text-decoration-color: #7f7f7f\">               </span>\n",
       "<span style=\"color: #7fbfbf; text-decoration-color: #7fbfbf\">                    </span>                                                                                <span style=\"color: #7f7f7f; text-decoration-color: #7f7f7f\">               </span>\n",
       "</pre>\n"
      ],
      "text/plain": [
       "\u001b[2;36m                   \u001b[0m\u001b[2;36m \u001b[0m\u001b[31mWARNING \u001b[0m C:\\Users\\dggua\\anaconda3\\envs\\test_env\\lib\\site-packages\\sklearn\\base. \u001b]8;id=551779;file://C:\\Users\\dggua\\anaconda3\\envs\\test_env\\lib\\warnings.py\u001b\\\u001b[2mwarnings.py\u001b[0m\u001b]8;;\u001b\\\u001b[2m:\u001b[0m\u001b]8;id=152177;file://C:\\Users\\dggua\\anaconda3\\envs\\test_env\\lib\\warnings.py#109\u001b\\\u001b[2m109\u001b[0m\u001b]8;;\u001b\\\n",
       "\u001b[2;36m                    \u001b[0m         py:\u001b[1;36m1351\u001b[0m: DataConversionWarning: A column-vector y was passed when a 1d \u001b[2m               \u001b[0m\n",
       "\u001b[2;36m                    \u001b[0m         array was expected. Please change the shape of y to \u001b[1m(\u001b[0mn_samples,\u001b[1m)\u001b[0m, for  \u001b[2m               \u001b[0m\n",
       "\u001b[2;36m                    \u001b[0m         example using \u001b[1;35mravel\u001b[0m\u001b[1m(\u001b[0m\u001b[1m)\u001b[0m.                                                 \u001b[2m               \u001b[0m\n",
       "\u001b[2;36m                    \u001b[0m           return \u001b[1;35mfit_method\u001b[0m\u001b[1m(\u001b[0mestimator, *args, **kwargs\u001b[1m)\u001b[0m                        \u001b[2m               \u001b[0m\n",
       "\u001b[2;36m                    \u001b[0m                                                                                \u001b[2m               \u001b[0m\n"
      ]
     },
     "metadata": {},
     "output_type": "display_data"
    },
    {
     "data": {
      "text/html": [
       "<pre style=\"white-space:pre;overflow-x:auto;line-height:normal;font-family:Menlo,'DejaVu Sans Mono',consolas,'Courier New',monospace\"><span style=\"color: #7fbfbf; text-decoration-color: #7fbfbf\">[06/22/24 16:18:15] </span><span style=\"color: #800000; text-decoration-color: #800000\">WARNING </span> C:\\Users\\dggua\\anaconda3\\envs\\test_env\\lib\\site-packages\\sklearn\\base. <a href=\"file://C:\\Users\\dggua\\anaconda3\\envs\\test_env\\lib\\warnings.py\" target=\"_blank\"><span style=\"color: #7f7f7f; text-decoration-color: #7f7f7f\">warnings.py</span></a><span style=\"color: #7f7f7f; text-decoration-color: #7f7f7f\">:</span><a href=\"file://C:\\Users\\dggua\\anaconda3\\envs\\test_env\\lib\\warnings.py#109\" target=\"_blank\"><span style=\"color: #7f7f7f; text-decoration-color: #7f7f7f\">109</span></a>\n",
       "<span style=\"color: #7fbfbf; text-decoration-color: #7fbfbf\">                    </span>         py:<span style=\"color: #008080; text-decoration-color: #008080; font-weight: bold\">1351</span>: DataConversionWarning: A column-vector y was passed when a 1d <span style=\"color: #7f7f7f; text-decoration-color: #7f7f7f\">               </span>\n",
       "<span style=\"color: #7fbfbf; text-decoration-color: #7fbfbf\">                    </span>         array was expected. Please change the shape of y to <span style=\"font-weight: bold\">(</span>n_samples,<span style=\"font-weight: bold\">)</span>, for  <span style=\"color: #7f7f7f; text-decoration-color: #7f7f7f\">               </span>\n",
       "<span style=\"color: #7fbfbf; text-decoration-color: #7fbfbf\">                    </span>         example using <span style=\"color: #800080; text-decoration-color: #800080; font-weight: bold\">ravel</span><span style=\"font-weight: bold\">()</span>.                                                 <span style=\"color: #7f7f7f; text-decoration-color: #7f7f7f\">               </span>\n",
       "<span style=\"color: #7fbfbf; text-decoration-color: #7fbfbf\">                    </span>           return <span style=\"color: #800080; text-decoration-color: #800080; font-weight: bold\">fit_method</span><span style=\"font-weight: bold\">(</span>estimator, *args, **kwargs<span style=\"font-weight: bold\">)</span>                        <span style=\"color: #7f7f7f; text-decoration-color: #7f7f7f\">               </span>\n",
       "<span style=\"color: #7fbfbf; text-decoration-color: #7fbfbf\">                    </span>                                                                                <span style=\"color: #7f7f7f; text-decoration-color: #7f7f7f\">               </span>\n",
       "</pre>\n"
      ],
      "text/plain": [
       "\u001b[2;36m[06/22/24 16:18:15]\u001b[0m\u001b[2;36m \u001b[0m\u001b[31mWARNING \u001b[0m C:\\Users\\dggua\\anaconda3\\envs\\test_env\\lib\\site-packages\\sklearn\\base. \u001b]8;id=962933;file://C:\\Users\\dggua\\anaconda3\\envs\\test_env\\lib\\warnings.py\u001b\\\u001b[2mwarnings.py\u001b[0m\u001b]8;;\u001b\\\u001b[2m:\u001b[0m\u001b]8;id=361035;file://C:\\Users\\dggua\\anaconda3\\envs\\test_env\\lib\\warnings.py#109\u001b\\\u001b[2m109\u001b[0m\u001b]8;;\u001b\\\n",
       "\u001b[2;36m                    \u001b[0m         py:\u001b[1;36m1351\u001b[0m: DataConversionWarning: A column-vector y was passed when a 1d \u001b[2m               \u001b[0m\n",
       "\u001b[2;36m                    \u001b[0m         array was expected. Please change the shape of y to \u001b[1m(\u001b[0mn_samples,\u001b[1m)\u001b[0m, for  \u001b[2m               \u001b[0m\n",
       "\u001b[2;36m                    \u001b[0m         example using \u001b[1;35mravel\u001b[0m\u001b[1m(\u001b[0m\u001b[1m)\u001b[0m.                                                 \u001b[2m               \u001b[0m\n",
       "\u001b[2;36m                    \u001b[0m           return \u001b[1;35mfit_method\u001b[0m\u001b[1m(\u001b[0mestimator, *args, **kwargs\u001b[1m)\u001b[0m                        \u001b[2m               \u001b[0m\n",
       "\u001b[2;36m                    \u001b[0m                                                                                \u001b[2m               \u001b[0m\n"
      ]
     },
     "metadata": {},
     "output_type": "display_data"
    },
    {
     "data": {
      "text/html": [
       "<pre style=\"white-space:pre;overflow-x:auto;line-height:normal;font-family:Menlo,'DejaVu Sans Mono',consolas,'Courier New',monospace\"><span style=\"color: #7fbfbf; text-decoration-color: #7fbfbf\">                    </span><span style=\"color: #800000; text-decoration-color: #800000\">WARNING </span> C:\\Users\\dggua\\anaconda3\\envs\\test_env\\lib\\site-packages\\sklearn\\base. <a href=\"file://C:\\Users\\dggua\\anaconda3\\envs\\test_env\\lib\\warnings.py\" target=\"_blank\"><span style=\"color: #7f7f7f; text-decoration-color: #7f7f7f\">warnings.py</span></a><span style=\"color: #7f7f7f; text-decoration-color: #7f7f7f\">:</span><a href=\"file://C:\\Users\\dggua\\anaconda3\\envs\\test_env\\lib\\warnings.py#109\" target=\"_blank\"><span style=\"color: #7f7f7f; text-decoration-color: #7f7f7f\">109</span></a>\n",
       "<span style=\"color: #7fbfbf; text-decoration-color: #7fbfbf\">                    </span>         py:<span style=\"color: #008080; text-decoration-color: #008080; font-weight: bold\">1351</span>: DataConversionWarning: A column-vector y was passed when a 1d <span style=\"color: #7f7f7f; text-decoration-color: #7f7f7f\">               </span>\n",
       "<span style=\"color: #7fbfbf; text-decoration-color: #7fbfbf\">                    </span>         array was expected. Please change the shape of y to <span style=\"font-weight: bold\">(</span>n_samples,<span style=\"font-weight: bold\">)</span>, for  <span style=\"color: #7f7f7f; text-decoration-color: #7f7f7f\">               </span>\n",
       "<span style=\"color: #7fbfbf; text-decoration-color: #7fbfbf\">                    </span>         example using <span style=\"color: #800080; text-decoration-color: #800080; font-weight: bold\">ravel</span><span style=\"font-weight: bold\">()</span>.                                                 <span style=\"color: #7f7f7f; text-decoration-color: #7f7f7f\">               </span>\n",
       "<span style=\"color: #7fbfbf; text-decoration-color: #7fbfbf\">                    </span>           return <span style=\"color: #800080; text-decoration-color: #800080; font-weight: bold\">fit_method</span><span style=\"font-weight: bold\">(</span>estimator, *args, **kwargs<span style=\"font-weight: bold\">)</span>                        <span style=\"color: #7f7f7f; text-decoration-color: #7f7f7f\">               </span>\n",
       "<span style=\"color: #7fbfbf; text-decoration-color: #7fbfbf\">                    </span>                                                                                <span style=\"color: #7f7f7f; text-decoration-color: #7f7f7f\">               </span>\n",
       "</pre>\n"
      ],
      "text/plain": [
       "\u001b[2;36m                   \u001b[0m\u001b[2;36m \u001b[0m\u001b[31mWARNING \u001b[0m C:\\Users\\dggua\\anaconda3\\envs\\test_env\\lib\\site-packages\\sklearn\\base. \u001b]8;id=444656;file://C:\\Users\\dggua\\anaconda3\\envs\\test_env\\lib\\warnings.py\u001b\\\u001b[2mwarnings.py\u001b[0m\u001b]8;;\u001b\\\u001b[2m:\u001b[0m\u001b]8;id=714594;file://C:\\Users\\dggua\\anaconda3\\envs\\test_env\\lib\\warnings.py#109\u001b\\\u001b[2m109\u001b[0m\u001b]8;;\u001b\\\n",
       "\u001b[2;36m                    \u001b[0m         py:\u001b[1;36m1351\u001b[0m: DataConversionWarning: A column-vector y was passed when a 1d \u001b[2m               \u001b[0m\n",
       "\u001b[2;36m                    \u001b[0m         array was expected. Please change the shape of y to \u001b[1m(\u001b[0mn_samples,\u001b[1m)\u001b[0m, for  \u001b[2m               \u001b[0m\n",
       "\u001b[2;36m                    \u001b[0m         example using \u001b[1;35mravel\u001b[0m\u001b[1m(\u001b[0m\u001b[1m)\u001b[0m.                                                 \u001b[2m               \u001b[0m\n",
       "\u001b[2;36m                    \u001b[0m           return \u001b[1;35mfit_method\u001b[0m\u001b[1m(\u001b[0mestimator, *args, **kwargs\u001b[1m)\u001b[0m                        \u001b[2m               \u001b[0m\n",
       "\u001b[2;36m                    \u001b[0m                                                                                \u001b[2m               \u001b[0m\n"
      ]
     },
     "metadata": {},
     "output_type": "display_data"
    },
    {
     "data": {
      "text/html": [
       "<pre style=\"white-space:pre;overflow-x:auto;line-height:normal;font-family:Menlo,'DejaVu Sans Mono',consolas,'Courier New',monospace\"><span style=\"color: #7fbfbf; text-decoration-color: #7fbfbf\">                    </span><span style=\"color: #800000; text-decoration-color: #800000\">WARNING </span> C:\\Users\\dggua\\anaconda3\\envs\\test_env\\lib\\site-packages\\sklearn\\base. <a href=\"file://C:\\Users\\dggua\\anaconda3\\envs\\test_env\\lib\\warnings.py\" target=\"_blank\"><span style=\"color: #7f7f7f; text-decoration-color: #7f7f7f\">warnings.py</span></a><span style=\"color: #7f7f7f; text-decoration-color: #7f7f7f\">:</span><a href=\"file://C:\\Users\\dggua\\anaconda3\\envs\\test_env\\lib\\warnings.py#109\" target=\"_blank\"><span style=\"color: #7f7f7f; text-decoration-color: #7f7f7f\">109</span></a>\n",
       "<span style=\"color: #7fbfbf; text-decoration-color: #7fbfbf\">                    </span>         py:<span style=\"color: #008080; text-decoration-color: #008080; font-weight: bold\">1351</span>: DataConversionWarning: A column-vector y was passed when a 1d <span style=\"color: #7f7f7f; text-decoration-color: #7f7f7f\">               </span>\n",
       "<span style=\"color: #7fbfbf; text-decoration-color: #7fbfbf\">                    </span>         array was expected. Please change the shape of y to <span style=\"font-weight: bold\">(</span>n_samples,<span style=\"font-weight: bold\">)</span>, for  <span style=\"color: #7f7f7f; text-decoration-color: #7f7f7f\">               </span>\n",
       "<span style=\"color: #7fbfbf; text-decoration-color: #7fbfbf\">                    </span>         example using <span style=\"color: #800080; text-decoration-color: #800080; font-weight: bold\">ravel</span><span style=\"font-weight: bold\">()</span>.                                                 <span style=\"color: #7f7f7f; text-decoration-color: #7f7f7f\">               </span>\n",
       "<span style=\"color: #7fbfbf; text-decoration-color: #7fbfbf\">                    </span>           return <span style=\"color: #800080; text-decoration-color: #800080; font-weight: bold\">fit_method</span><span style=\"font-weight: bold\">(</span>estimator, *args, **kwargs<span style=\"font-weight: bold\">)</span>                        <span style=\"color: #7f7f7f; text-decoration-color: #7f7f7f\">               </span>\n",
       "<span style=\"color: #7fbfbf; text-decoration-color: #7fbfbf\">                    </span>                                                                                <span style=\"color: #7f7f7f; text-decoration-color: #7f7f7f\">               </span>\n",
       "</pre>\n"
      ],
      "text/plain": [
       "\u001b[2;36m                   \u001b[0m\u001b[2;36m \u001b[0m\u001b[31mWARNING \u001b[0m C:\\Users\\dggua\\anaconda3\\envs\\test_env\\lib\\site-packages\\sklearn\\base. \u001b]8;id=949692;file://C:\\Users\\dggua\\anaconda3\\envs\\test_env\\lib\\warnings.py\u001b\\\u001b[2mwarnings.py\u001b[0m\u001b]8;;\u001b\\\u001b[2m:\u001b[0m\u001b]8;id=776936;file://C:\\Users\\dggua\\anaconda3\\envs\\test_env\\lib\\warnings.py#109\u001b\\\u001b[2m109\u001b[0m\u001b]8;;\u001b\\\n",
       "\u001b[2;36m                    \u001b[0m         py:\u001b[1;36m1351\u001b[0m: DataConversionWarning: A column-vector y was passed when a 1d \u001b[2m               \u001b[0m\n",
       "\u001b[2;36m                    \u001b[0m         array was expected. Please change the shape of y to \u001b[1m(\u001b[0mn_samples,\u001b[1m)\u001b[0m, for  \u001b[2m               \u001b[0m\n",
       "\u001b[2;36m                    \u001b[0m         example using \u001b[1;35mravel\u001b[0m\u001b[1m(\u001b[0m\u001b[1m)\u001b[0m.                                                 \u001b[2m               \u001b[0m\n",
       "\u001b[2;36m                    \u001b[0m           return \u001b[1;35mfit_method\u001b[0m\u001b[1m(\u001b[0mestimator, *args, **kwargs\u001b[1m)\u001b[0m                        \u001b[2m               \u001b[0m\n",
       "\u001b[2;36m                    \u001b[0m                                                                                \u001b[2m               \u001b[0m\n"
      ]
     },
     "metadata": {},
     "output_type": "display_data"
    },
    {
     "data": {
      "text/html": [
       "<pre style=\"white-space:pre;overflow-x:auto;line-height:normal;font-family:Menlo,'DejaVu Sans Mono',consolas,'Courier New',monospace\"><span style=\"color: #7fbfbf; text-decoration-color: #7fbfbf\">                    </span><span style=\"color: #800000; text-decoration-color: #800000\">WARNING </span> C:\\Users\\dggua\\anaconda3\\envs\\test_env\\lib\\site-packages\\sklearn\\base. <a href=\"file://C:\\Users\\dggua\\anaconda3\\envs\\test_env\\lib\\warnings.py\" target=\"_blank\"><span style=\"color: #7f7f7f; text-decoration-color: #7f7f7f\">warnings.py</span></a><span style=\"color: #7f7f7f; text-decoration-color: #7f7f7f\">:</span><a href=\"file://C:\\Users\\dggua\\anaconda3\\envs\\test_env\\lib\\warnings.py#109\" target=\"_blank\"><span style=\"color: #7f7f7f; text-decoration-color: #7f7f7f\">109</span></a>\n",
       "<span style=\"color: #7fbfbf; text-decoration-color: #7fbfbf\">                    </span>         py:<span style=\"color: #008080; text-decoration-color: #008080; font-weight: bold\">1351</span>: DataConversionWarning: A column-vector y was passed when a 1d <span style=\"color: #7f7f7f; text-decoration-color: #7f7f7f\">               </span>\n",
       "<span style=\"color: #7fbfbf; text-decoration-color: #7fbfbf\">                    </span>         array was expected. Please change the shape of y to <span style=\"font-weight: bold\">(</span>n_samples,<span style=\"font-weight: bold\">)</span>, for  <span style=\"color: #7f7f7f; text-decoration-color: #7f7f7f\">               </span>\n",
       "<span style=\"color: #7fbfbf; text-decoration-color: #7fbfbf\">                    </span>         example using <span style=\"color: #800080; text-decoration-color: #800080; font-weight: bold\">ravel</span><span style=\"font-weight: bold\">()</span>.                                                 <span style=\"color: #7f7f7f; text-decoration-color: #7f7f7f\">               </span>\n",
       "<span style=\"color: #7fbfbf; text-decoration-color: #7fbfbf\">                    </span>           return <span style=\"color: #800080; text-decoration-color: #800080; font-weight: bold\">fit_method</span><span style=\"font-weight: bold\">(</span>estimator, *args, **kwargs<span style=\"font-weight: bold\">)</span>                        <span style=\"color: #7f7f7f; text-decoration-color: #7f7f7f\">               </span>\n",
       "<span style=\"color: #7fbfbf; text-decoration-color: #7fbfbf\">                    </span>                                                                                <span style=\"color: #7f7f7f; text-decoration-color: #7f7f7f\">               </span>\n",
       "</pre>\n"
      ],
      "text/plain": [
       "\u001b[2;36m                   \u001b[0m\u001b[2;36m \u001b[0m\u001b[31mWARNING \u001b[0m C:\\Users\\dggua\\anaconda3\\envs\\test_env\\lib\\site-packages\\sklearn\\base. \u001b]8;id=230392;file://C:\\Users\\dggua\\anaconda3\\envs\\test_env\\lib\\warnings.py\u001b\\\u001b[2mwarnings.py\u001b[0m\u001b]8;;\u001b\\\u001b[2m:\u001b[0m\u001b]8;id=98756;file://C:\\Users\\dggua\\anaconda3\\envs\\test_env\\lib\\warnings.py#109\u001b\\\u001b[2m109\u001b[0m\u001b]8;;\u001b\\\n",
       "\u001b[2;36m                    \u001b[0m         py:\u001b[1;36m1351\u001b[0m: DataConversionWarning: A column-vector y was passed when a 1d \u001b[2m               \u001b[0m\n",
       "\u001b[2;36m                    \u001b[0m         array was expected. Please change the shape of y to \u001b[1m(\u001b[0mn_samples,\u001b[1m)\u001b[0m, for  \u001b[2m               \u001b[0m\n",
       "\u001b[2;36m                    \u001b[0m         example using \u001b[1;35mravel\u001b[0m\u001b[1m(\u001b[0m\u001b[1m)\u001b[0m.                                                 \u001b[2m               \u001b[0m\n",
       "\u001b[2;36m                    \u001b[0m           return \u001b[1;35mfit_method\u001b[0m\u001b[1m(\u001b[0mestimator, *args, **kwargs\u001b[1m)\u001b[0m                        \u001b[2m               \u001b[0m\n",
       "\u001b[2;36m                    \u001b[0m                                                                                \u001b[2m               \u001b[0m\n"
      ]
     },
     "metadata": {},
     "output_type": "display_data"
    },
    {
     "data": {
      "text/html": [
       "<pre style=\"white-space:pre;overflow-x:auto;line-height:normal;font-family:Menlo,'DejaVu Sans Mono',consolas,'Courier New',monospace\"><span style=\"color: #7fbfbf; text-decoration-color: #7fbfbf\">                    </span><span style=\"color: #800000; text-decoration-color: #800000\">WARNING </span> C:\\Users\\dggua\\anaconda3\\envs\\test_env\\lib\\site-packages\\sklearn\\base. <a href=\"file://C:\\Users\\dggua\\anaconda3\\envs\\test_env\\lib\\warnings.py\" target=\"_blank\"><span style=\"color: #7f7f7f; text-decoration-color: #7f7f7f\">warnings.py</span></a><span style=\"color: #7f7f7f; text-decoration-color: #7f7f7f\">:</span><a href=\"file://C:\\Users\\dggua\\anaconda3\\envs\\test_env\\lib\\warnings.py#109\" target=\"_blank\"><span style=\"color: #7f7f7f; text-decoration-color: #7f7f7f\">109</span></a>\n",
       "<span style=\"color: #7fbfbf; text-decoration-color: #7fbfbf\">                    </span>         py:<span style=\"color: #008080; text-decoration-color: #008080; font-weight: bold\">1351</span>: DataConversionWarning: A column-vector y was passed when a 1d <span style=\"color: #7f7f7f; text-decoration-color: #7f7f7f\">               </span>\n",
       "<span style=\"color: #7fbfbf; text-decoration-color: #7fbfbf\">                    </span>         array was expected. Please change the shape of y to <span style=\"font-weight: bold\">(</span>n_samples,<span style=\"font-weight: bold\">)</span>, for  <span style=\"color: #7f7f7f; text-decoration-color: #7f7f7f\">               </span>\n",
       "<span style=\"color: #7fbfbf; text-decoration-color: #7fbfbf\">                    </span>         example using <span style=\"color: #800080; text-decoration-color: #800080; font-weight: bold\">ravel</span><span style=\"font-weight: bold\">()</span>.                                                 <span style=\"color: #7f7f7f; text-decoration-color: #7f7f7f\">               </span>\n",
       "<span style=\"color: #7fbfbf; text-decoration-color: #7fbfbf\">                    </span>           return <span style=\"color: #800080; text-decoration-color: #800080; font-weight: bold\">fit_method</span><span style=\"font-weight: bold\">(</span>estimator, *args, **kwargs<span style=\"font-weight: bold\">)</span>                        <span style=\"color: #7f7f7f; text-decoration-color: #7f7f7f\">               </span>\n",
       "<span style=\"color: #7fbfbf; text-decoration-color: #7fbfbf\">                    </span>                                                                                <span style=\"color: #7f7f7f; text-decoration-color: #7f7f7f\">               </span>\n",
       "</pre>\n"
      ],
      "text/plain": [
       "\u001b[2;36m                   \u001b[0m\u001b[2;36m \u001b[0m\u001b[31mWARNING \u001b[0m C:\\Users\\dggua\\anaconda3\\envs\\test_env\\lib\\site-packages\\sklearn\\base. \u001b]8;id=965333;file://C:\\Users\\dggua\\anaconda3\\envs\\test_env\\lib\\warnings.py\u001b\\\u001b[2mwarnings.py\u001b[0m\u001b]8;;\u001b\\\u001b[2m:\u001b[0m\u001b]8;id=235696;file://C:\\Users\\dggua\\anaconda3\\envs\\test_env\\lib\\warnings.py#109\u001b\\\u001b[2m109\u001b[0m\u001b]8;;\u001b\\\n",
       "\u001b[2;36m                    \u001b[0m         py:\u001b[1;36m1351\u001b[0m: DataConversionWarning: A column-vector y was passed when a 1d \u001b[2m               \u001b[0m\n",
       "\u001b[2;36m                    \u001b[0m         array was expected. Please change the shape of y to \u001b[1m(\u001b[0mn_samples,\u001b[1m)\u001b[0m, for  \u001b[2m               \u001b[0m\n",
       "\u001b[2;36m                    \u001b[0m         example using \u001b[1;35mravel\u001b[0m\u001b[1m(\u001b[0m\u001b[1m)\u001b[0m.                                                 \u001b[2m               \u001b[0m\n",
       "\u001b[2;36m                    \u001b[0m           return \u001b[1;35mfit_method\u001b[0m\u001b[1m(\u001b[0mestimator, *args, **kwargs\u001b[1m)\u001b[0m                        \u001b[2m               \u001b[0m\n",
       "\u001b[2;36m                    \u001b[0m                                                                                \u001b[2m               \u001b[0m\n"
      ]
     },
     "metadata": {},
     "output_type": "display_data"
    },
    {
     "data": {
      "text/html": [
       "<pre style=\"white-space:pre;overflow-x:auto;line-height:normal;font-family:Menlo,'DejaVu Sans Mono',consolas,'Courier New',monospace\"><span style=\"color: #7fbfbf; text-decoration-color: #7fbfbf\">                    </span><span style=\"color: #800000; text-decoration-color: #800000\">WARNING </span> C:\\Users\\dggua\\anaconda3\\envs\\test_env\\lib\\site-packages\\sklearn\\base. <a href=\"file://C:\\Users\\dggua\\anaconda3\\envs\\test_env\\lib\\warnings.py\" target=\"_blank\"><span style=\"color: #7f7f7f; text-decoration-color: #7f7f7f\">warnings.py</span></a><span style=\"color: #7f7f7f; text-decoration-color: #7f7f7f\">:</span><a href=\"file://C:\\Users\\dggua\\anaconda3\\envs\\test_env\\lib\\warnings.py#109\" target=\"_blank\"><span style=\"color: #7f7f7f; text-decoration-color: #7f7f7f\">109</span></a>\n",
       "<span style=\"color: #7fbfbf; text-decoration-color: #7fbfbf\">                    </span>         py:<span style=\"color: #008080; text-decoration-color: #008080; font-weight: bold\">1351</span>: DataConversionWarning: A column-vector y was passed when a 1d <span style=\"color: #7f7f7f; text-decoration-color: #7f7f7f\">               </span>\n",
       "<span style=\"color: #7fbfbf; text-decoration-color: #7fbfbf\">                    </span>         array was expected. Please change the shape of y to <span style=\"font-weight: bold\">(</span>n_samples,<span style=\"font-weight: bold\">)</span>, for  <span style=\"color: #7f7f7f; text-decoration-color: #7f7f7f\">               </span>\n",
       "<span style=\"color: #7fbfbf; text-decoration-color: #7fbfbf\">                    </span>         example using <span style=\"color: #800080; text-decoration-color: #800080; font-weight: bold\">ravel</span><span style=\"font-weight: bold\">()</span>.                                                 <span style=\"color: #7f7f7f; text-decoration-color: #7f7f7f\">               </span>\n",
       "<span style=\"color: #7fbfbf; text-decoration-color: #7fbfbf\">                    </span>           return <span style=\"color: #800080; text-decoration-color: #800080; font-weight: bold\">fit_method</span><span style=\"font-weight: bold\">(</span>estimator, *args, **kwargs<span style=\"font-weight: bold\">)</span>                        <span style=\"color: #7f7f7f; text-decoration-color: #7f7f7f\">               </span>\n",
       "<span style=\"color: #7fbfbf; text-decoration-color: #7fbfbf\">                    </span>                                                                                <span style=\"color: #7f7f7f; text-decoration-color: #7f7f7f\">               </span>\n",
       "</pre>\n"
      ],
      "text/plain": [
       "\u001b[2;36m                   \u001b[0m\u001b[2;36m \u001b[0m\u001b[31mWARNING \u001b[0m C:\\Users\\dggua\\anaconda3\\envs\\test_env\\lib\\site-packages\\sklearn\\base. \u001b]8;id=836516;file://C:\\Users\\dggua\\anaconda3\\envs\\test_env\\lib\\warnings.py\u001b\\\u001b[2mwarnings.py\u001b[0m\u001b]8;;\u001b\\\u001b[2m:\u001b[0m\u001b]8;id=539409;file://C:\\Users\\dggua\\anaconda3\\envs\\test_env\\lib\\warnings.py#109\u001b\\\u001b[2m109\u001b[0m\u001b]8;;\u001b\\\n",
       "\u001b[2;36m                    \u001b[0m         py:\u001b[1;36m1351\u001b[0m: DataConversionWarning: A column-vector y was passed when a 1d \u001b[2m               \u001b[0m\n",
       "\u001b[2;36m                    \u001b[0m         array was expected. Please change the shape of y to \u001b[1m(\u001b[0mn_samples,\u001b[1m)\u001b[0m, for  \u001b[2m               \u001b[0m\n",
       "\u001b[2;36m                    \u001b[0m         example using \u001b[1;35mravel\u001b[0m\u001b[1m(\u001b[0m\u001b[1m)\u001b[0m.                                                 \u001b[2m               \u001b[0m\n",
       "\u001b[2;36m                    \u001b[0m           return \u001b[1;35mfit_method\u001b[0m\u001b[1m(\u001b[0mestimator, *args, **kwargs\u001b[1m)\u001b[0m                        \u001b[2m               \u001b[0m\n",
       "\u001b[2;36m                    \u001b[0m                                                                                \u001b[2m               \u001b[0m\n"
      ]
     },
     "metadata": {},
     "output_type": "display_data"
    },
    {
     "data": {
      "text/html": [
       "<pre style=\"white-space:pre;overflow-x:auto;line-height:normal;font-family:Menlo,'DejaVu Sans Mono',consolas,'Courier New',monospace\"><span style=\"color: #7fbfbf; text-decoration-color: #7fbfbf\">                    </span><span style=\"color: #800000; text-decoration-color: #800000\">WARNING </span> C:\\Users\\dggua\\anaconda3\\envs\\test_env\\lib\\site-packages\\sklearn\\base. <a href=\"file://C:\\Users\\dggua\\anaconda3\\envs\\test_env\\lib\\warnings.py\" target=\"_blank\"><span style=\"color: #7f7f7f; text-decoration-color: #7f7f7f\">warnings.py</span></a><span style=\"color: #7f7f7f; text-decoration-color: #7f7f7f\">:</span><a href=\"file://C:\\Users\\dggua\\anaconda3\\envs\\test_env\\lib\\warnings.py#109\" target=\"_blank\"><span style=\"color: #7f7f7f; text-decoration-color: #7f7f7f\">109</span></a>\n",
       "<span style=\"color: #7fbfbf; text-decoration-color: #7fbfbf\">                    </span>         py:<span style=\"color: #008080; text-decoration-color: #008080; font-weight: bold\">1351</span>: DataConversionWarning: A column-vector y was passed when a 1d <span style=\"color: #7f7f7f; text-decoration-color: #7f7f7f\">               </span>\n",
       "<span style=\"color: #7fbfbf; text-decoration-color: #7fbfbf\">                    </span>         array was expected. Please change the shape of y to <span style=\"font-weight: bold\">(</span>n_samples,<span style=\"font-weight: bold\">)</span>, for  <span style=\"color: #7f7f7f; text-decoration-color: #7f7f7f\">               </span>\n",
       "<span style=\"color: #7fbfbf; text-decoration-color: #7fbfbf\">                    </span>         example using <span style=\"color: #800080; text-decoration-color: #800080; font-weight: bold\">ravel</span><span style=\"font-weight: bold\">()</span>.                                                 <span style=\"color: #7f7f7f; text-decoration-color: #7f7f7f\">               </span>\n",
       "<span style=\"color: #7fbfbf; text-decoration-color: #7fbfbf\">                    </span>           return <span style=\"color: #800080; text-decoration-color: #800080; font-weight: bold\">fit_method</span><span style=\"font-weight: bold\">(</span>estimator, *args, **kwargs<span style=\"font-weight: bold\">)</span>                        <span style=\"color: #7f7f7f; text-decoration-color: #7f7f7f\">               </span>\n",
       "<span style=\"color: #7fbfbf; text-decoration-color: #7fbfbf\">                    </span>                                                                                <span style=\"color: #7f7f7f; text-decoration-color: #7f7f7f\">               </span>\n",
       "</pre>\n"
      ],
      "text/plain": [
       "\u001b[2;36m                   \u001b[0m\u001b[2;36m \u001b[0m\u001b[31mWARNING \u001b[0m C:\\Users\\dggua\\anaconda3\\envs\\test_env\\lib\\site-packages\\sklearn\\base. \u001b]8;id=326923;file://C:\\Users\\dggua\\anaconda3\\envs\\test_env\\lib\\warnings.py\u001b\\\u001b[2mwarnings.py\u001b[0m\u001b]8;;\u001b\\\u001b[2m:\u001b[0m\u001b]8;id=41640;file://C:\\Users\\dggua\\anaconda3\\envs\\test_env\\lib\\warnings.py#109\u001b\\\u001b[2m109\u001b[0m\u001b]8;;\u001b\\\n",
       "\u001b[2;36m                    \u001b[0m         py:\u001b[1;36m1351\u001b[0m: DataConversionWarning: A column-vector y was passed when a 1d \u001b[2m               \u001b[0m\n",
       "\u001b[2;36m                    \u001b[0m         array was expected. Please change the shape of y to \u001b[1m(\u001b[0mn_samples,\u001b[1m)\u001b[0m, for  \u001b[2m               \u001b[0m\n",
       "\u001b[2;36m                    \u001b[0m         example using \u001b[1;35mravel\u001b[0m\u001b[1m(\u001b[0m\u001b[1m)\u001b[0m.                                                 \u001b[2m               \u001b[0m\n",
       "\u001b[2;36m                    \u001b[0m           return \u001b[1;35mfit_method\u001b[0m\u001b[1m(\u001b[0mestimator, *args, **kwargs\u001b[1m)\u001b[0m                        \u001b[2m               \u001b[0m\n",
       "\u001b[2;36m                    \u001b[0m                                                                                \u001b[2m               \u001b[0m\n"
      ]
     },
     "metadata": {},
     "output_type": "display_data"
    },
    {
     "data": {
      "text/html": [
       "<pre style=\"white-space:pre;overflow-x:auto;line-height:normal;font-family:Menlo,'DejaVu Sans Mono',consolas,'Courier New',monospace\"><span style=\"color: #7fbfbf; text-decoration-color: #7fbfbf\">                    </span><span style=\"color: #800000; text-decoration-color: #800000\">WARNING </span> C:\\Users\\dggua\\anaconda3\\envs\\test_env\\lib\\site-packages\\sklearn\\base. <a href=\"file://C:\\Users\\dggua\\anaconda3\\envs\\test_env\\lib\\warnings.py\" target=\"_blank\"><span style=\"color: #7f7f7f; text-decoration-color: #7f7f7f\">warnings.py</span></a><span style=\"color: #7f7f7f; text-decoration-color: #7f7f7f\">:</span><a href=\"file://C:\\Users\\dggua\\anaconda3\\envs\\test_env\\lib\\warnings.py#109\" target=\"_blank\"><span style=\"color: #7f7f7f; text-decoration-color: #7f7f7f\">109</span></a>\n",
       "<span style=\"color: #7fbfbf; text-decoration-color: #7fbfbf\">                    </span>         py:<span style=\"color: #008080; text-decoration-color: #008080; font-weight: bold\">1351</span>: DataConversionWarning: A column-vector y was passed when a 1d <span style=\"color: #7f7f7f; text-decoration-color: #7f7f7f\">               </span>\n",
       "<span style=\"color: #7fbfbf; text-decoration-color: #7fbfbf\">                    </span>         array was expected. Please change the shape of y to <span style=\"font-weight: bold\">(</span>n_samples,<span style=\"font-weight: bold\">)</span>, for  <span style=\"color: #7f7f7f; text-decoration-color: #7f7f7f\">               </span>\n",
       "<span style=\"color: #7fbfbf; text-decoration-color: #7fbfbf\">                    </span>         example using <span style=\"color: #800080; text-decoration-color: #800080; font-weight: bold\">ravel</span><span style=\"font-weight: bold\">()</span>.                                                 <span style=\"color: #7f7f7f; text-decoration-color: #7f7f7f\">               </span>\n",
       "<span style=\"color: #7fbfbf; text-decoration-color: #7fbfbf\">                    </span>           return <span style=\"color: #800080; text-decoration-color: #800080; font-weight: bold\">fit_method</span><span style=\"font-weight: bold\">(</span>estimator, *args, **kwargs<span style=\"font-weight: bold\">)</span>                        <span style=\"color: #7f7f7f; text-decoration-color: #7f7f7f\">               </span>\n",
       "<span style=\"color: #7fbfbf; text-decoration-color: #7fbfbf\">                    </span>                                                                                <span style=\"color: #7f7f7f; text-decoration-color: #7f7f7f\">               </span>\n",
       "</pre>\n"
      ],
      "text/plain": [
       "\u001b[2;36m                   \u001b[0m\u001b[2;36m \u001b[0m\u001b[31mWARNING \u001b[0m C:\\Users\\dggua\\anaconda3\\envs\\test_env\\lib\\site-packages\\sklearn\\base. \u001b]8;id=166358;file://C:\\Users\\dggua\\anaconda3\\envs\\test_env\\lib\\warnings.py\u001b\\\u001b[2mwarnings.py\u001b[0m\u001b]8;;\u001b\\\u001b[2m:\u001b[0m\u001b]8;id=39590;file://C:\\Users\\dggua\\anaconda3\\envs\\test_env\\lib\\warnings.py#109\u001b\\\u001b[2m109\u001b[0m\u001b]8;;\u001b\\\n",
       "\u001b[2;36m                    \u001b[0m         py:\u001b[1;36m1351\u001b[0m: DataConversionWarning: A column-vector y was passed when a 1d \u001b[2m               \u001b[0m\n",
       "\u001b[2;36m                    \u001b[0m         array was expected. Please change the shape of y to \u001b[1m(\u001b[0mn_samples,\u001b[1m)\u001b[0m, for  \u001b[2m               \u001b[0m\n",
       "\u001b[2;36m                    \u001b[0m         example using \u001b[1;35mravel\u001b[0m\u001b[1m(\u001b[0m\u001b[1m)\u001b[0m.                                                 \u001b[2m               \u001b[0m\n",
       "\u001b[2;36m                    \u001b[0m           return \u001b[1;35mfit_method\u001b[0m\u001b[1m(\u001b[0mestimator, *args, **kwargs\u001b[1m)\u001b[0m                        \u001b[2m               \u001b[0m\n",
       "\u001b[2;36m                    \u001b[0m                                                                                \u001b[2m               \u001b[0m\n"
      ]
     },
     "metadata": {},
     "output_type": "display_data"
    },
    {
     "data": {
      "text/html": [
       "<pre style=\"white-space:pre;overflow-x:auto;line-height:normal;font-family:Menlo,'DejaVu Sans Mono',consolas,'Courier New',monospace\"><span style=\"color: #7fbfbf; text-decoration-color: #7fbfbf\">                    </span><span style=\"color: #800000; text-decoration-color: #800000\">WARNING </span> C:\\Users\\dggua\\anaconda3\\envs\\test_env\\lib\\site-packages\\sklearn\\base. <a href=\"file://C:\\Users\\dggua\\anaconda3\\envs\\test_env\\lib\\warnings.py\" target=\"_blank\"><span style=\"color: #7f7f7f; text-decoration-color: #7f7f7f\">warnings.py</span></a><span style=\"color: #7f7f7f; text-decoration-color: #7f7f7f\">:</span><a href=\"file://C:\\Users\\dggua\\anaconda3\\envs\\test_env\\lib\\warnings.py#109\" target=\"_blank\"><span style=\"color: #7f7f7f; text-decoration-color: #7f7f7f\">109</span></a>\n",
       "<span style=\"color: #7fbfbf; text-decoration-color: #7fbfbf\">                    </span>         py:<span style=\"color: #008080; text-decoration-color: #008080; font-weight: bold\">1351</span>: DataConversionWarning: A column-vector y was passed when a 1d <span style=\"color: #7f7f7f; text-decoration-color: #7f7f7f\">               </span>\n",
       "<span style=\"color: #7fbfbf; text-decoration-color: #7fbfbf\">                    </span>         array was expected. Please change the shape of y to <span style=\"font-weight: bold\">(</span>n_samples,<span style=\"font-weight: bold\">)</span>, for  <span style=\"color: #7f7f7f; text-decoration-color: #7f7f7f\">               </span>\n",
       "<span style=\"color: #7fbfbf; text-decoration-color: #7fbfbf\">                    </span>         example using <span style=\"color: #800080; text-decoration-color: #800080; font-weight: bold\">ravel</span><span style=\"font-weight: bold\">()</span>.                                                 <span style=\"color: #7f7f7f; text-decoration-color: #7f7f7f\">               </span>\n",
       "<span style=\"color: #7fbfbf; text-decoration-color: #7fbfbf\">                    </span>           return <span style=\"color: #800080; text-decoration-color: #800080; font-weight: bold\">fit_method</span><span style=\"font-weight: bold\">(</span>estimator, *args, **kwargs<span style=\"font-weight: bold\">)</span>                        <span style=\"color: #7f7f7f; text-decoration-color: #7f7f7f\">               </span>\n",
       "<span style=\"color: #7fbfbf; text-decoration-color: #7fbfbf\">                    </span>                                                                                <span style=\"color: #7f7f7f; text-decoration-color: #7f7f7f\">               </span>\n",
       "</pre>\n"
      ],
      "text/plain": [
       "\u001b[2;36m                   \u001b[0m\u001b[2;36m \u001b[0m\u001b[31mWARNING \u001b[0m C:\\Users\\dggua\\anaconda3\\envs\\test_env\\lib\\site-packages\\sklearn\\base. \u001b]8;id=81678;file://C:\\Users\\dggua\\anaconda3\\envs\\test_env\\lib\\warnings.py\u001b\\\u001b[2mwarnings.py\u001b[0m\u001b]8;;\u001b\\\u001b[2m:\u001b[0m\u001b]8;id=985029;file://C:\\Users\\dggua\\anaconda3\\envs\\test_env\\lib\\warnings.py#109\u001b\\\u001b[2m109\u001b[0m\u001b]8;;\u001b\\\n",
       "\u001b[2;36m                    \u001b[0m         py:\u001b[1;36m1351\u001b[0m: DataConversionWarning: A column-vector y was passed when a 1d \u001b[2m               \u001b[0m\n",
       "\u001b[2;36m                    \u001b[0m         array was expected. Please change the shape of y to \u001b[1m(\u001b[0mn_samples,\u001b[1m)\u001b[0m, for  \u001b[2m               \u001b[0m\n",
       "\u001b[2;36m                    \u001b[0m         example using \u001b[1;35mravel\u001b[0m\u001b[1m(\u001b[0m\u001b[1m)\u001b[0m.                                                 \u001b[2m               \u001b[0m\n",
       "\u001b[2;36m                    \u001b[0m           return \u001b[1;35mfit_method\u001b[0m\u001b[1m(\u001b[0mestimator, *args, **kwargs\u001b[1m)\u001b[0m                        \u001b[2m               \u001b[0m\n",
       "\u001b[2;36m                    \u001b[0m                                                                                \u001b[2m               \u001b[0m\n"
      ]
     },
     "metadata": {},
     "output_type": "display_data"
    },
    {
     "data": {
      "text/html": [
       "<pre style=\"white-space:pre;overflow-x:auto;line-height:normal;font-family:Menlo,'DejaVu Sans Mono',consolas,'Courier New',monospace\"><span style=\"color: #7fbfbf; text-decoration-color: #7fbfbf\">                    </span><span style=\"color: #800000; text-decoration-color: #800000\">WARNING </span> C:\\Users\\dggua\\anaconda3\\envs\\test_env\\lib\\site-packages\\sklearn\\base. <a href=\"file://C:\\Users\\dggua\\anaconda3\\envs\\test_env\\lib\\warnings.py\" target=\"_blank\"><span style=\"color: #7f7f7f; text-decoration-color: #7f7f7f\">warnings.py</span></a><span style=\"color: #7f7f7f; text-decoration-color: #7f7f7f\">:</span><a href=\"file://C:\\Users\\dggua\\anaconda3\\envs\\test_env\\lib\\warnings.py#109\" target=\"_blank\"><span style=\"color: #7f7f7f; text-decoration-color: #7f7f7f\">109</span></a>\n",
       "<span style=\"color: #7fbfbf; text-decoration-color: #7fbfbf\">                    </span>         py:<span style=\"color: #008080; text-decoration-color: #008080; font-weight: bold\">1351</span>: DataConversionWarning: A column-vector y was passed when a 1d <span style=\"color: #7f7f7f; text-decoration-color: #7f7f7f\">               </span>\n",
       "<span style=\"color: #7fbfbf; text-decoration-color: #7fbfbf\">                    </span>         array was expected. Please change the shape of y to <span style=\"font-weight: bold\">(</span>n_samples,<span style=\"font-weight: bold\">)</span>, for  <span style=\"color: #7f7f7f; text-decoration-color: #7f7f7f\">               </span>\n",
       "<span style=\"color: #7fbfbf; text-decoration-color: #7fbfbf\">                    </span>         example using <span style=\"color: #800080; text-decoration-color: #800080; font-weight: bold\">ravel</span><span style=\"font-weight: bold\">()</span>.                                                 <span style=\"color: #7f7f7f; text-decoration-color: #7f7f7f\">               </span>\n",
       "<span style=\"color: #7fbfbf; text-decoration-color: #7fbfbf\">                    </span>           return <span style=\"color: #800080; text-decoration-color: #800080; font-weight: bold\">fit_method</span><span style=\"font-weight: bold\">(</span>estimator, *args, **kwargs<span style=\"font-weight: bold\">)</span>                        <span style=\"color: #7f7f7f; text-decoration-color: #7f7f7f\">               </span>\n",
       "<span style=\"color: #7fbfbf; text-decoration-color: #7fbfbf\">                    </span>                                                                                <span style=\"color: #7f7f7f; text-decoration-color: #7f7f7f\">               </span>\n",
       "</pre>\n"
      ],
      "text/plain": [
       "\u001b[2;36m                   \u001b[0m\u001b[2;36m \u001b[0m\u001b[31mWARNING \u001b[0m C:\\Users\\dggua\\anaconda3\\envs\\test_env\\lib\\site-packages\\sklearn\\base. \u001b]8;id=749734;file://C:\\Users\\dggua\\anaconda3\\envs\\test_env\\lib\\warnings.py\u001b\\\u001b[2mwarnings.py\u001b[0m\u001b]8;;\u001b\\\u001b[2m:\u001b[0m\u001b]8;id=799132;file://C:\\Users\\dggua\\anaconda3\\envs\\test_env\\lib\\warnings.py#109\u001b\\\u001b[2m109\u001b[0m\u001b]8;;\u001b\\\n",
       "\u001b[2;36m                    \u001b[0m         py:\u001b[1;36m1351\u001b[0m: DataConversionWarning: A column-vector y was passed when a 1d \u001b[2m               \u001b[0m\n",
       "\u001b[2;36m                    \u001b[0m         array was expected. Please change the shape of y to \u001b[1m(\u001b[0mn_samples,\u001b[1m)\u001b[0m, for  \u001b[2m               \u001b[0m\n",
       "\u001b[2;36m                    \u001b[0m         example using \u001b[1;35mravel\u001b[0m\u001b[1m(\u001b[0m\u001b[1m)\u001b[0m.                                                 \u001b[2m               \u001b[0m\n",
       "\u001b[2;36m                    \u001b[0m           return \u001b[1;35mfit_method\u001b[0m\u001b[1m(\u001b[0mestimator, *args, **kwargs\u001b[1m)\u001b[0m                        \u001b[2m               \u001b[0m\n",
       "\u001b[2;36m                    \u001b[0m                                                                                \u001b[2m               \u001b[0m\n"
      ]
     },
     "metadata": {},
     "output_type": "display_data"
    },
    {
     "data": {
      "text/html": [
       "<pre style=\"white-space:pre;overflow-x:auto;line-height:normal;font-family:Menlo,'DejaVu Sans Mono',consolas,'Courier New',monospace\"><span style=\"color: #7fbfbf; text-decoration-color: #7fbfbf\">[06/22/24 16:18:16] </span><span style=\"color: #800000; text-decoration-color: #800000\">WARNING </span> C:\\Users\\dggua\\anaconda3\\envs\\test_env\\lib\\site-packages\\sklearn\\base. <a href=\"file://C:\\Users\\dggua\\anaconda3\\envs\\test_env\\lib\\warnings.py\" target=\"_blank\"><span style=\"color: #7f7f7f; text-decoration-color: #7f7f7f\">warnings.py</span></a><span style=\"color: #7f7f7f; text-decoration-color: #7f7f7f\">:</span><a href=\"file://C:\\Users\\dggua\\anaconda3\\envs\\test_env\\lib\\warnings.py#109\" target=\"_blank\"><span style=\"color: #7f7f7f; text-decoration-color: #7f7f7f\">109</span></a>\n",
       "<span style=\"color: #7fbfbf; text-decoration-color: #7fbfbf\">                    </span>         py:<span style=\"color: #008080; text-decoration-color: #008080; font-weight: bold\">1351</span>: DataConversionWarning: A column-vector y was passed when a 1d <span style=\"color: #7f7f7f; text-decoration-color: #7f7f7f\">               </span>\n",
       "<span style=\"color: #7fbfbf; text-decoration-color: #7fbfbf\">                    </span>         array was expected. Please change the shape of y to <span style=\"font-weight: bold\">(</span>n_samples,<span style=\"font-weight: bold\">)</span>, for  <span style=\"color: #7f7f7f; text-decoration-color: #7f7f7f\">               </span>\n",
       "<span style=\"color: #7fbfbf; text-decoration-color: #7fbfbf\">                    </span>         example using <span style=\"color: #800080; text-decoration-color: #800080; font-weight: bold\">ravel</span><span style=\"font-weight: bold\">()</span>.                                                 <span style=\"color: #7f7f7f; text-decoration-color: #7f7f7f\">               </span>\n",
       "<span style=\"color: #7fbfbf; text-decoration-color: #7fbfbf\">                    </span>           return <span style=\"color: #800080; text-decoration-color: #800080; font-weight: bold\">fit_method</span><span style=\"font-weight: bold\">(</span>estimator, *args, **kwargs<span style=\"font-weight: bold\">)</span>                        <span style=\"color: #7f7f7f; text-decoration-color: #7f7f7f\">               </span>\n",
       "<span style=\"color: #7fbfbf; text-decoration-color: #7fbfbf\">                    </span>                                                                                <span style=\"color: #7f7f7f; text-decoration-color: #7f7f7f\">               </span>\n",
       "</pre>\n"
      ],
      "text/plain": [
       "\u001b[2;36m[06/22/24 16:18:16]\u001b[0m\u001b[2;36m \u001b[0m\u001b[31mWARNING \u001b[0m C:\\Users\\dggua\\anaconda3\\envs\\test_env\\lib\\site-packages\\sklearn\\base. \u001b]8;id=992351;file://C:\\Users\\dggua\\anaconda3\\envs\\test_env\\lib\\warnings.py\u001b\\\u001b[2mwarnings.py\u001b[0m\u001b]8;;\u001b\\\u001b[2m:\u001b[0m\u001b]8;id=355994;file://C:\\Users\\dggua\\anaconda3\\envs\\test_env\\lib\\warnings.py#109\u001b\\\u001b[2m109\u001b[0m\u001b]8;;\u001b\\\n",
       "\u001b[2;36m                    \u001b[0m         py:\u001b[1;36m1351\u001b[0m: DataConversionWarning: A column-vector y was passed when a 1d \u001b[2m               \u001b[0m\n",
       "\u001b[2;36m                    \u001b[0m         array was expected. Please change the shape of y to \u001b[1m(\u001b[0mn_samples,\u001b[1m)\u001b[0m, for  \u001b[2m               \u001b[0m\n",
       "\u001b[2;36m                    \u001b[0m         example using \u001b[1;35mravel\u001b[0m\u001b[1m(\u001b[0m\u001b[1m)\u001b[0m.                                                 \u001b[2m               \u001b[0m\n",
       "\u001b[2;36m                    \u001b[0m           return \u001b[1;35mfit_method\u001b[0m\u001b[1m(\u001b[0mestimator, *args, **kwargs\u001b[1m)\u001b[0m                        \u001b[2m               \u001b[0m\n",
       "\u001b[2;36m                    \u001b[0m                                                                                \u001b[2m               \u001b[0m\n"
      ]
     },
     "metadata": {},
     "output_type": "display_data"
    },
    {
     "data": {
      "text/html": [
       "<pre style=\"white-space:pre;overflow-x:auto;line-height:normal;font-family:Menlo,'DejaVu Sans Mono',consolas,'Courier New',monospace\"><span style=\"color: #7fbfbf; text-decoration-color: #7fbfbf\">                    </span><span style=\"color: #800000; text-decoration-color: #800000\">WARNING </span> C:\\Users\\dggua\\anaconda3\\envs\\test_env\\lib\\site-packages\\sklearn\\base. <a href=\"file://C:\\Users\\dggua\\anaconda3\\envs\\test_env\\lib\\warnings.py\" target=\"_blank\"><span style=\"color: #7f7f7f; text-decoration-color: #7f7f7f\">warnings.py</span></a><span style=\"color: #7f7f7f; text-decoration-color: #7f7f7f\">:</span><a href=\"file://C:\\Users\\dggua\\anaconda3\\envs\\test_env\\lib\\warnings.py#109\" target=\"_blank\"><span style=\"color: #7f7f7f; text-decoration-color: #7f7f7f\">109</span></a>\n",
       "<span style=\"color: #7fbfbf; text-decoration-color: #7fbfbf\">                    </span>         py:<span style=\"color: #008080; text-decoration-color: #008080; font-weight: bold\">1351</span>: DataConversionWarning: A column-vector y was passed when a 1d <span style=\"color: #7f7f7f; text-decoration-color: #7f7f7f\">               </span>\n",
       "<span style=\"color: #7fbfbf; text-decoration-color: #7fbfbf\">                    </span>         array was expected. Please change the shape of y to <span style=\"font-weight: bold\">(</span>n_samples,<span style=\"font-weight: bold\">)</span>, for  <span style=\"color: #7f7f7f; text-decoration-color: #7f7f7f\">               </span>\n",
       "<span style=\"color: #7fbfbf; text-decoration-color: #7fbfbf\">                    </span>         example using <span style=\"color: #800080; text-decoration-color: #800080; font-weight: bold\">ravel</span><span style=\"font-weight: bold\">()</span>.                                                 <span style=\"color: #7f7f7f; text-decoration-color: #7f7f7f\">               </span>\n",
       "<span style=\"color: #7fbfbf; text-decoration-color: #7fbfbf\">                    </span>           return <span style=\"color: #800080; text-decoration-color: #800080; font-weight: bold\">fit_method</span><span style=\"font-weight: bold\">(</span>estimator, *args, **kwargs<span style=\"font-weight: bold\">)</span>                        <span style=\"color: #7f7f7f; text-decoration-color: #7f7f7f\">               </span>\n",
       "<span style=\"color: #7fbfbf; text-decoration-color: #7fbfbf\">                    </span>                                                                                <span style=\"color: #7f7f7f; text-decoration-color: #7f7f7f\">               </span>\n",
       "</pre>\n"
      ],
      "text/plain": [
       "\u001b[2;36m                   \u001b[0m\u001b[2;36m \u001b[0m\u001b[31mWARNING \u001b[0m C:\\Users\\dggua\\anaconda3\\envs\\test_env\\lib\\site-packages\\sklearn\\base. \u001b]8;id=186059;file://C:\\Users\\dggua\\anaconda3\\envs\\test_env\\lib\\warnings.py\u001b\\\u001b[2mwarnings.py\u001b[0m\u001b]8;;\u001b\\\u001b[2m:\u001b[0m\u001b]8;id=476401;file://C:\\Users\\dggua\\anaconda3\\envs\\test_env\\lib\\warnings.py#109\u001b\\\u001b[2m109\u001b[0m\u001b]8;;\u001b\\\n",
       "\u001b[2;36m                    \u001b[0m         py:\u001b[1;36m1351\u001b[0m: DataConversionWarning: A column-vector y was passed when a 1d \u001b[2m               \u001b[0m\n",
       "\u001b[2;36m                    \u001b[0m         array was expected. Please change the shape of y to \u001b[1m(\u001b[0mn_samples,\u001b[1m)\u001b[0m, for  \u001b[2m               \u001b[0m\n",
       "\u001b[2;36m                    \u001b[0m         example using \u001b[1;35mravel\u001b[0m\u001b[1m(\u001b[0m\u001b[1m)\u001b[0m.                                                 \u001b[2m               \u001b[0m\n",
       "\u001b[2;36m                    \u001b[0m           return \u001b[1;35mfit_method\u001b[0m\u001b[1m(\u001b[0mestimator, *args, **kwargs\u001b[1m)\u001b[0m                        \u001b[2m               \u001b[0m\n",
       "\u001b[2;36m                    \u001b[0m                                                                                \u001b[2m               \u001b[0m\n"
      ]
     },
     "metadata": {},
     "output_type": "display_data"
    },
    {
     "data": {
      "text/html": [
       "<pre style=\"white-space:pre;overflow-x:auto;line-height:normal;font-family:Menlo,'DejaVu Sans Mono',consolas,'Courier New',monospace\"><span style=\"color: #7fbfbf; text-decoration-color: #7fbfbf\">                    </span><span style=\"color: #800000; text-decoration-color: #800000\">WARNING </span> C:\\Users\\dggua\\anaconda3\\envs\\test_env\\lib\\site-packages\\sklearn\\base. <a href=\"file://C:\\Users\\dggua\\anaconda3\\envs\\test_env\\lib\\warnings.py\" target=\"_blank\"><span style=\"color: #7f7f7f; text-decoration-color: #7f7f7f\">warnings.py</span></a><span style=\"color: #7f7f7f; text-decoration-color: #7f7f7f\">:</span><a href=\"file://C:\\Users\\dggua\\anaconda3\\envs\\test_env\\lib\\warnings.py#109\" target=\"_blank\"><span style=\"color: #7f7f7f; text-decoration-color: #7f7f7f\">109</span></a>\n",
       "<span style=\"color: #7fbfbf; text-decoration-color: #7fbfbf\">                    </span>         py:<span style=\"color: #008080; text-decoration-color: #008080; font-weight: bold\">1351</span>: DataConversionWarning: A column-vector y was passed when a 1d <span style=\"color: #7f7f7f; text-decoration-color: #7f7f7f\">               </span>\n",
       "<span style=\"color: #7fbfbf; text-decoration-color: #7fbfbf\">                    </span>         array was expected. Please change the shape of y to <span style=\"font-weight: bold\">(</span>n_samples,<span style=\"font-weight: bold\">)</span>, for  <span style=\"color: #7f7f7f; text-decoration-color: #7f7f7f\">               </span>\n",
       "<span style=\"color: #7fbfbf; text-decoration-color: #7fbfbf\">                    </span>         example using <span style=\"color: #800080; text-decoration-color: #800080; font-weight: bold\">ravel</span><span style=\"font-weight: bold\">()</span>.                                                 <span style=\"color: #7f7f7f; text-decoration-color: #7f7f7f\">               </span>\n",
       "<span style=\"color: #7fbfbf; text-decoration-color: #7fbfbf\">                    </span>           return <span style=\"color: #800080; text-decoration-color: #800080; font-weight: bold\">fit_method</span><span style=\"font-weight: bold\">(</span>estimator, *args, **kwargs<span style=\"font-weight: bold\">)</span>                        <span style=\"color: #7f7f7f; text-decoration-color: #7f7f7f\">               </span>\n",
       "<span style=\"color: #7fbfbf; text-decoration-color: #7fbfbf\">                    </span>                                                                                <span style=\"color: #7f7f7f; text-decoration-color: #7f7f7f\">               </span>\n",
       "</pre>\n"
      ],
      "text/plain": [
       "\u001b[2;36m                   \u001b[0m\u001b[2;36m \u001b[0m\u001b[31mWARNING \u001b[0m C:\\Users\\dggua\\anaconda3\\envs\\test_env\\lib\\site-packages\\sklearn\\base. \u001b]8;id=925263;file://C:\\Users\\dggua\\anaconda3\\envs\\test_env\\lib\\warnings.py\u001b\\\u001b[2mwarnings.py\u001b[0m\u001b]8;;\u001b\\\u001b[2m:\u001b[0m\u001b]8;id=387586;file://C:\\Users\\dggua\\anaconda3\\envs\\test_env\\lib\\warnings.py#109\u001b\\\u001b[2m109\u001b[0m\u001b]8;;\u001b\\\n",
       "\u001b[2;36m                    \u001b[0m         py:\u001b[1;36m1351\u001b[0m: DataConversionWarning: A column-vector y was passed when a 1d \u001b[2m               \u001b[0m\n",
       "\u001b[2;36m                    \u001b[0m         array was expected. Please change the shape of y to \u001b[1m(\u001b[0mn_samples,\u001b[1m)\u001b[0m, for  \u001b[2m               \u001b[0m\n",
       "\u001b[2;36m                    \u001b[0m         example using \u001b[1;35mravel\u001b[0m\u001b[1m(\u001b[0m\u001b[1m)\u001b[0m.                                                 \u001b[2m               \u001b[0m\n",
       "\u001b[2;36m                    \u001b[0m           return \u001b[1;35mfit_method\u001b[0m\u001b[1m(\u001b[0mestimator, *args, **kwargs\u001b[1m)\u001b[0m                        \u001b[2m               \u001b[0m\n",
       "\u001b[2;36m                    \u001b[0m                                                                                \u001b[2m               \u001b[0m\n"
      ]
     },
     "metadata": {},
     "output_type": "display_data"
    },
    {
     "data": {
      "text/html": [
       "<pre style=\"white-space:pre;overflow-x:auto;line-height:normal;font-family:Menlo,'DejaVu Sans Mono',consolas,'Courier New',monospace\"><span style=\"color: #7fbfbf; text-decoration-color: #7fbfbf\">                    </span><span style=\"color: #800000; text-decoration-color: #800000\">WARNING </span> C:\\Users\\dggua\\anaconda3\\envs\\test_env\\lib\\site-packages\\sklearn\\base. <a href=\"file://C:\\Users\\dggua\\anaconda3\\envs\\test_env\\lib\\warnings.py\" target=\"_blank\"><span style=\"color: #7f7f7f; text-decoration-color: #7f7f7f\">warnings.py</span></a><span style=\"color: #7f7f7f; text-decoration-color: #7f7f7f\">:</span><a href=\"file://C:\\Users\\dggua\\anaconda3\\envs\\test_env\\lib\\warnings.py#109\" target=\"_blank\"><span style=\"color: #7f7f7f; text-decoration-color: #7f7f7f\">109</span></a>\n",
       "<span style=\"color: #7fbfbf; text-decoration-color: #7fbfbf\">                    </span>         py:<span style=\"color: #008080; text-decoration-color: #008080; font-weight: bold\">1351</span>: DataConversionWarning: A column-vector y was passed when a 1d <span style=\"color: #7f7f7f; text-decoration-color: #7f7f7f\">               </span>\n",
       "<span style=\"color: #7fbfbf; text-decoration-color: #7fbfbf\">                    </span>         array was expected. Please change the shape of y to <span style=\"font-weight: bold\">(</span>n_samples,<span style=\"font-weight: bold\">)</span>, for  <span style=\"color: #7f7f7f; text-decoration-color: #7f7f7f\">               </span>\n",
       "<span style=\"color: #7fbfbf; text-decoration-color: #7fbfbf\">                    </span>         example using <span style=\"color: #800080; text-decoration-color: #800080; font-weight: bold\">ravel</span><span style=\"font-weight: bold\">()</span>.                                                 <span style=\"color: #7f7f7f; text-decoration-color: #7f7f7f\">               </span>\n",
       "<span style=\"color: #7fbfbf; text-decoration-color: #7fbfbf\">                    </span>           return <span style=\"color: #800080; text-decoration-color: #800080; font-weight: bold\">fit_method</span><span style=\"font-weight: bold\">(</span>estimator, *args, **kwargs<span style=\"font-weight: bold\">)</span>                        <span style=\"color: #7f7f7f; text-decoration-color: #7f7f7f\">               </span>\n",
       "<span style=\"color: #7fbfbf; text-decoration-color: #7fbfbf\">                    </span>                                                                                <span style=\"color: #7f7f7f; text-decoration-color: #7f7f7f\">               </span>\n",
       "</pre>\n"
      ],
      "text/plain": [
       "\u001b[2;36m                   \u001b[0m\u001b[2;36m \u001b[0m\u001b[31mWARNING \u001b[0m C:\\Users\\dggua\\anaconda3\\envs\\test_env\\lib\\site-packages\\sklearn\\base. \u001b]8;id=761529;file://C:\\Users\\dggua\\anaconda3\\envs\\test_env\\lib\\warnings.py\u001b\\\u001b[2mwarnings.py\u001b[0m\u001b]8;;\u001b\\\u001b[2m:\u001b[0m\u001b]8;id=987658;file://C:\\Users\\dggua\\anaconda3\\envs\\test_env\\lib\\warnings.py#109\u001b\\\u001b[2m109\u001b[0m\u001b]8;;\u001b\\\n",
       "\u001b[2;36m                    \u001b[0m         py:\u001b[1;36m1351\u001b[0m: DataConversionWarning: A column-vector y was passed when a 1d \u001b[2m               \u001b[0m\n",
       "\u001b[2;36m                    \u001b[0m         array was expected. Please change the shape of y to \u001b[1m(\u001b[0mn_samples,\u001b[1m)\u001b[0m, for  \u001b[2m               \u001b[0m\n",
       "\u001b[2;36m                    \u001b[0m         example using \u001b[1;35mravel\u001b[0m\u001b[1m(\u001b[0m\u001b[1m)\u001b[0m.                                                 \u001b[2m               \u001b[0m\n",
       "\u001b[2;36m                    \u001b[0m           return \u001b[1;35mfit_method\u001b[0m\u001b[1m(\u001b[0mestimator, *args, **kwargs\u001b[1m)\u001b[0m                        \u001b[2m               \u001b[0m\n",
       "\u001b[2;36m                    \u001b[0m                                                                                \u001b[2m               \u001b[0m\n"
      ]
     },
     "metadata": {},
     "output_type": "display_data"
    },
    {
     "data": {
      "text/html": [
       "<pre style=\"white-space:pre;overflow-x:auto;line-height:normal;font-family:Menlo,'DejaVu Sans Mono',consolas,'Courier New',monospace\"><span style=\"color: #7fbfbf; text-decoration-color: #7fbfbf\">                    </span><span style=\"color: #800000; text-decoration-color: #800000\">WARNING </span> C:\\Users\\dggua\\anaconda3\\envs\\test_env\\lib\\site-packages\\sklearn\\base. <a href=\"file://C:\\Users\\dggua\\anaconda3\\envs\\test_env\\lib\\warnings.py\" target=\"_blank\"><span style=\"color: #7f7f7f; text-decoration-color: #7f7f7f\">warnings.py</span></a><span style=\"color: #7f7f7f; text-decoration-color: #7f7f7f\">:</span><a href=\"file://C:\\Users\\dggua\\anaconda3\\envs\\test_env\\lib\\warnings.py#109\" target=\"_blank\"><span style=\"color: #7f7f7f; text-decoration-color: #7f7f7f\">109</span></a>\n",
       "<span style=\"color: #7fbfbf; text-decoration-color: #7fbfbf\">                    </span>         py:<span style=\"color: #008080; text-decoration-color: #008080; font-weight: bold\">1351</span>: DataConversionWarning: A column-vector y was passed when a 1d <span style=\"color: #7f7f7f; text-decoration-color: #7f7f7f\">               </span>\n",
       "<span style=\"color: #7fbfbf; text-decoration-color: #7fbfbf\">                    </span>         array was expected. Please change the shape of y to <span style=\"font-weight: bold\">(</span>n_samples,<span style=\"font-weight: bold\">)</span>, for  <span style=\"color: #7f7f7f; text-decoration-color: #7f7f7f\">               </span>\n",
       "<span style=\"color: #7fbfbf; text-decoration-color: #7fbfbf\">                    </span>         example using <span style=\"color: #800080; text-decoration-color: #800080; font-weight: bold\">ravel</span><span style=\"font-weight: bold\">()</span>.                                                 <span style=\"color: #7f7f7f; text-decoration-color: #7f7f7f\">               </span>\n",
       "<span style=\"color: #7fbfbf; text-decoration-color: #7fbfbf\">                    </span>           return <span style=\"color: #800080; text-decoration-color: #800080; font-weight: bold\">fit_method</span><span style=\"font-weight: bold\">(</span>estimator, *args, **kwargs<span style=\"font-weight: bold\">)</span>                        <span style=\"color: #7f7f7f; text-decoration-color: #7f7f7f\">               </span>\n",
       "<span style=\"color: #7fbfbf; text-decoration-color: #7fbfbf\">                    </span>                                                                                <span style=\"color: #7f7f7f; text-decoration-color: #7f7f7f\">               </span>\n",
       "</pre>\n"
      ],
      "text/plain": [
       "\u001b[2;36m                   \u001b[0m\u001b[2;36m \u001b[0m\u001b[31mWARNING \u001b[0m C:\\Users\\dggua\\anaconda3\\envs\\test_env\\lib\\site-packages\\sklearn\\base. \u001b]8;id=145523;file://C:\\Users\\dggua\\anaconda3\\envs\\test_env\\lib\\warnings.py\u001b\\\u001b[2mwarnings.py\u001b[0m\u001b]8;;\u001b\\\u001b[2m:\u001b[0m\u001b]8;id=762389;file://C:\\Users\\dggua\\anaconda3\\envs\\test_env\\lib\\warnings.py#109\u001b\\\u001b[2m109\u001b[0m\u001b]8;;\u001b\\\n",
       "\u001b[2;36m                    \u001b[0m         py:\u001b[1;36m1351\u001b[0m: DataConversionWarning: A column-vector y was passed when a 1d \u001b[2m               \u001b[0m\n",
       "\u001b[2;36m                    \u001b[0m         array was expected. Please change the shape of y to \u001b[1m(\u001b[0mn_samples,\u001b[1m)\u001b[0m, for  \u001b[2m               \u001b[0m\n",
       "\u001b[2;36m                    \u001b[0m         example using \u001b[1;35mravel\u001b[0m\u001b[1m(\u001b[0m\u001b[1m)\u001b[0m.                                                 \u001b[2m               \u001b[0m\n",
       "\u001b[2;36m                    \u001b[0m           return \u001b[1;35mfit_method\u001b[0m\u001b[1m(\u001b[0mestimator, *args, **kwargs\u001b[1m)\u001b[0m                        \u001b[2m               \u001b[0m\n",
       "\u001b[2;36m                    \u001b[0m                                                                                \u001b[2m               \u001b[0m\n"
      ]
     },
     "metadata": {},
     "output_type": "display_data"
    },
    {
     "name": "stdout",
     "output_type": "stream",
     "text": [
      "Loading model from: runs:/d3b13de3b9024980b12f9f162e2c2666/model\n"
     ]
    }
   ],
   "source": [
    "from sklearn.model_selection import GridSearchCV\n",
    "mlflow.autolog(log_model_signatures=True, log_input_examples=True)\n",
    "params = {\n",
    "  \"n_estimators\": [33, 66, 200],\n",
    "  \"max_depth\": [2, 4, 6],\n",
    "  \"max_features\": [3, 4, 5]\n",
    "}\n",
    "\n",
    "rf = RandomForestRegressor()\n",
    "searcher = GridSearchCV(estimator=rf, param_grid=params)\n",
    "\n",
    "with mlflow.start_run(run_name=\"autolog_with_grid_search\") as run:\n",
    "  searcher.fit(X_train, y_train)\n",
    "mlflow.end_run()\n",
    "\n",
    "# get model path from run id\n",
    "run_id = run.info.run_id\n",
    "model_path = f\"runs:/{run_id}/model\"\n",
    "print(f\"Loading model from: {model_path}\")"
   ]
  },
  {
   "cell_type": "code",
   "execution_count": 18,
   "id": "14f2a45b-67ec-48eb-9eb3-591bc18a43b1",
   "metadata": {},
   "outputs": [
    {
     "name": "stderr",
     "output_type": "stream",
     "text": [
      "Successfully registered model 'sk-learn-random-forest-reg'.\n",
      "2024/06/22 16:20:55 INFO mlflow.store.model_registry.abstract_store: Waiting up to 300 seconds for model version to finish creation. Model name: sk-learn-random-forest-reg, version 1\n",
      "Created version '1' of model 'sk-learn-random-forest-reg'.\n"
     ]
    }
   ],
   "source": [
    "result = mlflow.register_model(\n",
    "    model_path, \"sk-learn-random-forest-reg\"\n",
    ")"
   ]
  },
  {
   "cell_type": "code",
   "execution_count": 19,
   "id": "3412f248-e9d9-4e14-91ae-0dfe698f00de",
   "metadata": {},
   "outputs": [],
   "source": [
    "from mlflow import MlflowClient\n",
    "\n",
    "client = MlflowClient()"
   ]
  },
  {
   "cell_type": "code",
   "execution_count": 20,
   "id": "2931c190-3eb3-4972-bec0-8cb8b2bdae8a",
   "metadata": {},
   "outputs": [],
   "source": [
    "# Set registered model tag\n",
    "client.set_registered_model_tag(\"sk-learn-random-forest-reg\", \"task\", \"classification\")"
   ]
  },
  {
   "cell_type": "code",
   "execution_count": 21,
   "id": "f59ea42c-eb86-4ad5-9171-3eb67eab1d1e",
   "metadata": {},
   "outputs": [],
   "source": [
    "# Set model version tag\n",
    "client.set_model_version_tag(\"sk-learn-random-forest-reg\", \"1\", \"validation_status\", \"approved\")"
   ]
  },
  {
   "cell_type": "code",
   "execution_count": 22,
   "id": "16a14672-1383-46f6-a9d0-12c7366debdd",
   "metadata": {},
   "outputs": [],
   "source": [
    "#create \"champion\" alias for version 1 of model \n",
    "client.set_registered_model_alias(\"sk-learn-random-forest-reg\", \"Champion\", \"1\")"
   ]
  },
  {
   "cell_type": "code",
   "execution_count": 23,
   "id": "a4ca71d2-493e-4b26-b0ec-197fd2ff0f37",
   "metadata": {},
   "outputs": [],
   "source": [
    "# get a model version by alias\n",
    "model_champion = client.get_model_version_by_alias(\"sk-learn-random-forest-reg\", \"Champion\")"
   ]
  },
  {
   "cell_type": "code",
   "execution_count": 24,
   "id": "10cf85d3-ce5f-45f6-99d1-c2b96e1699a4",
   "metadata": {},
   "outputs": [],
   "source": [
    "# delete the alias\n",
    "client.delete_registered_model_alias(\"sk-learn-random-forest-reg\", \"Champion\")"
   ]
  },
  {
   "cell_type": "code",
   "execution_count": 25,
   "id": "6068d533-59ee-4cb7-bc5b-04c8d9fb9ef3",
   "metadata": {},
   "outputs": [
    {
     "name": "stdout",
     "output_type": "stream",
     "text": [
      "Loading model from: runs:/d3b13de3b9024980b12f9f162e2c2666/model\n"
     ]
    }
   ],
   "source": [
    "# get model path from run id\n",
    "run_id = run.info.run_id\n",
    "model_path = f\"runs:/{run_id}/model\"\n",
    "print(f\"Loading model from: {model_path}\")"
   ]
  },
  {
   "cell_type": "code",
   "execution_count": 26,
   "id": "12d96412-01fa-436e-82b4-3d810e72d66d",
   "metadata": {},
   "outputs": [
    {
     "data": {
      "application/vnd.jupyter.widget-view+json": {
       "model_id": "b199960224324d8a8beb025e9d3cddaf",
       "version_major": 2,
       "version_minor": 0
      },
      "text/plain": [
       "Downloading artifacts:   0%|          | 0/1 [00:00<?, ?it/s]"
      ]
     },
     "metadata": {},
     "output_type": "display_data"
    },
    {
     "data": {
      "text/html": [
       "<pre style=\"white-space:pre;overflow-x:auto;line-height:normal;font-family:Menlo,'DejaVu Sans Mono',consolas,'Courier New',monospace\"><span style=\"color: #800000; text-decoration-color: #800000\">╭─────────────────────────────── </span><span style=\"color: #800000; text-decoration-color: #800000; font-weight: bold\">Traceback </span><span style=\"color: #bf7f7f; text-decoration-color: #bf7f7f; font-weight: bold\">(most recent call last)</span><span style=\"color: #800000; text-decoration-color: #800000\"> ────────────────────────────────╮</span>\n",
       "<span style=\"color: #800000; text-decoration-color: #800000\">│</span> in <span style=\"color: #00ff00; text-decoration-color: #00ff00\">&lt;module&gt;</span>:<span style=\"color: #0000ff; text-decoration-color: #0000ff\">2</span>                                                                                    <span style=\"color: #800000; text-decoration-color: #800000\">│</span>\n",
       "<span style=\"color: #800000; text-decoration-color: #800000\">│</span>                                                                                                  <span style=\"color: #800000; text-decoration-color: #800000\">│</span>\n",
       "<span style=\"color: #800000; text-decoration-color: #800000\">│</span>   <span style=\"color: #7f7f7f; text-decoration-color: #7f7f7f\">1 # load using sklearn flavor</span>                                                                  <span style=\"color: #800000; text-decoration-color: #800000\">│</span>\n",
       "<span style=\"color: #800000; text-decoration-color: #800000\">│</span> <span style=\"color: #800000; text-decoration-color: #800000\">❱ </span>2 loaded_model = mlflow.sklearn.load_model(model_path)                                         <span style=\"color: #800000; text-decoration-color: #800000\">│</span>\n",
       "<span style=\"color: #800000; text-decoration-color: #800000\">│</span>   <span style=\"color: #7f7f7f; text-decoration-color: #7f7f7f\">3 </span>                                                                                             <span style=\"color: #800000; text-decoration-color: #800000\">│</span>\n",
       "<span style=\"color: #800000; text-decoration-color: #800000\">│</span>                                                                                                  <span style=\"color: #800000; text-decoration-color: #800000\">│</span>\n",
       "<span style=\"color: #800000; text-decoration-color: #800000\">│</span> <span style=\"color: #808000; text-decoration-color: #808000\">C:\\Users\\dggua\\anaconda3\\envs\\test_env\\lib\\site-packages\\mlflow\\sklearn\\__init__.py</span>:<span style=\"color: #0000ff; text-decoration-color: #0000ff\">631</span> in       <span style=\"color: #800000; text-decoration-color: #800000\">│</span>\n",
       "<span style=\"color: #800000; text-decoration-color: #800000\">│</span> <span style=\"color: #00ff00; text-decoration-color: #00ff00\">load_model</span>                                                                                       <span style=\"color: #800000; text-decoration-color: #800000\">│</span>\n",
       "<span style=\"color: #800000; text-decoration-color: #800000\">│</span>                                                                                                  <span style=\"color: #800000; text-decoration-color: #800000\">│</span>\n",
       "<span style=\"color: #800000; text-decoration-color: #800000\">│</span> <span style=\"color: #808000; text-decoration-color: #808000\">C:\\Users\\dggua\\anaconda3\\envs\\test_env\\lib\\site-packages\\mlflow\\tracking\\artifact_utils.py</span>:<span style=\"color: #0000ff; text-decoration-color: #0000ff\">105</span>   <span style=\"color: #800000; text-decoration-color: #800000\">│</span>\n",
       "<span style=\"color: #800000; text-decoration-color: #800000\">│</span> in <span style=\"color: #00ff00; text-decoration-color: #00ff00\">_download_artifact_from_uri</span>                                                                   <span style=\"color: #800000; text-decoration-color: #800000\">│</span>\n",
       "<span style=\"color: #800000; text-decoration-color: #800000\">│</span>                                                                                                  <span style=\"color: #800000; text-decoration-color: #800000\">│</span>\n",
       "<span style=\"color: #800000; text-decoration-color: #800000\">│</span> <span style=\"color: #808000; text-decoration-color: #808000\">C:\\Users\\dggua\\anaconda3\\envs\\test_env\\lib\\site-packages\\mlflow\\store\\artifact\\runs_artifact_rep</span> <span style=\"color: #800000; text-decoration-color: #800000\">│</span>\n",
       "<span style=\"color: #800000; text-decoration-color: #800000\">│</span> <span style=\"color: #808000; text-decoration-color: #808000\">o.py</span>:<span style=\"color: #0000ff; text-decoration-color: #0000ff\">131</span> in <span style=\"color: #00ff00; text-decoration-color: #00ff00\">download_artifacts</span>                                                                   <span style=\"color: #800000; text-decoration-color: #800000\">│</span>\n",
       "<span style=\"color: #800000; text-decoration-color: #800000\">│</span>                                                                                                  <span style=\"color: #800000; text-decoration-color: #800000\">│</span>\n",
       "<span style=\"color: #800000; text-decoration-color: #800000\">│</span> <span style=\"color: #808000; text-decoration-color: #808000\">C:\\Users\\dggua\\anaconda3\\envs\\test_env\\lib\\site-packages\\mlflow\\store\\artifact\\artifact_repo.py</span>: <span style=\"color: #800000; text-decoration-color: #800000\">│</span>\n",
       "<span style=\"color: #800000; text-decoration-color: #800000\">│</span> <span style=\"color: #0000ff; text-decoration-color: #0000ff\">230</span> in <span style=\"color: #00ff00; text-decoration-color: #00ff00\">download_artifacts</span>                                                                        <span style=\"color: #800000; text-decoration-color: #800000\">│</span>\n",
       "<span style=\"color: #800000; text-decoration-color: #800000\">╰──────────────────────────────────────────────────────────────────────────────────────────────────╯</span>\n",
       "<span style=\"color: #ff0000; text-decoration-color: #ff0000; font-weight: bold\">MlflowException: </span>The following failures occurred while downloading one or more artifacts from \n",
       "<span style=\"color: #0000ff; text-decoration-color: #0000ff; text-decoration: underline\">http://127.0.0.1:5000/api/2.0/mlflow-artifacts/artifacts/861406686854474306/d3b13de3b9024980b12f9f162e2c2666/artifa</span>\n",
       "<span style=\"color: #0000ff; text-decoration-color: #0000ff; text-decoration: underline\">cts:</span>\n",
       "##### File model #####\n",
       "API request to \n",
       "<span style=\"color: #0000ff; text-decoration-color: #0000ff; text-decoration: underline\">http://127.0.0.1:5000/api/2.0/mlflow-artifacts/artifacts/861406686854474306/d3b13de3b9024980b12f9f162e2c2666/artifa</span>\n",
       "<span style=\"color: #0000ff; text-decoration-color: #0000ff; text-decoration: underline\">cts/model</span> failed with exception <span style=\"color: #800080; text-decoration-color: #800080; font-weight: bold\">HTTPConnectionPool</span><span style=\"font-weight: bold\">(</span><span style=\"color: #808000; text-decoration-color: #808000\">host</span>=<span style=\"color: #008000; text-decoration-color: #008000\">'127.0.0.1'</span>, <span style=\"color: #808000; text-decoration-color: #808000\">port</span>=<span style=\"color: #008080; text-decoration-color: #008080; font-weight: bold\">5000</span><span style=\"font-weight: bold\">)</span>: Max retries exceeded with url: \n",
       "<span style=\"color: #800080; text-decoration-color: #800080\">/api/2.0/mlflow-artifacts/artifacts/861406686854474306/d3b13de3b9024980b12f9f162e2c2666/artifacts/</span><span style=\"color: #ff00ff; text-decoration-color: #ff00ff\">model</span> <span style=\"font-weight: bold\">(</span>Caused by \n",
       "<span style=\"color: #800080; text-decoration-color: #800080; font-weight: bold\">ResponseError</span><span style=\"font-weight: bold\">(</span><span style=\"color: #008000; text-decoration-color: #008000\">'too many 500 error responses'</span><span style=\"font-weight: bold\">))</span>\n",
       "</pre>\n"
      ],
      "text/plain": [
       "\u001b[31m╭─\u001b[0m\u001b[31m──────────────────────────────\u001b[0m\u001b[31m \u001b[0m\u001b[1;31mTraceback \u001b[0m\u001b[1;2;31m(most recent call last)\u001b[0m\u001b[31m \u001b[0m\u001b[31m───────────────────────────────\u001b[0m\u001b[31m─╮\u001b[0m\n",
       "\u001b[31m│\u001b[0m in \u001b[92m<module>\u001b[0m:\u001b[94m2\u001b[0m                                                                                    \u001b[31m│\u001b[0m\n",
       "\u001b[31m│\u001b[0m                                                                                                  \u001b[31m│\u001b[0m\n",
       "\u001b[31m│\u001b[0m   \u001b[2m1 \u001b[0m\u001b[2m# load using sklearn flavor\u001b[0m                                                                  \u001b[31m│\u001b[0m\n",
       "\u001b[31m│\u001b[0m \u001b[31m❱ \u001b[0m2 loaded_model = mlflow.sklearn.load_model(model_path)                                         \u001b[31m│\u001b[0m\n",
       "\u001b[31m│\u001b[0m   \u001b[2m3 \u001b[0m                                                                                             \u001b[31m│\u001b[0m\n",
       "\u001b[31m│\u001b[0m                                                                                                  \u001b[31m│\u001b[0m\n",
       "\u001b[31m│\u001b[0m \u001b[33mC:\\Users\\dggua\\anaconda3\\envs\\test_env\\lib\\site-packages\\mlflow\\sklearn\\__init__.py\u001b[0m:\u001b[94m631\u001b[0m in       \u001b[31m│\u001b[0m\n",
       "\u001b[31m│\u001b[0m \u001b[92mload_model\u001b[0m                                                                                       \u001b[31m│\u001b[0m\n",
       "\u001b[31m│\u001b[0m                                                                                                  \u001b[31m│\u001b[0m\n",
       "\u001b[31m│\u001b[0m \u001b[33mC:\\Users\\dggua\\anaconda3\\envs\\test_env\\lib\\site-packages\\mlflow\\tracking\\artifact_utils.py\u001b[0m:\u001b[94m105\u001b[0m   \u001b[31m│\u001b[0m\n",
       "\u001b[31m│\u001b[0m in \u001b[92m_download_artifact_from_uri\u001b[0m                                                                   \u001b[31m│\u001b[0m\n",
       "\u001b[31m│\u001b[0m                                                                                                  \u001b[31m│\u001b[0m\n",
       "\u001b[31m│\u001b[0m \u001b[33mC:\\Users\\dggua\\anaconda3\\envs\\test_env\\lib\\site-packages\\mlflow\\store\\artifact\\runs_artifact_rep\u001b[0m \u001b[31m│\u001b[0m\n",
       "\u001b[31m│\u001b[0m \u001b[33mo.py\u001b[0m:\u001b[94m131\u001b[0m in \u001b[92mdownload_artifacts\u001b[0m                                                                   \u001b[31m│\u001b[0m\n",
       "\u001b[31m│\u001b[0m                                                                                                  \u001b[31m│\u001b[0m\n",
       "\u001b[31m│\u001b[0m \u001b[33mC:\\Users\\dggua\\anaconda3\\envs\\test_env\\lib\\site-packages\\mlflow\\store\\artifact\\artifact_repo.py\u001b[0m: \u001b[31m│\u001b[0m\n",
       "\u001b[31m│\u001b[0m \u001b[94m230\u001b[0m in \u001b[92mdownload_artifacts\u001b[0m                                                                        \u001b[31m│\u001b[0m\n",
       "\u001b[31m╰──────────────────────────────────────────────────────────────────────────────────────────────────╯\u001b[0m\n",
       "\u001b[1;91mMlflowException: \u001b[0mThe following failures occurred while downloading one or more artifacts from \n",
       "\u001b[4;94mhttp://127.0.0.1:5000/api/2.0/mlflow-artifacts/artifacts/861406686854474306/d3b13de3b9024980b12f9f162e2c2666/artifa\u001b[0m\n",
       "\u001b[4;94mcts:\u001b[0m\n",
       "##### File model #####\n",
       "API request to \n",
       "\u001b[4;94mhttp://127.0.0.1:5000/api/2.0/mlflow-artifacts/artifacts/861406686854474306/d3b13de3b9024980b12f9f162e2c2666/artifa\u001b[0m\n",
       "\u001b[4;94mcts/model\u001b[0m failed with exception \u001b[1;35mHTTPConnectionPool\u001b[0m\u001b[1m(\u001b[0m\u001b[33mhost\u001b[0m=\u001b[32m'127.0.0.1'\u001b[0m, \u001b[33mport\u001b[0m=\u001b[1;36m5000\u001b[0m\u001b[1m)\u001b[0m: Max retries exceeded with url: \n",
       "\u001b[35m/api/2.0/mlflow-artifacts/artifacts/861406686854474306/d3b13de3b9024980b12f9f162e2c2666/artifacts/\u001b[0m\u001b[95mmodel\u001b[0m \u001b[1m(\u001b[0mCaused by \n",
       "\u001b[1;35mResponseError\u001b[0m\u001b[1m(\u001b[0m\u001b[32m'too many 500 error responses'\u001b[0m\u001b[1m)\u001b[0m\u001b[1m)\u001b[0m\n"
      ]
     },
     "metadata": {},
     "output_type": "display_data"
    }
   ],
   "source": [
    "# load using sklearn flavor\n",
    "loaded_model = mlflow.sklearn.load_model(model_path)"
   ]
  },
  {
   "cell_type": "code",
   "execution_count": null,
   "id": "ef29987e-7100-4e7d-b5c2-d895177b76f3",
   "metadata": {},
   "outputs": [],
   "source": [
    "# load using sklearn flavor\n",
    "loaded_model = mlflow.sklearn.load_model(model_path)\n",
    "\n",
    "print(\"Showing predictions\")\n",
    "print(loaded_model.predict(X_test))"
   ]
  }
 ],
 "metadata": {
  "kernelspec": {
   "display_name": "Python 3 (ipykernel)",
   "language": "python",
   "name": "python3"
  },
  "language_info": {
   "codemirror_mode": {
    "name": "ipython",
    "version": 3
   },
   "file_extension": ".py",
   "mimetype": "text/x-python",
   "name": "python",
   "nbconvert_exporter": "python",
   "pygments_lexer": "ipython3",
   "version": "3.10.14"
  }
 },
 "nbformat": 4,
 "nbformat_minor": 5
}
